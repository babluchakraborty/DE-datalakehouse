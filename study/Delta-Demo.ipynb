{
 "cells": [
  {
   "cell_type": "markdown",
   "metadata": {
    "application/vnd.databricks.v1+cell": {
     "cellMetadata": {},
     "inputWidgets": {},
     "nuid": "8181edd6-eddc-4f60-a412-3dbf5b01ab74",
     "showTitle": false,
     "tableResultSettingsMap": {},
     "title": ""
    }
   },
   "source": [
    "# Delta Lake in Databricks\n",
    "### Efficient Storage and Warehousing Capabilities\n",
    "\n",
    "Delta Lake is an open-source storage layer that brings **reliability** and **performance** to data lakes, combining the best of data lakes and data warehouses. It helps solve common challenges related to:\n",
    "\n",
    "1. **Data Quality**: Delta Lake provides ACID (Atomicity, Consistency, Isolation, Durability) transactions, ensuring data integrity and reliability.\n",
    "2. **Efficient Storage**: Delta Lake uses efficient data compression and partitioning techniques to reduce storage costs and improve read/write performance.\n",
    "3. **Data Versioning**: Delta Lake maintains a version history of your data, making it easy to perform time travel queries or roll back changes.\n",
    "4. **Schema Enforcement and Evolution**: It provides automatic schema validation and supports schema changes without breaking existing data pipelines.\n",
    "5. **Real-Time Analytics**: Delta supports both batch and streaming data, enabling near real-time analytics.\n",
    "6. **Warehouse-Grade Performance**: Built-in optimizations ensure faster query performance, especially for large-scale datasets.\n",
    "\n",
    "With these features, Delta Lake in Databricks enables scalable, cost-effective, and high-performance data lake storage while offering the governance and performance capabilities of a data warehouse.\n"
   ]
  },
  {
   "cell_type": "markdown",
   "metadata": {
    "application/vnd.databricks.v1+cell": {
     "cellMetadata": {},
     "inputWidgets": {},
     "nuid": "8b22dee2-2f96-43f4-a6ef-e2fa2e7e6d3e",
     "showTitle": false,
     "tableResultSettingsMap": {},
     "title": ""
    }
   },
   "source": [
    "####Read Data from an existing table"
   ]
  },
  {
   "cell_type": "code",
   "execution_count": 0,
   "metadata": {
    "application/vnd.databricks.v1+cell": {
     "cellMetadata": {
      "byteLimit": 2048000,
      "rowLimit": 10000
     },
     "inputWidgets": {},
     "nuid": "05a1b91d-dc44-402f-a483-405e09e592ec",
     "showTitle": false,
     "tableResultSettingsMap": {},
     "title": ""
    }
   },
   "outputs": [
    {
     "output_type": "display_data",
     "data": {
      "text/html": [
       "<style scoped>\n",
       "  .table-result-container {\n",
       "    max-height: 300px;\n",
       "    overflow: auto;\n",
       "  }\n",
       "  table, th, td {\n",
       "    border: 1px solid black;\n",
       "    border-collapse: collapse;\n",
       "  }\n",
       "  th, td {\n",
       "    padding: 5px;\n",
       "  }\n",
       "  th {\n",
       "    text-align: left;\n",
       "  }\n",
       "</style><div class='table-result-container'><table class='table-result'><thead style='background-color: white'><tr><th>productID</th><th>productName</th><th>subCategory</th><th>category</th><th>source</th><th>ingestionTimestamp</th></tr></thead><tbody><tr><td>TEC-PH-10000486</td><td>Plantronics HL10 Handset Lifter</td><td>Phones</td><td>Technology</td><td>Retail CSV</td><td>2024-09-09T19:36:52.229Z</td></tr><tr><td>TEC-AC-10003832</td><td>Logitech P710e Mobile Speakerphone</td><td>Accessories</td><td>Technology</td><td>Retail CSV</td><td>2024-09-09T19:36:52.229Z</td></tr><tr><td>TEC-AC-10002076</td><td>Microsoft Natural Keyboard Elite</td><td>Accessories</td><td>Technology</td><td>Retail CSV</td><td>2024-09-09T19:36:52.229Z</td></tr><tr><td>TEC-PH-10004667</td><td>Cisco 8x8 Inc. 6753i IP Business Phone System</td><td>Phones</td><td>Technology</td><td>Retail CSV</td><td>2024-09-09T19:36:52.229Z</td></tr><tr><td>OFF-BI-10000545</td><td>GBC Ibimaster 500 Manual ProClick Binding System</td><td>Binders</td><td>Office Supplies</td><td>Retail CSV</td><td>2024-09-09T19:36:52.229Z</td></tr><tr><td>OFF-PA-10003543</td><td>Xerox 1985</td><td>Paper</td><td>Office Supplies</td><td>Retail CSV</td><td>2024-09-09T19:36:52.229Z</td></tr><tr><td>OFF-PA-10000994</td><td>Xerox 1915</td><td>Paper</td><td>Office Supplies</td><td>Retail CSV</td><td>2024-09-09T19:36:52.229Z</td></tr><tr><td>FUR-TA-10003008</td><td>Lesro Round Back Collection Coffee Table, End Table</td><td>Tables</td><td>Furniture</td><td>Retail CSV</td><td>2024-09-09T19:36:52.229Z</td></tr><tr><td>OFF-PA-10002464</td><td>HP Office Recycled Paper (20Lb. and 87 Bright)</td><td>Paper</td><td>Office Supplies</td><td>Retail CSV</td><td>2024-09-09T19:36:52.229Z</td></tr><tr><td>TEC-AC-10001109</td><td>Logitech Trackman Marble Mouse</td><td>Accessories</td><td>Technology</td><td>Retail CSV</td><td>2024-09-09T19:36:52.229Z</td></tr><tr><td>FUR-FU-10004904</td><td>\"Eldon \"\"L\"\" Workstation Diamond Chairmat\"</td><td>Furnishings</td><td>Furniture</td><td>Retail CSV</td><td>2024-09-09T19:36:52.229Z</td></tr><tr><td>OFF-PA-10000246</td><td>Riverleaf Stik-Withit Designer Note Cubes</td><td>Paper</td><td>Office Supplies</td><td>Retail CSV</td><td>2024-09-09T19:36:52.229Z</td></tr><tr><td>OFF-LA-10003388</td><td>Avery 5</td><td>Labels</td><td>Office Supplies</td><td>Retail CSV</td><td>2024-09-09T19:36:52.229Z</td></tr><tr><td>TEC-MA-10003673</td><td>Hewlett-Packard Desktjet 6988DT Refurbished Printer</td><td>Machines</td><td>Technology</td><td>Retail CSV</td><td>2024-09-09T19:36:52.229Z</td></tr><tr><td>OFF-BI-10001890</td><td>Avery Poly Binder Pockets</td><td>Binders</td><td>Office Supplies</td><td>Retail CSV</td><td>2024-09-09T19:36:52.229Z</td></tr><tr><td>OFF-BI-10000136</td><td>Avery Non-Stick Heavy Duty View Round Locking Ring Binders</td><td>Binders</td><td>Office Supplies</td><td>Retail CSV</td><td>2024-09-09T19:36:52.229Z</td></tr><tr><td>TEC-AC-10002018</td><td>AmazonBasics 3-Button USB Wired Mouse</td><td>Accessories</td><td>Technology</td><td>Retail CSV</td><td>2024-09-09T19:36:52.229Z</td></tr><tr><td>TEC-MA-10000423</td><td>Texas Instruments TI-34 Scientific Calculator</td><td>Machines</td><td>Technology</td><td>Retail CSV</td><td>2024-09-09T19:36:52.229Z</td></tr><tr><td>OFF-SU-10004290</td><td>\"Acme Design Line 8\"\" Stainless Steel Bent Scissors w/Champagne Handles</td><td>Supplies</td><td>Office Supplies</td><td>Retail CSV</td><td>2024-09-09T19:36:52.229Z</td></tr><tr><td>OFF-PA-10002479</td><td>Xerox 4200 Series MultiUse Premium Copy Paper (20Lb. and 84 Bright)</td><td>Paper</td><td>Office Supplies</td><td>Retail CSV</td><td>2024-09-09T19:36:52.229Z</td></tr><tr><td>OFF-ST-10004180</td><td>Safco Commercial Shelving</td><td>Storage</td><td>Office Supplies</td><td>Retail CSV</td><td>2024-09-09T19:36:52.229Z</td></tr><tr><td>FUR-FU-10001861</td><td>Floodlight Indoor Halogen Bulbs, 1 Bulb per Pack, 60 Watts</td><td>Furnishings</td><td>Furniture</td><td>Retail CSV</td><td>2024-09-09T19:36:52.229Z</td></tr><tr><td>FUR-TA-10002041</td><td>Bevis Round Conference Table Top, X-Base</td><td>Tables</td><td>Furniture</td><td>Retail CSV</td><td>2024-09-09T19:36:52.229Z</td></tr><tr><td>OFF-AR-10004974</td><td>Newell 342</td><td>Art</td><td>Office Supplies</td><td>Retail CSV</td><td>2024-09-09T19:36:52.229Z</td></tr><tr><td>OFF-BI-10001294</td><td>Fellowes Binding Cases</td><td>Binders</td><td>Office Supplies</td><td>Retail CSV</td><td>2024-09-09T19:36:52.229Z</td></tr><tr><td>OFF-PA-10003656</td><td>Xerox 1935</td><td>Paper</td><td>Office Supplies</td><td>Retail CSV</td><td>2024-09-09T19:36:52.229Z</td></tr><tr><td>TEC-CO-10004202</td><td>Brother DCP1000 Digital 3 in 1 Multifunction Machine</td><td>Copiers</td><td>Technology</td><td>Retail CSV</td><td>2024-09-09T19:36:52.229Z</td></tr><tr><td>OFF-ST-10000464</td><td>Multi-Use Personal File Cart and Caster Set, Three Stacking Bins</td><td>Storage</td><td>Office Supplies</td><td>Retail CSV</td><td>2024-09-09T19:36:52.229Z</td></tr><tr><td>OFF-PA-10001295</td><td>Computer Printout Paper with Letter-Trim Perforations</td><td>Paper</td><td>Office Supplies</td><td>Retail CSV</td><td>2024-09-09T19:36:52.229Z</td></tr><tr><td>TEC-PH-10003072</td><td>Panasonic KX-TG9541B DECT 6.0 Digital 2-Line Expandable Cordless Phone With Digital Answering System</td><td>Phones</td><td>Technology</td><td>Retail CSV</td><td>2024-09-09T19:36:52.229Z</td></tr><tr><td>FUR-TA-10002607</td><td>KI Conference Tables</td><td>Tables</td><td>Furniture</td><td>Retail CSV</td><td>2024-09-09T19:36:52.229Z</td></tr><tr><td>FUR-FU-10000023</td><td>Eldon Wave Desk Accessories</td><td>Furnishings</td><td>Furniture</td><td>Retail CSV</td><td>2024-09-09T19:36:52.229Z</td></tr><tr><td>TEC-AC-10001101</td><td>Sony 16GB Class 10 Micro SDHC R40 Memory Card</td><td>Accessories</td><td>Technology</td><td>Retail CSV</td><td>2024-09-09T19:36:52.229Z</td></tr><tr><td>OFF-ST-10000025</td><td>Fellowes Stor/Drawer Steel Plus Storage Drawers</td><td>Storage</td><td>Office Supplies</td><td>Retail CSV</td><td>2024-09-09T19:36:52.229Z</td></tr><tr><td>TEC-PH-10002200</td><td>Samsung Galaxy Note 2</td><td>Phones</td><td>Technology</td><td>Retail CSV</td><td>2024-09-09T19:36:52.229Z</td></tr><tr><td>OFF-PA-10000675</td><td>Xerox 1919</td><td>Paper</td><td>Office Supplies</td><td>Retail CSV</td><td>2024-09-09T19:36:52.229Z</td></tr><tr><td>TEC-AC-10002800</td><td>Plantronics Audio 478 Stereo USB Headset</td><td>Accessories</td><td>Technology</td><td>Retail CSV</td><td>2024-09-09T19:36:52.229Z</td></tr><tr><td>OFF-BI-10003963</td><td>Cardinal Holdit Data Disk Pockets</td><td>Binders</td><td>Office Supplies</td><td>Retail CSV</td><td>2024-09-09T19:36:52.229Z</td></tr><tr><td>OFF-PA-10003022</td><td>Xerox 1992</td><td>Paper</td><td>Office Supplies</td><td>Retail CSV</td><td>2024-09-09T19:36:52.229Z</td></tr><tr><td>TEC-PH-10000213</td><td>Seidio BD2-HK3IPH5-BK DILEX Case and Holster Combo for Apple iPhone 5/5s - Black</td><td>Phones</td><td>Technology</td><td>Retail CSV</td><td>2024-09-09T19:36:52.229Z</td></tr><tr><td>FUR-FU-10001379</td><td>\"Executive Impressions 16-1/2\"\" Circular Wall Clock\"</td><td>Furnishings</td><td>Furniture</td><td>Retail CSV</td><td>2024-09-09T19:36:52.229Z</td></tr><tr><td>TEC-PH-10003273</td><td>AT&T TR1909W</td><td>Phones</td><td>Technology</td><td>Retail CSV</td><td>2024-09-09T19:36:52.229Z</td></tr><tr><td>OFF-PA-10003465</td><td>Xerox 1912</td><td>Paper</td><td>Office Supplies</td><td>Retail CSV</td><td>2024-09-09T19:36:52.229Z</td></tr><tr><td>FUR-CH-10001482</td><td>Office Star - Mesh Screen back chair with Vinyl seat</td><td>Chairs</td><td>Furniture</td><td>Retail CSV</td><td>2024-09-09T19:36:52.229Z</td></tr><tr><td>OFF-BI-10001097</td><td>Avery Hole Reinforcements</td><td>Binders</td><td>Office Supplies</td><td>Retail CSV</td><td>2024-09-09T19:36:52.229Z</td></tr><tr><td>TEC-CO-10001046</td><td>Canon Imageclass D680 Copier / Fax</td><td>Copiers</td><td>Technology</td><td>Retail CSV</td><td>2024-09-09T19:36:52.229Z</td></tr><tr><td>OFF-AR-10001446</td><td>Newell 309</td><td>Art</td><td>Office Supplies</td><td>Retail CSV</td><td>2024-09-09T19:36:52.229Z</td></tr><tr><td>FUR-CH-10002439</td><td>Iceberg Nesting Folding Chair, 19w x 6d x 43h</td><td>Chairs</td><td>Furniture</td><td>Retail CSV</td><td>2024-09-09T19:36:52.229Z</td></tr><tr><td>OFF-BI-10003166</td><td>GBC Plasticlear Binding Covers</td><td>Binders</td><td>Office Supplies</td><td>Retail CSV</td><td>2024-09-09T19:36:52.229Z</td></tr><tr><td>FUR-FU-10003731</td><td>Eldon Expressions Wood and Plastic Desk Accessories, Oak</td><td>Furnishings</td><td>Furniture</td><td>Retail CSV</td><td>2024-09-09T19:36:52.229Z</td></tr><tr><td>OFF-EN-10004206</td><td>Multimedia Mailers</td><td>Envelopes</td><td>Office Supplies</td><td>Retail CSV</td><td>2024-09-09T19:36:52.229Z</td></tr><tr><td>TEC-AC-10004877</td><td>Imation 30456 USB Flash Drive 8GB</td><td>Accessories</td><td>Technology</td><td>Retail CSV</td><td>2024-09-09T19:36:52.229Z</td></tr><tr><td>OFF-PA-10002713</td><td>Adams Phone Message Book, 200 Message Capacity, 8 1/16” x 11”</td><td>Paper</td><td>Office Supplies</td><td>Retail CSV</td><td>2024-09-09T19:36:52.229Z</td></tr><tr><td>OFF-PA-10003953</td><td>Xerox 218</td><td>Paper</td><td>Office Supplies</td><td>Retail CSV</td><td>2024-09-09T19:36:52.229Z</td></tr><tr><td>TEC-PH-10004774</td><td>Gear Head AU3700S Headset</td><td>Phones</td><td>Technology</td><td>Retail CSV</td><td>2024-09-09T19:36:52.229Z</td></tr><tr><td>OFF-PA-10001166</td><td>Xerox 2</td><td>Paper</td><td>Office Supplies</td><td>Retail CSV</td><td>2024-09-09T19:36:52.229Z</td></tr><tr><td>FUR-FU-10002364</td><td>Eldon Expressions Wood Desk Accessories, Oak</td><td>Furnishings</td><td>Furniture</td><td>Retail CSV</td><td>2024-09-09T19:36:52.229Z</td></tr><tr><td>OFF-ST-10003123</td><td>Fellowes Bases and Tops For Staxonsteel/High-Stak Systems</td><td>Storage</td><td>Office Supplies</td><td>Retail CSV</td><td>2024-09-09T19:36:52.229Z</td></tr><tr><td>OFF-AR-10003481</td><td>Newell 348</td><td>Art</td><td>Office Supplies</td><td>Retail CSV</td><td>2024-09-09T19:36:52.229Z</td></tr><tr><td>FUR-BO-10004360</td><td>Rush Hierlooms Collection Rich Wood Bookcases</td><td>Bookcases</td><td>Furniture</td><td>Retail CSV</td><td>2024-09-09T19:36:52.229Z</td></tr><tr><td>OFF-PA-10000143</td><td>Astroparche Fine Business Paper</td><td>Paper</td><td>Office Supplies</td><td>Retail CSV</td><td>2024-09-09T19:36:52.229Z</td></tr><tr><td>OFF-PA-10004734</td><td>Southworth Structures Collection</td><td>Paper</td><td>Office Supplies</td><td>Retail CSV</td><td>2024-09-09T19:36:52.229Z</td></tr><tr><td>OFF-PA-10002893</td><td>\"Wirebound Service Call Books, 5 1/2\"\" x 4\"\"\"</td><td>Paper</td><td>Office Supplies</td><td>Retail CSV</td><td>2024-09-09T19:36:52.229Z</td></tr><tr><td>OFF-ST-10001490</td><td>Hot File 7-Pocket, Floor Stand</td><td>Storage</td><td>Office Supplies</td><td>Retail CSV</td><td>2024-09-09T19:36:52.229Z</td></tr><tr><td>OFF-LA-10001045</td><td>Permanent Self-Adhesive File Folder Labels for Typewriters by Universal</td><td>Labels</td><td>Office Supplies</td><td>Retail CSV</td><td>2024-09-09T19:36:52.229Z</td></tr><tr><td>OFF-BI-10002432</td><td>Wilson Jones Standard D-Ring Binders</td><td>Binders</td><td>Office Supplies</td><td>Retail CSV</td><td>2024-09-09T19:36:52.229Z</td></tr><tr><td>OFF-PA-10003673</td><td>Strathmore Photo Mount Cards</td><td>Paper</td><td>Office Supplies</td><td>Retail CSV</td><td>2024-09-09T19:36:52.229Z</td></tr><tr><td>OFF-PA-10001526</td><td>Xerox 1949</td><td>Paper</td><td>Office Supplies</td><td>Retail CSV</td><td>2024-09-09T19:36:52.229Z</td></tr><tr><td>TEC-PH-10004924</td><td>\"SKILCRAFT Telephone Shoulder Rest, 2\"\" x 6.5\"\" x 2.5\"\"</td><td>Phones</td><td>Technology</td><td>Retail CSV</td><td>2024-09-09T19:36:52.229Z</td></tr><tr><td>TEC-PH-10002483</td><td>Motorola Moto X</td><td>Phones</td><td>Technology</td><td>Retail CSV</td><td>2024-09-09T19:36:52.229Z</td></tr><tr><td>OFF-ST-10000532</td><td>Advantus Rolling Drawer Organizers</td><td>Storage</td><td>Office Supplies</td><td>Retail CSV</td><td>2024-09-09T19:36:52.229Z</td></tr><tr><td>OFF-AP-10004052</td><td>Hoover Replacement Belts For Soft Guard & Commercial Ltweight Upright Vacs, 2/Pk</td><td>Appliances</td><td>Office Supplies</td><td>Retail CSV</td><td>2024-09-09T19:36:52.229Z</td></tr><tr><td>OFF-EN-10003448</td><td>Peel & Seel Recycled Catalog Envelopes, Brown</td><td>Envelopes</td><td>Office Supplies</td><td>Retail CSV</td><td>2024-09-09T19:36:52.229Z</td></tr><tr><td>FUR-TA-10000577</td><td>Bretford CR4500 Series Slim Rectangular Table</td><td>Tables</td><td>Furniture</td><td>Retail CSV</td><td>2024-09-09T19:36:52.229Z</td></tr><tr><td>TEC-PH-10003931</td><td>JBL Micro Wireless Portable Bluetooth Speaker</td><td>Phones</td><td>Technology</td><td>Retail CSV</td><td>2024-09-09T19:36:52.229Z</td></tr><tr><td>TEC-AC-10003911</td><td>NETGEAR AC1750 Dual Band Gigabit Smart WiFi Router</td><td>Accessories</td><td>Technology</td><td>Retail CSV</td><td>2024-09-09T19:36:52.229Z</td></tr><tr><td>OFF-PA-10003651</td><td>Xerox 1968</td><td>Paper</td><td>Office Supplies</td><td>Retail CSV</td><td>2024-09-09T19:36:52.229Z</td></tr><tr><td>FUR-FU-10004460</td><td>\"Howard Miller 12\"\" Round Wall Clock\"</td><td>Furnishings</td><td>Furniture</td><td>Retail CSV</td><td>2024-09-09T19:36:52.229Z</td></tr><tr><td>OFF-ST-10001418</td><td>Carina Media Storage Towers in Natural & Black</td><td>Storage</td><td>Office Supplies</td><td>Retail CSV</td><td>2024-09-09T19:36:52.229Z</td></tr><tr><td>OFF-PA-10004888</td><td>Xerox 217</td><td>Paper</td><td>Office Supplies</td><td>Retail CSV</td><td>2024-09-09T19:36:52.229Z</td></tr><tr><td>OFF-LA-10001641</td><td>Avery 518</td><td>Labels</td><td>Office Supplies</td><td>Retail CSV</td><td>2024-09-09T19:36:52.229Z</td></tr><tr><td>OFF-AR-10001221</td><td>Dixon Ticonderoga Erasable Colored Pencil Set, 12-Color</td><td>Art</td><td>Office Supplies</td><td>Retail CSV</td><td>2024-09-09T19:36:52.229Z</td></tr><tr><td>FUR-CH-10003833</td><td>Novimex Fabric Task Chair</td><td>Chairs</td><td>Furniture</td><td>Retail CSV</td><td>2024-09-09T19:36:52.229Z</td></tr><tr><td>TEC-PH-10000675</td><td>Panasonic KX TS3282B Corded phone</td><td>Phones</td><td>Technology</td><td>Retail CSV</td><td>2024-09-09T19:36:52.229Z</td></tr><tr><td>OFF-PA-10004039</td><td>Xerox 1882</td><td>Paper</td><td>Office Supplies</td><td>Retail CSV</td><td>2024-09-09T19:36:52.229Z</td></tr><tr><td>OFF-ST-10003994</td><td>\"Belkin 19\"\" Center-Weighted Shelf</td><td>Storage</td><td>Office Supplies</td><td>Retail CSV</td><td>2024-09-09T19:36:52.229Z</td></tr><tr><td>TEC-PH-10003875</td><td>KLD Oscar II Style Snap-on Ultra Thin Side Flip Synthetic Leather Cover Case for HTC One HTC M7</td><td>Phones</td><td>Technology</td><td>Retail CSV</td><td>2024-09-09T19:36:52.229Z</td></tr><tr><td>OFF-AR-10001427</td><td>Newell 330</td><td>Art</td><td>Office Supplies</td><td>Retail CSV</td><td>2024-09-09T19:36:52.229Z</td></tr><tr><td>FUR-FU-10002268</td><td>Ultra Door Push Plate</td><td>Furnishings</td><td>Furniture</td><td>Retail CSV</td><td>2024-09-09T19:36:52.229Z</td></tr><tr><td>FUR-TA-10001039</td><td>KI Adjustable-Height Table</td><td>Tables</td><td>Furniture</td><td>Retail CSV</td><td>2024-09-09T19:36:52.229Z</td></tr><tr><td>TEC-PH-10004830</td><td>Pyle PRT45 Retro Home Telephone</td><td>Phones</td><td>Technology</td><td>Retail CSV</td><td>2024-09-09T19:36:52.229Z</td></tr><tr><td>FUR-BO-10002202</td><td>Atlantic Metals Mobile 2-Shelf Bookcases, Custom Colors</td><td>Bookcases</td><td>Furniture</td><td>Retail CSV</td><td>2024-09-09T19:36:52.229Z</td></tr><tr><td>TEC-AC-10002134</td><td>Rosewill 107 Normal Keys USB Wired Standard Keyboard</td><td>Accessories</td><td>Technology</td><td>Retail CSV</td><td>2024-09-09T19:36:52.229Z</td></tr><tr><td>OFF-AR-10002656</td><td>Sanford Liquid Accent Highlighters</td><td>Art</td><td>Office Supplies</td><td>Retail CSV</td><td>2024-09-09T19:36:52.229Z</td></tr><tr><td>OFF-ST-10002406</td><td>Pizazz Global Quick File</td><td>Storage</td><td>Office Supplies</td><td>Retail CSV</td><td>2024-09-09T19:36:52.229Z</td></tr><tr><td>OFF-BI-10001658</td><td>GBC Standard Therm-A-Bind Covers</td><td>Binders</td><td>Office Supplies</td><td>Retail CSV</td><td>2024-09-09T19:36:52.229Z</td></tr><tr><td>TEC-AC-10003614</td><td>Verbatim 25 GB 6x Blu-ray Single Layer Recordable Disc, 10/Pack</td><td>Accessories</td><td>Technology</td><td>Retail CSV</td><td>2024-09-09T19:36:52.229Z</td></tr><tr><td>OFF-BI-10003676</td><td>GBC Standard Recycled Report Covers, Clear Plastic Sheets</td><td>Binders</td><td>Office Supplies</td><td>Retail CSV</td><td>2024-09-09T19:36:52.229Z</td></tr><tr><td>FUR-FU-10001867</td><td>Eldon Expressions Punched Metal & Wood Desk Accessories, Pewter & Cherry</td><td>Furnishings</td><td>Furniture</td><td>Retail CSV</td><td>2024-09-09T19:36:52.229Z</td></tr><tr><td>OFF-FA-10000053</td><td>Revere Boxed Rubber Bands by Revere</td><td>Fasteners</td><td>Office Supplies</td><td>Retail CSV</td><td>2024-09-09T19:36:52.229Z</td></tr><tr><td>OFF-PA-10003001</td><td>Xerox 1986</td><td>Paper</td><td>Office Supplies</td><td>Retail CSV</td><td>2024-09-09T19:36:52.229Z</td></tr><tr><td>OFF-AP-10004785</td><td>Holmes Replacement Filter for HEPA Air Cleaner, Medium Room</td><td>Appliances</td><td>Office Supplies</td><td>Retail CSV</td><td>2024-09-09T19:36:52.229Z</td></tr><tr><td>OFF-BI-10001249</td><td>Avery Heavy-Duty EZD View Binder with Locking Rings</td><td>Binders</td><td>Office Supplies</td><td>Retail CSV</td><td>2024-09-09T19:36:52.229Z</td></tr><tr><td>TEC-PH-10001578</td><td>Polycom SoundStation2 EX Conference phone</td><td>Phones</td><td>Technology</td><td>Retail CSV</td><td>2024-09-09T19:36:52.229Z</td></tr><tr><td>OFF-BI-10002026</td><td>Ibico Recycled Linen-Style Covers</td><td>Binders</td><td>Office Supplies</td><td>Retail CSV</td><td>2024-09-09T19:36:52.229Z</td></tr><tr><td>OFF-ST-10003656</td><td>Safco Industrial Wire Shelving</td><td>Storage</td><td>Office Supplies</td><td>Retail CSV</td><td>2024-09-09T19:36:52.229Z</td></tr><tr><td>OFF-PA-10004470</td><td>\"Adams Write n' Stick Phone Message Book, 11\"\" X 5 1/4\"\"</td><td>Paper</td><td>Office Supplies</td><td>Retail CSV</td><td>2024-09-09T19:36:52.229Z</td></tr><tr><td>OFF-LA-10001613</td><td>Avery File Folder Labels</td><td>Labels</td><td>Office Supplies</td><td>Retail CSV</td><td>2024-09-09T19:36:52.229Z</td></tr><tr><td>FUR-CH-10002880</td><td>Global High-Back Leather Tilter, Burgundy</td><td>Chairs</td><td>Furniture</td><td>Retail CSV</td><td>2024-09-09T19:36:52.229Z</td></tr><tr><td>OFF-PA-10001289</td><td>White Computer Printout Paper by Universal</td><td>Paper</td><td>Office Supplies</td><td>Retail CSV</td><td>2024-09-09T19:36:52.229Z</td></tr><tr><td>OFF-PA-10000308</td><td>Xerox 1901</td><td>Paper</td><td>Office Supplies</td><td>Retail CSV</td><td>2024-09-09T19:36:52.229Z</td></tr><tr><td>OFF-PA-10002689</td><td>Weyerhaeuser First Choice Laser/Copy Paper (20Lb. and 88 Bright)</td><td>Paper</td><td>Office Supplies</td><td>Retail CSV</td><td>2024-09-09T19:36:52.229Z</td></tr><tr><td>TEC-PH-10000455</td><td>GE 30522EE2</td><td>Phones</td><td>Technology</td><td>Retail CSV</td><td>2024-09-09T19:36:52.229Z</td></tr><tr><td>OFF-SU-10001664</td><td>Acme Office Executive Series Stainless Steel Trimmers</td><td>Supplies</td><td>Office Supplies</td><td>Retail CSV</td><td>2024-09-09T19:36:52.229Z</td></tr><tr><td>OFF-PA-10001725</td><td>Xerox 1892</td><td>Paper</td><td>Office Supplies</td><td>Retail CSV</td><td>2024-09-09T19:36:52.229Z</td></tr><tr><td>FUR-FU-10002874</td><td>Ultra Commercial Grade Dual Valve Door Closer</td><td>Furnishings</td><td>Furniture</td><td>Retail CSV</td><td>2024-09-09T19:36:52.229Z</td></tr><tr><td>FUR-FU-10001057</td><td>Tensor Track Tree Floor Lamp</td><td>Furnishings</td><td>Furniture</td><td>Retail CSV</td><td>2024-09-09T19:36:52.229Z</td></tr><tr><td>TEC-MA-10003589</td><td>Cisco 8961 IP Phone Charcoal</td><td>Machines</td><td>Technology</td><td>Retail CSV</td><td>2024-09-09T19:36:52.229Z</td></tr><tr><td>TEC-AC-10001767</td><td>SanDisk Ultra 64 GB MicroSDHC Class 10 Memory Card</td><td>Accessories</td><td>Technology</td><td>Retail CSV</td><td>2024-09-09T19:36:52.229Z</td></tr><tr><td>OFF-LA-10000634</td><td>Avery 509</td><td>Labels</td><td>Office Supplies</td><td>Retail CSV</td><td>2024-09-09T19:36:52.229Z</td></tr><tr><td>OFF-PA-10001937</td><td>Xerox 21</td><td>Paper</td><td>Office Supplies</td><td>Retail CSV</td><td>2024-09-09T19:36:52.229Z</td></tr><tr><td>OFF-FA-10003112</td><td>Staples</td><td>Fasteners</td><td>Office Supplies</td><td>Retail CSV</td><td>2024-09-09T19:36:52.229Z</td></tr><tr><td>TEC-AC-10000736</td><td>Logitech G600 MMO Gaming Mouse</td><td>Accessories</td><td>Technology</td><td>Retail CSV</td><td>2024-09-09T19:36:52.229Z</td></tr><tr><td>FUR-BO-10001918</td><td>Sauder Forest Hills Library with Doors, Woodland Oak Finish</td><td>Bookcases</td><td>Furniture</td><td>Retail CSV</td><td>2024-09-09T19:36:52.229Z</td></tr><tr><td>FUR-CH-10000155</td><td>Global Comet Stacking Armless Chair</td><td>Chairs</td><td>Furniture</td><td>Retail CSV</td><td>2024-09-09T19:36:52.229Z</td></tr><tr><td>TEC-MA-10002412</td><td>Cisco TelePresence System EX90 Videoconferencing Unit</td><td>Machines</td><td>Technology</td><td>Retail CSV</td><td>2024-09-09T19:36:52.229Z</td></tr><tr><td>TEC-AC-10000474</td><td>Kensington Expert Mouse Optical USB Trackball for PC or Mac</td><td>Accessories</td><td>Technology</td><td>Retail CSV</td><td>2024-09-09T19:36:52.229Z</td></tr><tr><td>TEC-PH-10000127</td><td>iOttie XL Car Mount</td><td>Phones</td><td>Technology</td><td>Retail CSV</td><td>2024-09-09T19:36:52.229Z</td></tr><tr><td>TEC-AC-10001383</td><td>Logitech Wireless Touch Keyboard K400</td><td>Accessories</td><td>Technology</td><td>Retail CSV</td><td>2024-09-09T19:36:52.229Z</td></tr><tr><td>FUR-FU-10004306</td><td>Electrix Halogen Magnifier Lamp</td><td>Furnishings</td><td>Furniture</td><td>Retail CSV</td><td>2024-09-09T19:36:52.229Z</td></tr><tr><td>OFF-PA-10000350</td><td>\"Message Book, Standard Line \"\"While You Were Out\"\"</td><td>Paper</td><td>Office Supplies</td><td>Retail CSV</td><td>2024-09-09T19:36:52.229Z</td></tr><tr><td>FUR-FU-10001602</td><td>\"Eldon Delta Triangular Chair Mat, 52\"\" x 58\"\"</td><td>Furnishings</td><td>Furniture</td><td>Retail CSV</td><td>2024-09-09T19:36:52.229Z</td></tr><tr><td>TEC-AC-10003198</td><td>Enermax Acrylux Wireless Keyboard</td><td>Accessories</td><td>Technology</td><td>Retail CSV</td><td>2024-09-09T19:36:52.229Z</td></tr><tr><td>OFF-PA-10001892</td><td>\"Rediform Wirebound \"\"Phone Memo\"\" Message Book</td><td>Paper</td><td>Office Supplies</td><td>Retail CSV</td><td>2024-09-09T19:36:52.229Z</td></tr><tr><td>OFF-AR-10004817</td><td>Colorific Watercolor Pencils</td><td>Art</td><td>Office Supplies</td><td>Retail CSV</td><td>2024-09-09T19:36:52.229Z</td></tr><tr><td>OFF-PA-10004239</td><td>Xerox 1953</td><td>Paper</td><td>Office Supplies</td><td>Retail CSV</td><td>2024-09-09T19:36:52.229Z</td></tr><tr><td>FUR-CH-10004287</td><td>SAFCO Arco Folding Chair</td><td>Chairs</td><td>Furniture</td><td>Retail CSV</td><td>2024-09-09T19:36:52.229Z</td></tr><tr><td>OFF-AP-10000891</td><td>Kensington 7 Outlet MasterPiece HOMEOFFICE Power Control Center</td><td>Appliances</td><td>Office Supplies</td><td>Retail CSV</td><td>2024-09-09T19:36:52.229Z</td></tr><tr><td>OFF-FA-10000134</td><td>Advantus Push Pins, Aluminum Head</td><td>Fasteners</td><td>Office Supplies</td><td>Retail CSV</td><td>2024-09-09T19:36:52.229Z</td></tr><tr><td>OFF-PA-10000673</td><td>Post-it “Important Message” Note Pad, Neon Colors, 50 Sheets/Pad</td><td>Paper</td><td>Office Supplies</td><td>Retail CSV</td><td>2024-09-09T19:36:52.229Z</td></tr><tr><td>TEC-AC-10001990</td><td>Kensington Orbit Wireless Mobile Trackball for PC and Mac</td><td>Accessories</td><td>Technology</td><td>Retail CSV</td><td>2024-09-09T19:36:52.229Z</td></tr><tr><td>OFF-AR-10000462</td><td>Sanford Pocket Accent Highlighters</td><td>Art</td><td>Office Supplies</td><td>Retail CSV</td><td>2024-09-09T19:36:52.229Z</td></tr><tr><td>OFF-AP-10001242</td><td>APC 7 Outlet Network SurgeArrest Surge Protector</td><td>Appliances</td><td>Office Supplies</td><td>Retail CSV</td><td>2024-09-09T19:36:52.229Z</td></tr><tr><td>OFF-FA-10002701</td><td>Alliance Rubber Bands</td><td>Fasteners</td><td>Office Supplies</td><td>Retail CSV</td><td>2024-09-09T19:36:52.229Z</td></tr><tr><td>FUR-FU-10003919</td><td>Eldon Executive Woodline II Cherry Finish Desk Accessories</td><td>Furnishings</td><td>Furniture</td><td>Retail CSV</td><td>2024-09-09T19:36:52.229Z</td></tr><tr><td>OFF-AR-10002987</td><td>Prismacolor Color Pencil Set</td><td>Art</td><td>Office Supplies</td><td>Retail CSV</td><td>2024-09-09T19:36:52.229Z</td></tr><tr><td>OFF-PA-10002615</td><td>\"Ampad Gold Fibre Wirebound Steno Books, 6\"\" x 9\"\"</td><td>Paper</td><td>Office Supplies</td><td>Retail CSV</td><td>2024-09-09T19:36:52.229Z</td></tr><tr><td>OFF-PA-10004101</td><td>Xerox 1894</td><td>Paper</td><td>Office Supplies</td><td>Retail CSV</td><td>2024-09-09T19:36:52.229Z</td></tr><tr><td>TEC-AC-10000927</td><td>Anker Ultrathin Bluetooth Wireless Keyboard Aluminum Cover with Stand </td><td>Accessories</td><td>Technology</td><td>Retail CSV</td><td>2024-09-09T19:36:52.229Z</td></tr><tr><td>OFF-LA-10000452</td><td>Avery 488</td><td>Labels</td><td>Office Supplies</td><td>Retail CSV</td><td>2024-09-09T19:36:52.229Z</td></tr><tr><td>FUR-FU-10001889</td><td>Ultra Door Pull Handle</td><td>Furnishings</td><td>Furniture</td><td>Retail CSV</td><td>2024-09-09T19:36:52.229Z</td></tr><tr><td>TEC-AC-10002217</td><td>Imation Clip USB flash drive - 8 GB</td><td>Accessories</td><td>Technology</td><td>Retail CSV</td><td>2024-09-09T19:36:52.229Z</td></tr><tr><td>OFF-BI-10003718</td><td>GBC Therma-A-Bind 250T Electric Binding System</td><td>Binders</td><td>Office Supplies</td><td>Retail CSV</td><td>2024-09-09T19:36:52.229Z</td></tr><tr><td>OFF-PA-10001952</td><td>Xerox 1902</td><td>Paper</td><td>Office Supplies</td><td>Retail CSV</td><td>2024-09-09T19:36:52.229Z</td></tr><tr><td>FUR-FU-10003095</td><td>\"Linden 12\"\" Wall Clock With Oak Frame\"</td><td>Furnishings</td><td>Furniture</td><td>Retail CSV</td><td>2024-09-09T19:36:52.229Z</td></tr><tr><td>OFF-BI-10003910</td><td>DXL Angle-View Binders with Locking Rings by Samsill</td><td>Binders</td><td>Office Supplies</td><td>Retail CSV</td><td>2024-09-09T19:36:52.229Z</td></tr><tr><td>TEC-MA-10003353</td><td>Xerox WorkCentre 6505DN Laser Multifunction Printer</td><td>Machines</td><td>Technology</td><td>Retail CSV</td><td>2024-09-09T19:36:52.229Z</td></tr><tr><td>OFF-BI-10000778</td><td>GBC VeloBinder Electric Binding Machine</td><td>Binders</td><td>Office Supplies</td><td>Retail CSV</td><td>2024-09-09T19:36:52.229Z</td></tr><tr><td>OFF-BI-10000301</td><td>GBC Instant Report Kit</td><td>Binders</td><td>Office Supplies</td><td>Retail CSV</td><td>2024-09-09T19:36:52.229Z</td></tr><tr><td>OFF-LA-10000973</td><td>Avery 502</td><td>Labels</td><td>Office Supplies</td><td>Retail CSV</td><td>2024-09-09T19:36:52.229Z</td></tr><tr><td>OFF-BI-10003429</td><td>Cardinal HOLDit! Binder Insert Strips,Extra Strips</td><td>Binders</td><td>Office Supplies</td><td>Retail CSV</td><td>2024-09-09T19:36:52.229Z</td></tr><tr><td>OFF-ST-10000419</td><td>Rogers Jumbo File, Granite</td><td>Storage</td><td>Office Supplies</td><td>Retail CSV</td><td>2024-09-09T19:36:52.229Z</td></tr><tr><td>OFF-PA-10000740</td><td>Xerox 1982</td><td>Paper</td><td>Office Supplies</td><td>Retail CSV</td><td>2024-09-09T19:36:52.229Z</td></tr><tr><td>OFF-PA-10002001</td><td>Xerox 1984</td><td>Paper</td><td>Office Supplies</td><td>Retail CSV</td><td>2024-09-09T19:36:52.229Z</td></tr><tr><td>OFF-AP-10001205</td><td>Belkin 5 Outlet SurgeMaster Power Centers</td><td>Appliances</td><td>Office Supplies</td><td>Retail CSV</td><td>2024-09-09T19:36:52.229Z</td></tr><tr><td>FUR-CH-10003761</td><td>Global Italian Leather Office Chair</td><td>Chairs</td><td>Furniture</td><td>Retail CSV</td><td>2024-09-09T19:36:52.229Z</td></tr><tr><td>TEC-PH-10004908</td><td>Panasonic KX TS3282W Corded phone</td><td>Phones</td><td>Technology</td><td>Retail CSV</td><td>2024-09-09T19:36:52.229Z</td></tr><tr><td>OFF-ST-10000129</td><td>Fellowes Recycled Storage Drawers</td><td>Storage</td><td>Office Supplies</td><td>Retail CSV</td><td>2024-09-09T19:36:52.229Z</td></tr><tr><td>OFF-AP-10000390</td><td>Euro Pro Shark Stick Mini Vacuum</td><td>Appliances</td><td>Office Supplies</td><td>Retail CSV</td><td>2024-09-09T19:36:52.229Z</td></tr><tr><td>OFF-BI-10002764</td><td>Recycled Pressboard Report Cover with Reinforced Top Hinge</td><td>Binders</td><td>Office Supplies</td><td>Retail CSV</td><td>2024-09-09T19:36:52.229Z</td></tr><tr><td>FUR-BO-10002206</td><td>Bush Saratoga Collection 5-Shelf Bookcase, Hanover Cherry, *Special Order</td><td>Bookcases</td><td>Furniture</td><td>Retail CSV</td><td>2024-09-09T19:36:52.229Z</td></tr><tr><td>TEC-PH-10004922</td><td>RCA Visys Integrated PBX 8-Line Router</td><td>Phones</td><td>Technology</td><td>Retail CSV</td><td>2024-09-09T19:36:52.229Z</td></tr><tr><td>FUR-FU-10001473</td><td>Eldon Executive Woodline II Desk Accessories, Mahogany</td><td>Furnishings</td><td>Furniture</td><td>Retail CSV</td><td>2024-09-09T19:36:52.229Z</td></tr><tr><td>OFF-AR-10004691</td><td>Boston 1730 StandUp Electric Pencil Sharpener</td><td>Art</td><td>Office Supplies</td><td>Retail CSV</td><td>2024-09-09T19:36:52.229Z</td></tr><tr><td>OFF-BI-10002215</td><td>Wilson Jones Hanging View Binder, White, 1\"\"</td><td>Binders</td><td>Office Supplies</td><td>Retail CSV</td><td>2024-09-09T19:36:52.229Z</td></tr><tr><td>FUR-FU-10003664</td><td>Electrix Architect's Clamp-On Swing Arm Lamp, Black</td><td>Furnishings</td><td>Furniture</td><td>Retail CSV</td><td>2024-09-09T19:36:52.229Z</td></tr><tr><td>OFF-BI-10001922</td><td>Storex Dura Pro Binders</td><td>Binders</td><td>Office Supplies</td><td>Retail CSV</td><td>2024-09-09T19:36:52.229Z</td></tr><tr><td>FUR-TA-10000688</td><td>Chromcraft Bull-Nose Wood Round Conference Table Top, Wood Base</td><td>Tables</td><td>Furniture</td><td>Retail CSV</td><td>2024-09-09T19:36:52.229Z</td></tr><tr><td>FUR-BO-10001519</td><td>O'Sullivan 3-Shelf Heavy-Duty Bookcases</td><td>Bookcases</td><td>Furniture</td><td>Retail CSV</td><td>2024-09-09T19:36:52.229Z</td></tr><tr><td>OFF-AR-10003752</td><td>Deluxe Chalkboard Eraser Cleaner</td><td>Art</td><td>Office Supplies</td><td>Retail CSV</td><td>2024-09-09T19:36:52.229Z</td></tr><tr><td>FUR-FU-10000293</td><td>Eldon Antistatic Chair Mats for Low to Medium Pile Carpets</td><td>Furnishings</td><td>Furniture</td><td>Retail CSV</td><td>2024-09-09T19:36:52.229Z</td></tr><tr><td>OFF-PA-10004947</td><td>Easy-staple paper</td><td>Paper</td><td>Office Supplies</td><td>Retail CSV</td><td>2024-09-09T19:36:52.229Z</td></tr><tr><td>FUR-FU-10004864</td><td>Eldon 500 Class Desk Accessories</td><td>Furnishings</td><td>Furniture</td><td>Retail CSV</td><td>2024-09-09T19:36:52.229Z</td></tr><tr><td>OFF-AR-10000246</td><td>Newell 318</td><td>Art</td><td>Office Supplies</td><td>Retail CSV</td><td>2024-09-09T19:36:52.229Z</td></tr><tr><td>OFF-AR-10001868</td><td>Prang Dustless Chalk Sticks</td><td>Art</td><td>Office Supplies</td><td>Retail CSV</td><td>2024-09-09T19:36:52.229Z</td></tr><tr><td>OFF-EN-10004459</td><td>Security-Tint Envelopes</td><td>Envelopes</td><td>Office Supplies</td><td>Retail CSV</td><td>2024-09-09T19:36:52.229Z</td></tr><tr><td>OFF-ST-10003816</td><td>Fellowes High-Stak Drawer Files</td><td>Storage</td><td>Office Supplies</td><td>Retail CSV</td><td>2024-09-09T19:36:52.229Z</td></tr><tr><td>TEC-MA-10003183</td><td>DYMO CardScan Personal V9 Business Card Scanner</td><td>Machines</td><td>Technology</td><td>Retail CSV</td><td>2024-09-09T19:36:52.229Z</td></tr><tr><td>TEC-MA-10002428</td><td>Fellowes Powershred HS-440 4-Sheet High Security Shredder</td><td>Machines</td><td>Technology</td><td>Retail CSV</td><td>2024-09-09T19:36:52.229Z</td></tr><tr><td>OFF-PA-10001166</td><td>Xerox 1932</td><td>Paper</td><td>Office Supplies</td><td>Retail CSV</td><td>2024-09-09T19:36:52.229Z</td></tr><tr><td>OFF-AP-10002945</td><td>Honeywell Enviracaire Portable HEPA Air Cleaner for 17' x 22' Room</td><td>Appliances</td><td>Office Supplies</td><td>Retail CSV</td><td>2024-09-09T19:36:52.229Z</td></tr><tr><td>OFF-BI-10001153</td><td>Ibico Recycled Grain-Textured Covers</td><td>Binders</td><td>Office Supplies</td><td>Retail CSV</td><td>2024-09-09T19:36:52.229Z</td></tr><tr><td>OFF-BI-10000050</td><td>Angle-D Binders with Locking Rings, Label Holders</td><td>Binders</td><td>Office Supplies</td><td>Retail CSV</td><td>2024-09-09T19:36:52.229Z</td></tr><tr><td>OFF-SU-10002881</td><td>Martin Yale Chadless Opener Electric Letter Opener</td><td>Supplies</td><td>Office Supplies</td><td>Retail CSV</td><td>2024-09-09T19:36:52.229Z</td></tr><tr><td>OFF-AR-10001130</td><td>Quartet Alpha White Chalk, 12/Pack</td><td>Art</td><td>Office Supplies</td><td>Retail CSV</td><td>2024-09-09T19:36:52.229Z</td></tr><tr><td>TEC-PH-10000169</td><td>ARKON Windshield Dashboard Air Vent Car Mount Holder</td><td>Phones</td><td>Technology</td><td>Retail CSV</td><td>2024-09-09T19:36:52.229Z</td></tr><tr><td>FUR-CH-10003774</td><td>Global Wood Trimmed Manager's Task Chair, Khaki</td><td>Chairs</td><td>Furniture</td><td>Retail CSV</td><td>2024-09-09T19:36:52.229Z</td></tr><tr><td>OFF-AR-10003696</td><td>Panasonic KP-350BK Electric Pencil Sharpener with Auto Stop</td><td>Art</td><td>Office Supplies</td><td>Retail CSV</td><td>2024-09-09T19:36:52.229Z</td></tr><tr><td>OFF-ST-10003572</td><td>Portfile Personal File Boxes</td><td>Storage</td><td>Office Supplies</td><td>Retail CSV</td><td>2024-09-09T19:36:52.229Z</td></tr><tr><td>OFF-AR-10004441</td><td>BIC Brite Liner Highlighters</td><td>Art</td><td>Office Supplies</td><td>Retail CSV</td><td>2024-09-09T19:36:52.229Z</td></tr><tr><td>FUR-TA-10000198</td><td>Chromcraft Bull-Nose Wood Oval Conference Tables & Bases</td><td>Tables</td><td>Furniture</td><td>Retail CSV</td><td>2024-09-09T19:36:52.229Z</td></tr><tr><td>OFF-AR-10002956</td><td>Boston 16801 Nautilus Battery Pencil Sharpener</td><td>Art</td><td>Office Supplies</td><td>Retail CSV</td><td>2024-09-09T19:36:52.229Z</td></tr><tr><td>OFF-ST-10003716</td><td>Tennsco Double-Tier Lockers</td><td>Storage</td><td>Office Supplies</td><td>Retail CSV</td><td>2024-09-09T19:36:52.229Z</td></tr><tr><td>OFF-AR-10003251</td><td>Prang Drawing Pencil Set</td><td>Art</td><td>Office Supplies</td><td>Retail CSV</td><td>2024-09-09T19:36:52.229Z</td></tr><tr><td>OFF-AP-10002906</td><td>Hoover Replacement Belt for Commercial Guardsman Heavy-Duty Upright Vacuum</td><td>Appliances</td><td>Office Supplies</td><td>Retail CSV</td><td>2024-09-09T19:36:52.229Z</td></tr><tr><td>TEC-MA-10002210</td><td>Epson TM-T88V Direct Thermal Printer - Monochrome - Desktop</td><td>Machines</td><td>Technology</td><td>Retail CSV</td><td>2024-09-09T19:36:52.229Z</td></tr><tr><td>OFF-ST-10004835</td><td>Plastic Stacking Crates & Casters</td><td>Storage</td><td>Office Supplies</td><td>Retail CSV</td><td>2024-09-09T19:36:52.229Z</td></tr><tr><td>OFF-LA-10002762</td><td>Avery 485</td><td>Labels</td><td>Office Supplies</td><td>Retail CSV</td><td>2024-09-09T19:36:52.229Z</td></tr><tr><td>FUR-FU-10003194</td><td>Eldon Expressions Desk Accessory, Wood Pencil Holder, Oak</td><td>Furnishings</td><td>Furniture</td><td>Retail CSV</td><td>2024-09-09T19:36:52.229Z</td></tr><tr><td>OFF-PA-10002222</td><td>\"Xerox Color Copier Paper, 11\"\" x 17\"\"</td><td>Paper</td><td>Office Supplies</td><td>Retail CSV</td><td>2024-09-09T19:36:52.229Z</td></tr><tr><td>OFF-AR-10003158</td><td>Fluorescent Highlighters by Dixon</td><td>Art</td><td>Office Supplies</td><td>Retail CSV</td><td>2024-09-09T19:36:52.229Z</td></tr><tr><td>OFF-AR-10004999</td><td>Newell 315</td><td>Art</td><td>Office Supplies</td><td>Retail CSV</td><td>2024-09-09T19:36:52.229Z</td></tr><tr><td>OFF-BI-10003708</td><td>Acco Four Pocket Poly Ring Binder with Label Holder, Smoke, 1\"\"</td><td>Binders</td><td>Office Supplies</td><td>Retail CSV</td><td>2024-09-09T19:36:52.229Z</td></tr><tr><td>TEC-AC-10001284</td><td>Enermax Briskie RF Wireless Keyboard and Mouse Combo</td><td>Accessories</td><td>Technology</td><td>Retail CSV</td><td>2024-09-09T19:36:52.229Z</td></tr><tr><td>OFF-PA-10003270</td><td>Xerox 1954</td><td>Paper</td><td>Office Supplies</td><td>Retail CSV</td><td>2024-09-09T19:36:52.229Z</td></tr><tr><td>TEC-PH-10002033</td><td>Konftel 250 Conference phone - Charcoal black</td><td>Phones</td><td>Technology</td><td>Retail CSV</td><td>2024-09-09T19:36:52.229Z</td></tr><tr><td>FUR-FU-10002505</td><td>Eldon 100 Class Desk Accessories</td><td>Furnishings</td><td>Furniture</td><td>Retail CSV</td><td>2024-09-09T19:36:52.229Z</td></tr><tr><td>OFF-PA-10003936</td><td>Xerox 1994</td><td>Paper</td><td>Office Supplies</td><td>Retail CSV</td><td>2024-09-09T19:36:52.229Z</td></tr><tr><td>TEC-AC-10004171</td><td>Razer Kraken 7.1 Surround Sound Over Ear USB Gaming Headset</td><td>Accessories</td><td>Technology</td><td>Retail CSV</td><td>2024-09-09T19:36:52.229Z</td></tr><tr><td>OFF-PA-10002319</td><td>Xerox 1944</td><td>Paper</td><td>Office Supplies</td><td>Retail CSV</td><td>2024-09-09T19:36:52.229Z</td></tr><tr><td>TEC-AC-10000990</td><td>Imation Bio 2GB USB Flash Drive Imation Corp</td><td>Accessories</td><td>Technology</td><td>Retail CSV</td><td>2024-09-09T19:36:52.229Z</td></tr><tr><td>OFF-PA-10003302</td><td>Xerox 1906</td><td>Paper</td><td>Office Supplies</td><td>Retail CSV</td><td>2024-09-09T19:36:52.229Z</td></tr><tr><td>TEC-MA-10002073</td><td>3D Systems Cube Printer, 2nd Generation, White</td><td>Machines</td><td>Technology</td><td>Retail CSV</td><td>2024-09-09T19:36:52.229Z</td></tr><tr><td>OFF-PA-10004100</td><td>Xerox 216</td><td>Paper</td><td>Office Supplies</td><td>Retail CSV</td><td>2024-09-09T19:36:52.229Z</td></tr><tr><td>TEC-AC-10002001</td><td>Logitech Wireless Gaming Headset G930</td><td>Accessories</td><td>Technology</td><td>Retail CSV</td><td>2024-09-09T19:36:52.229Z</td></tr><tr><td>OFF-PA-10002105</td><td>Xerox 223</td><td>Paper</td><td>Office Supplies</td><td>Retail CSV</td><td>2024-09-09T19:36:52.229Z</td></tr><tr><td>OFF-ST-10000675</td><td>File Shuttle II and Handi-File, Black</td><td>Storage</td><td>Office Supplies</td><td>Retail CSV</td><td>2024-09-09T19:36:52.229Z</td></tr><tr><td>FUR-TA-10004915</td><td>\"Office Impressions End Table, 20-1/2\"\"H x 24\"\"W x 20\"\"D\"</td><td>Tables</td><td>Furniture</td><td>Retail CSV</td><td>2024-09-09T19:36:52.229Z</td></tr><tr><td>OFF-PA-10002787</td><td>Xerox 227</td><td>Paper</td><td>Office Supplies</td><td>Retail CSV</td><td>2024-09-09T19:36:52.229Z</td></tr><tr><td>OFF-BI-10004141</td><td>Insertable Tab Indexes For Data Binders</td><td>Binders</td><td>Office Supplies</td><td>Retail CSV</td><td>2024-09-09T19:36:52.229Z</td></tr><tr><td>OFF-LA-10004409</td><td>Avery 492</td><td>Labels</td><td>Office Supplies</td><td>Retail CSV</td><td>2024-09-09T19:36:52.229Z</td></tr><tr><td>OFF-ST-10001522</td><td>Gould Plastics 18-Pocket Panel Bin, 34w x 5-1/4d x 20-1/2h</td><td>Storage</td><td>Office Supplies</td><td>Retail CSV</td><td>2024-09-09T19:36:52.229Z</td></tr><tr><td>OFF-AR-10001958</td><td>Stanley Bostitch Contemporary Electric Pencil Sharpeners</td><td>Art</td><td>Office Supplies</td><td>Retail CSV</td><td>2024-09-09T19:36:52.229Z</td></tr><tr><td>FUR-FU-10004351</td><td>Staple-based wall hangings</td><td>Furnishings</td><td>Furniture</td><td>Retail CSV</td><td>2024-09-09T19:36:52.229Z</td></tr><tr><td>FUR-TA-10002903</td><td>\"Bevis Round Bullnose 29\"\" High Table Top\"</td><td>Tables</td><td>Furniture</td><td>Retail CSV</td><td>2024-09-09T19:36:52.229Z</td></tr><tr><td>TEC-MA-10000029</td><td>Epson WorkForce WF-2530 All-in-One Printer, Copier Scanner</td><td>Machines</td><td>Technology</td><td>Retail CSV</td><td>2024-09-09T19:36:52.229Z</td></tr><tr><td>FUR-CH-10001215</td><td>Global Troy Executive Leather Low-Back Tilter</td><td>Chairs</td><td>Furniture</td><td>Retail CSV</td><td>2024-09-09T19:36:52.229Z</td></tr><tr><td>OFF-LA-10002271</td><td>Smead Alpha-Z Color-Coded Second Alphabetical Labels and Starter Set</td><td>Labels</td><td>Office Supplies</td><td>Retail CSV</td><td>2024-09-09T19:36:52.229Z</td></tr><tr><td>TEC-AC-10004353</td><td>Hypercom P1300 Pinpad</td><td>Accessories</td><td>Technology</td><td>Retail CSV</td><td>2024-09-09T19:36:52.229Z</td></tr><tr><td>FUR-FU-10003724</td><td>Westinghouse Clip-On Gooseneck Lamps</td><td>Furnishings</td><td>Furniture</td><td>Retail CSV</td><td>2024-09-09T19:36:52.229Z</td></tr><tr><td>TEC-PH-10002564</td><td>OtterBox Defender Series Case - Samsung Galaxy S4</td><td>Phones</td><td>Technology</td><td>Retail CSV</td><td>2024-09-09T19:36:52.229Z</td></tr><tr><td>OFF-BI-10002133</td><td>\"Wilson Jones Elliptical Ring 3 1/2\"\" Capacity Binders</td><td>Binders</td><td>Office Supplies</td><td>Retail CSV</td><td>2024-09-09T19:36:52.229Z</td></tr><tr><td>OFF-AR-10003469</td><td>Nontoxic Chalk</td><td>Art</td><td>Office Supplies</td><td>Retail CSV</td><td>2024-09-09T19:36:52.229Z</td></tr><tr><td>TEC-AC-10000387</td><td>KeyTronic KT800P2 - Keyboard - Black</td><td>Accessories</td><td>Technology</td><td>Retail CSV</td><td>2024-09-09T19:36:52.229Z</td></tr><tr><td>TEC-MA-10001570</td><td>Cisco Desktop Collaboration Experience DX650 IP Video Phone</td><td>Machines</td><td>Technology</td><td>Retail CSV</td><td>2024-09-09T19:36:52.229Z</td></tr><tr><td>FUR-BO-10001798</td><td>Bush Somerset Collection Bookcase</td><td>Bookcases</td><td>Furniture</td><td>Retail CSV</td><td>2024-09-09T19:36:52.229Z</td></tr><tr><td>FUR-FU-10003708</td><td>\"Tenex Traditional Chairmats for Medium Pile Carpet, Standard Lip, 36\"\" x 48\"\"\"</td><td>Furnishings</td><td>Furniture</td><td>Retail CSV</td><td>2024-09-09T19:36:52.229Z</td></tr><tr><td>OFF-PA-10003256</td><td>Avery Personal Creations Heavyweight Cards</td><td>Paper</td><td>Office Supplies</td><td>Retail CSV</td><td>2024-09-09T19:36:52.229Z</td></tr><tr><td>OFF-AP-10002684</td><td>Acco 7-Outlet Masterpiece Power Center, Wihtout Fax/Phone Line Protection</td><td>Appliances</td><td>Office Supplies</td><td>Retail CSV</td><td>2024-09-09T19:36:52.229Z</td></tr><tr><td>FUR-CH-10004477</td><td>Global Push Button Manager's Chair, Indigo</td><td>Chairs</td><td>Furniture</td><td>Retail CSV</td><td>2024-09-09T19:36:52.229Z</td></tr><tr><td>OFF-ST-10002205</td><td>File Shuttle I and Handi-File</td><td>Storage</td><td>Office Supplies</td><td>Retail CSV</td><td>2024-09-09T19:36:52.229Z</td></tr><tr><td>OFF-PA-10002552</td><td>Xerox 1958</td><td>Paper</td><td>Office Supplies</td><td>Retail CSV</td><td>2024-09-09T19:36:52.229Z</td></tr><tr><td>OFF-PA-10004071</td><td>Eaton Premium Continuous-Feed Paper, 25% Cotton, Letter Size, White, 1000 Shts/Box</td><td>Paper</td><td>Office Supplies</td><td>Retail CSV</td><td>2024-09-09T19:36:52.229Z</td></tr><tr><td>OFF-ST-10001780</td><td>Tennsco 16-Compartment Lockers with Coat Rack</td><td>Storage</td><td>Office Supplies</td><td>Retail CSV</td><td>2024-09-09T19:36:52.229Z</td></tr><tr><td>OFF-PA-10003657</td><td>Xerox 1927</td><td>Paper</td><td>Office Supplies</td><td>Retail CSV</td><td>2024-09-09T19:36:52.229Z</td></tr><tr><td>OFF-LA-10001474</td><td>Avery 477</td><td>Labels</td><td>Office Supplies</td><td>Retail CSV</td><td>2024-09-09T19:36:52.229Z</td></tr><tr><td>OFF-PA-10001878</td><td>Xerox 1891</td><td>Paper</td><td>Office Supplies</td><td>Retail CSV</td><td>2024-09-09T19:36:52.229Z</td></tr><tr><td>TEC-CO-10003763</td><td>Canon PC1060 Personal Laser Copier</td><td>Copiers</td><td>Technology</td><td>Retail CSV</td><td>2024-09-09T19:36:52.229Z</td></tr><tr><td>FUR-FU-10000550</td><td>Stacking Trays by OIC</td><td>Furnishings</td><td>Furniture</td><td>Retail CSV</td><td>2024-09-09T19:36:52.229Z</td></tr><tr><td>OFF-PA-10002741</td><td>Xerox 1980</td><td>Paper</td><td>Office Supplies</td><td>Retail CSV</td><td>2024-09-09T19:36:52.229Z</td></tr><tr><td>OFF-AR-10000799</td><td>Col-Erase Pencils with Erasers</td><td>Art</td><td>Office Supplies</td><td>Retail CSV</td><td>2024-09-09T19:36:52.229Z</td></tr><tr><td>TEC-AC-10002550</td><td>Memorex 25GB 6X Branded Blu-Ray Recordable Disc, 30/Pack</td><td>Accessories</td><td>Technology</td><td>Retail CSV</td><td>2024-09-09T19:36:52.229Z</td></tr><tr><td>OFF-AR-10003179</td><td>Dixon Ticonderoga Core-Lock Colored Pencils</td><td>Art</td><td>Office Supplies</td><td>Retail CSV</td><td>2024-09-09T19:36:52.229Z</td></tr><tr><td>TEC-AC-10001553</td><td>Memorex 25GB 6X Branded Blu-Ray Recordable Disc, 15/Pack</td><td>Accessories</td><td>Technology</td><td>Retail CSV</td><td>2024-09-09T19:36:52.229Z</td></tr><tr><td>OFF-AR-10003217</td><td>Newell 316</td><td>Art</td><td>Office Supplies</td><td>Retail CSV</td><td>2024-09-09T19:36:52.229Z</td></tr><tr><td>TEC-AC-10001542</td><td>SanDisk Cruzer 16 GB USB Flash Drive</td><td>Accessories</td><td>Technology</td><td>Retail CSV</td><td>2024-09-09T19:36:52.229Z</td></tr><tr><td>OFF-PA-10001215</td><td>Xerox 1963</td><td>Paper</td><td>Office Supplies</td><td>Retail CSV</td><td>2024-09-09T19:36:52.229Z</td></tr><tr><td>OFF-AR-10003477</td><td>4009 Highlighters</td><td>Art</td><td>Office Supplies</td><td>Retail CSV</td><td>2024-09-09T19:36:52.229Z</td></tr><tr><td>OFF-PA-10000605</td><td>Xerox 1950</td><td>Paper</td><td>Office Supplies</td><td>Retail CSV</td><td>2024-09-09T19:36:52.229Z</td></tr><tr><td>OFF-FA-10001843</td><td>Staples</td><td>Fasteners</td><td>Office Supplies</td><td>Retail CSV</td><td>2024-09-09T19:36:52.229Z</td></tr><tr><td>FUR-TA-10002645</td><td>Hon Rectangular Conference Tables</td><td>Tables</td><td>Furniture</td><td>Retail CSV</td><td>2024-09-09T19:36:52.229Z</td></tr><tr><td>OFF-PA-10003848</td><td>Xerox 1997</td><td>Paper</td><td>Office Supplies</td><td>Retail CSV</td><td>2024-09-09T19:36:52.229Z</td></tr><tr><td>OFF-PA-10000859</td><td>Unpadded Memo Slips</td><td>Paper</td><td>Office Supplies</td><td>Retail CSV</td><td>2024-09-09T19:36:52.229Z</td></tr><tr><td>OFF-PA-10002558</td><td>Xerox 1938</td><td>Paper</td><td>Office Supplies</td><td>Retail CSV</td><td>2024-09-09T19:36:52.229Z</td></tr><tr><td>TEC-PH-10002680</td><td>Samsung Galaxy Note 3</td><td>Phones</td><td>Technology</td><td>Retail CSV</td><td>2024-09-09T19:36:52.229Z</td></tr><tr><td>FUR-FU-10003849</td><td>DAX Metal Frame, Desktop, Stepped-Edge</td><td>Furnishings</td><td>Furniture</td><td>Retail CSV</td><td>2024-09-09T19:36:52.229Z</td></tr><tr><td>FUR-FU-10004952</td><td>C-Line Cubicle Keepers Polyproplyene Holder w/Velcro Back, 8-1/2x11, 25/Bx</td><td>Furnishings</td><td>Furniture</td><td>Retail CSV</td><td>2024-09-09T19:36:52.229Z</td></tr><tr><td>FUR-FU-10003268</td><td>Eldon Radial Chair Mat for Low to Medium Pile Carpets</td><td>Furnishings</td><td>Furniture</td><td>Retail CSV</td><td>2024-09-09T19:36:52.229Z</td></tr><tr><td>FUR-FU-10002088</td><td>Nu-Dell Float Frame 11 x 14 1/2</td><td>Furnishings</td><td>Furniture</td><td>Retail CSV</td><td>2024-09-09T19:36:52.229Z</td></tr><tr><td>OFF-BI-10001460</td><td>Plastic Binding Combs</td><td>Binders</td><td>Office Supplies</td><td>Retail CSV</td><td>2024-09-09T19:36:52.229Z</td></tr><tr><td>OFF-BI-10003694</td><td>\"Avery 3 1/2\"\" Diskette Storage Pages</td><td>Binders</td><td>Office Supplies</td><td>Retail CSV</td><td>2024-09-09T19:36:52.229Z</td></tr><tr><td>FUR-CH-10003973</td><td>GuestStacker Chair with Chrome Finish Legs</td><td>Chairs</td><td>Furniture</td><td>Retail CSV</td><td>2024-09-09T19:36:52.229Z</td></tr><tr><td>OFF-PA-10002923</td><td>Xerox 1942</td><td>Paper</td><td>Office Supplies</td><td>Retail CSV</td><td>2024-09-09T19:36:52.229Z</td></tr><tr><td>OFF-ST-10000321</td><td>Akro Stacking Bins</td><td>Storage</td><td>Office Supplies</td><td>Retail CSV</td><td>2024-09-09T19:36:52.229Z</td></tr><tr><td>OFF-FA-10002983</td><td>Advantus SlideClip Paper Clips</td><td>Fasteners</td><td>Office Supplies</td><td>Retail CSV</td><td>2024-09-09T19:36:52.229Z</td></tr><tr><td>FUR-BO-10002268</td><td>Sauder Barrister Bookcases</td><td>Bookcases</td><td>Furniture</td><td>Retail CSV</td><td>2024-09-09T19:36:52.229Z</td></tr><tr><td>OFF-ST-10002583</td><td>Fellowes Neat Ideas Storage Cubes</td><td>Storage</td><td>Office Supplies</td><td>Retail CSV</td><td>2024-09-09T19:36:52.229Z</td></tr><tr><td>OFF-BI-10004094</td><td>GBC Standard Plastic Binding Systems Combs</td><td>Binders</td><td>Office Supplies</td><td>Retail CSV</td><td>2024-09-09T19:36:52.229Z</td></tr><tr><td>OFF-PA-10001274</td><td>Loose Memo Sheets</td><td>Paper</td><td>Office Supplies</td><td>Retail CSV</td><td>2024-09-09T19:36:52.229Z</td></tr><tr><td>OFF-ST-10001505</td><td>\"Perma STOR-ALL Hanging File Box, 13 1/8\"\"W x 12 1/4\"\"D x 10 1/2\"\"H\"</td><td>Storage</td><td>Office Supplies</td><td>Retail CSV</td><td>2024-09-09T19:36:52.229Z</td></tr><tr><td>OFF-BI-10003784</td><td>Computer Printout Index Tabs</td><td>Binders</td><td>Office Supplies</td><td>Retail CSV</td><td>2024-09-09T19:36:52.229Z</td></tr><tr><td>OFF-AP-10002651</td><td>Hoover Upright Vacuum With Dirt Cup</td><td>Appliances</td><td>Office Supplies</td><td>Retail CSV</td><td>2024-09-09T19:36:52.229Z</td></tr><tr><td>TEC-PH-10001459</td><td>Samsung Galaxy Mega 6.3</td><td>Phones</td><td>Technology</td><td>Retail CSV</td><td>2024-09-09T19:36:52.229Z</td></tr><tr><td>FUR-TA-10004152</td><td>\"Barricks 18\"\" x 48\"\" Non-Folding Utility Table with Bottom Storage Shelf\"</td><td>Tables</td><td>Furniture</td><td>Retail CSV</td><td>2024-09-09T19:36:52.229Z</td></tr><tr><td>TEC-PH-10001795</td><td>RCA H5401RE1 DECT 6.0 4-Line Cordless Handset With Caller ID/Call Waiting</td><td>Phones</td><td>Technology</td><td>Retail CSV</td><td>2024-09-09T19:36:52.229Z</td></tr><tr><td>TEC-AC-10004803</td><td>Sony Micro Vault Click 4 GB USB 2.0 Flash Drive</td><td>Accessories</td><td>Technology</td><td>Retail CSV</td><td>2024-09-09T19:36:52.229Z</td></tr><tr><td>OFF-AR-10003986</td><td>Avery Hi-Liter Pen Style Six-Color Fluorescent Set</td><td>Art</td><td>Office Supplies</td><td>Retail CSV</td><td>2024-09-09T19:36:52.229Z</td></tr><tr><td>FUR-BO-10004834</td><td>Riverside Palais Royal Lawyers Bookcase, Royale Cherry Finish</td><td>Bookcases</td><td>Furniture</td><td>Retail CSV</td><td>2024-09-09T19:36:52.229Z</td></tr><tr><td>FUR-CH-10002372</td><td>Office Star - Ergonomically Designed Knee Chair</td><td>Chairs</td><td>Furniture</td><td>Retail CSV</td><td>2024-09-09T19:36:52.229Z</td></tr><tr><td>OFF-PA-10002586</td><td>Xerox 1970</td><td>Paper</td><td>Office Supplies</td><td>Retail CSV</td><td>2024-09-09T19:36:52.229Z</td></tr><tr><td>FUR-FU-10002298</td><td>\"Rubbermaid ClusterMat Chairmats, Mat Size- 66\"\" x 60\"\"</td><td>Furnishings</td><td>Furniture</td><td>Retail CSV</td><td>2024-09-09T19:36:52.229Z</td></tr><tr><td>OFF-PA-10000223</td><td>Xerox 2000</td><td>Paper</td><td>Office Supplies</td><td>Retail CSV</td><td>2024-09-09T19:36:52.229Z</td></tr><tr><td>TEC-PH-10004100</td><td>Griffin GC17055 Auxiliary Audio Cable</td><td>Phones</td><td>Technology</td><td>Retail CSV</td><td>2024-09-09T19:36:52.229Z</td></tr><tr><td>TEC-MA-10003337</td><td>Okidata B401 Printer</td><td>Machines</td><td>Technology</td><td>Retail CSV</td><td>2024-09-09T19:36:52.229Z</td></tr><tr><td>OFF-BI-10003650</td><td>GBC DocuBind 300 Electric Binding Machine</td><td>Binders</td><td>Office Supplies</td><td>Retail CSV</td><td>2024-09-09T19:36:52.229Z</td></tr><tr><td>OFF-AR-10001662</td><td>Rogers Handheld Barrel Pencil Sharpener</td><td>Art</td><td>Office Supplies</td><td>Retail CSV</td><td>2024-09-09T19:36:52.229Z</td></tr><tr><td>TEC-AC-10003832</td><td>Imation 16GB Mini TravelDrive USB 2.0 Flash Drive</td><td>Accessories</td><td>Technology</td><td>Retail CSV</td><td>2024-09-09T19:36:52.229Z</td></tr><tr><td>FUR-FU-10004090</td><td>\"Executive Impressions 14\"\" Contract Wall Clock\"</td><td>Furnishings</td><td>Furniture</td><td>Retail CSV</td><td>2024-09-09T19:36:52.229Z</td></tr><tr><td>OFF-EN-10001749</td><td>Jiffy Padded Mailers with Self-Seal Closure</td><td>Envelopes</td><td>Office Supplies</td><td>Retail CSV</td><td>2024-09-09T19:36:52.229Z</td></tr><tr><td>OFF-BI-10002571</td><td>Avery Framed View Binder, EZD Ring (Locking), Navy, 1 1/2\"\"</td><td>Binders</td><td>Office Supplies</td><td>Retail CSV</td><td>2024-09-09T19:36:52.229Z</td></tr><tr><td>TEC-AC-10001635</td><td>KeyTronic KT400U2 - Keyboard - Black</td><td>Accessories</td><td>Technology</td><td>Retail CSV</td><td>2024-09-09T19:36:52.229Z</td></tr><tr><td>FUR-FU-10004848</td><td>\"Howard Miller 13-3/4\"\" Diameter Brushed Chrome Round Wall Clock\"</td><td>Furnishings</td><td>Furniture</td><td>Retail CSV</td><td>2024-09-09T19:36:52.229Z</td></tr><tr><td>TEC-AC-10000844</td><td>Logitech Gaming G510s - Keyboard</td><td>Accessories</td><td>Technology</td><td>Retail CSV</td><td>2024-09-09T19:36:52.229Z</td></tr><tr><td>FUR-FU-10002960</td><td>Eldon 200 Class Desk Accessories, Burgundy</td><td>Furnishings</td><td>Furniture</td><td>Retail CSV</td><td>2024-09-09T19:36:52.229Z</td></tr><tr><td>TEC-MA-10002927</td><td>Canon imageCLASS MF7460 Monochrome Digital Laser Multifunction Copier</td><td>Machines</td><td>Technology</td><td>Retail CSV</td><td>2024-09-09T19:36:52.229Z</td></tr><tr><td>OFF-EN-10001415</td><td>Staple envelope</td><td>Envelopes</td><td>Office Supplies</td><td>Retail CSV</td><td>2024-09-09T19:36:52.229Z</td></tr><tr><td>OFF-LA-10004055</td><td>Color-Coded Legal Exhibit Labels</td><td>Labels</td><td>Office Supplies</td><td>Retail CSV</td><td>2024-09-09T19:36:52.229Z</td></tr><tr><td>OFF-PA-10000100</td><td>Xerox 1945</td><td>Paper</td><td>Office Supplies</td><td>Retail CSV</td><td>2024-09-09T19:36:52.229Z</td></tr><tr><td>OFF-FA-10000611</td><td>Binder Clips by OIC</td><td>Fasteners</td><td>Office Supplies</td><td>Retail CSV</td><td>2024-09-09T19:36:52.229Z</td></tr><tr><td>OFF-AR-10004582</td><td>BIC Brite Liner Grip Highlighters</td><td>Art</td><td>Office Supplies</td><td>Retail CSV</td><td>2024-09-09T19:36:52.229Z</td></tr><tr><td>OFF-SU-10002301</td><td>Serrated Blade or Curved Handle Hand Letter Openers</td><td>Supplies</td><td>Office Supplies</td><td>Retail CSV</td><td>2024-09-09T19:36:52.229Z</td></tr><tr><td>OFF-ST-10000636</td><td>Rogers Profile Extra Capacity Storage Tub</td><td>Storage</td><td>Office Supplies</td><td>Retail CSV</td><td>2024-09-09T19:36:52.229Z</td></tr><tr><td>OFF-BI-10004584</td><td>GBC ProClick 150 Presentation Binding System</td><td>Binders</td><td>Office Supplies</td><td>Retail CSV</td><td>2024-09-09T19:36:52.229Z</td></tr><tr><td>TEC-AC-10001142</td><td>First Data FD10 PIN Pad</td><td>Accessories</td><td>Technology</td><td>Retail CSV</td><td>2024-09-09T19:36:52.229Z</td></tr><tr><td>OFF-ST-10001511</td><td>Space Solutions Commercial Steel Shelving</td><td>Storage</td><td>Office Supplies</td><td>Retail CSV</td><td>2024-09-09T19:36:52.229Z</td></tr><tr><td>FUR-FU-10003553</td><td>\"Howard Miller 13-1/2\"\" Diameter Rosebrook Wall Clock\"</td><td>Furnishings</td><td>Furniture</td><td>Retail CSV</td><td>2024-09-09T19:36:52.229Z</td></tr><tr><td>FUR-BO-10003433</td><td>Sauder Cornerstone Collection Library</td><td>Bookcases</td><td>Furniture</td><td>Retail CSV</td><td>2024-09-09T19:36:52.229Z</td></tr><tr><td>OFF-PA-10004405</td><td>Rediform Voice Mail Log Books</td><td>Paper</td><td>Office Supplies</td><td>Retail CSV</td><td>2024-09-09T19:36:52.229Z</td></tr><tr><td>FUR-FU-10004270</td><td>\"Executive Impressions 13\"\" Clairmont Wall Clock\"</td><td>Furnishings</td><td>Furniture</td><td>Retail CSV</td><td>2024-09-09T19:36:52.229Z</td></tr><tr><td>OFF-AP-10000275</td><td>Sanyo Counter Height Refrigerator with Crisper, 3.6 Cubic Foot, Stainless Steel/Black</td><td>Appliances</td><td>Office Supplies</td><td>Retail CSV</td><td>2024-09-09T19:36:52.229Z</td></tr><tr><td>OFF-BI-10004022</td><td>Acco Suede Grain Vinyl Round Ring Binder</td><td>Binders</td><td>Office Supplies</td><td>Retail CSV</td><td>2024-09-09T19:36:52.229Z</td></tr><tr><td>TEC-PH-10002310</td><td>Panasonic KX T7731-B Digital phone</td><td>Phones</td><td>Technology</td><td>Retail CSV</td><td>2024-09-09T19:36:52.229Z</td></tr><tr><td>FUR-FU-10001037</td><td>DAX Charcoal/Nickel-Tone Document Frame, 5 x 7</td><td>Furnishings</td><td>Furniture</td><td>Retail CSV</td><td>2024-09-09T19:36:52.229Z</td></tr><tr><td>TEC-PH-10001527</td><td>Plantronics MX500i Earset</td><td>Phones</td><td>Technology</td><td>Retail CSV</td><td>2024-09-09T19:36:52.229Z</td></tr><tr><td>TEC-PH-10000369</td><td>HTC One Mini</td><td>Phones</td><td>Technology</td><td>Retail CSV</td><td>2024-09-09T19:36:52.229Z</td></tr><tr><td>FUR-FU-10001847</td><td>Eldon Image Series Black Desk Accessories</td><td>Furnishings</td><td>Furniture</td><td>Retail CSV</td><td>2024-09-09T19:36:52.229Z</td></tr><tr><td>FUR-BO-10002853</td><td>O'Sullivan 5-Shelf Heavy-Duty Bookcases</td><td>Bookcases</td><td>Furniture</td><td>Retail CSV</td><td>2024-09-09T19:36:52.229Z</td></tr><tr><td>TEC-MA-10001047</td><td>3D Systems Cube Printer, 2nd Generation, Magenta</td><td>Machines</td><td>Technology</td><td>Retail CSV</td><td>2024-09-09T19:36:52.229Z</td></tr><tr><td>FUR-BO-10002545</td><td>Atlantic Metals Mobile 3-Shelf Bookcases, Custom Colors</td><td>Bookcases</td><td>Furniture</td><td>Retail CSV</td><td>2024-09-09T19:36:52.229Z</td></tr><tr><td>OFF-BI-10000404</td><td>Avery Printable Repositionable Plastic Tabs</td><td>Binders</td><td>Office Supplies</td><td>Retail CSV</td><td>2024-09-09T19:36:52.229Z</td></tr><tr><td>OFF-ST-10001272</td><td>Mini 13-1/2 Capacity Data Binder Rack, Pearl</td><td>Storage</td><td>Office Supplies</td><td>Retail CSV</td><td>2024-09-09T19:36:52.229Z</td></tr><tr><td>OFF-BI-10004716</td><td>Wilson Jones Hanging Recycled Pressboard Data Binders</td><td>Binders</td><td>Office Supplies</td><td>Retail CSV</td><td>2024-09-09T19:36:52.229Z</td></tr><tr><td>TEC-PH-10001494</td><td>Polycom CX600 IP Phone VoIP phone</td><td>Phones</td><td>Technology</td><td>Retail CSV</td><td>2024-09-09T19:36:52.229Z</td></tr><tr><td>OFF-BI-10002026</td><td>Avery Arch Ring Binders</td><td>Binders</td><td>Office Supplies</td><td>Retail CSV</td><td>2024-09-09T19:36:52.229Z</td></tr><tr><td>FUR-FU-10001731</td><td>Acrylic Self-Standing Desk Frames</td><td>Furnishings</td><td>Furniture</td><td>Retail CSV</td><td>2024-09-09T19:36:52.229Z</td></tr><tr><td>OFF-AR-10000380</td><td>Hunt PowerHouse Electric Pencil Sharpener, Blue</td><td>Art</td><td>Office Supplies</td><td>Retail CSV</td><td>2024-09-09T19:36:52.229Z</td></tr><tr><td>FUR-TA-10001768</td><td>Hon Racetrack Conference Tables</td><td>Tables</td><td>Furniture</td><td>Retail CSV</td><td>2024-09-09T19:36:52.229Z</td></tr><tr><td>OFF-SU-10003505</td><td>Premier Electric Letter Opener</td><td>Supplies</td><td>Office Supplies</td><td>Retail CSV</td><td>2024-09-09T19:36:52.229Z</td></tr><tr><td>OFF-BI-10001031</td><td>Pressboard Data Binders by Wilson Jones</td><td>Binders</td><td>Office Supplies</td><td>Retail CSV</td><td>2024-09-09T19:36:52.229Z</td></tr><tr><td>OFF-BI-10004519</td><td>GBC DocuBind P100 Manual Binding Machine</td><td>Binders</td><td>Office Supplies</td><td>Retail CSV</td><td>2024-09-09T19:36:52.229Z</td></tr><tr><td>OFF-BI-10004224</td><td>Catalog Binders with Expanding Posts</td><td>Binders</td><td>Office Supplies</td><td>Retail CSV</td><td>2024-09-09T19:36:52.229Z</td></tr><tr><td>FUR-BO-10002213</td><td>Sauder Forest Hills Library, Woodland Oak Finish</td><td>Bookcases</td><td>Furniture</td><td>Retail CSV</td><td>2024-09-09T19:36:52.229Z</td></tr><tr><td>FUR-CH-10002758</td><td>Hon Deluxe Fabric Upholstered Stacking Chairs, Squared Back</td><td>Chairs</td><td>Furniture</td><td>Retail CSV</td><td>2024-09-09T19:36:52.229Z</td></tr><tr><td>OFF-PA-10001846</td><td>Xerox 1899</td><td>Paper</td><td>Office Supplies</td><td>Retail CSV</td><td>2024-09-09T19:36:52.229Z</td></tr><tr><td>OFF-SU-10002573</td><td>\"Acme 10\"\" Easy Grip Assistive Scissors\"</td><td>Supplies</td><td>Office Supplies</td><td>Retail CSV</td><td>2024-09-09T19:36:52.229Z</td></tr><tr><td>OFF-PA-10004911</td><td>Rediform S.O.S. 1-Up Phone Message Bk, 4-1/4x3-1/16 Bk, 1 Form/Pg, 40 Messages/Bk, 3/Pk</td><td>Paper</td><td>Office Supplies</td><td>Retail CSV</td><td>2024-09-09T19:36:52.229Z</td></tr><tr><td>FUR-CH-10004289</td><td>Global Super Steno Chair</td><td>Chairs</td><td>Furniture</td><td>Retail CSV</td><td>2024-09-09T19:36:52.229Z</td></tr><tr><td>OFF-PA-10003309</td><td>Xerox 211</td><td>Paper</td><td>Office Supplies</td><td>Retail CSV</td><td>2024-09-09T19:36:52.229Z</td></tr><tr><td>TEC-AC-10003289</td><td>Anker Ultra-Slim Mini Bluetooth 3.0 Wireless Keyboard</td><td>Accessories</td><td>Technology</td><td>Retail CSV</td><td>2024-09-09T19:36:52.229Z</td></tr><tr><td>OFF-PA-10001752</td><td>Hammermill CopyPlus Copy Paper (20Lb. and 84 Bright)</td><td>Paper</td><td>Office Supplies</td><td>Retail CSV</td><td>2024-09-09T19:36:52.229Z</td></tr><tr><td>FUR-FU-10003247</td><td>36X48 HARDFLOOR CHAIRMAT</td><td>Furnishings</td><td>Furniture</td><td>Retail CSV</td><td>2024-09-09T19:36:52.229Z</td></tr><tr><td>OFF-PA-10001977</td><td>Xerox 194</td><td>Paper</td><td>Office Supplies</td><td>Retail CSV</td><td>2024-09-09T19:36:52.229Z</td></tr><tr><td>OFF-AP-10002867</td><td>Fellowes Command Center 5-outlet power strip</td><td>Appliances</td><td>Office Supplies</td><td>Retail CSV</td><td>2024-09-09T19:36:52.229Z</td></tr><tr><td>FUR-BO-10000112</td><td>Bush Birmingham Collection Bookcase, Dark Cherry</td><td>Bookcases</td><td>Furniture</td><td>Retail CSV</td><td>2024-09-09T19:36:52.229Z</td></tr><tr><td>OFF-AR-10000914</td><td>Boston 16765 Mini Stand Up Battery Pencil Sharpener</td><td>Art</td><td>Office Supplies</td><td>Retail CSV</td><td>2024-09-09T19:36:52.229Z</td></tr><tr><td>FUR-FU-10004864</td><td>\"Howard Miller 14-1/2\"\" Diameter Chrome Round Wall Clock\"</td><td>Furnishings</td><td>Furniture</td><td>Retail CSV</td><td>2024-09-09T19:36:52.229Z</td></tr><tr><td>FUR-CH-10002024</td><td>HON 5400 Series Task Chairs for Big and Tall</td><td>Chairs</td><td>Furniture</td><td>Retail CSV</td><td>2024-09-09T19:36:52.229Z</td></tr><tr><td>FUR-CH-10000665</td><td>Global Airflow Leather Mesh Back Chair, Black</td><td>Chairs</td><td>Furniture</td><td>Retail CSV</td><td>2024-09-09T19:36:52.229Z</td></tr><tr><td>OFF-PA-10002870</td><td>Ampad Phone Message Book, Recycled, 400 Message Capacity, 5 ¾” x 11”</td><td>Paper</td><td>Office Supplies</td><td>Retail CSV</td><td>2024-09-09T19:36:52.229Z</td></tr><tr><td>OFF-PA-10004782</td><td>Xerox 228</td><td>Paper</td><td>Office Supplies</td><td>Retail CSV</td><td>2024-09-09T19:36:52.229Z</td></tr><tr><td>TEC-AC-10002331</td><td>Maxell 74 Minute CDR, 10/Pack</td><td>Accessories</td><td>Technology</td><td>Retail CSV</td><td>2024-09-09T19:36:52.229Z</td></tr><tr><td>TEC-PH-10001448</td><td>Anker Astro 15000mAh USB Portable Charger</td><td>Phones</td><td>Technology</td><td>Retail CSV</td><td>2024-09-09T19:36:52.229Z</td></tr><tr><td>OFF-AR-10004456</td><td>Panasonic KP-4ABK Battery-Operated Pencil Sharpener</td><td>Art</td><td>Office Supplies</td><td>Retail CSV</td><td>2024-09-09T19:36:52.229Z</td></tr><tr><td>OFF-BI-10002393</td><td>Binder Posts</td><td>Binders</td><td>Office Supplies</td><td>Retail CSV</td><td>2024-09-09T19:36:52.229Z</td></tr><tr><td>FUR-BO-10003546</td><td>Hon 4-Shelf Metal Bookcases</td><td>Bookcases</td><td>Furniture</td><td>Retail CSV</td><td>2024-09-09T19:36:52.229Z</td></tr><tr><td>TEC-MA-10004626</td><td>Lexmark 20R1285 X6650 Wireless All-in-One Printer</td><td>Machines</td><td>Technology</td><td>Retail CSV</td><td>2024-09-09T19:36:52.229Z</td></tr><tr><td>OFF-BI-10002609</td><td>Avery Hidden Tab Dividers for Binding Systems</td><td>Binders</td><td>Office Supplies</td><td>Retail CSV</td><td>2024-09-09T19:36:52.229Z</td></tr><tr><td>OFF-BI-10002706</td><td>Avery Premier Heavy-Duty Binder with Round Locking Rings</td><td>Binders</td><td>Office Supplies</td><td>Retail CSV</td><td>2024-09-09T19:36:52.229Z</td></tr><tr><td>TEC-AC-10002567</td><td>Logitech G602 Wireless Gaming Mouse</td><td>Accessories</td><td>Technology</td><td>Retail CSV</td><td>2024-09-09T19:36:52.229Z</td></tr><tr><td>OFF-PA-10004971</td><td>Xerox 196</td><td>Paper</td><td>Office Supplies</td><td>Retail CSV</td><td>2024-09-09T19:36:52.229Z</td></tr><tr><td>OFF-AR-10000255</td><td>Newell 328</td><td>Art</td><td>Office Supplies</td><td>Retail CSV</td><td>2024-09-09T19:36:52.229Z</td></tr><tr><td>OFF-AR-10003770</td><td>Newell 340</td><td>Art</td><td>Office Supplies</td><td>Retail CSV</td><td>2024-09-09T19:36:52.229Z</td></tr><tr><td>FUR-FU-10001196</td><td>DAX Cubicle Frames - 8x10</td><td>Furnishings</td><td>Furniture</td><td>Retail CSV</td><td>2024-09-09T19:36:52.229Z</td></tr><tr><td>OFF-PA-10001033</td><td>Xerox 1893</td><td>Paper</td><td>Office Supplies</td><td>Retail CSV</td><td>2024-09-09T19:36:52.229Z</td></tr><tr><td>TEC-AC-10003628</td><td>Logitech 910-002974 M325 Wireless Mouse for Web Scrolling</td><td>Accessories</td><td>Technology</td><td>Retail CSV</td><td>2024-09-09T19:36:52.229Z</td></tr><tr><td>FUR-TA-10004575</td><td>Hon 5100 Series Wood Tables</td><td>Tables</td><td>Furniture</td><td>Retail CSV</td><td>2024-09-09T19:36:52.229Z</td></tr><tr><td>TEC-AC-10000710</td><td>Maxell DVD-RAM Discs</td><td>Accessories</td><td>Technology</td><td>Retail CSV</td><td>2024-09-09T19:36:52.229Z</td></tr><tr><td>FUR-FU-10002191</td><td>G.E. Halogen Desk Lamp Bulbs</td><td>Furnishings</td><td>Furniture</td><td>Retail CSV</td><td>2024-09-09T19:36:52.229Z</td></tr><tr><td>TEC-PH-10004539</td><td>Wireless Extenders zBoost YX545 SOHO Signal Booster</td><td>Phones</td><td>Technology</td><td>Retail CSV</td><td>2024-09-09T19:36:52.229Z</td></tr><tr><td>OFF-ST-10002214</td><td>X-Rack File for Hanging Folders</td><td>Storage</td><td>Office Supplies</td><td>Retail CSV</td><td>2024-09-09T19:36:52.229Z</td></tr><tr><td>OFF-ST-10002554</td><td>Tennsco Industrial Shelving</td><td>Storage</td><td>Office Supplies</td><td>Retail CSV</td><td>2024-09-09T19:36:52.229Z</td></tr><tr><td>TEC-PH-10001051</td><td>HTC One</td><td>Phones</td><td>Technology</td><td>Retail CSV</td><td>2024-09-09T19:36:52.229Z</td></tr><tr><td>OFF-PA-10001184</td><td>Xerox 1903</td><td>Paper</td><td>Office Supplies</td><td>Retail CSV</td><td>2024-09-09T19:36:52.229Z</td></tr><tr><td>FUR-CH-10002320</td><td>Hon Pagoda Stacking Chairs</td><td>Chairs</td><td>Furniture</td><td>Retail CSV</td><td>2024-09-09T19:36:52.229Z</td></tr><tr><td>OFF-AR-10003056</td><td>Newell 341</td><td>Art</td><td>Office Supplies</td><td>Retail CSV</td><td>2024-09-09T19:36:52.229Z</td></tr><tr><td>OFF-PA-10000659</td><td>Adams Phone Message Book, Professional, 400 Message Capacity, 5 3/6” x 11”</td><td>Paper</td><td>Office Supplies</td><td>Retail CSV</td><td>2024-09-09T19:36:52.229Z</td></tr><tr><td>TEC-PH-10001918</td><td>Nortel Business Series Terminal T7208 Digital phone</td><td>Phones</td><td>Technology</td><td>Retail CSV</td><td>2024-09-09T19:36:52.229Z</td></tr><tr><td>FUR-CH-10000015</td><td>Hon Multipurpose Stacking Arm Chairs</td><td>Chairs</td><td>Furniture</td><td>Retail CSV</td><td>2024-09-09T19:36:52.229Z</td></tr><tr><td>TEC-MA-10002937</td><td>Canon Color ImageCLASS MF8580Cdw Wireless Laser All-In-One Printer, Copier, Scanner</td><td>Machines</td><td>Technology</td><td>Retail CSV</td><td>2024-09-09T19:36:52.229Z</td></tr><tr><td>TEC-PH-10001363</td><td>Apple iPhone 5S</td><td>Phones</td><td>Technology</td><td>Retail CSV</td><td>2024-09-09T19:36:52.229Z</td></tr><tr><td>FUR-FU-10002759</td><td>12-1/2 Diameter Round Wall Clock</td><td>Furnishings</td><td>Furniture</td><td>Retail CSV</td><td>2024-09-09T19:36:52.229Z</td></tr><tr><td>FUR-BO-10003272</td><td>O'Sullivan Living Dimensions 5-Shelf Bookcases</td><td>Bookcases</td><td>Furniture</td><td>Retail CSV</td><td>2024-09-09T19:36:52.229Z</td></tr><tr><td>OFF-LA-10003223</td><td>Avery 508</td><td>Labels</td><td>Office Supplies</td><td>Retail CSV</td><td>2024-09-09T19:36:52.229Z</td></tr><tr><td>TEC-PH-10002885</td><td>Apple iPhone 5</td><td>Phones</td><td>Technology</td><td>Retail CSV</td><td>2024-09-09T19:36:52.229Z</td></tr><tr><td>OFF-ST-10001128</td><td>Carina Mini System Audio Rack, Model AR050B</td><td>Storage</td><td>Office Supplies</td><td>Retail CSV</td><td>2024-09-09T19:36:52.229Z</td></tr><tr><td>TEC-PH-10001580</td><td>Logitech Mobile Speakerphone P710e - speaker phone</td><td>Phones</td><td>Technology</td><td>Retail CSV</td><td>2024-09-09T19:36:52.229Z</td></tr><tr><td>FUR-FU-10002671</td><td>Electrix 20W Halogen Replacement Bulb for Zoom-In Desk Lamp</td><td>Furnishings</td><td>Furniture</td><td>Retail CSV</td><td>2024-09-09T19:36:52.229Z</td></tr><tr><td>FUR-FU-10000073</td><td>Deflect-O Glasstique Clear Desk Accessories</td><td>Furnishings</td><td>Furniture</td><td>Retail CSV</td><td>2024-09-09T19:36:52.229Z</td></tr><tr><td>OFF-PA-10000029</td><td>Xerox 224</td><td>Paper</td><td>Office Supplies</td><td>Retail CSV</td><td>2024-09-09T19:36:52.229Z</td></tr><tr><td>OFF-BI-10000042</td><td>\"Pressboard Data Binder, Crimson, 12\"\" X 8 1/2\"\"\"</td><td>Binders</td><td>Office Supplies</td><td>Retail CSV</td><td>2024-09-09T19:36:52.229Z</td></tr><tr><td>TEC-PH-10000895</td><td>Polycom VVX 310 VoIP phone</td><td>Phones</td><td>Technology</td><td>Retail CSV</td><td>2024-09-09T19:36:52.229Z</td></tr><tr><td>OFF-ST-10000943</td><td>Eldon ProFile File 'N Store Portable File Tub Letter/Legal Size Black</td><td>Storage</td><td>Office Supplies</td><td>Retail CSV</td><td>2024-09-09T19:36:52.229Z</td></tr><tr><td>OFF-PA-10002764</td><td>Easy-staple paper</td><td>Paper</td><td>Office Supplies</td><td>Retail CSV</td><td>2024-09-09T19:36:52.229Z</td></tr><tr><td>OFF-PA-10003797</td><td>Xerox 209</td><td>Paper</td><td>Office Supplies</td><td>Retail CSV</td><td>2024-09-09T19:36:52.229Z</td></tr><tr><td>OFF-AP-10000358</td><td>Fellowes Basic Home/Office Series Surge Protectors</td><td>Appliances</td><td>Office Supplies</td><td>Retail CSV</td><td>2024-09-09T19:36:52.229Z</td></tr><tr><td>OFF-ST-10001590</td><td>Tenex Personal Project File with Scoop Front Design, Black</td><td>Storage</td><td>Office Supplies</td><td>Retail CSV</td><td>2024-09-09T19:36:52.229Z</td></tr><tr><td>FUR-FU-10001095</td><td>DAX Black Cherry Wood-Tone Poster Frame</td><td>Furnishings</td><td>Furniture</td><td>Retail CSV</td><td>2024-09-09T19:36:52.229Z</td></tr><tr><td>OFF-AR-10000315</td><td>Dixon Ticonderoga Maple Cedar Pencil, #2</td><td>Art</td><td>Office Supplies</td><td>Retail CSV</td><td>2024-09-09T19:36:52.229Z</td></tr><tr><td>OFF-AR-10001473</td><td>Newell 313</td><td>Art</td><td>Office Supplies</td><td>Retail CSV</td><td>2024-09-09T19:36:52.229Z</td></tr><tr><td>OFF-PA-10001001</td><td>Snap-A-Way Black Print Carbonless Speed Message, No Reply Area, Duplicate</td><td>Paper</td><td>Office Supplies</td><td>Retail CSV</td><td>2024-09-09T19:36:52.229Z</td></tr><tr><td>TEC-PH-10002447</td><td>AT&T CL83451 4-Handset Telephone</td><td>Phones</td><td>Technology</td><td>Retail CSV</td><td>2024-09-09T19:36:52.229Z</td></tr><tr><td>OFF-BI-10002852</td><td>Ibico Standard Transparent Covers</td><td>Binders</td><td>Office Supplies</td><td>Retail CSV</td><td>2024-09-09T19:36:52.229Z</td></tr><tr><td>OFF-LA-10003148</td><td>Avery 51</td><td>Labels</td><td>Office Supplies</td><td>Retail CSV</td><td>2024-09-09T19:36:52.229Z</td></tr><tr><td>OFF-ST-10003221</td><td>Staple magnet</td><td>Storage</td><td>Office Supplies</td><td>Retail CSV</td><td>2024-09-09T19:36:52.229Z</td></tr><tr><td>OFF-AR-10000538</td><td>Boston Model 1800 Electric Pencil Sharpener, Gray</td><td>Art</td><td>Office Supplies</td><td>Retail CSV</td><td>2024-09-09T19:36:52.229Z</td></tr><tr><td>OFF-EN-10002312</td><td>#10 Self-Seal White Envelopes</td><td>Envelopes</td><td>Office Supplies</td><td>Retail CSV</td><td>2024-09-09T19:36:52.229Z</td></tr><tr><td>OFF-PA-10001534</td><td>Xerox 230</td><td>Paper</td><td>Office Supplies</td><td>Retail CSV</td><td>2024-09-09T19:36:52.229Z</td></tr><tr><td>FUR-FU-10002379</td><td>Eldon Econocleat Chair Mats for Low Pile Carpets</td><td>Furnishings</td><td>Furniture</td><td>Retail CSV</td><td>2024-09-09T19:36:52.229Z</td></tr><tr><td>OFF-BI-10002897</td><td>\"Black Avery Memo-Size 3-Ring Binder, 5 1/2\"\" x 8 1/2\"\"\"</td><td>Binders</td><td>Office Supplies</td><td>Retail CSV</td><td>2024-09-09T19:36:52.229Z</td></tr><tr><td>FUR-BO-10004695</td><td>O'Sullivan 2-Door Barrister Bookcase in Odessa Pine</td><td>Bookcases</td><td>Furniture</td><td>Retail CSV</td><td>2024-09-09T19:36:52.229Z</td></tr><tr><td>TEC-AC-10000109</td><td>Sony Micro Vault Click 16 GB USB 2.0 Flash Drive</td><td>Accessories</td><td>Technology</td><td>Retail CSV</td><td>2024-09-09T19:36:52.229Z</td></tr><tr><td>OFF-ST-10000918</td><td>Crate-A-Files</td><td>Storage</td><td>Office Supplies</td><td>Retail CSV</td><td>2024-09-09T19:36:52.229Z</td></tr><tr><td>FUR-CH-10004540</td><td>Global Chrome Stack Chair</td><td>Chairs</td><td>Furniture</td><td>Retail CSV</td><td>2024-09-09T19:36:52.229Z</td></tr><tr><td>TEC-PH-10001300</td><td>iKross Bluetooth Portable Keyboard + Cell Phone Stand Holder + Brush for Apple iPhone 5S 5C 5, 4S 4</td><td>Phones</td><td>Technology</td><td>Retail CSV</td><td>2024-09-09T19:36:52.229Z</td></tr><tr><td>OFF-LA-10003190</td><td>Avery 474</td><td>Labels</td><td>Office Supplies</td><td>Retail CSV</td><td>2024-09-09T19:36:52.229Z</td></tr><tr><td>OFF-BI-10003091</td><td>GBC DocuBind TL200 Manual Binding Machine</td><td>Binders</td><td>Office Supplies</td><td>Retail CSV</td><td>2024-09-09T19:36:52.229Z</td></tr><tr><td>OFF-PA-10002160</td><td>Xerox 1978</td><td>Paper</td><td>Office Supplies</td><td>Retail CSV</td><td>2024-09-09T19:36:52.229Z</td></tr><tr><td>TEC-AC-10002550</td><td>Maxell 4.7GB DVD-RW 3/Pack</td><td>Accessories</td><td>Technology</td><td>Retail CSV</td><td>2024-09-09T19:36:52.229Z</td></tr><tr><td>TEC-MA-10002859</td><td>Ativa MDM8000 8-Sheet Micro-Cut Shredder</td><td>Machines</td><td>Technology</td><td>Retail CSV</td><td>2024-09-09T19:36:52.229Z</td></tr><tr><td>OFF-AR-10002135</td><td>Boston Heavy-Duty Trimline Electric Pencil Sharpeners</td><td>Art</td><td>Office Supplies</td><td>Retail CSV</td><td>2024-09-09T19:36:52.229Z</td></tr><tr><td>OFF-PA-10002005</td><td>Xerox 225</td><td>Paper</td><td>Office Supplies</td><td>Retail CSV</td><td>2024-09-09T19:36:52.229Z</td></tr><tr><td>FUR-FU-10002456</td><td>Master Caster Door Stop, Large Neon Orange</td><td>Furnishings</td><td>Furniture</td><td>Retail CSV</td><td>2024-09-09T19:36:52.229Z</td></tr><tr><td>FUR-TA-10004175</td><td>\"Hon 30\"\" x 60\"\" Table with Locking Drawer\"</td><td>Tables</td><td>Furniture</td><td>Retail CSV</td><td>2024-09-09T19:36:52.229Z</td></tr><tr><td>TEC-PH-10000923</td><td>Belkin SportFit Armband For iPhone 5s/5c, Fuchsia</td><td>Phones</td><td>Technology</td><td>Retail CSV</td><td>2024-09-09T19:36:52.229Z</td></tr><tr><td>TEC-AC-10000358</td><td>Imation Secure Drive + Hardware Encrypted USB flash drive - 16 GB</td><td>Accessories</td><td>Technology</td><td>Retail CSV</td><td>2024-09-09T19:36:52.229Z</td></tr><tr><td>OFF-AR-10004062</td><td>Staples in misc. colors</td><td>Art</td><td>Office Supplies</td><td>Retail CSV</td><td>2024-09-09T19:36:52.229Z</td></tr><tr><td>TEC-AC-10003237</td><td>Memorex Micro Travel Drive 4 GB</td><td>Accessories</td><td>Technology</td><td>Retail CSV</td><td>2024-09-09T19:36:52.229Z</td></tr><tr><td>TEC-MA-10000904</td><td>Brother MFC-9340CDW LED All-In-One Printer, Copier Scanner</td><td>Machines</td><td>Technology</td><td>Retail CSV</td><td>2024-09-09T19:36:52.229Z</td></tr><tr><td>TEC-AC-10003027</td><td>Imation 8GB Mini TravelDrive USB 2.0 Flash Drive</td><td>Accessories</td><td>Technology</td><td>Retail CSV</td><td>2024-09-09T19:36:52.229Z</td></tr><tr><td>TEC-PH-10004977</td><td>GE 30524EE4</td><td>Phones</td><td>Technology</td><td>Retail CSV</td><td>2024-09-09T19:36:52.229Z</td></tr><tr><td>TEC-PH-10004536</td><td>Avaya 5420 Digital phone</td><td>Phones</td><td>Technology</td><td>Retail CSV</td><td>2024-09-09T19:36:52.229Z</td></tr><tr><td>OFF-BI-10000343</td><td>\"Pressboard Covers with Storage Hooks, 9 1/2\"\" x 11\"\"</td><td>Binders</td><td>Office Supplies</td><td>Retail CSV</td><td>2024-09-09T19:36:52.229Z</td></tr><tr><td>TEC-PH-10002398</td><td>AT&T 1070 Corded Phone</td><td>Phones</td><td>Technology</td><td>Retail CSV</td><td>2024-09-09T19:36:52.229Z</td></tr><tr><td>OFF-AR-10003156</td><td>50 Colored Long Pencils</td><td>Art</td><td>Office Supplies</td><td>Retail CSV</td><td>2024-09-09T19:36:52.229Z</td></tr><tr><td>TEC-PH-10003800</td><td>i.Sound Portable Power - 8000 mAh</td><td>Phones</td><td>Technology</td><td>Retail CSV</td><td>2024-09-09T19:36:52.229Z</td></tr><tr><td>OFF-LA-10002787</td><td>Avery 480</td><td>Labels</td><td>Office Supplies</td><td>Retail CSV</td><td>2024-09-09T19:36:52.229Z</td></tr><tr><td>OFF-BI-10004230</td><td>GBC Recycled Grain Textured Covers</td><td>Binders</td><td>Office Supplies</td><td>Retail CSV</td><td>2024-09-09T19:36:52.229Z</td></tr><tr><td>OFF-ST-10002344</td><td>\"Carina 42\"\"Hx23 3/4\"\"W Media Storage Unit\"</td><td>Storage</td><td>Office Supplies</td><td>Retail CSV</td><td>2024-09-09T19:36:52.229Z</td></tr><tr><td>FUR-TA-10002622</td><td>Bush Andora Conference Table, Maple/Graphite Gray Finish</td><td>Tables</td><td>Furniture</td><td>Retail CSV</td><td>2024-09-09T19:36:52.229Z</td></tr><tr><td>OFF-PA-10001246</td><td>Xerox 215</td><td>Paper</td><td>Office Supplies</td><td>Retail CSV</td><td>2024-09-09T19:36:52.229Z</td></tr><tr><td>OFF-PA-10001815</td><td>Xerox 1885</td><td>Paper</td><td>Office Supplies</td><td>Retail CSV</td><td>2024-09-09T19:36:52.229Z</td></tr><tr><td>OFF-AP-10003779</td><td>Kensington 7 Outlet MasterPiece Power Center with Fax/Phone Line Protection</td><td>Appliances</td><td>Office Supplies</td><td>Retail CSV</td><td>2024-09-09T19:36:52.229Z</td></tr><tr><td>OFF-BI-10000962</td><td>\"Acco Flexible ACCOHIDE Square Ring Data Binder, Dark Blue, 11 1/2\"\" X 14\"\" 7/8\"\"\"</td><td>Binders</td><td>Office Supplies</td><td>Retail CSV</td><td>2024-09-09T19:36:52.229Z</td></tr><tr><td>TEC-MA-10003329</td><td>Vtech AT&T CL2940 Corded Speakerphone, Black</td><td>Machines</td><td>Technology</td><td>Retail CSV</td><td>2024-09-09T19:36:52.229Z</td></tr><tr><td>OFF-LA-10002368</td><td>Avery 479</td><td>Labels</td><td>Office Supplies</td><td>Retail CSV</td><td>2024-09-09T19:36:52.229Z</td></tr><tr><td>TEC-AC-10004633</td><td>Verbatim 25 GB 6x Blu-ray Single Layer Recordable Disc, 3/Pack</td><td>Accessories</td><td>Technology</td><td>Retail CSV</td><td>2024-09-09T19:36:52.229Z</td></tr><tr><td>OFF-PA-10001144</td><td>Xerox 1913</td><td>Paper</td><td>Office Supplies</td><td>Retail CSV</td><td>2024-09-09T19:36:52.229Z</td></tr><tr><td>OFF-BI-10004632</td><td>Ibico Hi-Tech Manual Binding System</td><td>Binders</td><td>Office Supplies</td><td>Retail CSV</td><td>2024-09-09T19:36:52.229Z</td></tr><tr><td>FUR-CH-10003981</td><td>Global Commerce Series Low-Back Swivel/Tilt Chairs</td><td>Chairs</td><td>Furniture</td><td>Retail CSV</td><td>2024-09-09T19:36:52.229Z</td></tr><tr><td>OFF-FA-10004395</td><td>Plymouth Boxed Rubber Bands by Plymouth</td><td>Fasteners</td><td>Office Supplies</td><td>Retail CSV</td><td>2024-09-09T19:36:52.229Z</td></tr><tr><td>OFF-BI-10001267</td><td>Universal Recycled Hanging Pressboard Report Binders, Letter Size</td><td>Binders</td><td>Office Supplies</td><td>Retail CSV</td><td>2024-09-09T19:36:52.229Z</td></tr><tr><td>OFF-BI-10004040</td><td>Wilson Jones Impact Binders</td><td>Binders</td><td>Office Supplies</td><td>Retail CSV</td><td>2024-09-09T19:36:52.229Z</td></tr><tr><td>OFF-AR-10000657</td><td>Binney & Smith inkTank Desk Highlighter, Chisel Tip, Yellow, 12/Box</td><td>Art</td><td>Office Supplies</td><td>Retail CSV</td><td>2024-09-09T19:36:52.229Z</td></tr><tr><td>TEC-PH-10001619</td><td>LG G3</td><td>Phones</td><td>Technology</td><td>Retail CSV</td><td>2024-09-09T19:36:52.229Z</td></tr><tr><td>OFF-PA-10003036</td><td>\"Black Print Carbonless 8 1/2\"\" x 8 1/4\"\" Rapid Memo Book\"</td><td>Paper</td><td>Office Supplies</td><td>Retail CSV</td><td>2024-09-09T19:36:52.229Z</td></tr><tr><td>TEC-MA-10004552</td><td>Star Micronics TSP100 TSP143LAN Receipt Printer</td><td>Machines</td><td>Technology</td><td>Retail CSV</td><td>2024-09-09T19:36:52.229Z</td></tr><tr><td>OFF-AR-10003602</td><td>Quartet Omega Colored Chalk, 12/Pack</td><td>Art</td><td>Office Supplies</td><td>Retail CSV</td><td>2024-09-09T19:36:52.229Z</td></tr><tr><td>TEC-AC-10002399</td><td>SanDisk Cruzer 32 GB USB Flash Drive</td><td>Accessories</td><td>Technology</td><td>Retail CSV</td><td>2024-09-09T19:36:52.229Z</td></tr><tr><td>OFF-BI-10000605</td><td>\"Acco Pressboard Covers with Storage Hooks, 9 1/2\"\" x 11\"\"</td><td>Binders</td><td>Office Supplies</td><td>Retail CSV</td><td>2024-09-09T19:36:52.229Z</td></tr><tr><td>TEC-PH-10002103</td><td>Jabra SPEAK 410</td><td>Phones</td><td>Technology</td><td>Retail CSV</td><td>2024-09-09T19:36:52.229Z</td></tr><tr><td>OFF-PA-10000682</td><td>Xerox 1924</td><td>Paper</td><td>Office Supplies</td><td>Retail CSV</td><td>2024-09-09T19:36:52.229Z</td></tr><tr><td>OFF-PA-10000806</td><td>Xerox 1934</td><td>Paper</td><td>Office Supplies</td><td>Retail CSV</td><td>2024-09-09T19:36:52.229Z</td></tr><tr><td>FUR-BO-10003965</td><td>O'Sullivan Manor Hill 2-Door Library in Brianna Oak</td><td>Bookcases</td><td>Furniture</td><td>Retail CSV</td><td>2024-09-09T19:36:52.229Z</td></tr><tr><td>FUR-FU-10000308</td><td>Deflect-o Glass Clear Studded Chair Mats</td><td>Furnishings</td><td>Furniture</td><td>Retail CSV</td><td>2024-09-09T19:36:52.229Z</td></tr><tr><td>OFF-LA-10002945</td><td>Permanent Self-Adhesive File Folder Labels for Typewriters, 1 1/8 x 3 1/2, White</td><td>Labels</td><td>Office Supplies</td><td>Retail CSV</td><td>2024-09-09T19:36:52.229Z</td></tr><tr><td>TEC-AC-10002857</td><td>Verbatim 25 GB 6x Blu-ray Single Layer Recordable Disc, 1/Pack</td><td>Accessories</td><td>Technology</td><td>Retail CSV</td><td>2024-09-09T19:36:52.229Z</td></tr><tr><td>OFF-PA-10002137</td><td>Southworth 100% Résumé Paper, 24lb.</td><td>Paper</td><td>Office Supplies</td><td>Retail CSV</td><td>2024-09-09T19:36:52.229Z</td></tr><tr><td>FUR-TA-10002774</td><td>Laminate Occasional Tables</td><td>Tables</td><td>Furniture</td><td>Retail CSV</td><td>2024-09-09T19:36:52.229Z</td></tr><tr><td>FUR-FU-10002253</td><td>\"Howard Miller 13\"\" Diameter Pewter Finish Round Wall Clock\"</td><td>Furnishings</td><td>Furniture</td><td>Retail CSV</td><td>2024-09-09T19:36:52.229Z</td></tr><tr><td>FUR-CH-10001714</td><td>Global Leather & Oak Executive Chair, Burgundy</td><td>Chairs</td><td>Furniture</td><td>Retail CSV</td><td>2024-09-09T19:36:52.229Z</td></tr><tr><td>OFF-FA-10001229</td><td>Staples</td><td>Fasteners</td><td>Office Supplies</td><td>Retail CSV</td><td>2024-09-09T19:36:52.229Z</td></tr><tr><td>FUR-CH-10004495</td><td>Global Leather and Oak Executive Chair, Black</td><td>Chairs</td><td>Furniture</td><td>Retail CSV</td><td>2024-09-09T19:36:52.229Z</td></tr><tr><td>OFF-LA-10000476</td><td>Avery 05222 Permanent Self-Adhesive File Folder Labels for Typewriters, on Rolls, White, 250/Roll</td><td>Labels</td><td>Office Supplies</td><td>Retail CSV</td><td>2024-09-09T19:36:52.229Z</td></tr><tr><td>FUR-FU-10000277</td><td>Deflect-o DuraMat Antistatic Studded Beveled Mat for Medium Pile Carpeting</td><td>Furnishings</td><td>Furniture</td><td>Retail CSV</td><td>2024-09-09T19:36:52.229Z</td></tr><tr><td>OFF-ST-10004123</td><td>Safco Industrial Wire Shelving System</td><td>Storage</td><td>Office Supplies</td><td>Retail CSV</td><td>2024-09-09T19:36:52.229Z</td></tr><tr><td>OFF-EN-10000927</td><td>Jet-Pak Recycled Peel 'N' Seal Padded Mailers</td><td>Envelopes</td><td>Office Supplies</td><td>Retail CSV</td><td>2024-09-09T19:36:52.229Z</td></tr><tr><td>OFF-ST-10002790</td><td>Safco Industrial Shelving</td><td>Storage</td><td>Office Supplies</td><td>Retail CSV</td><td>2024-09-09T19:36:52.229Z</td></tr><tr><td>OFF-AR-10003405</td><td>Dixon My First Ticonderoga Pencil, #2</td><td>Art</td><td>Office Supplies</td><td>Retail CSV</td><td>2024-09-09T19:36:52.229Z</td></tr><tr><td>OFF-BI-10001132</td><td>\"Acco PRESSTEX Data Binder with Storage Hooks, Dark Blue, 9 1/2\"\" X 11\"\"\"</td><td>Binders</td><td>Office Supplies</td><td>Retail CSV</td><td>2024-09-09T19:36:52.229Z</td></tr><tr><td>FUR-CH-10003199</td><td>Office Star - Contemporary Task Swivel Chair</td><td>Chairs</td><td>Furniture</td><td>Retail CSV</td><td>2024-09-09T19:36:52.229Z</td></tr><tr><td>OFF-PA-10001281</td><td>Computer Printout Paper with Letter-Trim Fine Perforations</td><td>Paper</td><td>Office Supplies</td><td>Retail CSV</td><td>2024-09-09T19:36:52.229Z</td></tr><tr><td>OFF-AR-10003903</td><td>Sanford 52201 APSCO Electric Pencil Sharpener</td><td>Art</td><td>Office Supplies</td><td>Retail CSV</td><td>2024-09-09T19:36:52.229Z</td></tr><tr><td>FUR-BO-10004467</td><td>Bestar Classic Bookcase</td><td>Bookcases</td><td>Furniture</td><td>Retail CSV</td><td>2024-09-09T19:36:52.229Z</td></tr><tr><td>FUR-FU-10004093</td><td>Hand-Finished Solid Wood Document Frame</td><td>Furnishings</td><td>Furniture</td><td>Retail CSV</td><td>2024-09-09T19:36:52.229Z</td></tr><tr><td>TEC-PH-10002352</td><td>Avaya IP Phone 1140E VoIP phone</td><td>Phones</td><td>Technology</td><td>Retail CSV</td><td>2024-09-09T19:36:52.229Z</td></tr><tr><td>OFF-FA-10002975</td><td>Staples</td><td>Fasteners</td><td>Office Supplies</td><td>Retail CSV</td><td>2024-09-09T19:36:52.229Z</td></tr><tr><td>OFF-PA-10003883</td><td>\"Message Book, Phone, Wirebound Standard Line Memo, 2 3/4\"\" X 5\"\"\"</td><td>Paper</td><td>Office Supplies</td><td>Retail CSV</td><td>2024-09-09T19:36:52.229Z</td></tr><tr><td>TEC-AC-10004145</td><td>Logitech diNovo Edge Keyboard</td><td>Accessories</td><td>Technology</td><td>Retail CSV</td><td>2024-09-09T19:36:52.229Z</td></tr><tr><td>FUR-TA-10001866</td><td>Bevis Round Conference Room Tables and Bases</td><td>Tables</td><td>Furniture</td><td>Retail CSV</td><td>2024-09-09T19:36:52.229Z</td></tr><tr><td>TEC-PH-10003691</td><td>BlackBerry Q10</td><td>Phones</td><td>Technology</td><td>Retail CSV</td><td>2024-09-09T19:36:52.229Z</td></tr><tr><td>OFF-ST-10001031</td><td>Adjustable Personal File Tote</td><td>Storage</td><td>Office Supplies</td><td>Retail CSV</td><td>2024-09-09T19:36:52.229Z</td></tr><tr><td>FUR-CH-10004626</td><td>Office Star Flex Back Scooter Chair with Aluminum Finish Frame</td><td>Chairs</td><td>Furniture</td><td>Retail CSV</td><td>2024-09-09T19:36:52.229Z</td></tr><tr><td>FUR-FU-10002240</td><td>Nu-Dell EZ-Mount Plastic Wall Frames</td><td>Furnishings</td><td>Furniture</td><td>Retail CSV</td><td>2024-09-09T19:36:52.229Z</td></tr><tr><td>OFF-PA-10001950</td><td>Southworth 25% Cotton Antique Laid Paper & Envelopes</td><td>Paper</td><td>Office Supplies</td><td>Retail CSV</td><td>2024-09-09T19:36:52.229Z</td></tr><tr><td>OFF-AR-10003651</td><td>Newell 350</td><td>Art</td><td>Office Supplies</td><td>Retail CSV</td><td>2024-09-09T19:36:52.229Z</td></tr><tr><td>OFF-PA-10001870</td><td>Xerox 202</td><td>Paper</td><td>Office Supplies</td><td>Retail CSV</td><td>2024-09-09T19:36:52.229Z</td></tr><tr><td>FUR-FU-10000965</td><td>\"Howard Miller 11-1/2\"\" Diameter Ridgewood Wall Clock\"</td><td>Furnishings</td><td>Furniture</td><td>Retail CSV</td><td>2024-09-09T19:36:52.229Z</td></tr><tr><td>TEC-PH-10002824</td><td>Jabra SPEAK 410 Multidevice Speakerphone</td><td>Phones</td><td>Technology</td><td>Retail CSV</td><td>2024-09-09T19:36:52.229Z</td></tr><tr><td>OFF-BI-10001757</td><td>Pressboard Hanging Data Binders for Unburst Sheets</td><td>Binders</td><td>Office Supplies</td><td>Retail CSV</td><td>2024-09-09T19:36:52.229Z</td></tr><tr><td>FUR-TA-10002533</td><td>BPI Conference Tables</td><td>Tables</td><td>Furniture</td><td>Retail CSV</td><td>2024-09-09T19:36:52.229Z</td></tr><tr><td>OFF-AR-10004757</td><td>Crayola Colored Pencils</td><td>Art</td><td>Office Supplies</td><td>Retail CSV</td><td>2024-09-09T19:36:52.229Z</td></tr><tr><td>OFF-ST-10001228</td><td>Personal File Boxes with Fold-Down Carry Handle</td><td>Storage</td><td>Office Supplies</td><td>Retail CSV</td><td>2024-09-09T19:36:52.229Z</td></tr><tr><td>FUR-FU-10000222</td><td>\"Seth Thomas 16\"\" Steel Case Clock\"</td><td>Furnishings</td><td>Furniture</td><td>Retail CSV</td><td>2024-09-09T19:36:52.229Z</td></tr><tr><td>OFF-LA-10004484</td><td>Avery 476</td><td>Labels</td><td>Office Supplies</td><td>Retail CSV</td><td>2024-09-09T19:36:52.229Z</td></tr><tr><td>TEC-PH-10003357</td><td>Grandstream GXP2100 Mainstream Business Phone</td><td>Phones</td><td>Technology</td><td>Retail CSV</td><td>2024-09-09T19:36:52.229Z</td></tr><tr><td>OFF-BI-10001359</td><td>GBC DocuBind TL300 Electric Binding System</td><td>Binders</td><td>Office Supplies</td><td>Retail CSV</td><td>2024-09-09T19:36:52.229Z</td></tr><tr><td>FUR-BO-10000780</td><td>O'Sullivan Plantations 2-Door Library in Landvery Oak</td><td>Bookcases</td><td>Furniture</td><td>Retail CSV</td><td>2024-09-09T19:36:52.229Z</td></tr><tr><td>FUR-FU-10004587</td><td>GE General Use Halogen Bulbs, 100 Watts, 1 Bulb per Pack</td><td>Furnishings</td><td>Furniture</td><td>Retail CSV</td><td>2024-09-09T19:36:52.229Z</td></tr><tr><td>OFF-BI-10004233</td><td>\"GBC Pre-Punched Binding Paper, Plastic, White, 8-1/2\"\" x 11\"\"\"</td><td>Binders</td><td>Office Supplies</td><td>Retail CSV</td><td>2024-09-09T19:36:52.229Z</td></tr><tr><td>OFF-AP-10004655</td><td>Holmes Visible Mist Ultrasonic Humidifier with 2.3-Gallon Output per Day, Replacement Filter</td><td>Appliances</td><td>Office Supplies</td><td>Retail CSV</td><td>2024-09-09T19:36:52.229Z</td></tr><tr><td>OFF-BI-10001982</td><td>Wilson Jones Custom Binder Spines & Labels</td><td>Binders</td><td>Office Supplies</td><td>Retail CSV</td><td>2024-09-09T19:36:52.229Z</td></tr><tr><td>OFF-SU-10004498</td><td>Martin-Yale Premier Letter Opener</td><td>Supplies</td><td>Office Supplies</td><td>Retail CSV</td><td>2024-09-09T19:36:52.229Z</td></tr><tr><td>OFF-AR-10004078</td><td>Newell 312</td><td>Art</td><td>Office Supplies</td><td>Retail CSV</td><td>2024-09-09T19:36:52.229Z</td></tr><tr><td>OFF-BI-10001071</td><td>GBC ProClick Punch Binding System</td><td>Binders</td><td>Office Supplies</td><td>Retail CSV</td><td>2024-09-09T19:36:52.229Z</td></tr><tr><td>OFF-AR-10004790</td><td>Staples in misc. colors</td><td>Art</td><td>Office Supplies</td><td>Retail CSV</td><td>2024-09-09T19:36:52.229Z</td></tr><tr><td>OFF-PA-10001583</td><td>\"1/4 Fold Party Design Invitations & White Envelopes, 24 8-1/2\"\" X 11\"\" Cards</td><td>Paper</td><td>Office Supplies</td><td>Retail CSV</td><td>2024-09-09T19:36:52.229Z</td></tr><tr><td>OFF-PA-10000061</td><td>Xerox 205</td><td>Paper</td><td>Office Supplies</td><td>Retail CSV</td><td>2024-09-09T19:36:52.229Z</td></tr><tr><td>OFF-AR-10000658</td><td>Newell 324</td><td>Art</td><td>Office Supplies</td><td>Retail CSV</td><td>2024-09-09T19:36:52.229Z</td></tr><tr><td>OFF-BI-10001510</td><td>Deluxe Heavy-Duty Vinyl Round Ring Binder</td><td>Binders</td><td>Office Supplies</td><td>Retail CSV</td><td>2024-09-09T19:36:52.229Z</td></tr><tr><td>TEC-PH-10004348</td><td>OtterBox Defender Series Case - iPhone 5c</td><td>Phones</td><td>Technology</td><td>Retail CSV</td><td>2024-09-09T19:36:52.229Z</td></tr><tr><td>OFF-AP-10001626</td><td>Commercial WindTunnel Clean Air Upright Vacuum, Replacement Belts, Filtration Bags</td><td>Appliances</td><td>Office Supplies</td><td>Retail CSV</td><td>2024-09-09T19:36:52.229Z</td></tr><tr><td>OFF-PA-10002245</td><td>Xerox 1895</td><td>Paper</td><td>Office Supplies</td><td>Retail CSV</td><td>2024-09-09T19:36:52.229Z</td></tr><tr><td>FUR-FU-10002685</td><td>\"Executive Impressions 13-1/2\"\" Indoor/Outdoor Wall Clock\"</td><td>Furnishings</td><td>Furniture</td><td>Retail CSV</td><td>2024-09-09T19:36:52.229Z</td></tr><tr><td>TEC-MA-10000418</td><td>Cubify CubeX 3D Printer Double Head Print</td><td>Machines</td><td>Technology</td><td>Retail CSV</td><td>2024-09-09T19:36:52.229Z</td></tr><tr><td>OFF-PA-10000556</td><td>Xerox 208</td><td>Paper</td><td>Office Supplies</td><td>Retail CSV</td><td>2024-09-09T19:36:52.229Z</td></tr><tr><td>FUR-FU-10002918</td><td>Eldon ClusterMat Chair Mat with Cordless Antistatic Protection</td><td>Furnishings</td><td>Furniture</td><td>Retail CSV</td><td>2024-09-09T19:36:52.229Z</td></tr><tr><td>TEC-AC-10001445</td><td>Imation USB 2.0 Swivel Flash Drive USB flash drive - 4 GB - Pink</td><td>Accessories</td><td>Technology</td><td>Retail CSV</td><td>2024-09-09T19:36:52.229Z</td></tr><tr><td>OFF-BI-10004330</td><td>GBC Velobind Prepunched Cover Sets, Regency Series</td><td>Binders</td><td>Office Supplies</td><td>Retail CSV</td><td>2024-09-09T19:36:52.229Z</td></tr><tr><td>TEC-AC-10003657</td><td>Lenovo 17-Key USB Numeric Keypad</td><td>Accessories</td><td>Technology</td><td>Retail CSV</td><td>2024-09-09T19:36:52.229Z</td></tr><tr><td>OFF-AR-10003373</td><td>Boston School Pro Electric Pencil Sharpener, 1670</td><td>Art</td><td>Office Supplies</td><td>Retail CSV</td><td>2024-09-09T19:36:52.229Z</td></tr><tr><td>OFF-FA-10000624</td><td>OIC Binder Clips</td><td>Fasteners</td><td>Office Supplies</td><td>Retail CSV</td><td>2024-09-09T19:36:52.229Z</td></tr><tr><td>OFF-PA-10002986</td><td>Xerox 1898</td><td>Paper</td><td>Office Supplies</td><td>Retail CSV</td><td>2024-09-09T19:36:52.229Z</td></tr><tr><td>OFF-BI-10000138</td><td>Acco Translucent Poly Ring Binders</td><td>Binders</td><td>Office Supplies</td><td>Retail CSV</td><td>2024-09-09T19:36:52.229Z</td></tr><tr><td>TEC-AC-10000865</td><td>WD My Passport Ultra 500GB Portable External Hard Drive</td><td>Accessories</td><td>Technology</td><td>Retail CSV</td><td>2024-09-09T19:36:52.229Z</td></tr><tr><td>OFF-LA-10002381</td><td>Avery 497</td><td>Labels</td><td>Office Supplies</td><td>Retail CSV</td><td>2024-09-09T19:36:52.229Z</td></tr><tr><td>OFF-PA-10002421</td><td>Embossed Ink Jet Note Cards</td><td>Paper</td><td>Office Supplies</td><td>Retail CSV</td><td>2024-09-09T19:36:52.229Z</td></tr><tr><td>OFF-BI-10004308</td><td>Avery Legal 4-Ring Binder</td><td>Binders</td><td>Office Supplies</td><td>Retail CSV</td><td>2024-09-09T19:36:52.229Z</td></tr><tr><td>OFF-BI-10001721</td><td>Trimflex Flexible Post Binders</td><td>Binders</td><td>Office Supplies</td><td>Retail CSV</td><td>2024-09-09T19:36:52.229Z</td></tr><tr><td>OFF-BI-10002735</td><td>GBC Prestige Therm-A-Bind Covers</td><td>Binders</td><td>Office Supplies</td><td>Retail CSV</td><td>2024-09-09T19:36:52.229Z</td></tr><tr><td>OFF-AR-10004027</td><td>Binney & Smith inkTank Erasable Desk Highlighter, Chisel Tip, Yellow, 12/Box</td><td>Art</td><td>Office Supplies</td><td>Retail CSV</td><td>2024-09-09T19:36:52.229Z</td></tr><tr><td>OFF-PA-10002666</td><td>Southworth 25% Cotton Linen-Finish Paper & Envelopes</td><td>Paper</td><td>Office Supplies</td><td>Retail CSV</td><td>2024-09-09T19:36:52.229Z</td></tr><tr><td>OFF-BI-10002498</td><td>Clear Mylar Reinforcing Strips</td><td>Binders</td><td>Office Supplies</td><td>Retail CSV</td><td>2024-09-09T19:36:52.229Z</td></tr><tr><td>OFF-SU-10004664</td><td>Acme Softgrip Scissors</td><td>Supplies</td><td>Office Supplies</td><td>Retail CSV</td><td>2024-09-09T19:36:52.229Z</td></tr><tr><td>OFF-ST-10000078</td><td>Tennsco 6- and 18-Compartment Lockers</td><td>Storage</td><td>Office Supplies</td><td>Retail CSV</td><td>2024-09-09T19:36:52.229Z</td></tr><tr><td>TEC-PH-10000141</td><td>Clearsounds A400</td><td>Phones</td><td>Technology</td><td>Retail CSV</td><td>2024-09-09T19:36:52.229Z</td></tr><tr><td>TEC-PH-10002075</td><td>AT&T EL51110 DECT</td><td>Phones</td><td>Technology</td><td>Retail CSV</td><td>2024-09-09T19:36:52.229Z</td></tr><tr><td>OFF-BI-10004654</td><td>VariCap6 Expandable Binder</td><td>Binders</td><td>Office Supplies</td><td>Retail CSV</td><td>2024-09-09T19:36:52.229Z</td></tr><tr><td>TEC-AC-10001874</td><td>Logitech Wireless Anywhere Mouse MX for PC and Mac</td><td>Accessories</td><td>Technology</td><td>Retail CSV</td><td>2024-09-09T19:36:52.229Z</td></tr><tr><td>OFF-PA-10004022</td><td>Hammermill Color Copier Paper (28Lb. and 96 Bright)</td><td>Paper</td><td>Office Supplies</td><td>Retail CSV</td><td>2024-09-09T19:36:52.229Z</td></tr><tr><td>TEC-MA-10002930</td><td>Ricoh - Ink Collector Unit for GX3000 Series Printers</td><td>Machines</td><td>Technology</td><td>Retail CSV</td><td>2024-09-09T19:36:52.229Z</td></tr><tr><td>OFF-AR-10004707</td><td>Staples in misc. colors</td><td>Art</td><td>Office Supplies</td><td>Retail CSV</td><td>2024-09-09T19:36:52.229Z</td></tr><tr><td>OFF-BI-10001634</td><td>Wilson Jones Active Use Binders</td><td>Binders</td><td>Office Supplies</td><td>Retail CSV</td><td>2024-09-09T19:36:52.229Z</td></tr><tr><td>FUR-FU-10001475</td><td>Contract Clock, 14\"</td><td>Furnishings</td><td>Furniture</td><td>Retail CSV</td><td>2024-09-09T19:36:52.229Z</td></tr><tr><td>OFF-AP-10004859</td><td>Acco 6 Outlet Guardian Premium Surge Suppressor</td><td>Appliances</td><td>Office Supplies</td><td>Retail CSV</td><td>2024-09-09T19:36:52.229Z</td></tr><tr><td>TEC-AC-10004510</td><td>Logitech Desktop MK120 Mouse and keyboard Combo</td><td>Accessories</td><td>Technology</td><td>Retail CSV</td><td>2024-09-09T19:36:52.229Z</td></tr><tr><td>FUR-FU-10000758</td><td>DAX Natural Wood-Tone Poster Frame</td><td>Furnishings</td><td>Furniture</td><td>Retail CSV</td><td>2024-09-09T19:36:52.229Z</td></tr><tr><td>TEC-MA-10001972</td><td>Okidata C331dn Printer</td><td>Machines</td><td>Technology</td><td>Retail CSV</td><td>2024-09-09T19:36:52.229Z</td></tr><tr><td>OFF-EN-10001509</td><td>Poly String Tie Envelopes</td><td>Envelopes</td><td>Office Supplies</td><td>Retail CSV</td><td>2024-09-09T19:36:52.229Z</td></tr><tr><td>TEC-MA-10000010</td><td>Hewlett-Packard Deskjet 3050a All-in-One Color Inkjet Printer</td><td>Machines</td><td>Technology</td><td>Retail CSV</td><td>2024-09-09T19:36:52.229Z</td></tr><tr><td>FUR-FU-10001488</td><td>\"Tenex 46\"\" x 60\"\" Computer Anti-Static Chairmat</td><td>Furnishings</td><td>Furniture</td><td>Retail CSV</td><td>2024-09-09T19:36:52.229Z</td></tr><tr><td>TEC-PH-10000673</td><td>Plantronics Voyager Pro HD - Bluetooth Headset</td><td>Phones</td><td>Technology</td><td>Retail CSV</td><td>2024-09-09T19:36:52.229Z</td></tr><tr><td>TEC-PH-10003171</td><td>Plantronics Encore H101 Dual Earpieces Headset</td><td>Phones</td><td>Technology</td><td>Retail CSV</td><td>2024-09-09T19:36:52.229Z</td></tr><tr><td>OFF-AR-10002766</td><td>Prang Drawing Pencil Set</td><td>Art</td><td>Office Supplies</td><td>Retail CSV</td><td>2024-09-09T19:36:52.229Z</td></tr><tr><td>OFF-BI-10000201</td><td>Avery Triangle Shaped Sheet Lifters, Black, 2/Pack</td><td>Binders</td><td>Office Supplies</td><td>Retail CSV</td><td>2024-09-09T19:36:52.229Z</td></tr><tr><td>TEC-PH-10000215</td><td>Plantronics Cordless Phone Headset with In-line Volume - M214C</td><td>Phones</td><td>Technology</td><td>Retail CSV</td><td>2024-09-09T19:36:52.229Z</td></tr><tr><td>OFF-ST-10000876</td><td>Eldon Simplefile Box Office</td><td>Storage</td><td>Office Supplies</td><td>Retail CSV</td><td>2024-09-09T19:36:52.229Z</td></tr><tr><td>OFF-FA-10002815</td><td>Staples</td><td>Fasteners</td><td>Office Supplies</td><td>Retail CSV</td><td>2024-09-09T19:36:52.229Z</td></tr><tr><td>TEC-AC-10004001</td><td>Logitech Wireless Headset H600 Over-The-Head Design</td><td>Accessories</td><td>Technology</td><td>Retail CSV</td><td>2024-09-09T19:36:52.229Z</td></tr><tr><td>OFF-EN-10004773</td><td>Staple envelope</td><td>Envelopes</td><td>Office Supplies</td><td>Retail CSV</td><td>2024-09-09T19:36:52.229Z</td></tr><tr><td>OFF-EN-10004846</td><td>Letter or Legal Size Expandable Poly String Tie Envelopes</td><td>Envelopes</td><td>Office Supplies</td><td>Retail CSV</td><td>2024-09-09T19:36:52.229Z</td></tr><tr><td>OFF-FA-10004854</td><td>Vinyl Coated Wire Paper Clips in Organizer Box, 800/Box</td><td>Fasteners</td><td>Office Supplies</td><td>Retail CSV</td><td>2024-09-09T19:36:52.229Z</td></tr><tr><td>FUR-CH-10002126</td><td>Hon Deluxe Fabric Upholstered Stacking Chairs</td><td>Chairs</td><td>Furniture</td><td>Retail CSV</td><td>2024-09-09T19:36:52.229Z</td></tr><tr><td>OFF-AR-10002067</td><td>Newell 334</td><td>Art</td><td>Office Supplies</td><td>Retail CSV</td><td>2024-09-09T19:36:52.229Z</td></tr><tr><td>FUR-BO-10003034</td><td>O'Sullivan Elevations Bookcase, Cherry Finish</td><td>Bookcases</td><td>Furniture</td><td>Retail CSV</td><td>2024-09-09T19:36:52.229Z</td></tr><tr><td>TEC-AC-10000926</td><td>NETGEAR RangeMax WNR1000 Wireless Router</td><td>Accessories</td><td>Technology</td><td>Retail CSV</td><td>2024-09-09T19:36:52.229Z</td></tr><tr><td>FUR-FU-10004091</td><td>\"Howard Miller 13\"\" Diameter Goldtone Round Wall Clock\"</td><td>Furnishings</td><td>Furniture</td><td>Retail CSV</td><td>2024-09-09T19:36:52.229Z</td></tr><tr><td>TEC-PH-10003012</td><td>Nortel Meridian M3904 Professional Digital phone</td><td>Phones</td><td>Technology</td><td>Retail CSV</td><td>2024-09-09T19:36:52.229Z</td></tr><tr><td>OFF-BI-10003094</td><td>Self-Adhesive Ring Binder Labels</td><td>Binders</td><td>Office Supplies</td><td>Retail CSV</td><td>2024-09-09T19:36:52.229Z</td></tr><tr><td>FUR-TA-10002356</td><td>Bevis Boat-Shaped Conference Table</td><td>Tables</td><td>Furniture</td><td>Retail CSV</td><td>2024-09-09T19:36:52.229Z</td></tr><tr><td>TEC-AC-10001013</td><td>Logitech ClearChat Comfort/USB Headset H390</td><td>Accessories</td><td>Technology</td><td>Retail CSV</td><td>2024-09-09T19:36:52.229Z</td></tr><tr><td>OFF-AR-10002221</td><td>12 Colored Short Pencils</td><td>Art</td><td>Office Supplies</td><td>Retail CSV</td><td>2024-09-09T19:36:52.229Z</td></tr><tr><td>OFF-LA-10001771</td><td>Avery 513</td><td>Labels</td><td>Office Supplies</td><td>Retail CSV</td><td>2024-09-09T19:36:52.229Z</td></tr><tr><td>TEC-CO-10004722</td><td>Canon imageCLASS 2200 Advanced Copier</td><td>Copiers</td><td>Technology</td><td>Retail CSV</td><td>2024-09-09T19:36:52.229Z</td></tr><tr><td>TEC-AC-10004420</td><td>Cherry 142-key Programmable Keyboard</td><td>Accessories</td><td>Technology</td><td>Retail CSV</td><td>2024-09-09T19:36:52.229Z</td></tr><tr><td>TEC-MA-10000984</td><td>Okidata MB760 Printer</td><td>Machines</td><td>Technology</td><td>Retail CSV</td><td>2024-09-09T19:36:52.229Z</td></tr><tr><td>TEC-AC-10002600</td><td>Belkin QODE FastFit Bluetooth Keyboard</td><td>Accessories</td><td>Technology</td><td>Retail CSV</td><td>2024-09-09T19:36:52.229Z</td></tr><tr><td>TEC-PH-10004042</td><td>ClearOne Communications CHAT 70 OC Speaker Phone</td><td>Phones</td><td>Technology</td><td>Retail CSV</td><td>2024-09-09T19:36:52.229Z</td></tr><tr><td>OFF-LA-10002312</td><td>Avery 490</td><td>Labels</td><td>Office Supplies</td><td>Retail CSV</td><td>2024-09-09T19:36:52.229Z</td></tr><tr><td>FUR-TA-10001095</td><td>Chromcraft Round Conference Tables</td><td>Tables</td><td>Furniture</td><td>Retail CSV</td><td>2024-09-09T19:36:52.229Z</td></tr><tr><td>OFF-BI-10004139</td><td>Fellowes Presentation Covers for Comb Binding Machines</td><td>Binders</td><td>Office Supplies</td><td>Retail CSV</td><td>2024-09-09T19:36:52.229Z</td></tr><tr><td>OFF-AP-10004980</td><td>3M Replacement Filter for Office Air Cleaner for 20' x 33' Room</td><td>Appliances</td><td>Office Supplies</td><td>Retail CSV</td><td>2024-09-09T19:36:52.229Z</td></tr><tr><td>OFF-AP-10004868</td><td>Hoover Commercial Soft Guard Upright Vacuum And Disposable Filtration Bags</td><td>Appliances</td><td>Office Supplies</td><td>Retail CSV</td><td>2024-09-09T19:36:52.229Z</td></tr><tr><td>TEC-AC-10003023</td><td>Logitech G105 Gaming Keyboard</td><td>Accessories</td><td>Technology</td><td>Retail CSV</td><td>2024-09-09T19:36:52.229Z</td></tr><tr><td>OFF-BI-10001718</td><td>GBC DocuBind P50 Personal Binding Machine</td><td>Binders</td><td>Office Supplies</td><td>Retail CSV</td><td>2024-09-09T19:36:52.229Z</td></tr><tr><td>TEC-PH-10001835</td><td>Jawbone JAMBOX Wireless Bluetooth Speaker</td><td>Phones</td><td>Technology</td><td>Retail CSV</td><td>2024-09-09T19:36:52.229Z</td></tr><tr><td>OFF-LA-10001982</td><td>Smead Alpha-Z Color-Coded Name Labels First Letter Starter Set</td><td>Labels</td><td>Office Supplies</td><td>Retail CSV</td><td>2024-09-09T19:36:52.229Z</td></tr><tr><td>TEC-PH-10004080</td><td>Avaya 5410 Digital phone</td><td>Phones</td><td>Technology</td><td>Retail CSV</td><td>2024-09-09T19:36:52.229Z</td></tr><tr><td>OFF-AR-10004930</td><td>Turquoise Lead Holder with Pocket Clip</td><td>Art</td><td>Office Supplies</td><td>Retail CSV</td><td>2024-09-09T19:36:52.229Z</td></tr><tr><td>OFF-LA-10003930</td><td>Dot Matrix Printer Tape Reel Labels, White, 5000/Box</td><td>Labels</td><td>Office Supplies</td><td>Retail CSV</td><td>2024-09-09T19:36:52.229Z</td></tr><tr><td>OFF-PA-10001954</td><td>Xerox 1964</td><td>Paper</td><td>Office Supplies</td><td>Retail CSV</td><td>2024-09-09T19:36:52.229Z</td></tr><tr><td>OFF-AP-10003266</td><td>Holmes Replacement Filter for HEPA Air Cleaner, Large Room</td><td>Appliances</td><td>Office Supplies</td><td>Retail CSV</td><td>2024-09-09T19:36:52.229Z</td></tr><tr><td>OFF-ST-10001476</td><td>Steel Personal Filing/Posting Tote</td><td>Storage</td><td>Office Supplies</td><td>Retail CSV</td><td>2024-09-09T19:36:52.229Z</td></tr><tr><td>OFF-PA-10003641</td><td>Xerox 1909</td><td>Paper</td><td>Office Supplies</td><td>Retail CSV</td><td>2024-09-09T19:36:52.229Z</td></tr><tr><td>OFF-LA-10002195</td><td>Avery 481</td><td>Labels</td><td>Office Supplies</td><td>Retail CSV</td><td>2024-09-09T19:36:52.229Z</td></tr><tr><td>OFF-AP-10004540</td><td>Eureka The Boss Lite 10-Amp Upright Vacuum, Blue</td><td>Appliances</td><td>Office Supplies</td><td>Retail CSV</td><td>2024-09-09T19:36:52.229Z</td></tr><tr><td>OFF-AR-10001216</td><td>Newell 339</td><td>Art</td><td>Office Supplies</td><td>Retail CSV</td><td>2024-09-09T19:36:52.229Z</td></tr><tr><td>TEC-PH-10004071</td><td>PayAnywhere Card Reader</td><td>Phones</td><td>Technology</td><td>Retail CSV</td><td>2024-09-09T19:36:52.229Z</td></tr><tr><td>TEC-MA-10004255</td><td>Konica Minolta magicolor 1690MF Multifunction Printer</td><td>Machines</td><td>Technology</td><td>Retail CSV</td><td>2024-09-09T19:36:52.229Z</td></tr><tr><td>TEC-MA-10001856</td><td>Okidata C610n Printer</td><td>Machines</td><td>Technology</td><td>Retail CSV</td><td>2024-09-09T19:36:52.229Z</td></tr><tr><td>OFF-AR-10001953</td><td>Boston 1645 Deluxe Heavier-Duty Electric Pencil Sharpener</td><td>Art</td><td>Office Supplies</td><td>Retail CSV</td><td>2024-09-09T19:36:52.229Z</td></tr><tr><td>OFF-PA-10004451</td><td>Xerox 222</td><td>Paper</td><td>Office Supplies</td><td>Retail CSV</td><td>2024-09-09T19:36:52.229Z</td></tr><tr><td>OFF-EN-10001219</td><td>\"#10- 4 1/8\"\" x 9 1/2\"\" Security-Tint Envelopes\"</td><td>Envelopes</td><td>Office Supplies</td><td>Retail CSV</td><td>2024-09-09T19:36:52.229Z</td></tr><tr><td>OFF-ST-10001097</td><td>Office Impressions Heavy Duty Welded Shelving & Multimedia Storage Drawers</td><td>Storage</td><td>Office Supplies</td><td>Retail CSV</td><td>2024-09-09T19:36:52.229Z</td></tr><tr><td>OFF-ST-10000352</td><td>Acco Perma 2700 Stacking Storage Drawers</td><td>Storage</td><td>Office Supplies</td><td>Retail CSV</td><td>2024-09-09T19:36:52.229Z</td></tr><tr><td>OFF-SU-10000898</td><td>\"Acme Hot Forged Carbon Steel Scissors with Nickel-Plated Handles, 3 7/8\"\" Cut</td><td>Supplies</td><td>Office Supplies</td><td>Retail CSV</td><td>2024-09-09T19:36:52.229Z</td></tr><tr><td>TEC-PH-10000912</td><td>Anker 24W Portable Micro USB Car Charger</td><td>Phones</td><td>Technology</td><td>Retail CSV</td><td>2024-09-09T19:36:52.229Z</td></tr><tr><td>OFF-SU-10000946</td><td>Staple remover</td><td>Supplies</td><td>Office Supplies</td><td>Retail CSV</td><td>2024-09-09T19:36:52.229Z</td></tr><tr><td>OFF-PA-10000552</td><td>Xerox 200</td><td>Paper</td><td>Office Supplies</td><td>Retail CSV</td><td>2024-09-09T19:36:52.229Z</td></tr><tr><td>TEC-AC-10004992</td><td>Kingston Digital DataTraveler 64GB USB 2.0</td><td>Accessories</td><td>Technology</td><td>Retail CSV</td><td>2024-09-09T19:36:52.229Z</td></tr><tr><td>TEC-PH-10002070</td><td>Griffin GC36547 PowerJolt SE Lightning Charger</td><td>Phones</td><td>Technology</td><td>Retail CSV</td><td>2024-09-09T19:36:52.229Z</td></tr><tr><td>FUR-TA-10004534</td><td>Bevis 44 x 96 Conference Tables</td><td>Tables</td><td>Furniture</td><td>Retail CSV</td><td>2024-09-09T19:36:52.229Z</td></tr><tr><td>OFF-PA-10003823</td><td>Xerox 197</td><td>Paper</td><td>Office Supplies</td><td>Retail CSV</td><td>2024-09-09T19:36:52.229Z</td></tr><tr><td>FUR-TA-10003715</td><td>Hon 2111 Invitation Series Corner Table</td><td>Tables</td><td>Furniture</td><td>Retail CSV</td><td>2024-09-09T19:36:52.229Z</td></tr><tr><td>TEC-AC-10002926</td><td>Logitech Wireless Marathon Mouse M705</td><td>Accessories</td><td>Technology</td><td>Retail CSV</td><td>2024-09-09T19:36:52.229Z</td></tr><tr><td>OFF-BI-10004410</td><td>C-Line Peel & Stick Add-On Filing Pockets, 8-3/4 x 5-1/8, 10/Pack</td><td>Binders</td><td>Office Supplies</td><td>Retail CSV</td><td>2024-09-09T19:36:52.229Z</td></tr><tr><td>OFF-BI-10004781</td><td>GBC Wire Binding Strips</td><td>Binders</td><td>Office Supplies</td><td>Retail CSV</td><td>2024-09-09T19:36:52.229Z</td></tr><tr><td>OFF-AP-10002518</td><td>Kensington 7 Outlet MasterPiece Power Center</td><td>Appliances</td><td>Office Supplies</td><td>Retail CSV</td><td>2024-09-09T19:36:52.229Z</td></tr><tr><td>TEC-AC-10004469</td><td>Microsoft Sculpt Comfort Mouse</td><td>Accessories</td><td>Technology</td><td>Retail CSV</td><td>2024-09-09T19:36:52.229Z</td></tr><tr><td>TEC-AC-10004114</td><td>KeyTronic 6101 Series - Keyboard - Black</td><td>Accessories</td><td>Technology</td><td>Retail CSV</td><td>2024-09-09T19:36:52.229Z</td></tr><tr><td>FUR-CH-10002331</td><td>Hon 4700 Series Mobuis Mid-Back Task Chairs with Adjustable Arms</td><td>Chairs</td><td>Furniture</td><td>Retail CSV</td><td>2024-09-09T19:36:52.229Z</td></tr><tr><td>FUR-CH-10004675</td><td>Lifetime Advantage Folding Chairs, 4/Carton</td><td>Chairs</td><td>Furniture</td><td>Retail CSV</td><td>2024-09-09T19:36:52.229Z</td></tr><tr><td>TEC-MA-10004212</td><td>Cisco SPA525G2 5-Line IP Phone</td><td>Machines</td><td>Technology</td><td>Retail CSV</td><td>2024-09-09T19:36:52.229Z</td></tr><tr><td>TEC-PH-10002115</td><td>Plantronics 81402</td><td>Phones</td><td>Technology</td><td>Retail CSV</td><td>2024-09-09T19:36:52.229Z</td></tr><tr><td>OFF-FA-10003495</td><td>Staples</td><td>Fasteners</td><td>Office Supplies</td><td>Retail CSV</td><td>2024-09-09T19:36:52.229Z</td></tr><tr><td>OFF-AR-10001955</td><td>Newell 319</td><td>Art</td><td>Office Supplies</td><td>Retail CSV</td><td>2024-09-09T19:36:52.229Z</td></tr><tr><td>OFF-EN-10002973</td><td>Ampad #10 Peel & Seel Holiday Envelopes</td><td>Envelopes</td><td>Office Supplies</td><td>Retail CSV</td><td>2024-09-09T19:36:52.229Z</td></tr><tr><td>TEC-PH-10002310</td><td>Plantronics Calisto P620-M USB Wireless Speakerphone System</td><td>Phones</td><td>Technology</td><td>Retail CSV</td><td>2024-09-09T19:36:52.229Z</td></tr><tr><td>OFF-AR-10003727</td><td>Berol Giant Pencil Sharpener</td><td>Art</td><td>Office Supplies</td><td>Retail CSV</td><td>2024-09-09T19:36:52.229Z</td></tr><tr><td>TEC-MA-10001148</td><td>Okidata MB491 Multifunction Printer</td><td>Machines</td><td>Technology</td><td>Retail CSV</td><td>2024-09-09T19:36:52.229Z</td></tr><tr><td>OFF-PA-10002749</td><td>Wirebound Message Books, 5-1/2 x 4 Forms, 2 or 4 Forms per Page</td><td>Paper</td><td>Office Supplies</td><td>Retail CSV</td><td>2024-09-09T19:36:52.229Z</td></tr><tr><td>OFF-ST-10002276</td><td>Safco Steel Mobile File Cart</td><td>Storage</td><td>Office Supplies</td><td>Retail CSV</td><td>2024-09-09T19:36:52.229Z</td></tr><tr><td>OFF-LA-10003766</td><td>Self-Adhesive Removable Labels</td><td>Labels</td><td>Office Supplies</td><td>Retail CSV</td><td>2024-09-09T19:36:52.229Z</td></tr><tr><td>OFF-BI-10004817</td><td>GBC Personal VeloBind Strips</td><td>Binders</td><td>Office Supplies</td><td>Retail CSV</td><td>2024-09-09T19:36:52.229Z</td></tr><tr><td>OFF-PA-10001471</td><td>Strathmore Photo Frame Cards</td><td>Paper</td><td>Office Supplies</td><td>Retail CSV</td><td>2024-09-09T19:36:52.229Z</td></tr><tr><td>OFF-FA-10000621</td><td>OIC Colored Binder Clips, Assorted Sizes</td><td>Fasteners</td><td>Office Supplies</td><td>Retail CSV</td><td>2024-09-09T19:36:52.229Z</td></tr><tr><td>FUR-BO-10004015</td><td>Bush Andora Bookcase, Maple/Graphite Gray Finish</td><td>Bookcases</td><td>Furniture</td><td>Retail CSV</td><td>2024-09-09T19:36:52.229Z</td></tr><tr><td>TEC-PH-10004700</td><td>PowerGen Dual USB Car Charger</td><td>Phones</td><td>Technology</td><td>Retail CSV</td><td>2024-09-09T19:36:52.229Z</td></tr><tr><td>OFF-PA-10002968</td><td>Xerox 1973</td><td>Paper</td><td>Office Supplies</td><td>Retail CSV</td><td>2024-09-09T19:36:52.229Z</td></tr><tr><td>OFF-PA-10003129</td><td>Tops White Computer Printout Paper</td><td>Paper</td><td>Office Supplies</td><td>Retail CSV</td><td>2024-09-09T19:36:52.229Z</td></tr><tr><td>TEC-AC-10004864</td><td>Memorex Micro Travel Drive 32 GB</td><td>Accessories</td><td>Technology</td><td>Retail CSV</td><td>2024-09-09T19:36:52.229Z</td></tr><tr><td>OFF-BI-10001617</td><td>GBC Wire Binding Combs</td><td>Binders</td><td>Office Supplies</td><td>Retail CSV</td><td>2024-09-09T19:36:52.229Z</td></tr><tr><td>OFF-EN-10003567</td><td>\"Inter-Office Recycled Envelopes, Brown Kraft, Button-String,10\"\" x 13\"\" </td><td>Envelopes</td><td>Office Supplies</td><td>Retail CSV</td><td>2024-09-09T19:36:52.229Z</td></tr><tr><td>OFF-PA-10002751</td><td>Xerox 1920</td><td>Paper</td><td>Office Supplies</td><td>Retail CSV</td><td>2024-09-09T19:36:52.229Z</td></tr><tr><td>OFF-BI-10002160</td><td>Acco Hanging Data Binders</td><td>Binders</td><td>Office Supplies</td><td>Retail CSV</td><td>2024-09-09T19:36:52.229Z</td></tr><tr><td>OFF-BI-10001989</td><td>Premium Transparent Presentation Covers by GBC</td><td>Binders</td><td>Office Supplies</td><td>Retail CSV</td><td>2024-09-09T19:36:52.229Z</td></tr><tr><td>TEC-PH-10000004</td><td>Belkin iPhone and iPad Lightning Cable</td><td>Phones</td><td>Technology</td><td>Retail CSV</td><td>2024-09-09T19:36:52.229Z</td></tr><tr><td>TEC-AC-10003174</td><td>Plantronics S12 Corded Telephone Headset System</td><td>Accessories</td><td>Technology</td><td>Retail CSV</td><td>2024-09-09T19:36:52.229Z</td></tr><tr><td>TEC-AC-10000023</td><td>Maxell 74 Minute CD-R Spindle, 50/Pack</td><td>Accessories</td><td>Technology</td><td>Retail CSV</td><td>2024-09-09T19:36:52.229Z</td></tr><tr><td>OFF-ST-10000649</td><td>Hanging Personal Folder File</td><td>Storage</td><td>Office Supplies</td><td>Retail CSV</td><td>2024-09-09T19:36:52.229Z</td></tr><tr><td>FUR-TA-10002958</td><td>Bevis Oval Conference Table, Walnut</td><td>Tables</td><td>Furniture</td><td>Retail CSV</td><td>2024-09-09T19:36:52.229Z</td></tr><tr><td>OFF-PA-10004609</td><td>Xerox 221</td><td>Paper</td><td>Office Supplies</td><td>Retail CSV</td><td>2024-09-09T19:36:52.229Z</td></tr><tr><td>FUR-CH-10001545</td><td>Hon Comfortask Task/Swivel Chairs</td><td>Chairs</td><td>Furniture</td><td>Retail CSV</td><td>2024-09-09T19:36:52.229Z</td></tr><tr><td>FUR-FU-10003806</td><td>\"Tenex Chairmat w/ Average Lip, 45\"\" x 53\"\"\"</td><td>Furnishings</td><td>Furniture</td><td>Retail CSV</td><td>2024-09-09T19:36:52.229Z</td></tr><tr><td>OFF-PA-10003177</td><td>Xerox 1999</td><td>Paper</td><td>Office Supplies</td><td>Retail CSV</td><td>2024-09-09T19:36:52.229Z</td></tr><tr><td>FUR-FU-10000629</td><td>9-3/4 Diameter Round Wall Clock</td><td>Furnishings</td><td>Furniture</td><td>Retail CSV</td><td>2024-09-09T19:36:52.229Z</td></tr><tr><td>OFF-EN-10002504</td><td>Tyvek  Top-Opening Peel & Seel Envelopes, Plain White</td><td>Envelopes</td><td>Office Supplies</td><td>Retail CSV</td><td>2024-09-09T19:36:52.229Z</td></tr><tr><td>TEC-AC-10001956</td><td>Microsoft Arc Touch Mouse</td><td>Accessories</td><td>Technology</td><td>Retail CSV</td><td>2024-09-09T19:36:52.229Z</td></tr><tr><td>FUR-CH-10003312</td><td>Hon 2090 “Pillow Soft” Series Mid Back Swivel/Tilt Chairs</td><td>Chairs</td><td>Furniture</td><td>Retail CSV</td><td>2024-09-09T19:36:52.229Z</td></tr><tr><td>OFF-PA-10001560</td><td>Adams Telephone Message Books, 5 1/4” x 11”</td><td>Paper</td><td>Office Supplies</td><td>Retail CSV</td><td>2024-09-09T19:36:52.229Z</td></tr><tr><td>OFF-PA-10003625</td><td>Xerox 1979</td><td>Paper</td><td>Office Supplies</td><td>Retail CSV</td><td>2024-09-09T19:36:52.229Z</td></tr><tr><td>OFF-AR-10000203</td><td>Newell 336</td><td>Art</td><td>Office Supplies</td><td>Retail CSV</td><td>2024-09-09T19:36:52.229Z</td></tr><tr><td>FUR-TA-10001676</td><td>Hon 61000 Series Interactive Training Tables</td><td>Tables</td><td>Furniture</td><td>Retail CSV</td><td>2024-09-09T19:36:52.229Z</td></tr><tr><td>OFF-PA-10001457</td><td>White GlueTop Scratch Pads</td><td>Paper</td><td>Office Supplies</td><td>Retail CSV</td><td>2024-09-09T19:36:52.229Z</td></tr><tr><td>FUR-FU-10002878</td><td>\"Seth Thomas 14\"\" Day/Date Wall Clock\"</td><td>Furnishings</td><td>Furniture</td><td>Retail CSV</td><td>2024-09-09T19:36:52.229Z</td></tr><tr><td>TEC-PH-10001425</td><td>Mophie Juice Pack Helium for iPhone</td><td>Phones</td><td>Technology</td><td>Retail CSV</td><td>2024-09-09T19:36:52.229Z</td></tr><tr><td>OFF-AR-10001118</td><td>Binney & Smith Crayola Metallic Crayons, 16-Color Pack</td><td>Art</td><td>Office Supplies</td><td>Retail CSV</td><td>2024-09-09T19:36:52.229Z</td></tr><tr><td>TEC-AC-10003610</td><td>Logitech Illuminated - Keyboard</td><td>Accessories</td><td>Technology</td><td>Retail CSV</td><td>2024-09-09T19:36:52.229Z</td></tr><tr><td>OFF-FA-10004838</td><td>Super Bands, 12/Pack</td><td>Fasteners</td><td>Office Supplies</td><td>Retail CSV</td><td>2024-09-09T19:36:52.229Z</td></tr><tr><td>OFF-AR-10002280</td><td>Staples in misc. colors</td><td>Art</td><td>Office Supplies</td><td>Retail CSV</td><td>2024-09-09T19:36:52.229Z</td></tr><tr><td>FUR-TA-10003473</td><td>Bretford Rectangular Conference Table Tops</td><td>Tables</td><td>Furniture</td><td>Retail CSV</td><td>2024-09-09T19:36:52.229Z</td></tr><tr><td>OFF-AP-10002472</td><td>3M Office Air Cleaner</td><td>Appliances</td><td>Office Supplies</td><td>Retail CSV</td><td>2024-09-09T19:36:52.229Z</td></tr><tr><td>FUR-TA-10004619</td><td>Hon Non-Folding Utility Tables</td><td>Tables</td><td>Furniture</td><td>Retail CSV</td><td>2024-09-09T19:36:52.229Z</td></tr><tr><td>TEC-AC-10001539</td><td>Logitech G430 Surround Sound Gaming Headset with Dolby 7.1 Technology</td><td>Accessories</td><td>Technology</td><td>Retail CSV</td><td>2024-09-09T19:36:52.229Z</td></tr><tr><td>OFF-SU-10001212</td><td>Kleencut Forged Office Shears by Acme United Corporation</td><td>Supplies</td><td>Office Supplies</td><td>Retail CSV</td><td>2024-09-09T19:36:52.229Z</td></tr><tr><td>TEC-MA-10002109</td><td>HP Officejet Pro 8600 e-All-In-One Printer, Copier, Scanner, Fax</td><td>Machines</td><td>Technology</td><td>Retail CSV</td><td>2024-09-09T19:36:52.229Z</td></tr><tr><td>OFF-AP-10001492</td><td>Acco Six-Outlet Power Strip, 4' Cord Length</td><td>Appliances</td><td>Office Supplies</td><td>Retail CSV</td><td>2024-09-09T19:36:52.229Z</td></tr><tr><td>OFF-PA-10004965</td><td>Xerox 1921</td><td>Paper</td><td>Office Supplies</td><td>Retail CSV</td><td>2024-09-09T19:36:52.229Z</td></tr><tr><td>OFF-PA-10000176</td><td>Xerox 1887</td><td>Paper</td><td>Office Supplies</td><td>Retail CSV</td><td>2024-09-09T19:36:52.229Z</td></tr><tr><td>TEC-AC-10001314</td><td>Case Logic 2.4GHz Wireless Keyboard</td><td>Accessories</td><td>Technology</td><td>Retail CSV</td><td>2024-09-09T19:36:52.229Z</td></tr><tr><td>OFF-PA-10001639</td><td>Xerox 203</td><td>Paper</td><td>Office Supplies</td><td>Retail CSV</td><td>2024-09-09T19:36:52.229Z</td></tr><tr><td>FUR-CH-10001854</td><td>Office Star - Professional Matrix Back Chair with 2-to-1 Synchro Tilt and Mesh Fabric Seat</td><td>Chairs</td><td>Furniture</td><td>Retail CSV</td><td>2024-09-09T19:36:52.229Z</td></tr><tr><td>TEC-PH-10004833</td><td>Macally Suction Cup Mount</td><td>Phones</td><td>Technology</td><td>Retail CSV</td><td>2024-09-09T19:36:52.229Z</td></tr><tr><td>FUR-FU-10001185</td><td>Advantus Employee of the Month Certificate Frame, 11 x 13-1/2</td><td>Furnishings</td><td>Furniture</td><td>Retail CSV</td><td>2024-09-09T19:36:52.229Z</td></tr><tr><td>OFF-FA-10001883</td><td>Alliance Super-Size Bands, Assorted Sizes</td><td>Fasteners</td><td>Office Supplies</td><td>Retail CSV</td><td>2024-09-09T19:36:52.229Z</td></tr><tr><td>FUR-BO-10003894</td><td>Safco Value Mate Steel Bookcase, Baked Enamel Finish on Steel, Black</td><td>Bookcases</td><td>Furniture</td><td>Retail CSV</td><td>2024-09-09T19:36:52.229Z</td></tr><tr><td>OFF-AR-10000614</td><td>Barrel Sharpener</td><td>Art</td><td>Office Supplies</td><td>Retail CSV</td><td>2024-09-09T19:36:52.229Z</td></tr><tr><td>OFF-BI-10000279</td><td>\"Acco Recycled 2\"\" Capacity Laser Printer Hanging Data Binders\"</td><td>Binders</td><td>Office Supplies</td><td>Retail CSV</td><td>2024-09-09T19:36:52.229Z</td></tr><tr><td>OFF-ST-10003282</td><td>Advantus 10-Drawer Portable Organizer, Chrome Metal Frame, Smoke Drawers</td><td>Storage</td><td>Office Supplies</td><td>Retail CSV</td><td>2024-09-09T19:36:52.229Z</td></tr><tr><td>OFF-BI-10004654</td><td>Avery Binding System Hidden Tab Executive Style Index Sets</td><td>Binders</td><td>Office Supplies</td><td>Retail CSV</td><td>2024-09-09T19:36:52.229Z</td></tr><tr><td>TEC-AC-10002323</td><td>SanDisk Ultra 32 GB MicroSDHC Class 10 Memory Card</td><td>Accessories</td><td>Technology</td><td>Retail CSV</td><td>2024-09-09T19:36:52.229Z</td></tr><tr><td>TEC-PH-10003885</td><td>Cisco SPA508G</td><td>Phones</td><td>Technology</td><td>Retail CSV</td><td>2024-09-09T19:36:52.229Z</td></tr><tr><td>TEC-PH-10000441</td><td>VTech DS6151</td><td>Phones</td><td>Technology</td><td>Retail CSV</td><td>2024-09-09T19:36:52.229Z</td></tr><tr><td>OFF-PA-10004733</td><td>Things To Do Today Spiral Book</td><td>Paper</td><td>Office Supplies</td><td>Retail CSV</td><td>2024-09-09T19:36:52.229Z</td></tr><tr><td>OFF-BI-10001525</td><td>\"Acco Pressboard Covers with Storage Hooks, 14 7/8\"\" x 11\"\"</td><td>Binders</td><td>Office Supplies</td><td>Retail CSV</td><td>2024-09-09T19:36:52.229Z</td></tr><tr><td>FUR-CH-10000513</td><td>High-Back Leather Manager's Chair</td><td>Chairs</td><td>Furniture</td><td>Retail CSV</td><td>2024-09-09T19:36:52.229Z</td></tr><tr><td>FUR-FU-10001934</td><td>Magnifier Swing Arm Lamp</td><td>Furnishings</td><td>Furniture</td><td>Retail CSV</td><td>2024-09-09T19:36:52.229Z</td></tr><tr><td>OFF-PA-10000357</td><td>White Dual Perf Computer Printout Paper, 2700 Sheets, 1 Part, Heavyweight, 20 lbs., 14 7/8 x 11</td><td>Paper</td><td>Office Supplies</td><td>Retail CSV</td><td>2024-09-09T19:36:52.229Z</td></tr><tr><td>FUR-BO-10001619</td><td>O'Sullivan Cherrywood Estates Traditional Bookcase</td><td>Bookcases</td><td>Furniture</td><td>Retail CSV</td><td>2024-09-09T19:36:52.229Z</td></tr><tr><td>OFF-ST-10001558</td><td>Acco Perma 4000 Stacking Storage Drawers</td><td>Storage</td><td>Office Supplies</td><td>Retail CSV</td><td>2024-09-09T19:36:52.229Z</td></tr><tr><td>OFF-EN-10003055</td><td>Blue String-Tie & Button Interoffice Envelopes, 10 x 13</td><td>Envelopes</td><td>Office Supplies</td><td>Retail CSV</td><td>2024-09-09T19:36:52.229Z</td></tr><tr><td>FUR-FU-10004018</td><td>Tensor Computer Mounted Lamp</td><td>Furnishings</td><td>Furniture</td><td>Retail CSV</td><td>2024-09-09T19:36:52.229Z</td></tr><tr><td>OFF-AR-10001915</td><td>Peel-Off China Markers</td><td>Art</td><td>Office Supplies</td><td>Retail CSV</td><td>2024-09-09T19:36:52.229Z</td></tr><tr><td>OFF-PA-10004359</td><td>Multicolor Computer Printout Paper</td><td>Paper</td><td>Office Supplies</td><td>Retail CSV</td><td>2024-09-09T19:36:52.229Z</td></tr><tr><td>OFF-AP-10000124</td><td>Acco 6 Outlet Guardian Basic Surge Suppressor</td><td>Appliances</td><td>Office Supplies</td><td>Retail CSV</td><td>2024-09-09T19:36:52.229Z</td></tr><tr><td>OFF-PA-10000551</td><td>Array Memo Cubes</td><td>Paper</td><td>Office Supplies</td><td>Retail CSV</td><td>2024-09-09T19:36:52.229Z</td></tr><tr><td>TEC-PH-10002834</td><td>Google Nexus 5</td><td>Phones</td><td>Technology</td><td>Retail CSV</td><td>2024-09-09T19:36:52.229Z</td></tr><tr><td>OFF-BI-10002003</td><td>Ibico Presentation Index for Binding Systems</td><td>Binders</td><td>Office Supplies</td><td>Retail CSV</td><td>2024-09-09T19:36:52.229Z</td></tr><tr><td>FUR-BO-10002916</td><td>\"Rush Hierlooms Collection 1\"\" Thick Stackable Bookcases\"</td><td>Bookcases</td><td>Furniture</td><td>Retail CSV</td><td>2024-09-09T19:36:52.229Z</td></tr><tr><td>OFF-SU-10000381</td><td>Acme Forged Steel Scissors with Black Enamel Handles</td><td>Supplies</td><td>Office Supplies</td><td>Retail CSV</td><td>2024-09-09T19:36:52.229Z</td></tr><tr><td>TEC-MA-10003674</td><td>Hewlett-Packard Deskjet 5550 Printer</td><td>Machines</td><td>Technology</td><td>Retail CSV</td><td>2024-09-09T19:36:52.229Z</td></tr><tr><td>OFF-PA-10003022</td><td>Standard Line “While You Were Out” Hardbound Telephone Message Book</td><td>Paper</td><td>Office Supplies</td><td>Retail CSV</td><td>2024-09-09T19:36:52.229Z</td></tr><tr><td>OFF-AR-10002671</td><td>Hunt BOSTON Model 1606 High-Volume Electric Pencil Sharpener, Beige</td><td>Art</td><td>Office Supplies</td><td>Retail CSV</td><td>2024-09-09T19:36:52.229Z</td></tr><tr><td>FUR-FU-10003274</td><td>Regeneration Desk Collection</td><td>Furnishings</td><td>Furniture</td><td>Retail CSV</td><td>2024-09-09T19:36:52.229Z</td></tr><tr><td>OFF-BI-10002429</td><td>Premier Elliptical Ring Binder, Black</td><td>Binders</td><td>Office Supplies</td><td>Retail CSV</td><td>2024-09-09T19:36:52.229Z</td></tr><tr><td>OFF-BI-10004528</td><td>Cardinal Poly Pocket Divider Pockets for Ring Binders</td><td>Binders</td><td>Office Supplies</td><td>Retail CSV</td><td>2024-09-09T19:36:52.229Z</td></tr><tr><td>OFF-PA-10000788</td><td>Xerox 210</td><td>Paper</td><td>Office Supplies</td><td>Retail CSV</td><td>2024-09-09T19:36:52.229Z</td></tr><tr><td>OFF-PA-10001125</td><td>Xerox 1988</td><td>Paper</td><td>Office Supplies</td><td>Retail CSV</td><td>2024-09-09T19:36:52.229Z</td></tr><tr><td>TEC-PH-10001817</td><td>Wilson Electronics DB Pro Signal Booster</td><td>Phones</td><td>Technology</td><td>Retail CSV</td><td>2024-09-09T19:36:52.229Z</td></tr><tr><td>OFF-PA-10000477</td><td>Xerox 22</td><td>Paper</td><td>Office Supplies</td><td>Retail CSV</td><td>2024-09-09T19:36:52.229Z</td></tr><tr><td>TEC-PH-10004120</td><td>AT&T 1080 Phone</td><td>Phones</td><td>Technology</td><td>Retail CSV</td><td>2024-09-09T19:36:52.229Z</td></tr><tr><td>OFF-BI-10003476</td><td>Avery Metallic Poly Binders</td><td>Binders</td><td>Office Supplies</td><td>Retail CSV</td><td>2024-09-09T19:36:52.229Z</td></tr><tr><td>FUR-FU-10003026</td><td>Eldon Regeneration Recycled Desk Accessories, Black</td><td>Furnishings</td><td>Furniture</td><td>Retail CSV</td><td>2024-09-09T19:36:52.229Z</td></tr><tr><td>OFF-AP-10003278</td><td>Belkin 7-Outlet SurgeMaster Home Series</td><td>Appliances</td><td>Office Supplies</td><td>Retail CSV</td><td>2024-09-09T19:36:52.229Z</td></tr><tr><td>OFF-ST-10004186</td><td>\"Stur-D-Stor Shelving, Vertical 5-Shelf: 72\"\"H x 36\"\"W x 18 1/2\"\"D\"</td><td>Storage</td><td>Office Supplies</td><td>Retail CSV</td><td>2024-09-09T19:36:52.229Z</td></tr><tr><td>FUR-FU-10001706</td><td>Longer-Life Soft White Bulbs</td><td>Furnishings</td><td>Furniture</td><td>Retail CSV</td><td>2024-09-09T19:36:52.229Z</td></tr><tr><td>OFF-AR-10000390</td><td>Newell Chalk Holder</td><td>Art</td><td>Office Supplies</td><td>Retail CSV</td><td>2024-09-09T19:36:52.229Z</td></tr><tr><td>FUR-CH-10004063</td><td>Global Deluxe High-Back Manager's Chair</td><td>Chairs</td><td>Furniture</td><td>Retail CSV</td><td>2024-09-09T19:36:52.229Z</td></tr><tr><td>OFF-BI-10001759</td><td>\"Acco Pressboard Covers with Storage Hooks, 14 7/8\"\" x 11\"\"</td><td>Binders</td><td>Office Supplies</td><td>Retail CSV</td><td>2024-09-09T19:36:52.229Z</td></tr><tr><td>OFF-BI-10001758</td><td>Wilson Jones 14 Line Acrylic Coated Pressboard Data Binders</td><td>Binders</td><td>Office Supplies</td><td>Retail CSV</td><td>2024-09-09T19:36:52.229Z</td></tr><tr><td>OFF-BI-10001191</td><td>Canvas Sectional Post Binders</td><td>Binders</td><td>Office Supplies</td><td>Retail CSV</td><td>2024-09-09T19:36:52.229Z</td></tr><tr><td>OFF-ST-10003692</td><td>Recycled Steel Personal File for Hanging File Folders</td><td>Storage</td><td>Office Supplies</td><td>Retail CSV</td><td>2024-09-09T19:36:52.229Z</td></tr><tr><td>OFF-AP-10002222</td><td>Staple holder</td><td>Appliances</td><td>Office Supplies</td><td>Retail CSV</td><td>2024-09-09T19:36:52.229Z</td></tr><tr><td>OFF-PA-10000300</td><td>Xerox 1936</td><td>Paper</td><td>Office Supplies</td><td>Retail CSV</td><td>2024-09-09T19:36:52.229Z</td></tr><tr><td>OFF-LA-10002473</td><td>Avery 484</td><td>Labels</td><td>Office Supplies</td><td>Retail CSV</td><td>2024-09-09T19:36:52.229Z</td></tr><tr><td>OFF-LA-10002475</td><td>Avery 519</td><td>Labels</td><td>Office Supplies</td><td>Retail CSV</td><td>2024-09-09T19:36:52.229Z</td></tr><tr><td>OFF-AP-10004249</td><td>Staple holder</td><td>Appliances</td><td>Office Supplies</td><td>Retail CSV</td><td>2024-09-09T19:36:52.229Z</td></tr><tr><td>OFF-BI-10002949</td><td>Prestige Round Ring Binders</td><td>Binders</td><td>Office Supplies</td><td>Retail CSV</td><td>2024-09-09T19:36:52.229Z</td></tr><tr><td>FUR-CH-10004853</td><td>Global Manager's Adjustable Task Chair, Storm</td><td>Chairs</td><td>Furniture</td><td>Retail CSV</td><td>2024-09-09T19:36:52.229Z</td></tr><tr><td>OFF-EN-10000056</td><td>Cameo Buff Policy Envelopes</td><td>Envelopes</td><td>Office Supplies</td><td>Retail CSV</td><td>2024-09-09T19:36:52.229Z</td></tr><tr><td>FUR-FU-10004188</td><td>Luxo Professional Combination Clamp-On Lamps</td><td>Furnishings</td><td>Furniture</td><td>Retail CSV</td><td>2024-09-09T19:36:52.229Z</td></tr><tr><td>FUR-FU-10003142</td><td>Master Big Foot Doorstop, Beige</td><td>Furnishings</td><td>Furniture</td><td>Retail CSV</td><td>2024-09-09T19:36:52.229Z</td></tr><tr><td>FUR-TA-10003392</td><td>Global Adaptabilities Conference Tables</td><td>Tables</td><td>Furniture</td><td>Retail CSV</td><td>2024-09-09T19:36:52.229Z</td></tr><tr><td>OFF-LA-10000240</td><td>Self-Adhesive Address Labels for Typewriters by Universal</td><td>Labels</td><td>Office Supplies</td><td>Retail CSV</td><td>2024-09-09T19:36:52.229Z</td></tr><tr><td>FUR-FU-10003394</td><td>\"Tenex \"\"The Solids\"\" Textured Chair Mats\"</td><td>Furnishings</td><td>Furniture</td><td>Retail CSV</td><td>2024-09-09T19:36:52.229Z</td></tr><tr><td>OFF-BI-10002072</td><td>Cardinal Slant-D Ring Binders</td><td>Binders</td><td>Office Supplies</td><td>Retail CSV</td><td>2024-09-09T19:36:52.229Z</td></tr><tr><td>FUR-TA-10003954</td><td>Hon 94000 Series Round Tables</td><td>Tables</td><td>Furniture</td><td>Retail CSV</td><td>2024-09-09T19:36:52.229Z</td></tr><tr><td>OFF-PA-10000062</td><td>Green Bar Computer Printout Paper</td><td>Paper</td><td>Office Supplies</td><td>Retail CSV</td><td>2024-09-09T19:36:52.229Z</td></tr><tr><td>OFF-AR-10001149</td><td>Avery Hi-Liter Comfort Grip Fluorescent Highlighter, Yellow Ink</td><td>Art</td><td>Office Supplies</td><td>Retail CSV</td><td>2024-09-09T19:36:52.229Z</td></tr><tr><td>FUR-FU-10003039</td><td>\"Howard Miller 11-1/2\"\" Diameter Grantwood Wall Clock\"</td><td>Furnishings</td><td>Furniture</td><td>Retail CSV</td><td>2024-09-09T19:36:52.229Z</td></tr><tr><td>OFF-AP-10001154</td><td>Bionaire Personal Warm Mist Humidifier/Vaporizer</td><td>Appliances</td><td>Office Supplies</td><td>Retail CSV</td><td>2024-09-09T19:36:52.229Z</td></tr><tr><td>OFF-FA-10000735</td><td>Staples</td><td>Fasteners</td><td>Office Supplies</td><td>Retail CSV</td><td>2024-09-09T19:36:52.229Z</td></tr><tr><td>TEC-PH-10000439</td><td>GE DSL Phone Line Filter</td><td>Phones</td><td>Technology</td><td>Retail CSV</td><td>2024-09-09T19:36:52.229Z</td></tr><tr><td>OFF-AP-10003860</td><td>Fellowes Advanced 8 Outlet Surge Suppressor with Phone/Fax Protection</td><td>Appliances</td><td>Office Supplies</td><td>Retail CSV</td><td>2024-09-09T19:36:52.229Z</td></tr><tr><td>OFF-ST-10002562</td><td>Staple magnet</td><td>Storage</td><td>Office Supplies</td><td>Retail CSV</td><td>2024-09-09T19:36:52.229Z</td></tr><tr><td>OFF-AP-10000026</td><td>Tripp Lite Isotel 6 Outlet Surge Protector with Fax/Modem Protection</td><td>Appliances</td><td>Office Supplies</td><td>Retail CSV</td><td>2024-09-09T19:36:52.229Z</td></tr><tr><td>FUR-CH-10003535</td><td>Global Armless Task Chair, Royal Blue</td><td>Chairs</td><td>Furniture</td><td>Retail CSV</td><td>2024-09-09T19:36:52.229Z</td></tr><tr><td>OFF-AR-10001770</td><td>Economy #2 Pencils</td><td>Art</td><td>Office Supplies</td><td>Retail CSV</td><td>2024-09-09T19:36:52.229Z</td></tr><tr><td>OFF-SU-10004884</td><td>Acme Galleria Hot Forged Steel Scissors with Colored Handles</td><td>Supplies</td><td>Office Supplies</td><td>Retail CSV</td><td>2024-09-09T19:36:52.229Z</td></tr><tr><td>OFF-PA-10000312</td><td>Xerox 1955</td><td>Paper</td><td>Office Supplies</td><td>Retail CSV</td><td>2024-09-09T19:36:52.229Z</td></tr><tr><td>OFF-ST-10003479</td><td>Eldon Base for stackable storage shelf, platinum</td><td>Storage</td><td>Office Supplies</td><td>Retail CSV</td><td>2024-09-09T19:36:52.229Z</td></tr><tr><td>OFF-ST-10000036</td><td>Recycled Data-Pak for Archival Bound Computer Printouts, 12-1/2 x 12-1/2 x 16</td><td>Storage</td><td>Office Supplies</td><td>Retail CSV</td><td>2024-09-09T19:36:52.229Z</td></tr><tr><td>OFF-BI-10004001</td><td>GBC Recycled VeloBinder Covers</td><td>Binders</td><td>Office Supplies</td><td>Retail CSV</td><td>2024-09-09T19:36:52.229Z</td></tr><tr><td>OFF-EN-10003798</td><td>Recycled Interoffice Envelopes with Re-Use-A-Seal Closure, 10 x 13</td><td>Envelopes</td><td>Office Supplies</td><td>Retail CSV</td><td>2024-09-09T19:36:52.229Z</td></tr><tr><td>TEC-AC-10001590</td><td>Dell Slim USB Multimedia Keyboard</td><td>Accessories</td><td>Technology</td><td>Retail CSV</td><td>2024-09-09T19:36:52.229Z</td></tr><tr><td>OFF-SU-10000157</td><td>Compact Automatic Electric Letter Opener</td><td>Supplies</td><td>Office Supplies</td><td>Retail CSV</td><td>2024-09-09T19:36:52.229Z</td></tr><tr><td>FUR-CH-10004875</td><td>Harbour Creations 67200 Series Stacking Chairs</td><td>Chairs</td><td>Furniture</td><td>Retail CSV</td><td>2024-09-09T19:36:52.229Z</td></tr><tr><td>TEC-PH-10001128</td><td>Motorola Droid Maxx</td><td>Phones</td><td>Technology</td><td>Retail CSV</td><td>2024-09-09T19:36:52.229Z</td></tr><tr><td>OFF-PA-10001569</td><td>Xerox 232</td><td>Paper</td><td>Office Supplies</td><td>Retail CSV</td><td>2024-09-09T19:36:52.229Z</td></tr><tr><td>OFF-EN-10001137</td><td>#10 Gummed Flap White Envelopes, 100/Box</td><td>Envelopes</td><td>Office Supplies</td><td>Retail CSV</td><td>2024-09-09T19:36:52.229Z</td></tr><tr><td>TEC-AC-10000158</td><td>Sony 64GB Class 10 Micro SDHC R40 Memory Card</td><td>Accessories</td><td>Technology</td><td>Retail CSV</td><td>2024-09-09T19:36:52.229Z</td></tr><tr><td>OFF-BI-10001107</td><td>GBC White Gloss Covers, Plain Front</td><td>Binders</td><td>Office Supplies</td><td>Retail CSV</td><td>2024-09-09T19:36:52.229Z</td></tr><tr><td>OFF-SU-10004231</td><td>Acme Tagit Stainless Steel Antibacterial Scissors</td><td>Supplies</td><td>Office Supplies</td><td>Retail CSV</td><td>2024-09-09T19:36:52.229Z</td></tr><tr><td>OFF-LA-10004272</td><td>Avery 482</td><td>Labels</td><td>Office Supplies</td><td>Retail CSV</td><td>2024-09-09T19:36:52.229Z</td></tr><tr><td>TEC-AC-10002380</td><td>Sony 8GB Class 10 Micro SDHC R40 Memory Card</td><td>Accessories</td><td>Technology</td><td>Retail CSV</td><td>2024-09-09T19:36:52.229Z</td></tr><tr><td>OFF-BI-10002309</td><td>Avery Heavy-Duty EZD  Binder With Locking Rings</td><td>Binders</td><td>Office Supplies</td><td>Retail CSV</td><td>2024-09-09T19:36:52.229Z</td></tr><tr><td>OFF-PA-10000474</td><td>Easy-staple paper</td><td>Paper</td><td>Office Supplies</td><td>Retail CSV</td><td>2024-09-09T19:36:52.229Z</td></tr><tr><td>OFF-AR-10000411</td><td>Boston 16701 Slimline Battery Pencil Sharpener</td><td>Art</td><td>Office Supplies</td><td>Retail CSV</td><td>2024-09-09T19:36:52.229Z</td></tr><tr><td>FUR-FU-10002116</td><td>Tenex Carpeted, Granite-Look or Clear Contemporary Contour Shape Chair Mats</td><td>Furnishings</td><td>Furniture</td><td>Retail CSV</td><td>2024-09-09T19:36:52.229Z</td></tr><tr><td>TEC-PH-10001299</td><td>Polycom CX300 Desktop Phone USB VoIP phone</td><td>Phones</td><td>Technology</td><td>Retail CSV</td><td>2024-09-09T19:36:52.229Z</td></tr><tr><td>FUR-FU-10003930</td><td>Howard Miller 12-3/4 Diameter Accuwave DS  Wall Clock</td><td>Furnishings</td><td>Furniture</td><td>Retail CSV</td><td>2024-09-09T19:36:52.229Z</td></tr><tr><td>FUR-FU-10002813</td><td>DAX Contemporary Wood Frame with Silver Metal Mat, Desktop, 11 x 14 Size</td><td>Furnishings</td><td>Furniture</td><td>Retail CSV</td><td>2024-09-09T19:36:52.229Z</td></tr><tr><td>OFF-PA-10004243</td><td>Xerox 1939</td><td>Paper</td><td>Office Supplies</td><td>Retail CSV</td><td>2024-09-09T19:36:52.229Z</td></tr><tr><td>OFF-PA-10003039</td><td>Xerox 1960</td><td>Paper</td><td>Office Supplies</td><td>Retail CSV</td><td>2024-09-09T19:36:52.229Z</td></tr><tr><td>OFF-BI-10000773</td><td>Insertable Tab Post Binder Dividers</td><td>Binders</td><td>Office Supplies</td><td>Retail CSV</td><td>2024-09-09T19:36:52.229Z</td></tr><tr><td>OFF-ST-10000563</td><td>Fellowes Bankers Box Stor/Drawer Steel Plus</td><td>Storage</td><td>Office Supplies</td><td>Retail CSV</td><td>2024-09-09T19:36:52.229Z</td></tr><tr><td>FUR-TA-10001307</td><td>SAFCO PlanMaster Heigh-Adjustable Drafting Table Base, 43w x 30d x 30-37h, Black</td><td>Tables</td><td>Furniture</td><td>Retail CSV</td><td>2024-09-09T19:36:52.229Z</td></tr><tr><td>OFF-AP-10003057</td><td>Honeywell Enviracaire Portable HEPA Air Cleaner for 16' x 20' Room</td><td>Appliances</td><td>Office Supplies</td><td>Retail CSV</td><td>2024-09-09T19:36:52.229Z</td></tr><tr><td>OFF-PA-10000174</td><td>\"Message Book, Wirebound, Four 5 1/2\"\" X 4\"\" Forms/Pg.</td><td>Paper</td><td>Office Supplies</td><td>Retail CSV</td><td>2024-09-09T19:36:52.229Z</td></tr><tr><td>FUR-FU-10002703</td><td>\"Tenex Traditional Chairmats for Hard Floors, Average Lip, 36\"\" x 48\"\"\"</td><td>Furnishings</td><td>Furniture</td><td>Retail CSV</td><td>2024-09-09T19:36:52.229Z</td></tr><tr><td>OFF-FA-10000840</td><td>OIC Thumb-Tacks</td><td>Fasteners</td><td>Office Supplies</td><td>Retail CSV</td><td>2024-09-09T19:36:52.229Z</td></tr><tr><td>OFF-LA-10000305</td><td>Avery 495</td><td>Labels</td><td>Office Supplies</td><td>Retail CSV</td><td>2024-09-09T19:36:52.229Z</td></tr><tr><td>FUR-FU-10003489</td><td>Contemporary Borderless Frame</td><td>Furnishings</td><td>Furniture</td><td>Retail CSV</td><td>2024-09-09T19:36:52.229Z</td></tr><tr><td>FUR-CH-10003817</td><td>Global Value Steno Chair, Gray</td><td>Chairs</td><td>Furniture</td><td>Retail CSV</td><td>2024-09-09T19:36:52.229Z</td></tr><tr><td>OFF-EN-10004386</td><td>Recycled Interoffice Envelopes with String and Button Closure, 10 x 13</td><td>Envelopes</td><td>Office Supplies</td><td>Retail CSV</td><td>2024-09-09T19:36:52.229Z</td></tr><tr><td>TEC-CO-10004115</td><td>Sharp AL-1530CS Digital Copier</td><td>Copiers</td><td>Technology</td><td>Retail CSV</td><td>2024-09-09T19:36:52.229Z</td></tr><tr><td>TEC-AC-10001838</td><td>Razer Tiamat Over Ear 7.1 Surround Sound PC Gaming Headset</td><td>Accessories</td><td>Technology</td><td>Retail CSV</td><td>2024-09-09T19:36:52.229Z</td></tr><tr><td>OFF-AR-10003631</td><td>Staples in misc. colors</td><td>Art</td><td>Office Supplies</td><td>Retail CSV</td><td>2024-09-09T19:36:52.229Z</td></tr><tr><td>FUR-FU-10002045</td><td>Executive Impressions 14\"\"</td><td>Furnishings</td><td>Furniture</td><td>Retail CSV</td><td>2024-09-09T19:36:52.229Z</td></tr><tr><td>OFF-BI-10001787</td><td>Wilson Jones Four-Pocket Poly Binders</td><td>Binders</td><td>Office Supplies</td><td>Retail CSV</td><td>2024-09-09T19:36:52.229Z</td></tr><tr><td>FUR-FU-10001215</td><td>\"Howard Miller 11-1/2\"\" Diameter Brentwood Wall Clock\"</td><td>Furnishings</td><td>Furniture</td><td>Retail CSV</td><td>2024-09-09T19:36:52.229Z</td></tr><tr><td>TEC-MA-10003176</td><td>Okidata B400 Printer</td><td>Machines</td><td>Technology</td><td>Retail CSV</td><td>2024-09-09T19:36:52.229Z</td></tr><tr><td>FUR-CH-10002073</td><td>Hon Olson Stacker Chairs</td><td>Chairs</td><td>Furniture</td><td>Retail CSV</td><td>2024-09-09T19:36:52.229Z</td></tr><tr><td>OFF-AR-10004042</td><td>BOSTON Model 1800 Electric Pencil Sharpeners, Putty/Woodgrain</td><td>Art</td><td>Office Supplies</td><td>Retail CSV</td><td>2024-09-09T19:36:52.229Z</td></tr><tr><td>OFF-AR-10003045</td><td>Prang Colored Pencils</td><td>Art</td><td>Office Supplies</td><td>Retail CSV</td><td>2024-09-09T19:36:52.229Z</td></tr><tr><td>OFF-BI-10003305</td><td>Avery Hanging File Binders</td><td>Binders</td><td>Office Supplies</td><td>Retail CSV</td><td>2024-09-09T19:36:52.229Z</td></tr><tr><td>OFF-SU-10002537</td><td>Acme Box Cutter Scissors</td><td>Supplies</td><td>Office Supplies</td><td>Retail CSV</td><td>2024-09-09T19:36:52.229Z</td></tr><tr><td>FUR-BO-10001811</td><td>Atlantic Metals Mobile 5-Shelf Bookcases, Custom Colors</td><td>Bookcases</td><td>Furniture</td><td>Retail CSV</td><td>2024-09-09T19:36:52.229Z</td></tr><tr><td>OFF-BI-10004236</td><td>XtraLife ClearVue Slant-D Ring Binder, White, 3\"\"</td><td>Binders</td><td>Office Supplies</td><td>Retail CSV</td><td>2024-09-09T19:36:52.229Z</td></tr><tr><td>TEC-AC-10003116</td><td>Memorex Froggy Flash Drive 8 GB</td><td>Accessories</td><td>Technology</td><td>Retail CSV</td><td>2024-09-09T19:36:52.229Z</td></tr><tr><td>TEC-AC-10004568</td><td>Maxell LTO Ultrium - 800 GB</td><td>Accessories</td><td>Technology</td><td>Retail CSV</td><td>2024-09-09T19:36:52.229Z</td></tr><tr><td>OFF-PA-10000380</td><td>\"REDIFORM Incoming/Outgoing Call Register, 11\"\" X 8 1/2\"\"</td><td>Paper</td><td>Office Supplies</td><td>Retail CSV</td><td>2024-09-09T19:36:52.229Z</td></tr><tr><td>OFF-AP-10002734</td><td>Holmes Harmony HEPA Air Purifier for 17 x 20 Room</td><td>Appliances</td><td>Office Supplies</td><td>Retail CSV</td><td>2024-09-09T19:36:52.229Z</td></tr><tr><td>OFF-AR-10004260</td><td>Boston 1799 Powerhouse Electric Pencil Sharpener</td><td>Art</td><td>Office Supplies</td><td>Retail CSV</td><td>2024-09-09T19:36:52.229Z</td></tr><tr><td>FUR-FU-10004845</td><td>Deflect-o EconoMat Nonstudded, No Bevel Mat</td><td>Furnishings</td><td>Furniture</td><td>Retail CSV</td><td>2024-09-09T19:36:52.229Z</td></tr><tr><td>OFF-FA-10002780</td><td>Staples</td><td>Fasteners</td><td>Office Supplies</td><td>Retail CSV</td><td>2024-09-09T19:36:52.229Z</td></tr><tr><td>OFF-ST-10002485</td><td>Rogers Deluxe File Chest</td><td>Storage</td><td>Office Supplies</td><td>Retail CSV</td><td>2024-09-09T19:36:52.229Z</td></tr><tr><td>OFF-BI-10000315</td><td>Poly Designer Cover & Back</td><td>Binders</td><td>Office Supplies</td><td>Retail CSV</td><td>2024-09-09T19:36:52.229Z</td></tr><tr><td>OFF-AR-10001246</td><td>Newell 317</td><td>Art</td><td>Office Supplies</td><td>Retail CSV</td><td>2024-09-09T19:36:52.229Z</td></tr><tr><td>OFF-PA-10002333</td><td>\"Universal Ultra Bright White Copier/Laser Paper, 8 1/2\"\" x 11\"\"</td><td>Paper</td><td>Office Supplies</td><td>Retail CSV</td><td>2024-09-09T19:36:52.229Z</td></tr><tr><td>OFF-LA-10000081</td><td>Avery 496</td><td>Labels</td><td>Office Supplies</td><td>Retail CSV</td><td>2024-09-09T19:36:52.229Z</td></tr><tr><td>OFF-PA-10001461</td><td>HP Office Paper (20Lb. and 87 Bright)</td><td>Paper</td><td>Office Supplies</td><td>Retail CSV</td><td>2024-09-09T19:36:52.229Z</td></tr><tr><td>FUR-FU-10003374</td><td>Electrix Fluorescent Magnifier Lamps & Weighted Base</td><td>Furnishings</td><td>Furniture</td><td>Retail CSV</td><td>2024-09-09T19:36:52.229Z</td></tr><tr><td>TEC-AC-10004708</td><td>Sony 32GB Class 10 Micro SDHC R40 Memory Card</td><td>Accessories</td><td>Technology</td><td>Retail CSV</td><td>2024-09-09T19:36:52.229Z</td></tr><tr><td>OFF-AR-10000369</td><td>Design Ebony Sketching Pencil</td><td>Art</td><td>Office Supplies</td><td>Retail CSV</td><td>2024-09-09T19:36:52.229Z</td></tr><tr><td>OFF-ST-10001809</td><td>Fellowes Officeware Wire Shelving</td><td>Storage</td><td>Office Supplies</td><td>Retail CSV</td><td>2024-09-09T19:36:52.229Z</td></tr><tr><td>TEC-PH-10001336</td><td>Digium D40 VoIP phone</td><td>Phones</td><td>Technology</td><td>Retail CSV</td><td>2024-09-09T19:36:52.229Z</td></tr><tr><td>OFF-AP-10002495</td><td>Acco Smartsocket Table Surge Protector, 6 Color-Coded Adapter Outlets</td><td>Appliances</td><td>Office Supplies</td><td>Retail CSV</td><td>2024-09-09T19:36:52.229Z</td></tr><tr><td>OFF-BI-10003196</td><td>Accohide Poly Flexible Ring Binders</td><td>Binders</td><td>Office Supplies</td><td>Retail CSV</td><td>2024-09-09T19:36:52.229Z</td></tr><tr><td>TEC-PH-10002114</td><td>Xiaomi Mi3</td><td>Phones</td><td>Technology</td><td>Retail CSV</td><td>2024-09-09T19:36:52.229Z</td></tr><tr><td>OFF-PA-10003892</td><td>Xerox 1943</td><td>Paper</td><td>Office Supplies</td><td>Retail CSV</td><td>2024-09-09T19:36:52.229Z</td></tr><tr><td>OFF-PA-10000304</td><td>Xerox 1995</td><td>Paper</td><td>Office Supplies</td><td>Retail CSV</td><td>2024-09-09T19:36:52.229Z</td></tr><tr><td>OFF-BI-10000309</td><td>\"GBC Twin Loop Wire Binding Elements, 9/16\"\" Spine</td><td>Binders</td><td>Office Supplies</td><td>Retail CSV</td><td>2024-09-09T19:36:52.229Z</td></tr><tr><td>OFF-BI-10000320</td><td>GBC Plastic Binding Combs</td><td>Binders</td><td>Office Supplies</td><td>Retail CSV</td><td>2024-09-09T19:36:52.229Z</td></tr><tr><td>OFF-AR-10000475</td><td>Hunt BOSTON Vista Battery-Operated Pencil Sharpener, Black</td><td>Art</td><td>Office Supplies</td><td>Retail CSV</td><td>2024-09-09T19:36:52.229Z</td></tr><tr><td>OFF-PA-10001994</td><td>\"Ink Jet Note and Greeting Cards, 8-1/2\"\" x 5-1/2\"\" Card Size\"</td><td>Paper</td><td>Office Supplies</td><td>Retail CSV</td><td>2024-09-09T19:36:52.229Z</td></tr><tr><td>TEC-PH-10001536</td><td>Spigen Samsung Galaxy S5 Case Wallet</td><td>Phones</td><td>Technology</td><td>Retail CSV</td><td>2024-09-09T19:36:52.229Z</td></tr><tr><td>OFF-PA-10003919</td><td>Xerox 1989</td><td>Paper</td><td>Office Supplies</td><td>Retail CSV</td><td>2024-09-09T19:36:52.229Z</td></tr><tr><td>OFF-AR-10003087</td><td>Staples in misc. colors</td><td>Art</td><td>Office Supplies</td><td>Retail CSV</td><td>2024-09-09T19:36:52.229Z</td></tr><tr><td>FUR-FU-10002111</td><td>Master Caster Door Stop, Large Brown</td><td>Furnishings</td><td>Furniture</td><td>Retail CSV</td><td>2024-09-09T19:36:52.229Z</td></tr><tr><td>TEC-PH-10004614</td><td>AT&T 841000 Phone</td><td>Phones</td><td>Technology</td><td>Retail CSV</td><td>2024-09-09T19:36:52.229Z</td></tr><tr><td>OFF-BI-10004140</td><td>Avery Non-Stick Binders</td><td>Binders</td><td>Office Supplies</td><td>Retail CSV</td><td>2024-09-09T19:36:52.229Z</td></tr><tr><td>OFF-BI-10003527</td><td>Fellowes PB500 Electric Punch Plastic Comb Binding Machine with Manual Bind</td><td>Binders</td><td>Office Supplies</td><td>Retail CSV</td><td>2024-09-09T19:36:52.229Z</td></tr><tr><td>OFF-ST-10000585</td><td>Economy Rollaway Files</td><td>Storage</td><td>Office Supplies</td><td>Retail CSV</td><td>2024-09-09T19:36:52.229Z</td></tr><tr><td>OFF-BI-10002827</td><td>Avery Durable Poly Binders</td><td>Binders</td><td>Office Supplies</td><td>Retail CSV</td><td>2024-09-09T19:36:52.229Z</td></tr><tr><td>OFF-ST-10002574</td><td>SAFCO Commercial Wire Shelving, Black</td><td>Storage</td><td>Office Supplies</td><td>Retail CSV</td><td>2024-09-09T19:36:52.229Z</td></tr><tr><td>OFF-PA-10004438</td><td>Xerox 1907</td><td>Paper</td><td>Office Supplies</td><td>Retail CSV</td><td>2024-09-09T19:36:52.229Z</td></tr><tr><td>OFF-AR-10003896</td><td>Stride Job 150 Highlighters, Chisel Tip, Assorted Colors</td><td>Art</td><td>Office Supplies</td><td>Retail CSV</td><td>2024-09-09T19:36:52.229Z</td></tr><tr><td>FUR-CH-10002317</td><td>Global Enterprise Series Seating Low-Back Swivel/Tilt Chairs</td><td>Chairs</td><td>Furniture</td><td>Retail CSV</td><td>2024-09-09T19:36:52.229Z</td></tr><tr><td>OFF-ST-10001414</td><td>Decoflex Hanging Personal Folder File</td><td>Storage</td><td>Office Supplies</td><td>Retail CSV</td><td>2024-09-09T19:36:52.229Z</td></tr><tr><td>OFF-BI-10000069</td><td>GBC Prepunched Paper, 19-Hole, for Binding Systems, 24-lb</td><td>Binders</td><td>Office Supplies</td><td>Retail CSV</td><td>2024-09-09T19:36:52.229Z</td></tr><tr><td>OFF-FA-10003467</td><td>Alliance Big Bands Rubber Bands, 12/Pack</td><td>Fasteners</td><td>Office Supplies</td><td>Retail CSV</td><td>2024-09-09T19:36:52.229Z</td></tr><tr><td>FUR-TA-10004086</td><td>KI Adjustable-Height Table</td><td>Tables</td><td>Furniture</td><td>Retail CSV</td><td>2024-09-09T19:36:52.229Z</td></tr><tr><td>OFF-PA-10002659</td><td>Avoid Verbal Orders Carbonless Minifold Book</td><td>Paper</td><td>Office Supplies</td><td>Retail CSV</td><td>2024-09-09T19:36:52.229Z</td></tr><tr><td>OFF-LA-10000262</td><td>Avery 494</td><td>Labels</td><td>Office Supplies</td><td>Retail CSV</td><td>2024-09-09T19:36:52.229Z</td></tr><tr><td>OFF-AR-10003504</td><td>Newell 347</td><td>Art</td><td>Office Supplies</td><td>Retail CSV</td><td>2024-09-09T19:36:52.229Z</td></tr><tr><td>FUR-FU-10000755</td><td>Eldon Expressions Mahogany Wood Desk Collection</td><td>Furnishings</td><td>Furniture</td><td>Retail CSV</td><td>2024-09-09T19:36:52.229Z</td></tr><tr><td>TEC-PH-10001644</td><td>BlueLounge Milo Smartphone Stand, White/Metallic</td><td>Phones</td><td>Technology</td><td>Retail CSV</td><td>2024-09-09T19:36:52.229Z</td></tr><tr><td>OFF-BI-10001120</td><td>Ibico EPK-21 Electric Binding System</td><td>Binders</td><td>Office Supplies</td><td>Retail CSV</td><td>2024-09-09T19:36:52.229Z</td></tr><tr><td>OFF-BI-10000216</td><td>\"Mead 1st Gear 2\"\" Zipper Binder</td><td>Binders</td><td>Office Supplies</td><td>Retail CSV</td><td>2024-09-09T19:36:52.229Z</td></tr><tr><td>TEC-AC-10000171</td><td>Verbatim 25 GB 6x Blu-ray Single Layer Recordable Disc, 25/Pack</td><td>Accessories</td><td>Technology</td><td>Retail CSV</td><td>2024-09-09T19:36:52.229Z</td></tr><tr><td>OFF-AP-10001058</td><td>Sanyo 2.5 Cubic Foot Mid-Size Office Refrigerators</td><td>Appliances</td><td>Office Supplies</td><td>Retail CSV</td><td>2024-09-09T19:36:52.229Z</td></tr><tr><td>OFF-AR-10001026</td><td>Sanford Uni-Blazer View Highlighters, Chisel Tip, Yellow</td><td>Art</td><td>Office Supplies</td><td>Retail CSV</td><td>2024-09-09T19:36:52.229Z</td></tr><tr><td>OFF-PA-10001509</td><td>\"Recycled Desk Saver Line \"\"While You Were Out\"\" Book</td><td>Paper</td><td>Office Supplies</td><td>Retail CSV</td><td>2024-09-09T19:36:52.229Z</td></tr><tr><td>TEC-PH-10002496</td><td>Cisco SPA301</td><td>Phones</td><td>Technology</td><td>Retail CSV</td><td>2024-09-09T19:36:52.229Z</td></tr><tr><td>OFF-AP-10000576</td><td>Belkin 7 Outlet SurgeMaster II</td><td>Appliances</td><td>Office Supplies</td><td>Retail CSV</td><td>2024-09-09T19:36:52.229Z</td></tr><tr><td>OFF-LA-10004425</td><td>Staple-on labels</td><td>Labels</td><td>Office Supplies</td><td>Retail CSV</td><td>2024-09-09T19:36:52.229Z</td></tr><tr><td>OFF-ST-10000877</td><td>Recycled Steel Personal File for Standard File Folders</td><td>Storage</td><td>Office Supplies</td><td>Retail CSV</td><td>2024-09-09T19:36:52.229Z</td></tr><tr><td>OFF-SU-10000151</td><td>High Speed Automatic Electric Letter Opener</td><td>Supplies</td><td>Office Supplies</td><td>Retail CSV</td><td>2024-09-09T19:36:52.229Z</td></tr><tr><td>FUR-FU-10002508</td><td>Document Clip Frames</td><td>Furnishings</td><td>Furniture</td><td>Retail CSV</td><td>2024-09-09T19:36:52.229Z</td></tr><tr><td>OFF-SU-10004661</td><td>Acme Titanium Bonded Scissors</td><td>Supplies</td><td>Office Supplies</td><td>Retail CSV</td><td>2024-09-09T19:36:52.229Z</td></tr><tr><td>FUR-FU-10000576</td><td>Luxo Professional Fluorescent Magnifier Lamp with Clamp-Mount Base</td><td>Furnishings</td><td>Furniture</td><td>Retail CSV</td><td>2024-09-09T19:36:52.229Z</td></tr><tr><td>OFF-SU-10001225</td><td>Staple remover</td><td>Supplies</td><td>Office Supplies</td><td>Retail CSV</td><td>2024-09-09T19:36:52.229Z</td></tr><tr><td>OFF-ST-10000798</td><td>2300 Heavy-Duty Transfer File Systems by Perma</td><td>Storage</td><td>Office Supplies</td><td>Retail CSV</td><td>2024-09-09T19:36:52.229Z</td></tr><tr><td>FUR-FU-10000206</td><td>GE General Purpose, Extra Long Life, Showcase & Floodlight Incandescent Bulbs</td><td>Furnishings</td><td>Furniture</td><td>Retail CSV</td><td>2024-09-09T19:36:52.229Z</td></tr><tr><td>OFF-PA-10001357</td><td>Xerox 1886</td><td>Paper</td><td>Office Supplies</td><td>Retail CSV</td><td>2024-09-09T19:36:52.229Z</td></tr><tr><td>OFF-BI-10001900</td><td>DXL Angle-View Binders with Locking Rings, Black</td><td>Binders</td><td>Office Supplies</td><td>Retail CSV</td><td>2024-09-09T19:36:52.229Z</td></tr><tr><td>OFF-AP-10002998</td><td>Holmes 99% HEPA Air Purifier</td><td>Appliances</td><td>Office Supplies</td><td>Retail CSV</td><td>2024-09-09T19:36:52.229Z</td></tr><tr><td>TEC-MA-10003230</td><td>Okidata C610n Printer</td><td>Machines</td><td>Technology</td><td>Retail CSV</td><td>2024-09-09T19:36:52.229Z</td></tr><tr><td>TEC-PH-10001949</td><td>Cisco SPA 501G IP Phone</td><td>Phones</td><td>Technology</td><td>Retail CSV</td><td>2024-09-09T19:36:52.229Z</td></tr><tr><td>OFF-EN-10002500</td><td>Globe Weis Peel & Seel First Class Envelopes</td><td>Envelopes</td><td>Office Supplies</td><td>Retail CSV</td><td>2024-09-09T19:36:52.229Z</td></tr><tr><td>OFF-PA-10004000</td><td>While You Were Out Pads, 50 per Pad, 4 x 5 1/4, Green Cycle</td><td>Paper</td><td>Office Supplies</td><td>Retail CSV</td><td>2024-09-09T19:36:52.229Z</td></tr><tr><td>TEC-AC-10000303</td><td>Logitech M510 Wireless Mouse</td><td>Accessories</td><td>Technology</td><td>Retail CSV</td><td>2024-09-09T19:36:52.229Z</td></tr><tr><td>OFF-EN-10001434</td><td>Strathmore #10 Envelopes, Ultimate White</td><td>Envelopes</td><td>Office Supplies</td><td>Retail CSV</td><td>2024-09-09T19:36:52.229Z</td></tr><tr><td>OFF-AR-10003811</td><td>Newell 327</td><td>Art</td><td>Office Supplies</td><td>Retail CSV</td><td>2024-09-09T19:36:52.229Z</td></tr><tr><td>OFF-AP-10003914</td><td>Sanitaire Vibra Groomer IR Commercial Upright Vacuum, Replacement Belts</td><td>Appliances</td><td>Office Supplies</td><td>Retail CSV</td><td>2024-09-09T19:36:52.229Z</td></tr><tr><td>OFF-AP-10004532</td><td>Kensington 6 Outlet Guardian Standard Surge Protector</td><td>Appliances</td><td>Office Supplies</td><td>Retail CSV</td><td>2024-09-09T19:36:52.229Z</td></tr><tr><td>OFF-AR-10001897</td><td>Model L Table or Wall-Mount Pencil Sharpener</td><td>Art</td><td>Office Supplies</td><td>Retail CSV</td><td>2024-09-09T19:36:52.229Z</td></tr><tr><td>TEC-PH-10001795</td><td>ClearOne CHATAttach 160 - speaker phone</td><td>Phones</td><td>Technology</td><td>Retail CSV</td><td>2024-09-09T19:36:52.229Z</td></tr><tr><td>OFF-BI-10003925</td><td>Fellowes PB300 Plastic Comb Binding Machine</td><td>Binders</td><td>Office Supplies</td><td>Retail CSV</td><td>2024-09-09T19:36:52.229Z</td></tr><tr><td>FUR-CH-10002961</td><td>Leather Task Chair, Black</td><td>Chairs</td><td>Furniture</td><td>Retail CSV</td><td>2024-09-09T19:36:52.229Z</td></tr><tr><td>TEC-AC-10001114</td><td>Microsoft Wireless Mobile Mouse 4000</td><td>Accessories</td><td>Technology</td><td>Retail CSV</td><td>2024-09-09T19:36:52.229Z</td></tr><tr><td>FUR-FU-10003829</td><td>Stackable Trays</td><td>Furnishings</td><td>Furniture</td><td>Retail CSV</td><td>2024-09-09T19:36:52.229Z</td></tr><tr><td>TEC-PH-10004912</td><td>Cisco SPA112 2 Port Phone Adapter</td><td>Phones</td><td>Technology</td><td>Retail CSV</td><td>2024-09-09T19:36:52.229Z</td></tr><tr><td>TEC-MA-10003493</td><td>Penpower WorldCard Pro Card Scanner</td><td>Machines</td><td>Technology</td><td>Retail CSV</td><td>2024-09-09T19:36:52.229Z</td></tr><tr><td>OFF-ST-10003455</td><td>Tenex File Box, Personal Filing Tote with Lid, Black</td><td>Storage</td><td>Office Supplies</td><td>Retail CSV</td><td>2024-09-09T19:36:52.229Z</td></tr><tr><td>OFF-PA-10001970</td><td>Xerox 1881</td><td>Paper</td><td>Office Supplies</td><td>Retail CSV</td><td>2024-09-09T19:36:52.229Z</td></tr><tr><td>OFF-PA-10002230</td><td>Xerox 1897</td><td>Paper</td><td>Office Supplies</td><td>Retail CSV</td><td>2024-09-09T19:36:52.229Z</td></tr><tr><td>OFF-AP-10004233</td><td>Honeywell Enviracaire Portable Air Cleaner for up to 8 x 10 Room</td><td>Appliances</td><td>Office Supplies</td><td>Retail CSV</td><td>2024-09-09T19:36:52.229Z</td></tr><tr><td>FUR-FU-10001468</td><td>Tenex Antistatic Computer Chair Mats</td><td>Furnishings</td><td>Furniture</td><td>Retail CSV</td><td>2024-09-09T19:36:52.229Z</td></tr><tr><td>TEC-AC-10002305</td><td>KeyTronic E03601U1 - Keyboard - Beige</td><td>Accessories</td><td>Technology</td><td>Retail CSV</td><td>2024-09-09T19:36:52.229Z</td></tr><tr><td>TEC-PH-10001870</td><td>Lunatik TT5L-002 Taktik Strike Impact Protection System for iPhone 5</td><td>Phones</td><td>Technology</td><td>Retail CSV</td><td>2024-09-09T19:36:52.229Z</td></tr><tr><td>FUR-FU-10001487</td><td>Eldon Expressions Wood and Plastic Desk Accessories, Cherry Wood</td><td>Furnishings</td><td>Furniture</td><td>Retail CSV</td><td>2024-09-09T19:36:52.229Z</td></tr><tr><td>OFF-ST-10004963</td><td>Eldon Gobal File Keepers</td><td>Storage</td><td>Office Supplies</td><td>Retail CSV</td><td>2024-09-09T19:36:52.229Z</td></tr><tr><td>OFF-BI-10001036</td><td>Cardinal EasyOpen D-Ring Binders</td><td>Binders</td><td>Office Supplies</td><td>Retail CSV</td><td>2024-09-09T19:36:52.229Z</td></tr><tr><td>TEC-PH-10000560</td><td>Samsung Galaxy S III - 16GB - pebble blue (T-Mobile)</td><td>Phones</td><td>Technology</td><td>Retail CSV</td><td>2024-09-09T19:36:52.229Z</td></tr><tr><td>TEC-PH-10003580</td><td>Cisco IP Phone 7961G-GE VoIP phone</td><td>Phones</td><td>Technology</td><td>Retail CSV</td><td>2024-09-09T19:36:52.229Z</td></tr><tr><td>OFF-PA-10003424</td><td>\"\"\"While you Were Out\"\" Message Book</td><td>Paper</td><td>Office Supplies</td><td>Retail CSV</td><td>2024-09-09T19:36:52.229Z</td></tr><tr><td>OFF-PA-10002246</td><td>Wirebound Four 2-3/4 x 5 Forms per Page, 400 Sets per Book</td><td>Paper</td><td>Office Supplies</td><td>Retail CSV</td><td>2024-09-09T19:36:52.229Z</td></tr><tr><td>OFF-PA-10000213</td><td>Xerox 198</td><td>Paper</td><td>Office Supplies</td><td>Retail CSV</td><td>2024-09-09T19:36:52.229Z</td></tr><tr><td>OFF-PA-10000048</td><td>Xerox 20</td><td>Paper</td><td>Office Supplies</td><td>Retail CSV</td><td>2024-09-09T19:36:52.229Z</td></tr><tr><td>OFF-AR-10001149</td><td>Sanford Colorific Colored Pencils, 12/Box</td><td>Art</td><td>Office Supplies</td><td>Retail CSV</td><td>2024-09-09T19:36:52.229Z</td></tr><tr><td>OFF-AP-10002203</td><td>Eureka Disposable Bags for Sanitaire Vibra Groomer I Upright Vac</td><td>Appliances</td><td>Office Supplies</td><td>Retail CSV</td><td>2024-09-09T19:36:52.229Z</td></tr><tr><td>OFF-LA-10001074</td><td>Round Specialty Laser Printer Labels</td><td>Labels</td><td>Office Supplies</td><td>Retail CSV</td><td>2024-09-09T19:36:52.229Z</td></tr><tr><td>FUR-FU-10004020</td><td>Advantus Panel Wall Acrylic Frame</td><td>Furnishings</td><td>Furniture</td><td>Retail CSV</td><td>2024-09-09T19:36:52.229Z</td></tr><tr><td>OFF-AR-10000634</td><td>Newell 320</td><td>Art</td><td>Office Supplies</td><td>Retail CSV</td><td>2024-09-09T19:36:52.229Z</td></tr><tr><td>TEC-PH-10001615</td><td>AT&T CL82213</td><td>Phones</td><td>Technology</td><td>Retail CSV</td><td>2024-09-09T19:36:52.229Z</td></tr><tr><td>TEC-MA-10002981</td><td>I.R.I.S IRISCard Anywhere 5 Card Scanner</td><td>Machines</td><td>Technology</td><td>Retail CSV</td><td>2024-09-09T19:36:52.229Z</td></tr><tr><td>OFF-AR-10001615</td><td>Newell 34</td><td>Art</td><td>Office Supplies</td><td>Retail CSV</td><td>2024-09-09T19:36:52.229Z</td></tr><tr><td>OFF-ST-10000136</td><td>Letter Size File</td><td>Storage</td><td>Office Supplies</td><td>Retail CSV</td><td>2024-09-09T19:36:52.229Z</td></tr><tr><td>TEC-PH-10002563</td><td>Adtran 1202752G1</td><td>Phones</td><td>Technology</td><td>Retail CSV</td><td>2024-09-09T19:36:52.229Z</td></tr><tr><td>FUR-CH-10004086</td><td>Hon 4070 Series Pagoda Armless Upholstered Stacking Chairs</td><td>Chairs</td><td>Furniture</td><td>Retail CSV</td><td>2024-09-09T19:36:52.229Z</td></tr><tr><td>OFF-ST-10001321</td><td>Decoflex Hanging Personal Folder File, Blue</td><td>Storage</td><td>Office Supplies</td><td>Retail CSV</td><td>2024-09-09T19:36:52.229Z</td></tr><tr><td>OFF-ST-10004459</td><td>Tennsco Single-Tier Lockers</td><td>Storage</td><td>Office Supplies</td><td>Retail CSV</td><td>2024-09-09T19:36:52.229Z</td></tr><tr><td>OFF-AP-10001563</td><td>Belkin Premiere Surge Master II 8-outlet surge protector</td><td>Appliances</td><td>Office Supplies</td><td>Retail CSV</td><td>2024-09-09T19:36:52.229Z</td></tr><tr><td>OFF-EN-10000461</td><td>\"#10- 4 1/8\"\" x 9 1/2\"\" Recycled Envelopes\"</td><td>Envelopes</td><td>Office Supplies</td><td>Retail CSV</td><td>2024-09-09T19:36:52.229Z</td></tr><tr><td>OFF-AP-10003590</td><td>Hoover WindTunnel Plus Canister Vacuum</td><td>Appliances</td><td>Office Supplies</td><td>Retail CSV</td><td>2024-09-09T19:36:52.229Z</td></tr><tr><td>FUR-FU-10000771</td><td>Eldon 200 Class Desk Accessories, Smoke</td><td>Furnishings</td><td>Furniture</td><td>Retail CSV</td><td>2024-09-09T19:36:52.229Z</td></tr><tr><td>FUR-BO-10002598</td><td>Hon Metal Bookcases, Putty</td><td>Bookcases</td><td>Furniture</td><td>Retail CSV</td><td>2024-09-09T19:36:52.229Z</td></tr><tr><td>OFF-AP-10000938</td><td>Avanti 1.7 Cu. Ft. Refrigerator</td><td>Appliances</td><td>Office Supplies</td><td>Retail CSV</td><td>2024-09-09T19:36:52.229Z</td></tr><tr><td>FUR-CH-10000785</td><td>Global Ergonomic Managers Chair</td><td>Chairs</td><td>Furniture</td><td>Retail CSV</td><td>2024-09-09T19:36:52.229Z</td></tr><tr><td>OFF-AP-10000576</td><td>Belkin 325VA UPS Surge Protector, 6'</td><td>Appliances</td><td>Office Supplies</td><td>Retail CSV</td><td>2024-09-09T19:36:52.229Z</td></tr><tr><td>OFF-PA-10003172</td><td>Xerox 1996</td><td>Paper</td><td>Office Supplies</td><td>Retail CSV</td><td>2024-09-09T19:36:52.229Z</td></tr><tr><td>FUR-FU-10002396</td><td>DAX Copper Panel Document Frame, 5 x 7 Size</td><td>Furnishings</td><td>Furniture</td><td>Retail CSV</td><td>2024-09-09T19:36:52.229Z</td></tr><tr><td>FUR-BO-10000711</td><td>Hon Metal Bookcases, Gray</td><td>Bookcases</td><td>Furniture</td><td>Retail CSV</td><td>2024-09-09T19:36:52.229Z</td></tr><tr><td>FUR-TA-10004442</td><td>Riverside Furniture Stanwyck Manor Table Series</td><td>Tables</td><td>Furniture</td><td>Retail CSV</td><td>2024-09-09T19:36:52.229Z</td></tr><tr><td>OFF-AP-10001564</td><td>Hoover Commercial Lightweight Upright Vacuum with E-Z Empty Dirt Cup</td><td>Appliances</td><td>Office Supplies</td><td>Retail CSV</td><td>2024-09-09T19:36:52.229Z</td></tr><tr><td>FUR-CH-10004218</td><td>Global Fabric Manager's Chair, Dark Gray</td><td>Chairs</td><td>Furniture</td><td>Retail CSV</td><td>2024-09-09T19:36:52.229Z</td></tr><tr><td>OFF-PA-10003845</td><td>Xerox 1987</td><td>Paper</td><td>Office Supplies</td><td>Retail CSV</td><td>2024-09-09T19:36:52.229Z</td></tr><tr><td>FUR-CH-10003746</td><td>Hon 4070 Series Pagoda Round Back Stacking Chairs</td><td>Chairs</td><td>Furniture</td><td>Retail CSV</td><td>2024-09-09T19:36:52.229Z</td></tr><tr><td>OFF-AP-10003040</td><td>Fellowes 8 Outlet Superior Workstation Surge Protector w/o Phone/Fax/Modem Protection</td><td>Appliances</td><td>Office Supplies</td><td>Retail CSV</td><td>2024-09-09T19:36:52.229Z</td></tr><tr><td>OFF-AR-10001545</td><td>Newell 326</td><td>Art</td><td>Office Supplies</td><td>Retail CSV</td><td>2024-09-09T19:36:52.229Z</td></tr><tr><td>OFF-PA-10001763</td><td>Xerox 1896</td><td>Paper</td><td>Office Supplies</td><td>Retail CSV</td><td>2024-09-09T19:36:52.229Z</td></tr><tr><td>TEC-PH-10000307</td><td>Shocksock Galaxy S4 Armband</td><td>Phones</td><td>Technology</td><td>Retail CSV</td><td>2024-09-09T19:36:52.229Z</td></tr><tr><td>TEC-PH-10004165</td><td>Mitel MiVoice 5330e IP Phone</td><td>Phones</td><td>Technology</td><td>Retail CSV</td><td>2024-09-09T19:36:52.229Z</td></tr><tr><td>OFF-PA-10000501</td><td>Petty Cash Envelope</td><td>Paper</td><td>Office Supplies</td><td>Retail CSV</td><td>2024-09-09T19:36:52.229Z</td></tr><tr><td>OFF-AP-10001394</td><td>Harmony Air Purifier</td><td>Appliances</td><td>Office Supplies</td><td>Retail CSV</td><td>2024-09-09T19:36:52.229Z</td></tr><tr><td>FUR-CH-10004754</td><td>Global Stack Chair with Arms, Black</td><td>Chairs</td><td>Furniture</td><td>Retail CSV</td><td>2024-09-09T19:36:52.229Z</td></tr><tr><td>OFF-AR-10003723</td><td>Avery Hi-Liter Fluorescent Desk Style Markers</td><td>Art</td><td>Office Supplies</td><td>Retail CSV</td><td>2024-09-09T19:36:52.229Z</td></tr><tr><td>TEC-AC-10002718</td><td>Belkin Standard 104 key USB Keyboard</td><td>Accessories</td><td>Technology</td><td>Retail CSV</td><td>2024-09-09T19:36:52.229Z</td></tr><tr><td>OFF-BI-10001308</td><td>GBC Standard Plastic Binding Systems' Combs</td><td>Binders</td><td>Office Supplies</td><td>Retail CSV</td><td>2024-09-09T19:36:52.229Z</td></tr><tr><td>TEC-PH-10000193</td><td>Jensen SMPS-640 - speaker phone</td><td>Phones</td><td>Technology</td><td>Retail CSV</td><td>2024-09-09T19:36:52.229Z</td></tr><tr><td>TEC-PH-10002726</td><td>netTALK DUO VoIP Telephone Service</td><td>Phones</td><td>Technology</td><td>Retail CSV</td><td>2024-09-09T19:36:52.229Z</td></tr><tr><td>TEC-MA-10004241</td><td>Star Micronics TSP800 TSP847IIU Receipt Printer</td><td>Machines</td><td>Technology</td><td>Retail CSV</td><td>2024-09-09T19:36:52.229Z</td></tr><tr><td>OFF-EN-10003160</td><td>Pastel Pink Envelopes</td><td>Envelopes</td><td>Office Supplies</td><td>Retail CSV</td><td>2024-09-09T19:36:52.229Z</td></tr><tr><td>FUR-FU-10002553</td><td>Electrix Incandescent Magnifying Lamp, Black</td><td>Furnishings</td><td>Furniture</td><td>Retail CSV</td><td>2024-09-09T19:36:52.229Z</td></tr><tr><td>OFF-AP-10000252</td><td>Harmony HEPA Quiet Air Purifiers</td><td>Appliances</td><td>Office Supplies</td><td>Retail CSV</td><td>2024-09-09T19:36:52.229Z</td></tr><tr><td>TEC-AC-10000682</td><td>Kensington K72356US Mouse-in-a-Box USB Desktop Mouse</td><td>Accessories</td><td>Technology</td><td>Retail CSV</td><td>2024-09-09T19:36:52.229Z</td></tr><tr><td>OFF-AP-10001962</td><td>Black & Decker Filter for Double Action Dustbuster Cordless Vac BLDV7210</td><td>Appliances</td><td>Office Supplies</td><td>Retail CSV</td><td>2024-09-09T19:36:52.229Z</td></tr><tr><td>OFF-AR-10000940</td><td>Newell 343</td><td>Art</td><td>Office Supplies</td><td>Retail CSV</td><td>2024-09-09T19:36:52.229Z</td></tr><tr><td>TEC-AC-10000991</td><td>Sony Micro Vault Click 8 GB USB 2.0 Flash Drive</td><td>Accessories</td><td>Technology</td><td>Retail CSV</td><td>2024-09-09T19:36:52.229Z</td></tr><tr><td>TEC-PH-10003963</td><td>GE 2-Jack Phone Line Splitter</td><td>Phones</td><td>Technology</td><td>Retail CSV</td><td>2024-09-09T19:36:52.229Z</td></tr><tr><td>TEC-PH-10002085</td><td>Clarity 53712</td><td>Phones</td><td>Technology</td><td>Retail CSV</td><td>2024-09-09T19:36:52.229Z</td></tr><tr><td>OFF-LA-10004853</td><td>Avery 483</td><td>Labels</td><td>Office Supplies</td><td>Retail CSV</td><td>2024-09-09T19:36:52.229Z</td></tr><tr><td>TEC-PH-10000576</td><td>AT&T 1080 Corded phone</td><td>Phones</td><td>Technology</td><td>Retail CSV</td><td>2024-09-09T19:36:52.229Z</td></tr><tr><td>TEC-AC-10003038</td><td>Kingston Digital DataTraveler 16GB USB 2.0</td><td>Accessories</td><td>Technology</td><td>Retail CSV</td><td>2024-09-09T19:36:52.229Z</td></tr><tr><td>OFF-AR-10004602</td><td>Boston KS Multi-Size Manual Pencil Sharpener</td><td>Art</td><td>Office Supplies</td><td>Retail CSV</td><td>2024-09-09T19:36:52.229Z</td></tr><tr><td>OFF-ST-10004950</td><td>Tenex Personal Filing Tote With Secure Closure Lid, Black/Frost</td><td>Storage</td><td>Office Supplies</td><td>Retail CSV</td><td>2024-09-09T19:36:52.229Z</td></tr><tr><td>OFF-PA-10003228</td><td>Xerox 1917</td><td>Paper</td><td>Office Supplies</td><td>Retail CSV</td><td>2024-09-09T19:36:52.229Z</td></tr><tr><td>FUR-CH-10001802</td><td>Hon Every-Day Chair Series Swivel Task Chairs</td><td>Chairs</td><td>Furniture</td><td>Retail CSV</td><td>2024-09-09T19:36:52.229Z</td></tr><tr><td>OFF-AP-10004136</td><td>Kensington 6 Outlet SmartSocket Surge Protector</td><td>Appliances</td><td>Office Supplies</td><td>Retail CSV</td><td>2024-09-09T19:36:52.229Z</td></tr><tr><td>OFF-BI-10002412</td><td>Wilson Jones “Snap” Scratch Pad Binder Tool for Ring Binders</td><td>Binders</td><td>Office Supplies</td><td>Retail CSV</td><td>2024-09-09T19:36:52.229Z</td></tr><tr><td>FUR-TA-10002228</td><td>Bevis Traditional Conference Table Top, Plinth Base</td><td>Tables</td><td>Furniture</td><td>Retail CSV</td><td>2024-09-09T19:36:52.229Z</td></tr><tr><td>OFF-BI-10003712</td><td>\"Acco Pressboard Covers with Storage Hooks, 14 7/8\"\" x 11\"\"</td><td>Binders</td><td>Office Supplies</td><td>Retail CSV</td><td>2024-09-09T19:36:52.229Z</td></tr><tr><td>OFF-PA-10000019</td><td>Xerox 1931</td><td>Paper</td><td>Office Supplies</td><td>Retail CSV</td><td>2024-09-09T19:36:52.229Z</td></tr><tr><td>TEC-AC-10004666</td><td>Maxell iVDR EX 500GB Cartridge</td><td>Accessories</td><td>Technology</td><td>Retail CSV</td><td>2024-09-09T19:36:52.229Z</td></tr><tr><td>OFF-PA-10001838</td><td>\"Adams Telephone Message Book W/Dividers/Space For Phone Numbers, 5 1/4\"\"X8 1/2\"\"</td><td>Paper</td><td>Office Supplies</td><td>Retail CSV</td><td>2024-09-09T19:36:52.229Z</td></tr><tr><td>OFF-PA-10004665</td><td>Advantus Motivational Note Cards</td><td>Paper</td><td>Office Supplies</td><td>Retail CSV</td><td>2024-09-09T19:36:52.229Z</td></tr><tr><td>TEC-PH-10004389</td><td>Nokia Lumia 925</td><td>Phones</td><td>Technology</td><td>Retail CSV</td><td>2024-09-09T19:36:52.229Z</td></tr><tr><td>TEC-MA-10004521</td><td>Epson Perfection V600 Photo Scanner</td><td>Machines</td><td>Technology</td><td>Retail CSV</td><td>2024-09-09T19:36:52.229Z</td></tr><tr><td>TEC-AC-10000487</td><td>SanDisk Cruzer 4 GB USB Flash Drive</td><td>Accessories</td><td>Technology</td><td>Retail CSV</td><td>2024-09-09T19:36:52.229Z</td></tr><tr><td>TEC-PH-10002583</td><td>iOttie HLCRIO102 Car Mount</td><td>Phones</td><td>Technology</td><td>Retail CSV</td><td>2024-09-09T19:36:52.229Z</td></tr><tr><td>OFF-PA-10004569</td><td>\"Wirebound Message Books, Two 4 1/4\"\" x 5\"\" Forms per Page\"</td><td>Paper</td><td>Office Supplies</td><td>Retail CSV</td><td>2024-09-09T19:36:52.229Z</td></tr><tr><td>OFF-AR-10002804</td><td>Faber Castell Col-Erase Pencils</td><td>Art</td><td>Office Supplies</td><td>Retail CSV</td><td>2024-09-09T19:36:52.229Z</td></tr><tr><td>TEC-MA-10004002</td><td>Zebra GX420t Direct Thermal/Thermal Transfer Printer</td><td>Machines</td><td>Technology</td><td>Retail CSV</td><td>2024-09-09T19:36:52.229Z</td></tr><tr><td>OFF-PA-10000528</td><td>Xerox 1981</td><td>Paper</td><td>Office Supplies</td><td>Retail CSV</td><td>2024-09-09T19:36:52.229Z</td></tr><tr><td>OFF-AP-10001391</td><td>Kensington 6 Outlet MasterPiece HOMEOFFICE Power Control Center</td><td>Appliances</td><td>Office Supplies</td><td>Retail CSV</td><td>2024-09-09T19:36:52.229Z</td></tr><tr><td>OFF-ST-10002615</td><td>Dual Level, Single-Width Filing Carts</td><td>Storage</td><td>Office Supplies</td><td>Retail CSV</td><td>2024-09-09T19:36:52.229Z</td></tr><tr><td>OFF-SU-10000432</td><td>Acco Side-Punched Conventional Columnar Pads</td><td>Supplies</td><td>Office Supplies</td><td>Retail CSV</td><td>2024-09-09T19:36:52.229Z</td></tr><tr><td>OFF-PA-10001947</td><td>Xerox 1974</td><td>Paper</td><td>Office Supplies</td><td>Retail CSV</td><td>2024-09-09T19:36:52.229Z</td></tr><tr><td>OFF-PA-10000743</td><td>Xerox 1977</td><td>Paper</td><td>Office Supplies</td><td>Retail CSV</td><td>2024-09-09T19:36:52.229Z</td></tr><tr><td>OFF-AP-10003884</td><td>Fellowes Smart Surge Ten-Outlet Protector, Platinum</td><td>Appliances</td><td>Office Supplies</td><td>Retail CSV</td><td>2024-09-09T19:36:52.229Z</td></tr><tr><td>OFF-ST-10002292</td><td>Sauder Facets Collection Locker/File Cabinet, Sky Alder Finish</td><td>Storage</td><td>Office Supplies</td><td>Retail CSV</td><td>2024-09-09T19:36:52.229Z</td></tr><tr><td>TEC-PH-10003442</td><td>Samsung Replacement EH64AVFWE Premium Headset</td><td>Phones</td><td>Technology</td><td>Retail CSV</td><td>2024-09-09T19:36:52.229Z</td></tr><tr><td>FUR-CH-10001708</td><td>Office Star - Contemporary Swivel Chair with Padded Adjustable Arms and Flex Back</td><td>Chairs</td><td>Furniture</td><td>Retail CSV</td><td>2024-09-09T19:36:52.229Z</td></tr><tr><td>OFF-PA-10000466</td><td>Memo Book, 100 Message Capacity, 5 3/8” x 11”</td><td>Paper</td><td>Office Supplies</td><td>Retail CSV</td><td>2024-09-09T19:36:52.229Z</td></tr><tr><td>OFF-EN-10004483</td><td>#10 White Business Envelopes,4 1/8 x 9 1/2</td><td>Envelopes</td><td>Office Supplies</td><td>Retail CSV</td><td>2024-09-09T19:36:52.229Z</td></tr><tr><td>FUR-FU-10000305</td><td>\"Tenex V2T-RE Standard Weight Series Chair Mat, 45\"\" x 53\"\"</td><td>Furnishings</td><td>Furniture</td><td>Retail CSV</td><td>2024-09-09T19:36:52.229Z</td></tr><tr><td>FUR-FU-10004586</td><td>G.E. Longer-Life Indoor Recessed Floodlight Bulbs</td><td>Furnishings</td><td>Furniture</td><td>Retail CSV</td><td>2024-09-09T19:36:52.229Z</td></tr><tr><td>OFF-AR-10002704</td><td>Boston 1900 Electric Pencil Sharpener</td><td>Art</td><td>Office Supplies</td><td>Retail CSV</td><td>2024-09-09T19:36:52.229Z</td></tr><tr><td>FUR-TA-10001086</td><td>SAFCO PlanMaster Boards, 60w x 37-1/2d, White Melamine</td><td>Tables</td><td>Furniture</td><td>Retail CSV</td><td>2024-09-09T19:36:52.229Z</td></tr><tr><td>FUR-CH-10004886</td><td>Bevis Steel Folding Chairs</td><td>Chairs</td><td>Furniture</td><td>Retail CSV</td><td>2024-09-09T19:36:52.229Z</td></tr><tr><td>OFF-BI-10002049</td><td>UniKeep View Case Binders</td><td>Binders</td><td>Office Supplies</td><td>Retail CSV</td><td>2024-09-09T19:36:52.229Z</td></tr><tr><td>OFF-BI-10004970</td><td>ACCOHIDE 3-Ring Binder, Blue, 1\"\"</td><td>Binders</td><td>Office Supplies</td><td>Retail CSV</td><td>2024-09-09T19:36:52.229Z</td></tr><tr><td>OFF-AR-10001044</td><td>BOSTON Ranger #55 Pencil Sharpener, Black</td><td>Art</td><td>Office Supplies</td><td>Retail CSV</td><td>2024-09-09T19:36:52.229Z</td></tr><tr><td>FUR-CH-10002084</td><td>Hon Mobius Operator's Chair</td><td>Chairs</td><td>Furniture</td><td>Retail CSV</td><td>2024-09-09T19:36:52.229Z</td></tr><tr><td>OFF-AP-10004036</td><td>Bionaire 99.97% HEPA Air Cleaner</td><td>Appliances</td><td>Office Supplies</td><td>Retail CSV</td><td>2024-09-09T19:36:52.229Z</td></tr><tr><td>FUR-FU-10002963</td><td>Master Caster Door Stop, Gray</td><td>Furnishings</td><td>Furniture</td><td>Retail CSV</td><td>2024-09-09T19:36:52.229Z</td></tr><tr><td>OFF-AR-10001227</td><td>Newell 338</td><td>Art</td><td>Office Supplies</td><td>Retail CSV</td><td>2024-09-09T19:36:52.229Z</td></tr><tr><td>OFF-FA-10003485</td><td>Staples</td><td>Fasteners</td><td>Office Supplies</td><td>Retail CSV</td><td>2024-09-09T19:36:52.229Z</td></tr><tr><td>TEC-PH-10000562</td><td>Samsung Convoy 3</td><td>Phones</td><td>Technology</td><td>Retail CSV</td><td>2024-09-09T19:36:52.229Z</td></tr><tr><td>TEC-MA-10003173</td><td>Hewlett-Packard 300S Scientific Calculator</td><td>Machines</td><td>Technology</td><td>Retail CSV</td><td>2024-09-09T19:36:52.229Z</td></tr><tr><td>OFF-ST-10000615</td><td>SimpliFile Personal File, Black Granite, 15w x 6-15/16d x 11-1/4h</td><td>Storage</td><td>Office Supplies</td><td>Retail CSV</td><td>2024-09-09T19:36:52.229Z</td></tr><tr><td>OFF-BI-10003655</td><td>Durable Pressboard Binders</td><td>Binders</td><td>Office Supplies</td><td>Retail CSV</td><td>2024-09-09T19:36:52.229Z</td></tr><tr><td>OFF-AR-10004165</td><td>Binney & Smith inkTank Erasable Pocket Highlighter, Chisel Tip, Yellow</td><td>Art</td><td>Office Supplies</td><td>Retail CSV</td><td>2024-09-09T19:36:52.229Z</td></tr><tr><td>OFF-AR-10004587</td><td>Boston 1827 Commercial Additional Cutter, Drive Gear & Gear Rack for 1606</td><td>Art</td><td>Office Supplies</td><td>Retail CSV</td><td>2024-09-09T19:36:52.229Z</td></tr><tr><td>OFF-LA-10002043</td><td>Avery 489</td><td>Labels</td><td>Office Supplies</td><td>Retail CSV</td><td>2024-09-09T19:36:52.229Z</td></tr><tr><td>OFF-BI-10003638</td><td>GBC Durable Plastic Covers</td><td>Binders</td><td>Office Supplies</td><td>Retail CSV</td><td>2024-09-09T19:36:52.229Z</td></tr><tr><td>TEC-CO-10002095</td><td>Hewlett Packard 610 Color Digital Copier / Printer</td><td>Copiers</td><td>Technology</td><td>Retail CSV</td><td>2024-09-09T19:36:52.229Z</td></tr><tr><td>FUR-FU-10000794</td><td>Eldon Stackable Tray, Side-Load, Legal, Smoke</td><td>Furnishings</td><td>Furniture</td><td>Retail CSV</td><td>2024-09-09T19:36:52.229Z</td></tr><tr><td>OFF-AP-10001366</td><td>Staple holder</td><td>Appliances</td><td>Office Supplies</td><td>Retail CSV</td><td>2024-09-09T19:36:52.229Z</td></tr><tr><td>OFF-EN-10001535</td><td>Grip Seal Envelopes</td><td>Envelopes</td><td>Office Supplies</td><td>Retail CSV</td><td>2024-09-09T19:36:52.229Z</td></tr><tr><td>OFF-BI-10001575</td><td>GBC Linen Binding Covers</td><td>Binders</td><td>Office Supplies</td><td>Retail CSV</td><td>2024-09-09T19:36:52.229Z</td></tr><tr><td>TEC-AC-10001606</td><td>Logitech Wireless Performance Mouse MX for PC and Mac</td><td>Accessories</td><td>Technology</td><td>Retail CSV</td><td>2024-09-09T19:36:52.229Z</td></tr><tr><td>OFF-EN-10001532</td><td>Brown Kraft Recycled Envelopes</td><td>Envelopes</td><td>Office Supplies</td><td>Retail CSV</td><td>2024-09-09T19:36:52.229Z</td></tr><tr><td>OFF-EN-10002831</td><td>Tyvek  Top-Opening Peel & Seel  Envelopes, Gray</td><td>Envelopes</td><td>Office Supplies</td><td>Retail CSV</td><td>2024-09-09T19:36:52.229Z</td></tr><tr><td>TEC-AC-10004209</td><td>Memorex Froggy Flash Drive 4 GB</td><td>Accessories</td><td>Technology</td><td>Retail CSV</td><td>2024-09-09T19:36:52.229Z</td></tr><tr><td>OFF-BI-10002414</td><td>GBC ProClick Spines for 32-Hole Punch</td><td>Binders</td><td>Office Supplies</td><td>Retail CSV</td><td>2024-09-09T19:36:52.229Z</td></tr><tr><td>FUR-BO-10003966</td><td>Sauder Facets Collection Library, Sky Alder Finish</td><td>Bookcases</td><td>Furniture</td><td>Retail CSV</td><td>2024-09-09T19:36:52.229Z</td></tr><tr><td>FUR-TA-10004607</td><td>Hon 2111 Invitation Series Straight Table</td><td>Tables</td><td>Furniture</td><td>Retail CSV</td><td>2024-09-09T19:36:52.229Z</td></tr><tr><td>OFF-AR-10004752</td><td>Blackstonian Pencils</td><td>Art</td><td>Office Supplies</td><td>Retail CSV</td><td>2024-09-09T19:36:52.229Z</td></tr><tr><td>OFF-ST-10003996</td><td>Letter/Legal File Tote with Clear Snap-On Lid, Black Granite</td><td>Storage</td><td>Office Supplies</td><td>Retail CSV</td><td>2024-09-09T19:36:52.229Z</td></tr><tr><td>OFF-PA-10000520</td><td>Xerox 201</td><td>Paper</td><td>Office Supplies</td><td>Retail CSV</td><td>2024-09-09T19:36:52.229Z</td></tr><tr><td>FUR-FU-10002445</td><td>DAX Two-Tone Rosewood/Black Document Frame, Desktop, 5 x 7</td><td>Furnishings</td><td>Furniture</td><td>Retail CSV</td><td>2024-09-09T19:36:52.229Z</td></tr><tr><td>TEC-CO-10001571</td><td>Sharp 1540cs Digital Laser Copier</td><td>Copiers</td><td>Technology</td><td>Retail CSV</td><td>2024-09-09T19:36:52.229Z</td></tr><tr><td>FUR-FU-10002030</td><td>\"Executive Impressions 14\"\" Contract Wall Clock with Quartz Movement\"</td><td>Furnishings</td><td>Furniture</td><td>Retail CSV</td><td>2024-09-09T19:36:52.229Z</td></tr><tr><td>OFF-AP-10003217</td><td>Eureka Sanitaire  Commercial Upright</td><td>Appliances</td><td>Office Supplies</td><td>Retail CSV</td><td>2024-09-09T19:36:52.229Z</td></tr><tr><td>FUR-FU-10002597</td><td>C-Line Magnetic Cubicle Keepers, Clear Polypropylene</td><td>Furnishings</td><td>Furniture</td><td>Retail CSV</td><td>2024-09-09T19:36:52.229Z</td></tr><tr><td>OFF-PA-10004983</td><td>Xerox 23</td><td>Paper</td><td>Office Supplies</td><td>Retail CSV</td><td>2024-09-09T19:36:52.229Z</td></tr><tr><td>OFF-PA-10001497</td><td>Xerox 1914</td><td>Paper</td><td>Office Supplies</td><td>Retail CSV</td><td>2024-09-09T19:36:52.229Z</td></tr><tr><td>FUR-CH-10002774</td><td>Global Deluxe Stacking Chair, Gray</td><td>Chairs</td><td>Furniture</td><td>Retail CSV</td><td>2024-09-09T19:36:52.229Z</td></tr><tr><td>FUR-FU-10003096</td><td>Master Giant Foot Doorstop, Safety Yellow</td><td>Furnishings</td><td>Furniture</td><td>Retail CSV</td><td>2024-09-09T19:36:52.229Z</td></tr><tr><td>TEC-PH-10001530</td><td>Cisco Unified IP Phone 7945G VoIP phone</td><td>Phones</td><td>Technology</td><td>Retail CSV</td><td>2024-09-09T19:36:52.229Z</td></tr><tr><td>OFF-PA-10001622</td><td>\"Ampad Poly Cover Wirebound Steno Book, 6\"\" x 9\"\" Assorted Colors</td><td>Paper</td><td>Office Supplies</td><td>Retail CSV</td><td>2024-09-09T19:36:52.229Z</td></tr><tr><td>FUR-TA-10004154</td><td>Riverside Furniture Oval Coffee Table, Oval End Table, End Table with Drawer</td><td>Tables</td><td>Furniture</td><td>Retail CSV</td><td>2024-09-09T19:36:52.229Z</td></tr><tr><td>OFF-AR-10002257</td><td>Eldon Spacemaker Box, Quick-Snap Lid, Clear</td><td>Art</td><td>Office Supplies</td><td>Retail CSV</td><td>2024-09-09T19:36:52.229Z</td></tr><tr><td>OFF-PA-10001661</td><td>Xerox 1922</td><td>Paper</td><td>Office Supplies</td><td>Retail CSV</td><td>2024-09-09T19:36:52.229Z</td></tr><tr><td>FUR-FU-10004245</td><td>Career Cubicle Clock, 8 1/4\"</td><td>Furnishings</td><td>Furniture</td><td>Retail CSV</td><td>2024-09-09T19:36:52.229Z</td></tr><tr><td>TEC-AC-10004595</td><td>First Data TMFD35 PIN Pad</td><td>Accessories</td><td>Technology</td><td>Retail CSV</td><td>2024-09-09T19:36:52.229Z</td></tr><tr><td>TEC-AC-10000892</td><td>NETGEAR N750 Dual Band Wi-Fi Gigabit Router</td><td>Accessories</td><td>Technology</td><td>Retail CSV</td><td>2024-09-09T19:36:52.229Z</td></tr><tr><td>FUR-CH-10001394</td><td>Global Leather Executive Chair</td><td>Chairs</td><td>Furniture</td><td>Retail CSV</td><td>2024-09-09T19:36:52.229Z</td></tr><tr><td>OFF-BI-10003529</td><td>Avery Round Ring Poly Binders</td><td>Binders</td><td>Office Supplies</td><td>Retail CSV</td><td>2024-09-09T19:36:52.229Z</td></tr><tr><td>OFF-EN-10001539</td><td>Staple envelope</td><td>Envelopes</td><td>Office Supplies</td><td>Retail CSV</td><td>2024-09-09T19:36:52.229Z</td></tr><tr><td>OFF-BI-10000977</td><td>Ibico Plastic Spiral Binding Combs</td><td>Binders</td><td>Office Supplies</td><td>Retail CSV</td><td>2024-09-09T19:36:52.229Z</td></tr><tr><td>TEC-MA-10000488</td><td>Bady BDG101FRU Card Printer</td><td>Machines</td><td>Technology</td><td>Retail CSV</td><td>2024-09-09T19:36:52.229Z</td></tr><tr><td>TEC-PH-10001198</td><td>Avaya 4621SW VoIP phone</td><td>Phones</td><td>Technology</td><td>Retail CSV</td><td>2024-09-09T19:36:52.229Z</td></tr><tr><td>FUR-FU-10003623</td><td>DataProducts Ampli Magnifier Task Lamp, Black,</td><td>Furnishings</td><td>Furniture</td><td>Retail CSV</td><td>2024-09-09T19:36:52.229Z</td></tr><tr><td>OFF-PA-10003790</td><td>Xerox 1991</td><td>Paper</td><td>Office Supplies</td><td>Retail CSV</td><td>2024-09-09T19:36:52.229Z</td></tr><tr><td>OFF-LA-10004545</td><td>Avery 50</td><td>Labels</td><td>Office Supplies</td><td>Retail CSV</td><td>2024-09-09T19:36:52.229Z</td></tr><tr><td>TEC-PH-10002555</td><td>Nortel Meridian M5316 Digital phone</td><td>Phones</td><td>Technology</td><td>Retail CSV</td><td>2024-09-09T19:36:52.229Z</td></tr><tr><td>OFF-AR-10003183</td><td>Avery Fluorescent Highlighter Four-Color Set</td><td>Art</td><td>Office Supplies</td><td>Retail CSV</td><td>2024-09-09T19:36:52.229Z</td></tr><tr><td>FUR-FU-10004666</td><td>DAX Clear Channel Poster Frame</td><td>Furnishings</td><td>Furniture</td><td>Retail CSV</td><td>2024-09-09T19:36:52.229Z</td></tr><tr><td>OFF-BI-10004828</td><td>GBC Poly Designer Binding Covers</td><td>Binders</td><td>Office Supplies</td><td>Retail CSV</td><td>2024-09-09T19:36:52.229Z</td></tr><tr><td>FUR-FU-10003424</td><td>Nu-Dell Oak Frame</td><td>Furnishings</td><td>Furniture</td><td>Retail CSV</td><td>2024-09-09T19:36:52.229Z</td></tr><tr><td>OFF-PA-10002365</td><td>Xerox 1967</td><td>Paper</td><td>Office Supplies</td><td>Retail CSV</td><td>2024-09-09T19:36:52.229Z</td></tr><tr><td>OFF-PA-10003349</td><td>Xerox 1957</td><td>Paper</td><td>Office Supplies</td><td>Retail CSV</td><td>2024-09-09T19:36:52.229Z</td></tr><tr><td>OFF-FA-10000490</td><td>\"OIC Binder Clips, Mini, 1/4\"\" Capacity</td><td>Fasteners</td><td>Office Supplies</td><td>Retail CSV</td><td>2024-09-09T19:36:52.229Z</td></tr><tr><td>OFF-EN-10001335</td><td>White Business Envelopes with Contemporary Seam, Recycled White Business Envelopes</td><td>Envelopes</td><td>Office Supplies</td><td>Retail CSV</td><td>2024-09-09T19:36:52.229Z</td></tr><tr><td>OFF-AR-10003394</td><td>Newell 332</td><td>Art</td><td>Office Supplies</td><td>Retail CSV</td><td>2024-09-09T19:36:52.229Z</td></tr><tr><td>OFF-LA-10004345</td><td>Avery 493</td><td>Labels</td><td>Office Supplies</td><td>Retail CSV</td><td>2024-09-09T19:36:52.229Z</td></tr><tr><td>TEC-AC-10000580</td><td>Logitech G13 Programmable Gameboard with LCD Display</td><td>Accessories</td><td>Technology</td><td>Retail CSV</td><td>2024-09-09T19:36:52.229Z</td></tr><tr><td>TEC-CO-10001766</td><td>Canon PC940 Copier</td><td>Copiers</td><td>Technology</td><td>Retail CSV</td><td>2024-09-09T19:36:52.229Z</td></tr><tr><td>OFF-PA-10000167</td><td>Xerox 1925</td><td>Paper</td><td>Office Supplies</td><td>Retail CSV</td><td>2024-09-09T19:36:52.229Z</td></tr><tr><td>OFF-PA-10001972</td><td>Xerox 214</td><td>Paper</td><td>Office Supplies</td><td>Retail CSV</td><td>2024-09-09T19:36:52.229Z</td></tr><tr><td>OFF-BI-10004738</td><td>Flexible Leather- Look Classic Collection Ring Binder</td><td>Binders</td><td>Office Supplies</td><td>Retail CSV</td><td>2024-09-09T19:36:52.229Z</td></tr><tr><td>TEC-AC-10001266</td><td>Memorex Micro Travel Drive 8 GB</td><td>Accessories</td><td>Technology</td><td>Retail CSV</td><td>2024-09-09T19:36:52.229Z</td></tr><tr><td>OFF-BI-10003460</td><td>Acco 3-Hole Punch</td><td>Binders</td><td>Office Supplies</td><td>Retail CSV</td><td>2024-09-09T19:36:52.229Z</td></tr><tr><td>FUR-FU-10001967</td><td>Telescoping Adjustable Floor Lamp</td><td>Furnishings</td><td>Furniture</td><td>Retail CSV</td><td>2024-09-09T19:36:52.229Z</td></tr><tr><td>OFF-LA-10001569</td><td>Avery 499</td><td>Labels</td><td>Office Supplies</td><td>Retail CSV</td><td>2024-09-09T19:36:52.229Z</td></tr><tr><td>TEC-PH-10001557</td><td>Pyle PMP37LED</td><td>Phones</td><td>Technology</td><td>Retail CSV</td><td>2024-09-09T19:36:52.229Z</td></tr><tr><td>OFF-BI-10003719</td><td>Large Capacity Hanging Post Binders</td><td>Binders</td><td>Office Supplies</td><td>Retail CSV</td><td>2024-09-09T19:36:52.229Z</td></tr><tr><td>OFF-BI-10004465</td><td>Avery Durable Slant Ring Binders</td><td>Binders</td><td>Office Supplies</td><td>Retail CSV</td><td>2024-09-09T19:36:52.229Z</td></tr><tr><td>OFF-AP-10001303</td><td>Holmes Cool Mist Humidifier for the Whole House with 8-Gallon Output per Day, Extended Life Filter</td><td>Appliances</td><td>Office Supplies</td><td>Retail CSV</td><td>2024-09-09T19:36:52.229Z</td></tr><tr><td>OFF-SU-10003002</td><td>Letter Slitter</td><td>Supplies</td><td>Office Supplies</td><td>Retail CSV</td><td>2024-09-09T19:36:52.229Z</td></tr><tr><td>OFF-PA-10002606</td><td>Xerox 1928</td><td>Paper</td><td>Office Supplies</td><td>Retail CSV</td><td>2024-09-09T19:36:52.229Z</td></tr><tr><td>FUR-FU-10000175</td><td>DAX Wood Document Frame.</td><td>Furnishings</td><td>Furniture</td><td>Retail CSV</td><td>2024-09-09T19:36:52.229Z</td></tr><tr><td>OFF-PA-10000483</td><td>Xerox 19</td><td>Paper</td><td>Office Supplies</td><td>Retail CSV</td><td>2024-09-09T19:36:52.229Z</td></tr><tr><td>OFF-PA-10000210</td><td>Xerox Blank Computer Paper</td><td>Paper</td><td>Office Supplies</td><td>Retail CSV</td><td>2024-09-09T19:36:52.229Z</td></tr><tr><td>FUR-TA-10001539</td><td>Chromcraft Rectangular Conference Tables</td><td>Tables</td><td>Furniture</td><td>Retail CSV</td><td>2024-09-09T19:36:52.229Z</td></tr><tr><td>OFF-BI-10002794</td><td>\"Avery Trapezoid Ring Binder, 3\"\" Capacity</td><td>Binders</td><td>Office Supplies</td><td>Retail CSV</td><td>2024-09-09T19:36:52.229Z</td></tr><tr><td>OFF-BI-10003274</td><td>Avery Durable Slant Ring Binders, No Labels</td><td>Binders</td><td>Office Supplies</td><td>Retail CSV</td><td>2024-09-09T19:36:52.229Z</td></tr><tr><td>FUR-FU-10004017</td><td>\"Tenex Contemporary Contur Chairmats for Low and Medium Pile Carpet, Computer, 39\"\" x 49\"\"\"</td><td>Furnishings</td><td>Furniture</td><td>Retail CSV</td><td>2024-09-09T19:36:52.229Z</td></tr><tr><td>FUR-FU-10000246</td><td>Aluminum Document Frame</td><td>Furnishings</td><td>Furniture</td><td>Retail CSV</td><td>2024-09-09T19:36:52.229Z</td></tr><tr><td>TEC-PH-10002365</td><td>Belkin Grip Candy Sheer Case / Cover for iPhone 5 and 5S</td><td>Phones</td><td>Technology</td><td>Retail CSV</td><td>2024-09-09T19:36:52.229Z</td></tr><tr><td>FUR-FU-10000732</td><td>Eldon 200 Class Desk Accessories</td><td>Furnishings</td><td>Furniture</td><td>Retail CSV</td><td>2024-09-09T19:36:52.229Z</td></tr><tr><td>TEC-PH-10004531</td><td>OtterBox Commuter Series Case - iPhone 5 & 5s</td><td>Phones</td><td>Technology</td><td>Retail CSV</td><td>2024-09-09T19:36:52.229Z</td></tr><tr><td>OFF-PA-10004041</td><td>\"It's Hot Message Books with Stickers, 2 3/4\"\" x 5\"\"\"</td><td>Paper</td><td>Office Supplies</td><td>Retail CSV</td><td>2024-09-09T19:36:52.229Z</td></tr><tr><td>OFF-BI-10000948</td><td>GBC Laser Imprintable Binding System Covers, Desert Sand</td><td>Binders</td><td>Office Supplies</td><td>Retail CSV</td><td>2024-09-09T19:36:52.229Z</td></tr><tr><td>OFF-PA-10001363</td><td>Xerox 1933</td><td>Paper</td><td>Office Supplies</td><td>Retail CSV</td><td>2024-09-09T19:36:52.229Z</td></tr><tr><td>OFF-PA-10000807</td><td>\"TOPS \"\"Important Message\"\" Pads</td><td>Paper</td><td>Office Supplies</td><td>Retail CSV</td><td>2024-09-09T19:36:52.229Z</td></tr><tr><td>OFF-ST-10001328</td><td>Personal Filing Tote with Lid, Black/Gray</td><td>Storage</td><td>Office Supplies</td><td>Retail CSV</td><td>2024-09-09T19:36:52.229Z</td></tr><tr><td>FUR-BO-10002613</td><td>Atlantic Metals Mobile 4-Shelf Bookcases, Custom Colors</td><td>Bookcases</td><td>Furniture</td><td>Retail CSV</td><td>2024-09-09T19:36:52.229Z</td></tr><tr><td>OFF-FA-10003472</td><td>Bagged Rubber Bands</td><td>Fasteners</td><td>Office Supplies</td><td>Retail CSV</td><td>2024-09-09T19:36:52.229Z</td></tr><tr><td>OFF-ST-10001580</td><td>Super Decoflex Portable Personal File</td><td>Storage</td><td>Office Supplies</td><td>Retail CSV</td><td>2024-09-09T19:36:52.229Z</td></tr><tr><td>OFF-SU-10004261</td><td>\"Fiskars 8\"\" Scissors</td><td>Supplies</td><td>Office Supplies</td><td>Retail CSV</td><td>2024-09-09T19:36:52.229Z</td></tr><tr><td>TEC-PH-10004959</td><td>Classic Ivory Antique Telephone ZL1810</td><td>Phones</td><td>Technology</td><td>Retail CSV</td><td>2024-09-09T19:36:52.229Z</td></tr><tr><td>FUR-FU-10004017</td><td>\"Executive Impressions 13\"\" Chairman Wall Clock\"</td><td>Furnishings</td><td>Furniture</td><td>Retail CSV</td><td>2024-09-09T19:36:52.229Z</td></tr><tr><td>OFF-BI-10003981</td><td>\"Avery Durable Plastic 1\"\" Binders\"</td><td>Binders</td><td>Office Supplies</td><td>Retail CSV</td><td>2024-09-09T19:36:52.229Z</td></tr><tr><td>OFF-PA-10000955</td><td>Southworth 25% Cotton Granite Paper & Envelopes</td><td>Paper</td><td>Office Supplies</td><td>Retail CSV</td><td>2024-09-09T19:36:52.229Z</td></tr><tr><td>OFF-FA-10001754</td><td>Stockwell Gold Paper Clips</td><td>Fasteners</td><td>Office Supplies</td><td>Retail CSV</td><td>2024-09-09T19:36:52.229Z</td></tr><tr><td>OFF-AR-10002255</td><td>Newell 346</td><td>Art</td><td>Office Supplies</td><td>Retail CSV</td><td>2024-09-09T19:36:52.229Z</td></tr><tr><td>OFF-PA-10003729</td><td>Xerox 1998</td><td>Paper</td><td>Office Supplies</td><td>Retail CSV</td><td>2024-09-09T19:36:52.229Z</td></tr><tr><td>FUR-CH-10000553</td><td>Metal Folding Chairs, Beige, 4/Carton</td><td>Chairs</td><td>Furniture</td><td>Retail CSV</td><td>2024-09-09T19:36:52.229Z</td></tr><tr><td>OFF-AR-10003338</td><td>\"Eberhard Faber 3 1/2\"\" Golf Pencils\"</td><td>Art</td><td>Office Supplies</td><td>Retail CSV</td><td>2024-09-09T19:36:52.229Z</td></tr><tr><td>OFF-PA-10000007</td><td>\"Telephone Message Books with Fax/Mobile Section, 4 1/4\"\" x 6\"\"\"</td><td>Paper</td><td>Office Supplies</td><td>Retail CSV</td><td>2024-09-09T19:36:52.229Z</td></tr><tr><td>FUR-FU-10003798</td><td>\"Ultra Door Kickplate, 8\"\"H x 34\"\"W\"</td><td>Furnishings</td><td>Furniture</td><td>Retail CSV</td><td>2024-09-09T19:36:52.229Z</td></tr><tr><td>OFF-PA-10004082</td><td>Adams Telephone Message Book w/Frequently-Called Numbers Space, 400 Messages per Book</td><td>Paper</td><td>Office Supplies</td><td>Retail CSV</td><td>2024-09-09T19:36:52.229Z</td></tr><tr><td>OFF-BI-10003314</td><td>Tuff Stuff Recycled Round Ring Binders</td><td>Binders</td><td>Office Supplies</td><td>Retail CSV</td><td>2024-09-09T19:36:52.229Z</td></tr><tr><td>OFF-AP-10002578</td><td>Fellowes Premier Superior Surge Suppressor, 10-Outlet, With Phone and Remote</td><td>Appliances</td><td>Office Supplies</td><td>Retail CSV</td><td>2024-09-09T19:36:52.229Z</td></tr><tr><td>FUR-FU-10001424</td><td>Dax Clear Box Frame</td><td>Furnishings</td><td>Furniture</td><td>Retail CSV</td><td>2024-09-09T19:36:52.229Z</td></tr><tr><td>OFF-PA-10002947</td><td>Xerox 1923</td><td>Paper</td><td>Office Supplies</td><td>Retail CSV</td><td>2024-09-09T19:36:52.229Z</td></tr><tr><td>OFF-AR-10001468</td><td>Sanford Prismacolor Professional Thick Lead Art Pencils, 36-Color Set</td><td>Art</td><td>Office Supplies</td><td>Retail CSV</td><td>2024-09-09T19:36:52.229Z</td></tr><tr><td>FUR-FU-10001617</td><td>\"Executive Impressions 8-1/2\"\" Career Panel/Partition Cubicle Clock\"</td><td>Furnishings</td><td>Furniture</td><td>Retail CSV</td><td>2024-09-09T19:36:52.229Z</td></tr><tr><td>TEC-AC-10000420</td><td>Logitech G500s Laser Gaming Mouse with Adjustable Weight Tuning</td><td>Accessories</td><td>Technology</td><td>Retail CSV</td><td>2024-09-09T19:36:52.229Z</td></tr><tr><td>TEC-AC-10002558</td><td>Imation Swivel Flash Drive USB flash drive - 8 GB</td><td>Accessories</td><td>Technology</td><td>Retail CSV</td><td>2024-09-09T19:36:52.229Z</td></tr><tr><td>TEC-CO-10001943</td><td>Canon PC-428 Personal Copier</td><td>Copiers</td><td>Technology</td><td>Retail CSV</td><td>2024-09-09T19:36:52.229Z</td></tr><tr><td>TEC-MA-10001695</td><td>Zebra GK420t Direct Thermal/Thermal Transfer Printer</td><td>Machines</td><td>Technology</td><td>Retail CSV</td><td>2024-09-09T19:36:52.229Z</td></tr><tr><td>OFF-PA-10001804</td><td>Xerox 195</td><td>Paper</td><td>Office Supplies</td><td>Retail CSV</td><td>2024-09-09T19:36:52.229Z</td></tr><tr><td>OFF-PA-10003591</td><td>Southworth 100% Cotton The Best Paper</td><td>Paper</td><td>Office Supplies</td><td>Retail CSV</td><td>2024-09-09T19:36:52.229Z</td></tr><tr><td>OFF-PA-10001307</td><td>Important Message Pads, 50 4-1/4 x 5-1/2 Forms per Pad</td><td>Paper</td><td>Office Supplies</td><td>Retail CSV</td><td>2024-09-09T19:36:52.229Z</td></tr><tr><td>OFF-AR-10000896</td><td>Newell 329</td><td>Art</td><td>Office Supplies</td><td>Retail CSV</td><td>2024-09-09T19:36:52.229Z</td></tr><tr><td>OFF-FA-10001135</td><td>Brites Rubber Bands, 1 1/2 oz. Box</td><td>Fasteners</td><td>Office Supplies</td><td>Retail CSV</td><td>2024-09-09T19:36:52.229Z</td></tr><tr><td>OFF-AP-10001005</td><td>Honeywell Quietcare HEPA Air Cleaner</td><td>Appliances</td><td>Office Supplies</td><td>Retail CSV</td><td>2024-09-09T19:36:52.229Z</td></tr><tr><td>TEC-PH-10002807</td><td>Motorla HX550 Universal Bluetooth Headset</td><td>Phones</td><td>Technology</td><td>Retail CSV</td><td>2024-09-09T19:36:52.229Z</td></tr><tr><td>FUR-BO-10001608</td><td>Hon Metal Bookcases, Black</td><td>Bookcases</td><td>Furniture</td><td>Retail CSV</td><td>2024-09-09T19:36:52.229Z</td></tr><tr><td>OFF-PA-10000232</td><td>Xerox 1975</td><td>Paper</td><td>Office Supplies</td><td>Retail CSV</td><td>2024-09-09T19:36:52.229Z</td></tr><tr><td>OFF-PA-10002709</td><td>Xerox 1956</td><td>Paper</td><td>Office Supplies</td><td>Retail CSV</td><td>2024-09-09T19:36:52.229Z</td></tr><tr><td>OFF-ST-10000777</td><td>Companion Letter/Legal File, Black</td><td>Storage</td><td>Office Supplies</td><td>Retail CSV</td><td>2024-09-09T19:36:52.229Z</td></tr><tr><td>OFF-SU-10001218</td><td>Fiskars Softgrip Scissors</td><td>Supplies</td><td>Office Supplies</td><td>Retail CSV</td><td>2024-09-09T19:36:52.229Z</td></tr><tr><td>OFF-BI-10001679</td><td>GBC Instant Index System for Binding Systems</td><td>Binders</td><td>Office Supplies</td><td>Retail CSV</td><td>2024-09-09T19:36:52.229Z</td></tr><tr><td>OFF-AR-10004648</td><td>Boston 19500 Mighty Mite Electric Pencil Sharpener</td><td>Art</td><td>Office Supplies</td><td>Retail CSV</td><td>2024-09-09T19:36:52.229Z</td></tr><tr><td>FUR-FU-10003878</td><td>\"Linden 10\"\" Round Wall Clock</td><td>Furnishings</td><td>Furniture</td><td>Retail CSV</td><td>2024-09-09T19:36:52.229Z</td></tr><tr><td>TEC-MA-10004458</td><td>Lexmark X 9575 Professional All-in-One Color Printer</td><td>Machines</td><td>Technology</td><td>Retail CSV</td><td>2024-09-09T19:36:52.229Z</td></tr><tr><td>OFF-AR-10001419</td><td>Newell 325</td><td>Art</td><td>Office Supplies</td><td>Retail CSV</td><td>2024-09-09T19:36:52.229Z</td></tr><tr><td>OFF-BI-10001116</td><td>\"Wilson Jones 1\"\" Hanging DublLock Ring Binders\"</td><td>Binders</td><td>Office Supplies</td><td>Retail CSV</td><td>2024-09-09T19:36:52.229Z</td></tr><tr><td>OFF-AR-10000817</td><td>Manco Dry-Lighter Erasable Highlighter</td><td>Art</td><td>Office Supplies</td><td>Retail CSV</td><td>2024-09-09T19:36:52.229Z</td></tr><tr><td>OFF-ST-10002301</td><td>Tennsco Commercial Shelving</td><td>Storage</td><td>Office Supplies</td><td>Retail CSV</td><td>2024-09-09T19:36:52.229Z</td></tr><tr><td>OFF-FA-10000585</td><td>OIC Bulk Pack Metal Binder Clips</td><td>Fasteners</td><td>Office Supplies</td><td>Retail CSV</td><td>2024-09-09T19:36:52.229Z</td></tr><tr><td>FUR-BO-10004690</td><td>O'Sullivan Cherrywood Estates Traditional Barrister Bookcase</td><td>Bookcases</td><td>Furniture</td><td>Retail CSV</td><td>2024-09-09T19:36:52.229Z</td></tr><tr><td>FUR-CH-10003379</td><td>Global Commerce Series High-Back Swivel/Tilt Chairs</td><td>Chairs</td><td>Furniture</td><td>Retail CSV</td><td>2024-09-09T19:36:52.229Z</td></tr><tr><td>OFF-BI-10000546</td><td>Avery Durable Binders</td><td>Binders</td><td>Office Supplies</td><td>Retail CSV</td><td>2024-09-09T19:36:52.229Z</td></tr><tr><td>OFF-ST-10004340</td><td>Fellowes Mobile File Cart, Black</td><td>Storage</td><td>Office Supplies</td><td>Retail CSV</td><td>2024-09-09T19:36:52.229Z</td></tr><tr><td>OFF-PA-10002259</td><td>\"Geographics Note Cards, Blank, White, 8 1/2\"\" x 11\"\"\"</td><td>Paper</td><td>Office Supplies</td><td>Retail CSV</td><td>2024-09-09T19:36:52.229Z</td></tr><tr><td>TEC-AC-10003280</td><td>Belkin F8E887 USB Wired Ergonomic Keyboard</td><td>Accessories</td><td>Technology</td><td>Retail CSV</td><td>2024-09-09T19:36:52.229Z</td></tr><tr><td>FUR-TA-10003238</td><td>\"Chromcraft Bull-Nose Wood 48\"\" x 96\"\" Rectangular Conference Tables\"</td><td>Tables</td><td>Furniture</td><td>Retail CSV</td><td>2024-09-09T19:36:52.229Z</td></tr><tr><td>OFF-AP-10002765</td><td>Fellowes Advanced Computer Series Surge Protectors</td><td>Appliances</td><td>Office Supplies</td><td>Retail CSV</td><td>2024-09-09T19:36:52.229Z</td></tr><tr><td>TEC-PH-10003095</td><td>Samsung HM1900 Bluetooth Headset</td><td>Phones</td><td>Technology</td><td>Retail CSV</td><td>2024-09-09T19:36:52.229Z</td></tr><tr><td>FUR-CH-10003606</td><td>SAFCO Folding Chair Trolley</td><td>Chairs</td><td>Furniture</td><td>Retail CSV</td><td>2024-09-09T19:36:52.229Z</td></tr><tr><td>OFF-AR-10002445</td><td>SANFORD Major Accent Highlighters</td><td>Art</td><td>Office Supplies</td><td>Retail CSV</td><td>2024-09-09T19:36:52.229Z</td></tr><tr><td>OFF-AR-10001683</td><td>Lumber Crayons</td><td>Art</td><td>Office Supplies</td><td>Retail CSV</td><td>2024-09-09T19:36:52.229Z</td></tr><tr><td>TEC-MA-10001148</td><td>Swingline SM12-08 MicroCut Jam Free Shredder</td><td>Machines</td><td>Technology</td><td>Retail CSV</td><td>2024-09-09T19:36:52.229Z</td></tr><tr><td>OFF-EN-10003845</td><td>Colored Envelopes</td><td>Envelopes</td><td>Office Supplies</td><td>Retail CSV</td><td>2024-09-09T19:36:52.229Z</td></tr><tr><td>FUR-FU-10000723</td><td>Deflect-o EconoMat Studded, No Bevel Mat for Low Pile Carpeting</td><td>Furnishings</td><td>Furniture</td><td>Retail CSV</td><td>2024-09-09T19:36:52.229Z</td></tr><tr><td>FUR-TA-10001932</td><td>\"Chromcraft 48\"\" x 96\"\" Racetrack Double Pedestal Table\"</td><td>Tables</td><td>Furniture</td><td>Retail CSV</td><td>2024-09-09T19:36:52.229Z</td></tr><tr><td>OFF-BI-10004352</td><td>Wilson Jones DublLock D-Ring Binders</td><td>Binders</td><td>Office Supplies</td><td>Retail CSV</td><td>2024-09-09T19:36:52.229Z</td></tr><tr><td>OFF-PA-10000595</td><td>Xerox 1929</td><td>Paper</td><td>Office Supplies</td><td>Retail CSV</td><td>2024-09-09T19:36:52.229Z</td></tr><tr><td>FUR-TA-10000849</td><td>Bevis Rectangular Conference Tables</td><td>Tables</td><td>Furniture</td><td>Retail CSV</td><td>2024-09-09T19:36:52.229Z</td></tr><tr><td>OFF-LA-10003663</td><td>Avery 498</td><td>Labels</td><td>Office Supplies</td><td>Retail CSV</td><td>2024-09-09T19:36:52.229Z</td></tr><tr><td>FUR-CH-10004983</td><td>Office Star - Mid Back Dual function Ergonomic High Back Chair with 2-Way Adjustable Arms</td><td>Chairs</td><td>Furniture</td><td>Retail CSV</td><td>2024-09-09T19:36:52.229Z</td></tr><tr><td>OFF-PA-10003063</td><td>EcoTones Memo Sheets</td><td>Paper</td><td>Office Supplies</td><td>Retail CSV</td><td>2024-09-09T19:36:52.229Z</td></tr><tr><td>OFF-AR-10000122</td><td>Newell 314</td><td>Art</td><td>Office Supplies</td><td>Retail CSV</td><td>2024-09-09T19:36:52.229Z</td></tr><tr><td>OFF-AR-10003732</td><td>Newell 333</td><td>Art</td><td>Office Supplies</td><td>Retail CSV</td><td>2024-09-09T19:36:52.229Z</td></tr><tr><td>FUR-FU-10004071</td><td>Luxo Professional Magnifying Clamp-On Fluorescent Lamps</td><td>Furnishings</td><td>Furniture</td><td>Retail CSV</td><td>2024-09-09T19:36:52.229Z</td></tr><tr><td>FUR-TA-10001520</td><td>Lesro Sheffield Collection Coffee Table, End Table, Center Table, Corner Table</td><td>Tables</td><td>Furniture</td><td>Retail CSV</td><td>2024-09-09T19:36:52.229Z</td></tr><tr><td>OFF-PA-10002195</td><td>\"RSVP Cards & Envelopes, Blank White, 8-1/2\"\" X 11\"\"</td><td>Paper</td><td>Office Supplies</td><td>Retail CSV</td><td>2024-09-09T19:36:52.229Z</td></tr><tr><td>OFF-BI-10000145</td><td>Zipper Ring Binder Pockets</td><td>Binders</td><td>Office Supplies</td><td>Retail CSV</td><td>2024-09-09T19:36:52.229Z</td></tr><tr><td>OFF-FA-10001561</td><td>Stockwell Push Pins</td><td>Fasteners</td><td>Office Supplies</td><td>Retail CSV</td><td>2024-09-09T19:36:52.229Z</td></tr><tr><td>FUR-FU-10000076</td><td>24-Hour Round Wall Clock</td><td>Furnishings</td><td>Furniture</td><td>Retail CSV</td><td>2024-09-09T19:36:52.229Z</td></tr><tr><td>OFF-AR-10004956</td><td>Newell 33</td><td>Art</td><td>Office Supplies</td><td>Retail CSV</td><td>2024-09-09T19:36:52.229Z</td></tr><tr><td>FUR-CH-10001797</td><td>Safco Chair Connectors, 6/Carton</td><td>Chairs</td><td>Furniture</td><td>Retail CSV</td><td>2024-09-09T19:36:52.229Z</td></tr><tr><td>TEC-MA-10001127</td><td>\"HP Designjet T520 Inkjet Large Format Printer - 24\"\" Color\"</td><td>Machines</td><td>Technology</td><td>Retail CSV</td><td>2024-09-09T19:36:52.229Z</td></tr><tr><td>OFF-PA-10001934</td><td>Xerox 1993</td><td>Paper</td><td>Office Supplies</td><td>Retail CSV</td><td>2024-09-09T19:36:52.229Z</td></tr><tr><td>TEC-AC-10002473</td><td>Maxell 4.7GB DVD-R</td><td>Accessories</td><td>Technology</td><td>Retail CSV</td><td>2024-09-09T19:36:52.229Z</td></tr><tr><td>OFF-LA-10000121</td><td>Avery 48</td><td>Labels</td><td>Office Supplies</td><td>Retail CSV</td><td>2024-09-09T19:36:52.229Z</td></tr><tr><td>FUR-FU-10004960</td><td>\"Seth Thomas 12\"\" Clock w/ Goldtone Case\"</td><td>Furnishings</td><td>Furniture</td><td>Retail CSV</td><td>2024-09-09T19:36:52.229Z</td></tr><tr><td>TEC-AC-10002049</td><td>Plantronics Savi W720 Multi-Device Wireless Headset System</td><td>Accessories</td><td>Technology</td><td>Retail CSV</td><td>2024-09-09T19:36:52.229Z</td></tr><tr><td>TEC-AC-10002842</td><td>WD My Passport Ultra 2TB Portable External Hard Drive</td><td>Accessories</td><td>Technology</td><td>Retail CSV</td><td>2024-09-09T19:36:52.229Z</td></tr><tr><td>OFF-AP-10002403</td><td>Acco Smartsocket Color-Coded Six-Outlet AC Adapter Model Surge Protectors</td><td>Appliances</td><td>Office Supplies</td><td>Retail CSV</td><td>2024-09-09T19:36:52.229Z</td></tr><tr><td>TEC-CO-10000971</td><td>Hewlett Packard 310 Color Digital Copier</td><td>Copiers</td><td>Technology</td><td>Retail CSV</td><td>2024-09-09T19:36:52.229Z</td></tr><tr><td>OFF-LA-10000414</td><td>Avery 503</td><td>Labels</td><td>Office Supplies</td><td>Retail CSV</td><td>2024-09-09T19:36:52.229Z</td></tr><tr><td>OFF-FA-10002988</td><td>Ideal Clamps</td><td>Fasteners</td><td>Office Supplies</td><td>Retail CSV</td><td>2024-09-09T19:36:52.229Z</td></tr><tr><td>TEC-MA-10000864</td><td>Cisco 9971 IP Video Phone Charcoal</td><td>Machines</td><td>Technology</td><td>Retail CSV</td><td>2024-09-09T19:36:52.229Z</td></tr><tr><td>TEC-PH-10001760</td><td>Bose SoundLink Bluetooth Speaker</td><td>Phones</td><td>Technology</td><td>Retail CSV</td><td>2024-09-09T19:36:52.229Z</td></tr><tr><td>FUR-BO-10004709</td><td>Bush Westfield Collection Bookcases, Medium Cherry Finish</td><td>Bookcases</td><td>Furniture</td><td>Retail CSV</td><td>2024-09-09T19:36:52.229Z</td></tr><tr><td>OFF-ST-10000736</td><td>Carina Double Wide Media Storage Towers in Natural & Black</td><td>Storage</td><td>Office Supplies</td><td>Retail CSV</td><td>2024-09-09T19:36:52.229Z</td></tr><tr><td>TEC-PH-10002538</td><td>Grandstream GXP1160 VoIP phone</td><td>Phones</td><td>Technology</td><td>Retail CSV</td><td>2024-09-09T19:36:52.229Z</td></tr><tr><td>TEC-MA-10004125</td><td>Cubify CubeX 3D Printer Triple Head Print</td><td>Machines</td><td>Technology</td><td>Retail CSV</td><td>2024-09-09T19:36:52.229Z</td></tr><tr><td>TEC-PH-10001819</td><td>Innergie mMini Combo Duo USB Travel Charging Kit</td><td>Phones</td><td>Technology</td><td>Retail CSV</td><td>2024-09-09T19:36:52.229Z</td></tr><tr><td>TEC-PH-10004447</td><td>Toshiba IPT2010-SD IP Telephone</td><td>Phones</td><td>Technology</td><td>Retail CSV</td><td>2024-09-09T19:36:52.229Z</td></tr><tr><td>OFF-ST-10002011</td><td>Smead Adjustable Mobile File Trolley with Lockable Top</td><td>Storage</td><td>Office Supplies</td><td>Retail CSV</td><td>2024-09-09T19:36:52.229Z</td></tr><tr><td>OFF-ST-10001932</td><td>Fellowes Staxonsteel Drawer Files</td><td>Storage</td><td>Office Supplies</td><td>Retail CSV</td><td>2024-09-09T19:36:52.229Z</td></tr><tr><td>OFF-AR-10000937</td><td>Dixon Ticonderoga Core-Lock Colored Pencils, 48-Color Set</td><td>Art</td><td>Office Supplies</td><td>Retail CSV</td><td>2024-09-09T19:36:52.229Z</td></tr><tr><td>OFF-AR-10001573</td><td>American Pencil</td><td>Art</td><td>Office Supplies</td><td>Retail CSV</td><td>2024-09-09T19:36:52.229Z</td></tr><tr><td>TEC-PH-10002170</td><td>ClearSounds CSC500 Amplified Spirit Phone Corded phone</td><td>Phones</td><td>Technology</td><td>Retail CSV</td><td>2024-09-09T19:36:52.229Z</td></tr><tr><td>TEC-PH-10002660</td><td>Nortel Networks T7316 E Nt8 B27</td><td>Phones</td><td>Technology</td><td>Retail CSV</td><td>2024-09-09T19:36:52.229Z</td></tr><tr><td>OFF-ST-10003324</td><td>Belkin OmniView SE Rackmount Kit</td><td>Storage</td><td>Office Supplies</td><td>Retail CSV</td><td>2024-09-09T19:36:52.229Z</td></tr><tr><td>OFF-FA-10000992</td><td>Acco Clips to Go Binder Clips, 24 Clips in Two Sizes</td><td>Fasteners</td><td>Office Supplies</td><td>Retail CSV</td><td>2024-09-09T19:36:52.229Z</td></tr><tr><td>TEC-AC-10002942</td><td>WD My Passport Ultra 1TB Portable External Hard Drive</td><td>Accessories</td><td>Technology</td><td>Retail CSV</td><td>2024-09-09T19:36:52.229Z</td></tr><tr><td>OFF-SU-10004737</td><td>Acme Design Stainless Steel Bent Scissors</td><td>Supplies</td><td>Office Supplies</td><td>Retail CSV</td><td>2024-09-09T19:36:52.229Z</td></tr><tr><td>TEC-PH-10001254</td><td>Jabra BIZ 2300 Duo QD Duo Corded Headset</td><td>Phones</td><td>Technology</td><td>Retail CSV</td><td>2024-09-09T19:36:52.229Z</td></tr><tr><td>OFF-SU-10001574</td><td>Acme Value Line Scissors</td><td>Supplies</td><td>Office Supplies</td><td>Retail CSV</td><td>2024-09-09T19:36:52.229Z</td></tr><tr><td>OFF-AP-10000240</td><td>Belkin F9G930V10-GRY 9 Outlet Surge</td><td>Appliances</td><td>Office Supplies</td><td>Retail CSV</td><td>2024-09-09T19:36:52.229Z</td></tr><tr><td>FUR-CH-10000309</td><td>Global Comet Stacking Arm Chair</td><td>Chairs</td><td>Furniture</td><td>Retail CSV</td><td>2024-09-09T19:36:52.229Z</td></tr><tr><td>OFF-AP-10000055</td><td>Belkin F9S820V06 8 Outlet Surge</td><td>Appliances</td><td>Office Supplies</td><td>Retail CSV</td><td>2024-09-09T19:36:52.229Z</td></tr><tr><td>FUR-BO-10003450</td><td>Bush Westfield Collection Bookcases, Dark Cherry Finish</td><td>Bookcases</td><td>Furniture</td><td>Retail CSV</td><td>2024-09-09T19:36:52.229Z</td></tr><tr><td>TEC-PH-10002890</td><td>AT&T 17929 Lendline Telephone</td><td>Phones</td><td>Technology</td><td>Retail CSV</td><td>2024-09-09T19:36:52.229Z</td></tr><tr><td>TEC-MA-10001016</td><td>Canon PC170 Desktop Personal Copier</td><td>Machines</td><td>Technology</td><td>Retail CSV</td><td>2024-09-09T19:36:52.229Z</td></tr><tr><td>FUR-CH-10000229</td><td>Global Enterprise Series Seating High-Back Swivel/Tilt Chairs</td><td>Chairs</td><td>Furniture</td><td>Retail CSV</td><td>2024-09-09T19:36:52.229Z</td></tr><tr><td>FUR-FU-10000820</td><td>Tensor Brushed Steel Torchiere Floor Lamp</td><td>Furnishings</td><td>Furniture</td><td>Retail CSV</td><td>2024-09-09T19:36:52.229Z</td></tr><tr><td>OFF-PA-10000587</td><td>Array Parchment Paper, Assorted Colors</td><td>Paper</td><td>Office Supplies</td><td>Retail CSV</td><td>2024-09-09T19:36:52.229Z</td></tr><tr><td>FUR-CH-10004997</td><td>Hon Every-Day Series Multi-Task Chairs</td><td>Chairs</td><td>Furniture</td><td>Retail CSV</td><td>2024-09-09T19:36:52.229Z</td></tr><tr><td>TEC-PH-10000347</td><td>Cush Cases Heavy Duty Rugged Cover Case for Samsung Galaxy S5 - Purple</td><td>Phones</td><td>Technology</td><td>Retail CSV</td><td>2024-09-09T19:36:52.229Z</td></tr><tr><td>OFF-BI-10002854</td><td>Performers Binder/Pad Holder, Black</td><td>Binders</td><td>Office Supplies</td><td>Retail CSV</td><td>2024-09-09T19:36:52.229Z</td></tr><tr><td>OFF-AP-10004336</td><td>Conquest 14 Commercial Heavy-Duty Upright Vacuum, Collection System, Accessory Kit</td><td>Appliances</td><td>Office Supplies</td><td>Retail CSV</td><td>2024-09-09T19:36:52.229Z</td></tr><tr><td>OFF-BI-10003007</td><td>\"Premium Transparent Presentation Covers, No Pattern/Clear, 8 1/2\"\" x 11\"\"\"</td><td>Binders</td><td>Office Supplies</td><td>Retail CSV</td><td>2024-09-09T19:36:52.229Z</td></tr><tr><td>OFF-SU-10000646</td><td>Premier Automatic Letter Opener</td><td>Supplies</td><td>Office Supplies</td><td>Retail CSV</td><td>2024-09-09T19:36:52.229Z</td></tr><tr><td>OFF-AP-10001124</td><td>Belkin 8 Outlet SurgeMaster II Gold Surge Protector with Phone Protection</td><td>Appliances</td><td>Office Supplies</td><td>Retail CSV</td><td>2024-09-09T19:36:52.229Z</td></tr><tr><td>OFF-AP-10002457</td><td>Eureka The Boss Plus 12-Amp Hard Box Upright Vacuum, Red</td><td>Appliances</td><td>Office Supplies</td><td>Retail CSV</td><td>2024-09-09T19:36:52.229Z</td></tr><tr><td>OFF-EN-10001141</td><td>\"Manila Recycled Extra-Heavyweight Clasp Envelopes, 6\"\" x 9\"\"\"</td><td>Envelopes</td><td>Office Supplies</td><td>Retail CSV</td><td>2024-09-09T19:36:52.229Z</td></tr><tr><td>FUR-TA-10004147</td><td>Hon 4060 Series Tables</td><td>Tables</td><td>Furniture</td><td>Retail CSV</td><td>2024-09-09T19:36:52.229Z</td></tr><tr><td>OFF-AR-10002375</td><td>Newell 351</td><td>Art</td><td>Office Supplies</td><td>Retail CSV</td><td>2024-09-09T19:36:52.229Z</td></tr><tr><td>OFF-ST-10002289</td><td>\"Safco Wire Cube Shelving System, For Use as 4 or 5 14\"\" Cubes</td><td>Storage</td><td>Office Supplies</td><td>Retail CSV</td><td>2024-09-09T19:36:52.229Z</td></tr><tr><td>OFF-ST-10001291</td><td>Tenex Personal Self-Stacking Standard File Box, Black/Gray</td><td>Storage</td><td>Office Supplies</td><td>Retail CSV</td><td>2024-09-09T19:36:52.229Z</td></tr><tr><td>OFF-PA-10004255</td><td>Xerox 219</td><td>Paper</td><td>Office Supplies</td><td>Retail CSV</td><td>2024-09-09T19:36:52.229Z</td></tr><tr><td>OFF-AP-10002670</td><td>Belkin 8-Outlet Premiere SurgeMaster II Surge Protectors</td><td>Appliances</td><td>Office Supplies</td><td>Retail CSV</td><td>2024-09-09T19:36:52.229Z</td></tr><tr><td>OFF-PA-10003205</td><td>Wirebound Message Forms, Four 2 3/4 x 5 Forms per Page, Pink Paper</td><td>Paper</td><td>Office Supplies</td><td>Retail CSV</td><td>2024-09-09T19:36:52.229Z</td></tr><tr><td>TEC-MA-10002694</td><td>Hewlett-Packard Deskjet F4180 All-in-One Color Ink-jet - Printer / copier / scanner</td><td>Machines</td><td>Technology</td><td>Retail CSV</td><td>2024-09-09T19:36:52.229Z</td></tr><tr><td>OFF-BI-10000474</td><td>Avery Recycled Flexi-View Covers for Binding Systems</td><td>Binders</td><td>Office Supplies</td><td>Retail CSV</td><td>2024-09-09T19:36:52.229Z</td></tr><tr><td>OFF-AR-10002053</td><td>Premium Writing Pencils, Soft, #2 by Central Association for the Blind</td><td>Art</td><td>Office Supplies</td><td>Retail CSV</td><td>2024-09-09T19:36:52.229Z</td></tr><tr><td>TEC-MA-10001681</td><td>Lexmark MarkNet N8150 Wireless Print Server</td><td>Machines</td><td>Technology</td><td>Retail CSV</td><td>2024-09-09T19:36:52.229Z</td></tr><tr><td>TEC-AC-10001772</td><td>Memorex Mini Travel Drive 16 GB USB 2.0 Flash Drive</td><td>Accessories</td><td>Technology</td><td>Retail CSV</td><td>2024-09-09T19:36:52.229Z</td></tr><tr><td>FUR-FU-10001290</td><td>Executive Impressions Supervisor Wall Clock</td><td>Furnishings</td><td>Furniture</td><td>Retail CSV</td><td>2024-09-09T19:36:52.229Z</td></tr><tr><td>OFF-AR-10002578</td><td>Newell 335</td><td>Art</td><td>Office Supplies</td><td>Retail CSV</td><td>2024-09-09T19:36:52.229Z</td></tr><tr><td>OFF-LA-10004093</td><td>Avery 486</td><td>Labels</td><td>Office Supplies</td><td>Retail CSV</td><td>2024-09-09T19:36:52.229Z</td></tr><tr><td>OFF-AR-10001022</td><td>SANFORD Liquid Accent Tank-Style Highlighters</td><td>Art</td><td>Office Supplies</td><td>Retail CSV</td><td>2024-09-09T19:36:52.229Z</td></tr><tr><td>OFF-AR-10001231</td><td>Sanford EarthWrite Recycled Pencils, Medium Soft, #2</td><td>Art</td><td>Office Supplies</td><td>Retail CSV</td><td>2024-09-09T19:36:52.229Z</td></tr><tr><td>OFF-PA-10000249</td><td>Easy-staple paper</td><td>Paper</td><td>Office Supplies</td><td>Retail CSV</td><td>2024-09-09T19:36:52.229Z</td></tr><tr><td>OFF-ST-10000604</td><td>Home/Office Personal File Carts</td><td>Storage</td><td>Office Supplies</td><td>Retail CSV</td><td>2024-09-09T19:36:52.229Z</td></tr><tr><td>OFF-ST-10003208</td><td>Adjustable Depth Letter/Legal Cart</td><td>Storage</td><td>Office Supplies</td><td>Retail CSV</td><td>2024-09-09T19:36:52.229Z</td></tr><tr><td>OFF-BI-10003355</td><td>Cardinal Holdit Business Card Pockets</td><td>Binders</td><td>Office Supplies</td><td>Retail CSV</td><td>2024-09-09T19:36:52.229Z</td></tr><tr><td>OFF-LA-10001404</td><td>Avery 517</td><td>Labels</td><td>Office Supplies</td><td>Retail CSV</td><td>2024-09-09T19:36:52.229Z</td></tr><tr><td>OFF-PA-10001712</td><td>Xerox 1948</td><td>Paper</td><td>Office Supplies</td><td>Retail CSV</td><td>2024-09-09T19:36:52.229Z</td></tr><tr><td>OFF-BI-10004876</td><td>Wilson Jones Suede Grain Vinyl Binders</td><td>Binders</td><td>Office Supplies</td><td>Retail CSV</td><td>2024-09-09T19:36:52.229Z</td></tr><tr><td>OFF-BI-10002437</td><td>Recycled Premium Regency Composition Covers</td><td>Binders</td><td>Office Supplies</td><td>Retail CSV</td><td>2024-09-09T19:36:52.229Z</td></tr><tr><td>OFF-PA-10003016</td><td>\"Adams \"\"While You Were Out\"\" Message Pads\"</td><td>Paper</td><td>Office Supplies</td><td>Retail CSV</td><td>2024-09-09T19:36:52.229Z</td></tr><tr><td>OFF-AP-10002892</td><td>Belkin F5C206VTEL 6 Outlet Surge</td><td>Appliances</td><td>Office Supplies</td><td>Retail CSV</td><td>2024-09-09T19:36:52.229Z</td></tr><tr><td>FUR-FU-10000521</td><td>\"Seth Thomas 14\"\" Putty-Colored Wall Clock\"</td><td>Furnishings</td><td>Furniture</td><td>Retail CSV</td><td>2024-09-09T19:36:52.229Z</td></tr><tr><td>OFF-EN-10001990</td><td>Staple envelope</td><td>Envelopes</td><td>Office Supplies</td><td>Retail CSV</td><td>2024-09-09T19:36:52.229Z</td></tr><tr><td>TEC-PH-10002262</td><td>LG Electronics Tone+ HBS-730 Bluetooth Headset</td><td>Phones</td><td>Technology</td><td>Retail CSV</td><td>2024-09-09T19:36:52.229Z</td></tr><tr><td>TEC-PH-10002185</td><td>QVS USB Car Charger 2-Port 2.1Amp for iPod/iPhone/iPad/iPad 2/iPad 3</td><td>Phones</td><td>Technology</td><td>Retail CSV</td><td>2024-09-09T19:36:52.229Z</td></tr><tr><td>FUR-FU-10004597</td><td>Eldon Cleatmat Chair Mats for Medium Pile Carpets</td><td>Furnishings</td><td>Furniture</td><td>Retail CSV</td><td>2024-09-09T19:36:52.229Z</td></tr><tr><td>TEC-AC-10003095</td><td>Logitech G35 7.1-Channel Surround Sound Headset</td><td>Accessories</td><td>Technology</td><td>Retail CSV</td><td>2024-09-09T19:36:52.229Z</td></tr><tr><td>OFF-AP-10001293</td><td>Belkin 8 Outlet Surge Protector</td><td>Appliances</td><td>Office Supplies</td><td>Retail CSV</td><td>2024-09-09T19:36:52.229Z</td></tr><tr><td>OFF-AR-10004269</td><td>Newell 31</td><td>Art</td><td>Office Supplies</td><td>Retail CSV</td><td>2024-09-09T19:36:52.229Z</td></tr><tr><td>TEC-AC-10004518</td><td>Memorex Mini Travel Drive 32 GB USB 2.0 Flash Drive</td><td>Accessories</td><td>Technology</td><td>Retail CSV</td><td>2024-09-09T19:36:52.229Z</td></tr><tr><td>FUR-FU-10001918</td><td>C-Line Cubicle Keepers Polyproplyene Holder With Velcro Backings</td><td>Furnishings</td><td>Furniture</td><td>Retail CSV</td><td>2024-09-09T19:36:52.229Z</td></tr><tr><td>OFF-LA-10001158</td><td>\"Avery Address/Shipping Labels for Typewriters, 4\"\" x 2\"\"\"</td><td>Labels</td><td>Office Supplies</td><td>Retail CSV</td><td>2024-09-09T19:36:52.229Z</td></tr><tr><td>FUR-BO-10002824</td><td>Bush Mission Pointe Library</td><td>Bookcases</td><td>Furniture</td><td>Retail CSV</td><td>2024-09-09T19:36:52.229Z</td></tr><tr><td>OFF-AR-10001166</td><td>Staples in misc. colors</td><td>Art</td><td>Office Supplies</td><td>Retail CSV</td><td>2024-09-09T19:36:52.229Z</td></tr><tr><td>FUR-FU-10003832</td><td>Eldon Expressions Punched Metal & Wood Desk Accessories, Black & Cherry</td><td>Furnishings</td><td>Furniture</td><td>Retail CSV</td><td>2024-09-09T19:36:52.229Z</td></tr><tr><td>TEC-PH-10003174</td><td>RCA ViSYS 25825 Wireless digital phone</td><td>Phones</td><td>Technology</td><td>Retail CSV</td><td>2024-09-09T19:36:52.229Z</td></tr><tr><td>OFF-BI-10003707</td><td>Aluminum Screw Posts</td><td>Binders</td><td>Office Supplies</td><td>Retail CSV</td><td>2024-09-09T19:36:52.229Z</td></tr><tr><td>TEC-PH-10001750</td><td>Samsung Rugby III</td><td>Phones</td><td>Technology</td><td>Retail CSV</td><td>2024-09-09T19:36:52.229Z</td></tr><tr><td>OFF-ST-10001370</td><td>Sensible Storage WireTech Storage Systems</td><td>Storage</td><td>Office Supplies</td><td>Retail CSV</td><td>2024-09-09T19:36:52.229Z</td></tr><tr><td>OFF-LA-10000248</td><td>Avery 52</td><td>Labels</td><td>Office Supplies</td><td>Retail CSV</td><td>2024-09-09T19:36:52.229Z</td></tr><tr><td>OFF-AR-10004511</td><td>Sanford Colorific Scented Colored Pencils, 12/Pack</td><td>Art</td><td>Office Supplies</td><td>Retail CSV</td><td>2024-09-09T19:36:52.229Z</td></tr><tr><td>TEC-AC-10001090</td><td>Micro Innovations Wireless Classic Keyboard with Mouse</td><td>Accessories</td><td>Technology</td><td>Retail CSV</td><td>2024-09-09T19:36:52.229Z</td></tr><tr><td>OFF-BI-10000285</td><td>XtraLife ClearVue Slant-D Ring Binders by Cardinal</td><td>Binders</td><td>Office Supplies</td><td>Retail CSV</td><td>2024-09-09T19:36:52.229Z</td></tr><tr><td>OFF-ST-10001963</td><td>Tennsco Regal Shelving Units</td><td>Storage</td><td>Office Supplies</td><td>Retail CSV</td><td>2024-09-09T19:36:52.229Z</td></tr><tr><td>OFF-AR-10002335</td><td>DIXON Oriole Pencils</td><td>Art</td><td>Office Supplies</td><td>Retail CSV</td><td>2024-09-09T19:36:52.229Z</td></tr><tr><td>OFF-BI-10002071</td><td>Fellowes Black Plastic Comb Bindings</td><td>Binders</td><td>Office Supplies</td><td>Retail CSV</td><td>2024-09-09T19:36:52.229Z</td></tr><tr><td>TEC-PH-10003655</td><td>Sannysis Cute Owl Design Soft Skin Case Cover for Samsung Galaxy S4</td><td>Phones</td><td>Technology</td><td>Retail CSV</td><td>2024-09-09T19:36:52.229Z</td></tr><tr><td>OFF-AP-10002082</td><td>Holmes HEPA Air Purifier</td><td>Appliances</td><td>Office Supplies</td><td>Retail CSV</td><td>2024-09-09T19:36:52.229Z</td></tr><tr><td>TEC-AC-10003590</td><td>TRENDnet 56K USB 2.0 Phone, Internet and Fax Modem</td><td>Accessories</td><td>Technology</td><td>Retail CSV</td><td>2024-09-09T19:36:52.229Z</td></tr><tr><td>OFF-PA-10004355</td><td>Xerox 231</td><td>Paper</td><td>Office Supplies</td><td>Retail CSV</td><td>2024-09-09T19:36:52.229Z</td></tr><tr><td>OFF-BI-10004209</td><td>Fellowes Twister Kit, Gray/Clear, 3/pkg</td><td>Binders</td><td>Office Supplies</td><td>Retail CSV</td><td>2024-09-09T19:36:52.229Z</td></tr><tr><td>FUR-CH-10001190</td><td>Global Deluxe High-Back Office Chair in Storm</td><td>Chairs</td><td>Furniture</td><td>Retail CSV</td><td>2024-09-09T19:36:52.229Z</td></tr><tr><td>OFF-ST-10001837</td><td>SAFCO Mobile Desk Side File, Wire Frame</td><td>Storage</td><td>Office Supplies</td><td>Retail CSV</td><td>2024-09-09T19:36:52.229Z</td></tr><tr><td>TEC-PH-10004531</td><td>AT&T CL2909</td><td>Phones</td><td>Technology</td><td>Retail CSV</td><td>2024-09-09T19:36:52.229Z</td></tr><tr><td>OFF-PA-10001243</td><td>Xerox 1983</td><td>Paper</td><td>Office Supplies</td><td>Retail CSV</td><td>2024-09-09T19:36:52.229Z</td></tr><tr><td>OFF-AR-10001547</td><td>Newell 311</td><td>Art</td><td>Office Supplies</td><td>Retail CSV</td><td>2024-09-09T19:36:52.229Z</td></tr><tr><td>OFF-BI-10003684</td><td>Wilson Jones Legal Size Ring Binders</td><td>Binders</td><td>Office Supplies</td><td>Retail CSV</td><td>2024-09-09T19:36:52.229Z</td></tr><tr><td>OFF-AR-10002818</td><td>Panasonic KP-310 Heavy-Duty Electric Pencil Sharpener</td><td>Art</td><td>Office Supplies</td><td>Retail CSV</td><td>2024-09-09T19:36:52.229Z</td></tr><tr><td>TEC-AC-10002006</td><td>Memorex Micro Travel Drive 16 GB</td><td>Accessories</td><td>Technology</td><td>Retail CSV</td><td>2024-09-09T19:36:52.229Z</td></tr><tr><td>OFF-PA-10000357</td><td>Xerox 1888</td><td>Paper</td><td>Office Supplies</td><td>Retail CSV</td><td>2024-09-09T19:36:52.229Z</td></tr><tr><td>FUR-FU-10004963</td><td>Eldon 400 Class Desk Accessories, Black Carbon</td><td>Furnishings</td><td>Furniture</td><td>Retail CSV</td><td>2024-09-09T19:36:52.229Z</td></tr><tr><td>TEC-AC-10004814</td><td>Logitech Illuminated Ultrathin Keyboard with Backlighting</td><td>Accessories</td><td>Technology</td><td>Retail CSV</td><td>2024-09-09T19:36:52.229Z</td></tr><tr><td>TEC-PH-10004241</td><td>Nokia Lumia 1020</td><td>Phones</td><td>Technology</td><td>Retail CSV</td><td>2024-09-09T19:36:52.229Z</td></tr><tr><td>OFF-PA-10002254</td><td>Xerox 1883</td><td>Paper</td><td>Office Supplies</td><td>Retail CSV</td><td>2024-09-09T19:36:52.229Z</td></tr><tr><td>TEC-PH-10000011</td><td>PureGear Roll-On Screen Protector</td><td>Phones</td><td>Technology</td><td>Retail CSV</td><td>2024-09-09T19:36:52.229Z</td></tr><tr><td>OFF-LA-10001297</td><td>Avery 473</td><td>Labels</td><td>Office Supplies</td><td>Retail CSV</td><td>2024-09-09T19:36:52.229Z</td></tr><tr><td>OFF-PA-10001450</td><td>Rediform S.O.S. Phone Message Books</td><td>Paper</td><td>Office Supplies</td><td>Retail CSV</td><td>2024-09-09T19:36:52.229Z</td></tr><tr><td>OFF-SU-10004115</td><td>Acme Stainless Steel Office Snips</td><td>Supplies</td><td>Office Supplies</td><td>Retail CSV</td><td>2024-09-09T19:36:52.229Z</td></tr><tr><td>TEC-AC-10001714</td><td>Logitech MX Performance Wireless Mouse</td><td>Accessories</td><td>Technology</td><td>Retail CSV</td><td>2024-09-09T19:36:52.229Z</td></tr><tr><td>OFF-PA-10000349</td><td>Easy-staple paper</td><td>Paper</td><td>Office Supplies</td><td>Retail CSV</td><td>2024-09-09T19:36:52.229Z</td></tr><tr><td>FUR-FU-10002554</td><td>Westinghouse Floor Lamp with Metal Mesh Shade, Black</td><td>Furnishings</td><td>Furniture</td><td>Retail CSV</td><td>2024-09-09T19:36:52.229Z</td></tr><tr><td>FUR-BO-10000468</td><td>O'Sullivan 2-Shelf Heavy-Duty Bookcases</td><td>Bookcases</td><td>Furniture</td><td>Retail CSV</td><td>2024-09-09T19:36:52.229Z</td></tr><tr><td>FUR-FU-10000672</td><td>\"Executive Impressions 10\"\" Spectator Wall Clock\"</td><td>Furnishings</td><td>Furniture</td><td>Retail CSV</td><td>2024-09-09T19:36:52.229Z</td></tr><tr><td>FUR-TA-10001691</td><td>Barricks Non-Folding Utility Table with Steel Legs, Laminate Tops</td><td>Tables</td><td>Furniture</td><td>Retail CSV</td><td>2024-09-09T19:36:52.229Z</td></tr><tr><td>FUR-CH-10001146</td><td>Global Value Mid-Back Manager's Chair, Gray</td><td>Chairs</td><td>Furniture</td><td>Retail CSV</td><td>2024-09-09T19:36:52.229Z</td></tr><tr><td>OFF-BI-10000666</td><td>Surelock Post Binders</td><td>Binders</td><td>Office Supplies</td><td>Retail CSV</td><td>2024-09-09T19:36:52.229Z</td></tr><tr><td>OFF-EN-10001028</td><td>Staple envelope</td><td>Envelopes</td><td>Office Supplies</td><td>Retail CSV</td><td>2024-09-09T19:36:52.229Z</td></tr><tr><td>TEC-AC-10004396</td><td>Logitech Keyboard K120</td><td>Accessories</td><td>Technology</td><td>Retail CSV</td><td>2024-09-09T19:36:52.229Z</td></tr><tr><td>FUR-FU-10003192</td><td>Luxo Adjustable Task Clamp Lamp</td><td>Furnishings</td><td>Furniture</td><td>Retail CSV</td><td>2024-09-09T19:36:52.229Z</td></tr><tr><td>OFF-PA-10001801</td><td>Xerox 193</td><td>Paper</td><td>Office Supplies</td><td>Retail CSV</td><td>2024-09-09T19:36:52.229Z</td></tr><tr><td>TEC-MA-10004086</td><td>Plantronics Single Ear Headset</td><td>Machines</td><td>Technology</td><td>Retail CSV</td><td>2024-09-09T19:36:52.229Z</td></tr><tr><td>OFF-ST-10000991</td><td>Space Solutions HD Industrial Steel Shelving.</td><td>Storage</td><td>Office Supplies</td><td>Retail CSV</td><td>2024-09-09T19:36:52.229Z</td></tr><tr><td>OFF-LA-10004689</td><td>Avery 512</td><td>Labels</td><td>Office Supplies</td><td>Retail CSV</td><td>2024-09-09T19:36:52.229Z</td></tr><tr><td>OFF-PA-10001970</td><td>Xerox 1908</td><td>Paper</td><td>Office Supplies</td><td>Retail CSV</td><td>2024-09-09T19:36:52.229Z</td></tr><tr><td>TEC-PH-10004586</td><td>Wilson SignalBoost 841262 DB PRO Amplifier Kit</td><td>Phones</td><td>Technology</td><td>Retail CSV</td><td>2024-09-09T19:36:52.229Z</td></tr><tr><td>OFF-FA-10004968</td><td>Rubber Band Ball</td><td>Fasteners</td><td>Office Supplies</td><td>Retail CSV</td><td>2024-09-09T19:36:52.229Z</td></tr><tr><td>OFF-FA-10002676</td><td>Colored Push Pins</td><td>Fasteners</td><td>Office Supplies</td><td>Retail CSV</td><td>2024-09-09T19:36:52.229Z</td></tr><tr><td>OFF-LA-10004008</td><td>Avery 507</td><td>Labels</td><td>Office Supplies</td><td>Retail CSV</td><td>2024-09-09T19:36:52.229Z</td></tr><tr><td>OFF-PA-10004285</td><td>Xerox 1959</td><td>Paper</td><td>Office Supplies</td><td>Retail CSV</td><td>2024-09-09T19:36:52.229Z</td></tr><tr><td>OFF-AR-10003772</td><td>Boston 16750 Black Compact Battery Pencil Sharpener</td><td>Art</td><td>Office Supplies</td><td>Retail CSV</td><td>2024-09-09T19:36:52.229Z</td></tr><tr><td>TEC-AC-10000397</td><td>Perixx PERIBOARD-512B, Ergonomic Split Keyboard</td><td>Accessories</td><td>Technology</td><td>Retail CSV</td><td>2024-09-09T19:36:52.229Z</td></tr><tr><td>OFF-PA-10004610</td><td>Xerox 1900</td><td>Paper</td><td>Office Supplies</td><td>Retail CSV</td><td>2024-09-09T19:36:52.229Z</td></tr><tr><td>OFF-FA-10000089</td><td>Acco Glide Clips</td><td>Fasteners</td><td>Office Supplies</td><td>Retail CSV</td><td>2024-09-09T19:36:52.229Z</td></tr><tr><td>FUR-FU-10002506</td><td>\"Tensor \"\"Hersey Kiss\"\" Styled Floor Lamp\"</td><td>Furnishings</td><td>Furniture</td><td>Retail CSV</td><td>2024-09-09T19:36:52.229Z</td></tr><tr><td>FUR-FU-10002157</td><td>Artistic Insta-Plaque</td><td>Furnishings</td><td>Furniture</td><td>Retail CSV</td><td>2024-09-09T19:36:52.229Z</td></tr><tr><td>OFF-PA-10004327</td><td>Xerox 1911</td><td>Paper</td><td>Office Supplies</td><td>Retail CSV</td><td>2024-09-09T19:36:52.229Z</td></tr><tr><td>OFF-AP-10000326</td><td>Belkin 7 Outlet SurgeMaster Surge Protector with Phone Protection</td><td>Appliances</td><td>Office Supplies</td><td>Retail CSV</td><td>2024-09-09T19:36:52.229Z</td></tr><tr><td>FUR-FU-10003577</td><td>Nu-Dell Leatherette Frames</td><td>Furnishings</td><td>Furniture</td><td>Retail CSV</td><td>2024-09-09T19:36:52.229Z</td></tr><tr><td>TEC-AC-10003033</td><td>Plantronics CS510 - Over-the-Head monaural Wireless Headset System</td><td>Accessories</td><td>Technology</td><td>Retail CSV</td><td>2024-09-09T19:36:52.229Z</td></tr><tr><td>FUR-FU-10001591</td><td>Advantus Panel Wall Certificate Holder - 8.5x11</td><td>Furnishings</td><td>Furniture</td><td>Retail CSV</td><td>2024-09-09T19:36:52.229Z</td></tr><tr><td>OFF-BI-10004492</td><td>Tuf-Vin Binders</td><td>Binders</td><td>Office Supplies</td><td>Retail CSV</td><td>2024-09-09T19:36:52.229Z</td></tr><tr><td>FUR-TA-10001889</td><td>Bush Advantage Collection Racetrack Conference Table</td><td>Tables</td><td>Furniture</td><td>Retail CSV</td><td>2024-09-09T19:36:52.229Z</td></tr><tr><td>OFF-AP-10002439</td><td>Tripp Lite Isotel 8 Ultra 8 Outlet Metal Surge</td><td>Appliances</td><td>Office Supplies</td><td>Retail CSV</td><td>2024-09-09T19:36:52.229Z</td></tr><tr><td>TEC-PH-10004188</td><td>OtterBox Commuter Series Case - Samsung Galaxy S4</td><td>Phones</td><td>Technology</td><td>Retail CSV</td><td>2024-09-09T19:36:52.229Z</td></tr><tr><td>OFF-EN-10003072</td><td>Peel & Seel Envelopes</td><td>Envelopes</td><td>Office Supplies</td><td>Retail CSV</td><td>2024-09-09T19:36:52.229Z</td></tr><tr><td>OFF-PA-10004475</td><td>Xerox 1940</td><td>Paper</td><td>Office Supplies</td><td>Retail CSV</td><td>2024-09-09T19:36:52.229Z</td></tr><tr><td>OFF-PA-10002581</td><td>Xerox 1951</td><td>Paper</td><td>Office Supplies</td><td>Retail CSV</td><td>2024-09-09T19:36:52.229Z</td></tr><tr><td>OFF-SU-10002557</td><td>Fiskars Spring-Action Scissors</td><td>Supplies</td><td>Office Supplies</td><td>Retail CSV</td><td>2024-09-09T19:36:52.229Z</td></tr><tr><td>OFF-ST-10003805</td><td>24 Capacity Maxi Data Binder Racks, Pearl</td><td>Storage</td><td>Office Supplies</td><td>Retail CSV</td><td>2024-09-09T19:36:52.229Z</td></tr><tr><td>TEC-PH-10001433</td><td>Cisco Small Business SPA 502G VoIP phone</td><td>Phones</td><td>Technology</td><td>Retail CSV</td><td>2024-09-09T19:36:52.229Z</td></tr><tr><td>TEC-PH-10000984</td><td>Panasonic KX-TG9471B</td><td>Phones</td><td>Technology</td><td>Retail CSV</td><td>2024-09-09T19:36:52.229Z</td></tr><tr><td>OFF-AR-10001954</td><td>Newell 331</td><td>Art</td><td>Office Supplies</td><td>Retail CSV</td><td>2024-09-09T19:36:52.229Z</td></tr><tr><td>TEC-MA-10003066</td><td>Wasp CCD Handheld Bar Code Reader</td><td>Machines</td><td>Technology</td><td>Retail CSV</td><td>2024-09-09T19:36:52.229Z</td></tr><tr><td>OFF-PA-10003127</td><td>Easy-staple paper</td><td>Paper</td><td>Office Supplies</td><td>Retail CSV</td><td>2024-09-09T19:36:52.229Z</td></tr><tr><td>OFF-AR-10003759</td><td>Crayola Anti Dust Chalk, 12/Pack</td><td>Art</td><td>Office Supplies</td><td>Retail CSV</td><td>2024-09-09T19:36:52.229Z</td></tr><tr><td>FUR-FU-10004665</td><td>3M Polarizing Task Lamp with Clamp Arm, Light Gray</td><td>Furnishings</td><td>Furniture</td><td>Retail CSV</td><td>2024-09-09T19:36:52.229Z</td></tr><tr><td>OFF-AP-10001947</td><td>Acco 6 Outlet Guardian Premium Plus Surge Suppressor</td><td>Appliances</td><td>Office Supplies</td><td>Retail CSV</td><td>2024-09-09T19:36:52.229Z</td></tr><tr><td>OFF-LA-10003537</td><td>Avery 515</td><td>Labels</td><td>Office Supplies</td><td>Retail CSV</td><td>2024-09-09T19:36:52.229Z</td></tr><tr><td>OFF-FA-10000254</td><td>Sterling Rubber Bands by Alliance</td><td>Fasteners</td><td>Office Supplies</td><td>Retail CSV</td><td>2024-09-09T19:36:52.229Z</td></tr><tr><td>FUR-CH-10004860</td><td>Global Low Back Tilter Chair</td><td>Chairs</td><td>Furniture</td><td>Retail CSV</td><td>2024-09-09T19:36:52.229Z</td></tr><tr><td>OFF-PA-10004092</td><td>Tops Green Bar Computer Printout Paper</td><td>Paper</td><td>Office Supplies</td><td>Retail CSV</td><td>2024-09-09T19:36:52.229Z</td></tr><tr><td>OFF-BI-10001636</td><td>Ibico Plastic and Wire Spiral Binding Combs</td><td>Binders</td><td>Office Supplies</td><td>Retail CSV</td><td>2024-09-09T19:36:52.229Z</td></tr><tr><td>OFF-BI-10004656</td><td>Peel & Stick Add-On Corner Pockets</td><td>Binders</td><td>Office Supplies</td><td>Retail CSV</td><td>2024-09-09T19:36:52.229Z</td></tr><tr><td>FUR-CH-10000988</td><td>Hon Olson Stacker Stools</td><td>Chairs</td><td>Furniture</td><td>Retail CSV</td><td>2024-09-09T19:36:52.229Z</td></tr><tr><td>TEC-MA-10000597</td><td>Lexmark S315 Color Inkjet Printer</td><td>Machines</td><td>Technology</td><td>Retail CSV</td><td>2024-09-09T19:36:52.229Z</td></tr><tr><td>TEC-PH-10000526</td><td>Vtech CS6719</td><td>Phones</td><td>Technology</td><td>Retail CSV</td><td>2024-09-09T19:36:52.229Z</td></tr><tr><td>FUR-CH-10003298</td><td>Office Star - Contemporary Task Swivel chair with Loop Arms, Charcoal</td><td>Chairs</td><td>Furniture</td><td>Retail CSV</td><td>2024-09-09T19:36:52.229Z</td></tr><tr><td>OFF-PA-10002499</td><td>Xerox 1890</td><td>Paper</td><td>Office Supplies</td><td>Retail CSV</td><td>2024-09-09T19:36:52.229Z</td></tr><tr><td>OFF-EN-10004007</td><td>Park Ridge Embossed Executive Business Envelopes</td><td>Envelopes</td><td>Office Supplies</td><td>Retail CSV</td><td>2024-09-09T19:36:52.229Z</td></tr><tr><td>FUR-TA-10001771</td><td>Bush Cubix Conference Tables, Fully Assembled</td><td>Tables</td><td>Furniture</td><td>Retail CSV</td><td>2024-09-09T19:36:52.229Z</td></tr><tr><td>OFF-EN-10002600</td><td>Redi-Strip #10 Envelopes, 4 1/8 x 9 1/2</td><td>Envelopes</td><td>Office Supplies</td><td>Retail CSV</td><td>2024-09-09T19:36:52.229Z</td></tr><tr><td>TEC-PH-10004896</td><td>Nokia Lumia 521 (T-Mobile)</td><td>Phones</td><td>Technology</td><td>Retail CSV</td><td>2024-09-09T19:36:52.229Z</td></tr><tr><td>OFF-BI-10002557</td><td>Presstex Flexible Ring Binders</td><td>Binders</td><td>Office Supplies</td><td>Retail CSV</td><td>2024-09-09T19:36:52.229Z</td></tr><tr><td>FUR-FU-10001588</td><td>Deflect-o SuperTray Unbreakable Stackable Tray, Letter, Black</td><td>Furnishings</td><td>Furniture</td><td>Retail CSV</td><td>2024-09-09T19:36:52.229Z</td></tr><tr><td>TEC-AC-10001908</td><td>Logitech Wireless Headset h800</td><td>Accessories</td><td>Technology</td><td>Retail CSV</td><td>2024-09-09T19:36:52.229Z</td></tr><tr><td>TEC-AC-10000057</td><td>Microsoft Natural Ergonomic Keyboard 4000</td><td>Accessories</td><td>Technology</td><td>Retail CSV</td><td>2024-09-09T19:36:52.229Z</td></tr><tr><td>OFF-PA-10001745</td><td>\"Wirebound Message Books, 2 7/8\"\" x 5\"\"</td><td>Paper</td><td>Office Supplies</td><td>Retail CSV</td><td>2024-09-09T19:36:52.229Z</td></tr><tr><td>OFF-EN-10003862</td><td>Laser & Ink Jet Business Envelopes</td><td>Envelopes</td><td>Office Supplies</td><td>Retail CSV</td><td>2024-09-09T19:36:52.229Z</td></tr><tr><td>OFF-BI-10001597</td><td>Wilson Jones Ledger-Size, Piano-Hinge Binder, 2\"</td><td>Binders</td><td>Office Supplies</td><td>Retail CSV</td><td>2024-09-09T19:36:52.229Z</td></tr><tr><td>OFF-AP-10003971</td><td>Belkin 6 Outlet Metallic Surge Strip</td><td>Appliances</td><td>Office Supplies</td><td>Retail CSV</td><td>2024-09-09T19:36:52.229Z</td></tr><tr><td>OFF-ST-10004950</td><td>Acco Perma 3000 Stacking Storage Drawers</td><td>Storage</td><td>Office Supplies</td><td>Retail CSV</td><td>2024-09-09T19:36:52.229Z</td></tr><tr><td>OFF-BI-10002982</td><td>Avery Self-Adhesive Photo Pockets for Polaroid Photos</td><td>Binders</td><td>Office Supplies</td><td>Retail CSV</td><td>2024-09-09T19:36:52.229Z</td></tr><tr><td>TEC-AC-10004127</td><td>SanDisk Cruzer 8 GB USB Flash Drive</td><td>Accessories</td><td>Technology</td><td>Retail CSV</td><td>2024-09-09T19:36:52.229Z</td></tr><tr><td>OFF-PA-10003739</td><td>Xerox 1969</td><td>Paper</td><td>Office Supplies</td><td>Retail CSV</td><td>2024-09-09T19:36:52.229Z</td></tr><tr><td>OFF-BI-10004600</td><td>Ibico Ibimaster 300 Manual Binding System</td><td>Binders</td><td>Office Supplies</td><td>Retail CSV</td><td>2024-09-09T19:36:52.229Z</td></tr><tr><td>OFF-AP-10000027</td><td>Hoover Commercial SteamVac</td><td>Appliances</td><td>Office Supplies</td><td>Retail CSV</td><td>2024-09-09T19:36:52.229Z</td></tr><tr><td>FUR-BO-10001567</td><td>Bush Westfield Collection Bookcases, Dark Cherry Finish, Fully Assembled</td><td>Bookcases</td><td>Furniture</td><td>Retail CSV</td><td>2024-09-09T19:36:52.229Z</td></tr><tr><td>TEC-AC-10002335</td><td>Logitech Media Keyboard K200</td><td>Accessories</td><td>Technology</td><td>Retail CSV</td><td>2024-09-09T19:36:52.229Z</td></tr><tr><td>FUR-BO-10001972</td><td>O'Sullivan 4-Shelf Bookcase in Odessa Pine</td><td>Bookcases</td><td>Furniture</td><td>Retail CSV</td><td>2024-09-09T19:36:52.229Z</td></tr><tr><td>FUR-CH-10003956</td><td>Novimex High-Tech Fabric Mesh Task Chair</td><td>Chairs</td><td>Furniture</td><td>Retail CSV</td><td>2024-09-09T19:36:52.229Z</td></tr><tr><td>OFF-ST-10000617</td><td>Woodgrain Magazine Files by Perma</td><td>Storage</td><td>Office Supplies</td><td>Retail CSV</td><td>2024-09-09T19:36:52.229Z</td></tr><tr><td>TEC-PH-10001924</td><td>iHome FM Clock Radio with Lightning Dock</td><td>Phones</td><td>Technology</td><td>Retail CSV</td><td>2024-09-09T19:36:52.229Z</td></tr><tr><td>OFF-ST-10004507</td><td>Advantus Rolling Storage Box</td><td>Storage</td><td>Office Supplies</td><td>Retail CSV</td><td>2024-09-09T19:36:52.229Z</td></tr><tr><td>TEC-PH-10000586</td><td>AT&T SB67148 SynJ</td><td>Phones</td><td>Technology</td><td>Retail CSV</td><td>2024-09-09T19:36:52.229Z</td></tr><tr><td>OFF-BI-10000088</td><td>GBC Imprintable Covers</td><td>Binders</td><td>Office Supplies</td><td>Retail CSV</td><td>2024-09-09T19:36:52.229Z</td></tr><tr><td>OFF-AR-10004272</td><td>Newell 308</td><td>Art</td><td>Office Supplies</td><td>Retail CSV</td><td>2024-09-09T19:36:52.229Z</td></tr><tr><td>OFF-PA-10003971</td><td>Xerox 1965</td><td>Paper</td><td>Office Supplies</td><td>Retail CSV</td><td>2024-09-09T19:36:52.229Z</td></tr><tr><td>TEC-AC-10002637</td><td>Logitech VX Revolution Cordless Laser Mouse for Notebooks (Black)</td><td>Accessories</td><td>Technology</td><td>Retail CSV</td><td>2024-09-09T19:36:52.229Z</td></tr><tr><td>OFF-ST-10003641</td><td>Space Solutions Industrial Galvanized Steel Shelving.</td><td>Storage</td><td>Office Supplies</td><td>Retail CSV</td><td>2024-09-09T19:36:52.229Z</td></tr><tr><td>FUR-TA-10001857</td><td>Balt Solid Wood Rectangular Table</td><td>Tables</td><td>Furniture</td><td>Retail CSV</td><td>2024-09-09T19:36:52.229Z</td></tr><tr><td>OFF-AR-10003856</td><td>Newell 344</td><td>Art</td><td>Office Supplies</td><td>Retail CSV</td><td>2024-09-09T19:36:52.229Z</td></tr><tr><td>FUR-CH-10002647</td><td>Situations Contoured Folding Chairs, 4/Set</td><td>Chairs</td><td>Furniture</td><td>Retail CSV</td><td>2024-09-09T19:36:52.229Z</td></tr><tr><td>FUR-FU-10000221</td><td>Master Caster Door Stop, Brown</td><td>Furnishings</td><td>Furniture</td><td>Retail CSV</td><td>2024-09-09T19:36:52.229Z</td></tr><tr><td>OFF-AP-10003287</td><td>Tripp Lite TLP810NET Broadband Surge for Modem/Fax</td><td>Appliances</td><td>Office Supplies</td><td>Retail CSV</td><td>2024-09-09T19:36:52.229Z</td></tr><tr><td>OFF-BI-10004187</td><td>3-ring staple pack</td><td>Binders</td><td>Office Supplies</td><td>Retail CSV</td><td>2024-09-09T19:36:52.229Z</td></tr><tr><td>OFF-PA-10000418</td><td>Xerox 189</td><td>Paper</td><td>Office Supplies</td><td>Retail CSV</td><td>2024-09-09T19:36:52.229Z</td></tr><tr><td>OFF-PA-10000130</td><td>Xerox 199</td><td>Paper</td><td>Office Supplies</td><td>Retail CSV</td><td>2024-09-09T19:36:52.229Z</td></tr><tr><td>FUR-BO-10000362</td><td>Sauder Inglewood Library Bookcases</td><td>Bookcases</td><td>Furniture</td><td>Retail CSV</td><td>2024-09-09T19:36:52.229Z</td></tr><tr><td>FUR-CH-10002044</td><td>Office Star - Contemporary Task Swivel chair with 2-way adjustable arms, Plum</td><td>Chairs</td><td>Furniture</td><td>Retail CSV</td><td>2024-09-09T19:36:52.229Z</td></tr><tr><td>TEC-AC-10004659</td><td>Imation Secure+ Hardware Encrypted USB 2.0 Flash Drive; 16GB</td><td>Accessories</td><td>Technology</td><td>Retail CSV</td><td>2024-09-09T19:36:52.229Z</td></tr><tr><td>OFF-ST-10000934</td><td>\"Contico 72\"\"H Heavy-Duty Storage System\"</td><td>Storage</td><td>Office Supplies</td><td>Retail CSV</td><td>2024-09-09T19:36:52.229Z</td></tr><tr><td>OFF-BI-10002012</td><td>Wilson Jones Easy Flow II Sheet Lifters</td><td>Binders</td><td>Office Supplies</td><td>Retail CSV</td><td>2024-09-09T19:36:52.229Z</td></tr><tr><td>OFF-ST-10002352</td><td>Iris Project Case</td><td>Storage</td><td>Office Supplies</td><td>Retail CSV</td><td>2024-09-09T19:36:52.229Z</td></tr><tr><td>OFF-AR-10001860</td><td>BIC Liqua Brite Liner</td><td>Art</td><td>Office Supplies</td><td>Retail CSV</td><td>2024-09-09T19:36:52.229Z</td></tr><tr><td>OFF-AR-10000127</td><td>Newell 321</td><td>Art</td><td>Office Supplies</td><td>Retail CSV</td><td>2024-09-09T19:36:52.229Z</td></tr><tr><td>OFF-PA-10002960</td><td>Xerox 1926</td><td>Paper</td><td>Office Supplies</td><td>Retail CSV</td><td>2024-09-09T19:36:52.229Z</td></tr><tr><td>TEC-MA-10003626</td><td>Hewlett-Packard Deskjet 6540 Color Inkjet Printer</td><td>Machines</td><td>Technology</td><td>Retail CSV</td><td>2024-09-09T19:36:52.229Z</td></tr><tr><td>OFF-PA-10000069</td><td>TOPS 4 x 6 Fluorescent Color Memo Sheets, 500 Sheets per Pack</td><td>Paper</td><td>Office Supplies</td><td>Retail CSV</td><td>2024-09-09T19:36:52.229Z</td></tr><tr><td>TEC-PH-10003535</td><td>RCA ViSYS 25423RE1 Corded phone</td><td>Phones</td><td>Technology</td><td>Retail CSV</td><td>2024-09-09T19:36:52.229Z</td></tr><tr><td>TEC-PH-10003988</td><td>LF Elite 3D Dazzle Designer Hard Case Cover, Lf Stylus Pen and Wiper For Apple Iphone 5c Mini Lite</td><td>Phones</td><td>Technology</td><td>Retail CSV</td><td>2024-09-09T19:36:52.229Z</td></tr><tr><td>TEC-AC-10001998</td><td>Logitech LS21 Speaker System - PC Multimedia - 2.1-CH - Wired</td><td>Accessories</td><td>Technology</td><td>Retail CSV</td><td>2024-09-09T19:36:52.229Z</td></tr><tr><td>TEC-PH-10002844</td><td>Speck Products Candyshell Flip Case</td><td>Phones</td><td>Technology</td><td>Retail CSV</td><td>2024-09-09T19:36:52.229Z</td></tr><tr><td>OFF-PA-10001019</td><td>Xerox 1884</td><td>Paper</td><td>Office Supplies</td><td>Retail CSV</td><td>2024-09-09T19:36:52.229Z</td></tr><tr><td>OFF-LA-10001175</td><td>Avery 514</td><td>Labels</td><td>Office Supplies</td><td>Retail CSV</td><td>2024-09-09T19:36:52.229Z</td></tr><tr><td>TEC-AC-10004975</td><td>Plantronics Audio 995 Wireless Stereo Headset</td><td>Accessories</td><td>Technology</td><td>Retail CSV</td><td>2024-09-09T19:36:52.229Z</td></tr><tr><td>OFF-EN-10004147</td><td>Wausau Papers Astrobrights Colored Envelopes</td><td>Envelopes</td><td>Office Supplies</td><td>Retail CSV</td><td>2024-09-09T19:36:52.229Z</td></tr><tr><td>FUR-FU-10004848</td><td>DAX Solid Wood Frames</td><td>Furnishings</td><td>Furniture</td><td>Retail CSV</td><td>2024-09-09T19:36:52.229Z</td></tr><tr><td>TEC-PH-10002275</td><td>Mitel 5320 IP Phone VoIP phone</td><td>Phones</td><td>Technology</td><td>Retail CSV</td><td>2024-09-09T19:36:52.229Z</td></tr><tr><td>TEC-PH-10001552</td><td>I Need's 3d Hello Kitty Hybrid Silicone Case Cover for HTC One X 4g with 3d Hello Kitty Stylus Pen Green/pink</td><td>Phones</td><td>Technology</td><td>Retail CSV</td><td>2024-09-09T19:36:52.229Z</td></tr><tr><td>FUR-FU-10003347</td><td>Coloredge Poster Frame</td><td>Furnishings</td><td>Furniture</td><td>Retail CSV</td><td>2024-09-09T19:36:52.229Z</td></tr><tr><td>OFF-SU-10002503</td><td>Acme Preferred Stainless Steel Scissors</td><td>Supplies</td><td>Office Supplies</td><td>Retail CSV</td><td>2024-09-09T19:36:52.229Z</td></tr><tr><td>OFF-ST-10001496</td><td>Standard Rollaway File with Lock</td><td>Storage</td><td>Office Supplies</td><td>Retail CSV</td><td>2024-09-09T19:36:52.229Z</td></tr><tr><td>TEC-PH-10002922</td><td>ShoreTel ShorePhone IP 230 VoIP phone</td><td>Phones</td><td>Technology</td><td>Retail CSV</td><td>2024-09-09T19:36:52.229Z</td></tr><tr><td>OFF-BI-10004506</td><td>Wilson Jones data.warehouse D-Ring Binders with DublLock</td><td>Binders</td><td>Office Supplies</td><td>Retail CSV</td><td>2024-09-09T19:36:52.229Z</td></tr><tr><td>FUR-TA-10001950</td><td>Balt Solid Wood Round Tables</td><td>Tables</td><td>Furniture</td><td>Retail CSV</td><td>2024-09-09T19:36:52.229Z</td></tr><tr><td>TEC-AC-10003709</td><td>Maxell 4.7GB DVD-R 5/Pack</td><td>Accessories</td><td>Technology</td><td>Retail CSV</td><td>2024-09-09T19:36:52.229Z</td></tr><tr><td>OFF-SU-10004782</td><td>\"Elite 5\"\" Scissors\"</td><td>Supplies</td><td>Office Supplies</td><td>Retail CSV</td><td>2024-09-09T19:36:52.229Z</td></tr><tr><td>OFF-EN-10002592</td><td>Peel & Seel Recycled Catalog Envelopes, Brown</td><td>Envelopes</td><td>Office Supplies</td><td>Retail CSV</td><td>2024-09-09T19:36:52.229Z</td></tr><tr><td>FUR-FU-10004006</td><td>Deflect-o DuraMat Lighweight, Studded, Beveled Mat for Low Pile Carpeting</td><td>Furnishings</td><td>Furniture</td><td>Retail CSV</td><td>2024-09-09T19:36:52.229Z</td></tr><tr><td>OFF-EN-10003296</td><td>Tyvek Side-Opening Peel & Seel Expanding Envelopes</td><td>Envelopes</td><td>Office Supplies</td><td>Retail CSV</td><td>2024-09-09T19:36:52.229Z</td></tr><tr><td>OFF-BI-10001524</td><td>GBC Premium Transparent Covers with Diagonal Lined Pattern</td><td>Binders</td><td>Office Supplies</td><td>Retail CSV</td><td>2024-09-09T19:36:52.229Z</td></tr><tr><td>OFF-AP-10002191</td><td>Belkin 8 Outlet SurgeMaster II Gold Surge Protector</td><td>Appliances</td><td>Office Supplies</td><td>Retail CSV</td><td>2024-09-09T19:36:52.229Z</td></tr><tr><td>OFF-AR-10001919</td><td>OIC #2 Pencils, Medium Soft</td><td>Art</td><td>Office Supplies</td><td>Retail CSV</td><td>2024-09-09T19:36:52.229Z</td></tr><tr><td>OFF-AR-10003876</td><td>Avery Hi-Liter GlideStik Fluorescent Highlighter, Yellow Ink</td><td>Art</td><td>Office Supplies</td><td>Retail CSV</td><td>2024-09-09T19:36:52.229Z</td></tr><tr><td>FUR-CH-10001891</td><td>Global Deluxe Office Fabric Chairs</td><td>Chairs</td><td>Furniture</td><td>Retail CSV</td><td>2024-09-09T19:36:52.229Z</td></tr><tr><td>TEC-CO-10002313</td><td>Canon PC1080F Personal Copier</td><td>Copiers</td><td>Technology</td><td>Retail CSV</td><td>2024-09-09T19:36:52.229Z</td></tr><tr><td>OFF-ST-10003058</td><td>Eldon Mobile Mega Data Cart  Mega Stackable  Add-On Trays</td><td>Storage</td><td>Office Supplies</td><td>Retail CSV</td><td>2024-09-09T19:36:52.229Z</td></tr><tr><td>OFF-BI-10002194</td><td>Cardinal Hold-It CD Pocket</td><td>Binders</td><td>Office Supplies</td><td>Retail CSV</td><td>2024-09-09T19:36:52.229Z</td></tr><tr><td>OFF-AP-10002350</td><td>Belkin F9H710-06 7 Outlet SurgeMaster Surge Protector</td><td>Appliances</td><td>Office Supplies</td><td>Retail CSV</td><td>2024-09-09T19:36:52.229Z</td></tr><tr><td>OFF-FA-10003059</td><td>Assorted Color Push Pins</td><td>Fasteners</td><td>Office Supplies</td><td>Retail CSV</td><td>2024-09-09T19:36:52.229Z</td></tr><tr><td>OFF-ST-10003638</td><td>Mobile Personal File Cube</td><td>Storage</td><td>Office Supplies</td><td>Retail CSV</td><td>2024-09-09T19:36:52.229Z</td></tr><tr><td>OFF-BI-10001196</td><td>Avery Flip-Chart Easel Binder, Black</td><td>Binders</td><td>Office Supplies</td><td>Retail CSV</td><td>2024-09-09T19:36:52.229Z</td></tr><tr><td>OFF-BI-10004099</td><td>GBC VeloBinder Strips</td><td>Binders</td><td>Office Supplies</td><td>Retail CSV</td><td>2024-09-09T19:36:52.229Z</td></tr><tr><td>FUR-CH-10002780</td><td>Office Star - Task Chair with Contemporary Loop Arms</td><td>Chairs</td><td>Furniture</td><td>Retail CSV</td><td>2024-09-09T19:36:52.229Z</td></tr><tr><td>OFF-PA-10004675</td><td>\"Telephone Message Books with Fax/Mobile Section, 5 1/2\"\" x 3 3/16\"\"\"</td><td>Paper</td><td>Office Supplies</td><td>Retail CSV</td><td>2024-09-09T19:36:52.229Z</td></tr><tr><td>OFF-AR-10001940</td><td>Sanford Colorific Eraseable Coloring Pencils, 12 Count</td><td>Art</td><td>Office Supplies</td><td>Retail CSV</td><td>2024-09-09T19:36:52.229Z</td></tr><tr><td>OFF-PA-10003724</td><td>Wirebound Message Book, 4 per Page</td><td>Paper</td><td>Office Supplies</td><td>Retail CSV</td><td>2024-09-09T19:36:52.229Z</td></tr><tr><td>TEC-PH-10000376</td><td>Square Credit Card Reader</td><td>Phones</td><td>Technology</td><td>Retail CSV</td><td>2024-09-09T19:36:52.229Z</td></tr><tr><td>FUR-TA-10004256</td><td>Bretford “Just In Time” Height-Adjustable Multi-Task Work Tables</td><td>Tables</td><td>Furniture</td><td>Retail CSV</td><td>2024-09-09T19:36:52.229Z</td></tr><tr><td>OFF-AP-10000179</td><td>Honeywell Enviracaire Portable HEPA Air Cleaner for up to 10 x 16 Room</td><td>Appliances</td><td>Office Supplies</td><td>Retail CSV</td><td>2024-09-09T19:36:52.229Z</td></tr><tr><td>TEC-AC-10003063</td><td>Micro Innovations USB RF Wireless Keyboard with Mouse</td><td>Accessories</td><td>Technology</td><td>Retail CSV</td><td>2024-09-09T19:36:52.229Z</td></tr><tr><td>FUR-TA-10002855</td><td>Bevis Round Conference Table Top & Single Column Base</td><td>Tables</td><td>Furniture</td><td>Retail CSV</td><td>2024-09-09T19:36:52.229Z</td></tr><tr><td>OFF-SU-10004768</td><td>Acme Kleencut Forged Steel Scissors</td><td>Supplies</td><td>Office Supplies</td><td>Retail CSV</td><td>2024-09-09T19:36:52.229Z</td></tr><tr><td>TEC-AC-10003399</td><td>Memorex Mini Travel Drive 64 GB USB 2.0 Flash Drive</td><td>Accessories</td><td>Technology</td><td>Retail CSV</td><td>2024-09-09T19:36:52.229Z</td></tr><tr><td>FUR-FU-10004164</td><td>Eldon 300 Class Desk Accessories, Black</td><td>Furnishings</td><td>Furniture</td><td>Retail CSV</td><td>2024-09-09T19:36:52.229Z</td></tr><tr><td>OFF-PA-10004248</td><td>Xerox 1990</td><td>Paper</td><td>Office Supplies</td><td>Retail CSV</td><td>2024-09-09T19:36:52.229Z</td></tr><tr><td>OFF-LA-10003498</td><td>Avery 475</td><td>Labels</td><td>Office Supplies</td><td>Retail CSV</td><td>2024-09-09T19:36:52.229Z</td></tr><tr><td>OFF-BI-10004593</td><td>Ibico Laser Imprintable Binding System Covers</td><td>Binders</td><td>Office Supplies</td><td>Retail CSV</td><td>2024-09-09T19:36:52.229Z</td></tr><tr><td>TEC-PH-10002597</td><td>Xblue XB-1670-86 X16 Small Office Telephone - Titanium</td><td>Phones</td><td>Technology</td><td>Retail CSV</td><td>2024-09-09T19:36:52.229Z</td></tr><tr><td>OFF-PA-10000289</td><td>Xerox 213</td><td>Paper</td><td>Office Supplies</td><td>Retail CSV</td><td>2024-09-09T19:36:52.229Z</td></tr><tr><td>OFF-BI-10004632</td><td>GBC Binding covers</td><td>Binders</td><td>Office Supplies</td><td>Retail CSV</td><td>2024-09-09T19:36:52.229Z</td></tr><tr><td>FUR-BO-10002213</td><td>DMI Eclipse Executive Suite Bookcases</td><td>Bookcases</td><td>Furniture</td><td>Retail CSV</td><td>2024-09-09T19:36:52.229Z</td></tr><tr><td>OFF-BI-10000632</td><td>Satellite Sectional Post Binders</td><td>Binders</td><td>Office Supplies</td><td>Retail CSV</td><td>2024-09-09T19:36:52.229Z</td></tr><tr><td>OFF-LA-10004559</td><td>Avery 49</td><td>Labels</td><td>Office Supplies</td><td>Retail CSV</td><td>2024-09-09T19:36:52.229Z</td></tr><tr><td>OFF-EN-10003068</td><td>#6 3/4 Gummed Flap White Envelopes</td><td>Envelopes</td><td>Office Supplies</td><td>Retail CSV</td><td>2024-09-09T19:36:52.229Z</td></tr><tr><td>OFF-ST-10000885</td><td>Fellowes Desktop Hanging File Manager</td><td>Storage</td><td>Office Supplies</td><td>Retail CSV</td><td>2024-09-09T19:36:52.229Z</td></tr><tr><td>TEC-PH-10003356</td><td>SmartStand Mobile Device Holder, Assorted Colors</td><td>Phones</td><td>Technology</td><td>Retail CSV</td><td>2024-09-09T19:36:52.229Z</td></tr><tr><td>TEC-PH-10004093</td><td>Panasonic Kx-TS550</td><td>Phones</td><td>Technology</td><td>Retail CSV</td><td>2024-09-09T19:36:52.229Z</td></tr><tr><td>TEC-PH-10002293</td><td>Anker 36W 4-Port USB Wall Charger Travel Power Adapter for iPhone 5s 5c 5</td><td>Phones</td><td>Technology</td><td>Retail CSV</td><td>2024-09-09T19:36:52.229Z</td></tr><tr><td>FUR-FU-10001935</td><td>3M Hangers With Command Adhesive</td><td>Furnishings</td><td>Furniture</td><td>Retail CSV</td><td>2024-09-09T19:36:52.229Z</td></tr><tr><td>TEC-PH-10003092</td><td>Motorola L804</td><td>Phones</td><td>Technology</td><td>Retail CSV</td><td>2024-09-09T19:36:52.229Z</td></tr><tr><td>OFF-PA-10001204</td><td>Xerox 1972</td><td>Paper</td><td>Office Supplies</td><td>Retail CSV</td><td>2024-09-09T19:36:52.229Z</td></tr><tr><td>OFF-PA-10001800</td><td>Xerox 220</td><td>Paper</td><td>Office Supplies</td><td>Retail CSV</td><td>2024-09-09T19:36:52.229Z</td></tr><tr><td>OFF-PA-10001790</td><td>Xerox 1910</td><td>Paper</td><td>Office Supplies</td><td>Retail CSV</td><td>2024-09-09T19:36:52.229Z</td></tr><tr><td>FUR-FU-10003976</td><td>DAX Executive Solid Wood Document Frame, Desktop or Hang, Mahogany, 5 x 7</td><td>Furnishings</td><td>Furniture</td><td>Retail CSV</td><td>2024-09-09T19:36:52.229Z</td></tr><tr><td>FUR-CH-10000422</td><td>Global Highback Leather Tilter in Burgundy</td><td>Chairs</td><td>Furniture</td><td>Retail CSV</td><td>2024-09-09T19:36:52.229Z</td></tr><tr><td>OFF-AR-10003582</td><td>Boston Electric Pencil Sharpener, Model 1818, Charcoal Black</td><td>Art</td><td>Office Supplies</td><td>Retail CSV</td><td>2024-09-09T19:36:52.229Z</td></tr><tr><td>FUR-FU-10000320</td><td>OIC Stacking Trays</td><td>Furnishings</td><td>Furniture</td><td>Retail CSV</td><td>2024-09-09T19:36:52.229Z</td></tr><tr><td>TEC-PH-10000730</td><td>Samsung Galaxy S4 Active</td><td>Phones</td><td>Technology</td><td>Retail CSV</td><td>2024-09-09T19:36:52.229Z</td></tr><tr><td>TEC-MA-10000822</td><td>Lexmark MX611dhe Monochrome Laser Printer</td><td>Machines</td><td>Technology</td><td>Retail CSV</td><td>2024-09-09T19:36:52.229Z</td></tr><tr><td>OFF-ST-10004804</td><td>\"Belkin 19\"\" Vented Equipment Shelf</td><td>Storage</td><td>Office Supplies</td><td>Retail CSV</td><td>2024-09-09T19:36:52.229Z</td></tr><tr><td>FUR-FU-10000448</td><td>Tenex Chairmats For Use With Carpeted Floors</td><td>Furnishings</td><td>Furniture</td><td>Retail CSV</td><td>2024-09-09T19:36:52.229Z</td></tr><tr><td>FUR-FU-10000010</td><td>DAX Value U-Channel Document Frames, Easel Back</td><td>Furnishings</td><td>Furniture</td><td>Retail CSV</td><td>2024-09-09T19:36:52.229Z</td></tr><tr><td>OFF-BI-10004390</td><td>GBC DocuBind 200 Manual Binding Machine</td><td>Binders</td><td>Office Supplies</td><td>Retail CSV</td><td>2024-09-09T19:36:52.229Z</td></tr><tr><td>OFF-PA-10000477</td><td>Xerox 1952</td><td>Paper</td><td>Office Supplies</td><td>Retail CSV</td><td>2024-09-09T19:36:52.229Z</td></tr><tr><td>TEC-PH-10001944</td><td>Wi-Ex zBoost YX540 Cellular Phone Signal Booster</td><td>Phones</td><td>Technology</td><td>Retail CSV</td><td>2024-09-09T19:36:52.229Z</td></tr><tr><td>OFF-BI-10003876</td><td>\"Green Canvas Binder for 8-1/2\"\" x 14\"\" Sheets\"</td><td>Binders</td><td>Office Supplies</td><td>Retail CSV</td><td>2024-09-09T19:36:52.229Z</td></tr><tr><td>FUR-FU-10000397</td><td>Luxo Economy Swing Arm Lamp</td><td>Furnishings</td><td>Furniture</td><td>Retail CSV</td><td>2024-09-09T19:36:52.229Z</td></tr><tr><td>FUR-CH-10001146</td><td>Global Task Chair, Black</td><td>Chairs</td><td>Furniture</td><td>Retail CSV</td><td>2024-09-09T19:36:52.229Z</td></tr><tr><td>TEC-AC-10004761</td><td>Maxell 4.7GB DVD+RW 3/Pack</td><td>Accessories</td><td>Technology</td><td>Retail CSV</td><td>2024-09-09T19:36:52.229Z</td></tr><tr><td>OFF-BI-10003669</td><td>3M Organizer Strips</td><td>Binders</td><td>Office Supplies</td><td>Retail CSV</td><td>2024-09-09T19:36:52.229Z</td></tr><tr><td>FUR-FU-10000719</td><td>DAX Cubicle Frames, 8-1/2 x 11</td><td>Furnishings</td><td>Furniture</td><td>Retail CSV</td><td>2024-09-09T19:36:52.229Z</td></tr><tr><td>FUR-BO-10003893</td><td>Sauder Camden County Collection Library</td><td>Bookcases</td><td>Furniture</td><td>Retail CSV</td><td>2024-09-09T19:36:52.229Z</td></tr><tr><td>TEC-AC-10003870</td><td>Logitech Z-906 Speaker sys - home theater - 5.1-CH</td><td>Accessories</td><td>Technology</td><td>Retail CSV</td><td>2024-09-09T19:36:52.229Z</td></tr><tr><td>FUR-CH-10002335</td><td>Hon GuestStacker Chair</td><td>Chairs</td><td>Furniture</td><td>Retail CSV</td><td>2024-09-09T19:36:52.229Z</td></tr><tr><td>OFF-AR-10003829</td><td>Newell 35</td><td>Art</td><td>Office Supplies</td><td>Retail CSV</td><td>2024-09-09T19:36:52.229Z</td></tr><tr><td>OFF-SU-10001165</td><td>Acme Elite Stainless Steel Scissors</td><td>Supplies</td><td>Office Supplies</td><td>Retail CSV</td><td>2024-09-09T19:36:52.229Z</td></tr><tr><td>FUR-BO-10003159</td><td>Sauder Camden County Collection Libraries, Planked Cherry Finish</td><td>Bookcases</td><td>Furniture</td><td>Retail CSV</td><td>2024-09-09T19:36:52.229Z</td></tr><tr><td>TEC-PH-10004897</td><td>Mediabridge Sport Armband iPhone 5s</td><td>Phones</td><td>Technology</td><td>Retail CSV</td><td>2024-09-09T19:36:52.229Z</td></tr><tr><td>TEC-PH-10002789</td><td>LG Exalt</td><td>Phones</td><td>Technology</td><td>Retail CSV</td><td>2024-09-09T19:36:52.229Z</td></tr><tr><td>TEC-PH-10004875</td><td>PNY Rapid USB Car Charger - Black</td><td>Phones</td><td>Technology</td><td>Retail CSV</td><td>2024-09-09T19:36:52.229Z</td></tr><tr><td>FUR-FU-10001025</td><td>Eldon Imàge Series Desk Accessories, Clear</td><td>Furnishings</td><td>Furniture</td><td>Retail CSV</td><td>2024-09-09T19:36:52.229Z</td></tr><tr><td>TEC-AC-10002370</td><td>Maxell CD-R Discs</td><td>Accessories</td><td>Technology</td><td>Retail CSV</td><td>2024-09-09T19:36:52.229Z</td></tr><tr><td>OFF-AR-10003478</td><td>Avery Hi-Liter EverBold Pen Style Fluorescent Highlighters, 4/Pack</td><td>Art</td><td>Office Supplies</td><td>Retail CSV</td><td>2024-09-09T19:36:52.229Z</td></tr><tr><td>OFF-BI-10002813</td><td>Avery Reinforcements for Hole-Punch Pages</td><td>Binders</td><td>Office Supplies</td><td>Retail CSV</td><td>2024-09-09T19:36:52.229Z</td></tr><tr><td>OFF-BI-10002867</td><td>GBC Recycled Regency Composition Covers</td><td>Binders</td><td>Office Supplies</td><td>Retail CSV</td><td>2024-09-09T19:36:52.229Z</td></tr><tr><td>OFF-FA-10002763</td><td>Advantus Map Pennant Flags and Round Head Tacks</td><td>Fasteners</td><td>Office Supplies</td><td>Retail CSV</td><td>2024-09-09T19:36:52.229Z</td></tr><tr><td>OFF-PA-10000791</td><td>Wirebound Message Books, Four 2 3/4 x 5 Forms per Page, 200 Sets per Book</td><td>Paper</td><td>Office Supplies</td><td>Retail CSV</td><td>2024-09-09T19:36:52.229Z</td></tr><tr><td>FUR-CH-10000749</td><td>Office Star - Ergonomic Mid Back Chair with 2-Way Adjustable Arms</td><td>Chairs</td><td>Furniture</td><td>Retail CSV</td><td>2024-09-09T19:36:52.229Z</td></tr><tr><td>OFF-PA-10001260</td><td>TOPS Money Receipt Book, Consecutively Numbered in Red,</td><td>Paper</td><td>Office Supplies</td><td>Retail CSV</td><td>2024-09-09T19:36:52.229Z</td></tr><tr><td>OFF-BI-10002931</td><td>\"Avery Trapezoid Extra Heavy Duty 4\"\" Binders\"</td><td>Binders</td><td>Office Supplies</td><td>Retail CSV</td><td>2024-09-09T19:36:52.229Z</td></tr><tr><td>OFF-EN-10003001</td><td>Ames Color-File Green Diamond Border X-ray Mailers</td><td>Envelopes</td><td>Office Supplies</td><td>Retail CSV</td><td>2024-09-09T19:36:52.229Z</td></tr><tr><td>OFF-BI-10002954</td><td>Newell 3-Hole Punched Plastic Slotted Magazine Holders for Binders</td><td>Binders</td><td>Office Supplies</td><td>Retail CSV</td><td>2024-09-09T19:36:52.229Z</td></tr><tr><td>TEC-AC-10003433</td><td>Maxell 4.7GB DVD+R 5/Pack</td><td>Accessories</td><td>Technology</td><td>Retail CSV</td><td>2024-09-09T19:36:52.229Z</td></tr><tr><td>TEC-PH-10002645</td><td>LG G2</td><td>Phones</td><td>Technology</td><td>Retail CSV</td><td>2024-09-09T19:36:52.229Z</td></tr><tr><td>OFF-PA-10000157</td><td>Xerox 191</td><td>Paper</td><td>Office Supplies</td><td>Retail CSV</td><td>2024-09-09T19:36:52.229Z</td></tr><tr><td>FUR-CH-10000847</td><td>Global Executive Mid-Back Manager's Chair</td><td>Chairs</td><td>Furniture</td><td>Retail CSV</td><td>2024-09-09T19:36:52.229Z</td></tr><tr><td>OFF-BI-10004965</td><td>Ibico Covers for Plastic or Wire Binding Elements</td><td>Binders</td><td>Office Supplies</td><td>Retail CSV</td><td>2024-09-09T19:36:52.229Z</td></tr><tr><td>FUR-FU-10004415</td><td>Stacking Tray, Side-Loading, Legal, Smoke</td><td>Furnishings</td><td>Furniture</td><td>Retail CSV</td><td>2024-09-09T19:36:52.229Z</td></tr><tr><td>OFF-FA-10004076</td><td>Translucent Push Pins by OIC</td><td>Fasteners</td><td>Office Supplies</td><td>Retail CSV</td><td>2024-09-09T19:36:52.229Z</td></tr><tr><td>OFF-AP-10003842</td><td>Euro-Pro Shark Turbo Vacuum</td><td>Appliances</td><td>Office Supplies</td><td>Retail CSV</td><td>2024-09-09T19:36:52.229Z</td></tr><tr><td>TEC-PH-10003187</td><td>Anker Astro Mini 3000mAh Ultra-Compact Portable Charger</td><td>Phones</td><td>Technology</td><td>Retail CSV</td><td>2024-09-09T19:36:52.229Z</td></tr><tr><td>TEC-PH-10002200</td><td>Aastra 6757i CT Wireless VoIP phone</td><td>Phones</td><td>Technology</td><td>Retail CSV</td><td>2024-09-09T19:36:52.229Z</td></tr><tr><td>OFF-PA-10004996</td><td>\"Speediset Carbonless Redi-Letter 7\"\" x 8 1/2\"\"\"</td><td>Paper</td><td>Office Supplies</td><td>Retail CSV</td><td>2024-09-09T19:36:52.229Z</td></tr><tr><td>OFF-AR-10000588</td><td>Newell 345</td><td>Art</td><td>Office Supplies</td><td>Retail CSV</td><td>2024-09-09T19:36:52.229Z</td></tr><tr><td>OFF-LA-10003510</td><td>Avery 4027 File Folder Labels for Dot Matrix Printers, 5000 Labels per Box, White</td><td>Labels</td><td>Office Supplies</td><td>Retail CSV</td><td>2024-09-09T19:36:52.229Z</td></tr><tr><td>TEC-AC-10002049</td><td>Logitech G19 Programmable Gaming Keyboard</td><td>Accessories</td><td>Technology</td><td>Retail CSV</td><td>2024-09-09T19:36:52.229Z</td></tr><tr><td>TEC-MA-10000112</td><td>Panasonic KX MB2061 Multifunction Printer</td><td>Machines</td><td>Technology</td><td>Retail CSV</td><td>2024-09-09T19:36:52.229Z</td></tr><tr><td>FUR-BO-10003660</td><td>Bush Cubix Collection Bookcases, Fully Assembled</td><td>Bookcases</td><td>Furniture</td><td>Retail CSV</td><td>2024-09-09T19:36:52.229Z</td></tr><tr><td>FUR-FU-10003464</td><td>\"Seth Thomas 8 1/2\"\" Cubicle Clock\"</td><td>Furnishings</td><td>Furniture</td><td>Retail CSV</td><td>2024-09-09T19:36:52.229Z</td></tr><tr><td>OFF-LA-10000407</td><td>Avery White Multi-Purpose Labels</td><td>Labels</td><td>Office Supplies</td><td>Retail CSV</td><td>2024-09-09T19:36:52.229Z</td></tr><tr><td>OFF-SU-10002522</td><td>Acme Kleen Earth Office Shears</td><td>Supplies</td><td>Office Supplies</td><td>Retail CSV</td><td>2024-09-09T19:36:52.229Z</td></tr><tr><td>OFF-BI-10004728</td><td>Wilson Jones Turn Tabs Binder Tool for Ring Binders</td><td>Binders</td><td>Office Supplies</td><td>Retail CSV</td><td>2024-09-09T19:36:52.229Z</td></tr><tr><td>OFF-AR-10003190</td><td>Newell 32</td><td>Art</td><td>Office Supplies</td><td>Retail CSV</td><td>2024-09-09T19:36:52.229Z</td></tr><tr><td>OFF-PA-10003395</td><td>Xerox 1941</td><td>Paper</td><td>Office Supplies</td><td>Retail CSV</td><td>2024-09-09T19:36:52.229Z</td></tr><tr><td>OFF-BI-10003364</td><td>Binding Machine Supplies</td><td>Binders</td><td>Office Supplies</td><td>Retail CSV</td><td>2024-09-09T19:36:52.229Z</td></tr><tr><td>OFF-ST-10004337</td><td>SAFCO Commercial Wire Shelving, 72h</td><td>Storage</td><td>Office Supplies</td><td>Retail CSV</td><td>2024-09-09T19:36:52.229Z</td></tr><tr><td>OFF-BI-10000591</td><td>Avery Binder Labels</td><td>Binders</td><td>Office Supplies</td><td>Retail CSV</td><td>2024-09-09T19:36:52.229Z</td></tr><tr><td>FUR-BO-10004357</td><td>O'Sullivan Living Dimensions 3-Shelf Bookcases</td><td>Bookcases</td><td>Furniture</td><td>Retail CSV</td><td>2024-09-09T19:36:52.229Z</td></tr><tr><td>OFF-ST-10003327</td><td>Akro-Mils 12-Gallon Tote</td><td>Storage</td><td>Office Supplies</td><td>Retail CSV</td><td>2024-09-09T19:36:52.229Z</td></tr><tr><td>OFF-ST-10001526</td><td>Iceberg Mobile Mega Data/Printer Cart </td><td>Storage</td><td>Office Supplies</td><td>Retail CSV</td><td>2024-09-09T19:36:52.229Z</td></tr><tr><td>OFF-LA-10003714</td><td>Avery 510</td><td>Labels</td><td>Office Supplies</td><td>Retail CSV</td><td>2024-09-09T19:36:52.229Z</td></tr><tr><td>OFF-AP-10000692</td><td>Fellowes Mighty 8 Compact Surge Protector</td><td>Appliances</td><td>Office Supplies</td><td>Retail CSV</td><td>2024-09-09T19:36:52.229Z</td></tr><tr><td>TEC-MA-10003356</td><td>Panasonic KX MC6040 Color Laser Multifunction Printer</td><td>Machines</td><td>Technology</td><td>Retail CSV</td><td>2024-09-09T19:36:52.229Z</td></tr><tr><td>OFF-PA-10000697</td><td>TOPS Voice Message Log Book, Flash Format</td><td>Paper</td><td>Office Supplies</td><td>Retail CSV</td><td>2024-09-09T19:36:52.229Z</td></tr><tr><td>OFF-AR-10004010</td><td>Hunt Boston Vacuum Mount KS Pencil Sharpener</td><td>Art</td><td>Office Supplies</td><td>Retail CSV</td><td>2024-09-09T19:36:52.229Z</td></tr><tr><td>OFF-PA-10001736</td><td>Xerox 1880</td><td>Paper</td><td>Office Supplies</td><td>Retail CSV</td><td>2024-09-09T19:36:52.229Z</td></tr><tr><td>OFF-ST-10001228</td><td>Fellowes Personal Hanging Folder Files, Navy</td><td>Storage</td><td>Office Supplies</td><td>Retail CSV</td><td>2024-09-09T19:36:52.229Z</td></tr><tr><td>FUR-FU-10004712</td><td>Westinghouse Mesh Shade Clip-On Gooseneck Lamp, Black</td><td>Furnishings</td><td>Furniture</td><td>Retail CSV</td><td>2024-09-09T19:36:52.229Z</td></tr><tr><td>OFF-SU-10001935</td><td>Staple remover</td><td>Supplies</td><td>Office Supplies</td><td>Retail CSV</td><td>2024-09-09T19:36:52.229Z</td></tr><tr><td>OFF-PA-10002120</td><td>Xerox 1889</td><td>Paper</td><td>Office Supplies</td><td>Retail CSV</td><td>2024-09-09T19:36:52.229Z</td></tr><tr><td>OFF-PA-10004156</td><td>Xerox 188</td><td>Paper</td><td>Office Supplies</td><td>Retail CSV</td><td>2024-09-09T19:36:52.229Z</td></tr><tr><td>OFF-PA-10001685</td><td>Easy-staple paper</td><td>Paper</td><td>Office Supplies</td><td>Retail CSV</td><td>2024-09-09T19:36:52.229Z</td></tr><tr><td>OFF-AR-10001315</td><td>Newell 310</td><td>Art</td><td>Office Supplies</td><td>Retail CSV</td><td>2024-09-09T19:36:52.229Z</td></tr><tr><td>OFF-AR-10000823</td><td>Newell 307</td><td>Art</td><td>Office Supplies</td><td>Retail CSV</td><td>2024-09-09T19:36:52.229Z</td></tr><tr><td>OFF-BI-10002082</td><td>GBC Twin Loop Wire Binding Elements</td><td>Binders</td><td>Office Supplies</td><td>Retail CSV</td><td>2024-09-09T19:36:52.229Z</td></tr><tr><td>FUR-FU-10001085</td><td>3M Polarizing Light Filter Sleeves</td><td>Furnishings</td><td>Furniture</td><td>Retail CSV</td><td>2024-09-09T19:36:52.229Z</td></tr><tr><td>TEC-MA-10003246</td><td>Hewlett-Packard Deskjet D4360 Printer</td><td>Machines</td><td>Technology</td><td>Retail CSV</td><td>2024-09-09T19:36:52.229Z</td></tr><tr><td>TEC-AC-10002647</td><td>Logitech Wireless Boombox Speaker - portable - wireless, wired</td><td>Accessories</td><td>Technology</td><td>Retail CSV</td><td>2024-09-09T19:36:52.229Z</td></tr><tr><td>OFF-ST-10004946</td><td>Desktop 3-Pocket Hot File</td><td>Storage</td><td>Office Supplies</td><td>Retail CSV</td><td>2024-09-09T19:36:52.229Z</td></tr><tr><td>OFF-EN-10002986</td><td>\"#10-4 1/8\"\" x 9 1/2\"\" Premium Diagonal Seam Envelopes\"</td><td>Envelopes</td><td>Office Supplies</td><td>Retail CSV</td><td>2024-09-09T19:36:52.229Z</td></tr><tr><td>FUR-CH-10003396</td><td>Global Deluxe Steno Chair</td><td>Chairs</td><td>Furniture</td><td>Retail CSV</td><td>2024-09-09T19:36:52.229Z</td></tr><tr><td>OFF-ST-10000060</td><td>Fellowes Bankers Box Staxonsteel Drawer File/Stacking System</td><td>Storage</td><td>Office Supplies</td><td>Retail CSV</td><td>2024-09-09T19:36:52.229Z</td></tr><tr><td>FUR-FU-10002885</td><td>Magna Visual Magnetic Picture Hangers</td><td>Furnishings</td><td>Furniture</td><td>Retail CSV</td><td>2024-09-09T19:36:52.229Z</td></tr><tr><td>OFF-EN-10002621</td><td>Staple envelope</td><td>Envelopes</td><td>Office Supplies</td><td>Retail CSV</td><td>2024-09-09T19:36:52.229Z</td></tr><tr><td>OFF-PA-10001776</td><td>\"Wirebound Message Books, Four 2 3/4\"\" x 5\"\" Forms per Page</td><td>Paper</td><td>Office Supplies</td><td>Retail CSV</td><td>2024-09-09T19:36:52.229Z</td></tr><tr><td>OFF-BI-10000829</td><td>Avery Non-Stick Binders</td><td>Binders</td><td>Office Supplies</td><td>Retail CSV</td><td>2024-09-09T19:36:52.229Z</td></tr><tr><td>FUR-TA-10003837</td><td>Anderson Hickey Conga Table Tops & Accessories</td><td>Tables</td><td>Furniture</td><td>Retail CSV</td><td>2024-09-09T19:36:52.229Z</td></tr><tr><td>OFF-PA-10002195</td><td>Xerox 1966</td><td>Paper</td><td>Office Supplies</td><td>Retail CSV</td><td>2024-09-09T19:36:52.229Z</td></tr><tr><td>OFF-PA-10003134</td><td>Xerox 1937</td><td>Paper</td><td>Office Supplies</td><td>Retail CSV</td><td>2024-09-09T19:36:52.229Z</td></tr><tr><td>FUR-FU-10000260</td><td>\"6\"\" Cubicle Wall Clock</td><td>Furnishings</td><td>Furniture</td><td>Retail CSV</td><td>2024-09-09T19:36:52.229Z</td></tr><tr><td>OFF-BI-10004002</td><td>Wilson Jones International Size A4 Ring Binders</td><td>Binders</td><td>Office Supplies</td><td>Retail CSV</td><td>2024-09-09T19:36:52.229Z</td></tr><tr><td>OFF-AR-10003560</td><td>Zebra Zazzle Fluorescent Highlighters</td><td>Art</td><td>Office Supplies</td><td>Retail CSV</td><td>2024-09-09T19:36:52.229Z</td></tr><tr><td>TEC-MA-10003979</td><td>Ativa V4110MDD Micro-Cut Shredder</td><td>Machines</td><td>Technology</td><td>Retail CSV</td><td>2024-09-09T19:36:52.229Z</td></tr><tr><td>TEC-PH-10001061</td><td>Apple iPhone 5C</td><td>Phones</td><td>Technology</td><td>Retail CSV</td><td>2024-09-09T19:36:52.229Z</td></tr><tr><td>OFF-LA-10003121</td><td>Avery 506</td><td>Labels</td><td>Office Supplies</td><td>Retail CSV</td><td>2024-09-09T19:36:52.229Z</td></tr><tr><td>TEC-PH-10000038</td><td>Jawbone MINI JAMBOX Wireless Bluetooth Speaker</td><td>Phones</td><td>Technology</td><td>Retail CSV</td><td>2024-09-09T19:36:52.229Z</td></tr><tr><td>OFF-AP-10000828</td><td>Avanti 4.4 Cu. Ft. Refrigerator</td><td>Appliances</td><td>Office Supplies</td><td>Retail CSV</td><td>2024-09-09T19:36:52.229Z</td></tr><tr><td>OFF-ST-10003470</td><td>Tennsco Snap-Together Open Shelving Units, Starter Sets and Add-On Units</td><td>Storage</td><td>Office Supplies</td><td>Retail CSV</td><td>2024-09-09T19:36:52.229Z</td></tr><tr><td>FUR-FU-10004053</td><td>DAX Two-Tone Silver Metal Document Frame</td><td>Furnishings</td><td>Furniture</td><td>Retail CSV</td><td>2024-09-09T19:36:52.229Z</td></tr><tr><td>OFF-ST-10001713</td><td>Gould Plastics 9-Pocket Panel Bin, 18-3/8w x 5-1/4d x 20-1/2h, Black</td><td>Storage</td><td>Office Supplies</td><td>Retail CSV</td><td>2024-09-09T19:36:52.229Z</td></tr><tr><td>FUR-CH-10002965</td><td>Global Leather Highback Executive Chair with Pneumatic Height Adjustment, Black</td><td>Chairs</td><td>Furniture</td><td>Retail CSV</td><td>2024-09-09T19:36:52.229Z</td></tr><tr><td>TEC-PH-10003645</td><td>Aastra 57i VoIP phone</td><td>Phones</td><td>Technology</td><td>Retail CSV</td><td>2024-09-09T19:36:52.229Z</td></tr><tr><td>TEC-CO-10003236</td><td>Canon Image Class D660 Copier</td><td>Copiers</td><td>Technology</td><td>Retail CSV</td><td>2024-09-09T19:36:52.229Z</td></tr><tr><td>FUR-CH-10002304</td><td>Global Stack Chair without Arms, Black</td><td>Chairs</td><td>Furniture</td><td>Retail CSV</td><td>2024-09-09T19:36:52.229Z</td></tr><tr><td>FUR-CH-10003846</td><td>Hon Valutask Swivel Chairs</td><td>Chairs</td><td>Furniture</td><td>Retail CSV</td><td>2024-09-09T19:36:52.229Z</td></tr><tr><td>OFF-AR-10001725</td><td>Boston Home & Office Model 2000 Electric Pencil Sharpeners</td><td>Art</td><td>Office Supplies</td><td>Retail CSV</td><td>2024-09-09T19:36:52.229Z</td></tr><tr><td>OFF-LA-10004178</td><td>Avery 491</td><td>Labels</td><td>Office Supplies</td><td>Retail CSV</td><td>2024-09-09T19:36:52.229Z</td></tr><tr><td>OFF-EN-10004030</td><td>Convenience Packs of Business Envelopes</td><td>Envelopes</td><td>Office Supplies</td><td>Retail CSV</td><td>2024-09-09T19:36:52.229Z</td></tr><tr><td>TEC-AC-10004901</td><td>Kensington SlimBlade Notebook Wireless Mouse with Nano Receiver </td><td>Accessories</td><td>Technology</td><td>Retail CSV</td><td>2024-09-09T19:36:52.229Z</td></tr><tr><td>OFF-AR-10001988</td><td>Bulldog Table or Wall-Mount Pencil Sharpener</td><td>Art</td><td>Office Supplies</td><td>Retail CSV</td><td>2024-09-09T19:36:52.229Z</td></tr><tr><td>OFF-PA-10004735</td><td>Xerox 1905</td><td>Paper</td><td>Office Supplies</td><td>Retail CSV</td><td>2024-09-09T19:36:52.229Z</td></tr><tr><td>OFF-AP-10003849</td><td>Hoover Shoulder Vac Commercial Portable Vacuum</td><td>Appliances</td><td>Office Supplies</td><td>Retail CSV</td><td>2024-09-09T19:36:52.229Z</td></tr><tr><td>FUR-CH-10002017</td><td>SAFCO Optional Arm Kit for Workspace Cribbage Stacking Chair</td><td>Chairs</td><td>Furniture</td><td>Retail CSV</td><td>2024-09-09T19:36:52.229Z</td></tr><tr><td>OFF-EN-10003286</td><td>Staple envelope</td><td>Envelopes</td><td>Office Supplies</td><td>Retail CSV</td><td>2024-09-09T19:36:52.229Z</td></tr><tr><td>OFF-PA-10000565</td><td>Easy-staple paper</td><td>Paper</td><td>Office Supplies</td><td>Retail CSV</td><td>2024-09-09T19:36:52.229Z</td></tr><tr><td>TEC-PH-10002584</td><td>Samsung Galaxy S4</td><td>Phones</td><td>Technology</td><td>Retail CSV</td><td>2024-09-09T19:36:52.229Z</td></tr><tr><td>TEC-PH-10002817</td><td>RCA ViSYS 25425RE1 Corded phone</td><td>Phones</td><td>Technology</td><td>Retail CSV</td><td>2024-09-09T19:36:52.229Z</td></tr><tr><td>TEC-AC-10001552</td><td>Logitech K350 2.4Ghz Wireless Keyboard</td><td>Accessories</td><td>Technology</td><td>Retail CSV</td><td>2024-09-09T19:36:52.229Z</td></tr><tr><td>OFF-BI-10004995</td><td>GBC DocuBind P400 Electric Binding System</td><td>Binders</td><td>Office Supplies</td><td>Retail CSV</td><td>2024-09-09T19:36:52.229Z</td></tr><tr><td>FUR-CH-10000225</td><td>Global Geo Office Task Chair, Gray</td><td>Chairs</td><td>Furniture</td><td>Retail CSV</td><td>2024-09-09T19:36:52.229Z</td></tr><tr><td>OFF-BI-10001098</td><td>Acco D-Ring Binder w/DublLock</td><td>Binders</td><td>Office Supplies</td><td>Retail CSV</td><td>2024-09-09T19:36:52.229Z</td></tr><tr><td>FUR-BO-10004218</td><td>Bush Heritage Pine Collection 5-Shelf Bookcase, Albany Pine Finish, *Special Order</td><td>Bookcases</td><td>Furniture</td><td>Retail CSV</td><td>2024-09-09T19:36:52.229Z</td></tr><tr><td>OFF-PA-10000295</td><td>Xerox 229</td><td>Paper</td><td>Office Supplies</td><td>Retail CSV</td><td>2024-09-09T19:36:52.229Z</td></tr><tr><td>OFF-PA-10001837</td><td>Xerox 1976</td><td>Paper</td><td>Office Supplies</td><td>Retail CSV</td><td>2024-09-09T19:36:52.229Z</td></tr><tr><td>OFF-AP-10003099</td><td>Eureka Hand Vacuum, Bagless</td><td>Appliances</td><td>Office Supplies</td><td>Retail CSV</td><td>2024-09-09T19:36:52.229Z</td></tr><tr><td>OFF-AR-10002833</td><td>Newell 322</td><td>Art</td><td>Office Supplies</td><td>Retail CSV</td><td>2024-09-09T19:36:52.229Z</td></tr><tr><td>FUR-CH-10003061</td><td>Global Leather Task Chair, Black</td><td>Chairs</td><td>Furniture</td><td>Retail CSV</td><td>2024-09-09T19:36:52.229Z</td></tr><tr><td>OFF-LA-10000134</td><td>Avery 511</td><td>Labels</td><td>Office Supplies</td><td>Retail CSV</td><td>2024-09-09T19:36:52.229Z</td></tr><tr><td>OFF-PA-10002036</td><td>Xerox 1930</td><td>Paper</td><td>Office Supplies</td><td>Retail CSV</td><td>2024-09-09T19:36:52.229Z</td></tr><tr><td>OFF-AR-10004022</td><td>Panasonic KP-380BK Classic Electric Pencil Sharpener</td><td>Art</td><td>Office Supplies</td><td>Retail CSV</td><td>2024-09-09T19:36:52.229Z</td></tr><tr><td>OFF-PA-10000809</td><td>Xerox 206</td><td>Paper</td><td>Office Supplies</td><td>Retail CSV</td><td>2024-09-09T19:36:52.229Z</td></tr><tr><td>FUR-TA-10004767</td><td>Safco Drafting Table</td><td>Tables</td><td>Furniture</td><td>Retail CSV</td><td>2024-09-09T19:36:52.229Z</td></tr><tr><td>TEC-PH-10004345</td><td>Cisco SPA 502G IP Phone</td><td>Phones</td><td>Technology</td><td>Retail CSV</td><td>2024-09-09T19:36:52.229Z</td></tr><tr><td>FUR-FU-10004671</td><td>\"Executive Impressions 12\"\" Wall Clock\"</td><td>Furnishings</td><td>Furniture</td><td>Retail CSV</td><td>2024-09-09T19:36:52.229Z</td></tr><tr><td>OFF-ST-10000107</td><td>Fellowes Super Stor/Drawer</td><td>Storage</td><td>Office Supplies</td><td>Retail CSV</td><td>2024-09-09T19:36:52.229Z</td></tr><tr><td>TEC-CO-10001449</td><td>Hewlett Packard LaserJet 3310 Copier</td><td>Copiers</td><td>Technology</td><td>Retail CSV</td><td>2024-09-09T19:36:52.229Z</td></tr><tr><td>TEC-PH-10000702</td><td>\"Square Credit Card Reader, 4 1/2\"\" x 4 1/2\"\" x 1\"\"</td><td>Phones</td><td>Technology</td><td>Retail CSV</td><td>2024-09-09T19:36:52.229Z</td></tr><tr><td>OFF-ST-10003306</td><td>Letter Size Cart</td><td>Storage</td><td>Office Supplies</td><td>Retail CSV</td><td>2024-09-09T19:36:52.229Z</td></tr><tr><td>OFF-AP-10001271</td><td>Eureka The Boss Cordless Rechargeable Stick Vac</td><td>Appliances</td><td>Office Supplies</td><td>Retail CSV</td><td>2024-09-09T19:36:52.229Z</td></tr><tr><td>FUR-BO-10004409</td><td>Safco Value Mate Series Steel Bookcases, Baked Enamel Finish on Steel, Gray</td><td>Bookcases</td><td>Furniture</td><td>Retail CSV</td><td>2024-09-09T19:36:52.229Z</td></tr><tr><td>OFF-BI-10000014</td><td>Heavy-Duty E-Z-D Binders</td><td>Binders</td><td>Office Supplies</td><td>Retail CSV</td><td>2024-09-09T19:36:52.229Z</td></tr><tr><td>OFF-FA-10002280</td><td>Advantus Plastic Paper Clips</td><td>Fasteners</td><td>Office Supplies</td><td>Retail CSV</td><td>2024-09-09T19:36:52.229Z</td></tr><tr><td>TEC-PH-10003505</td><td>Geemarc AmpliPOWER60</td><td>Phones</td><td>Technology</td><td>Retail CSV</td><td>2024-09-09T19:36:52.229Z</td></tr><tr><td>OFF-FA-10003021</td><td>Staples</td><td>Fasteners</td><td>Office Supplies</td><td>Retail CSV</td><td>2024-09-09T19:36:52.229Z</td></tr><tr><td>OFF-FA-10000936</td><td>Acco Hot Clips Clips to Go</td><td>Fasteners</td><td>Office Supplies</td><td>Retail CSV</td><td>2024-09-09T19:36:52.229Z</td></tr><tr><td>OFF-PA-10000726</td><td>\"Black Print Carbonless Snap-Off Rapid Letter, 8 1/2\"\" x 7\"\"\"</td><td>Paper</td><td>Office Supplies</td><td>Retail CSV</td><td>2024-09-09T19:36:52.229Z</td></tr><tr><td>TEC-PH-10002350</td><td>Apple EarPods with Remote and Mic</td><td>Phones</td><td>Technology</td><td>Retail CSV</td><td>2024-09-09T19:36:52.229Z</td></tr><tr><td>OFF-AP-10000595</td><td>Disposable Triple-Filter Dust Bags</td><td>Appliances</td><td>Office Supplies</td><td>Retail CSV</td><td>2024-09-09T19:36:52.229Z</td></tr><tr><td>FUR-CH-10000454</td><td>Hon Deluxe Fabric Upholstered Stacking Chairs, Rounded Back</td><td>Chairs</td><td>Furniture</td><td>Retail CSV</td><td>2024-09-09T19:36:52.229Z</td></tr><tr><td>TEC-AC-10003499</td><td>Memorex Mini Travel Drive 8 GB USB 2.0 Flash Drive</td><td>Accessories</td><td>Technology</td><td>Retail CSV</td><td>2024-09-09T19:36:52.229Z</td></tr><tr><td>OFF-BI-10001543</td><td>GBC VeloBinder Manual Binding System</td><td>Binders</td><td>Office Supplies</td><td>Retail CSV</td><td>2024-09-09T19:36:52.229Z</td></tr><tr><td>FUR-TA-10002530</td><td>\"Iceberg OfficeWorks 42\"\" Round Tables\"</td><td>Tables</td><td>Furniture</td><td>Retail CSV</td><td>2024-09-09T19:36:52.229Z</td></tr><tr><td>TEC-PH-10003811</td><td>Jabra Supreme Plus Driver Edition Headset</td><td>Phones</td><td>Technology</td><td>Retail CSV</td><td>2024-09-09T19:36:52.229Z</td></tr><tr><td>FUR-FU-10001546</td><td>Dana Swing-Arm Lamps</td><td>Furnishings</td><td>Furniture</td><td>Retail CSV</td><td>2024-09-09T19:36:52.229Z</td></tr><tr><td>OFF-EN-10001453</td><td>\"Tyvek Interoffice Envelopes, 9 1/2\"\" x 12 1/2\"\"</td><td>Envelopes</td><td>Office Supplies</td><td>Retail CSV</td><td>2024-09-09T19:36:52.229Z</td></tr><tr><td>FUR-TA-10003748</td><td>Bevis 36 x 72 Conference Tables</td><td>Tables</td><td>Furniture</td><td>Retail CSV</td><td>2024-09-09T19:36:52.229Z</td></tr><tr><td>OFF-EN-10000483</td><td>White Envelopes, White Envelopes with Clear Poly Window</td><td>Envelopes</td><td>Office Supplies</td><td>Retail CSV</td><td>2024-09-09T19:36:52.229Z</td></tr><tr><td>TEC-AC-10004571</td><td>Logitech G700s Rechargeable Gaming Mouse</td><td>Accessories</td><td>Technology</td><td>Retail CSV</td><td>2024-09-09T19:36:52.229Z</td></tr><tr><td>OFF-ST-10002743</td><td>SAFCO Boltless Steel Shelving</td><td>Storage</td><td>Office Supplies</td><td>Retail CSV</td><td>2024-09-09T19:36:52.229Z</td></tr><tr><td>OFF-BI-10002103</td><td>Cardinal Slant-D Ring Binder, Heavy Gauge Vinyl</td><td>Binders</td><td>Office Supplies</td><td>Retail CSV</td><td>2024-09-09T19:36:52.229Z</td></tr><tr><td>OFF-ST-10000344</td><td>Neat Ideas Personal Hanging Folder Files, Black</td><td>Storage</td><td>Office Supplies</td><td>Retail CSV</td><td>2024-09-09T19:36:52.229Z</td></tr><tr><td>OFF-BI-10002353</td><td>GBC VeloBind Cover Sets</td><td>Binders</td><td>Office Supplies</td><td>Retail CSV</td><td>2024-09-09T19:36:52.229Z</td></tr><tr><td>OFF-PA-10000327</td><td>Xerox 1971</td><td>Paper</td><td>Office Supplies</td><td>Retail CSV</td><td>2024-09-09T19:36:52.229Z</td></tr><tr><td>TEC-PH-10002415</td><td>Polycom VoiceStation 500 Conference phone</td><td>Phones</td><td>Technology</td><td>Retail CSV</td><td>2024-09-09T19:36:52.229Z</td></tr><tr><td>OFF-LA-10004677</td><td>Self-Adhesive Address Labels for Typewriters with Dispenser Box</td><td>Labels</td><td>Office Supplies</td><td>Retail CSV</td><td>2024-09-09T19:36:52.229Z</td></tr><tr><td>OFF-PA-10000482</td><td>Snap-A-Way Black Print Carbonless Ruled Speed Letter, Triplicate</td><td>Paper</td><td>Office Supplies</td><td>Retail CSV</td><td>2024-09-09T19:36:52.229Z</td></tr><tr><td>OFF-ST-10000689</td><td>Fellowes Strictly Business Drawer File, Letter/Legal Size</td><td>Storage</td><td>Office Supplies</td><td>Retail CSV</td><td>2024-09-09T19:36:52.229Z</td></tr><tr><td>TEC-AC-10001432</td><td>Enermax Aurora Lite Keyboard</td><td>Accessories</td><td>Technology</td><td>Retail CSV</td><td>2024-09-09T19:36:52.229Z</td></tr><tr><td>OFF-BI-10001628</td><td>\"Acco Data Flex Cable Posts For Top & Bottom Load Binders, 6\"\" Capacity\"</td><td>Binders</td><td>Office Supplies</td><td>Retail CSV</td><td>2024-09-09T19:36:52.229Z</td></tr><tr><td>TEC-PH-10001305</td><td>Panasonic KX TS208W Corded phone</td><td>Phones</td><td>Technology</td><td>Retail CSV</td><td>2024-09-09T19:36:52.229Z</td></tr><tr><td>TEC-PH-10001468</td><td>Panasonic Business Telephones KX-T7736</td><td>Phones</td><td>Technology</td><td>Retail CSV</td><td>2024-09-09T19:36:52.229Z</td></tr><tr><td>OFF-ST-10000760</td><td>Eldon Fold 'N Roll Cart System</td><td>Storage</td><td>Office Supplies</td><td>Retail CSV</td><td>2024-09-09T19:36:52.229Z</td></tr><tr><td>OFF-AP-10002311</td><td>Holmes Replacement Filter for HEPA Air Cleaner, Very Large Room, HEPA Filter</td><td>Appliances</td><td>Office Supplies</td><td>Retail CSV</td><td>2024-09-09T19:36:52.229Z</td></tr><tr><td>OFF-BI-10000831</td><td>Storex Flexible Poly Binders with Double Pockets</td><td>Binders</td><td>Office Supplies</td><td>Retail CSV</td><td>2024-09-09T19:36:52.229Z</td></tr><tr><td>TEC-PH-10003555</td><td>Motorola HK250 Universal Bluetooth Headset</td><td>Phones</td><td>Technology</td><td>Retail CSV</td><td>2024-09-09T19:36:52.229Z</td></tr><tr><td>OFF-EN-10002230</td><td>Airmail Envelopes</td><td>Envelopes</td><td>Office Supplies</td><td>Retail CSV</td><td>2024-09-09T19:36:52.229Z</td></tr><tr><td>TEC-PH-10002923</td><td>Logitech B530 USB Headset - headset - Full size, Binaural</td><td>Phones</td><td>Technology</td><td>Retail CSV</td><td>2024-09-09T19:36:52.229Z</td></tr><tr><td>FUR-BO-10003441</td><td>Bush Westfield Collection Bookcases, Fully Assembled</td><td>Bookcases</td><td>Furniture</td><td>Retail CSV</td><td>2024-09-09T19:36:52.229Z</td></tr><tr><td>OFF-BI-10003727</td><td>Avery Durable Slant Ring Binders With Label Holder</td><td>Binders</td><td>Office Supplies</td><td>Retail CSV</td><td>2024-09-09T19:36:52.229Z</td></tr><tr><td>FUR-FU-10003691</td><td>Eldon Image Series Desk Accessories, Ebony</td><td>Furnishings</td><td>Furniture</td><td>Retail CSV</td><td>2024-09-09T19:36:52.229Z</td></tr><tr><td>TEC-PH-10003437</td><td>Blue Parrot B250XT Professional Grade Wireless Bluetooth Headset with</td><td>Phones</td><td>Technology</td><td>Retail CSV</td><td>2024-09-09T19:36:52.229Z</td></tr><tr><td>OFF-EN-10000781</td><td>\"#10- 4 1/8\"\" x 9 1/2\"\" Recycled Envelopes\"</td><td>Envelopes</td><td>Office Supplies</td><td>Retail CSV</td><td>2024-09-09T19:36:52.229Z</td></tr><tr><td>OFF-AP-10002534</td><td>3.6 Cubic Foot Counter Height Office Refrigerator</td><td>Appliances</td><td>Office Supplies</td><td>Retail CSV</td><td>2024-09-09T19:36:52.229Z</td></tr><tr><td>OFF-BI-10002799</td><td>SlimView Poly Binder, 3/8\"\"</td><td>Binders</td><td>Office Supplies</td><td>Retail CSV</td><td>2024-09-09T19:36:52.229Z</td></tr><tr><td>TEC-AC-10004859</td><td>Maxell Pro 80 Minute CD-R, 10/Pack</td><td>Accessories</td><td>Technology</td><td>Retail CSV</td><td>2024-09-09T19:36:52.229Z</td></tr><tr><td>OFF-LA-10003720</td><td>Avery 487</td><td>Labels</td><td>Office Supplies</td><td>Retail CSV</td><td>2024-09-09T19:36:52.229Z</td></tr><tr><td>OFF-AR-10001761</td><td>Avery Hi-Liter Smear-Safe Highlighters</td><td>Art</td><td>Office Supplies</td><td>Retail CSV</td><td>2024-09-09T19:36:52.229Z</td></tr><tr><td>OFF-PA-10001826</td><td>Xerox 207</td><td>Paper</td><td>Office Supplies</td><td>Retail CSV</td><td>2024-09-09T19:36:52.229Z</td></tr><tr><td>OFF-LA-10004544</td><td>Avery 505</td><td>Labels</td><td>Office Supplies</td><td>Retail CSV</td><td>2024-09-09T19:36:52.229Z</td></tr><tr><td>FUR-TA-10001705</td><td>Bush Advantage Collection Round Conference Table</td><td>Tables</td><td>Furniture</td><td>Retail CSV</td><td>2024-09-09T19:36:52.229Z</td></tr><tr><td>OFF-PA-10004530</td><td>Personal Creations Ink Jet Cards and Labels</td><td>Paper</td><td>Office Supplies</td><td>Retail CSV</td><td>2024-09-09T19:36:52.229Z</td></tr><tr><td>FUR-FU-10001940</td><td>Staple-based wall hangings</td><td>Furnishings</td><td>Furniture</td><td>Retail CSV</td><td>2024-09-09T19:36:52.229Z</td></tr><tr><td>TEC-AC-10003447</td><td>Micropad Numeric Keypads</td><td>Accessories</td><td>Technology</td><td>Retail CSV</td><td>2024-09-09T19:36:52.229Z</td></tr><tr><td>OFF-AR-10002952</td><td>Stanley Contemporary Battery Pencil Sharpeners</td><td>Art</td><td>Office Supplies</td><td>Retail CSV</td><td>2024-09-09T19:36:52.229Z</td></tr><tr><td>FUR-FU-10002501</td><td>Nu-Dell Executive Frame</td><td>Furnishings</td><td>Furniture</td><td>Retail CSV</td><td>2024-09-09T19:36:52.229Z</td></tr><tr><td>TEC-PH-10004434</td><td>Cisco IP Phone 7961G VoIP phone - Dark gray</td><td>Phones</td><td>Technology</td><td>Retail CSV</td><td>2024-09-09T19:36:52.229Z</td></tr><tr><td>OFF-AP-10003622</td><td>Bravo II Megaboss 12-Amp Hard Body Upright, Replacement Belts, 2 Belts per Pack</td><td>Appliances</td><td>Office Supplies</td><td>Retail CSV</td><td>2024-09-09T19:36:52.229Z</td></tr><tr><td>FUR-FU-10001756</td><td>Eldon Expressions Desk Accessory, Wood Photo Frame, Mahogany</td><td>Furnishings</td><td>Furniture</td><td>Retail CSV</td><td>2024-09-09T19:36:52.229Z</td></tr><tr><td>OFF-BI-10001670</td><td>Vinyl Sectional Post Binders</td><td>Binders</td><td>Office Supplies</td><td>Retail CSV</td><td>2024-09-09T19:36:52.229Z</td></tr><tr><td>OFF-BI-10001765</td><td>Wilson Jones Heavy-Duty Casebound Ring Binders with Metal Hinges</td><td>Binders</td><td>Office Supplies</td><td>Retail CSV</td><td>2024-09-09T19:36:52.229Z</td></tr><tr><td>OFF-LA-10000443</td><td>Avery 501</td><td>Labels</td><td>Office Supplies</td><td>Retail CSV</td><td>2024-09-09T19:36:52.229Z</td></tr><tr><td>FUR-FU-10002107</td><td>Eldon Pizzaz Desk Accessories</td><td>Furnishings</td><td>Furniture</td><td>Retail CSV</td><td>2024-09-09T19:36:52.229Z</td></tr><tr><td>FUR-FU-10004909</td><td>Contemporary Wood/Metal Frame</td><td>Furnishings</td><td>Furniture</td><td>Retail CSV</td><td>2024-09-09T19:36:52.229Z</td></tr><tr><td>OFF-BI-10000174</td><td>Wilson Jones Clip & Carry Folder Binder Tool for Ring Binders, Clear</td><td>Binders</td><td>Office Supplies</td><td>Retail CSV</td><td>2024-09-09T19:36:52.229Z</td></tr><tr><td>OFF-PA-10003363</td><td>Xerox 204</td><td>Paper</td><td>Office Supplies</td><td>Retail CSV</td><td>2024-09-09T19:36:52.229Z</td></tr><tr><td>OFF-AR-10002467</td><td>Dixon Ticonderoga Pencils</td><td>Art</td><td>Office Supplies</td><td>Retail CSV</td><td>2024-09-09T19:36:52.229Z</td></tr><tr><td>FUR-TA-10004289</td><td>BoxOffice By Design Rectangular and Half-Moon Meeting Room Tables</td><td>Tables</td><td>Furniture</td><td>Retail CSV</td><td>2024-09-09T19:36:52.229Z</td></tr><tr><td>OFF-AR-10000034</td><td>BIC Brite Liner Grip Highlighters, Assorted, 5/Pack</td><td>Art</td><td>Office Supplies</td><td>Retail CSV</td><td>2024-09-09T19:36:52.229Z</td></tr><tr><td>OFF-AR-10000716</td><td>DIXON Ticonderoga Erasable Checking Pencils</td><td>Art</td><td>Office Supplies</td><td>Retail CSV</td><td>2024-09-09T19:36:52.229Z</td></tr><tr><td>OFF-ST-10000676</td><td>Fellowes Econo/Stor Drawers</td><td>Storage</td><td>Office Supplies</td><td>Retail CSV</td><td>2024-09-09T19:36:52.229Z</td></tr><tr><td>OFF-AP-10000159</td><td>Belkin F9M820V08 8 Outlet Surge</td><td>Appliances</td><td>Office Supplies</td><td>Retail CSV</td><td>2024-09-09T19:36:52.229Z</td></tr><tr><td>OFF-PA-10004948</td><td>Xerox 190</td><td>Paper</td><td>Office Supplies</td><td>Retail CSV</td><td>2024-09-09T19:36:52.229Z</td></tr><tr><td>TEC-PH-10004094</td><td>Motorola L703CM</td><td>Phones</td><td>Technology</td><td>Retail CSV</td><td>2024-09-09T19:36:52.229Z</td></tr><tr><td>OFF-AP-10004487</td><td>Kensington 4 Outlet MasterPiece Compact Power Control Center</td><td>Appliances</td><td>Office Supplies</td><td>Retail CSV</td><td>2024-09-09T19:36:52.229Z</td></tr><tr><td>TEC-PH-10000148</td><td>Cyber Acoustics AC-202b Speech Recognition Stereo Headset</td><td>Phones</td><td>Technology</td><td>Retail CSV</td><td>2024-09-09T19:36:52.229Z</td></tr><tr><td>OFF-AR-10000422</td><td>Pencil and Crayon Sharpener</td><td>Art</td><td>Office Supplies</td><td>Retail CSV</td><td>2024-09-09T19:36:52.229Z</td></tr><tr><td>FUR-FU-10003981</td><td>Eldon Wave Desk Accessories</td><td>Furnishings</td><td>Furniture</td><td>Retail CSV</td><td>2024-09-09T19:36:52.229Z</td></tr><tr><td>TEC-PH-10001079</td><td>Polycom SoundPoint Pro SE-225 Corded phone</td><td>Phones</td><td>Technology</td><td>Retail CSV</td><td>2024-09-09T19:36:52.229Z</td></tr><tr><td>OFF-BI-10001553</td><td>SpineVue Locking Slant-D Ring Binders by Cardinal</td><td>Binders</td><td>Office Supplies</td><td>Retail CSV</td><td>2024-09-09T19:36:52.229Z</td></tr><tr><td>FUR-FU-10001979</td><td>Dana Halogen Swing-Arm Architect Lamp</td><td>Furnishings</td><td>Furniture</td><td>Retail CSV</td><td>2024-09-09T19:36:52.229Z</td></tr><tr><td>OFF-BI-10000848</td><td>Angle-D Ring Binders</td><td>Binders</td><td>Office Supplies</td><td>Retail CSV</td><td>2024-09-09T19:36:52.229Z</td></tr><tr><td>OFF-BI-10002824</td><td>Recycled Easel Ring Binders</td><td>Binders</td><td>Office Supplies</td><td>Retail CSV</td><td>2024-09-09T19:36:52.229Z</td></tr><tr><td>FUR-FU-10003975</td><td>Eldon Advantage Chair Mats for Low to Medium Pile Carpets</td><td>Furnishings</td><td>Furniture</td><td>Retail CSV</td><td>2024-09-09T19:36:52.229Z</td></tr><tr><td>TEC-PH-10002468</td><td>Plantronics CS 50-USB - headset - Convertible, Monaural</td><td>Phones</td><td>Technology</td><td>Retail CSV</td><td>2024-09-09T19:36:52.229Z</td></tr><tr><td>TEC-AC-10000199</td><td>Kingston Digital DataTraveler 8GB USB 2.0</td><td>Accessories</td><td>Technology</td><td>Retail CSV</td><td>2024-09-09T19:36:52.229Z</td></tr><tr><td>TEC-PH-10004522</td><td>Dexim XPower Skin Super-Thin Power Case for iPhone 5 - Black</td><td>Phones</td><td>Technology</td><td>Retail CSV</td><td>2024-09-09T19:36:52.229Z</td></tr><tr><td>OFF-AP-10001634</td><td>Hoover Commercial Lightweight Upright Vacuum</td><td>Appliances</td><td>Office Supplies</td><td>Retail CSV</td><td>2024-09-09T19:36:52.229Z</td></tr><tr><td>OFF-SU-10002189</td><td>Acme Rosewood Handle Letter Opener</td><td>Supplies</td><td>Office Supplies</td><td>Retail CSV</td><td>2024-09-09T19:36:52.229Z</td></tr><tr><td>TEC-PH-10001700</td><td>Panasonic KX-TG6844B Expandable Digital Cordless Telephone</td><td>Phones</td><td>Technology</td><td>Retail CSV</td><td>2024-09-09T19:36:52.229Z</td></tr><tr><td>FUR-FU-10000087</td><td>\"Executive Impressions 14\"\" Two-Color Numerals Wall Clock\"</td><td>Furnishings</td><td>Furniture</td><td>Retail CSV</td><td>2024-09-09T19:36:52.229Z</td></tr><tr><td>OFF-AR-10002399</td><td>Dixon Prang Watercolor Pencils, 10-Color Set with Brush</td><td>Art</td><td>Office Supplies</td><td>Retail CSV</td><td>2024-09-09T19:36:52.229Z</td></tr><tr><td>FUR-TA-10000617</td><td>Hon Practical Foundations 30 x 60 Training Table, Light Gray/Charcoal</td><td>Tables</td><td>Furniture</td><td>Retail CSV</td><td>2024-09-09T19:36:52.229Z</td></tr><tr><td>OFF-ST-10002444</td><td>Recycled Eldon Regeneration Jumbo File</td><td>Storage</td><td>Office Supplies</td><td>Retail CSV</td><td>2024-09-09T19:36:52.229Z</td></tr><tr><td>OFF-ST-10003722</td><td>Project Tote Personal File</td><td>Storage</td><td>Office Supplies</td><td>Retail CSV</td><td>2024-09-09T19:36:52.229Z</td></tr><tr><td>OFF-EN-10003134</td><td>Staple envelope</td><td>Envelopes</td><td>Office Supplies</td><td>Retail CSV</td><td>2024-09-09T19:36:52.229Z</td></tr><tr><td>OFF-PA-10000533</td><td>Southworth Parchment Paper & Envelopes</td><td>Paper</td><td>Office Supplies</td><td>Retail CSV</td><td>2024-09-09T19:36:52.229Z</td></tr><tr><td>FUR-FU-10004748</td><td>\"Howard Miller 16\"\" Diameter Gallery Wall Clock\"</td><td>Furnishings</td><td>Furniture</td><td>Retail CSV</td><td>2024-09-09T19:36:52.229Z</td></tr><tr><td>FUR-BO-10003404</td><td>Global Adaptabilites Bookcase, Cherry/Storm Gray Finish</td><td>Bookcases</td><td>Furniture</td><td>Retail CSV</td><td>2024-09-09T19:36:52.229Z</td></tr><tr><td>OFF-ST-10001034</td><td>Eldon File Chest Portable File</td><td>Storage</td><td>Office Supplies</td><td>Retail CSV</td><td>2024-09-09T19:36:52.229Z</td></tr><tr><td>OFF-BI-10002225</td><td>\"Square Ring Data Binders, Rigid 75 Pt. Covers, 11\"\" x 14-7/8\"\"\"</td><td>Binders</td><td>Office Supplies</td><td>Retail CSV</td><td>2024-09-09T19:36:52.229Z</td></tr><tr><td>OFF-ST-10000142</td><td>Deluxe Rollaway Locking File with Drawer</td><td>Storage</td><td>Office Supplies</td><td>Retail CSV</td><td>2024-09-09T19:36:52.229Z</td></tr><tr><td>TEC-PH-10000149</td><td>Cisco SPA525G2 IP Phone - Wireless</td><td>Phones</td><td>Technology</td><td>Retail CSV</td><td>2024-09-09T19:36:52.229Z</td></tr><tr><td>TEC-AC-10001267</td><td>Imation 32GB Pocket Pro USB 3.0 Flash Drive - 32 GB - Black - 1 P ...</td><td>Accessories</td><td>Technology</td><td>Retail CSV</td><td>2024-09-09T19:36:52.229Z</td></tr><tr><td>OFF-BI-10003350</td><td>Acco Expandable Hanging Binders</td><td>Binders</td><td>Office Supplies</td><td>Retail CSV</td><td>2024-09-09T19:36:52.229Z</td></tr><tr><td>FUR-FU-10001852</td><td>Eldon Regeneration Recycled Desk Accessories, Smoke</td><td>Furnishings</td><td>Furniture</td><td>Retail CSV</td><td>2024-09-09T19:36:52.229Z</td></tr><tr><td>OFF-BI-10002976</td><td>ACCOHIDE Binder by Acco</td><td>Binders</td><td>Office Supplies</td><td>Retail CSV</td><td>2024-09-09T19:36:52.229Z</td></tr><tr><td>OFF-PA-10003893</td><td>Xerox 1962</td><td>Paper</td><td>Office Supplies</td><td>Retail CSV</td><td>2024-09-09T19:36:52.229Z</td></tr><tr><td>OFF-PA-10000659</td><td>TOPS Carbonless Receipt Book, Four 2-3/4 x 7-1/4 Money Receipts per Page</td><td>Paper</td><td>Office Supplies</td><td>Retail CSV</td><td>2024-09-09T19:36:52.229Z</td></tr><tr><td>FUR-FU-10000409</td><td>GE 4 Foot Flourescent Tube, 40 Watt</td><td>Furnishings</td><td>Furniture</td><td>Retail CSV</td><td>2024-09-09T19:36:52.229Z</td></tr><tr><td>OFF-PA-10004381</td><td>14-7/8 x 11 Blue Bar Computer Printout Paper</td><td>Paper</td><td>Office Supplies</td><td>Retail CSV</td><td>2024-09-09T19:36:52.229Z</td></tr><tr><td>TEC-MA-10000752</td><td>Texas Instrument TI-15 Fraction Calculator</td><td>Machines</td><td>Technology</td><td>Retail CSV</td><td>2024-09-09T19:36:52.229Z</td></tr><tr><td>TEC-AC-10002167</td><td>Imation 8gb Micro Traveldrive Usb 2.0 Flash Drive</td><td>Accessories</td><td>Technology</td><td>Retail CSV</td><td>2024-09-09T19:36:52.229Z</td></tr><tr><td>OFF-FA-10000304</td><td>Advantus Push Pins</td><td>Fasteners</td><td>Office Supplies</td><td>Retail CSV</td><td>2024-09-09T19:36:52.229Z</td></tr><tr><td>OFF-BI-10004182</td><td>Economy Binders</td><td>Binders</td><td>Office Supplies</td><td>Retail CSV</td><td>2024-09-09T19:36:52.229Z</td></tr><tr><td>OFF-AP-10002118</td><td>\"1.7 Cubic Foot Compact \"\"Cube\"\" Office Refrigerators\"</td><td>Appliances</td><td>Office Supplies</td><td>Retail CSV</td><td>2024-09-09T19:36:52.229Z</td></tr><tr><td>OFF-ST-10000642</td><td>Tennsco Lockers, Gray</td><td>Storage</td><td>Office Supplies</td><td>Retail CSV</td><td>2024-09-09T19:36:52.229Z</td></tr><tr><td>OFF-AR-10001374</td><td>BIC Brite Liner Highlighters, Chisel Tip</td><td>Art</td><td>Office Supplies</td><td>Retail CSV</td><td>2024-09-09T19:36:52.229Z</td></tr><tr><td>FUR-BO-10001601</td><td>Sauder Mission Library with Doors, Fruitwood Finish</td><td>Bookcases</td><td>Furniture</td><td>Retail CSV</td><td>2024-09-09T19:36:52.229Z</td></tr><tr><td>TEC-AC-10001465</td><td>SanDisk Cruzer 64 GB USB Flash Drive</td><td>Accessories</td><td>Technology</td><td>Retail CSV</td><td>2024-09-09T19:36:52.229Z</td></tr><tr><td>OFF-PA-10002377</td><td>\"Adams Telephone Message Book W/Dividers/Space For Phone Numbers, 5 1/4\"\"X8 1/2\"\"</td><td>Paper</td><td>Office Supplies</td><td>Retail CSV</td><td>2024-09-09T19:36:52.229Z</td></tr><tr><td>OFF-EN-10001099</td><td>Staple envelope</td><td>Envelopes</td><td>Office Supplies</td><td>Retail CSV</td><td>2024-09-09T19:36:52.229Z</td></tr><tr><td>FUR-FU-10003601</td><td>Deflect-o RollaMat Studded, Beveled Mat for Medium Pile Carpeting</td><td>Furnishings</td><td>Furniture</td><td>Retail CSV</td><td>2024-09-09T19:36:52.229Z</td></tr><tr><td>FUR-TA-10003569</td><td>Bretford CR8500 Series Meeting Room Furniture</td><td>Tables</td><td>Furniture</td><td>Retail CSV</td><td>2024-09-09T19:36:52.229Z</td></tr><tr><td>TEC-PH-10003601</td><td>Ativa D5772 2-Line 5.8GHz Digital Expandable Corded/Cordless Phone System with Answering & Caller ID/Call Waiting, Black/Silver</td><td>Phones</td><td>Technology</td><td>Retail CSV</td><td>2024-09-09T19:36:52.229Z</td></tr><tr><td>TEC-PH-10003484</td><td>Ooma Telo VoIP Home Phone System</td><td>Phones</td><td>Technology</td><td>Retail CSV</td><td>2024-09-09T19:36:52.229Z</td></tr><tr><td>OFF-BI-10004318</td><td>Ibico EB-19 Dual Function Manual Binding System</td><td>Binders</td><td>Office Supplies</td><td>Retail CSV</td><td>2024-09-09T19:36:52.229Z</td></tr><tr><td>TEC-PH-10003215</td><td>Jackery Bar Premium Fast-charging Portable Charger</td><td>Phones</td><td>Technology</td><td>Retail CSV</td><td>2024-09-09T19:36:52.229Z</td></tr><tr><td>OFF-ST-10002182</td><td>Iris 3-Drawer Stacking Bin, Black</td><td>Storage</td><td>Office Supplies</td><td>Retail CSV</td><td>2024-09-09T19:36:52.229Z</td></tr><tr><td>TEC-MA-10002790</td><td>NeatDesk Desktop Scanner & Digital Filing System</td><td>Machines</td><td>Technology</td><td>Retail CSV</td><td>2024-09-09T19:36:52.229Z</td></tr><tr><td>OFF-SU-10003936</td><td>Acme Serrated Blade Letter Opener</td><td>Supplies</td><td>Office Supplies</td><td>Retail CSV</td><td>2024-09-09T19:36:52.229Z</td></tr><tr><td>OFF-BI-10003291</td><td>Wilson Jones Leather-Like Binders with DublLock Round Rings</td><td>Binders</td><td>Office Supplies</td><td>Retail CSV</td><td>2024-09-09T19:36:52.229Z</td></tr><tr><td>OFF-BI-10001072</td><td>GBC Clear Cover, 8-1/2 x 11, unpunched, 25 covers per pack</td><td>Binders</td><td>Office Supplies</td><td>Retail CSV</td><td>2024-09-09T19:36:52.229Z</td></tr><tr><td>FUR-CH-10002602</td><td>DMI Arturo Collection Mission-style Design Wood Chair</td><td>Chairs</td><td>Furniture</td><td>Retail CSV</td><td>2024-09-09T19:36:52.229Z</td></tr><tr><td>OFF-LA-10001934</td><td>Avery 516</td><td>Labels</td><td>Office Supplies</td><td>Retail CSV</td><td>2024-09-09T19:36:52.229Z</td></tr><tr><td>TEC-AC-10002402</td><td>Razer Kraken PRO Over Ear PC and Music Headset</td><td>Accessories</td><td>Technology</td><td>Retail CSV</td><td>2024-09-09T19:36:52.229Z</td></tr><tr><td>OFF-BI-10000822</td><td>\"Acco PRESSTEX Data Binder with Storage Hooks, Light Blue, 9 1/2\"\" X 11\"\"\"</td><td>Binders</td><td>Office Supplies</td><td>Retail CSV</td><td>2024-09-09T19:36:52.229Z</td></tr><tr><td>FUR-FU-10001473</td><td>DAX Wood Document Frame</td><td>Furnishings</td><td>Furniture</td><td>Retail CSV</td><td>2024-09-09T19:36:52.229Z</td></tr><tr><td>FUR-FU-10004270</td><td>Eldon Image Series Desk Accessories, Burgundy</td><td>Furnishings</td><td>Furniture</td><td>Retail CSV</td><td>2024-09-09T19:36:52.229Z</td></tr><tr><td>TEC-AC-10004855</td><td>V7 USB Numeric Keypad</td><td>Accessories</td><td>Technology</td><td>Retail CSV</td><td>2024-09-09T19:36:52.229Z</td></tr><tr><td>OFF-SU-10000952</td><td>Fiskars Home & Office Scissors</td><td>Supplies</td><td>Office Supplies</td><td>Retail CSV</td><td>2024-09-09T19:36:52.229Z</td></tr><tr><td>OFF-AP-10002287</td><td>Eureka Sanitaire  Multi-Pro Heavy-Duty Upright, Disposable Bags</td><td>Appliances</td><td>Office Supplies</td><td>Retail CSV</td><td>2024-09-09T19:36:52.229Z</td></tr><tr><td>FUR-CH-10000595</td><td>Safco Contoured Stacking Chairs</td><td>Chairs</td><td>Furniture</td><td>Retail CSV</td><td>2024-09-09T19:36:52.229Z</td></tr><tr><td>OFF-ST-10004634</td><td>Personal Folder Holder, Ebony</td><td>Storage</td><td>Office Supplies</td><td>Retail CSV</td><td>2024-09-09T19:36:52.229Z</td></tr><tr><td>TEC-AC-10003441</td><td>Kingston Digital DataTraveler 32GB USB 2.0</td><td>Accessories</td><td>Technology</td><td>Retail CSV</td><td>2024-09-09T19:36:52.229Z</td></tr><tr><td>TEC-MA-10002178</td><td>Cisco CP-7937G Unified IP Conference Station Phone</td><td>Machines</td><td>Technology</td><td>Retail CSV</td><td>2024-09-09T19:36:52.229Z</td></tr><tr><td>OFF-PA-10004519</td><td>Spiral Phone Message Books with Labels by Adams</td><td>Paper</td><td>Office Supplies</td><td>Retail CSV</td><td>2024-09-09T19:36:52.229Z</td></tr><tr><td>TEC-AC-10003133</td><td>Memorex Mini Travel Drive 4 GB USB 2.0 Flash Drive</td><td>Accessories</td><td>Technology</td><td>Retail CSV</td><td>2024-09-09T19:36:52.229Z</td></tr><tr><td>FUR-FU-10001986</td><td>Dana Fluorescent Magnifying Lamp, White, 36\"\"</td><td>Furnishings</td><td>Furniture</td><td>Retail CSV</td><td>2024-09-09T19:36:52.229Z</td></tr><tr><td>TEC-PH-10001809</td><td>Panasonic KX T7736-B Digital phone</td><td>Phones</td><td>Technology</td><td>Retail CSV</td><td>2024-09-09T19:36:52.229Z</td></tr><tr><td>FUR-TA-10003469</td><td>Balt Split Level Computer Training Table</td><td>Tables</td><td>Furniture</td><td>Retail CSV</td><td>2024-09-09T19:36:52.229Z</td></tr><tr><td>OFF-BI-10003656</td><td>Fellowes PB200 Plastic Comb Binding Machine</td><td>Binders</td><td>Office Supplies</td><td>Retail CSV</td><td>2024-09-09T19:36:52.229Z</td></tr><tr><td>FUR-CH-10000863</td><td>Novimex Swivel Fabric Task Chair</td><td>Chairs</td><td>Furniture</td><td>Retail CSV</td><td>2024-09-09T19:36:52.229Z</td></tr><tr><td>TEC-AC-10000290</td><td>Sabrent 4-Port USB 2.0 Hub</td><td>Accessories</td><td>Technology</td><td>Retail CSV</td><td>2024-09-09T19:36:52.229Z</td></tr><tr><td>OFF-BI-10003982</td><td>Wilson Jones Century Plastic Molded Ring Binders</td><td>Binders</td><td>Office Supplies</td><td>Retail CSV</td><td>2024-09-09T19:36:52.229Z</td></tr><tr><td>OFF-PA-10001667</td><td>Great White Multi-Use Recycled Paper (20Lb. and 84 Bright)</td><td>Paper</td><td>Office Supplies</td><td>Retail CSV</td><td>2024-09-09T19:36:52.229Z</td></tr><tr><td>OFF-ST-10001325</td><td>Sterilite Officeware Hinged File Box</td><td>Storage</td><td>Office Supplies</td><td>Retail CSV</td><td>2024-09-09T19:36:52.229Z</td></tr><tr><td>OFF-PA-10000141</td><td>\"Ampad Evidence Wirebond Steno Books, 6\"\" x 9\"\"\"</td><td>Paper</td><td>Office Supplies</td><td>Retail CSV</td><td>2024-09-09T19:36:52.229Z</td></tr><tr><td>FUR-BO-10000330</td><td>Sauder Camden County Barrister Bookcase, Planked Cherry Finish</td><td>Bookcases</td><td>Furniture</td><td>Retail CSV</td><td>2024-09-09T19:36:52.229Z</td></tr><tr><td>OFF-LA-10002034</td><td>Avery 478</td><td>Labels</td><td>Office Supplies</td><td>Retail CSV</td><td>2024-09-09T19:36:52.229Z</td></tr><tr><td>OFF-PA-10001609</td><td>Tops Wirebound Message Log Books</td><td>Paper</td><td>Office Supplies</td><td>Retail CSV</td><td>2024-09-09T19:36:52.229Z</td></tr><tr><td>OFF-BI-10001078</td><td>\"Acco PRESSTEX Data Binder with Storage Hooks, Dark Blue, 14 7/8\"\" X 11\"\"\"</td><td>Binders</td><td>Office Supplies</td><td>Retail CSV</td><td>2024-09-09T19:36:52.229Z</td></tr><tr><td>OFF-ST-10002370</td><td>Sortfiler Multipurpose Personal File Organizer, Black</td><td>Storage</td><td>Office Supplies</td><td>Retail CSV</td><td>2024-09-09T19:36:52.229Z</td></tr><tr><td>OFF-ST-10002974</td><td>Trav-L-File Heavy-Duty Shuttle II, Black</td><td>Storage</td><td>Office Supplies</td><td>Retail CSV</td><td>2024-09-09T19:36:52.229Z</td></tr><tr><td>OFF-PA-10002377</td><td>Xerox 1916</td><td>Paper</td><td>Office Supplies</td><td>Retail CSV</td><td>2024-09-09T19:36:52.229Z</td></tr><tr><td>FUR-CH-10004698</td><td>Padded Folding Chairs, Black, 4/Carton</td><td>Chairs</td><td>Furniture</td><td>Retail CSV</td><td>2024-09-09T19:36:52.229Z</td></tr><tr><td>OFF-AR-10004685</td><td>Binney & Smith Crayola Metallic Colored Pencils, 8-Color Set</td><td>Art</td><td>Office Supplies</td><td>Retail CSV</td><td>2024-09-09T19:36:52.229Z</td></tr><tr><td>OFF-BI-10004967</td><td>Round Ring Binders</td><td>Binders</td><td>Office Supplies</td><td>Retail CSV</td><td>2024-09-09T19:36:52.229Z</td></tr><tr><td>FUR-BO-10001337</td><td>O'Sullivan Living Dimensions 2-Shelf Bookcases</td><td>Bookcases</td><td>Furniture</td><td>Retail CSV</td><td>2024-09-09T19:36:52.229Z</td></tr><tr><td>OFF-AP-10004708</td><td>Fellowes Superior 10 Outlet Split Surge Protector</td><td>Appliances</td><td>Office Supplies</td><td>Retail CSV</td><td>2024-09-09T19:36:52.229Z</td></tr><tr><td>OFF-FA-10001332</td><td>\"Acco Banker's Clasps, 5 3/4\"\"-Long\"</td><td>Fasteners</td><td>Office Supplies</td><td>Retail CSV</td><td>2024-09-09T19:36:52.229Z</td></tr><tr><td>TEC-AC-10002345</td><td>HP Standard 104 key PS/2 Keyboard</td><td>Accessories</td><td>Technology</td><td>Retail CSV</td><td>2024-09-09T19:36:52.229Z</td></tr><tr><td>OFF-AP-10000696</td><td>Holmes Odor Grabber</td><td>Appliances</td><td>Office Supplies</td><td>Retail CSV</td><td>2024-09-09T19:36:52.229Z</td></tr><tr><td>OFF-LA-10001317</td><td>Avery 520</td><td>Labels</td><td>Office Supplies</td><td>Retail CSV</td><td>2024-09-09T19:36:52.229Z</td></tr><tr><td>OFF-PA-10003441</td><td>Xerox 226</td><td>Paper</td><td>Office Supplies</td><td>Retail CSV</td><td>2024-09-09T19:36:52.229Z</td></tr><tr><td>TEC-PH-10003589</td><td>invisibleSHIELD by ZAGG Smudge-Free Screen Protector</td><td>Phones</td><td>Technology</td><td>Retail CSV</td><td>2024-09-09T19:36:52.229Z</td></tr><tr><td>OFF-EN-10004955</td><td>Fashion Color Clasp Envelopes</td><td>Envelopes</td><td>Office Supplies</td><td>Retail CSV</td><td>2024-09-09T19:36:52.229Z</td></tr><tr><td>OFF-PA-10000241</td><td>IBM Multi-Purpose Copy Paper, 8 1/2 x 11\"</td><td>Paper</td><td>Office Supplies</td><td>Retail CSV</td><td>2024-09-09T19:36:52.229Z</td></tr><tr><td>TEC-AC-10004227</td><td>SanDisk Ultra 16 GB MicroSDHC Class 10 Memory Card</td><td>Accessories</td><td>Technology</td><td>Retail CSV</td><td>2024-09-09T19:36:52.229Z</td></tr><tr><td>OFF-SU-10003567</td><td>Stiletto Hand Letter Openers</td><td>Supplies</td><td>Office Supplies</td><td>Retail CSV</td><td>2024-09-09T19:36:52.229Z</td></tr><tr><td>OFF-BI-10003984</td><td>Lock-Up Easel 'Spel-Binder'</td><td>Binders</td><td>Office Supplies</td><td>Retail CSV</td><td>2024-09-09T19:36:52.229Z</td></tr><tr><td>OFF-ST-10004258</td><td>Portable Personal File Box</td><td>Storage</td><td>Office Supplies</td><td>Retail CSV</td><td>2024-09-09T19:36:52.229Z</td></tr><tr><td>TEC-PH-10002549</td><td>Polycom SoundPoint IP 450 VoIP phone</td><td>Phones</td><td>Technology</td><td>Retail CSV</td><td>2024-09-09T19:36:52.229Z</td></tr><tr><td>OFF-PA-10001293</td><td>Xerox 1946</td><td>Paper</td><td>Office Supplies</td><td>Retail CSV</td><td>2024-09-09T19:36:52.229Z</td></tr><tr><td>OFF-ST-10001172</td><td>Tennsco Lockers, Sand</td><td>Storage</td><td>Office Supplies</td><td>Retail CSV</td><td>2024-09-09T19:36:52.229Z</td></tr><tr><td>OFF-ST-10002957</td><td>Sterilite Show Offs Storage Containers</td><td>Storage</td><td>Office Supplies</td><td>Retail CSV</td><td>2024-09-09T19:36:52.229Z</td></tr><tr><td>TEC-PH-10004006</td><td>Panasonic KX - TS880B Telephone</td><td>Phones</td><td>Technology</td><td>Retail CSV</td><td>2024-09-09T19:36:52.229Z</td></tr><tr><td>OFF-AR-10004344</td><td>Bulldog Vacuum Base Pencil Sharpener</td><td>Art</td><td>Office Supplies</td><td>Retail CSV</td><td>2024-09-09T19:36:52.229Z</td></tr><tr><td>OFF-FA-10004248</td><td>Advantus T-Pin Paper Clips</td><td>Fasteners</td><td>Office Supplies</td><td>Retail CSV</td><td>2024-09-09T19:36:52.229Z</td></tr><tr><td>OFF-AP-10001469</td><td>Fellowes 8 Outlet Superior Workstation Surge Protector</td><td>Appliances</td><td>Office Supplies</td><td>Retail CSV</td><td>2024-09-09T19:36:52.229Z</td></tr><tr><td>OFF-ST-10002486</td><td>Eldon Shelf Savers Cubes and Bins</td><td>Storage</td><td>Office Supplies</td><td>Retail CSV</td><td>2024-09-09T19:36:52.229Z</td></tr><tr><td>OFF-BI-10004826</td><td>JM Magazine Binder</td><td>Binders</td><td>Office Supplies</td><td>Retail CSV</td><td>2024-09-09T19:36:52.229Z</td></tr><tr><td>FUR-FU-10004622</td><td>Eldon Advantage Foldable Chair Mats for Low Pile Carpets</td><td>Furnishings</td><td>Furniture</td><td>Retail CSV</td><td>2024-09-09T19:36:52.229Z</td></tr><tr><td>OFF-AR-10002240</td><td>Panasonic KP-150 Electric Pencil Sharpener</td><td>Art</td><td>Office Supplies</td><td>Retail CSV</td><td>2024-09-09T19:36:52.229Z</td></tr><tr><td>OFF-LA-10003077</td><td>Avery 500</td><td>Labels</td><td>Office Supplies</td><td>Retail CSV</td><td>2024-09-09T19:36:52.229Z</td></tr><tr><td>OFF-AP-10003281</td><td>Acco 6 Outlet Guardian Standard Surge Suppressor</td><td>Appliances</td><td>Office Supplies</td><td>Retail CSV</td><td>2024-09-09T19:36:52.229Z</td></tr><tr><td>OFF-AR-10001972</td><td>Newell 323</td><td>Art</td><td>Office Supplies</td><td>Retail CSV</td><td>2024-09-09T19:36:52.229Z</td></tr><tr><td>FUR-CH-10003968</td><td>Novimex Turbo Task Chair</td><td>Chairs</td><td>Furniture</td><td>Retail CSV</td><td>2024-09-09T19:36:52.229Z</td></tr><tr><td>OFF-ST-10003442</td><td>Eldon Portable Mobile Manager</td><td>Storage</td><td>Office Supplies</td><td>Retail CSV</td><td>2024-09-09T19:36:52.229Z</td></tr><tr><td>FUR-FU-10003799</td><td>\"Seth Thomas 13 1/2\"\" Wall Clock\"</td><td>Furnishings</td><td>Furniture</td><td>Retail CSV</td><td>2024-09-09T19:36:52.229Z</td></tr><tr><td>FUR-FU-10003773</td><td>Eldon Cleatmat Plus Chair Mats for High Pile Carpets</td><td>Furnishings</td><td>Furniture</td><td>Retail CSV</td><td>2024-09-09T19:36:52.229Z</td></tr><tr><td>OFF-ST-10001469</td><td>Fellowes Bankers Box Recycled Super Stor/Drawer</td><td>Storage</td><td>Office Supplies</td><td>Retail CSV</td><td>2024-09-09T19:36:52.229Z</td></tr><tr><td>OFF-PA-10002262</td><td>Xerox 192</td><td>Paper</td><td>Office Supplies</td><td>Retail CSV</td><td>2024-09-09T19:36:52.229Z</td></tr><tr><td>OFF-PA-10000919</td><td>Xerox 1918</td><td>Paper</td><td>Office Supplies</td><td>Retail CSV</td><td>2024-09-09T19:36:52.229Z</td></tr><tr><td>FUR-FU-10000193</td><td>Tenex Chairmats For Use with Hard Floors</td><td>Furnishings</td><td>Furniture</td><td>Retail CSV</td><td>2024-09-09T19:36:52.229Z</td></tr><tr><td>TEC-AC-10000521</td><td>Verbatim Slim CD and DVD Storage Cases, 50/Pack</td><td>Accessories</td><td>Technology</td><td>Retail CSV</td><td>2024-09-09T19:36:52.229Z</td></tr><tr><td>TEC-MA-10000045</td><td>Zebra ZM400 Thermal Label Printer</td><td>Machines</td><td>Technology</td><td>Retail CSV</td><td>2024-09-09T19:36:52.229Z</td></tr><tr><td>TEC-MA-10001031</td><td>Socket Bluetooth Cordless Hand Scanner (CHS)</td><td>Machines</td><td>Technology</td><td>Retail CSV</td><td>2024-09-09T19:36:52.229Z</td></tr><tr><td>OFF-PA-10002109</td><td>Wirebound Voice Message Log Book</td><td>Paper</td><td>Office Supplies</td><td>Retail CSV</td><td>2024-09-09T19:36:52.229Z</td></tr><tr><td>OFF-BI-10000756</td><td>Storex DuraTech Recycled Plastic Frosted Binders</td><td>Binders</td><td>Office Supplies</td><td>Retail CSV</td><td>2024-09-09T19:36:52.229Z</td></tr><tr><td>OFF-LA-10003923</td><td>Alphabetical Labels for Top Tab Filing</td><td>Labels</td><td>Office Supplies</td><td>Retail CSV</td><td>2024-09-09T19:36:52.229Z</td></tr><tr><td>OFF-AR-10003958</td><td>Newell 337</td><td>Art</td><td>Office Supplies</td><td>Retail CSV</td><td>2024-09-09T19:36:52.229Z</td></tr><tr><td>TEC-PH-10001530</td><td>Plantronics Voyager Pro Legend</td><td>Phones</td><td>Technology</td><td>Retail CSV</td><td>2024-09-09T19:36:52.229Z</td></tr><tr><td>FUR-CH-10001270</td><td>Harbour Creations Steel Folding Chair</td><td>Chairs</td><td>Furniture</td><td>Retail CSV</td><td>2024-09-09T19:36:52.229Z</td></tr><tr><td>FUR-CH-10001973</td><td>Office Star Flex Back Scooter Chair with White Frame</td><td>Chairs</td><td>Furniture</td><td>Retail CSV</td><td>2024-09-09T19:36:52.229Z</td></tr><tr><td>FUR-FU-10004091</td><td>Eldon 200 Class Desk Accessories, Black</td><td>Furnishings</td><td>Furniture</td><td>Retail CSV</td><td>2024-09-09T19:36:52.229Z</td></tr><tr><td>OFF-PA-10004353</td><td>Southworth 25% Cotton Premium Laser Paper and Envelopes</td><td>Paper</td><td>Office Supplies</td><td>Retail CSV</td><td>2024-09-09T19:36:52.229Z</td></tr><tr><td>FUR-FU-10000747</td><td>Tenex B1-RE Series Chair Mats for Low Pile Carpets</td><td>Furnishings</td><td>Furniture</td><td>Retail CSV</td><td>2024-09-09T19:36:52.229Z</td></tr><tr><td>OFF-PA-10004040</td><td>Universal Premium White Copier/Laser Paper (20Lb. and 87 Bright)</td><td>Paper</td><td>Office Supplies</td><td>Retail CSV</td><td>2024-09-09T19:36:52.229Z</td></tr><tr><td>OFF-AR-10003514</td><td>4009 Highlighters by Sanford</td><td>Art</td><td>Office Supplies</td><td>Retail CSV</td><td>2024-09-09T19:36:52.229Z</td></tr><tr><td>OFF-ST-10002756</td><td>\"Tennsco Stur-D-Stor Boltless Shelving, 5 Shelves, 24\"\" Deep</td><td>Storage</td><td>Office Supplies</td><td>Retail CSV</td><td>2024-09-09T19:36:52.229Z</td></tr><tr><td>OFF-AP-10000804</td><td>Hoover Portapower Portable Vacuum</td><td>Appliances</td><td>Office Supplies</td><td>Retail CSV</td><td>2024-09-09T19:36:52.229Z</td></tr><tr><td>TEC-AC-10002253</td><td>Imation Bio 8GB USB Flash Drive Imation Corp</td><td>Accessories</td><td>Technology</td><td>Retail CSV</td><td>2024-09-09T19:36:52.229Z</td></tr><tr><td>OFF-PA-10002250</td><td>Things To Do Today Pad</td><td>Paper</td><td>Office Supplies</td><td>Retail CSV</td><td>2024-09-09T19:36:52.229Z</td></tr><tr><td>OFF-PA-10004621</td><td>Xerox 212</td><td>Paper</td><td>Office Supplies</td><td>Retail CSV</td><td>2024-09-09T19:36:52.229Z</td></tr><tr><td>OFF-ST-10000046</td><td>Fellowes Super Stor/Drawer Files</td><td>Storage</td><td>Office Supplies</td><td>Retail CSV</td><td>2024-09-09T19:36:52.229Z</td></tr><tr><td>FUR-FU-10003535</td><td>Howard Miller Distant Time Traveler Alarm Clock</td><td>Furnishings</td><td>Furniture</td><td>Retail CSV</td><td>2024-09-09T19:36:52.229Z</td></tr><tr><td>OFF-PA-10003072</td><td>\"Eureka Recycled Copy Paper 8 1/2\"\" x 11\"\"</td><td>Paper</td><td>Office Supplies</td><td>Retail CSV</td><td>2024-09-09T19:36:52.229Z</td></tr><tr><td>OFF-BI-10004364</td><td>Storex Dura Pro Binders</td><td>Binders</td><td>Office Supplies</td><td>Retail CSV</td><td>2024-09-09T19:36:52.229Z</td></tr><tr><td>OFF-PA-10000575</td><td>Wirebound Message Books, Four 2 3/4 x 5 White Forms per Page</td><td>Paper</td><td>Office Supplies</td><td>Retail CSV</td><td>2024-09-09T19:36:52.229Z</td></tr><tr><td>FUR-FU-10002937</td><td>\"GE 48\"\" Fluorescent Tube</td><td>Furnishings</td><td>Furniture</td><td>Retail CSV</td><td>2024-09-09T19:36:52.229Z</td></tr><tr><td>TEC-MA-10004679</td><td>StarTech.com 10/100 VDSL2 Ethernet Extender Kit</td><td>Machines</td><td>Technology</td><td>Retail CSV</td><td>2024-09-09T19:36:52.229Z</td></tr><tr><td>FUR-FU-10004973</td><td>Flat Face Poster Frame</td><td>Furnishings</td><td>Furniture</td><td>Retail CSV</td><td>2024-09-09T19:36:52.229Z</td></tr><tr><td>OFF-AR-10001177</td><td>Newell 349</td><td>Art</td><td>Office Supplies</td><td>Retail CSV</td><td>2024-09-09T19:36:52.229Z</td></tr><tr><td>OFF-EN-10003040</td><td>Quality Park Security Envelopes</td><td>Envelopes</td><td>Office Supplies</td><td>Retail CSV</td><td>2024-09-09T19:36:52.229Z</td></tr><tr><td>FUR-FU-10001876</td><td>Computer Room Manger, 14\"\"</td><td>Furnishings</td><td>Furniture</td><td>Retail CSV</td><td>2024-09-09T19:36:52.229Z</td></tr><tr><td>OFF-PA-10001593</td><td>Xerox 1947</td><td>Paper</td><td>Office Supplies</td><td>Retail CSV</td><td>2024-09-09T19:36:52.229Z</td></tr><tr><td>TEC-PH-10002624</td><td>Samsung Galaxy S4 Mini</td><td>Phones</td><td>Technology</td><td>Retail CSV</td><td>2024-09-09T19:36:52.229Z</td></tr><tr><td>OFF-BI-10000494</td><td>Acco Economy Flexible Poly Round Ring Binder</td><td>Binders</td><td>Office Supplies</td><td>Retail CSV</td><td>2024-09-09T19:36:52.229Z</td></tr></tbody></table></div>"
      ]
     },
     "metadata": {
      "application/vnd.databricks.v1+output": {
       "addedWidgets": {},
       "aggData": [],
       "aggError": "",
       "aggOverflow": false,
       "aggSchema": [],
       "aggSeriesLimitReached": false,
       "aggType": "",
       "arguments": {},
       "columnCustomDisplayInfos": {},
       "data": [
        [
         "TEC-PH-10000486",
         "Plantronics HL10 Handset Lifter",
         "Phones",
         "Technology",
         "Retail CSV",
         "2024-09-09T19:36:52.229Z"
        ],
        [
         "TEC-AC-10003832",
         "Logitech P710e Mobile Speakerphone",
         "Accessories",
         "Technology",
         "Retail CSV",
         "2024-09-09T19:36:52.229Z"
        ],
        [
         "TEC-AC-10002076",
         "Microsoft Natural Keyboard Elite",
         "Accessories",
         "Technology",
         "Retail CSV",
         "2024-09-09T19:36:52.229Z"
        ],
        [
         "TEC-PH-10004667",
         "Cisco 8x8 Inc. 6753i IP Business Phone System",
         "Phones",
         "Technology",
         "Retail CSV",
         "2024-09-09T19:36:52.229Z"
        ],
        [
         "OFF-BI-10000545",
         "GBC Ibimaster 500 Manual ProClick Binding System",
         "Binders",
         "Office Supplies",
         "Retail CSV",
         "2024-09-09T19:36:52.229Z"
        ],
        [
         "OFF-PA-10003543",
         "Xerox 1985",
         "Paper",
         "Office Supplies",
         "Retail CSV",
         "2024-09-09T19:36:52.229Z"
        ],
        [
         "OFF-PA-10000994",
         "Xerox 1915",
         "Paper",
         "Office Supplies",
         "Retail CSV",
         "2024-09-09T19:36:52.229Z"
        ],
        [
         "FUR-TA-10003008",
         "Lesro Round Back Collection Coffee Table, End Table",
         "Tables",
         "Furniture",
         "Retail CSV",
         "2024-09-09T19:36:52.229Z"
        ],
        [
         "OFF-PA-10002464",
         "HP Office Recycled Paper (20Lb. and 87 Bright)",
         "Paper",
         "Office Supplies",
         "Retail CSV",
         "2024-09-09T19:36:52.229Z"
        ],
        [
         "TEC-AC-10001109",
         "Logitech Trackman Marble Mouse",
         "Accessories",
         "Technology",
         "Retail CSV",
         "2024-09-09T19:36:52.229Z"
        ],
        [
         "FUR-FU-10004904",
         "\"Eldon \"\"L\"\" Workstation Diamond Chairmat\"",
         "Furnishings",
         "Furniture",
         "Retail CSV",
         "2024-09-09T19:36:52.229Z"
        ],
        [
         "OFF-PA-10000246",
         "Riverleaf Stik-Withit Designer Note Cubes",
         "Paper",
         "Office Supplies",
         "Retail CSV",
         "2024-09-09T19:36:52.229Z"
        ],
        [
         "OFF-LA-10003388",
         "Avery 5",
         "Labels",
         "Office Supplies",
         "Retail CSV",
         "2024-09-09T19:36:52.229Z"
        ],
        [
         "TEC-MA-10003673",
         "Hewlett-Packard Desktjet 6988DT Refurbished Printer",
         "Machines",
         "Technology",
         "Retail CSV",
         "2024-09-09T19:36:52.229Z"
        ],
        [
         "OFF-BI-10001890",
         "Avery Poly Binder Pockets",
         "Binders",
         "Office Supplies",
         "Retail CSV",
         "2024-09-09T19:36:52.229Z"
        ],
        [
         "OFF-BI-10000136",
         "Avery Non-Stick Heavy Duty View Round Locking Ring Binders",
         "Binders",
         "Office Supplies",
         "Retail CSV",
         "2024-09-09T19:36:52.229Z"
        ],
        [
         "TEC-AC-10002018",
         "AmazonBasics 3-Button USB Wired Mouse",
         "Accessories",
         "Technology",
         "Retail CSV",
         "2024-09-09T19:36:52.229Z"
        ],
        [
         "TEC-MA-10000423",
         "Texas Instruments TI-34 Scientific Calculator",
         "Machines",
         "Technology",
         "Retail CSV",
         "2024-09-09T19:36:52.229Z"
        ],
        [
         "OFF-SU-10004290",
         "\"Acme Design Line 8\"\" Stainless Steel Bent Scissors w/Champagne Handles",
         "Supplies",
         "Office Supplies",
         "Retail CSV",
         "2024-09-09T19:36:52.229Z"
        ],
        [
         "OFF-PA-10002479",
         "Xerox 4200 Series MultiUse Premium Copy Paper (20Lb. and 84 Bright)",
         "Paper",
         "Office Supplies",
         "Retail CSV",
         "2024-09-09T19:36:52.229Z"
        ],
        [
         "OFF-ST-10004180",
         "Safco Commercial Shelving",
         "Storage",
         "Office Supplies",
         "Retail CSV",
         "2024-09-09T19:36:52.229Z"
        ],
        [
         "FUR-FU-10001861",
         "Floodlight Indoor Halogen Bulbs, 1 Bulb per Pack, 60 Watts",
         "Furnishings",
         "Furniture",
         "Retail CSV",
         "2024-09-09T19:36:52.229Z"
        ],
        [
         "FUR-TA-10002041",
         "Bevis Round Conference Table Top, X-Base",
         "Tables",
         "Furniture",
         "Retail CSV",
         "2024-09-09T19:36:52.229Z"
        ],
        [
         "OFF-AR-10004974",
         "Newell 342",
         "Art",
         "Office Supplies",
         "Retail CSV",
         "2024-09-09T19:36:52.229Z"
        ],
        [
         "OFF-BI-10001294",
         "Fellowes Binding Cases",
         "Binders",
         "Office Supplies",
         "Retail CSV",
         "2024-09-09T19:36:52.229Z"
        ],
        [
         "OFF-PA-10003656",
         "Xerox 1935",
         "Paper",
         "Office Supplies",
         "Retail CSV",
         "2024-09-09T19:36:52.229Z"
        ],
        [
         "TEC-CO-10004202",
         "Brother DCP1000 Digital 3 in 1 Multifunction Machine",
         "Copiers",
         "Technology",
         "Retail CSV",
         "2024-09-09T19:36:52.229Z"
        ],
        [
         "OFF-ST-10000464",
         "Multi-Use Personal File Cart and Caster Set, Three Stacking Bins",
         "Storage",
         "Office Supplies",
         "Retail CSV",
         "2024-09-09T19:36:52.229Z"
        ],
        [
         "OFF-PA-10001295",
         "Computer Printout Paper with Letter-Trim Perforations",
         "Paper",
         "Office Supplies",
         "Retail CSV",
         "2024-09-09T19:36:52.229Z"
        ],
        [
         "TEC-PH-10003072",
         "Panasonic KX-TG9541B DECT 6.0 Digital 2-Line Expandable Cordless Phone With Digital Answering System",
         "Phones",
         "Technology",
         "Retail CSV",
         "2024-09-09T19:36:52.229Z"
        ],
        [
         "FUR-TA-10002607",
         "KI Conference Tables",
         "Tables",
         "Furniture",
         "Retail CSV",
         "2024-09-09T19:36:52.229Z"
        ],
        [
         "FUR-FU-10000023",
         "Eldon Wave Desk Accessories",
         "Furnishings",
         "Furniture",
         "Retail CSV",
         "2024-09-09T19:36:52.229Z"
        ],
        [
         "TEC-AC-10001101",
         "Sony 16GB Class 10 Micro SDHC R40 Memory Card",
         "Accessories",
         "Technology",
         "Retail CSV",
         "2024-09-09T19:36:52.229Z"
        ],
        [
         "OFF-ST-10000025",
         "Fellowes Stor/Drawer Steel Plus Storage Drawers",
         "Storage",
         "Office Supplies",
         "Retail CSV",
         "2024-09-09T19:36:52.229Z"
        ],
        [
         "TEC-PH-10002200",
         "Samsung Galaxy Note 2",
         "Phones",
         "Technology",
         "Retail CSV",
         "2024-09-09T19:36:52.229Z"
        ],
        [
         "OFF-PA-10000675",
         "Xerox 1919",
         "Paper",
         "Office Supplies",
         "Retail CSV",
         "2024-09-09T19:36:52.229Z"
        ],
        [
         "TEC-AC-10002800",
         "Plantronics Audio 478 Stereo USB Headset",
         "Accessories",
         "Technology",
         "Retail CSV",
         "2024-09-09T19:36:52.229Z"
        ],
        [
         "OFF-BI-10003963",
         "Cardinal Holdit Data Disk Pockets",
         "Binders",
         "Office Supplies",
         "Retail CSV",
         "2024-09-09T19:36:52.229Z"
        ],
        [
         "OFF-PA-10003022",
         "Xerox 1992",
         "Paper",
         "Office Supplies",
         "Retail CSV",
         "2024-09-09T19:36:52.229Z"
        ],
        [
         "TEC-PH-10000213",
         "Seidio BD2-HK3IPH5-BK DILEX Case and Holster Combo for Apple iPhone 5/5s - Black",
         "Phones",
         "Technology",
         "Retail CSV",
         "2024-09-09T19:36:52.229Z"
        ],
        [
         "FUR-FU-10001379",
         "\"Executive Impressions 16-1/2\"\" Circular Wall Clock\"",
         "Furnishings",
         "Furniture",
         "Retail CSV",
         "2024-09-09T19:36:52.229Z"
        ],
        [
         "TEC-PH-10003273",
         "AT&T TR1909W",
         "Phones",
         "Technology",
         "Retail CSV",
         "2024-09-09T19:36:52.229Z"
        ],
        [
         "OFF-PA-10003465",
         "Xerox 1912",
         "Paper",
         "Office Supplies",
         "Retail CSV",
         "2024-09-09T19:36:52.229Z"
        ],
        [
         "FUR-CH-10001482",
         "Office Star - Mesh Screen back chair with Vinyl seat",
         "Chairs",
         "Furniture",
         "Retail CSV",
         "2024-09-09T19:36:52.229Z"
        ],
        [
         "OFF-BI-10001097",
         "Avery Hole Reinforcements",
         "Binders",
         "Office Supplies",
         "Retail CSV",
         "2024-09-09T19:36:52.229Z"
        ],
        [
         "TEC-CO-10001046",
         "Canon Imageclass D680 Copier / Fax",
         "Copiers",
         "Technology",
         "Retail CSV",
         "2024-09-09T19:36:52.229Z"
        ],
        [
         "OFF-AR-10001446",
         "Newell 309",
         "Art",
         "Office Supplies",
         "Retail CSV",
         "2024-09-09T19:36:52.229Z"
        ],
        [
         "FUR-CH-10002439",
         "Iceberg Nesting Folding Chair, 19w x 6d x 43h",
         "Chairs",
         "Furniture",
         "Retail CSV",
         "2024-09-09T19:36:52.229Z"
        ],
        [
         "OFF-BI-10003166",
         "GBC Plasticlear Binding Covers",
         "Binders",
         "Office Supplies",
         "Retail CSV",
         "2024-09-09T19:36:52.229Z"
        ],
        [
         "FUR-FU-10003731",
         "Eldon Expressions Wood and Plastic Desk Accessories, Oak",
         "Furnishings",
         "Furniture",
         "Retail CSV",
         "2024-09-09T19:36:52.229Z"
        ],
        [
         "OFF-EN-10004206",
         "Multimedia Mailers",
         "Envelopes",
         "Office Supplies",
         "Retail CSV",
         "2024-09-09T19:36:52.229Z"
        ],
        [
         "TEC-AC-10004877",
         "Imation 30456 USB Flash Drive 8GB",
         "Accessories",
         "Technology",
         "Retail CSV",
         "2024-09-09T19:36:52.229Z"
        ],
        [
         "OFF-PA-10002713",
         "Adams Phone Message Book, 200 Message Capacity, 8 1/16” x 11”",
         "Paper",
         "Office Supplies",
         "Retail CSV",
         "2024-09-09T19:36:52.229Z"
        ],
        [
         "OFF-PA-10003953",
         "Xerox 218",
         "Paper",
         "Office Supplies",
         "Retail CSV",
         "2024-09-09T19:36:52.229Z"
        ],
        [
         "TEC-PH-10004774",
         "Gear Head AU3700S Headset",
         "Phones",
         "Technology",
         "Retail CSV",
         "2024-09-09T19:36:52.229Z"
        ],
        [
         "OFF-PA-10001166",
         "Xerox 2",
         "Paper",
         "Office Supplies",
         "Retail CSV",
         "2024-09-09T19:36:52.229Z"
        ],
        [
         "FUR-FU-10002364",
         "Eldon Expressions Wood Desk Accessories, Oak",
         "Furnishings",
         "Furniture",
         "Retail CSV",
         "2024-09-09T19:36:52.229Z"
        ],
        [
         "OFF-ST-10003123",
         "Fellowes Bases and Tops For Staxonsteel/High-Stak Systems",
         "Storage",
         "Office Supplies",
         "Retail CSV",
         "2024-09-09T19:36:52.229Z"
        ],
        [
         "OFF-AR-10003481",
         "Newell 348",
         "Art",
         "Office Supplies",
         "Retail CSV",
         "2024-09-09T19:36:52.229Z"
        ],
        [
         "FUR-BO-10004360",
         "Rush Hierlooms Collection Rich Wood Bookcases",
         "Bookcases",
         "Furniture",
         "Retail CSV",
         "2024-09-09T19:36:52.229Z"
        ],
        [
         "OFF-PA-10000143",
         "Astroparche Fine Business Paper",
         "Paper",
         "Office Supplies",
         "Retail CSV",
         "2024-09-09T19:36:52.229Z"
        ],
        [
         "OFF-PA-10004734",
         "Southworth Structures Collection",
         "Paper",
         "Office Supplies",
         "Retail CSV",
         "2024-09-09T19:36:52.229Z"
        ],
        [
         "OFF-PA-10002893",
         "\"Wirebound Service Call Books, 5 1/2\"\" x 4\"\"\"",
         "Paper",
         "Office Supplies",
         "Retail CSV",
         "2024-09-09T19:36:52.229Z"
        ],
        [
         "OFF-ST-10001490",
         "Hot File 7-Pocket, Floor Stand",
         "Storage",
         "Office Supplies",
         "Retail CSV",
         "2024-09-09T19:36:52.229Z"
        ],
        [
         "OFF-LA-10001045",
         "Permanent Self-Adhesive File Folder Labels for Typewriters by Universal",
         "Labels",
         "Office Supplies",
         "Retail CSV",
         "2024-09-09T19:36:52.229Z"
        ],
        [
         "OFF-BI-10002432",
         "Wilson Jones Standard D-Ring Binders",
         "Binders",
         "Office Supplies",
         "Retail CSV",
         "2024-09-09T19:36:52.229Z"
        ],
        [
         "OFF-PA-10003673",
         "Strathmore Photo Mount Cards",
         "Paper",
         "Office Supplies",
         "Retail CSV",
         "2024-09-09T19:36:52.229Z"
        ],
        [
         "OFF-PA-10001526",
         "Xerox 1949",
         "Paper",
         "Office Supplies",
         "Retail CSV",
         "2024-09-09T19:36:52.229Z"
        ],
        [
         "TEC-PH-10004924",
         "\"SKILCRAFT Telephone Shoulder Rest, 2\"\" x 6.5\"\" x 2.5\"\"",
         "Phones",
         "Technology",
         "Retail CSV",
         "2024-09-09T19:36:52.229Z"
        ],
        [
         "TEC-PH-10002483",
         "Motorola Moto X",
         "Phones",
         "Technology",
         "Retail CSV",
         "2024-09-09T19:36:52.229Z"
        ],
        [
         "OFF-ST-10000532",
         "Advantus Rolling Drawer Organizers",
         "Storage",
         "Office Supplies",
         "Retail CSV",
         "2024-09-09T19:36:52.229Z"
        ],
        [
         "OFF-AP-10004052",
         "Hoover Replacement Belts For Soft Guard & Commercial Ltweight Upright Vacs, 2/Pk",
         "Appliances",
         "Office Supplies",
         "Retail CSV",
         "2024-09-09T19:36:52.229Z"
        ],
        [
         "OFF-EN-10003448",
         "Peel & Seel Recycled Catalog Envelopes, Brown",
         "Envelopes",
         "Office Supplies",
         "Retail CSV",
         "2024-09-09T19:36:52.229Z"
        ],
        [
         "FUR-TA-10000577",
         "Bretford CR4500 Series Slim Rectangular Table",
         "Tables",
         "Furniture",
         "Retail CSV",
         "2024-09-09T19:36:52.229Z"
        ],
        [
         "TEC-PH-10003931",
         "JBL Micro Wireless Portable Bluetooth Speaker",
         "Phones",
         "Technology",
         "Retail CSV",
         "2024-09-09T19:36:52.229Z"
        ],
        [
         "TEC-AC-10003911",
         "NETGEAR AC1750 Dual Band Gigabit Smart WiFi Router",
         "Accessories",
         "Technology",
         "Retail CSV",
         "2024-09-09T19:36:52.229Z"
        ],
        [
         "OFF-PA-10003651",
         "Xerox 1968",
         "Paper",
         "Office Supplies",
         "Retail CSV",
         "2024-09-09T19:36:52.229Z"
        ],
        [
         "FUR-FU-10004460",
         "\"Howard Miller 12\"\" Round Wall Clock\"",
         "Furnishings",
         "Furniture",
         "Retail CSV",
         "2024-09-09T19:36:52.229Z"
        ],
        [
         "OFF-ST-10001418",
         "Carina Media Storage Towers in Natural & Black",
         "Storage",
         "Office Supplies",
         "Retail CSV",
         "2024-09-09T19:36:52.229Z"
        ],
        [
         "OFF-PA-10004888",
         "Xerox 217",
         "Paper",
         "Office Supplies",
         "Retail CSV",
         "2024-09-09T19:36:52.229Z"
        ],
        [
         "OFF-LA-10001641",
         "Avery 518",
         "Labels",
         "Office Supplies",
         "Retail CSV",
         "2024-09-09T19:36:52.229Z"
        ],
        [
         "OFF-AR-10001221",
         "Dixon Ticonderoga Erasable Colored Pencil Set, 12-Color",
         "Art",
         "Office Supplies",
         "Retail CSV",
         "2024-09-09T19:36:52.229Z"
        ],
        [
         "FUR-CH-10003833",
         "Novimex Fabric Task Chair",
         "Chairs",
         "Furniture",
         "Retail CSV",
         "2024-09-09T19:36:52.229Z"
        ],
        [
         "TEC-PH-10000675",
         "Panasonic KX TS3282B Corded phone",
         "Phones",
         "Technology",
         "Retail CSV",
         "2024-09-09T19:36:52.229Z"
        ],
        [
         "OFF-PA-10004039",
         "Xerox 1882",
         "Paper",
         "Office Supplies",
         "Retail CSV",
         "2024-09-09T19:36:52.229Z"
        ],
        [
         "OFF-ST-10003994",
         "\"Belkin 19\"\" Center-Weighted Shelf",
         "Storage",
         "Office Supplies",
         "Retail CSV",
         "2024-09-09T19:36:52.229Z"
        ],
        [
         "TEC-PH-10003875",
         "KLD Oscar II Style Snap-on Ultra Thin Side Flip Synthetic Leather Cover Case for HTC One HTC M7",
         "Phones",
         "Technology",
         "Retail CSV",
         "2024-09-09T19:36:52.229Z"
        ],
        [
         "OFF-AR-10001427",
         "Newell 330",
         "Art",
         "Office Supplies",
         "Retail CSV",
         "2024-09-09T19:36:52.229Z"
        ],
        [
         "FUR-FU-10002268",
         "Ultra Door Push Plate",
         "Furnishings",
         "Furniture",
         "Retail CSV",
         "2024-09-09T19:36:52.229Z"
        ],
        [
         "FUR-TA-10001039",
         "KI Adjustable-Height Table",
         "Tables",
         "Furniture",
         "Retail CSV",
         "2024-09-09T19:36:52.229Z"
        ],
        [
         "TEC-PH-10004830",
         "Pyle PRT45 Retro Home Telephone",
         "Phones",
         "Technology",
         "Retail CSV",
         "2024-09-09T19:36:52.229Z"
        ],
        [
         "FUR-BO-10002202",
         "Atlantic Metals Mobile 2-Shelf Bookcases, Custom Colors",
         "Bookcases",
         "Furniture",
         "Retail CSV",
         "2024-09-09T19:36:52.229Z"
        ],
        [
         "TEC-AC-10002134",
         "Rosewill 107 Normal Keys USB Wired Standard Keyboard",
         "Accessories",
         "Technology",
         "Retail CSV",
         "2024-09-09T19:36:52.229Z"
        ],
        [
         "OFF-AR-10002656",
         "Sanford Liquid Accent Highlighters",
         "Art",
         "Office Supplies",
         "Retail CSV",
         "2024-09-09T19:36:52.229Z"
        ],
        [
         "OFF-ST-10002406",
         "Pizazz Global Quick File",
         "Storage",
         "Office Supplies",
         "Retail CSV",
         "2024-09-09T19:36:52.229Z"
        ],
        [
         "OFF-BI-10001658",
         "GBC Standard Therm-A-Bind Covers",
         "Binders",
         "Office Supplies",
         "Retail CSV",
         "2024-09-09T19:36:52.229Z"
        ],
        [
         "TEC-AC-10003614",
         "Verbatim 25 GB 6x Blu-ray Single Layer Recordable Disc, 10/Pack",
         "Accessories",
         "Technology",
         "Retail CSV",
         "2024-09-09T19:36:52.229Z"
        ],
        [
         "OFF-BI-10003676",
         "GBC Standard Recycled Report Covers, Clear Plastic Sheets",
         "Binders",
         "Office Supplies",
         "Retail CSV",
         "2024-09-09T19:36:52.229Z"
        ],
        [
         "FUR-FU-10001867",
         "Eldon Expressions Punched Metal & Wood Desk Accessories, Pewter & Cherry",
         "Furnishings",
         "Furniture",
         "Retail CSV",
         "2024-09-09T19:36:52.229Z"
        ],
        [
         "OFF-FA-10000053",
         "Revere Boxed Rubber Bands by Revere",
         "Fasteners",
         "Office Supplies",
         "Retail CSV",
         "2024-09-09T19:36:52.229Z"
        ],
        [
         "OFF-PA-10003001",
         "Xerox 1986",
         "Paper",
         "Office Supplies",
         "Retail CSV",
         "2024-09-09T19:36:52.229Z"
        ],
        [
         "OFF-AP-10004785",
         "Holmes Replacement Filter for HEPA Air Cleaner, Medium Room",
         "Appliances",
         "Office Supplies",
         "Retail CSV",
         "2024-09-09T19:36:52.229Z"
        ],
        [
         "OFF-BI-10001249",
         "Avery Heavy-Duty EZD View Binder with Locking Rings",
         "Binders",
         "Office Supplies",
         "Retail CSV",
         "2024-09-09T19:36:52.229Z"
        ],
        [
         "TEC-PH-10001578",
         "Polycom SoundStation2 EX Conference phone",
         "Phones",
         "Technology",
         "Retail CSV",
         "2024-09-09T19:36:52.229Z"
        ],
        [
         "OFF-BI-10002026",
         "Ibico Recycled Linen-Style Covers",
         "Binders",
         "Office Supplies",
         "Retail CSV",
         "2024-09-09T19:36:52.229Z"
        ],
        [
         "OFF-ST-10003656",
         "Safco Industrial Wire Shelving",
         "Storage",
         "Office Supplies",
         "Retail CSV",
         "2024-09-09T19:36:52.229Z"
        ],
        [
         "OFF-PA-10004470",
         "\"Adams Write n' Stick Phone Message Book, 11\"\" X 5 1/4\"\"",
         "Paper",
         "Office Supplies",
         "Retail CSV",
         "2024-09-09T19:36:52.229Z"
        ],
        [
         "OFF-LA-10001613",
         "Avery File Folder Labels",
         "Labels",
         "Office Supplies",
         "Retail CSV",
         "2024-09-09T19:36:52.229Z"
        ],
        [
         "FUR-CH-10002880",
         "Global High-Back Leather Tilter, Burgundy",
         "Chairs",
         "Furniture",
         "Retail CSV",
         "2024-09-09T19:36:52.229Z"
        ],
        [
         "OFF-PA-10001289",
         "White Computer Printout Paper by Universal",
         "Paper",
         "Office Supplies",
         "Retail CSV",
         "2024-09-09T19:36:52.229Z"
        ],
        [
         "OFF-PA-10000308",
         "Xerox 1901",
         "Paper",
         "Office Supplies",
         "Retail CSV",
         "2024-09-09T19:36:52.229Z"
        ],
        [
         "OFF-PA-10002689",
         "Weyerhaeuser First Choice Laser/Copy Paper (20Lb. and 88 Bright)",
         "Paper",
         "Office Supplies",
         "Retail CSV",
         "2024-09-09T19:36:52.229Z"
        ],
        [
         "TEC-PH-10000455",
         "GE 30522EE2",
         "Phones",
         "Technology",
         "Retail CSV",
         "2024-09-09T19:36:52.229Z"
        ],
        [
         "OFF-SU-10001664",
         "Acme Office Executive Series Stainless Steel Trimmers",
         "Supplies",
         "Office Supplies",
         "Retail CSV",
         "2024-09-09T19:36:52.229Z"
        ],
        [
         "OFF-PA-10001725",
         "Xerox 1892",
         "Paper",
         "Office Supplies",
         "Retail CSV",
         "2024-09-09T19:36:52.229Z"
        ],
        [
         "FUR-FU-10002874",
         "Ultra Commercial Grade Dual Valve Door Closer",
         "Furnishings",
         "Furniture",
         "Retail CSV",
         "2024-09-09T19:36:52.229Z"
        ],
        [
         "FUR-FU-10001057",
         "Tensor Track Tree Floor Lamp",
         "Furnishings",
         "Furniture",
         "Retail CSV",
         "2024-09-09T19:36:52.229Z"
        ],
        [
         "TEC-MA-10003589",
         "Cisco 8961 IP Phone Charcoal",
         "Machines",
         "Technology",
         "Retail CSV",
         "2024-09-09T19:36:52.229Z"
        ],
        [
         "TEC-AC-10001767",
         "SanDisk Ultra 64 GB MicroSDHC Class 10 Memory Card",
         "Accessories",
         "Technology",
         "Retail CSV",
         "2024-09-09T19:36:52.229Z"
        ],
        [
         "OFF-LA-10000634",
         "Avery 509",
         "Labels",
         "Office Supplies",
         "Retail CSV",
         "2024-09-09T19:36:52.229Z"
        ],
        [
         "OFF-PA-10001937",
         "Xerox 21",
         "Paper",
         "Office Supplies",
         "Retail CSV",
         "2024-09-09T19:36:52.229Z"
        ],
        [
         "OFF-FA-10003112",
         "Staples",
         "Fasteners",
         "Office Supplies",
         "Retail CSV",
         "2024-09-09T19:36:52.229Z"
        ],
        [
         "TEC-AC-10000736",
         "Logitech G600 MMO Gaming Mouse",
         "Accessories",
         "Technology",
         "Retail CSV",
         "2024-09-09T19:36:52.229Z"
        ],
        [
         "FUR-BO-10001918",
         "Sauder Forest Hills Library with Doors, Woodland Oak Finish",
         "Bookcases",
         "Furniture",
         "Retail CSV",
         "2024-09-09T19:36:52.229Z"
        ],
        [
         "FUR-CH-10000155",
         "Global Comet Stacking Armless Chair",
         "Chairs",
         "Furniture",
         "Retail CSV",
         "2024-09-09T19:36:52.229Z"
        ],
        [
         "TEC-MA-10002412",
         "Cisco TelePresence System EX90 Videoconferencing Unit",
         "Machines",
         "Technology",
         "Retail CSV",
         "2024-09-09T19:36:52.229Z"
        ],
        [
         "TEC-AC-10000474",
         "Kensington Expert Mouse Optical USB Trackball for PC or Mac",
         "Accessories",
         "Technology",
         "Retail CSV",
         "2024-09-09T19:36:52.229Z"
        ],
        [
         "TEC-PH-10000127",
         "iOttie XL Car Mount",
         "Phones",
         "Technology",
         "Retail CSV",
         "2024-09-09T19:36:52.229Z"
        ],
        [
         "TEC-AC-10001383",
         "Logitech Wireless Touch Keyboard K400",
         "Accessories",
         "Technology",
         "Retail CSV",
         "2024-09-09T19:36:52.229Z"
        ],
        [
         "FUR-FU-10004306",
         "Electrix Halogen Magnifier Lamp",
         "Furnishings",
         "Furniture",
         "Retail CSV",
         "2024-09-09T19:36:52.229Z"
        ],
        [
         "OFF-PA-10000350",
         "\"Message Book, Standard Line \"\"While You Were Out\"\"",
         "Paper",
         "Office Supplies",
         "Retail CSV",
         "2024-09-09T19:36:52.229Z"
        ],
        [
         "FUR-FU-10001602",
         "\"Eldon Delta Triangular Chair Mat, 52\"\" x 58\"\"",
         "Furnishings",
         "Furniture",
         "Retail CSV",
         "2024-09-09T19:36:52.229Z"
        ],
        [
         "TEC-AC-10003198",
         "Enermax Acrylux Wireless Keyboard",
         "Accessories",
         "Technology",
         "Retail CSV",
         "2024-09-09T19:36:52.229Z"
        ],
        [
         "OFF-PA-10001892",
         "\"Rediform Wirebound \"\"Phone Memo\"\" Message Book",
         "Paper",
         "Office Supplies",
         "Retail CSV",
         "2024-09-09T19:36:52.229Z"
        ],
        [
         "OFF-AR-10004817",
         "Colorific Watercolor Pencils",
         "Art",
         "Office Supplies",
         "Retail CSV",
         "2024-09-09T19:36:52.229Z"
        ],
        [
         "OFF-PA-10004239",
         "Xerox 1953",
         "Paper",
         "Office Supplies",
         "Retail CSV",
         "2024-09-09T19:36:52.229Z"
        ],
        [
         "FUR-CH-10004287",
         "SAFCO Arco Folding Chair",
         "Chairs",
         "Furniture",
         "Retail CSV",
         "2024-09-09T19:36:52.229Z"
        ],
        [
         "OFF-AP-10000891",
         "Kensington 7 Outlet MasterPiece HOMEOFFICE Power Control Center",
         "Appliances",
         "Office Supplies",
         "Retail CSV",
         "2024-09-09T19:36:52.229Z"
        ],
        [
         "OFF-FA-10000134",
         "Advantus Push Pins, Aluminum Head",
         "Fasteners",
         "Office Supplies",
         "Retail CSV",
         "2024-09-09T19:36:52.229Z"
        ],
        [
         "OFF-PA-10000673",
         "Post-it “Important Message” Note Pad, Neon Colors, 50 Sheets/Pad",
         "Paper",
         "Office Supplies",
         "Retail CSV",
         "2024-09-09T19:36:52.229Z"
        ],
        [
         "TEC-AC-10001990",
         "Kensington Orbit Wireless Mobile Trackball for PC and Mac",
         "Accessories",
         "Technology",
         "Retail CSV",
         "2024-09-09T19:36:52.229Z"
        ],
        [
         "OFF-AR-10000462",
         "Sanford Pocket Accent Highlighters",
         "Art",
         "Office Supplies",
         "Retail CSV",
         "2024-09-09T19:36:52.229Z"
        ],
        [
         "OFF-AP-10001242",
         "APC 7 Outlet Network SurgeArrest Surge Protector",
         "Appliances",
         "Office Supplies",
         "Retail CSV",
         "2024-09-09T19:36:52.229Z"
        ],
        [
         "OFF-FA-10002701",
         "Alliance Rubber Bands",
         "Fasteners",
         "Office Supplies",
         "Retail CSV",
         "2024-09-09T19:36:52.229Z"
        ],
        [
         "FUR-FU-10003919",
         "Eldon Executive Woodline II Cherry Finish Desk Accessories",
         "Furnishings",
         "Furniture",
         "Retail CSV",
         "2024-09-09T19:36:52.229Z"
        ],
        [
         "OFF-AR-10002987",
         "Prismacolor Color Pencil Set",
         "Art",
         "Office Supplies",
         "Retail CSV",
         "2024-09-09T19:36:52.229Z"
        ],
        [
         "OFF-PA-10002615",
         "\"Ampad Gold Fibre Wirebound Steno Books, 6\"\" x 9\"\"",
         "Paper",
         "Office Supplies",
         "Retail CSV",
         "2024-09-09T19:36:52.229Z"
        ],
        [
         "OFF-PA-10004101",
         "Xerox 1894",
         "Paper",
         "Office Supplies",
         "Retail CSV",
         "2024-09-09T19:36:52.229Z"
        ],
        [
         "TEC-AC-10000927",
         "Anker Ultrathin Bluetooth Wireless Keyboard Aluminum Cover with Stand ",
         "Accessories",
         "Technology",
         "Retail CSV",
         "2024-09-09T19:36:52.229Z"
        ],
        [
         "OFF-LA-10000452",
         "Avery 488",
         "Labels",
         "Office Supplies",
         "Retail CSV",
         "2024-09-09T19:36:52.229Z"
        ],
        [
         "FUR-FU-10001889",
         "Ultra Door Pull Handle",
         "Furnishings",
         "Furniture",
         "Retail CSV",
         "2024-09-09T19:36:52.229Z"
        ],
        [
         "TEC-AC-10002217",
         "Imation Clip USB flash drive - 8 GB",
         "Accessories",
         "Technology",
         "Retail CSV",
         "2024-09-09T19:36:52.229Z"
        ],
        [
         "OFF-BI-10003718",
         "GBC Therma-A-Bind 250T Electric Binding System",
         "Binders",
         "Office Supplies",
         "Retail CSV",
         "2024-09-09T19:36:52.229Z"
        ],
        [
         "OFF-PA-10001952",
         "Xerox 1902",
         "Paper",
         "Office Supplies",
         "Retail CSV",
         "2024-09-09T19:36:52.229Z"
        ],
        [
         "FUR-FU-10003095",
         "\"Linden 12\"\" Wall Clock With Oak Frame\"",
         "Furnishings",
         "Furniture",
         "Retail CSV",
         "2024-09-09T19:36:52.229Z"
        ],
        [
         "OFF-BI-10003910",
         "DXL Angle-View Binders with Locking Rings by Samsill",
         "Binders",
         "Office Supplies",
         "Retail CSV",
         "2024-09-09T19:36:52.229Z"
        ],
        [
         "TEC-MA-10003353",
         "Xerox WorkCentre 6505DN Laser Multifunction Printer",
         "Machines",
         "Technology",
         "Retail CSV",
         "2024-09-09T19:36:52.229Z"
        ],
        [
         "OFF-BI-10000778",
         "GBC VeloBinder Electric Binding Machine",
         "Binders",
         "Office Supplies",
         "Retail CSV",
         "2024-09-09T19:36:52.229Z"
        ],
        [
         "OFF-BI-10000301",
         "GBC Instant Report Kit",
         "Binders",
         "Office Supplies",
         "Retail CSV",
         "2024-09-09T19:36:52.229Z"
        ],
        [
         "OFF-LA-10000973",
         "Avery 502",
         "Labels",
         "Office Supplies",
         "Retail CSV",
         "2024-09-09T19:36:52.229Z"
        ],
        [
         "OFF-BI-10003429",
         "Cardinal HOLDit! Binder Insert Strips,Extra Strips",
         "Binders",
         "Office Supplies",
         "Retail CSV",
         "2024-09-09T19:36:52.229Z"
        ],
        [
         "OFF-ST-10000419",
         "Rogers Jumbo File, Granite",
         "Storage",
         "Office Supplies",
         "Retail CSV",
         "2024-09-09T19:36:52.229Z"
        ],
        [
         "OFF-PA-10000740",
         "Xerox 1982",
         "Paper",
         "Office Supplies",
         "Retail CSV",
         "2024-09-09T19:36:52.229Z"
        ],
        [
         "OFF-PA-10002001",
         "Xerox 1984",
         "Paper",
         "Office Supplies",
         "Retail CSV",
         "2024-09-09T19:36:52.229Z"
        ],
        [
         "OFF-AP-10001205",
         "Belkin 5 Outlet SurgeMaster Power Centers",
         "Appliances",
         "Office Supplies",
         "Retail CSV",
         "2024-09-09T19:36:52.229Z"
        ],
        [
         "FUR-CH-10003761",
         "Global Italian Leather Office Chair",
         "Chairs",
         "Furniture",
         "Retail CSV",
         "2024-09-09T19:36:52.229Z"
        ],
        [
         "TEC-PH-10004908",
         "Panasonic KX TS3282W Corded phone",
         "Phones",
         "Technology",
         "Retail CSV",
         "2024-09-09T19:36:52.229Z"
        ],
        [
         "OFF-ST-10000129",
         "Fellowes Recycled Storage Drawers",
         "Storage",
         "Office Supplies",
         "Retail CSV",
         "2024-09-09T19:36:52.229Z"
        ],
        [
         "OFF-AP-10000390",
         "Euro Pro Shark Stick Mini Vacuum",
         "Appliances",
         "Office Supplies",
         "Retail CSV",
         "2024-09-09T19:36:52.229Z"
        ],
        [
         "OFF-BI-10002764",
         "Recycled Pressboard Report Cover with Reinforced Top Hinge",
         "Binders",
         "Office Supplies",
         "Retail CSV",
         "2024-09-09T19:36:52.229Z"
        ],
        [
         "FUR-BO-10002206",
         "Bush Saratoga Collection 5-Shelf Bookcase, Hanover Cherry, *Special Order",
         "Bookcases",
         "Furniture",
         "Retail CSV",
         "2024-09-09T19:36:52.229Z"
        ],
        [
         "TEC-PH-10004922",
         "RCA Visys Integrated PBX 8-Line Router",
         "Phones",
         "Technology",
         "Retail CSV",
         "2024-09-09T19:36:52.229Z"
        ],
        [
         "FUR-FU-10001473",
         "Eldon Executive Woodline II Desk Accessories, Mahogany",
         "Furnishings",
         "Furniture",
         "Retail CSV",
         "2024-09-09T19:36:52.229Z"
        ],
        [
         "OFF-AR-10004691",
         "Boston 1730 StandUp Electric Pencil Sharpener",
         "Art",
         "Office Supplies",
         "Retail CSV",
         "2024-09-09T19:36:52.229Z"
        ],
        [
         "OFF-BI-10002215",
         "Wilson Jones Hanging View Binder, White, 1\"\"",
         "Binders",
         "Office Supplies",
         "Retail CSV",
         "2024-09-09T19:36:52.229Z"
        ],
        [
         "FUR-FU-10003664",
         "Electrix Architect's Clamp-On Swing Arm Lamp, Black",
         "Furnishings",
         "Furniture",
         "Retail CSV",
         "2024-09-09T19:36:52.229Z"
        ],
        [
         "OFF-BI-10001922",
         "Storex Dura Pro Binders",
         "Binders",
         "Office Supplies",
         "Retail CSV",
         "2024-09-09T19:36:52.229Z"
        ],
        [
         "FUR-TA-10000688",
         "Chromcraft Bull-Nose Wood Round Conference Table Top, Wood Base",
         "Tables",
         "Furniture",
         "Retail CSV",
         "2024-09-09T19:36:52.229Z"
        ],
        [
         "FUR-BO-10001519",
         "O'Sullivan 3-Shelf Heavy-Duty Bookcases",
         "Bookcases",
         "Furniture",
         "Retail CSV",
         "2024-09-09T19:36:52.229Z"
        ],
        [
         "OFF-AR-10003752",
         "Deluxe Chalkboard Eraser Cleaner",
         "Art",
         "Office Supplies",
         "Retail CSV",
         "2024-09-09T19:36:52.229Z"
        ],
        [
         "FUR-FU-10000293",
         "Eldon Antistatic Chair Mats for Low to Medium Pile Carpets",
         "Furnishings",
         "Furniture",
         "Retail CSV",
         "2024-09-09T19:36:52.229Z"
        ],
        [
         "OFF-PA-10004947",
         "Easy-staple paper",
         "Paper",
         "Office Supplies",
         "Retail CSV",
         "2024-09-09T19:36:52.229Z"
        ],
        [
         "FUR-FU-10004864",
         "Eldon 500 Class Desk Accessories",
         "Furnishings",
         "Furniture",
         "Retail CSV",
         "2024-09-09T19:36:52.229Z"
        ],
        [
         "OFF-AR-10000246",
         "Newell 318",
         "Art",
         "Office Supplies",
         "Retail CSV",
         "2024-09-09T19:36:52.229Z"
        ],
        [
         "OFF-AR-10001868",
         "Prang Dustless Chalk Sticks",
         "Art",
         "Office Supplies",
         "Retail CSV",
         "2024-09-09T19:36:52.229Z"
        ],
        [
         "OFF-EN-10004459",
         "Security-Tint Envelopes",
         "Envelopes",
         "Office Supplies",
         "Retail CSV",
         "2024-09-09T19:36:52.229Z"
        ],
        [
         "OFF-ST-10003816",
         "Fellowes High-Stak Drawer Files",
         "Storage",
         "Office Supplies",
         "Retail CSV",
         "2024-09-09T19:36:52.229Z"
        ],
        [
         "TEC-MA-10003183",
         "DYMO CardScan Personal V9 Business Card Scanner",
         "Machines",
         "Technology",
         "Retail CSV",
         "2024-09-09T19:36:52.229Z"
        ],
        [
         "TEC-MA-10002428",
         "Fellowes Powershred HS-440 4-Sheet High Security Shredder",
         "Machines",
         "Technology",
         "Retail CSV",
         "2024-09-09T19:36:52.229Z"
        ],
        [
         "OFF-PA-10001166",
         "Xerox 1932",
         "Paper",
         "Office Supplies",
         "Retail CSV",
         "2024-09-09T19:36:52.229Z"
        ],
        [
         "OFF-AP-10002945",
         "Honeywell Enviracaire Portable HEPA Air Cleaner for 17' x 22' Room",
         "Appliances",
         "Office Supplies",
         "Retail CSV",
         "2024-09-09T19:36:52.229Z"
        ],
        [
         "OFF-BI-10001153",
         "Ibico Recycled Grain-Textured Covers",
         "Binders",
         "Office Supplies",
         "Retail CSV",
         "2024-09-09T19:36:52.229Z"
        ],
        [
         "OFF-BI-10000050",
         "Angle-D Binders with Locking Rings, Label Holders",
         "Binders",
         "Office Supplies",
         "Retail CSV",
         "2024-09-09T19:36:52.229Z"
        ],
        [
         "OFF-SU-10002881",
         "Martin Yale Chadless Opener Electric Letter Opener",
         "Supplies",
         "Office Supplies",
         "Retail CSV",
         "2024-09-09T19:36:52.229Z"
        ],
        [
         "OFF-AR-10001130",
         "Quartet Alpha White Chalk, 12/Pack",
         "Art",
         "Office Supplies",
         "Retail CSV",
         "2024-09-09T19:36:52.229Z"
        ],
        [
         "TEC-PH-10000169",
         "ARKON Windshield Dashboard Air Vent Car Mount Holder",
         "Phones",
         "Technology",
         "Retail CSV",
         "2024-09-09T19:36:52.229Z"
        ],
        [
         "FUR-CH-10003774",
         "Global Wood Trimmed Manager's Task Chair, Khaki",
         "Chairs",
         "Furniture",
         "Retail CSV",
         "2024-09-09T19:36:52.229Z"
        ],
        [
         "OFF-AR-10003696",
         "Panasonic KP-350BK Electric Pencil Sharpener with Auto Stop",
         "Art",
         "Office Supplies",
         "Retail CSV",
         "2024-09-09T19:36:52.229Z"
        ],
        [
         "OFF-ST-10003572",
         "Portfile Personal File Boxes",
         "Storage",
         "Office Supplies",
         "Retail CSV",
         "2024-09-09T19:36:52.229Z"
        ],
        [
         "OFF-AR-10004441",
         "BIC Brite Liner Highlighters",
         "Art",
         "Office Supplies",
         "Retail CSV",
         "2024-09-09T19:36:52.229Z"
        ],
        [
         "FUR-TA-10000198",
         "Chromcraft Bull-Nose Wood Oval Conference Tables & Bases",
         "Tables",
         "Furniture",
         "Retail CSV",
         "2024-09-09T19:36:52.229Z"
        ],
        [
         "OFF-AR-10002956",
         "Boston 16801 Nautilus Battery Pencil Sharpener",
         "Art",
         "Office Supplies",
         "Retail CSV",
         "2024-09-09T19:36:52.229Z"
        ],
        [
         "OFF-ST-10003716",
         "Tennsco Double-Tier Lockers",
         "Storage",
         "Office Supplies",
         "Retail CSV",
         "2024-09-09T19:36:52.229Z"
        ],
        [
         "OFF-AR-10003251",
         "Prang Drawing Pencil Set",
         "Art",
         "Office Supplies",
         "Retail CSV",
         "2024-09-09T19:36:52.229Z"
        ],
        [
         "OFF-AP-10002906",
         "Hoover Replacement Belt for Commercial Guardsman Heavy-Duty Upright Vacuum",
         "Appliances",
         "Office Supplies",
         "Retail CSV",
         "2024-09-09T19:36:52.229Z"
        ],
        [
         "TEC-MA-10002210",
         "Epson TM-T88V Direct Thermal Printer - Monochrome - Desktop",
         "Machines",
         "Technology",
         "Retail CSV",
         "2024-09-09T19:36:52.229Z"
        ],
        [
         "OFF-ST-10004835",
         "Plastic Stacking Crates & Casters",
         "Storage",
         "Office Supplies",
         "Retail CSV",
         "2024-09-09T19:36:52.229Z"
        ],
        [
         "OFF-LA-10002762",
         "Avery 485",
         "Labels",
         "Office Supplies",
         "Retail CSV",
         "2024-09-09T19:36:52.229Z"
        ],
        [
         "FUR-FU-10003194",
         "Eldon Expressions Desk Accessory, Wood Pencil Holder, Oak",
         "Furnishings",
         "Furniture",
         "Retail CSV",
         "2024-09-09T19:36:52.229Z"
        ],
        [
         "OFF-PA-10002222",
         "\"Xerox Color Copier Paper, 11\"\" x 17\"\"",
         "Paper",
         "Office Supplies",
         "Retail CSV",
         "2024-09-09T19:36:52.229Z"
        ],
        [
         "OFF-AR-10003158",
         "Fluorescent Highlighters by Dixon",
         "Art",
         "Office Supplies",
         "Retail CSV",
         "2024-09-09T19:36:52.229Z"
        ],
        [
         "OFF-AR-10004999",
         "Newell 315",
         "Art",
         "Office Supplies",
         "Retail CSV",
         "2024-09-09T19:36:52.229Z"
        ],
        [
         "OFF-BI-10003708",
         "Acco Four Pocket Poly Ring Binder with Label Holder, Smoke, 1\"\"",
         "Binders",
         "Office Supplies",
         "Retail CSV",
         "2024-09-09T19:36:52.229Z"
        ],
        [
         "TEC-AC-10001284",
         "Enermax Briskie RF Wireless Keyboard and Mouse Combo",
         "Accessories",
         "Technology",
         "Retail CSV",
         "2024-09-09T19:36:52.229Z"
        ],
        [
         "OFF-PA-10003270",
         "Xerox 1954",
         "Paper",
         "Office Supplies",
         "Retail CSV",
         "2024-09-09T19:36:52.229Z"
        ],
        [
         "TEC-PH-10002033",
         "Konftel 250 Conference phone - Charcoal black",
         "Phones",
         "Technology",
         "Retail CSV",
         "2024-09-09T19:36:52.229Z"
        ],
        [
         "FUR-FU-10002505",
         "Eldon 100 Class Desk Accessories",
         "Furnishings",
         "Furniture",
         "Retail CSV",
         "2024-09-09T19:36:52.229Z"
        ],
        [
         "OFF-PA-10003936",
         "Xerox 1994",
         "Paper",
         "Office Supplies",
         "Retail CSV",
         "2024-09-09T19:36:52.229Z"
        ],
        [
         "TEC-AC-10004171",
         "Razer Kraken 7.1 Surround Sound Over Ear USB Gaming Headset",
         "Accessories",
         "Technology",
         "Retail CSV",
         "2024-09-09T19:36:52.229Z"
        ],
        [
         "OFF-PA-10002319",
         "Xerox 1944",
         "Paper",
         "Office Supplies",
         "Retail CSV",
         "2024-09-09T19:36:52.229Z"
        ],
        [
         "TEC-AC-10000990",
         "Imation Bio 2GB USB Flash Drive Imation Corp",
         "Accessories",
         "Technology",
         "Retail CSV",
         "2024-09-09T19:36:52.229Z"
        ],
        [
         "OFF-PA-10003302",
         "Xerox 1906",
         "Paper",
         "Office Supplies",
         "Retail CSV",
         "2024-09-09T19:36:52.229Z"
        ],
        [
         "TEC-MA-10002073",
         "3D Systems Cube Printer, 2nd Generation, White",
         "Machines",
         "Technology",
         "Retail CSV",
         "2024-09-09T19:36:52.229Z"
        ],
        [
         "OFF-PA-10004100",
         "Xerox 216",
         "Paper",
         "Office Supplies",
         "Retail CSV",
         "2024-09-09T19:36:52.229Z"
        ],
        [
         "TEC-AC-10002001",
         "Logitech Wireless Gaming Headset G930",
         "Accessories",
         "Technology",
         "Retail CSV",
         "2024-09-09T19:36:52.229Z"
        ],
        [
         "OFF-PA-10002105",
         "Xerox 223",
         "Paper",
         "Office Supplies",
         "Retail CSV",
         "2024-09-09T19:36:52.229Z"
        ],
        [
         "OFF-ST-10000675",
         "File Shuttle II and Handi-File, Black",
         "Storage",
         "Office Supplies",
         "Retail CSV",
         "2024-09-09T19:36:52.229Z"
        ],
        [
         "FUR-TA-10004915",
         "\"Office Impressions End Table, 20-1/2\"\"H x 24\"\"W x 20\"\"D\"",
         "Tables",
         "Furniture",
         "Retail CSV",
         "2024-09-09T19:36:52.229Z"
        ],
        [
         "OFF-PA-10002787",
         "Xerox 227",
         "Paper",
         "Office Supplies",
         "Retail CSV",
         "2024-09-09T19:36:52.229Z"
        ],
        [
         "OFF-BI-10004141",
         "Insertable Tab Indexes For Data Binders",
         "Binders",
         "Office Supplies",
         "Retail CSV",
         "2024-09-09T19:36:52.229Z"
        ],
        [
         "OFF-LA-10004409",
         "Avery 492",
         "Labels",
         "Office Supplies",
         "Retail CSV",
         "2024-09-09T19:36:52.229Z"
        ],
        [
         "OFF-ST-10001522",
         "Gould Plastics 18-Pocket Panel Bin, 34w x 5-1/4d x 20-1/2h",
         "Storage",
         "Office Supplies",
         "Retail CSV",
         "2024-09-09T19:36:52.229Z"
        ],
        [
         "OFF-AR-10001958",
         "Stanley Bostitch Contemporary Electric Pencil Sharpeners",
         "Art",
         "Office Supplies",
         "Retail CSV",
         "2024-09-09T19:36:52.229Z"
        ],
        [
         "FUR-FU-10004351",
         "Staple-based wall hangings",
         "Furnishings",
         "Furniture",
         "Retail CSV",
         "2024-09-09T19:36:52.229Z"
        ],
        [
         "FUR-TA-10002903",
         "\"Bevis Round Bullnose 29\"\" High Table Top\"",
         "Tables",
         "Furniture",
         "Retail CSV",
         "2024-09-09T19:36:52.229Z"
        ],
        [
         "TEC-MA-10000029",
         "Epson WorkForce WF-2530 All-in-One Printer, Copier Scanner",
         "Machines",
         "Technology",
         "Retail CSV",
         "2024-09-09T19:36:52.229Z"
        ],
        [
         "FUR-CH-10001215",
         "Global Troy Executive Leather Low-Back Tilter",
         "Chairs",
         "Furniture",
         "Retail CSV",
         "2024-09-09T19:36:52.229Z"
        ],
        [
         "OFF-LA-10002271",
         "Smead Alpha-Z Color-Coded Second Alphabetical Labels and Starter Set",
         "Labels",
         "Office Supplies",
         "Retail CSV",
         "2024-09-09T19:36:52.229Z"
        ],
        [
         "TEC-AC-10004353",
         "Hypercom P1300 Pinpad",
         "Accessories",
         "Technology",
         "Retail CSV",
         "2024-09-09T19:36:52.229Z"
        ],
        [
         "FUR-FU-10003724",
         "Westinghouse Clip-On Gooseneck Lamps",
         "Furnishings",
         "Furniture",
         "Retail CSV",
         "2024-09-09T19:36:52.229Z"
        ],
        [
         "TEC-PH-10002564",
         "OtterBox Defender Series Case - Samsung Galaxy S4",
         "Phones",
         "Technology",
         "Retail CSV",
         "2024-09-09T19:36:52.229Z"
        ],
        [
         "OFF-BI-10002133",
         "\"Wilson Jones Elliptical Ring 3 1/2\"\" Capacity Binders",
         "Binders",
         "Office Supplies",
         "Retail CSV",
         "2024-09-09T19:36:52.229Z"
        ],
        [
         "OFF-AR-10003469",
         "Nontoxic Chalk",
         "Art",
         "Office Supplies",
         "Retail CSV",
         "2024-09-09T19:36:52.229Z"
        ],
        [
         "TEC-AC-10000387",
         "KeyTronic KT800P2 - Keyboard - Black",
         "Accessories",
         "Technology",
         "Retail CSV",
         "2024-09-09T19:36:52.229Z"
        ],
        [
         "TEC-MA-10001570",
         "Cisco Desktop Collaboration Experience DX650 IP Video Phone",
         "Machines",
         "Technology",
         "Retail CSV",
         "2024-09-09T19:36:52.229Z"
        ],
        [
         "FUR-BO-10001798",
         "Bush Somerset Collection Bookcase",
         "Bookcases",
         "Furniture",
         "Retail CSV",
         "2024-09-09T19:36:52.229Z"
        ],
        [
         "FUR-FU-10003708",
         "\"Tenex Traditional Chairmats for Medium Pile Carpet, Standard Lip, 36\"\" x 48\"\"\"",
         "Furnishings",
         "Furniture",
         "Retail CSV",
         "2024-09-09T19:36:52.229Z"
        ],
        [
         "OFF-PA-10003256",
         "Avery Personal Creations Heavyweight Cards",
         "Paper",
         "Office Supplies",
         "Retail CSV",
         "2024-09-09T19:36:52.229Z"
        ],
        [
         "OFF-AP-10002684",
         "Acco 7-Outlet Masterpiece Power Center, Wihtout Fax/Phone Line Protection",
         "Appliances",
         "Office Supplies",
         "Retail CSV",
         "2024-09-09T19:36:52.229Z"
        ],
        [
         "FUR-CH-10004477",
         "Global Push Button Manager's Chair, Indigo",
         "Chairs",
         "Furniture",
         "Retail CSV",
         "2024-09-09T19:36:52.229Z"
        ],
        [
         "OFF-ST-10002205",
         "File Shuttle I and Handi-File",
         "Storage",
         "Office Supplies",
         "Retail CSV",
         "2024-09-09T19:36:52.229Z"
        ],
        [
         "OFF-PA-10002552",
         "Xerox 1958",
         "Paper",
         "Office Supplies",
         "Retail CSV",
         "2024-09-09T19:36:52.229Z"
        ],
        [
         "OFF-PA-10004071",
         "Eaton Premium Continuous-Feed Paper, 25% Cotton, Letter Size, White, 1000 Shts/Box",
         "Paper",
         "Office Supplies",
         "Retail CSV",
         "2024-09-09T19:36:52.229Z"
        ],
        [
         "OFF-ST-10001780",
         "Tennsco 16-Compartment Lockers with Coat Rack",
         "Storage",
         "Office Supplies",
         "Retail CSV",
         "2024-09-09T19:36:52.229Z"
        ],
        [
         "OFF-PA-10003657",
         "Xerox 1927",
         "Paper",
         "Office Supplies",
         "Retail CSV",
         "2024-09-09T19:36:52.229Z"
        ],
        [
         "OFF-LA-10001474",
         "Avery 477",
         "Labels",
         "Office Supplies",
         "Retail CSV",
         "2024-09-09T19:36:52.229Z"
        ],
        [
         "OFF-PA-10001878",
         "Xerox 1891",
         "Paper",
         "Office Supplies",
         "Retail CSV",
         "2024-09-09T19:36:52.229Z"
        ],
        [
         "TEC-CO-10003763",
         "Canon PC1060 Personal Laser Copier",
         "Copiers",
         "Technology",
         "Retail CSV",
         "2024-09-09T19:36:52.229Z"
        ],
        [
         "FUR-FU-10000550",
         "Stacking Trays by OIC",
         "Furnishings",
         "Furniture",
         "Retail CSV",
         "2024-09-09T19:36:52.229Z"
        ],
        [
         "OFF-PA-10002741",
         "Xerox 1980",
         "Paper",
         "Office Supplies",
         "Retail CSV",
         "2024-09-09T19:36:52.229Z"
        ],
        [
         "OFF-AR-10000799",
         "Col-Erase Pencils with Erasers",
         "Art",
         "Office Supplies",
         "Retail CSV",
         "2024-09-09T19:36:52.229Z"
        ],
        [
         "TEC-AC-10002550",
         "Memorex 25GB 6X Branded Blu-Ray Recordable Disc, 30/Pack",
         "Accessories",
         "Technology",
         "Retail CSV",
         "2024-09-09T19:36:52.229Z"
        ],
        [
         "OFF-AR-10003179",
         "Dixon Ticonderoga Core-Lock Colored Pencils",
         "Art",
         "Office Supplies",
         "Retail CSV",
         "2024-09-09T19:36:52.229Z"
        ],
        [
         "TEC-AC-10001553",
         "Memorex 25GB 6X Branded Blu-Ray Recordable Disc, 15/Pack",
         "Accessories",
         "Technology",
         "Retail CSV",
         "2024-09-09T19:36:52.229Z"
        ],
        [
         "OFF-AR-10003217",
         "Newell 316",
         "Art",
         "Office Supplies",
         "Retail CSV",
         "2024-09-09T19:36:52.229Z"
        ],
        [
         "TEC-AC-10001542",
         "SanDisk Cruzer 16 GB USB Flash Drive",
         "Accessories",
         "Technology",
         "Retail CSV",
         "2024-09-09T19:36:52.229Z"
        ],
        [
         "OFF-PA-10001215",
         "Xerox 1963",
         "Paper",
         "Office Supplies",
         "Retail CSV",
         "2024-09-09T19:36:52.229Z"
        ],
        [
         "OFF-AR-10003477",
         "4009 Highlighters",
         "Art",
         "Office Supplies",
         "Retail CSV",
         "2024-09-09T19:36:52.229Z"
        ],
        [
         "OFF-PA-10000605",
         "Xerox 1950",
         "Paper",
         "Office Supplies",
         "Retail CSV",
         "2024-09-09T19:36:52.229Z"
        ],
        [
         "OFF-FA-10001843",
         "Staples",
         "Fasteners",
         "Office Supplies",
         "Retail CSV",
         "2024-09-09T19:36:52.229Z"
        ],
        [
         "FUR-TA-10002645",
         "Hon Rectangular Conference Tables",
         "Tables",
         "Furniture",
         "Retail CSV",
         "2024-09-09T19:36:52.229Z"
        ],
        [
         "OFF-PA-10003848",
         "Xerox 1997",
         "Paper",
         "Office Supplies",
         "Retail CSV",
         "2024-09-09T19:36:52.229Z"
        ],
        [
         "OFF-PA-10000859",
         "Unpadded Memo Slips",
         "Paper",
         "Office Supplies",
         "Retail CSV",
         "2024-09-09T19:36:52.229Z"
        ],
        [
         "OFF-PA-10002558",
         "Xerox 1938",
         "Paper",
         "Office Supplies",
         "Retail CSV",
         "2024-09-09T19:36:52.229Z"
        ],
        [
         "TEC-PH-10002680",
         "Samsung Galaxy Note 3",
         "Phones",
         "Technology",
         "Retail CSV",
         "2024-09-09T19:36:52.229Z"
        ],
        [
         "FUR-FU-10003849",
         "DAX Metal Frame, Desktop, Stepped-Edge",
         "Furnishings",
         "Furniture",
         "Retail CSV",
         "2024-09-09T19:36:52.229Z"
        ],
        [
         "FUR-FU-10004952",
         "C-Line Cubicle Keepers Polyproplyene Holder w/Velcro Back, 8-1/2x11, 25/Bx",
         "Furnishings",
         "Furniture",
         "Retail CSV",
         "2024-09-09T19:36:52.229Z"
        ],
        [
         "FUR-FU-10003268",
         "Eldon Radial Chair Mat for Low to Medium Pile Carpets",
         "Furnishings",
         "Furniture",
         "Retail CSV",
         "2024-09-09T19:36:52.229Z"
        ],
        [
         "FUR-FU-10002088",
         "Nu-Dell Float Frame 11 x 14 1/2",
         "Furnishings",
         "Furniture",
         "Retail CSV",
         "2024-09-09T19:36:52.229Z"
        ],
        [
         "OFF-BI-10001460",
         "Plastic Binding Combs",
         "Binders",
         "Office Supplies",
         "Retail CSV",
         "2024-09-09T19:36:52.229Z"
        ],
        [
         "OFF-BI-10003694",
         "\"Avery 3 1/2\"\" Diskette Storage Pages",
         "Binders",
         "Office Supplies",
         "Retail CSV",
         "2024-09-09T19:36:52.229Z"
        ],
        [
         "FUR-CH-10003973",
         "GuestStacker Chair with Chrome Finish Legs",
         "Chairs",
         "Furniture",
         "Retail CSV",
         "2024-09-09T19:36:52.229Z"
        ],
        [
         "OFF-PA-10002923",
         "Xerox 1942",
         "Paper",
         "Office Supplies",
         "Retail CSV",
         "2024-09-09T19:36:52.229Z"
        ],
        [
         "OFF-ST-10000321",
         "Akro Stacking Bins",
         "Storage",
         "Office Supplies",
         "Retail CSV",
         "2024-09-09T19:36:52.229Z"
        ],
        [
         "OFF-FA-10002983",
         "Advantus SlideClip Paper Clips",
         "Fasteners",
         "Office Supplies",
         "Retail CSV",
         "2024-09-09T19:36:52.229Z"
        ],
        [
         "FUR-BO-10002268",
         "Sauder Barrister Bookcases",
         "Bookcases",
         "Furniture",
         "Retail CSV",
         "2024-09-09T19:36:52.229Z"
        ],
        [
         "OFF-ST-10002583",
         "Fellowes Neat Ideas Storage Cubes",
         "Storage",
         "Office Supplies",
         "Retail CSV",
         "2024-09-09T19:36:52.229Z"
        ],
        [
         "OFF-BI-10004094",
         "GBC Standard Plastic Binding Systems Combs",
         "Binders",
         "Office Supplies",
         "Retail CSV",
         "2024-09-09T19:36:52.229Z"
        ],
        [
         "OFF-PA-10001274",
         "Loose Memo Sheets",
         "Paper",
         "Office Supplies",
         "Retail CSV",
         "2024-09-09T19:36:52.229Z"
        ],
        [
         "OFF-ST-10001505",
         "\"Perma STOR-ALL Hanging File Box, 13 1/8\"\"W x 12 1/4\"\"D x 10 1/2\"\"H\"",
         "Storage",
         "Office Supplies",
         "Retail CSV",
         "2024-09-09T19:36:52.229Z"
        ],
        [
         "OFF-BI-10003784",
         "Computer Printout Index Tabs",
         "Binders",
         "Office Supplies",
         "Retail CSV",
         "2024-09-09T19:36:52.229Z"
        ],
        [
         "OFF-AP-10002651",
         "Hoover Upright Vacuum With Dirt Cup",
         "Appliances",
         "Office Supplies",
         "Retail CSV",
         "2024-09-09T19:36:52.229Z"
        ],
        [
         "TEC-PH-10001459",
         "Samsung Galaxy Mega 6.3",
         "Phones",
         "Technology",
         "Retail CSV",
         "2024-09-09T19:36:52.229Z"
        ],
        [
         "FUR-TA-10004152",
         "\"Barricks 18\"\" x 48\"\" Non-Folding Utility Table with Bottom Storage Shelf\"",
         "Tables",
         "Furniture",
         "Retail CSV",
         "2024-09-09T19:36:52.229Z"
        ],
        [
         "TEC-PH-10001795",
         "RCA H5401RE1 DECT 6.0 4-Line Cordless Handset With Caller ID/Call Waiting",
         "Phones",
         "Technology",
         "Retail CSV",
         "2024-09-09T19:36:52.229Z"
        ],
        [
         "TEC-AC-10004803",
         "Sony Micro Vault Click 4 GB USB 2.0 Flash Drive",
         "Accessories",
         "Technology",
         "Retail CSV",
         "2024-09-09T19:36:52.229Z"
        ],
        [
         "OFF-AR-10003986",
         "Avery Hi-Liter Pen Style Six-Color Fluorescent Set",
         "Art",
         "Office Supplies",
         "Retail CSV",
         "2024-09-09T19:36:52.229Z"
        ],
        [
         "FUR-BO-10004834",
         "Riverside Palais Royal Lawyers Bookcase, Royale Cherry Finish",
         "Bookcases",
         "Furniture",
         "Retail CSV",
         "2024-09-09T19:36:52.229Z"
        ],
        [
         "FUR-CH-10002372",
         "Office Star - Ergonomically Designed Knee Chair",
         "Chairs",
         "Furniture",
         "Retail CSV",
         "2024-09-09T19:36:52.229Z"
        ],
        [
         "OFF-PA-10002586",
         "Xerox 1970",
         "Paper",
         "Office Supplies",
         "Retail CSV",
         "2024-09-09T19:36:52.229Z"
        ],
        [
         "FUR-FU-10002298",
         "\"Rubbermaid ClusterMat Chairmats, Mat Size- 66\"\" x 60\"\"",
         "Furnishings",
         "Furniture",
         "Retail CSV",
         "2024-09-09T19:36:52.229Z"
        ],
        [
         "OFF-PA-10000223",
         "Xerox 2000",
         "Paper",
         "Office Supplies",
         "Retail CSV",
         "2024-09-09T19:36:52.229Z"
        ],
        [
         "TEC-PH-10004100",
         "Griffin GC17055 Auxiliary Audio Cable",
         "Phones",
         "Technology",
         "Retail CSV",
         "2024-09-09T19:36:52.229Z"
        ],
        [
         "TEC-MA-10003337",
         "Okidata B401 Printer",
         "Machines",
         "Technology",
         "Retail CSV",
         "2024-09-09T19:36:52.229Z"
        ],
        [
         "OFF-BI-10003650",
         "GBC DocuBind 300 Electric Binding Machine",
         "Binders",
         "Office Supplies",
         "Retail CSV",
         "2024-09-09T19:36:52.229Z"
        ],
        [
         "OFF-AR-10001662",
         "Rogers Handheld Barrel Pencil Sharpener",
         "Art",
         "Office Supplies",
         "Retail CSV",
         "2024-09-09T19:36:52.229Z"
        ],
        [
         "TEC-AC-10003832",
         "Imation 16GB Mini TravelDrive USB 2.0 Flash Drive",
         "Accessories",
         "Technology",
         "Retail CSV",
         "2024-09-09T19:36:52.229Z"
        ],
        [
         "FUR-FU-10004090",
         "\"Executive Impressions 14\"\" Contract Wall Clock\"",
         "Furnishings",
         "Furniture",
         "Retail CSV",
         "2024-09-09T19:36:52.229Z"
        ],
        [
         "OFF-EN-10001749",
         "Jiffy Padded Mailers with Self-Seal Closure",
         "Envelopes",
         "Office Supplies",
         "Retail CSV",
         "2024-09-09T19:36:52.229Z"
        ],
        [
         "OFF-BI-10002571",
         "Avery Framed View Binder, EZD Ring (Locking), Navy, 1 1/2\"\"",
         "Binders",
         "Office Supplies",
         "Retail CSV",
         "2024-09-09T19:36:52.229Z"
        ],
        [
         "TEC-AC-10001635",
         "KeyTronic KT400U2 - Keyboard - Black",
         "Accessories",
         "Technology",
         "Retail CSV",
         "2024-09-09T19:36:52.229Z"
        ],
        [
         "FUR-FU-10004848",
         "\"Howard Miller 13-3/4\"\" Diameter Brushed Chrome Round Wall Clock\"",
         "Furnishings",
         "Furniture",
         "Retail CSV",
         "2024-09-09T19:36:52.229Z"
        ],
        [
         "TEC-AC-10000844",
         "Logitech Gaming G510s - Keyboard",
         "Accessories",
         "Technology",
         "Retail CSV",
         "2024-09-09T19:36:52.229Z"
        ],
        [
         "FUR-FU-10002960",
         "Eldon 200 Class Desk Accessories, Burgundy",
         "Furnishings",
         "Furniture",
         "Retail CSV",
         "2024-09-09T19:36:52.229Z"
        ],
        [
         "TEC-MA-10002927",
         "Canon imageCLASS MF7460 Monochrome Digital Laser Multifunction Copier",
         "Machines",
         "Technology",
         "Retail CSV",
         "2024-09-09T19:36:52.229Z"
        ],
        [
         "OFF-EN-10001415",
         "Staple envelope",
         "Envelopes",
         "Office Supplies",
         "Retail CSV",
         "2024-09-09T19:36:52.229Z"
        ],
        [
         "OFF-LA-10004055",
         "Color-Coded Legal Exhibit Labels",
         "Labels",
         "Office Supplies",
         "Retail CSV",
         "2024-09-09T19:36:52.229Z"
        ],
        [
         "OFF-PA-10000100",
         "Xerox 1945",
         "Paper",
         "Office Supplies",
         "Retail CSV",
         "2024-09-09T19:36:52.229Z"
        ],
        [
         "OFF-FA-10000611",
         "Binder Clips by OIC",
         "Fasteners",
         "Office Supplies",
         "Retail CSV",
         "2024-09-09T19:36:52.229Z"
        ],
        [
         "OFF-AR-10004582",
         "BIC Brite Liner Grip Highlighters",
         "Art",
         "Office Supplies",
         "Retail CSV",
         "2024-09-09T19:36:52.229Z"
        ],
        [
         "OFF-SU-10002301",
         "Serrated Blade or Curved Handle Hand Letter Openers",
         "Supplies",
         "Office Supplies",
         "Retail CSV",
         "2024-09-09T19:36:52.229Z"
        ],
        [
         "OFF-ST-10000636",
         "Rogers Profile Extra Capacity Storage Tub",
         "Storage",
         "Office Supplies",
         "Retail CSV",
         "2024-09-09T19:36:52.229Z"
        ],
        [
         "OFF-BI-10004584",
         "GBC ProClick 150 Presentation Binding System",
         "Binders",
         "Office Supplies",
         "Retail CSV",
         "2024-09-09T19:36:52.229Z"
        ],
        [
         "TEC-AC-10001142",
         "First Data FD10 PIN Pad",
         "Accessories",
         "Technology",
         "Retail CSV",
         "2024-09-09T19:36:52.229Z"
        ],
        [
         "OFF-ST-10001511",
         "Space Solutions Commercial Steel Shelving",
         "Storage",
         "Office Supplies",
         "Retail CSV",
         "2024-09-09T19:36:52.229Z"
        ],
        [
         "FUR-FU-10003553",
         "\"Howard Miller 13-1/2\"\" Diameter Rosebrook Wall Clock\"",
         "Furnishings",
         "Furniture",
         "Retail CSV",
         "2024-09-09T19:36:52.229Z"
        ],
        [
         "FUR-BO-10003433",
         "Sauder Cornerstone Collection Library",
         "Bookcases",
         "Furniture",
         "Retail CSV",
         "2024-09-09T19:36:52.229Z"
        ],
        [
         "OFF-PA-10004405",
         "Rediform Voice Mail Log Books",
         "Paper",
         "Office Supplies",
         "Retail CSV",
         "2024-09-09T19:36:52.229Z"
        ],
        [
         "FUR-FU-10004270",
         "\"Executive Impressions 13\"\" Clairmont Wall Clock\"",
         "Furnishings",
         "Furniture",
         "Retail CSV",
         "2024-09-09T19:36:52.229Z"
        ],
        [
         "OFF-AP-10000275",
         "Sanyo Counter Height Refrigerator with Crisper, 3.6 Cubic Foot, Stainless Steel/Black",
         "Appliances",
         "Office Supplies",
         "Retail CSV",
         "2024-09-09T19:36:52.229Z"
        ],
        [
         "OFF-BI-10004022",
         "Acco Suede Grain Vinyl Round Ring Binder",
         "Binders",
         "Office Supplies",
         "Retail CSV",
         "2024-09-09T19:36:52.229Z"
        ],
        [
         "TEC-PH-10002310",
         "Panasonic KX T7731-B Digital phone",
         "Phones",
         "Technology",
         "Retail CSV",
         "2024-09-09T19:36:52.229Z"
        ],
        [
         "FUR-FU-10001037",
         "DAX Charcoal/Nickel-Tone Document Frame, 5 x 7",
         "Furnishings",
         "Furniture",
         "Retail CSV",
         "2024-09-09T19:36:52.229Z"
        ],
        [
         "TEC-PH-10001527",
         "Plantronics MX500i Earset",
         "Phones",
         "Technology",
         "Retail CSV",
         "2024-09-09T19:36:52.229Z"
        ],
        [
         "TEC-PH-10000369",
         "HTC One Mini",
         "Phones",
         "Technology",
         "Retail CSV",
         "2024-09-09T19:36:52.229Z"
        ],
        [
         "FUR-FU-10001847",
         "Eldon Image Series Black Desk Accessories",
         "Furnishings",
         "Furniture",
         "Retail CSV",
         "2024-09-09T19:36:52.229Z"
        ],
        [
         "FUR-BO-10002853",
         "O'Sullivan 5-Shelf Heavy-Duty Bookcases",
         "Bookcases",
         "Furniture",
         "Retail CSV",
         "2024-09-09T19:36:52.229Z"
        ],
        [
         "TEC-MA-10001047",
         "3D Systems Cube Printer, 2nd Generation, Magenta",
         "Machines",
         "Technology",
         "Retail CSV",
         "2024-09-09T19:36:52.229Z"
        ],
        [
         "FUR-BO-10002545",
         "Atlantic Metals Mobile 3-Shelf Bookcases, Custom Colors",
         "Bookcases",
         "Furniture",
         "Retail CSV",
         "2024-09-09T19:36:52.229Z"
        ],
        [
         "OFF-BI-10000404",
         "Avery Printable Repositionable Plastic Tabs",
         "Binders",
         "Office Supplies",
         "Retail CSV",
         "2024-09-09T19:36:52.229Z"
        ],
        [
         "OFF-ST-10001272",
         "Mini 13-1/2 Capacity Data Binder Rack, Pearl",
         "Storage",
         "Office Supplies",
         "Retail CSV",
         "2024-09-09T19:36:52.229Z"
        ],
        [
         "OFF-BI-10004716",
         "Wilson Jones Hanging Recycled Pressboard Data Binders",
         "Binders",
         "Office Supplies",
         "Retail CSV",
         "2024-09-09T19:36:52.229Z"
        ],
        [
         "TEC-PH-10001494",
         "Polycom CX600 IP Phone VoIP phone",
         "Phones",
         "Technology",
         "Retail CSV",
         "2024-09-09T19:36:52.229Z"
        ],
        [
         "OFF-BI-10002026",
         "Avery Arch Ring Binders",
         "Binders",
         "Office Supplies",
         "Retail CSV",
         "2024-09-09T19:36:52.229Z"
        ],
        [
         "FUR-FU-10001731",
         "Acrylic Self-Standing Desk Frames",
         "Furnishings",
         "Furniture",
         "Retail CSV",
         "2024-09-09T19:36:52.229Z"
        ],
        [
         "OFF-AR-10000380",
         "Hunt PowerHouse Electric Pencil Sharpener, Blue",
         "Art",
         "Office Supplies",
         "Retail CSV",
         "2024-09-09T19:36:52.229Z"
        ],
        [
         "FUR-TA-10001768",
         "Hon Racetrack Conference Tables",
         "Tables",
         "Furniture",
         "Retail CSV",
         "2024-09-09T19:36:52.229Z"
        ],
        [
         "OFF-SU-10003505",
         "Premier Electric Letter Opener",
         "Supplies",
         "Office Supplies",
         "Retail CSV",
         "2024-09-09T19:36:52.229Z"
        ],
        [
         "OFF-BI-10001031",
         "Pressboard Data Binders by Wilson Jones",
         "Binders",
         "Office Supplies",
         "Retail CSV",
         "2024-09-09T19:36:52.229Z"
        ],
        [
         "OFF-BI-10004519",
         "GBC DocuBind P100 Manual Binding Machine",
         "Binders",
         "Office Supplies",
         "Retail CSV",
         "2024-09-09T19:36:52.229Z"
        ],
        [
         "OFF-BI-10004224",
         "Catalog Binders with Expanding Posts",
         "Binders",
         "Office Supplies",
         "Retail CSV",
         "2024-09-09T19:36:52.229Z"
        ],
        [
         "FUR-BO-10002213",
         "Sauder Forest Hills Library, Woodland Oak Finish",
         "Bookcases",
         "Furniture",
         "Retail CSV",
         "2024-09-09T19:36:52.229Z"
        ],
        [
         "FUR-CH-10002758",
         "Hon Deluxe Fabric Upholstered Stacking Chairs, Squared Back",
         "Chairs",
         "Furniture",
         "Retail CSV",
         "2024-09-09T19:36:52.229Z"
        ],
        [
         "OFF-PA-10001846",
         "Xerox 1899",
         "Paper",
         "Office Supplies",
         "Retail CSV",
         "2024-09-09T19:36:52.229Z"
        ],
        [
         "OFF-SU-10002573",
         "\"Acme 10\"\" Easy Grip Assistive Scissors\"",
         "Supplies",
         "Office Supplies",
         "Retail CSV",
         "2024-09-09T19:36:52.229Z"
        ],
        [
         "OFF-PA-10004911",
         "Rediform S.O.S. 1-Up Phone Message Bk, 4-1/4x3-1/16 Bk, 1 Form/Pg, 40 Messages/Bk, 3/Pk",
         "Paper",
         "Office Supplies",
         "Retail CSV",
         "2024-09-09T19:36:52.229Z"
        ],
        [
         "FUR-CH-10004289",
         "Global Super Steno Chair",
         "Chairs",
         "Furniture",
         "Retail CSV",
         "2024-09-09T19:36:52.229Z"
        ],
        [
         "OFF-PA-10003309",
         "Xerox 211",
         "Paper",
         "Office Supplies",
         "Retail CSV",
         "2024-09-09T19:36:52.229Z"
        ],
        [
         "TEC-AC-10003289",
         "Anker Ultra-Slim Mini Bluetooth 3.0 Wireless Keyboard",
         "Accessories",
         "Technology",
         "Retail CSV",
         "2024-09-09T19:36:52.229Z"
        ],
        [
         "OFF-PA-10001752",
         "Hammermill CopyPlus Copy Paper (20Lb. and 84 Bright)",
         "Paper",
         "Office Supplies",
         "Retail CSV",
         "2024-09-09T19:36:52.229Z"
        ],
        [
         "FUR-FU-10003247",
         "36X48 HARDFLOOR CHAIRMAT",
         "Furnishings",
         "Furniture",
         "Retail CSV",
         "2024-09-09T19:36:52.229Z"
        ],
        [
         "OFF-PA-10001977",
         "Xerox 194",
         "Paper",
         "Office Supplies",
         "Retail CSV",
         "2024-09-09T19:36:52.229Z"
        ],
        [
         "OFF-AP-10002867",
         "Fellowes Command Center 5-outlet power strip",
         "Appliances",
         "Office Supplies",
         "Retail CSV",
         "2024-09-09T19:36:52.229Z"
        ],
        [
         "FUR-BO-10000112",
         "Bush Birmingham Collection Bookcase, Dark Cherry",
         "Bookcases",
         "Furniture",
         "Retail CSV",
         "2024-09-09T19:36:52.229Z"
        ],
        [
         "OFF-AR-10000914",
         "Boston 16765 Mini Stand Up Battery Pencil Sharpener",
         "Art",
         "Office Supplies",
         "Retail CSV",
         "2024-09-09T19:36:52.229Z"
        ],
        [
         "FUR-FU-10004864",
         "\"Howard Miller 14-1/2\"\" Diameter Chrome Round Wall Clock\"",
         "Furnishings",
         "Furniture",
         "Retail CSV",
         "2024-09-09T19:36:52.229Z"
        ],
        [
         "FUR-CH-10002024",
         "HON 5400 Series Task Chairs for Big and Tall",
         "Chairs",
         "Furniture",
         "Retail CSV",
         "2024-09-09T19:36:52.229Z"
        ],
        [
         "FUR-CH-10000665",
         "Global Airflow Leather Mesh Back Chair, Black",
         "Chairs",
         "Furniture",
         "Retail CSV",
         "2024-09-09T19:36:52.229Z"
        ],
        [
         "OFF-PA-10002870",
         "Ampad Phone Message Book, Recycled, 400 Message Capacity, 5 ¾” x 11”",
         "Paper",
         "Office Supplies",
         "Retail CSV",
         "2024-09-09T19:36:52.229Z"
        ],
        [
         "OFF-PA-10004782",
         "Xerox 228",
         "Paper",
         "Office Supplies",
         "Retail CSV",
         "2024-09-09T19:36:52.229Z"
        ],
        [
         "TEC-AC-10002331",
         "Maxell 74 Minute CDR, 10/Pack",
         "Accessories",
         "Technology",
         "Retail CSV",
         "2024-09-09T19:36:52.229Z"
        ],
        [
         "TEC-PH-10001448",
         "Anker Astro 15000mAh USB Portable Charger",
         "Phones",
         "Technology",
         "Retail CSV",
         "2024-09-09T19:36:52.229Z"
        ],
        [
         "OFF-AR-10004456",
         "Panasonic KP-4ABK Battery-Operated Pencil Sharpener",
         "Art",
         "Office Supplies",
         "Retail CSV",
         "2024-09-09T19:36:52.229Z"
        ],
        [
         "OFF-BI-10002393",
         "Binder Posts",
         "Binders",
         "Office Supplies",
         "Retail CSV",
         "2024-09-09T19:36:52.229Z"
        ],
        [
         "FUR-BO-10003546",
         "Hon 4-Shelf Metal Bookcases",
         "Bookcases",
         "Furniture",
         "Retail CSV",
         "2024-09-09T19:36:52.229Z"
        ],
        [
         "TEC-MA-10004626",
         "Lexmark 20R1285 X6650 Wireless All-in-One Printer",
         "Machines",
         "Technology",
         "Retail CSV",
         "2024-09-09T19:36:52.229Z"
        ],
        [
         "OFF-BI-10002609",
         "Avery Hidden Tab Dividers for Binding Systems",
         "Binders",
         "Office Supplies",
         "Retail CSV",
         "2024-09-09T19:36:52.229Z"
        ],
        [
         "OFF-BI-10002706",
         "Avery Premier Heavy-Duty Binder with Round Locking Rings",
         "Binders",
         "Office Supplies",
         "Retail CSV",
         "2024-09-09T19:36:52.229Z"
        ],
        [
         "TEC-AC-10002567",
         "Logitech G602 Wireless Gaming Mouse",
         "Accessories",
         "Technology",
         "Retail CSV",
         "2024-09-09T19:36:52.229Z"
        ],
        [
         "OFF-PA-10004971",
         "Xerox 196",
         "Paper",
         "Office Supplies",
         "Retail CSV",
         "2024-09-09T19:36:52.229Z"
        ],
        [
         "OFF-AR-10000255",
         "Newell 328",
         "Art",
         "Office Supplies",
         "Retail CSV",
         "2024-09-09T19:36:52.229Z"
        ],
        [
         "OFF-AR-10003770",
         "Newell 340",
         "Art",
         "Office Supplies",
         "Retail CSV",
         "2024-09-09T19:36:52.229Z"
        ],
        [
         "FUR-FU-10001196",
         "DAX Cubicle Frames - 8x10",
         "Furnishings",
         "Furniture",
         "Retail CSV",
         "2024-09-09T19:36:52.229Z"
        ],
        [
         "OFF-PA-10001033",
         "Xerox 1893",
         "Paper",
         "Office Supplies",
         "Retail CSV",
         "2024-09-09T19:36:52.229Z"
        ],
        [
         "TEC-AC-10003628",
         "Logitech 910-002974 M325 Wireless Mouse for Web Scrolling",
         "Accessories",
         "Technology",
         "Retail CSV",
         "2024-09-09T19:36:52.229Z"
        ],
        [
         "FUR-TA-10004575",
         "Hon 5100 Series Wood Tables",
         "Tables",
         "Furniture",
         "Retail CSV",
         "2024-09-09T19:36:52.229Z"
        ],
        [
         "TEC-AC-10000710",
         "Maxell DVD-RAM Discs",
         "Accessories",
         "Technology",
         "Retail CSV",
         "2024-09-09T19:36:52.229Z"
        ],
        [
         "FUR-FU-10002191",
         "G.E. Halogen Desk Lamp Bulbs",
         "Furnishings",
         "Furniture",
         "Retail CSV",
         "2024-09-09T19:36:52.229Z"
        ],
        [
         "TEC-PH-10004539",
         "Wireless Extenders zBoost YX545 SOHO Signal Booster",
         "Phones",
         "Technology",
         "Retail CSV",
         "2024-09-09T19:36:52.229Z"
        ],
        [
         "OFF-ST-10002214",
         "X-Rack File for Hanging Folders",
         "Storage",
         "Office Supplies",
         "Retail CSV",
         "2024-09-09T19:36:52.229Z"
        ],
        [
         "OFF-ST-10002554",
         "Tennsco Industrial Shelving",
         "Storage",
         "Office Supplies",
         "Retail CSV",
         "2024-09-09T19:36:52.229Z"
        ],
        [
         "TEC-PH-10001051",
         "HTC One",
         "Phones",
         "Technology",
         "Retail CSV",
         "2024-09-09T19:36:52.229Z"
        ],
        [
         "OFF-PA-10001184",
         "Xerox 1903",
         "Paper",
         "Office Supplies",
         "Retail CSV",
         "2024-09-09T19:36:52.229Z"
        ],
        [
         "FUR-CH-10002320",
         "Hon Pagoda Stacking Chairs",
         "Chairs",
         "Furniture",
         "Retail CSV",
         "2024-09-09T19:36:52.229Z"
        ],
        [
         "OFF-AR-10003056",
         "Newell 341",
         "Art",
         "Office Supplies",
         "Retail CSV",
         "2024-09-09T19:36:52.229Z"
        ],
        [
         "OFF-PA-10000659",
         "Adams Phone Message Book, Professional, 400 Message Capacity, 5 3/6” x 11”",
         "Paper",
         "Office Supplies",
         "Retail CSV",
         "2024-09-09T19:36:52.229Z"
        ],
        [
         "TEC-PH-10001918",
         "Nortel Business Series Terminal T7208 Digital phone",
         "Phones",
         "Technology",
         "Retail CSV",
         "2024-09-09T19:36:52.229Z"
        ],
        [
         "FUR-CH-10000015",
         "Hon Multipurpose Stacking Arm Chairs",
         "Chairs",
         "Furniture",
         "Retail CSV",
         "2024-09-09T19:36:52.229Z"
        ],
        [
         "TEC-MA-10002937",
         "Canon Color ImageCLASS MF8580Cdw Wireless Laser All-In-One Printer, Copier, Scanner",
         "Machines",
         "Technology",
         "Retail CSV",
         "2024-09-09T19:36:52.229Z"
        ],
        [
         "TEC-PH-10001363",
         "Apple iPhone 5S",
         "Phones",
         "Technology",
         "Retail CSV",
         "2024-09-09T19:36:52.229Z"
        ],
        [
         "FUR-FU-10002759",
         "12-1/2 Diameter Round Wall Clock",
         "Furnishings",
         "Furniture",
         "Retail CSV",
         "2024-09-09T19:36:52.229Z"
        ],
        [
         "FUR-BO-10003272",
         "O'Sullivan Living Dimensions 5-Shelf Bookcases",
         "Bookcases",
         "Furniture",
         "Retail CSV",
         "2024-09-09T19:36:52.229Z"
        ],
        [
         "OFF-LA-10003223",
         "Avery 508",
         "Labels",
         "Office Supplies",
         "Retail CSV",
         "2024-09-09T19:36:52.229Z"
        ],
        [
         "TEC-PH-10002885",
         "Apple iPhone 5",
         "Phones",
         "Technology",
         "Retail CSV",
         "2024-09-09T19:36:52.229Z"
        ],
        [
         "OFF-ST-10001128",
         "Carina Mini System Audio Rack, Model AR050B",
         "Storage",
         "Office Supplies",
         "Retail CSV",
         "2024-09-09T19:36:52.229Z"
        ],
        [
         "TEC-PH-10001580",
         "Logitech Mobile Speakerphone P710e - speaker phone",
         "Phones",
         "Technology",
         "Retail CSV",
         "2024-09-09T19:36:52.229Z"
        ],
        [
         "FUR-FU-10002671",
         "Electrix 20W Halogen Replacement Bulb for Zoom-In Desk Lamp",
         "Furnishings",
         "Furniture",
         "Retail CSV",
         "2024-09-09T19:36:52.229Z"
        ],
        [
         "FUR-FU-10000073",
         "Deflect-O Glasstique Clear Desk Accessories",
         "Furnishings",
         "Furniture",
         "Retail CSV",
         "2024-09-09T19:36:52.229Z"
        ],
        [
         "OFF-PA-10000029",
         "Xerox 224",
         "Paper",
         "Office Supplies",
         "Retail CSV",
         "2024-09-09T19:36:52.229Z"
        ],
        [
         "OFF-BI-10000042",
         "\"Pressboard Data Binder, Crimson, 12\"\" X 8 1/2\"\"\"",
         "Binders",
         "Office Supplies",
         "Retail CSV",
         "2024-09-09T19:36:52.229Z"
        ],
        [
         "TEC-PH-10000895",
         "Polycom VVX 310 VoIP phone",
         "Phones",
         "Technology",
         "Retail CSV",
         "2024-09-09T19:36:52.229Z"
        ],
        [
         "OFF-ST-10000943",
         "Eldon ProFile File 'N Store Portable File Tub Letter/Legal Size Black",
         "Storage",
         "Office Supplies",
         "Retail CSV",
         "2024-09-09T19:36:52.229Z"
        ],
        [
         "OFF-PA-10002764",
         "Easy-staple paper",
         "Paper",
         "Office Supplies",
         "Retail CSV",
         "2024-09-09T19:36:52.229Z"
        ],
        [
         "OFF-PA-10003797",
         "Xerox 209",
         "Paper",
         "Office Supplies",
         "Retail CSV",
         "2024-09-09T19:36:52.229Z"
        ],
        [
         "OFF-AP-10000358",
         "Fellowes Basic Home/Office Series Surge Protectors",
         "Appliances",
         "Office Supplies",
         "Retail CSV",
         "2024-09-09T19:36:52.229Z"
        ],
        [
         "OFF-ST-10001590",
         "Tenex Personal Project File with Scoop Front Design, Black",
         "Storage",
         "Office Supplies",
         "Retail CSV",
         "2024-09-09T19:36:52.229Z"
        ],
        [
         "FUR-FU-10001095",
         "DAX Black Cherry Wood-Tone Poster Frame",
         "Furnishings",
         "Furniture",
         "Retail CSV",
         "2024-09-09T19:36:52.229Z"
        ],
        [
         "OFF-AR-10000315",
         "Dixon Ticonderoga Maple Cedar Pencil, #2",
         "Art",
         "Office Supplies",
         "Retail CSV",
         "2024-09-09T19:36:52.229Z"
        ],
        [
         "OFF-AR-10001473",
         "Newell 313",
         "Art",
         "Office Supplies",
         "Retail CSV",
         "2024-09-09T19:36:52.229Z"
        ],
        [
         "OFF-PA-10001001",
         "Snap-A-Way Black Print Carbonless Speed Message, No Reply Area, Duplicate",
         "Paper",
         "Office Supplies",
         "Retail CSV",
         "2024-09-09T19:36:52.229Z"
        ],
        [
         "TEC-PH-10002447",
         "AT&T CL83451 4-Handset Telephone",
         "Phones",
         "Technology",
         "Retail CSV",
         "2024-09-09T19:36:52.229Z"
        ],
        [
         "OFF-BI-10002852",
         "Ibico Standard Transparent Covers",
         "Binders",
         "Office Supplies",
         "Retail CSV",
         "2024-09-09T19:36:52.229Z"
        ],
        [
         "OFF-LA-10003148",
         "Avery 51",
         "Labels",
         "Office Supplies",
         "Retail CSV",
         "2024-09-09T19:36:52.229Z"
        ],
        [
         "OFF-ST-10003221",
         "Staple magnet",
         "Storage",
         "Office Supplies",
         "Retail CSV",
         "2024-09-09T19:36:52.229Z"
        ],
        [
         "OFF-AR-10000538",
         "Boston Model 1800 Electric Pencil Sharpener, Gray",
         "Art",
         "Office Supplies",
         "Retail CSV",
         "2024-09-09T19:36:52.229Z"
        ],
        [
         "OFF-EN-10002312",
         "#10 Self-Seal White Envelopes",
         "Envelopes",
         "Office Supplies",
         "Retail CSV",
         "2024-09-09T19:36:52.229Z"
        ],
        [
         "OFF-PA-10001534",
         "Xerox 230",
         "Paper",
         "Office Supplies",
         "Retail CSV",
         "2024-09-09T19:36:52.229Z"
        ],
        [
         "FUR-FU-10002379",
         "Eldon Econocleat Chair Mats for Low Pile Carpets",
         "Furnishings",
         "Furniture",
         "Retail CSV",
         "2024-09-09T19:36:52.229Z"
        ],
        [
         "OFF-BI-10002897",
         "\"Black Avery Memo-Size 3-Ring Binder, 5 1/2\"\" x 8 1/2\"\"\"",
         "Binders",
         "Office Supplies",
         "Retail CSV",
         "2024-09-09T19:36:52.229Z"
        ],
        [
         "FUR-BO-10004695",
         "O'Sullivan 2-Door Barrister Bookcase in Odessa Pine",
         "Bookcases",
         "Furniture",
         "Retail CSV",
         "2024-09-09T19:36:52.229Z"
        ],
        [
         "TEC-AC-10000109",
         "Sony Micro Vault Click 16 GB USB 2.0 Flash Drive",
         "Accessories",
         "Technology",
         "Retail CSV",
         "2024-09-09T19:36:52.229Z"
        ],
        [
         "OFF-ST-10000918",
         "Crate-A-Files",
         "Storage",
         "Office Supplies",
         "Retail CSV",
         "2024-09-09T19:36:52.229Z"
        ],
        [
         "FUR-CH-10004540",
         "Global Chrome Stack Chair",
         "Chairs",
         "Furniture",
         "Retail CSV",
         "2024-09-09T19:36:52.229Z"
        ],
        [
         "TEC-PH-10001300",
         "iKross Bluetooth Portable Keyboard + Cell Phone Stand Holder + Brush for Apple iPhone 5S 5C 5, 4S 4",
         "Phones",
         "Technology",
         "Retail CSV",
         "2024-09-09T19:36:52.229Z"
        ],
        [
         "OFF-LA-10003190",
         "Avery 474",
         "Labels",
         "Office Supplies",
         "Retail CSV",
         "2024-09-09T19:36:52.229Z"
        ],
        [
         "OFF-BI-10003091",
         "GBC DocuBind TL200 Manual Binding Machine",
         "Binders",
         "Office Supplies",
         "Retail CSV",
         "2024-09-09T19:36:52.229Z"
        ],
        [
         "OFF-PA-10002160",
         "Xerox 1978",
         "Paper",
         "Office Supplies",
         "Retail CSV",
         "2024-09-09T19:36:52.229Z"
        ],
        [
         "TEC-AC-10002550",
         "Maxell 4.7GB DVD-RW 3/Pack",
         "Accessories",
         "Technology",
         "Retail CSV",
         "2024-09-09T19:36:52.229Z"
        ],
        [
         "TEC-MA-10002859",
         "Ativa MDM8000 8-Sheet Micro-Cut Shredder",
         "Machines",
         "Technology",
         "Retail CSV",
         "2024-09-09T19:36:52.229Z"
        ],
        [
         "OFF-AR-10002135",
         "Boston Heavy-Duty Trimline Electric Pencil Sharpeners",
         "Art",
         "Office Supplies",
         "Retail CSV",
         "2024-09-09T19:36:52.229Z"
        ],
        [
         "OFF-PA-10002005",
         "Xerox 225",
         "Paper",
         "Office Supplies",
         "Retail CSV",
         "2024-09-09T19:36:52.229Z"
        ],
        [
         "FUR-FU-10002456",
         "Master Caster Door Stop, Large Neon Orange",
         "Furnishings",
         "Furniture",
         "Retail CSV",
         "2024-09-09T19:36:52.229Z"
        ],
        [
         "FUR-TA-10004175",
         "\"Hon 30\"\" x 60\"\" Table with Locking Drawer\"",
         "Tables",
         "Furniture",
         "Retail CSV",
         "2024-09-09T19:36:52.229Z"
        ],
        [
         "TEC-PH-10000923",
         "Belkin SportFit Armband For iPhone 5s/5c, Fuchsia",
         "Phones",
         "Technology",
         "Retail CSV",
         "2024-09-09T19:36:52.229Z"
        ],
        [
         "TEC-AC-10000358",
         "Imation Secure Drive + Hardware Encrypted USB flash drive - 16 GB",
         "Accessories",
         "Technology",
         "Retail CSV",
         "2024-09-09T19:36:52.229Z"
        ],
        [
         "OFF-AR-10004062",
         "Staples in misc. colors",
         "Art",
         "Office Supplies",
         "Retail CSV",
         "2024-09-09T19:36:52.229Z"
        ],
        [
         "TEC-AC-10003237",
         "Memorex Micro Travel Drive 4 GB",
         "Accessories",
         "Technology",
         "Retail CSV",
         "2024-09-09T19:36:52.229Z"
        ],
        [
         "TEC-MA-10000904",
         "Brother MFC-9340CDW LED All-In-One Printer, Copier Scanner",
         "Machines",
         "Technology",
         "Retail CSV",
         "2024-09-09T19:36:52.229Z"
        ],
        [
         "TEC-AC-10003027",
         "Imation 8GB Mini TravelDrive USB 2.0 Flash Drive",
         "Accessories",
         "Technology",
         "Retail CSV",
         "2024-09-09T19:36:52.229Z"
        ],
        [
         "TEC-PH-10004977",
         "GE 30524EE4",
         "Phones",
         "Technology",
         "Retail CSV",
         "2024-09-09T19:36:52.229Z"
        ],
        [
         "TEC-PH-10004536",
         "Avaya 5420 Digital phone",
         "Phones",
         "Technology",
         "Retail CSV",
         "2024-09-09T19:36:52.229Z"
        ],
        [
         "OFF-BI-10000343",
         "\"Pressboard Covers with Storage Hooks, 9 1/2\"\" x 11\"\"",
         "Binders",
         "Office Supplies",
         "Retail CSV",
         "2024-09-09T19:36:52.229Z"
        ],
        [
         "TEC-PH-10002398",
         "AT&T 1070 Corded Phone",
         "Phones",
         "Technology",
         "Retail CSV",
         "2024-09-09T19:36:52.229Z"
        ],
        [
         "OFF-AR-10003156",
         "50 Colored Long Pencils",
         "Art",
         "Office Supplies",
         "Retail CSV",
         "2024-09-09T19:36:52.229Z"
        ],
        [
         "TEC-PH-10003800",
         "i.Sound Portable Power - 8000 mAh",
         "Phones",
         "Technology",
         "Retail CSV",
         "2024-09-09T19:36:52.229Z"
        ],
        [
         "OFF-LA-10002787",
         "Avery 480",
         "Labels",
         "Office Supplies",
         "Retail CSV",
         "2024-09-09T19:36:52.229Z"
        ],
        [
         "OFF-BI-10004230",
         "GBC Recycled Grain Textured Covers",
         "Binders",
         "Office Supplies",
         "Retail CSV",
         "2024-09-09T19:36:52.229Z"
        ],
        [
         "OFF-ST-10002344",
         "\"Carina 42\"\"Hx23 3/4\"\"W Media Storage Unit\"",
         "Storage",
         "Office Supplies",
         "Retail CSV",
         "2024-09-09T19:36:52.229Z"
        ],
        [
         "FUR-TA-10002622",
         "Bush Andora Conference Table, Maple/Graphite Gray Finish",
         "Tables",
         "Furniture",
         "Retail CSV",
         "2024-09-09T19:36:52.229Z"
        ],
        [
         "OFF-PA-10001246",
         "Xerox 215",
         "Paper",
         "Office Supplies",
         "Retail CSV",
         "2024-09-09T19:36:52.229Z"
        ],
        [
         "OFF-PA-10001815",
         "Xerox 1885",
         "Paper",
         "Office Supplies",
         "Retail CSV",
         "2024-09-09T19:36:52.229Z"
        ],
        [
         "OFF-AP-10003779",
         "Kensington 7 Outlet MasterPiece Power Center with Fax/Phone Line Protection",
         "Appliances",
         "Office Supplies",
         "Retail CSV",
         "2024-09-09T19:36:52.229Z"
        ],
        [
         "OFF-BI-10000962",
         "\"Acco Flexible ACCOHIDE Square Ring Data Binder, Dark Blue, 11 1/2\"\" X 14\"\" 7/8\"\"\"",
         "Binders",
         "Office Supplies",
         "Retail CSV",
         "2024-09-09T19:36:52.229Z"
        ],
        [
         "TEC-MA-10003329",
         "Vtech AT&T CL2940 Corded Speakerphone, Black",
         "Machines",
         "Technology",
         "Retail CSV",
         "2024-09-09T19:36:52.229Z"
        ],
        [
         "OFF-LA-10002368",
         "Avery 479",
         "Labels",
         "Office Supplies",
         "Retail CSV",
         "2024-09-09T19:36:52.229Z"
        ],
        [
         "TEC-AC-10004633",
         "Verbatim 25 GB 6x Blu-ray Single Layer Recordable Disc, 3/Pack",
         "Accessories",
         "Technology",
         "Retail CSV",
         "2024-09-09T19:36:52.229Z"
        ],
        [
         "OFF-PA-10001144",
         "Xerox 1913",
         "Paper",
         "Office Supplies",
         "Retail CSV",
         "2024-09-09T19:36:52.229Z"
        ],
        [
         "OFF-BI-10004632",
         "Ibico Hi-Tech Manual Binding System",
         "Binders",
         "Office Supplies",
         "Retail CSV",
         "2024-09-09T19:36:52.229Z"
        ],
        [
         "FUR-CH-10003981",
         "Global Commerce Series Low-Back Swivel/Tilt Chairs",
         "Chairs",
         "Furniture",
         "Retail CSV",
         "2024-09-09T19:36:52.229Z"
        ],
        [
         "OFF-FA-10004395",
         "Plymouth Boxed Rubber Bands by Plymouth",
         "Fasteners",
         "Office Supplies",
         "Retail CSV",
         "2024-09-09T19:36:52.229Z"
        ],
        [
         "OFF-BI-10001267",
         "Universal Recycled Hanging Pressboard Report Binders, Letter Size",
         "Binders",
         "Office Supplies",
         "Retail CSV",
         "2024-09-09T19:36:52.229Z"
        ],
        [
         "OFF-BI-10004040",
         "Wilson Jones Impact Binders",
         "Binders",
         "Office Supplies",
         "Retail CSV",
         "2024-09-09T19:36:52.229Z"
        ],
        [
         "OFF-AR-10000657",
         "Binney & Smith inkTank Desk Highlighter, Chisel Tip, Yellow, 12/Box",
         "Art",
         "Office Supplies",
         "Retail CSV",
         "2024-09-09T19:36:52.229Z"
        ],
        [
         "TEC-PH-10001619",
         "LG G3",
         "Phones",
         "Technology",
         "Retail CSV",
         "2024-09-09T19:36:52.229Z"
        ],
        [
         "OFF-PA-10003036",
         "\"Black Print Carbonless 8 1/2\"\" x 8 1/4\"\" Rapid Memo Book\"",
         "Paper",
         "Office Supplies",
         "Retail CSV",
         "2024-09-09T19:36:52.229Z"
        ],
        [
         "TEC-MA-10004552",
         "Star Micronics TSP100 TSP143LAN Receipt Printer",
         "Machines",
         "Technology",
         "Retail CSV",
         "2024-09-09T19:36:52.229Z"
        ],
        [
         "OFF-AR-10003602",
         "Quartet Omega Colored Chalk, 12/Pack",
         "Art",
         "Office Supplies",
         "Retail CSV",
         "2024-09-09T19:36:52.229Z"
        ],
        [
         "TEC-AC-10002399",
         "SanDisk Cruzer 32 GB USB Flash Drive",
         "Accessories",
         "Technology",
         "Retail CSV",
         "2024-09-09T19:36:52.229Z"
        ],
        [
         "OFF-BI-10000605",
         "\"Acco Pressboard Covers with Storage Hooks, 9 1/2\"\" x 11\"\"",
         "Binders",
         "Office Supplies",
         "Retail CSV",
         "2024-09-09T19:36:52.229Z"
        ],
        [
         "TEC-PH-10002103",
         "Jabra SPEAK 410",
         "Phones",
         "Technology",
         "Retail CSV",
         "2024-09-09T19:36:52.229Z"
        ],
        [
         "OFF-PA-10000682",
         "Xerox 1924",
         "Paper",
         "Office Supplies",
         "Retail CSV",
         "2024-09-09T19:36:52.229Z"
        ],
        [
         "OFF-PA-10000806",
         "Xerox 1934",
         "Paper",
         "Office Supplies",
         "Retail CSV",
         "2024-09-09T19:36:52.229Z"
        ],
        [
         "FUR-BO-10003965",
         "O'Sullivan Manor Hill 2-Door Library in Brianna Oak",
         "Bookcases",
         "Furniture",
         "Retail CSV",
         "2024-09-09T19:36:52.229Z"
        ],
        [
         "FUR-FU-10000308",
         "Deflect-o Glass Clear Studded Chair Mats",
         "Furnishings",
         "Furniture",
         "Retail CSV",
         "2024-09-09T19:36:52.229Z"
        ],
        [
         "OFF-LA-10002945",
         "Permanent Self-Adhesive File Folder Labels for Typewriters, 1 1/8 x 3 1/2, White",
         "Labels",
         "Office Supplies",
         "Retail CSV",
         "2024-09-09T19:36:52.229Z"
        ],
        [
         "TEC-AC-10002857",
         "Verbatim 25 GB 6x Blu-ray Single Layer Recordable Disc, 1/Pack",
         "Accessories",
         "Technology",
         "Retail CSV",
         "2024-09-09T19:36:52.229Z"
        ],
        [
         "OFF-PA-10002137",
         "Southworth 100% Résumé Paper, 24lb.",
         "Paper",
         "Office Supplies",
         "Retail CSV",
         "2024-09-09T19:36:52.229Z"
        ],
        [
         "FUR-TA-10002774",
         "Laminate Occasional Tables",
         "Tables",
         "Furniture",
         "Retail CSV",
         "2024-09-09T19:36:52.229Z"
        ],
        [
         "FUR-FU-10002253",
         "\"Howard Miller 13\"\" Diameter Pewter Finish Round Wall Clock\"",
         "Furnishings",
         "Furniture",
         "Retail CSV",
         "2024-09-09T19:36:52.229Z"
        ],
        [
         "FUR-CH-10001714",
         "Global Leather & Oak Executive Chair, Burgundy",
         "Chairs",
         "Furniture",
         "Retail CSV",
         "2024-09-09T19:36:52.229Z"
        ],
        [
         "OFF-FA-10001229",
         "Staples",
         "Fasteners",
         "Office Supplies",
         "Retail CSV",
         "2024-09-09T19:36:52.229Z"
        ],
        [
         "FUR-CH-10004495",
         "Global Leather and Oak Executive Chair, Black",
         "Chairs",
         "Furniture",
         "Retail CSV",
         "2024-09-09T19:36:52.229Z"
        ],
        [
         "OFF-LA-10000476",
         "Avery 05222 Permanent Self-Adhesive File Folder Labels for Typewriters, on Rolls, White, 250/Roll",
         "Labels",
         "Office Supplies",
         "Retail CSV",
         "2024-09-09T19:36:52.229Z"
        ],
        [
         "FUR-FU-10000277",
         "Deflect-o DuraMat Antistatic Studded Beveled Mat for Medium Pile Carpeting",
         "Furnishings",
         "Furniture",
         "Retail CSV",
         "2024-09-09T19:36:52.229Z"
        ],
        [
         "OFF-ST-10004123",
         "Safco Industrial Wire Shelving System",
         "Storage",
         "Office Supplies",
         "Retail CSV",
         "2024-09-09T19:36:52.229Z"
        ],
        [
         "OFF-EN-10000927",
         "Jet-Pak Recycled Peel 'N' Seal Padded Mailers",
         "Envelopes",
         "Office Supplies",
         "Retail CSV",
         "2024-09-09T19:36:52.229Z"
        ],
        [
         "OFF-ST-10002790",
         "Safco Industrial Shelving",
         "Storage",
         "Office Supplies",
         "Retail CSV",
         "2024-09-09T19:36:52.229Z"
        ],
        [
         "OFF-AR-10003405",
         "Dixon My First Ticonderoga Pencil, #2",
         "Art",
         "Office Supplies",
         "Retail CSV",
         "2024-09-09T19:36:52.229Z"
        ],
        [
         "OFF-BI-10001132",
         "\"Acco PRESSTEX Data Binder with Storage Hooks, Dark Blue, 9 1/2\"\" X 11\"\"\"",
         "Binders",
         "Office Supplies",
         "Retail CSV",
         "2024-09-09T19:36:52.229Z"
        ],
        [
         "FUR-CH-10003199",
         "Office Star - Contemporary Task Swivel Chair",
         "Chairs",
         "Furniture",
         "Retail CSV",
         "2024-09-09T19:36:52.229Z"
        ],
        [
         "OFF-PA-10001281",
         "Computer Printout Paper with Letter-Trim Fine Perforations",
         "Paper",
         "Office Supplies",
         "Retail CSV",
         "2024-09-09T19:36:52.229Z"
        ],
        [
         "OFF-AR-10003903",
         "Sanford 52201 APSCO Electric Pencil Sharpener",
         "Art",
         "Office Supplies",
         "Retail CSV",
         "2024-09-09T19:36:52.229Z"
        ],
        [
         "FUR-BO-10004467",
         "Bestar Classic Bookcase",
         "Bookcases",
         "Furniture",
         "Retail CSV",
         "2024-09-09T19:36:52.229Z"
        ],
        [
         "FUR-FU-10004093",
         "Hand-Finished Solid Wood Document Frame",
         "Furnishings",
         "Furniture",
         "Retail CSV",
         "2024-09-09T19:36:52.229Z"
        ],
        [
         "TEC-PH-10002352",
         "Avaya IP Phone 1140E VoIP phone",
         "Phones",
         "Technology",
         "Retail CSV",
         "2024-09-09T19:36:52.229Z"
        ],
        [
         "OFF-FA-10002975",
         "Staples",
         "Fasteners",
         "Office Supplies",
         "Retail CSV",
         "2024-09-09T19:36:52.229Z"
        ],
        [
         "OFF-PA-10003883",
         "\"Message Book, Phone, Wirebound Standard Line Memo, 2 3/4\"\" X 5\"\"\"",
         "Paper",
         "Office Supplies",
         "Retail CSV",
         "2024-09-09T19:36:52.229Z"
        ],
        [
         "TEC-AC-10004145",
         "Logitech diNovo Edge Keyboard",
         "Accessories",
         "Technology",
         "Retail CSV",
         "2024-09-09T19:36:52.229Z"
        ],
        [
         "FUR-TA-10001866",
         "Bevis Round Conference Room Tables and Bases",
         "Tables",
         "Furniture",
         "Retail CSV",
         "2024-09-09T19:36:52.229Z"
        ],
        [
         "TEC-PH-10003691",
         "BlackBerry Q10",
         "Phones",
         "Technology",
         "Retail CSV",
         "2024-09-09T19:36:52.229Z"
        ],
        [
         "OFF-ST-10001031",
         "Adjustable Personal File Tote",
         "Storage",
         "Office Supplies",
         "Retail CSV",
         "2024-09-09T19:36:52.229Z"
        ],
        [
         "FUR-CH-10004626",
         "Office Star Flex Back Scooter Chair with Aluminum Finish Frame",
         "Chairs",
         "Furniture",
         "Retail CSV",
         "2024-09-09T19:36:52.229Z"
        ],
        [
         "FUR-FU-10002240",
         "Nu-Dell EZ-Mount Plastic Wall Frames",
         "Furnishings",
         "Furniture",
         "Retail CSV",
         "2024-09-09T19:36:52.229Z"
        ],
        [
         "OFF-PA-10001950",
         "Southworth 25% Cotton Antique Laid Paper & Envelopes",
         "Paper",
         "Office Supplies",
         "Retail CSV",
         "2024-09-09T19:36:52.229Z"
        ],
        [
         "OFF-AR-10003651",
         "Newell 350",
         "Art",
         "Office Supplies",
         "Retail CSV",
         "2024-09-09T19:36:52.229Z"
        ],
        [
         "OFF-PA-10001870",
         "Xerox 202",
         "Paper",
         "Office Supplies",
         "Retail CSV",
         "2024-09-09T19:36:52.229Z"
        ],
        [
         "FUR-FU-10000965",
         "\"Howard Miller 11-1/2\"\" Diameter Ridgewood Wall Clock\"",
         "Furnishings",
         "Furniture",
         "Retail CSV",
         "2024-09-09T19:36:52.229Z"
        ],
        [
         "TEC-PH-10002824",
         "Jabra SPEAK 410 Multidevice Speakerphone",
         "Phones",
         "Technology",
         "Retail CSV",
         "2024-09-09T19:36:52.229Z"
        ],
        [
         "OFF-BI-10001757",
         "Pressboard Hanging Data Binders for Unburst Sheets",
         "Binders",
         "Office Supplies",
         "Retail CSV",
         "2024-09-09T19:36:52.229Z"
        ],
        [
         "FUR-TA-10002533",
         "BPI Conference Tables",
         "Tables",
         "Furniture",
         "Retail CSV",
         "2024-09-09T19:36:52.229Z"
        ],
        [
         "OFF-AR-10004757",
         "Crayola Colored Pencils",
         "Art",
         "Office Supplies",
         "Retail CSV",
         "2024-09-09T19:36:52.229Z"
        ],
        [
         "OFF-ST-10001228",
         "Personal File Boxes with Fold-Down Carry Handle",
         "Storage",
         "Office Supplies",
         "Retail CSV",
         "2024-09-09T19:36:52.229Z"
        ],
        [
         "FUR-FU-10000222",
         "\"Seth Thomas 16\"\" Steel Case Clock\"",
         "Furnishings",
         "Furniture",
         "Retail CSV",
         "2024-09-09T19:36:52.229Z"
        ],
        [
         "OFF-LA-10004484",
         "Avery 476",
         "Labels",
         "Office Supplies",
         "Retail CSV",
         "2024-09-09T19:36:52.229Z"
        ],
        [
         "TEC-PH-10003357",
         "Grandstream GXP2100 Mainstream Business Phone",
         "Phones",
         "Technology",
         "Retail CSV",
         "2024-09-09T19:36:52.229Z"
        ],
        [
         "OFF-BI-10001359",
         "GBC DocuBind TL300 Electric Binding System",
         "Binders",
         "Office Supplies",
         "Retail CSV",
         "2024-09-09T19:36:52.229Z"
        ],
        [
         "FUR-BO-10000780",
         "O'Sullivan Plantations 2-Door Library in Landvery Oak",
         "Bookcases",
         "Furniture",
         "Retail CSV",
         "2024-09-09T19:36:52.229Z"
        ],
        [
         "FUR-FU-10004587",
         "GE General Use Halogen Bulbs, 100 Watts, 1 Bulb per Pack",
         "Furnishings",
         "Furniture",
         "Retail CSV",
         "2024-09-09T19:36:52.229Z"
        ],
        [
         "OFF-BI-10004233",
         "\"GBC Pre-Punched Binding Paper, Plastic, White, 8-1/2\"\" x 11\"\"\"",
         "Binders",
         "Office Supplies",
         "Retail CSV",
         "2024-09-09T19:36:52.229Z"
        ],
        [
         "OFF-AP-10004655",
         "Holmes Visible Mist Ultrasonic Humidifier with 2.3-Gallon Output per Day, Replacement Filter",
         "Appliances",
         "Office Supplies",
         "Retail CSV",
         "2024-09-09T19:36:52.229Z"
        ],
        [
         "OFF-BI-10001982",
         "Wilson Jones Custom Binder Spines & Labels",
         "Binders",
         "Office Supplies",
         "Retail CSV",
         "2024-09-09T19:36:52.229Z"
        ],
        [
         "OFF-SU-10004498",
         "Martin-Yale Premier Letter Opener",
         "Supplies",
         "Office Supplies",
         "Retail CSV",
         "2024-09-09T19:36:52.229Z"
        ],
        [
         "OFF-AR-10004078",
         "Newell 312",
         "Art",
         "Office Supplies",
         "Retail CSV",
         "2024-09-09T19:36:52.229Z"
        ],
        [
         "OFF-BI-10001071",
         "GBC ProClick Punch Binding System",
         "Binders",
         "Office Supplies",
         "Retail CSV",
         "2024-09-09T19:36:52.229Z"
        ],
        [
         "OFF-AR-10004790",
         "Staples in misc. colors",
         "Art",
         "Office Supplies",
         "Retail CSV",
         "2024-09-09T19:36:52.229Z"
        ],
        [
         "OFF-PA-10001583",
         "\"1/4 Fold Party Design Invitations & White Envelopes, 24 8-1/2\"\" X 11\"\" Cards",
         "Paper",
         "Office Supplies",
         "Retail CSV",
         "2024-09-09T19:36:52.229Z"
        ],
        [
         "OFF-PA-10000061",
         "Xerox 205",
         "Paper",
         "Office Supplies",
         "Retail CSV",
         "2024-09-09T19:36:52.229Z"
        ],
        [
         "OFF-AR-10000658",
         "Newell 324",
         "Art",
         "Office Supplies",
         "Retail CSV",
         "2024-09-09T19:36:52.229Z"
        ],
        [
         "OFF-BI-10001510",
         "Deluxe Heavy-Duty Vinyl Round Ring Binder",
         "Binders",
         "Office Supplies",
         "Retail CSV",
         "2024-09-09T19:36:52.229Z"
        ],
        [
         "TEC-PH-10004348",
         "OtterBox Defender Series Case - iPhone 5c",
         "Phones",
         "Technology",
         "Retail CSV",
         "2024-09-09T19:36:52.229Z"
        ],
        [
         "OFF-AP-10001626",
         "Commercial WindTunnel Clean Air Upright Vacuum, Replacement Belts, Filtration Bags",
         "Appliances",
         "Office Supplies",
         "Retail CSV",
         "2024-09-09T19:36:52.229Z"
        ],
        [
         "OFF-PA-10002245",
         "Xerox 1895",
         "Paper",
         "Office Supplies",
         "Retail CSV",
         "2024-09-09T19:36:52.229Z"
        ],
        [
         "FUR-FU-10002685",
         "\"Executive Impressions 13-1/2\"\" Indoor/Outdoor Wall Clock\"",
         "Furnishings",
         "Furniture",
         "Retail CSV",
         "2024-09-09T19:36:52.229Z"
        ],
        [
         "TEC-MA-10000418",
         "Cubify CubeX 3D Printer Double Head Print",
         "Machines",
         "Technology",
         "Retail CSV",
         "2024-09-09T19:36:52.229Z"
        ],
        [
         "OFF-PA-10000556",
         "Xerox 208",
         "Paper",
         "Office Supplies",
         "Retail CSV",
         "2024-09-09T19:36:52.229Z"
        ],
        [
         "FUR-FU-10002918",
         "Eldon ClusterMat Chair Mat with Cordless Antistatic Protection",
         "Furnishings",
         "Furniture",
         "Retail CSV",
         "2024-09-09T19:36:52.229Z"
        ],
        [
         "TEC-AC-10001445",
         "Imation USB 2.0 Swivel Flash Drive USB flash drive - 4 GB - Pink",
         "Accessories",
         "Technology",
         "Retail CSV",
         "2024-09-09T19:36:52.229Z"
        ],
        [
         "OFF-BI-10004330",
         "GBC Velobind Prepunched Cover Sets, Regency Series",
         "Binders",
         "Office Supplies",
         "Retail CSV",
         "2024-09-09T19:36:52.229Z"
        ],
        [
         "TEC-AC-10003657",
         "Lenovo 17-Key USB Numeric Keypad",
         "Accessories",
         "Technology",
         "Retail CSV",
         "2024-09-09T19:36:52.229Z"
        ],
        [
         "OFF-AR-10003373",
         "Boston School Pro Electric Pencil Sharpener, 1670",
         "Art",
         "Office Supplies",
         "Retail CSV",
         "2024-09-09T19:36:52.229Z"
        ],
        [
         "OFF-FA-10000624",
         "OIC Binder Clips",
         "Fasteners",
         "Office Supplies",
         "Retail CSV",
         "2024-09-09T19:36:52.229Z"
        ],
        [
         "OFF-PA-10002986",
         "Xerox 1898",
         "Paper",
         "Office Supplies",
         "Retail CSV",
         "2024-09-09T19:36:52.229Z"
        ],
        [
         "OFF-BI-10000138",
         "Acco Translucent Poly Ring Binders",
         "Binders",
         "Office Supplies",
         "Retail CSV",
         "2024-09-09T19:36:52.229Z"
        ],
        [
         "TEC-AC-10000865",
         "WD My Passport Ultra 500GB Portable External Hard Drive",
         "Accessories",
         "Technology",
         "Retail CSV",
         "2024-09-09T19:36:52.229Z"
        ],
        [
         "OFF-LA-10002381",
         "Avery 497",
         "Labels",
         "Office Supplies",
         "Retail CSV",
         "2024-09-09T19:36:52.229Z"
        ],
        [
         "OFF-PA-10002421",
         "Embossed Ink Jet Note Cards",
         "Paper",
         "Office Supplies",
         "Retail CSV",
         "2024-09-09T19:36:52.229Z"
        ],
        [
         "OFF-BI-10004308",
         "Avery Legal 4-Ring Binder",
         "Binders",
         "Office Supplies",
         "Retail CSV",
         "2024-09-09T19:36:52.229Z"
        ],
        [
         "OFF-BI-10001721",
         "Trimflex Flexible Post Binders",
         "Binders",
         "Office Supplies",
         "Retail CSV",
         "2024-09-09T19:36:52.229Z"
        ],
        [
         "OFF-BI-10002735",
         "GBC Prestige Therm-A-Bind Covers",
         "Binders",
         "Office Supplies",
         "Retail CSV",
         "2024-09-09T19:36:52.229Z"
        ],
        [
         "OFF-AR-10004027",
         "Binney & Smith inkTank Erasable Desk Highlighter, Chisel Tip, Yellow, 12/Box",
         "Art",
         "Office Supplies",
         "Retail CSV",
         "2024-09-09T19:36:52.229Z"
        ],
        [
         "OFF-PA-10002666",
         "Southworth 25% Cotton Linen-Finish Paper & Envelopes",
         "Paper",
         "Office Supplies",
         "Retail CSV",
         "2024-09-09T19:36:52.229Z"
        ],
        [
         "OFF-BI-10002498",
         "Clear Mylar Reinforcing Strips",
         "Binders",
         "Office Supplies",
         "Retail CSV",
         "2024-09-09T19:36:52.229Z"
        ],
        [
         "OFF-SU-10004664",
         "Acme Softgrip Scissors",
         "Supplies",
         "Office Supplies",
         "Retail CSV",
         "2024-09-09T19:36:52.229Z"
        ],
        [
         "OFF-ST-10000078",
         "Tennsco 6- and 18-Compartment Lockers",
         "Storage",
         "Office Supplies",
         "Retail CSV",
         "2024-09-09T19:36:52.229Z"
        ],
        [
         "TEC-PH-10000141",
         "Clearsounds A400",
         "Phones",
         "Technology",
         "Retail CSV",
         "2024-09-09T19:36:52.229Z"
        ],
        [
         "TEC-PH-10002075",
         "AT&T EL51110 DECT",
         "Phones",
         "Technology",
         "Retail CSV",
         "2024-09-09T19:36:52.229Z"
        ],
        [
         "OFF-BI-10004654",
         "VariCap6 Expandable Binder",
         "Binders",
         "Office Supplies",
         "Retail CSV",
         "2024-09-09T19:36:52.229Z"
        ],
        [
         "TEC-AC-10001874",
         "Logitech Wireless Anywhere Mouse MX for PC and Mac",
         "Accessories",
         "Technology",
         "Retail CSV",
         "2024-09-09T19:36:52.229Z"
        ],
        [
         "OFF-PA-10004022",
         "Hammermill Color Copier Paper (28Lb. and 96 Bright)",
         "Paper",
         "Office Supplies",
         "Retail CSV",
         "2024-09-09T19:36:52.229Z"
        ],
        [
         "TEC-MA-10002930",
         "Ricoh - Ink Collector Unit for GX3000 Series Printers",
         "Machines",
         "Technology",
         "Retail CSV",
         "2024-09-09T19:36:52.229Z"
        ],
        [
         "OFF-AR-10004707",
         "Staples in misc. colors",
         "Art",
         "Office Supplies",
         "Retail CSV",
         "2024-09-09T19:36:52.229Z"
        ],
        [
         "OFF-BI-10001634",
         "Wilson Jones Active Use Binders",
         "Binders",
         "Office Supplies",
         "Retail CSV",
         "2024-09-09T19:36:52.229Z"
        ],
        [
         "FUR-FU-10001475",
         "Contract Clock, 14\"",
         "Furnishings",
         "Furniture",
         "Retail CSV",
         "2024-09-09T19:36:52.229Z"
        ],
        [
         "OFF-AP-10004859",
         "Acco 6 Outlet Guardian Premium Surge Suppressor",
         "Appliances",
         "Office Supplies",
         "Retail CSV",
         "2024-09-09T19:36:52.229Z"
        ],
        [
         "TEC-AC-10004510",
         "Logitech Desktop MK120 Mouse and keyboard Combo",
         "Accessories",
         "Technology",
         "Retail CSV",
         "2024-09-09T19:36:52.229Z"
        ],
        [
         "FUR-FU-10000758",
         "DAX Natural Wood-Tone Poster Frame",
         "Furnishings",
         "Furniture",
         "Retail CSV",
         "2024-09-09T19:36:52.229Z"
        ],
        [
         "TEC-MA-10001972",
         "Okidata C331dn Printer",
         "Machines",
         "Technology",
         "Retail CSV",
         "2024-09-09T19:36:52.229Z"
        ],
        [
         "OFF-EN-10001509",
         "Poly String Tie Envelopes",
         "Envelopes",
         "Office Supplies",
         "Retail CSV",
         "2024-09-09T19:36:52.229Z"
        ],
        [
         "TEC-MA-10000010",
         "Hewlett-Packard Deskjet 3050a All-in-One Color Inkjet Printer",
         "Machines",
         "Technology",
         "Retail CSV",
         "2024-09-09T19:36:52.229Z"
        ],
        [
         "FUR-FU-10001488",
         "\"Tenex 46\"\" x 60\"\" Computer Anti-Static Chairmat",
         "Furnishings",
         "Furniture",
         "Retail CSV",
         "2024-09-09T19:36:52.229Z"
        ],
        [
         "TEC-PH-10000673",
         "Plantronics Voyager Pro HD - Bluetooth Headset",
         "Phones",
         "Technology",
         "Retail CSV",
         "2024-09-09T19:36:52.229Z"
        ],
        [
         "TEC-PH-10003171",
         "Plantronics Encore H101 Dual Earpieces Headset",
         "Phones",
         "Technology",
         "Retail CSV",
         "2024-09-09T19:36:52.229Z"
        ],
        [
         "OFF-AR-10002766",
         "Prang Drawing Pencil Set",
         "Art",
         "Office Supplies",
         "Retail CSV",
         "2024-09-09T19:36:52.229Z"
        ],
        [
         "OFF-BI-10000201",
         "Avery Triangle Shaped Sheet Lifters, Black, 2/Pack",
         "Binders",
         "Office Supplies",
         "Retail CSV",
         "2024-09-09T19:36:52.229Z"
        ],
        [
         "TEC-PH-10000215",
         "Plantronics Cordless Phone Headset with In-line Volume - M214C",
         "Phones",
         "Technology",
         "Retail CSV",
         "2024-09-09T19:36:52.229Z"
        ],
        [
         "OFF-ST-10000876",
         "Eldon Simplefile Box Office",
         "Storage",
         "Office Supplies",
         "Retail CSV",
         "2024-09-09T19:36:52.229Z"
        ],
        [
         "OFF-FA-10002815",
         "Staples",
         "Fasteners",
         "Office Supplies",
         "Retail CSV",
         "2024-09-09T19:36:52.229Z"
        ],
        [
         "TEC-AC-10004001",
         "Logitech Wireless Headset H600 Over-The-Head Design",
         "Accessories",
         "Technology",
         "Retail CSV",
         "2024-09-09T19:36:52.229Z"
        ],
        [
         "OFF-EN-10004773",
         "Staple envelope",
         "Envelopes",
         "Office Supplies",
         "Retail CSV",
         "2024-09-09T19:36:52.229Z"
        ],
        [
         "OFF-EN-10004846",
         "Letter or Legal Size Expandable Poly String Tie Envelopes",
         "Envelopes",
         "Office Supplies",
         "Retail CSV",
         "2024-09-09T19:36:52.229Z"
        ],
        [
         "OFF-FA-10004854",
         "Vinyl Coated Wire Paper Clips in Organizer Box, 800/Box",
         "Fasteners",
         "Office Supplies",
         "Retail CSV",
         "2024-09-09T19:36:52.229Z"
        ],
        [
         "FUR-CH-10002126",
         "Hon Deluxe Fabric Upholstered Stacking Chairs",
         "Chairs",
         "Furniture",
         "Retail CSV",
         "2024-09-09T19:36:52.229Z"
        ],
        [
         "OFF-AR-10002067",
         "Newell 334",
         "Art",
         "Office Supplies",
         "Retail CSV",
         "2024-09-09T19:36:52.229Z"
        ],
        [
         "FUR-BO-10003034",
         "O'Sullivan Elevations Bookcase, Cherry Finish",
         "Bookcases",
         "Furniture",
         "Retail CSV",
         "2024-09-09T19:36:52.229Z"
        ],
        [
         "TEC-AC-10000926",
         "NETGEAR RangeMax WNR1000 Wireless Router",
         "Accessories",
         "Technology",
         "Retail CSV",
         "2024-09-09T19:36:52.229Z"
        ],
        [
         "FUR-FU-10004091",
         "\"Howard Miller 13\"\" Diameter Goldtone Round Wall Clock\"",
         "Furnishings",
         "Furniture",
         "Retail CSV",
         "2024-09-09T19:36:52.229Z"
        ],
        [
         "TEC-PH-10003012",
         "Nortel Meridian M3904 Professional Digital phone",
         "Phones",
         "Technology",
         "Retail CSV",
         "2024-09-09T19:36:52.229Z"
        ],
        [
         "OFF-BI-10003094",
         "Self-Adhesive Ring Binder Labels",
         "Binders",
         "Office Supplies",
         "Retail CSV",
         "2024-09-09T19:36:52.229Z"
        ],
        [
         "FUR-TA-10002356",
         "Bevis Boat-Shaped Conference Table",
         "Tables",
         "Furniture",
         "Retail CSV",
         "2024-09-09T19:36:52.229Z"
        ],
        [
         "TEC-AC-10001013",
         "Logitech ClearChat Comfort/USB Headset H390",
         "Accessories",
         "Technology",
         "Retail CSV",
         "2024-09-09T19:36:52.229Z"
        ],
        [
         "OFF-AR-10002221",
         "12 Colored Short Pencils",
         "Art",
         "Office Supplies",
         "Retail CSV",
         "2024-09-09T19:36:52.229Z"
        ],
        [
         "OFF-LA-10001771",
         "Avery 513",
         "Labels",
         "Office Supplies",
         "Retail CSV",
         "2024-09-09T19:36:52.229Z"
        ],
        [
         "TEC-CO-10004722",
         "Canon imageCLASS 2200 Advanced Copier",
         "Copiers",
         "Technology",
         "Retail CSV",
         "2024-09-09T19:36:52.229Z"
        ],
        [
         "TEC-AC-10004420",
         "Cherry 142-key Programmable Keyboard",
         "Accessories",
         "Technology",
         "Retail CSV",
         "2024-09-09T19:36:52.229Z"
        ],
        [
         "TEC-MA-10000984",
         "Okidata MB760 Printer",
         "Machines",
         "Technology",
         "Retail CSV",
         "2024-09-09T19:36:52.229Z"
        ],
        [
         "TEC-AC-10002600",
         "Belkin QODE FastFit Bluetooth Keyboard",
         "Accessories",
         "Technology",
         "Retail CSV",
         "2024-09-09T19:36:52.229Z"
        ],
        [
         "TEC-PH-10004042",
         "ClearOne Communications CHAT 70 OC Speaker Phone",
         "Phones",
         "Technology",
         "Retail CSV",
         "2024-09-09T19:36:52.229Z"
        ],
        [
         "OFF-LA-10002312",
         "Avery 490",
         "Labels",
         "Office Supplies",
         "Retail CSV",
         "2024-09-09T19:36:52.229Z"
        ],
        [
         "FUR-TA-10001095",
         "Chromcraft Round Conference Tables",
         "Tables",
         "Furniture",
         "Retail CSV",
         "2024-09-09T19:36:52.229Z"
        ],
        [
         "OFF-BI-10004139",
         "Fellowes Presentation Covers for Comb Binding Machines",
         "Binders",
         "Office Supplies",
         "Retail CSV",
         "2024-09-09T19:36:52.229Z"
        ],
        [
         "OFF-AP-10004980",
         "3M Replacement Filter for Office Air Cleaner for 20' x 33' Room",
         "Appliances",
         "Office Supplies",
         "Retail CSV",
         "2024-09-09T19:36:52.229Z"
        ],
        [
         "OFF-AP-10004868",
         "Hoover Commercial Soft Guard Upright Vacuum And Disposable Filtration Bags",
         "Appliances",
         "Office Supplies",
         "Retail CSV",
         "2024-09-09T19:36:52.229Z"
        ],
        [
         "TEC-AC-10003023",
         "Logitech G105 Gaming Keyboard",
         "Accessories",
         "Technology",
         "Retail CSV",
         "2024-09-09T19:36:52.229Z"
        ],
        [
         "OFF-BI-10001718",
         "GBC DocuBind P50 Personal Binding Machine",
         "Binders",
         "Office Supplies",
         "Retail CSV",
         "2024-09-09T19:36:52.229Z"
        ],
        [
         "TEC-PH-10001835",
         "Jawbone JAMBOX Wireless Bluetooth Speaker",
         "Phones",
         "Technology",
         "Retail CSV",
         "2024-09-09T19:36:52.229Z"
        ],
        [
         "OFF-LA-10001982",
         "Smead Alpha-Z Color-Coded Name Labels First Letter Starter Set",
         "Labels",
         "Office Supplies",
         "Retail CSV",
         "2024-09-09T19:36:52.229Z"
        ],
        [
         "TEC-PH-10004080",
         "Avaya 5410 Digital phone",
         "Phones",
         "Technology",
         "Retail CSV",
         "2024-09-09T19:36:52.229Z"
        ],
        [
         "OFF-AR-10004930",
         "Turquoise Lead Holder with Pocket Clip",
         "Art",
         "Office Supplies",
         "Retail CSV",
         "2024-09-09T19:36:52.229Z"
        ],
        [
         "OFF-LA-10003930",
         "Dot Matrix Printer Tape Reel Labels, White, 5000/Box",
         "Labels",
         "Office Supplies",
         "Retail CSV",
         "2024-09-09T19:36:52.229Z"
        ],
        [
         "OFF-PA-10001954",
         "Xerox 1964",
         "Paper",
         "Office Supplies",
         "Retail CSV",
         "2024-09-09T19:36:52.229Z"
        ],
        [
         "OFF-AP-10003266",
         "Holmes Replacement Filter for HEPA Air Cleaner, Large Room",
         "Appliances",
         "Office Supplies",
         "Retail CSV",
         "2024-09-09T19:36:52.229Z"
        ],
        [
         "OFF-ST-10001476",
         "Steel Personal Filing/Posting Tote",
         "Storage",
         "Office Supplies",
         "Retail CSV",
         "2024-09-09T19:36:52.229Z"
        ],
        [
         "OFF-PA-10003641",
         "Xerox 1909",
         "Paper",
         "Office Supplies",
         "Retail CSV",
         "2024-09-09T19:36:52.229Z"
        ],
        [
         "OFF-LA-10002195",
         "Avery 481",
         "Labels",
         "Office Supplies",
         "Retail CSV",
         "2024-09-09T19:36:52.229Z"
        ],
        [
         "OFF-AP-10004540",
         "Eureka The Boss Lite 10-Amp Upright Vacuum, Blue",
         "Appliances",
         "Office Supplies",
         "Retail CSV",
         "2024-09-09T19:36:52.229Z"
        ],
        [
         "OFF-AR-10001216",
         "Newell 339",
         "Art",
         "Office Supplies",
         "Retail CSV",
         "2024-09-09T19:36:52.229Z"
        ],
        [
         "TEC-PH-10004071",
         "PayAnywhere Card Reader",
         "Phones",
         "Technology",
         "Retail CSV",
         "2024-09-09T19:36:52.229Z"
        ],
        [
         "TEC-MA-10004255",
         "Konica Minolta magicolor 1690MF Multifunction Printer",
         "Machines",
         "Technology",
         "Retail CSV",
         "2024-09-09T19:36:52.229Z"
        ],
        [
         "TEC-MA-10001856",
         "Okidata C610n Printer",
         "Machines",
         "Technology",
         "Retail CSV",
         "2024-09-09T19:36:52.229Z"
        ],
        [
         "OFF-AR-10001953",
         "Boston 1645 Deluxe Heavier-Duty Electric Pencil Sharpener",
         "Art",
         "Office Supplies",
         "Retail CSV",
         "2024-09-09T19:36:52.229Z"
        ],
        [
         "OFF-PA-10004451",
         "Xerox 222",
         "Paper",
         "Office Supplies",
         "Retail CSV",
         "2024-09-09T19:36:52.229Z"
        ],
        [
         "OFF-EN-10001219",
         "\"#10- 4 1/8\"\" x 9 1/2\"\" Security-Tint Envelopes\"",
         "Envelopes",
         "Office Supplies",
         "Retail CSV",
         "2024-09-09T19:36:52.229Z"
        ],
        [
         "OFF-ST-10001097",
         "Office Impressions Heavy Duty Welded Shelving & Multimedia Storage Drawers",
         "Storage",
         "Office Supplies",
         "Retail CSV",
         "2024-09-09T19:36:52.229Z"
        ],
        [
         "OFF-ST-10000352",
         "Acco Perma 2700 Stacking Storage Drawers",
         "Storage",
         "Office Supplies",
         "Retail CSV",
         "2024-09-09T19:36:52.229Z"
        ],
        [
         "OFF-SU-10000898",
         "\"Acme Hot Forged Carbon Steel Scissors with Nickel-Plated Handles, 3 7/8\"\" Cut",
         "Supplies",
         "Office Supplies",
         "Retail CSV",
         "2024-09-09T19:36:52.229Z"
        ],
        [
         "TEC-PH-10000912",
         "Anker 24W Portable Micro USB Car Charger",
         "Phones",
         "Technology",
         "Retail CSV",
         "2024-09-09T19:36:52.229Z"
        ],
        [
         "OFF-SU-10000946",
         "Staple remover",
         "Supplies",
         "Office Supplies",
         "Retail CSV",
         "2024-09-09T19:36:52.229Z"
        ],
        [
         "OFF-PA-10000552",
         "Xerox 200",
         "Paper",
         "Office Supplies",
         "Retail CSV",
         "2024-09-09T19:36:52.229Z"
        ],
        [
         "TEC-AC-10004992",
         "Kingston Digital DataTraveler 64GB USB 2.0",
         "Accessories",
         "Technology",
         "Retail CSV",
         "2024-09-09T19:36:52.229Z"
        ],
        [
         "TEC-PH-10002070",
         "Griffin GC36547 PowerJolt SE Lightning Charger",
         "Phones",
         "Technology",
         "Retail CSV",
         "2024-09-09T19:36:52.229Z"
        ],
        [
         "FUR-TA-10004534",
         "Bevis 44 x 96 Conference Tables",
         "Tables",
         "Furniture",
         "Retail CSV",
         "2024-09-09T19:36:52.229Z"
        ],
        [
         "OFF-PA-10003823",
         "Xerox 197",
         "Paper",
         "Office Supplies",
         "Retail CSV",
         "2024-09-09T19:36:52.229Z"
        ],
        [
         "FUR-TA-10003715",
         "Hon 2111 Invitation Series Corner Table",
         "Tables",
         "Furniture",
         "Retail CSV",
         "2024-09-09T19:36:52.229Z"
        ],
        [
         "TEC-AC-10002926",
         "Logitech Wireless Marathon Mouse M705",
         "Accessories",
         "Technology",
         "Retail CSV",
         "2024-09-09T19:36:52.229Z"
        ],
        [
         "OFF-BI-10004410",
         "C-Line Peel & Stick Add-On Filing Pockets, 8-3/4 x 5-1/8, 10/Pack",
         "Binders",
         "Office Supplies",
         "Retail CSV",
         "2024-09-09T19:36:52.229Z"
        ],
        [
         "OFF-BI-10004781",
         "GBC Wire Binding Strips",
         "Binders",
         "Office Supplies",
         "Retail CSV",
         "2024-09-09T19:36:52.229Z"
        ],
        [
         "OFF-AP-10002518",
         "Kensington 7 Outlet MasterPiece Power Center",
         "Appliances",
         "Office Supplies",
         "Retail CSV",
         "2024-09-09T19:36:52.229Z"
        ],
        [
         "TEC-AC-10004469",
         "Microsoft Sculpt Comfort Mouse",
         "Accessories",
         "Technology",
         "Retail CSV",
         "2024-09-09T19:36:52.229Z"
        ],
        [
         "TEC-AC-10004114",
         "KeyTronic 6101 Series - Keyboard - Black",
         "Accessories",
         "Technology",
         "Retail CSV",
         "2024-09-09T19:36:52.229Z"
        ],
        [
         "FUR-CH-10002331",
         "Hon 4700 Series Mobuis Mid-Back Task Chairs with Adjustable Arms",
         "Chairs",
         "Furniture",
         "Retail CSV",
         "2024-09-09T19:36:52.229Z"
        ],
        [
         "FUR-CH-10004675",
         "Lifetime Advantage Folding Chairs, 4/Carton",
         "Chairs",
         "Furniture",
         "Retail CSV",
         "2024-09-09T19:36:52.229Z"
        ],
        [
         "TEC-MA-10004212",
         "Cisco SPA525G2 5-Line IP Phone",
         "Machines",
         "Technology",
         "Retail CSV",
         "2024-09-09T19:36:52.229Z"
        ],
        [
         "TEC-PH-10002115",
         "Plantronics 81402",
         "Phones",
         "Technology",
         "Retail CSV",
         "2024-09-09T19:36:52.229Z"
        ],
        [
         "OFF-FA-10003495",
         "Staples",
         "Fasteners",
         "Office Supplies",
         "Retail CSV",
         "2024-09-09T19:36:52.229Z"
        ],
        [
         "OFF-AR-10001955",
         "Newell 319",
         "Art",
         "Office Supplies",
         "Retail CSV",
         "2024-09-09T19:36:52.229Z"
        ],
        [
         "OFF-EN-10002973",
         "Ampad #10 Peel & Seel Holiday Envelopes",
         "Envelopes",
         "Office Supplies",
         "Retail CSV",
         "2024-09-09T19:36:52.229Z"
        ],
        [
         "TEC-PH-10002310",
         "Plantronics Calisto P620-M USB Wireless Speakerphone System",
         "Phones",
         "Technology",
         "Retail CSV",
         "2024-09-09T19:36:52.229Z"
        ],
        [
         "OFF-AR-10003727",
         "Berol Giant Pencil Sharpener",
         "Art",
         "Office Supplies",
         "Retail CSV",
         "2024-09-09T19:36:52.229Z"
        ],
        [
         "TEC-MA-10001148",
         "Okidata MB491 Multifunction Printer",
         "Machines",
         "Technology",
         "Retail CSV",
         "2024-09-09T19:36:52.229Z"
        ],
        [
         "OFF-PA-10002749",
         "Wirebound Message Books, 5-1/2 x 4 Forms, 2 or 4 Forms per Page",
         "Paper",
         "Office Supplies",
         "Retail CSV",
         "2024-09-09T19:36:52.229Z"
        ],
        [
         "OFF-ST-10002276",
         "Safco Steel Mobile File Cart",
         "Storage",
         "Office Supplies",
         "Retail CSV",
         "2024-09-09T19:36:52.229Z"
        ],
        [
         "OFF-LA-10003766",
         "Self-Adhesive Removable Labels",
         "Labels",
         "Office Supplies",
         "Retail CSV",
         "2024-09-09T19:36:52.229Z"
        ],
        [
         "OFF-BI-10004817",
         "GBC Personal VeloBind Strips",
         "Binders",
         "Office Supplies",
         "Retail CSV",
         "2024-09-09T19:36:52.229Z"
        ],
        [
         "OFF-PA-10001471",
         "Strathmore Photo Frame Cards",
         "Paper",
         "Office Supplies",
         "Retail CSV",
         "2024-09-09T19:36:52.229Z"
        ],
        [
         "OFF-FA-10000621",
         "OIC Colored Binder Clips, Assorted Sizes",
         "Fasteners",
         "Office Supplies",
         "Retail CSV",
         "2024-09-09T19:36:52.229Z"
        ],
        [
         "FUR-BO-10004015",
         "Bush Andora Bookcase, Maple/Graphite Gray Finish",
         "Bookcases",
         "Furniture",
         "Retail CSV",
         "2024-09-09T19:36:52.229Z"
        ],
        [
         "TEC-PH-10004700",
         "PowerGen Dual USB Car Charger",
         "Phones",
         "Technology",
         "Retail CSV",
         "2024-09-09T19:36:52.229Z"
        ],
        [
         "OFF-PA-10002968",
         "Xerox 1973",
         "Paper",
         "Office Supplies",
         "Retail CSV",
         "2024-09-09T19:36:52.229Z"
        ],
        [
         "OFF-PA-10003129",
         "Tops White Computer Printout Paper",
         "Paper",
         "Office Supplies",
         "Retail CSV",
         "2024-09-09T19:36:52.229Z"
        ],
        [
         "TEC-AC-10004864",
         "Memorex Micro Travel Drive 32 GB",
         "Accessories",
         "Technology",
         "Retail CSV",
         "2024-09-09T19:36:52.229Z"
        ],
        [
         "OFF-BI-10001617",
         "GBC Wire Binding Combs",
         "Binders",
         "Office Supplies",
         "Retail CSV",
         "2024-09-09T19:36:52.229Z"
        ],
        [
         "OFF-EN-10003567",
         "\"Inter-Office Recycled Envelopes, Brown Kraft, Button-String,10\"\" x 13\"\" ",
         "Envelopes",
         "Office Supplies",
         "Retail CSV",
         "2024-09-09T19:36:52.229Z"
        ],
        [
         "OFF-PA-10002751",
         "Xerox 1920",
         "Paper",
         "Office Supplies",
         "Retail CSV",
         "2024-09-09T19:36:52.229Z"
        ],
        [
         "OFF-BI-10002160",
         "Acco Hanging Data Binders",
         "Binders",
         "Office Supplies",
         "Retail CSV",
         "2024-09-09T19:36:52.229Z"
        ],
        [
         "OFF-BI-10001989",
         "Premium Transparent Presentation Covers by GBC",
         "Binders",
         "Office Supplies",
         "Retail CSV",
         "2024-09-09T19:36:52.229Z"
        ],
        [
         "TEC-PH-10000004",
         "Belkin iPhone and iPad Lightning Cable",
         "Phones",
         "Technology",
         "Retail CSV",
         "2024-09-09T19:36:52.229Z"
        ],
        [
         "TEC-AC-10003174",
         "Plantronics S12 Corded Telephone Headset System",
         "Accessories",
         "Technology",
         "Retail CSV",
         "2024-09-09T19:36:52.229Z"
        ],
        [
         "TEC-AC-10000023",
         "Maxell 74 Minute CD-R Spindle, 50/Pack",
         "Accessories",
         "Technology",
         "Retail CSV",
         "2024-09-09T19:36:52.229Z"
        ],
        [
         "OFF-ST-10000649",
         "Hanging Personal Folder File",
         "Storage",
         "Office Supplies",
         "Retail CSV",
         "2024-09-09T19:36:52.229Z"
        ],
        [
         "FUR-TA-10002958",
         "Bevis Oval Conference Table, Walnut",
         "Tables",
         "Furniture",
         "Retail CSV",
         "2024-09-09T19:36:52.229Z"
        ],
        [
         "OFF-PA-10004609",
         "Xerox 221",
         "Paper",
         "Office Supplies",
         "Retail CSV",
         "2024-09-09T19:36:52.229Z"
        ],
        [
         "FUR-CH-10001545",
         "Hon Comfortask Task/Swivel Chairs",
         "Chairs",
         "Furniture",
         "Retail CSV",
         "2024-09-09T19:36:52.229Z"
        ],
        [
         "FUR-FU-10003806",
         "\"Tenex Chairmat w/ Average Lip, 45\"\" x 53\"\"\"",
         "Furnishings",
         "Furniture",
         "Retail CSV",
         "2024-09-09T19:36:52.229Z"
        ],
        [
         "OFF-PA-10003177",
         "Xerox 1999",
         "Paper",
         "Office Supplies",
         "Retail CSV",
         "2024-09-09T19:36:52.229Z"
        ],
        [
         "FUR-FU-10000629",
         "9-3/4 Diameter Round Wall Clock",
         "Furnishings",
         "Furniture",
         "Retail CSV",
         "2024-09-09T19:36:52.229Z"
        ],
        [
         "OFF-EN-10002504",
         "Tyvek  Top-Opening Peel & Seel Envelopes, Plain White",
         "Envelopes",
         "Office Supplies",
         "Retail CSV",
         "2024-09-09T19:36:52.229Z"
        ],
        [
         "TEC-AC-10001956",
         "Microsoft Arc Touch Mouse",
         "Accessories",
         "Technology",
         "Retail CSV",
         "2024-09-09T19:36:52.229Z"
        ],
        [
         "FUR-CH-10003312",
         "Hon 2090 “Pillow Soft” Series Mid Back Swivel/Tilt Chairs",
         "Chairs",
         "Furniture",
         "Retail CSV",
         "2024-09-09T19:36:52.229Z"
        ],
        [
         "OFF-PA-10001560",
         "Adams Telephone Message Books, 5 1/4” x 11”",
         "Paper",
         "Office Supplies",
         "Retail CSV",
         "2024-09-09T19:36:52.229Z"
        ],
        [
         "OFF-PA-10003625",
         "Xerox 1979",
         "Paper",
         "Office Supplies",
         "Retail CSV",
         "2024-09-09T19:36:52.229Z"
        ],
        [
         "OFF-AR-10000203",
         "Newell 336",
         "Art",
         "Office Supplies",
         "Retail CSV",
         "2024-09-09T19:36:52.229Z"
        ],
        [
         "FUR-TA-10001676",
         "Hon 61000 Series Interactive Training Tables",
         "Tables",
         "Furniture",
         "Retail CSV",
         "2024-09-09T19:36:52.229Z"
        ],
        [
         "OFF-PA-10001457",
         "White GlueTop Scratch Pads",
         "Paper",
         "Office Supplies",
         "Retail CSV",
         "2024-09-09T19:36:52.229Z"
        ],
        [
         "FUR-FU-10002878",
         "\"Seth Thomas 14\"\" Day/Date Wall Clock\"",
         "Furnishings",
         "Furniture",
         "Retail CSV",
         "2024-09-09T19:36:52.229Z"
        ],
        [
         "TEC-PH-10001425",
         "Mophie Juice Pack Helium for iPhone",
         "Phones",
         "Technology",
         "Retail CSV",
         "2024-09-09T19:36:52.229Z"
        ],
        [
         "OFF-AR-10001118",
         "Binney & Smith Crayola Metallic Crayons, 16-Color Pack",
         "Art",
         "Office Supplies",
         "Retail CSV",
         "2024-09-09T19:36:52.229Z"
        ],
        [
         "TEC-AC-10003610",
         "Logitech Illuminated - Keyboard",
         "Accessories",
         "Technology",
         "Retail CSV",
         "2024-09-09T19:36:52.229Z"
        ],
        [
         "OFF-FA-10004838",
         "Super Bands, 12/Pack",
         "Fasteners",
         "Office Supplies",
         "Retail CSV",
         "2024-09-09T19:36:52.229Z"
        ],
        [
         "OFF-AR-10002280",
         "Staples in misc. colors",
         "Art",
         "Office Supplies",
         "Retail CSV",
         "2024-09-09T19:36:52.229Z"
        ],
        [
         "FUR-TA-10003473",
         "Bretford Rectangular Conference Table Tops",
         "Tables",
         "Furniture",
         "Retail CSV",
         "2024-09-09T19:36:52.229Z"
        ],
        [
         "OFF-AP-10002472",
         "3M Office Air Cleaner",
         "Appliances",
         "Office Supplies",
         "Retail CSV",
         "2024-09-09T19:36:52.229Z"
        ],
        [
         "FUR-TA-10004619",
         "Hon Non-Folding Utility Tables",
         "Tables",
         "Furniture",
         "Retail CSV",
         "2024-09-09T19:36:52.229Z"
        ],
        [
         "TEC-AC-10001539",
         "Logitech G430 Surround Sound Gaming Headset with Dolby 7.1 Technology",
         "Accessories",
         "Technology",
         "Retail CSV",
         "2024-09-09T19:36:52.229Z"
        ],
        [
         "OFF-SU-10001212",
         "Kleencut Forged Office Shears by Acme United Corporation",
         "Supplies",
         "Office Supplies",
         "Retail CSV",
         "2024-09-09T19:36:52.229Z"
        ],
        [
         "TEC-MA-10002109",
         "HP Officejet Pro 8600 e-All-In-One Printer, Copier, Scanner, Fax",
         "Machines",
         "Technology",
         "Retail CSV",
         "2024-09-09T19:36:52.229Z"
        ],
        [
         "OFF-AP-10001492",
         "Acco Six-Outlet Power Strip, 4' Cord Length",
         "Appliances",
         "Office Supplies",
         "Retail CSV",
         "2024-09-09T19:36:52.229Z"
        ],
        [
         "OFF-PA-10004965",
         "Xerox 1921",
         "Paper",
         "Office Supplies",
         "Retail CSV",
         "2024-09-09T19:36:52.229Z"
        ],
        [
         "OFF-PA-10000176",
         "Xerox 1887",
         "Paper",
         "Office Supplies",
         "Retail CSV",
         "2024-09-09T19:36:52.229Z"
        ],
        [
         "TEC-AC-10001314",
         "Case Logic 2.4GHz Wireless Keyboard",
         "Accessories",
         "Technology",
         "Retail CSV",
         "2024-09-09T19:36:52.229Z"
        ],
        [
         "OFF-PA-10001639",
         "Xerox 203",
         "Paper",
         "Office Supplies",
         "Retail CSV",
         "2024-09-09T19:36:52.229Z"
        ],
        [
         "FUR-CH-10001854",
         "Office Star - Professional Matrix Back Chair with 2-to-1 Synchro Tilt and Mesh Fabric Seat",
         "Chairs",
         "Furniture",
         "Retail CSV",
         "2024-09-09T19:36:52.229Z"
        ],
        [
         "TEC-PH-10004833",
         "Macally Suction Cup Mount",
         "Phones",
         "Technology",
         "Retail CSV",
         "2024-09-09T19:36:52.229Z"
        ],
        [
         "FUR-FU-10001185",
         "Advantus Employee of the Month Certificate Frame, 11 x 13-1/2",
         "Furnishings",
         "Furniture",
         "Retail CSV",
         "2024-09-09T19:36:52.229Z"
        ],
        [
         "OFF-FA-10001883",
         "Alliance Super-Size Bands, Assorted Sizes",
         "Fasteners",
         "Office Supplies",
         "Retail CSV",
         "2024-09-09T19:36:52.229Z"
        ],
        [
         "FUR-BO-10003894",
         "Safco Value Mate Steel Bookcase, Baked Enamel Finish on Steel, Black",
         "Bookcases",
         "Furniture",
         "Retail CSV",
         "2024-09-09T19:36:52.229Z"
        ],
        [
         "OFF-AR-10000614",
         "Barrel Sharpener",
         "Art",
         "Office Supplies",
         "Retail CSV",
         "2024-09-09T19:36:52.229Z"
        ],
        [
         "OFF-BI-10000279",
         "\"Acco Recycled 2\"\" Capacity Laser Printer Hanging Data Binders\"",
         "Binders",
         "Office Supplies",
         "Retail CSV",
         "2024-09-09T19:36:52.229Z"
        ],
        [
         "OFF-ST-10003282",
         "Advantus 10-Drawer Portable Organizer, Chrome Metal Frame, Smoke Drawers",
         "Storage",
         "Office Supplies",
         "Retail CSV",
         "2024-09-09T19:36:52.229Z"
        ],
        [
         "OFF-BI-10004654",
         "Avery Binding System Hidden Tab Executive Style Index Sets",
         "Binders",
         "Office Supplies",
         "Retail CSV",
         "2024-09-09T19:36:52.229Z"
        ],
        [
         "TEC-AC-10002323",
         "SanDisk Ultra 32 GB MicroSDHC Class 10 Memory Card",
         "Accessories",
         "Technology",
         "Retail CSV",
         "2024-09-09T19:36:52.229Z"
        ],
        [
         "TEC-PH-10003885",
         "Cisco SPA508G",
         "Phones",
         "Technology",
         "Retail CSV",
         "2024-09-09T19:36:52.229Z"
        ],
        [
         "TEC-PH-10000441",
         "VTech DS6151",
         "Phones",
         "Technology",
         "Retail CSV",
         "2024-09-09T19:36:52.229Z"
        ],
        [
         "OFF-PA-10004733",
         "Things To Do Today Spiral Book",
         "Paper",
         "Office Supplies",
         "Retail CSV",
         "2024-09-09T19:36:52.229Z"
        ],
        [
         "OFF-BI-10001525",
         "\"Acco Pressboard Covers with Storage Hooks, 14 7/8\"\" x 11\"\"",
         "Binders",
         "Office Supplies",
         "Retail CSV",
         "2024-09-09T19:36:52.229Z"
        ],
        [
         "FUR-CH-10000513",
         "High-Back Leather Manager's Chair",
         "Chairs",
         "Furniture",
         "Retail CSV",
         "2024-09-09T19:36:52.229Z"
        ],
        [
         "FUR-FU-10001934",
         "Magnifier Swing Arm Lamp",
         "Furnishings",
         "Furniture",
         "Retail CSV",
         "2024-09-09T19:36:52.229Z"
        ],
        [
         "OFF-PA-10000357",
         "White Dual Perf Computer Printout Paper, 2700 Sheets, 1 Part, Heavyweight, 20 lbs., 14 7/8 x 11",
         "Paper",
         "Office Supplies",
         "Retail CSV",
         "2024-09-09T19:36:52.229Z"
        ],
        [
         "FUR-BO-10001619",
         "O'Sullivan Cherrywood Estates Traditional Bookcase",
         "Bookcases",
         "Furniture",
         "Retail CSV",
         "2024-09-09T19:36:52.229Z"
        ],
        [
         "OFF-ST-10001558",
         "Acco Perma 4000 Stacking Storage Drawers",
         "Storage",
         "Office Supplies",
         "Retail CSV",
         "2024-09-09T19:36:52.229Z"
        ],
        [
         "OFF-EN-10003055",
         "Blue String-Tie & Button Interoffice Envelopes, 10 x 13",
         "Envelopes",
         "Office Supplies",
         "Retail CSV",
         "2024-09-09T19:36:52.229Z"
        ],
        [
         "FUR-FU-10004018",
         "Tensor Computer Mounted Lamp",
         "Furnishings",
         "Furniture",
         "Retail CSV",
         "2024-09-09T19:36:52.229Z"
        ],
        [
         "OFF-AR-10001915",
         "Peel-Off China Markers",
         "Art",
         "Office Supplies",
         "Retail CSV",
         "2024-09-09T19:36:52.229Z"
        ],
        [
         "OFF-PA-10004359",
         "Multicolor Computer Printout Paper",
         "Paper",
         "Office Supplies",
         "Retail CSV",
         "2024-09-09T19:36:52.229Z"
        ],
        [
         "OFF-AP-10000124",
         "Acco 6 Outlet Guardian Basic Surge Suppressor",
         "Appliances",
         "Office Supplies",
         "Retail CSV",
         "2024-09-09T19:36:52.229Z"
        ],
        [
         "OFF-PA-10000551",
         "Array Memo Cubes",
         "Paper",
         "Office Supplies",
         "Retail CSV",
         "2024-09-09T19:36:52.229Z"
        ],
        [
         "TEC-PH-10002834",
         "Google Nexus 5",
         "Phones",
         "Technology",
         "Retail CSV",
         "2024-09-09T19:36:52.229Z"
        ],
        [
         "OFF-BI-10002003",
         "Ibico Presentation Index for Binding Systems",
         "Binders",
         "Office Supplies",
         "Retail CSV",
         "2024-09-09T19:36:52.229Z"
        ],
        [
         "FUR-BO-10002916",
         "\"Rush Hierlooms Collection 1\"\" Thick Stackable Bookcases\"",
         "Bookcases",
         "Furniture",
         "Retail CSV",
         "2024-09-09T19:36:52.229Z"
        ],
        [
         "OFF-SU-10000381",
         "Acme Forged Steel Scissors with Black Enamel Handles",
         "Supplies",
         "Office Supplies",
         "Retail CSV",
         "2024-09-09T19:36:52.229Z"
        ],
        [
         "TEC-MA-10003674",
         "Hewlett-Packard Deskjet 5550 Printer",
         "Machines",
         "Technology",
         "Retail CSV",
         "2024-09-09T19:36:52.229Z"
        ],
        [
         "OFF-PA-10003022",
         "Standard Line “While You Were Out” Hardbound Telephone Message Book",
         "Paper",
         "Office Supplies",
         "Retail CSV",
         "2024-09-09T19:36:52.229Z"
        ],
        [
         "OFF-AR-10002671",
         "Hunt BOSTON Model 1606 High-Volume Electric Pencil Sharpener, Beige",
         "Art",
         "Office Supplies",
         "Retail CSV",
         "2024-09-09T19:36:52.229Z"
        ],
        [
         "FUR-FU-10003274",
         "Regeneration Desk Collection",
         "Furnishings",
         "Furniture",
         "Retail CSV",
         "2024-09-09T19:36:52.229Z"
        ],
        [
         "OFF-BI-10002429",
         "Premier Elliptical Ring Binder, Black",
         "Binders",
         "Office Supplies",
         "Retail CSV",
         "2024-09-09T19:36:52.229Z"
        ],
        [
         "OFF-BI-10004528",
         "Cardinal Poly Pocket Divider Pockets for Ring Binders",
         "Binders",
         "Office Supplies",
         "Retail CSV",
         "2024-09-09T19:36:52.229Z"
        ],
        [
         "OFF-PA-10000788",
         "Xerox 210",
         "Paper",
         "Office Supplies",
         "Retail CSV",
         "2024-09-09T19:36:52.229Z"
        ],
        [
         "OFF-PA-10001125",
         "Xerox 1988",
         "Paper",
         "Office Supplies",
         "Retail CSV",
         "2024-09-09T19:36:52.229Z"
        ],
        [
         "TEC-PH-10001817",
         "Wilson Electronics DB Pro Signal Booster",
         "Phones",
         "Technology",
         "Retail CSV",
         "2024-09-09T19:36:52.229Z"
        ],
        [
         "OFF-PA-10000477",
         "Xerox 22",
         "Paper",
         "Office Supplies",
         "Retail CSV",
         "2024-09-09T19:36:52.229Z"
        ],
        [
         "TEC-PH-10004120",
         "AT&T 1080 Phone",
         "Phones",
         "Technology",
         "Retail CSV",
         "2024-09-09T19:36:52.229Z"
        ],
        [
         "OFF-BI-10003476",
         "Avery Metallic Poly Binders",
         "Binders",
         "Office Supplies",
         "Retail CSV",
         "2024-09-09T19:36:52.229Z"
        ],
        [
         "FUR-FU-10003026",
         "Eldon Regeneration Recycled Desk Accessories, Black",
         "Furnishings",
         "Furniture",
         "Retail CSV",
         "2024-09-09T19:36:52.229Z"
        ],
        [
         "OFF-AP-10003278",
         "Belkin 7-Outlet SurgeMaster Home Series",
         "Appliances",
         "Office Supplies",
         "Retail CSV",
         "2024-09-09T19:36:52.229Z"
        ],
        [
         "OFF-ST-10004186",
         "\"Stur-D-Stor Shelving, Vertical 5-Shelf: 72\"\"H x 36\"\"W x 18 1/2\"\"D\"",
         "Storage",
         "Office Supplies",
         "Retail CSV",
         "2024-09-09T19:36:52.229Z"
        ],
        [
         "FUR-FU-10001706",
         "Longer-Life Soft White Bulbs",
         "Furnishings",
         "Furniture",
         "Retail CSV",
         "2024-09-09T19:36:52.229Z"
        ],
        [
         "OFF-AR-10000390",
         "Newell Chalk Holder",
         "Art",
         "Office Supplies",
         "Retail CSV",
         "2024-09-09T19:36:52.229Z"
        ],
        [
         "FUR-CH-10004063",
         "Global Deluxe High-Back Manager's Chair",
         "Chairs",
         "Furniture",
         "Retail CSV",
         "2024-09-09T19:36:52.229Z"
        ],
        [
         "OFF-BI-10001759",
         "\"Acco Pressboard Covers with Storage Hooks, 14 7/8\"\" x 11\"\"",
         "Binders",
         "Office Supplies",
         "Retail CSV",
         "2024-09-09T19:36:52.229Z"
        ],
        [
         "OFF-BI-10001758",
         "Wilson Jones 14 Line Acrylic Coated Pressboard Data Binders",
         "Binders",
         "Office Supplies",
         "Retail CSV",
         "2024-09-09T19:36:52.229Z"
        ],
        [
         "OFF-BI-10001191",
         "Canvas Sectional Post Binders",
         "Binders",
         "Office Supplies",
         "Retail CSV",
         "2024-09-09T19:36:52.229Z"
        ],
        [
         "OFF-ST-10003692",
         "Recycled Steel Personal File for Hanging File Folders",
         "Storage",
         "Office Supplies",
         "Retail CSV",
         "2024-09-09T19:36:52.229Z"
        ],
        [
         "OFF-AP-10002222",
         "Staple holder",
         "Appliances",
         "Office Supplies",
         "Retail CSV",
         "2024-09-09T19:36:52.229Z"
        ],
        [
         "OFF-PA-10000300",
         "Xerox 1936",
         "Paper",
         "Office Supplies",
         "Retail CSV",
         "2024-09-09T19:36:52.229Z"
        ],
        [
         "OFF-LA-10002473",
         "Avery 484",
         "Labels",
         "Office Supplies",
         "Retail CSV",
         "2024-09-09T19:36:52.229Z"
        ],
        [
         "OFF-LA-10002475",
         "Avery 519",
         "Labels",
         "Office Supplies",
         "Retail CSV",
         "2024-09-09T19:36:52.229Z"
        ],
        [
         "OFF-AP-10004249",
         "Staple holder",
         "Appliances",
         "Office Supplies",
         "Retail CSV",
         "2024-09-09T19:36:52.229Z"
        ],
        [
         "OFF-BI-10002949",
         "Prestige Round Ring Binders",
         "Binders",
         "Office Supplies",
         "Retail CSV",
         "2024-09-09T19:36:52.229Z"
        ],
        [
         "FUR-CH-10004853",
         "Global Manager's Adjustable Task Chair, Storm",
         "Chairs",
         "Furniture",
         "Retail CSV",
         "2024-09-09T19:36:52.229Z"
        ],
        [
         "OFF-EN-10000056",
         "Cameo Buff Policy Envelopes",
         "Envelopes",
         "Office Supplies",
         "Retail CSV",
         "2024-09-09T19:36:52.229Z"
        ],
        [
         "FUR-FU-10004188",
         "Luxo Professional Combination Clamp-On Lamps",
         "Furnishings",
         "Furniture",
         "Retail CSV",
         "2024-09-09T19:36:52.229Z"
        ],
        [
         "FUR-FU-10003142",
         "Master Big Foot Doorstop, Beige",
         "Furnishings",
         "Furniture",
         "Retail CSV",
         "2024-09-09T19:36:52.229Z"
        ],
        [
         "FUR-TA-10003392",
         "Global Adaptabilities Conference Tables",
         "Tables",
         "Furniture",
         "Retail CSV",
         "2024-09-09T19:36:52.229Z"
        ],
        [
         "OFF-LA-10000240",
         "Self-Adhesive Address Labels for Typewriters by Universal",
         "Labels",
         "Office Supplies",
         "Retail CSV",
         "2024-09-09T19:36:52.229Z"
        ],
        [
         "FUR-FU-10003394",
         "\"Tenex \"\"The Solids\"\" Textured Chair Mats\"",
         "Furnishings",
         "Furniture",
         "Retail CSV",
         "2024-09-09T19:36:52.229Z"
        ],
        [
         "OFF-BI-10002072",
         "Cardinal Slant-D Ring Binders",
         "Binders",
         "Office Supplies",
         "Retail CSV",
         "2024-09-09T19:36:52.229Z"
        ],
        [
         "FUR-TA-10003954",
         "Hon 94000 Series Round Tables",
         "Tables",
         "Furniture",
         "Retail CSV",
         "2024-09-09T19:36:52.229Z"
        ],
        [
         "OFF-PA-10000062",
         "Green Bar Computer Printout Paper",
         "Paper",
         "Office Supplies",
         "Retail CSV",
         "2024-09-09T19:36:52.229Z"
        ],
        [
         "OFF-AR-10001149",
         "Avery Hi-Liter Comfort Grip Fluorescent Highlighter, Yellow Ink",
         "Art",
         "Office Supplies",
         "Retail CSV",
         "2024-09-09T19:36:52.229Z"
        ],
        [
         "FUR-FU-10003039",
         "\"Howard Miller 11-1/2\"\" Diameter Grantwood Wall Clock\"",
         "Furnishings",
         "Furniture",
         "Retail CSV",
         "2024-09-09T19:36:52.229Z"
        ],
        [
         "OFF-AP-10001154",
         "Bionaire Personal Warm Mist Humidifier/Vaporizer",
         "Appliances",
         "Office Supplies",
         "Retail CSV",
         "2024-09-09T19:36:52.229Z"
        ],
        [
         "OFF-FA-10000735",
         "Staples",
         "Fasteners",
         "Office Supplies",
         "Retail CSV",
         "2024-09-09T19:36:52.229Z"
        ],
        [
         "TEC-PH-10000439",
         "GE DSL Phone Line Filter",
         "Phones",
         "Technology",
         "Retail CSV",
         "2024-09-09T19:36:52.229Z"
        ],
        [
         "OFF-AP-10003860",
         "Fellowes Advanced 8 Outlet Surge Suppressor with Phone/Fax Protection",
         "Appliances",
         "Office Supplies",
         "Retail CSV",
         "2024-09-09T19:36:52.229Z"
        ],
        [
         "OFF-ST-10002562",
         "Staple magnet",
         "Storage",
         "Office Supplies",
         "Retail CSV",
         "2024-09-09T19:36:52.229Z"
        ],
        [
         "OFF-AP-10000026",
         "Tripp Lite Isotel 6 Outlet Surge Protector with Fax/Modem Protection",
         "Appliances",
         "Office Supplies",
         "Retail CSV",
         "2024-09-09T19:36:52.229Z"
        ],
        [
         "FUR-CH-10003535",
         "Global Armless Task Chair, Royal Blue",
         "Chairs",
         "Furniture",
         "Retail CSV",
         "2024-09-09T19:36:52.229Z"
        ],
        [
         "OFF-AR-10001770",
         "Economy #2 Pencils",
         "Art",
         "Office Supplies",
         "Retail CSV",
         "2024-09-09T19:36:52.229Z"
        ],
        [
         "OFF-SU-10004884",
         "Acme Galleria Hot Forged Steel Scissors with Colored Handles",
         "Supplies",
         "Office Supplies",
         "Retail CSV",
         "2024-09-09T19:36:52.229Z"
        ],
        [
         "OFF-PA-10000312",
         "Xerox 1955",
         "Paper",
         "Office Supplies",
         "Retail CSV",
         "2024-09-09T19:36:52.229Z"
        ],
        [
         "OFF-ST-10003479",
         "Eldon Base for stackable storage shelf, platinum",
         "Storage",
         "Office Supplies",
         "Retail CSV",
         "2024-09-09T19:36:52.229Z"
        ],
        [
         "OFF-ST-10000036",
         "Recycled Data-Pak for Archival Bound Computer Printouts, 12-1/2 x 12-1/2 x 16",
         "Storage",
         "Office Supplies",
         "Retail CSV",
         "2024-09-09T19:36:52.229Z"
        ],
        [
         "OFF-BI-10004001",
         "GBC Recycled VeloBinder Covers",
         "Binders",
         "Office Supplies",
         "Retail CSV",
         "2024-09-09T19:36:52.229Z"
        ],
        [
         "OFF-EN-10003798",
         "Recycled Interoffice Envelopes with Re-Use-A-Seal Closure, 10 x 13",
         "Envelopes",
         "Office Supplies",
         "Retail CSV",
         "2024-09-09T19:36:52.229Z"
        ],
        [
         "TEC-AC-10001590",
         "Dell Slim USB Multimedia Keyboard",
         "Accessories",
         "Technology",
         "Retail CSV",
         "2024-09-09T19:36:52.229Z"
        ],
        [
         "OFF-SU-10000157",
         "Compact Automatic Electric Letter Opener",
         "Supplies",
         "Office Supplies",
         "Retail CSV",
         "2024-09-09T19:36:52.229Z"
        ],
        [
         "FUR-CH-10004875",
         "Harbour Creations 67200 Series Stacking Chairs",
         "Chairs",
         "Furniture",
         "Retail CSV",
         "2024-09-09T19:36:52.229Z"
        ],
        [
         "TEC-PH-10001128",
         "Motorola Droid Maxx",
         "Phones",
         "Technology",
         "Retail CSV",
         "2024-09-09T19:36:52.229Z"
        ],
        [
         "OFF-PA-10001569",
         "Xerox 232",
         "Paper",
         "Office Supplies",
         "Retail CSV",
         "2024-09-09T19:36:52.229Z"
        ],
        [
         "OFF-EN-10001137",
         "#10 Gummed Flap White Envelopes, 100/Box",
         "Envelopes",
         "Office Supplies",
         "Retail CSV",
         "2024-09-09T19:36:52.229Z"
        ],
        [
         "TEC-AC-10000158",
         "Sony 64GB Class 10 Micro SDHC R40 Memory Card",
         "Accessories",
         "Technology",
         "Retail CSV",
         "2024-09-09T19:36:52.229Z"
        ],
        [
         "OFF-BI-10001107",
         "GBC White Gloss Covers, Plain Front",
         "Binders",
         "Office Supplies",
         "Retail CSV",
         "2024-09-09T19:36:52.229Z"
        ],
        [
         "OFF-SU-10004231",
         "Acme Tagit Stainless Steel Antibacterial Scissors",
         "Supplies",
         "Office Supplies",
         "Retail CSV",
         "2024-09-09T19:36:52.229Z"
        ],
        [
         "OFF-LA-10004272",
         "Avery 482",
         "Labels",
         "Office Supplies",
         "Retail CSV",
         "2024-09-09T19:36:52.229Z"
        ],
        [
         "TEC-AC-10002380",
         "Sony 8GB Class 10 Micro SDHC R40 Memory Card",
         "Accessories",
         "Technology",
         "Retail CSV",
         "2024-09-09T19:36:52.229Z"
        ],
        [
         "OFF-BI-10002309",
         "Avery Heavy-Duty EZD  Binder With Locking Rings",
         "Binders",
         "Office Supplies",
         "Retail CSV",
         "2024-09-09T19:36:52.229Z"
        ],
        [
         "OFF-PA-10000474",
         "Easy-staple paper",
         "Paper",
         "Office Supplies",
         "Retail CSV",
         "2024-09-09T19:36:52.229Z"
        ],
        [
         "OFF-AR-10000411",
         "Boston 16701 Slimline Battery Pencil Sharpener",
         "Art",
         "Office Supplies",
         "Retail CSV",
         "2024-09-09T19:36:52.229Z"
        ],
        [
         "FUR-FU-10002116",
         "Tenex Carpeted, Granite-Look or Clear Contemporary Contour Shape Chair Mats",
         "Furnishings",
         "Furniture",
         "Retail CSV",
         "2024-09-09T19:36:52.229Z"
        ],
        [
         "TEC-PH-10001299",
         "Polycom CX300 Desktop Phone USB VoIP phone",
         "Phones",
         "Technology",
         "Retail CSV",
         "2024-09-09T19:36:52.229Z"
        ],
        [
         "FUR-FU-10003930",
         "Howard Miller 12-3/4 Diameter Accuwave DS  Wall Clock",
         "Furnishings",
         "Furniture",
         "Retail CSV",
         "2024-09-09T19:36:52.229Z"
        ],
        [
         "FUR-FU-10002813",
         "DAX Contemporary Wood Frame with Silver Metal Mat, Desktop, 11 x 14 Size",
         "Furnishings",
         "Furniture",
         "Retail CSV",
         "2024-09-09T19:36:52.229Z"
        ],
        [
         "OFF-PA-10004243",
         "Xerox 1939",
         "Paper",
         "Office Supplies",
         "Retail CSV",
         "2024-09-09T19:36:52.229Z"
        ],
        [
         "OFF-PA-10003039",
         "Xerox 1960",
         "Paper",
         "Office Supplies",
         "Retail CSV",
         "2024-09-09T19:36:52.229Z"
        ],
        [
         "OFF-BI-10000773",
         "Insertable Tab Post Binder Dividers",
         "Binders",
         "Office Supplies",
         "Retail CSV",
         "2024-09-09T19:36:52.229Z"
        ],
        [
         "OFF-ST-10000563",
         "Fellowes Bankers Box Stor/Drawer Steel Plus",
         "Storage",
         "Office Supplies",
         "Retail CSV",
         "2024-09-09T19:36:52.229Z"
        ],
        [
         "FUR-TA-10001307",
         "SAFCO PlanMaster Heigh-Adjustable Drafting Table Base, 43w x 30d x 30-37h, Black",
         "Tables",
         "Furniture",
         "Retail CSV",
         "2024-09-09T19:36:52.229Z"
        ],
        [
         "OFF-AP-10003057",
         "Honeywell Enviracaire Portable HEPA Air Cleaner for 16' x 20' Room",
         "Appliances",
         "Office Supplies",
         "Retail CSV",
         "2024-09-09T19:36:52.229Z"
        ],
        [
         "OFF-PA-10000174",
         "\"Message Book, Wirebound, Four 5 1/2\"\" X 4\"\" Forms/Pg.",
         "Paper",
         "Office Supplies",
         "Retail CSV",
         "2024-09-09T19:36:52.229Z"
        ],
        [
         "FUR-FU-10002703",
         "\"Tenex Traditional Chairmats for Hard Floors, Average Lip, 36\"\" x 48\"\"\"",
         "Furnishings",
         "Furniture",
         "Retail CSV",
         "2024-09-09T19:36:52.229Z"
        ],
        [
         "OFF-FA-10000840",
         "OIC Thumb-Tacks",
         "Fasteners",
         "Office Supplies",
         "Retail CSV",
         "2024-09-09T19:36:52.229Z"
        ],
        [
         "OFF-LA-10000305",
         "Avery 495",
         "Labels",
         "Office Supplies",
         "Retail CSV",
         "2024-09-09T19:36:52.229Z"
        ],
        [
         "FUR-FU-10003489",
         "Contemporary Borderless Frame",
         "Furnishings",
         "Furniture",
         "Retail CSV",
         "2024-09-09T19:36:52.229Z"
        ],
        [
         "FUR-CH-10003817",
         "Global Value Steno Chair, Gray",
         "Chairs",
         "Furniture",
         "Retail CSV",
         "2024-09-09T19:36:52.229Z"
        ],
        [
         "OFF-EN-10004386",
         "Recycled Interoffice Envelopes with String and Button Closure, 10 x 13",
         "Envelopes",
         "Office Supplies",
         "Retail CSV",
         "2024-09-09T19:36:52.229Z"
        ],
        [
         "TEC-CO-10004115",
         "Sharp AL-1530CS Digital Copier",
         "Copiers",
         "Technology",
         "Retail CSV",
         "2024-09-09T19:36:52.229Z"
        ],
        [
         "TEC-AC-10001838",
         "Razer Tiamat Over Ear 7.1 Surround Sound PC Gaming Headset",
         "Accessories",
         "Technology",
         "Retail CSV",
         "2024-09-09T19:36:52.229Z"
        ],
        [
         "OFF-AR-10003631",
         "Staples in misc. colors",
         "Art",
         "Office Supplies",
         "Retail CSV",
         "2024-09-09T19:36:52.229Z"
        ],
        [
         "FUR-FU-10002045",
         "Executive Impressions 14\"\"",
         "Furnishings",
         "Furniture",
         "Retail CSV",
         "2024-09-09T19:36:52.229Z"
        ],
        [
         "OFF-BI-10001787",
         "Wilson Jones Four-Pocket Poly Binders",
         "Binders",
         "Office Supplies",
         "Retail CSV",
         "2024-09-09T19:36:52.229Z"
        ],
        [
         "FUR-FU-10001215",
         "\"Howard Miller 11-1/2\"\" Diameter Brentwood Wall Clock\"",
         "Furnishings",
         "Furniture",
         "Retail CSV",
         "2024-09-09T19:36:52.229Z"
        ],
        [
         "TEC-MA-10003176",
         "Okidata B400 Printer",
         "Machines",
         "Technology",
         "Retail CSV",
         "2024-09-09T19:36:52.229Z"
        ],
        [
         "FUR-CH-10002073",
         "Hon Olson Stacker Chairs",
         "Chairs",
         "Furniture",
         "Retail CSV",
         "2024-09-09T19:36:52.229Z"
        ],
        [
         "OFF-AR-10004042",
         "BOSTON Model 1800 Electric Pencil Sharpeners, Putty/Woodgrain",
         "Art",
         "Office Supplies",
         "Retail CSV",
         "2024-09-09T19:36:52.229Z"
        ],
        [
         "OFF-AR-10003045",
         "Prang Colored Pencils",
         "Art",
         "Office Supplies",
         "Retail CSV",
         "2024-09-09T19:36:52.229Z"
        ],
        [
         "OFF-BI-10003305",
         "Avery Hanging File Binders",
         "Binders",
         "Office Supplies",
         "Retail CSV",
         "2024-09-09T19:36:52.229Z"
        ],
        [
         "OFF-SU-10002537",
         "Acme Box Cutter Scissors",
         "Supplies",
         "Office Supplies",
         "Retail CSV",
         "2024-09-09T19:36:52.229Z"
        ],
        [
         "FUR-BO-10001811",
         "Atlantic Metals Mobile 5-Shelf Bookcases, Custom Colors",
         "Bookcases",
         "Furniture",
         "Retail CSV",
         "2024-09-09T19:36:52.229Z"
        ],
        [
         "OFF-BI-10004236",
         "XtraLife ClearVue Slant-D Ring Binder, White, 3\"\"",
         "Binders",
         "Office Supplies",
         "Retail CSV",
         "2024-09-09T19:36:52.229Z"
        ],
        [
         "TEC-AC-10003116",
         "Memorex Froggy Flash Drive 8 GB",
         "Accessories",
         "Technology",
         "Retail CSV",
         "2024-09-09T19:36:52.229Z"
        ],
        [
         "TEC-AC-10004568",
         "Maxell LTO Ultrium - 800 GB",
         "Accessories",
         "Technology",
         "Retail CSV",
         "2024-09-09T19:36:52.229Z"
        ],
        [
         "OFF-PA-10000380",
         "\"REDIFORM Incoming/Outgoing Call Register, 11\"\" X 8 1/2\"\"",
         "Paper",
         "Office Supplies",
         "Retail CSV",
         "2024-09-09T19:36:52.229Z"
        ],
        [
         "OFF-AP-10002734",
         "Holmes Harmony HEPA Air Purifier for 17 x 20 Room",
         "Appliances",
         "Office Supplies",
         "Retail CSV",
         "2024-09-09T19:36:52.229Z"
        ],
        [
         "OFF-AR-10004260",
         "Boston 1799 Powerhouse Electric Pencil Sharpener",
         "Art",
         "Office Supplies",
         "Retail CSV",
         "2024-09-09T19:36:52.229Z"
        ],
        [
         "FUR-FU-10004845",
         "Deflect-o EconoMat Nonstudded, No Bevel Mat",
         "Furnishings",
         "Furniture",
         "Retail CSV",
         "2024-09-09T19:36:52.229Z"
        ],
        [
         "OFF-FA-10002780",
         "Staples",
         "Fasteners",
         "Office Supplies",
         "Retail CSV",
         "2024-09-09T19:36:52.229Z"
        ],
        [
         "OFF-ST-10002485",
         "Rogers Deluxe File Chest",
         "Storage",
         "Office Supplies",
         "Retail CSV",
         "2024-09-09T19:36:52.229Z"
        ],
        [
         "OFF-BI-10000315",
         "Poly Designer Cover & Back",
         "Binders",
         "Office Supplies",
         "Retail CSV",
         "2024-09-09T19:36:52.229Z"
        ],
        [
         "OFF-AR-10001246",
         "Newell 317",
         "Art",
         "Office Supplies",
         "Retail CSV",
         "2024-09-09T19:36:52.229Z"
        ],
        [
         "OFF-PA-10002333",
         "\"Universal Ultra Bright White Copier/Laser Paper, 8 1/2\"\" x 11\"\"",
         "Paper",
         "Office Supplies",
         "Retail CSV",
         "2024-09-09T19:36:52.229Z"
        ],
        [
         "OFF-LA-10000081",
         "Avery 496",
         "Labels",
         "Office Supplies",
         "Retail CSV",
         "2024-09-09T19:36:52.229Z"
        ],
        [
         "OFF-PA-10001461",
         "HP Office Paper (20Lb. and 87 Bright)",
         "Paper",
         "Office Supplies",
         "Retail CSV",
         "2024-09-09T19:36:52.229Z"
        ],
        [
         "FUR-FU-10003374",
         "Electrix Fluorescent Magnifier Lamps & Weighted Base",
         "Furnishings",
         "Furniture",
         "Retail CSV",
         "2024-09-09T19:36:52.229Z"
        ],
        [
         "TEC-AC-10004708",
         "Sony 32GB Class 10 Micro SDHC R40 Memory Card",
         "Accessories",
         "Technology",
         "Retail CSV",
         "2024-09-09T19:36:52.229Z"
        ],
        [
         "OFF-AR-10000369",
         "Design Ebony Sketching Pencil",
         "Art",
         "Office Supplies",
         "Retail CSV",
         "2024-09-09T19:36:52.229Z"
        ],
        [
         "OFF-ST-10001809",
         "Fellowes Officeware Wire Shelving",
         "Storage",
         "Office Supplies",
         "Retail CSV",
         "2024-09-09T19:36:52.229Z"
        ],
        [
         "TEC-PH-10001336",
         "Digium D40 VoIP phone",
         "Phones",
         "Technology",
         "Retail CSV",
         "2024-09-09T19:36:52.229Z"
        ],
        [
         "OFF-AP-10002495",
         "Acco Smartsocket Table Surge Protector, 6 Color-Coded Adapter Outlets",
         "Appliances",
         "Office Supplies",
         "Retail CSV",
         "2024-09-09T19:36:52.229Z"
        ],
        [
         "OFF-BI-10003196",
         "Accohide Poly Flexible Ring Binders",
         "Binders",
         "Office Supplies",
         "Retail CSV",
         "2024-09-09T19:36:52.229Z"
        ],
        [
         "TEC-PH-10002114",
         "Xiaomi Mi3",
         "Phones",
         "Technology",
         "Retail CSV",
         "2024-09-09T19:36:52.229Z"
        ],
        [
         "OFF-PA-10003892",
         "Xerox 1943",
         "Paper",
         "Office Supplies",
         "Retail CSV",
         "2024-09-09T19:36:52.229Z"
        ],
        [
         "OFF-PA-10000304",
         "Xerox 1995",
         "Paper",
         "Office Supplies",
         "Retail CSV",
         "2024-09-09T19:36:52.229Z"
        ],
        [
         "OFF-BI-10000309",
         "\"GBC Twin Loop Wire Binding Elements, 9/16\"\" Spine",
         "Binders",
         "Office Supplies",
         "Retail CSV",
         "2024-09-09T19:36:52.229Z"
        ],
        [
         "OFF-BI-10000320",
         "GBC Plastic Binding Combs",
         "Binders",
         "Office Supplies",
         "Retail CSV",
         "2024-09-09T19:36:52.229Z"
        ],
        [
         "OFF-AR-10000475",
         "Hunt BOSTON Vista Battery-Operated Pencil Sharpener, Black",
         "Art",
         "Office Supplies",
         "Retail CSV",
         "2024-09-09T19:36:52.229Z"
        ],
        [
         "OFF-PA-10001994",
         "\"Ink Jet Note and Greeting Cards, 8-1/2\"\" x 5-1/2\"\" Card Size\"",
         "Paper",
         "Office Supplies",
         "Retail CSV",
         "2024-09-09T19:36:52.229Z"
        ],
        [
         "TEC-PH-10001536",
         "Spigen Samsung Galaxy S5 Case Wallet",
         "Phones",
         "Technology",
         "Retail CSV",
         "2024-09-09T19:36:52.229Z"
        ],
        [
         "OFF-PA-10003919",
         "Xerox 1989",
         "Paper",
         "Office Supplies",
         "Retail CSV",
         "2024-09-09T19:36:52.229Z"
        ],
        [
         "OFF-AR-10003087",
         "Staples in misc. colors",
         "Art",
         "Office Supplies",
         "Retail CSV",
         "2024-09-09T19:36:52.229Z"
        ],
        [
         "FUR-FU-10002111",
         "Master Caster Door Stop, Large Brown",
         "Furnishings",
         "Furniture",
         "Retail CSV",
         "2024-09-09T19:36:52.229Z"
        ],
        [
         "TEC-PH-10004614",
         "AT&T 841000 Phone",
         "Phones",
         "Technology",
         "Retail CSV",
         "2024-09-09T19:36:52.229Z"
        ],
        [
         "OFF-BI-10004140",
         "Avery Non-Stick Binders",
         "Binders",
         "Office Supplies",
         "Retail CSV",
         "2024-09-09T19:36:52.229Z"
        ],
        [
         "OFF-BI-10003527",
         "Fellowes PB500 Electric Punch Plastic Comb Binding Machine with Manual Bind",
         "Binders",
         "Office Supplies",
         "Retail CSV",
         "2024-09-09T19:36:52.229Z"
        ],
        [
         "OFF-ST-10000585",
         "Economy Rollaway Files",
         "Storage",
         "Office Supplies",
         "Retail CSV",
         "2024-09-09T19:36:52.229Z"
        ],
        [
         "OFF-BI-10002827",
         "Avery Durable Poly Binders",
         "Binders",
         "Office Supplies",
         "Retail CSV",
         "2024-09-09T19:36:52.229Z"
        ],
        [
         "OFF-ST-10002574",
         "SAFCO Commercial Wire Shelving, Black",
         "Storage",
         "Office Supplies",
         "Retail CSV",
         "2024-09-09T19:36:52.229Z"
        ],
        [
         "OFF-PA-10004438",
         "Xerox 1907",
         "Paper",
         "Office Supplies",
         "Retail CSV",
         "2024-09-09T19:36:52.229Z"
        ],
        [
         "OFF-AR-10003896",
         "Stride Job 150 Highlighters, Chisel Tip, Assorted Colors",
         "Art",
         "Office Supplies",
         "Retail CSV",
         "2024-09-09T19:36:52.229Z"
        ],
        [
         "FUR-CH-10002317",
         "Global Enterprise Series Seating Low-Back Swivel/Tilt Chairs",
         "Chairs",
         "Furniture",
         "Retail CSV",
         "2024-09-09T19:36:52.229Z"
        ],
        [
         "OFF-ST-10001414",
         "Decoflex Hanging Personal Folder File",
         "Storage",
         "Office Supplies",
         "Retail CSV",
         "2024-09-09T19:36:52.229Z"
        ],
        [
         "OFF-BI-10000069",
         "GBC Prepunched Paper, 19-Hole, for Binding Systems, 24-lb",
         "Binders",
         "Office Supplies",
         "Retail CSV",
         "2024-09-09T19:36:52.229Z"
        ],
        [
         "OFF-FA-10003467",
         "Alliance Big Bands Rubber Bands, 12/Pack",
         "Fasteners",
         "Office Supplies",
         "Retail CSV",
         "2024-09-09T19:36:52.229Z"
        ],
        [
         "FUR-TA-10004086",
         "KI Adjustable-Height Table",
         "Tables",
         "Furniture",
         "Retail CSV",
         "2024-09-09T19:36:52.229Z"
        ],
        [
         "OFF-PA-10002659",
         "Avoid Verbal Orders Carbonless Minifold Book",
         "Paper",
         "Office Supplies",
         "Retail CSV",
         "2024-09-09T19:36:52.229Z"
        ],
        [
         "OFF-LA-10000262",
         "Avery 494",
         "Labels",
         "Office Supplies",
         "Retail CSV",
         "2024-09-09T19:36:52.229Z"
        ],
        [
         "OFF-AR-10003504",
         "Newell 347",
         "Art",
         "Office Supplies",
         "Retail CSV",
         "2024-09-09T19:36:52.229Z"
        ],
        [
         "FUR-FU-10000755",
         "Eldon Expressions Mahogany Wood Desk Collection",
         "Furnishings",
         "Furniture",
         "Retail CSV",
         "2024-09-09T19:36:52.229Z"
        ],
        [
         "TEC-PH-10001644",
         "BlueLounge Milo Smartphone Stand, White/Metallic",
         "Phones",
         "Technology",
         "Retail CSV",
         "2024-09-09T19:36:52.229Z"
        ],
        [
         "OFF-BI-10001120",
         "Ibico EPK-21 Electric Binding System",
         "Binders",
         "Office Supplies",
         "Retail CSV",
         "2024-09-09T19:36:52.229Z"
        ],
        [
         "OFF-BI-10000216",
         "\"Mead 1st Gear 2\"\" Zipper Binder",
         "Binders",
         "Office Supplies",
         "Retail CSV",
         "2024-09-09T19:36:52.229Z"
        ],
        [
         "TEC-AC-10000171",
         "Verbatim 25 GB 6x Blu-ray Single Layer Recordable Disc, 25/Pack",
         "Accessories",
         "Technology",
         "Retail CSV",
         "2024-09-09T19:36:52.229Z"
        ],
        [
         "OFF-AP-10001058",
         "Sanyo 2.5 Cubic Foot Mid-Size Office Refrigerators",
         "Appliances",
         "Office Supplies",
         "Retail CSV",
         "2024-09-09T19:36:52.229Z"
        ],
        [
         "OFF-AR-10001026",
         "Sanford Uni-Blazer View Highlighters, Chisel Tip, Yellow",
         "Art",
         "Office Supplies",
         "Retail CSV",
         "2024-09-09T19:36:52.229Z"
        ],
        [
         "OFF-PA-10001509",
         "\"Recycled Desk Saver Line \"\"While You Were Out\"\" Book",
         "Paper",
         "Office Supplies",
         "Retail CSV",
         "2024-09-09T19:36:52.229Z"
        ],
        [
         "TEC-PH-10002496",
         "Cisco SPA301",
         "Phones",
         "Technology",
         "Retail CSV",
         "2024-09-09T19:36:52.229Z"
        ],
        [
         "OFF-AP-10000576",
         "Belkin 7 Outlet SurgeMaster II",
         "Appliances",
         "Office Supplies",
         "Retail CSV",
         "2024-09-09T19:36:52.229Z"
        ],
        [
         "OFF-LA-10004425",
         "Staple-on labels",
         "Labels",
         "Office Supplies",
         "Retail CSV",
         "2024-09-09T19:36:52.229Z"
        ],
        [
         "OFF-ST-10000877",
         "Recycled Steel Personal File for Standard File Folders",
         "Storage",
         "Office Supplies",
         "Retail CSV",
         "2024-09-09T19:36:52.229Z"
        ],
        [
         "OFF-SU-10000151",
         "High Speed Automatic Electric Letter Opener",
         "Supplies",
         "Office Supplies",
         "Retail CSV",
         "2024-09-09T19:36:52.229Z"
        ],
        [
         "FUR-FU-10002508",
         "Document Clip Frames",
         "Furnishings",
         "Furniture",
         "Retail CSV",
         "2024-09-09T19:36:52.229Z"
        ],
        [
         "OFF-SU-10004661",
         "Acme Titanium Bonded Scissors",
         "Supplies",
         "Office Supplies",
         "Retail CSV",
         "2024-09-09T19:36:52.229Z"
        ],
        [
         "FUR-FU-10000576",
         "Luxo Professional Fluorescent Magnifier Lamp with Clamp-Mount Base",
         "Furnishings",
         "Furniture",
         "Retail CSV",
         "2024-09-09T19:36:52.229Z"
        ],
        [
         "OFF-SU-10001225",
         "Staple remover",
         "Supplies",
         "Office Supplies",
         "Retail CSV",
         "2024-09-09T19:36:52.229Z"
        ],
        [
         "OFF-ST-10000798",
         "2300 Heavy-Duty Transfer File Systems by Perma",
         "Storage",
         "Office Supplies",
         "Retail CSV",
         "2024-09-09T19:36:52.229Z"
        ],
        [
         "FUR-FU-10000206",
         "GE General Purpose, Extra Long Life, Showcase & Floodlight Incandescent Bulbs",
         "Furnishings",
         "Furniture",
         "Retail CSV",
         "2024-09-09T19:36:52.229Z"
        ],
        [
         "OFF-PA-10001357",
         "Xerox 1886",
         "Paper",
         "Office Supplies",
         "Retail CSV",
         "2024-09-09T19:36:52.229Z"
        ],
        [
         "OFF-BI-10001900",
         "DXL Angle-View Binders with Locking Rings, Black",
         "Binders",
         "Office Supplies",
         "Retail CSV",
         "2024-09-09T19:36:52.229Z"
        ],
        [
         "OFF-AP-10002998",
         "Holmes 99% HEPA Air Purifier",
         "Appliances",
         "Office Supplies",
         "Retail CSV",
         "2024-09-09T19:36:52.229Z"
        ],
        [
         "TEC-MA-10003230",
         "Okidata C610n Printer",
         "Machines",
         "Technology",
         "Retail CSV",
         "2024-09-09T19:36:52.229Z"
        ],
        [
         "TEC-PH-10001949",
         "Cisco SPA 501G IP Phone",
         "Phones",
         "Technology",
         "Retail CSV",
         "2024-09-09T19:36:52.229Z"
        ],
        [
         "OFF-EN-10002500",
         "Globe Weis Peel & Seel First Class Envelopes",
         "Envelopes",
         "Office Supplies",
         "Retail CSV",
         "2024-09-09T19:36:52.229Z"
        ],
        [
         "OFF-PA-10004000",
         "While You Were Out Pads, 50 per Pad, 4 x 5 1/4, Green Cycle",
         "Paper",
         "Office Supplies",
         "Retail CSV",
         "2024-09-09T19:36:52.229Z"
        ],
        [
         "TEC-AC-10000303",
         "Logitech M510 Wireless Mouse",
         "Accessories",
         "Technology",
         "Retail CSV",
         "2024-09-09T19:36:52.229Z"
        ],
        [
         "OFF-EN-10001434",
         "Strathmore #10 Envelopes, Ultimate White",
         "Envelopes",
         "Office Supplies",
         "Retail CSV",
         "2024-09-09T19:36:52.229Z"
        ],
        [
         "OFF-AR-10003811",
         "Newell 327",
         "Art",
         "Office Supplies",
         "Retail CSV",
         "2024-09-09T19:36:52.229Z"
        ],
        [
         "OFF-AP-10003914",
         "Sanitaire Vibra Groomer IR Commercial Upright Vacuum, Replacement Belts",
         "Appliances",
         "Office Supplies",
         "Retail CSV",
         "2024-09-09T19:36:52.229Z"
        ],
        [
         "OFF-AP-10004532",
         "Kensington 6 Outlet Guardian Standard Surge Protector",
         "Appliances",
         "Office Supplies",
         "Retail CSV",
         "2024-09-09T19:36:52.229Z"
        ],
        [
         "OFF-AR-10001897",
         "Model L Table or Wall-Mount Pencil Sharpener",
         "Art",
         "Office Supplies",
         "Retail CSV",
         "2024-09-09T19:36:52.229Z"
        ],
        [
         "TEC-PH-10001795",
         "ClearOne CHATAttach 160 - speaker phone",
         "Phones",
         "Technology",
         "Retail CSV",
         "2024-09-09T19:36:52.229Z"
        ],
        [
         "OFF-BI-10003925",
         "Fellowes PB300 Plastic Comb Binding Machine",
         "Binders",
         "Office Supplies",
         "Retail CSV",
         "2024-09-09T19:36:52.229Z"
        ],
        [
         "FUR-CH-10002961",
         "Leather Task Chair, Black",
         "Chairs",
         "Furniture",
         "Retail CSV",
         "2024-09-09T19:36:52.229Z"
        ],
        [
         "TEC-AC-10001114",
         "Microsoft Wireless Mobile Mouse 4000",
         "Accessories",
         "Technology",
         "Retail CSV",
         "2024-09-09T19:36:52.229Z"
        ],
        [
         "FUR-FU-10003829",
         "Stackable Trays",
         "Furnishings",
         "Furniture",
         "Retail CSV",
         "2024-09-09T19:36:52.229Z"
        ],
        [
         "TEC-PH-10004912",
         "Cisco SPA112 2 Port Phone Adapter",
         "Phones",
         "Technology",
         "Retail CSV",
         "2024-09-09T19:36:52.229Z"
        ],
        [
         "TEC-MA-10003493",
         "Penpower WorldCard Pro Card Scanner",
         "Machines",
         "Technology",
         "Retail CSV",
         "2024-09-09T19:36:52.229Z"
        ],
        [
         "OFF-ST-10003455",
         "Tenex File Box, Personal Filing Tote with Lid, Black",
         "Storage",
         "Office Supplies",
         "Retail CSV",
         "2024-09-09T19:36:52.229Z"
        ],
        [
         "OFF-PA-10001970",
         "Xerox 1881",
         "Paper",
         "Office Supplies",
         "Retail CSV",
         "2024-09-09T19:36:52.229Z"
        ],
        [
         "OFF-PA-10002230",
         "Xerox 1897",
         "Paper",
         "Office Supplies",
         "Retail CSV",
         "2024-09-09T19:36:52.229Z"
        ],
        [
         "OFF-AP-10004233",
         "Honeywell Enviracaire Portable Air Cleaner for up to 8 x 10 Room",
         "Appliances",
         "Office Supplies",
         "Retail CSV",
         "2024-09-09T19:36:52.229Z"
        ],
        [
         "FUR-FU-10001468",
         "Tenex Antistatic Computer Chair Mats",
         "Furnishings",
         "Furniture",
         "Retail CSV",
         "2024-09-09T19:36:52.229Z"
        ],
        [
         "TEC-AC-10002305",
         "KeyTronic E03601U1 - Keyboard - Beige",
         "Accessories",
         "Technology",
         "Retail CSV",
         "2024-09-09T19:36:52.229Z"
        ],
        [
         "TEC-PH-10001870",
         "Lunatik TT5L-002 Taktik Strike Impact Protection System for iPhone 5",
         "Phones",
         "Technology",
         "Retail CSV",
         "2024-09-09T19:36:52.229Z"
        ],
        [
         "FUR-FU-10001487",
         "Eldon Expressions Wood and Plastic Desk Accessories, Cherry Wood",
         "Furnishings",
         "Furniture",
         "Retail CSV",
         "2024-09-09T19:36:52.229Z"
        ],
        [
         "OFF-ST-10004963",
         "Eldon Gobal File Keepers",
         "Storage",
         "Office Supplies",
         "Retail CSV",
         "2024-09-09T19:36:52.229Z"
        ],
        [
         "OFF-BI-10001036",
         "Cardinal EasyOpen D-Ring Binders",
         "Binders",
         "Office Supplies",
         "Retail CSV",
         "2024-09-09T19:36:52.229Z"
        ],
        [
         "TEC-PH-10000560",
         "Samsung Galaxy S III - 16GB - pebble blue (T-Mobile)",
         "Phones",
         "Technology",
         "Retail CSV",
         "2024-09-09T19:36:52.229Z"
        ],
        [
         "TEC-PH-10003580",
         "Cisco IP Phone 7961G-GE VoIP phone",
         "Phones",
         "Technology",
         "Retail CSV",
         "2024-09-09T19:36:52.229Z"
        ],
        [
         "OFF-PA-10003424",
         "\"\"\"While you Were Out\"\" Message Book",
         "Paper",
         "Office Supplies",
         "Retail CSV",
         "2024-09-09T19:36:52.229Z"
        ],
        [
         "OFF-PA-10002246",
         "Wirebound Four 2-3/4 x 5 Forms per Page, 400 Sets per Book",
         "Paper",
         "Office Supplies",
         "Retail CSV",
         "2024-09-09T19:36:52.229Z"
        ],
        [
         "OFF-PA-10000213",
         "Xerox 198",
         "Paper",
         "Office Supplies",
         "Retail CSV",
         "2024-09-09T19:36:52.229Z"
        ],
        [
         "OFF-PA-10000048",
         "Xerox 20",
         "Paper",
         "Office Supplies",
         "Retail CSV",
         "2024-09-09T19:36:52.229Z"
        ],
        [
         "OFF-AR-10001149",
         "Sanford Colorific Colored Pencils, 12/Box",
         "Art",
         "Office Supplies",
         "Retail CSV",
         "2024-09-09T19:36:52.229Z"
        ],
        [
         "OFF-AP-10002203",
         "Eureka Disposable Bags for Sanitaire Vibra Groomer I Upright Vac",
         "Appliances",
         "Office Supplies",
         "Retail CSV",
         "2024-09-09T19:36:52.229Z"
        ],
        [
         "OFF-LA-10001074",
         "Round Specialty Laser Printer Labels",
         "Labels",
         "Office Supplies",
         "Retail CSV",
         "2024-09-09T19:36:52.229Z"
        ],
        [
         "FUR-FU-10004020",
         "Advantus Panel Wall Acrylic Frame",
         "Furnishings",
         "Furniture",
         "Retail CSV",
         "2024-09-09T19:36:52.229Z"
        ],
        [
         "OFF-AR-10000634",
         "Newell 320",
         "Art",
         "Office Supplies",
         "Retail CSV",
         "2024-09-09T19:36:52.229Z"
        ],
        [
         "TEC-PH-10001615",
         "AT&T CL82213",
         "Phones",
         "Technology",
         "Retail CSV",
         "2024-09-09T19:36:52.229Z"
        ],
        [
         "TEC-MA-10002981",
         "I.R.I.S IRISCard Anywhere 5 Card Scanner",
         "Machines",
         "Technology",
         "Retail CSV",
         "2024-09-09T19:36:52.229Z"
        ],
        [
         "OFF-AR-10001615",
         "Newell 34",
         "Art",
         "Office Supplies",
         "Retail CSV",
         "2024-09-09T19:36:52.229Z"
        ],
        [
         "OFF-ST-10000136",
         "Letter Size File",
         "Storage",
         "Office Supplies",
         "Retail CSV",
         "2024-09-09T19:36:52.229Z"
        ],
        [
         "TEC-PH-10002563",
         "Adtran 1202752G1",
         "Phones",
         "Technology",
         "Retail CSV",
         "2024-09-09T19:36:52.229Z"
        ],
        [
         "FUR-CH-10004086",
         "Hon 4070 Series Pagoda Armless Upholstered Stacking Chairs",
         "Chairs",
         "Furniture",
         "Retail CSV",
         "2024-09-09T19:36:52.229Z"
        ],
        [
         "OFF-ST-10001321",
         "Decoflex Hanging Personal Folder File, Blue",
         "Storage",
         "Office Supplies",
         "Retail CSV",
         "2024-09-09T19:36:52.229Z"
        ],
        [
         "OFF-ST-10004459",
         "Tennsco Single-Tier Lockers",
         "Storage",
         "Office Supplies",
         "Retail CSV",
         "2024-09-09T19:36:52.229Z"
        ],
        [
         "OFF-AP-10001563",
         "Belkin Premiere Surge Master II 8-outlet surge protector",
         "Appliances",
         "Office Supplies",
         "Retail CSV",
         "2024-09-09T19:36:52.229Z"
        ],
        [
         "OFF-EN-10000461",
         "\"#10- 4 1/8\"\" x 9 1/2\"\" Recycled Envelopes\"",
         "Envelopes",
         "Office Supplies",
         "Retail CSV",
         "2024-09-09T19:36:52.229Z"
        ],
        [
         "OFF-AP-10003590",
         "Hoover WindTunnel Plus Canister Vacuum",
         "Appliances",
         "Office Supplies",
         "Retail CSV",
         "2024-09-09T19:36:52.229Z"
        ],
        [
         "FUR-FU-10000771",
         "Eldon 200 Class Desk Accessories, Smoke",
         "Furnishings",
         "Furniture",
         "Retail CSV",
         "2024-09-09T19:36:52.229Z"
        ],
        [
         "FUR-BO-10002598",
         "Hon Metal Bookcases, Putty",
         "Bookcases",
         "Furniture",
         "Retail CSV",
         "2024-09-09T19:36:52.229Z"
        ],
        [
         "OFF-AP-10000938",
         "Avanti 1.7 Cu. Ft. Refrigerator",
         "Appliances",
         "Office Supplies",
         "Retail CSV",
         "2024-09-09T19:36:52.229Z"
        ],
        [
         "FUR-CH-10000785",
         "Global Ergonomic Managers Chair",
         "Chairs",
         "Furniture",
         "Retail CSV",
         "2024-09-09T19:36:52.229Z"
        ],
        [
         "OFF-AP-10000576",
         "Belkin 325VA UPS Surge Protector, 6'",
         "Appliances",
         "Office Supplies",
         "Retail CSV",
         "2024-09-09T19:36:52.229Z"
        ],
        [
         "OFF-PA-10003172",
         "Xerox 1996",
         "Paper",
         "Office Supplies",
         "Retail CSV",
         "2024-09-09T19:36:52.229Z"
        ],
        [
         "FUR-FU-10002396",
         "DAX Copper Panel Document Frame, 5 x 7 Size",
         "Furnishings",
         "Furniture",
         "Retail CSV",
         "2024-09-09T19:36:52.229Z"
        ],
        [
         "FUR-BO-10000711",
         "Hon Metal Bookcases, Gray",
         "Bookcases",
         "Furniture",
         "Retail CSV",
         "2024-09-09T19:36:52.229Z"
        ],
        [
         "FUR-TA-10004442",
         "Riverside Furniture Stanwyck Manor Table Series",
         "Tables",
         "Furniture",
         "Retail CSV",
         "2024-09-09T19:36:52.229Z"
        ],
        [
         "OFF-AP-10001564",
         "Hoover Commercial Lightweight Upright Vacuum with E-Z Empty Dirt Cup",
         "Appliances",
         "Office Supplies",
         "Retail CSV",
         "2024-09-09T19:36:52.229Z"
        ],
        [
         "FUR-CH-10004218",
         "Global Fabric Manager's Chair, Dark Gray",
         "Chairs",
         "Furniture",
         "Retail CSV",
         "2024-09-09T19:36:52.229Z"
        ],
        [
         "OFF-PA-10003845",
         "Xerox 1987",
         "Paper",
         "Office Supplies",
         "Retail CSV",
         "2024-09-09T19:36:52.229Z"
        ],
        [
         "FUR-CH-10003746",
         "Hon 4070 Series Pagoda Round Back Stacking Chairs",
         "Chairs",
         "Furniture",
         "Retail CSV",
         "2024-09-09T19:36:52.229Z"
        ],
        [
         "OFF-AP-10003040",
         "Fellowes 8 Outlet Superior Workstation Surge Protector w/o Phone/Fax/Modem Protection",
         "Appliances",
         "Office Supplies",
         "Retail CSV",
         "2024-09-09T19:36:52.229Z"
        ],
        [
         "OFF-AR-10001545",
         "Newell 326",
         "Art",
         "Office Supplies",
         "Retail CSV",
         "2024-09-09T19:36:52.229Z"
        ],
        [
         "OFF-PA-10001763",
         "Xerox 1896",
         "Paper",
         "Office Supplies",
         "Retail CSV",
         "2024-09-09T19:36:52.229Z"
        ],
        [
         "TEC-PH-10000307",
         "Shocksock Galaxy S4 Armband",
         "Phones",
         "Technology",
         "Retail CSV",
         "2024-09-09T19:36:52.229Z"
        ],
        [
         "TEC-PH-10004165",
         "Mitel MiVoice 5330e IP Phone",
         "Phones",
         "Technology",
         "Retail CSV",
         "2024-09-09T19:36:52.229Z"
        ],
        [
         "OFF-PA-10000501",
         "Petty Cash Envelope",
         "Paper",
         "Office Supplies",
         "Retail CSV",
         "2024-09-09T19:36:52.229Z"
        ],
        [
         "OFF-AP-10001394",
         "Harmony Air Purifier",
         "Appliances",
         "Office Supplies",
         "Retail CSV",
         "2024-09-09T19:36:52.229Z"
        ],
        [
         "FUR-CH-10004754",
         "Global Stack Chair with Arms, Black",
         "Chairs",
         "Furniture",
         "Retail CSV",
         "2024-09-09T19:36:52.229Z"
        ],
        [
         "OFF-AR-10003723",
         "Avery Hi-Liter Fluorescent Desk Style Markers",
         "Art",
         "Office Supplies",
         "Retail CSV",
         "2024-09-09T19:36:52.229Z"
        ],
        [
         "TEC-AC-10002718",
         "Belkin Standard 104 key USB Keyboard",
         "Accessories",
         "Technology",
         "Retail CSV",
         "2024-09-09T19:36:52.229Z"
        ],
        [
         "OFF-BI-10001308",
         "GBC Standard Plastic Binding Systems' Combs",
         "Binders",
         "Office Supplies",
         "Retail CSV",
         "2024-09-09T19:36:52.229Z"
        ],
        [
         "TEC-PH-10000193",
         "Jensen SMPS-640 - speaker phone",
         "Phones",
         "Technology",
         "Retail CSV",
         "2024-09-09T19:36:52.229Z"
        ],
        [
         "TEC-PH-10002726",
         "netTALK DUO VoIP Telephone Service",
         "Phones",
         "Technology",
         "Retail CSV",
         "2024-09-09T19:36:52.229Z"
        ],
        [
         "TEC-MA-10004241",
         "Star Micronics TSP800 TSP847IIU Receipt Printer",
         "Machines",
         "Technology",
         "Retail CSV",
         "2024-09-09T19:36:52.229Z"
        ],
        [
         "OFF-EN-10003160",
         "Pastel Pink Envelopes",
         "Envelopes",
         "Office Supplies",
         "Retail CSV",
         "2024-09-09T19:36:52.229Z"
        ],
        [
         "FUR-FU-10002553",
         "Electrix Incandescent Magnifying Lamp, Black",
         "Furnishings",
         "Furniture",
         "Retail CSV",
         "2024-09-09T19:36:52.229Z"
        ],
        [
         "OFF-AP-10000252",
         "Harmony HEPA Quiet Air Purifiers",
         "Appliances",
         "Office Supplies",
         "Retail CSV",
         "2024-09-09T19:36:52.229Z"
        ],
        [
         "TEC-AC-10000682",
         "Kensington K72356US Mouse-in-a-Box USB Desktop Mouse",
         "Accessories",
         "Technology",
         "Retail CSV",
         "2024-09-09T19:36:52.229Z"
        ],
        [
         "OFF-AP-10001962",
         "Black & Decker Filter for Double Action Dustbuster Cordless Vac BLDV7210",
         "Appliances",
         "Office Supplies",
         "Retail CSV",
         "2024-09-09T19:36:52.229Z"
        ],
        [
         "OFF-AR-10000940",
         "Newell 343",
         "Art",
         "Office Supplies",
         "Retail CSV",
         "2024-09-09T19:36:52.229Z"
        ],
        [
         "TEC-AC-10000991",
         "Sony Micro Vault Click 8 GB USB 2.0 Flash Drive",
         "Accessories",
         "Technology",
         "Retail CSV",
         "2024-09-09T19:36:52.229Z"
        ],
        [
         "TEC-PH-10003963",
         "GE 2-Jack Phone Line Splitter",
         "Phones",
         "Technology",
         "Retail CSV",
         "2024-09-09T19:36:52.229Z"
        ],
        [
         "TEC-PH-10002085",
         "Clarity 53712",
         "Phones",
         "Technology",
         "Retail CSV",
         "2024-09-09T19:36:52.229Z"
        ],
        [
         "OFF-LA-10004853",
         "Avery 483",
         "Labels",
         "Office Supplies",
         "Retail CSV",
         "2024-09-09T19:36:52.229Z"
        ],
        [
         "TEC-PH-10000576",
         "AT&T 1080 Corded phone",
         "Phones",
         "Technology",
         "Retail CSV",
         "2024-09-09T19:36:52.229Z"
        ],
        [
         "TEC-AC-10003038",
         "Kingston Digital DataTraveler 16GB USB 2.0",
         "Accessories",
         "Technology",
         "Retail CSV",
         "2024-09-09T19:36:52.229Z"
        ],
        [
         "OFF-AR-10004602",
         "Boston KS Multi-Size Manual Pencil Sharpener",
         "Art",
         "Office Supplies",
         "Retail CSV",
         "2024-09-09T19:36:52.229Z"
        ],
        [
         "OFF-ST-10004950",
         "Tenex Personal Filing Tote With Secure Closure Lid, Black/Frost",
         "Storage",
         "Office Supplies",
         "Retail CSV",
         "2024-09-09T19:36:52.229Z"
        ],
        [
         "OFF-PA-10003228",
         "Xerox 1917",
         "Paper",
         "Office Supplies",
         "Retail CSV",
         "2024-09-09T19:36:52.229Z"
        ],
        [
         "FUR-CH-10001802",
         "Hon Every-Day Chair Series Swivel Task Chairs",
         "Chairs",
         "Furniture",
         "Retail CSV",
         "2024-09-09T19:36:52.229Z"
        ],
        [
         "OFF-AP-10004136",
         "Kensington 6 Outlet SmartSocket Surge Protector",
         "Appliances",
         "Office Supplies",
         "Retail CSV",
         "2024-09-09T19:36:52.229Z"
        ],
        [
         "OFF-BI-10002412",
         "Wilson Jones “Snap” Scratch Pad Binder Tool for Ring Binders",
         "Binders",
         "Office Supplies",
         "Retail CSV",
         "2024-09-09T19:36:52.229Z"
        ],
        [
         "FUR-TA-10002228",
         "Bevis Traditional Conference Table Top, Plinth Base",
         "Tables",
         "Furniture",
         "Retail CSV",
         "2024-09-09T19:36:52.229Z"
        ],
        [
         "OFF-BI-10003712",
         "\"Acco Pressboard Covers with Storage Hooks, 14 7/8\"\" x 11\"\"",
         "Binders",
         "Office Supplies",
         "Retail CSV",
         "2024-09-09T19:36:52.229Z"
        ],
        [
         "OFF-PA-10000019",
         "Xerox 1931",
         "Paper",
         "Office Supplies",
         "Retail CSV",
         "2024-09-09T19:36:52.229Z"
        ],
        [
         "TEC-AC-10004666",
         "Maxell iVDR EX 500GB Cartridge",
         "Accessories",
         "Technology",
         "Retail CSV",
         "2024-09-09T19:36:52.229Z"
        ],
        [
         "OFF-PA-10001838",
         "\"Adams Telephone Message Book W/Dividers/Space For Phone Numbers, 5 1/4\"\"X8 1/2\"\"",
         "Paper",
         "Office Supplies",
         "Retail CSV",
         "2024-09-09T19:36:52.229Z"
        ],
        [
         "OFF-PA-10004665",
         "Advantus Motivational Note Cards",
         "Paper",
         "Office Supplies",
         "Retail CSV",
         "2024-09-09T19:36:52.229Z"
        ],
        [
         "TEC-PH-10004389",
         "Nokia Lumia 925",
         "Phones",
         "Technology",
         "Retail CSV",
         "2024-09-09T19:36:52.229Z"
        ],
        [
         "TEC-MA-10004521",
         "Epson Perfection V600 Photo Scanner",
         "Machines",
         "Technology",
         "Retail CSV",
         "2024-09-09T19:36:52.229Z"
        ],
        [
         "TEC-AC-10000487",
         "SanDisk Cruzer 4 GB USB Flash Drive",
         "Accessories",
         "Technology",
         "Retail CSV",
         "2024-09-09T19:36:52.229Z"
        ],
        [
         "TEC-PH-10002583",
         "iOttie HLCRIO102 Car Mount",
         "Phones",
         "Technology",
         "Retail CSV",
         "2024-09-09T19:36:52.229Z"
        ],
        [
         "OFF-PA-10004569",
         "\"Wirebound Message Books, Two 4 1/4\"\" x 5\"\" Forms per Page\"",
         "Paper",
         "Office Supplies",
         "Retail CSV",
         "2024-09-09T19:36:52.229Z"
        ],
        [
         "OFF-AR-10002804",
         "Faber Castell Col-Erase Pencils",
         "Art",
         "Office Supplies",
         "Retail CSV",
         "2024-09-09T19:36:52.229Z"
        ],
        [
         "TEC-MA-10004002",
         "Zebra GX420t Direct Thermal/Thermal Transfer Printer",
         "Machines",
         "Technology",
         "Retail CSV",
         "2024-09-09T19:36:52.229Z"
        ],
        [
         "OFF-PA-10000528",
         "Xerox 1981",
         "Paper",
         "Office Supplies",
         "Retail CSV",
         "2024-09-09T19:36:52.229Z"
        ],
        [
         "OFF-AP-10001391",
         "Kensington 6 Outlet MasterPiece HOMEOFFICE Power Control Center",
         "Appliances",
         "Office Supplies",
         "Retail CSV",
         "2024-09-09T19:36:52.229Z"
        ],
        [
         "OFF-ST-10002615",
         "Dual Level, Single-Width Filing Carts",
         "Storage",
         "Office Supplies",
         "Retail CSV",
         "2024-09-09T19:36:52.229Z"
        ],
        [
         "OFF-SU-10000432",
         "Acco Side-Punched Conventional Columnar Pads",
         "Supplies",
         "Office Supplies",
         "Retail CSV",
         "2024-09-09T19:36:52.229Z"
        ],
        [
         "OFF-PA-10001947",
         "Xerox 1974",
         "Paper",
         "Office Supplies",
         "Retail CSV",
         "2024-09-09T19:36:52.229Z"
        ],
        [
         "OFF-PA-10000743",
         "Xerox 1977",
         "Paper",
         "Office Supplies",
         "Retail CSV",
         "2024-09-09T19:36:52.229Z"
        ],
        [
         "OFF-AP-10003884",
         "Fellowes Smart Surge Ten-Outlet Protector, Platinum",
         "Appliances",
         "Office Supplies",
         "Retail CSV",
         "2024-09-09T19:36:52.229Z"
        ],
        [
         "OFF-ST-10002292",
         "Sauder Facets Collection Locker/File Cabinet, Sky Alder Finish",
         "Storage",
         "Office Supplies",
         "Retail CSV",
         "2024-09-09T19:36:52.229Z"
        ],
        [
         "TEC-PH-10003442",
         "Samsung Replacement EH64AVFWE Premium Headset",
         "Phones",
         "Technology",
         "Retail CSV",
         "2024-09-09T19:36:52.229Z"
        ],
        [
         "FUR-CH-10001708",
         "Office Star - Contemporary Swivel Chair with Padded Adjustable Arms and Flex Back",
         "Chairs",
         "Furniture",
         "Retail CSV",
         "2024-09-09T19:36:52.229Z"
        ],
        [
         "OFF-PA-10000466",
         "Memo Book, 100 Message Capacity, 5 3/8” x 11”",
         "Paper",
         "Office Supplies",
         "Retail CSV",
         "2024-09-09T19:36:52.229Z"
        ],
        [
         "OFF-EN-10004483",
         "#10 White Business Envelopes,4 1/8 x 9 1/2",
         "Envelopes",
         "Office Supplies",
         "Retail CSV",
         "2024-09-09T19:36:52.229Z"
        ],
        [
         "FUR-FU-10000305",
         "\"Tenex V2T-RE Standard Weight Series Chair Mat, 45\"\" x 53\"\"",
         "Furnishings",
         "Furniture",
         "Retail CSV",
         "2024-09-09T19:36:52.229Z"
        ],
        [
         "FUR-FU-10004586",
         "G.E. Longer-Life Indoor Recessed Floodlight Bulbs",
         "Furnishings",
         "Furniture",
         "Retail CSV",
         "2024-09-09T19:36:52.229Z"
        ],
        [
         "OFF-AR-10002704",
         "Boston 1900 Electric Pencil Sharpener",
         "Art",
         "Office Supplies",
         "Retail CSV",
         "2024-09-09T19:36:52.229Z"
        ],
        [
         "FUR-TA-10001086",
         "SAFCO PlanMaster Boards, 60w x 37-1/2d, White Melamine",
         "Tables",
         "Furniture",
         "Retail CSV",
         "2024-09-09T19:36:52.229Z"
        ],
        [
         "FUR-CH-10004886",
         "Bevis Steel Folding Chairs",
         "Chairs",
         "Furniture",
         "Retail CSV",
         "2024-09-09T19:36:52.229Z"
        ],
        [
         "OFF-BI-10002049",
         "UniKeep View Case Binders",
         "Binders",
         "Office Supplies",
         "Retail CSV",
         "2024-09-09T19:36:52.229Z"
        ],
        [
         "OFF-BI-10004970",
         "ACCOHIDE 3-Ring Binder, Blue, 1\"\"",
         "Binders",
         "Office Supplies",
         "Retail CSV",
         "2024-09-09T19:36:52.229Z"
        ],
        [
         "OFF-AR-10001044",
         "BOSTON Ranger #55 Pencil Sharpener, Black",
         "Art",
         "Office Supplies",
         "Retail CSV",
         "2024-09-09T19:36:52.229Z"
        ],
        [
         "FUR-CH-10002084",
         "Hon Mobius Operator's Chair",
         "Chairs",
         "Furniture",
         "Retail CSV",
         "2024-09-09T19:36:52.229Z"
        ],
        [
         "OFF-AP-10004036",
         "Bionaire 99.97% HEPA Air Cleaner",
         "Appliances",
         "Office Supplies",
         "Retail CSV",
         "2024-09-09T19:36:52.229Z"
        ],
        [
         "FUR-FU-10002963",
         "Master Caster Door Stop, Gray",
         "Furnishings",
         "Furniture",
         "Retail CSV",
         "2024-09-09T19:36:52.229Z"
        ],
        [
         "OFF-AR-10001227",
         "Newell 338",
         "Art",
         "Office Supplies",
         "Retail CSV",
         "2024-09-09T19:36:52.229Z"
        ],
        [
         "OFF-FA-10003485",
         "Staples",
         "Fasteners",
         "Office Supplies",
         "Retail CSV",
         "2024-09-09T19:36:52.229Z"
        ],
        [
         "TEC-PH-10000562",
         "Samsung Convoy 3",
         "Phones",
         "Technology",
         "Retail CSV",
         "2024-09-09T19:36:52.229Z"
        ],
        [
         "TEC-MA-10003173",
         "Hewlett-Packard 300S Scientific Calculator",
         "Machines",
         "Technology",
         "Retail CSV",
         "2024-09-09T19:36:52.229Z"
        ],
        [
         "OFF-ST-10000615",
         "SimpliFile Personal File, Black Granite, 15w x 6-15/16d x 11-1/4h",
         "Storage",
         "Office Supplies",
         "Retail CSV",
         "2024-09-09T19:36:52.229Z"
        ],
        [
         "OFF-BI-10003655",
         "Durable Pressboard Binders",
         "Binders",
         "Office Supplies",
         "Retail CSV",
         "2024-09-09T19:36:52.229Z"
        ],
        [
         "OFF-AR-10004165",
         "Binney & Smith inkTank Erasable Pocket Highlighter, Chisel Tip, Yellow",
         "Art",
         "Office Supplies",
         "Retail CSV",
         "2024-09-09T19:36:52.229Z"
        ],
        [
         "OFF-AR-10004587",
         "Boston 1827 Commercial Additional Cutter, Drive Gear & Gear Rack for 1606",
         "Art",
         "Office Supplies",
         "Retail CSV",
         "2024-09-09T19:36:52.229Z"
        ],
        [
         "OFF-LA-10002043",
         "Avery 489",
         "Labels",
         "Office Supplies",
         "Retail CSV",
         "2024-09-09T19:36:52.229Z"
        ],
        [
         "OFF-BI-10003638",
         "GBC Durable Plastic Covers",
         "Binders",
         "Office Supplies",
         "Retail CSV",
         "2024-09-09T19:36:52.229Z"
        ],
        [
         "TEC-CO-10002095",
         "Hewlett Packard 610 Color Digital Copier / Printer",
         "Copiers",
         "Technology",
         "Retail CSV",
         "2024-09-09T19:36:52.229Z"
        ],
        [
         "FUR-FU-10000794",
         "Eldon Stackable Tray, Side-Load, Legal, Smoke",
         "Furnishings",
         "Furniture",
         "Retail CSV",
         "2024-09-09T19:36:52.229Z"
        ],
        [
         "OFF-AP-10001366",
         "Staple holder",
         "Appliances",
         "Office Supplies",
         "Retail CSV",
         "2024-09-09T19:36:52.229Z"
        ],
        [
         "OFF-EN-10001535",
         "Grip Seal Envelopes",
         "Envelopes",
         "Office Supplies",
         "Retail CSV",
         "2024-09-09T19:36:52.229Z"
        ],
        [
         "OFF-BI-10001575",
         "GBC Linen Binding Covers",
         "Binders",
         "Office Supplies",
         "Retail CSV",
         "2024-09-09T19:36:52.229Z"
        ],
        [
         "TEC-AC-10001606",
         "Logitech Wireless Performance Mouse MX for PC and Mac",
         "Accessories",
         "Technology",
         "Retail CSV",
         "2024-09-09T19:36:52.229Z"
        ],
        [
         "OFF-EN-10001532",
         "Brown Kraft Recycled Envelopes",
         "Envelopes",
         "Office Supplies",
         "Retail CSV",
         "2024-09-09T19:36:52.229Z"
        ],
        [
         "OFF-EN-10002831",
         "Tyvek  Top-Opening Peel & Seel  Envelopes, Gray",
         "Envelopes",
         "Office Supplies",
         "Retail CSV",
         "2024-09-09T19:36:52.229Z"
        ],
        [
         "TEC-AC-10004209",
         "Memorex Froggy Flash Drive 4 GB",
         "Accessories",
         "Technology",
         "Retail CSV",
         "2024-09-09T19:36:52.229Z"
        ],
        [
         "OFF-BI-10002414",
         "GBC ProClick Spines for 32-Hole Punch",
         "Binders",
         "Office Supplies",
         "Retail CSV",
         "2024-09-09T19:36:52.229Z"
        ],
        [
         "FUR-BO-10003966",
         "Sauder Facets Collection Library, Sky Alder Finish",
         "Bookcases",
         "Furniture",
         "Retail CSV",
         "2024-09-09T19:36:52.229Z"
        ],
        [
         "FUR-TA-10004607",
         "Hon 2111 Invitation Series Straight Table",
         "Tables",
         "Furniture",
         "Retail CSV",
         "2024-09-09T19:36:52.229Z"
        ],
        [
         "OFF-AR-10004752",
         "Blackstonian Pencils",
         "Art",
         "Office Supplies",
         "Retail CSV",
         "2024-09-09T19:36:52.229Z"
        ],
        [
         "OFF-ST-10003996",
         "Letter/Legal File Tote with Clear Snap-On Lid, Black Granite",
         "Storage",
         "Office Supplies",
         "Retail CSV",
         "2024-09-09T19:36:52.229Z"
        ],
        [
         "OFF-PA-10000520",
         "Xerox 201",
         "Paper",
         "Office Supplies",
         "Retail CSV",
         "2024-09-09T19:36:52.229Z"
        ],
        [
         "FUR-FU-10002445",
         "DAX Two-Tone Rosewood/Black Document Frame, Desktop, 5 x 7",
         "Furnishings",
         "Furniture",
         "Retail CSV",
         "2024-09-09T19:36:52.229Z"
        ],
        [
         "TEC-CO-10001571",
         "Sharp 1540cs Digital Laser Copier",
         "Copiers",
         "Technology",
         "Retail CSV",
         "2024-09-09T19:36:52.229Z"
        ],
        [
         "FUR-FU-10002030",
         "\"Executive Impressions 14\"\" Contract Wall Clock with Quartz Movement\"",
         "Furnishings",
         "Furniture",
         "Retail CSV",
         "2024-09-09T19:36:52.229Z"
        ],
        [
         "OFF-AP-10003217",
         "Eureka Sanitaire  Commercial Upright",
         "Appliances",
         "Office Supplies",
         "Retail CSV",
         "2024-09-09T19:36:52.229Z"
        ],
        [
         "FUR-FU-10002597",
         "C-Line Magnetic Cubicle Keepers, Clear Polypropylene",
         "Furnishings",
         "Furniture",
         "Retail CSV",
         "2024-09-09T19:36:52.229Z"
        ],
        [
         "OFF-PA-10004983",
         "Xerox 23",
         "Paper",
         "Office Supplies",
         "Retail CSV",
         "2024-09-09T19:36:52.229Z"
        ],
        [
         "OFF-PA-10001497",
         "Xerox 1914",
         "Paper",
         "Office Supplies",
         "Retail CSV",
         "2024-09-09T19:36:52.229Z"
        ],
        [
         "FUR-CH-10002774",
         "Global Deluxe Stacking Chair, Gray",
         "Chairs",
         "Furniture",
         "Retail CSV",
         "2024-09-09T19:36:52.229Z"
        ],
        [
         "FUR-FU-10003096",
         "Master Giant Foot Doorstop, Safety Yellow",
         "Furnishings",
         "Furniture",
         "Retail CSV",
         "2024-09-09T19:36:52.229Z"
        ],
        [
         "TEC-PH-10001530",
         "Cisco Unified IP Phone 7945G VoIP phone",
         "Phones",
         "Technology",
         "Retail CSV",
         "2024-09-09T19:36:52.229Z"
        ],
        [
         "OFF-PA-10001622",
         "\"Ampad Poly Cover Wirebound Steno Book, 6\"\" x 9\"\" Assorted Colors",
         "Paper",
         "Office Supplies",
         "Retail CSV",
         "2024-09-09T19:36:52.229Z"
        ],
        [
         "FUR-TA-10004154",
         "Riverside Furniture Oval Coffee Table, Oval End Table, End Table with Drawer",
         "Tables",
         "Furniture",
         "Retail CSV",
         "2024-09-09T19:36:52.229Z"
        ],
        [
         "OFF-AR-10002257",
         "Eldon Spacemaker Box, Quick-Snap Lid, Clear",
         "Art",
         "Office Supplies",
         "Retail CSV",
         "2024-09-09T19:36:52.229Z"
        ],
        [
         "OFF-PA-10001661",
         "Xerox 1922",
         "Paper",
         "Office Supplies",
         "Retail CSV",
         "2024-09-09T19:36:52.229Z"
        ],
        [
         "FUR-FU-10004245",
         "Career Cubicle Clock, 8 1/4\"",
         "Furnishings",
         "Furniture",
         "Retail CSV",
         "2024-09-09T19:36:52.229Z"
        ],
        [
         "TEC-AC-10004595",
         "First Data TMFD35 PIN Pad",
         "Accessories",
         "Technology",
         "Retail CSV",
         "2024-09-09T19:36:52.229Z"
        ],
        [
         "TEC-AC-10000892",
         "NETGEAR N750 Dual Band Wi-Fi Gigabit Router",
         "Accessories",
         "Technology",
         "Retail CSV",
         "2024-09-09T19:36:52.229Z"
        ],
        [
         "FUR-CH-10001394",
         "Global Leather Executive Chair",
         "Chairs",
         "Furniture",
         "Retail CSV",
         "2024-09-09T19:36:52.229Z"
        ],
        [
         "OFF-BI-10003529",
         "Avery Round Ring Poly Binders",
         "Binders",
         "Office Supplies",
         "Retail CSV",
         "2024-09-09T19:36:52.229Z"
        ],
        [
         "OFF-EN-10001539",
         "Staple envelope",
         "Envelopes",
         "Office Supplies",
         "Retail CSV",
         "2024-09-09T19:36:52.229Z"
        ],
        [
         "OFF-BI-10000977",
         "Ibico Plastic Spiral Binding Combs",
         "Binders",
         "Office Supplies",
         "Retail CSV",
         "2024-09-09T19:36:52.229Z"
        ],
        [
         "TEC-MA-10000488",
         "Bady BDG101FRU Card Printer",
         "Machines",
         "Technology",
         "Retail CSV",
         "2024-09-09T19:36:52.229Z"
        ],
        [
         "TEC-PH-10001198",
         "Avaya 4621SW VoIP phone",
         "Phones",
         "Technology",
         "Retail CSV",
         "2024-09-09T19:36:52.229Z"
        ],
        [
         "FUR-FU-10003623",
         "DataProducts Ampli Magnifier Task Lamp, Black,",
         "Furnishings",
         "Furniture",
         "Retail CSV",
         "2024-09-09T19:36:52.229Z"
        ],
        [
         "OFF-PA-10003790",
         "Xerox 1991",
         "Paper",
         "Office Supplies",
         "Retail CSV",
         "2024-09-09T19:36:52.229Z"
        ],
        [
         "OFF-LA-10004545",
         "Avery 50",
         "Labels",
         "Office Supplies",
         "Retail CSV",
         "2024-09-09T19:36:52.229Z"
        ],
        [
         "TEC-PH-10002555",
         "Nortel Meridian M5316 Digital phone",
         "Phones",
         "Technology",
         "Retail CSV",
         "2024-09-09T19:36:52.229Z"
        ],
        [
         "OFF-AR-10003183",
         "Avery Fluorescent Highlighter Four-Color Set",
         "Art",
         "Office Supplies",
         "Retail CSV",
         "2024-09-09T19:36:52.229Z"
        ],
        [
         "FUR-FU-10004666",
         "DAX Clear Channel Poster Frame",
         "Furnishings",
         "Furniture",
         "Retail CSV",
         "2024-09-09T19:36:52.229Z"
        ],
        [
         "OFF-BI-10004828",
         "GBC Poly Designer Binding Covers",
         "Binders",
         "Office Supplies",
         "Retail CSV",
         "2024-09-09T19:36:52.229Z"
        ],
        [
         "FUR-FU-10003424",
         "Nu-Dell Oak Frame",
         "Furnishings",
         "Furniture",
         "Retail CSV",
         "2024-09-09T19:36:52.229Z"
        ],
        [
         "OFF-PA-10002365",
         "Xerox 1967",
         "Paper",
         "Office Supplies",
         "Retail CSV",
         "2024-09-09T19:36:52.229Z"
        ],
        [
         "OFF-PA-10003349",
         "Xerox 1957",
         "Paper",
         "Office Supplies",
         "Retail CSV",
         "2024-09-09T19:36:52.229Z"
        ],
        [
         "OFF-FA-10000490",
         "\"OIC Binder Clips, Mini, 1/4\"\" Capacity",
         "Fasteners",
         "Office Supplies",
         "Retail CSV",
         "2024-09-09T19:36:52.229Z"
        ],
        [
         "OFF-EN-10001335",
         "White Business Envelopes with Contemporary Seam, Recycled White Business Envelopes",
         "Envelopes",
         "Office Supplies",
         "Retail CSV",
         "2024-09-09T19:36:52.229Z"
        ],
        [
         "OFF-AR-10003394",
         "Newell 332",
         "Art",
         "Office Supplies",
         "Retail CSV",
         "2024-09-09T19:36:52.229Z"
        ],
        [
         "OFF-LA-10004345",
         "Avery 493",
         "Labels",
         "Office Supplies",
         "Retail CSV",
         "2024-09-09T19:36:52.229Z"
        ],
        [
         "TEC-AC-10000580",
         "Logitech G13 Programmable Gameboard with LCD Display",
         "Accessories",
         "Technology",
         "Retail CSV",
         "2024-09-09T19:36:52.229Z"
        ],
        [
         "TEC-CO-10001766",
         "Canon PC940 Copier",
         "Copiers",
         "Technology",
         "Retail CSV",
         "2024-09-09T19:36:52.229Z"
        ],
        [
         "OFF-PA-10000167",
         "Xerox 1925",
         "Paper",
         "Office Supplies",
         "Retail CSV",
         "2024-09-09T19:36:52.229Z"
        ],
        [
         "OFF-PA-10001972",
         "Xerox 214",
         "Paper",
         "Office Supplies",
         "Retail CSV",
         "2024-09-09T19:36:52.229Z"
        ],
        [
         "OFF-BI-10004738",
         "Flexible Leather- Look Classic Collection Ring Binder",
         "Binders",
         "Office Supplies",
         "Retail CSV",
         "2024-09-09T19:36:52.229Z"
        ],
        [
         "TEC-AC-10001266",
         "Memorex Micro Travel Drive 8 GB",
         "Accessories",
         "Technology",
         "Retail CSV",
         "2024-09-09T19:36:52.229Z"
        ],
        [
         "OFF-BI-10003460",
         "Acco 3-Hole Punch",
         "Binders",
         "Office Supplies",
         "Retail CSV",
         "2024-09-09T19:36:52.229Z"
        ],
        [
         "FUR-FU-10001967",
         "Telescoping Adjustable Floor Lamp",
         "Furnishings",
         "Furniture",
         "Retail CSV",
         "2024-09-09T19:36:52.229Z"
        ],
        [
         "OFF-LA-10001569",
         "Avery 499",
         "Labels",
         "Office Supplies",
         "Retail CSV",
         "2024-09-09T19:36:52.229Z"
        ],
        [
         "TEC-PH-10001557",
         "Pyle PMP37LED",
         "Phones",
         "Technology",
         "Retail CSV",
         "2024-09-09T19:36:52.229Z"
        ],
        [
         "OFF-BI-10003719",
         "Large Capacity Hanging Post Binders",
         "Binders",
         "Office Supplies",
         "Retail CSV",
         "2024-09-09T19:36:52.229Z"
        ],
        [
         "OFF-BI-10004465",
         "Avery Durable Slant Ring Binders",
         "Binders",
         "Office Supplies",
         "Retail CSV",
         "2024-09-09T19:36:52.229Z"
        ],
        [
         "OFF-AP-10001303",
         "Holmes Cool Mist Humidifier for the Whole House with 8-Gallon Output per Day, Extended Life Filter",
         "Appliances",
         "Office Supplies",
         "Retail CSV",
         "2024-09-09T19:36:52.229Z"
        ],
        [
         "OFF-SU-10003002",
         "Letter Slitter",
         "Supplies",
         "Office Supplies",
         "Retail CSV",
         "2024-09-09T19:36:52.229Z"
        ],
        [
         "OFF-PA-10002606",
         "Xerox 1928",
         "Paper",
         "Office Supplies",
         "Retail CSV",
         "2024-09-09T19:36:52.229Z"
        ],
        [
         "FUR-FU-10000175",
         "DAX Wood Document Frame.",
         "Furnishings",
         "Furniture",
         "Retail CSV",
         "2024-09-09T19:36:52.229Z"
        ],
        [
         "OFF-PA-10000483",
         "Xerox 19",
         "Paper",
         "Office Supplies",
         "Retail CSV",
         "2024-09-09T19:36:52.229Z"
        ],
        [
         "OFF-PA-10000210",
         "Xerox Blank Computer Paper",
         "Paper",
         "Office Supplies",
         "Retail CSV",
         "2024-09-09T19:36:52.229Z"
        ],
        [
         "FUR-TA-10001539",
         "Chromcraft Rectangular Conference Tables",
         "Tables",
         "Furniture",
         "Retail CSV",
         "2024-09-09T19:36:52.229Z"
        ],
        [
         "OFF-BI-10002794",
         "\"Avery Trapezoid Ring Binder, 3\"\" Capacity",
         "Binders",
         "Office Supplies",
         "Retail CSV",
         "2024-09-09T19:36:52.229Z"
        ],
        [
         "OFF-BI-10003274",
         "Avery Durable Slant Ring Binders, No Labels",
         "Binders",
         "Office Supplies",
         "Retail CSV",
         "2024-09-09T19:36:52.229Z"
        ],
        [
         "FUR-FU-10004017",
         "\"Tenex Contemporary Contur Chairmats for Low and Medium Pile Carpet, Computer, 39\"\" x 49\"\"\"",
         "Furnishings",
         "Furniture",
         "Retail CSV",
         "2024-09-09T19:36:52.229Z"
        ],
        [
         "FUR-FU-10000246",
         "Aluminum Document Frame",
         "Furnishings",
         "Furniture",
         "Retail CSV",
         "2024-09-09T19:36:52.229Z"
        ],
        [
         "TEC-PH-10002365",
         "Belkin Grip Candy Sheer Case / Cover for iPhone 5 and 5S",
         "Phones",
         "Technology",
         "Retail CSV",
         "2024-09-09T19:36:52.229Z"
        ],
        [
         "FUR-FU-10000732",
         "Eldon 200 Class Desk Accessories",
         "Furnishings",
         "Furniture",
         "Retail CSV",
         "2024-09-09T19:36:52.229Z"
        ],
        [
         "TEC-PH-10004531",
         "OtterBox Commuter Series Case - iPhone 5 & 5s",
         "Phones",
         "Technology",
         "Retail CSV",
         "2024-09-09T19:36:52.229Z"
        ],
        [
         "OFF-PA-10004041",
         "\"It's Hot Message Books with Stickers, 2 3/4\"\" x 5\"\"\"",
         "Paper",
         "Office Supplies",
         "Retail CSV",
         "2024-09-09T19:36:52.229Z"
        ],
        [
         "OFF-BI-10000948",
         "GBC Laser Imprintable Binding System Covers, Desert Sand",
         "Binders",
         "Office Supplies",
         "Retail CSV",
         "2024-09-09T19:36:52.229Z"
        ],
        [
         "OFF-PA-10001363",
         "Xerox 1933",
         "Paper",
         "Office Supplies",
         "Retail CSV",
         "2024-09-09T19:36:52.229Z"
        ],
        [
         "OFF-PA-10000807",
         "\"TOPS \"\"Important Message\"\" Pads",
         "Paper",
         "Office Supplies",
         "Retail CSV",
         "2024-09-09T19:36:52.229Z"
        ],
        [
         "OFF-ST-10001328",
         "Personal Filing Tote with Lid, Black/Gray",
         "Storage",
         "Office Supplies",
         "Retail CSV",
         "2024-09-09T19:36:52.229Z"
        ],
        [
         "FUR-BO-10002613",
         "Atlantic Metals Mobile 4-Shelf Bookcases, Custom Colors",
         "Bookcases",
         "Furniture",
         "Retail CSV",
         "2024-09-09T19:36:52.229Z"
        ],
        [
         "OFF-FA-10003472",
         "Bagged Rubber Bands",
         "Fasteners",
         "Office Supplies",
         "Retail CSV",
         "2024-09-09T19:36:52.229Z"
        ],
        [
         "OFF-ST-10001580",
         "Super Decoflex Portable Personal File",
         "Storage",
         "Office Supplies",
         "Retail CSV",
         "2024-09-09T19:36:52.229Z"
        ],
        [
         "OFF-SU-10004261",
         "\"Fiskars 8\"\" Scissors",
         "Supplies",
         "Office Supplies",
         "Retail CSV",
         "2024-09-09T19:36:52.229Z"
        ],
        [
         "TEC-PH-10004959",
         "Classic Ivory Antique Telephone ZL1810",
         "Phones",
         "Technology",
         "Retail CSV",
         "2024-09-09T19:36:52.229Z"
        ],
        [
         "FUR-FU-10004017",
         "\"Executive Impressions 13\"\" Chairman Wall Clock\"",
         "Furnishings",
         "Furniture",
         "Retail CSV",
         "2024-09-09T19:36:52.229Z"
        ],
        [
         "OFF-BI-10003981",
         "\"Avery Durable Plastic 1\"\" Binders\"",
         "Binders",
         "Office Supplies",
         "Retail CSV",
         "2024-09-09T19:36:52.229Z"
        ],
        [
         "OFF-PA-10000955",
         "Southworth 25% Cotton Granite Paper & Envelopes",
         "Paper",
         "Office Supplies",
         "Retail CSV",
         "2024-09-09T19:36:52.229Z"
        ],
        [
         "OFF-FA-10001754",
         "Stockwell Gold Paper Clips",
         "Fasteners",
         "Office Supplies",
         "Retail CSV",
         "2024-09-09T19:36:52.229Z"
        ],
        [
         "OFF-AR-10002255",
         "Newell 346",
         "Art",
         "Office Supplies",
         "Retail CSV",
         "2024-09-09T19:36:52.229Z"
        ],
        [
         "OFF-PA-10003729",
         "Xerox 1998",
         "Paper",
         "Office Supplies",
         "Retail CSV",
         "2024-09-09T19:36:52.229Z"
        ],
        [
         "FUR-CH-10000553",
         "Metal Folding Chairs, Beige, 4/Carton",
         "Chairs",
         "Furniture",
         "Retail CSV",
         "2024-09-09T19:36:52.229Z"
        ],
        [
         "OFF-AR-10003338",
         "\"Eberhard Faber 3 1/2\"\" Golf Pencils\"",
         "Art",
         "Office Supplies",
         "Retail CSV",
         "2024-09-09T19:36:52.229Z"
        ],
        [
         "OFF-PA-10000007",
         "\"Telephone Message Books with Fax/Mobile Section, 4 1/4\"\" x 6\"\"\"",
         "Paper",
         "Office Supplies",
         "Retail CSV",
         "2024-09-09T19:36:52.229Z"
        ],
        [
         "FUR-FU-10003798",
         "\"Ultra Door Kickplate, 8\"\"H x 34\"\"W\"",
         "Furnishings",
         "Furniture",
         "Retail CSV",
         "2024-09-09T19:36:52.229Z"
        ],
        [
         "OFF-PA-10004082",
         "Adams Telephone Message Book w/Frequently-Called Numbers Space, 400 Messages per Book",
         "Paper",
         "Office Supplies",
         "Retail CSV",
         "2024-09-09T19:36:52.229Z"
        ],
        [
         "OFF-BI-10003314",
         "Tuff Stuff Recycled Round Ring Binders",
         "Binders",
         "Office Supplies",
         "Retail CSV",
         "2024-09-09T19:36:52.229Z"
        ],
        [
         "OFF-AP-10002578",
         "Fellowes Premier Superior Surge Suppressor, 10-Outlet, With Phone and Remote",
         "Appliances",
         "Office Supplies",
         "Retail CSV",
         "2024-09-09T19:36:52.229Z"
        ],
        [
         "FUR-FU-10001424",
         "Dax Clear Box Frame",
         "Furnishings",
         "Furniture",
         "Retail CSV",
         "2024-09-09T19:36:52.229Z"
        ],
        [
         "OFF-PA-10002947",
         "Xerox 1923",
         "Paper",
         "Office Supplies",
         "Retail CSV",
         "2024-09-09T19:36:52.229Z"
        ],
        [
         "OFF-AR-10001468",
         "Sanford Prismacolor Professional Thick Lead Art Pencils, 36-Color Set",
         "Art",
         "Office Supplies",
         "Retail CSV",
         "2024-09-09T19:36:52.229Z"
        ],
        [
         "FUR-FU-10001617",
         "\"Executive Impressions 8-1/2\"\" Career Panel/Partition Cubicle Clock\"",
         "Furnishings",
         "Furniture",
         "Retail CSV",
         "2024-09-09T19:36:52.229Z"
        ],
        [
         "TEC-AC-10000420",
         "Logitech G500s Laser Gaming Mouse with Adjustable Weight Tuning",
         "Accessories",
         "Technology",
         "Retail CSV",
         "2024-09-09T19:36:52.229Z"
        ],
        [
         "TEC-AC-10002558",
         "Imation Swivel Flash Drive USB flash drive - 8 GB",
         "Accessories",
         "Technology",
         "Retail CSV",
         "2024-09-09T19:36:52.229Z"
        ],
        [
         "TEC-CO-10001943",
         "Canon PC-428 Personal Copier",
         "Copiers",
         "Technology",
         "Retail CSV",
         "2024-09-09T19:36:52.229Z"
        ],
        [
         "TEC-MA-10001695",
         "Zebra GK420t Direct Thermal/Thermal Transfer Printer",
         "Machines",
         "Technology",
         "Retail CSV",
         "2024-09-09T19:36:52.229Z"
        ],
        [
         "OFF-PA-10001804",
         "Xerox 195",
         "Paper",
         "Office Supplies",
         "Retail CSV",
         "2024-09-09T19:36:52.229Z"
        ],
        [
         "OFF-PA-10003591",
         "Southworth 100% Cotton The Best Paper",
         "Paper",
         "Office Supplies",
         "Retail CSV",
         "2024-09-09T19:36:52.229Z"
        ],
        [
         "OFF-PA-10001307",
         "Important Message Pads, 50 4-1/4 x 5-1/2 Forms per Pad",
         "Paper",
         "Office Supplies",
         "Retail CSV",
         "2024-09-09T19:36:52.229Z"
        ],
        [
         "OFF-AR-10000896",
         "Newell 329",
         "Art",
         "Office Supplies",
         "Retail CSV",
         "2024-09-09T19:36:52.229Z"
        ],
        [
         "OFF-FA-10001135",
         "Brites Rubber Bands, 1 1/2 oz. Box",
         "Fasteners",
         "Office Supplies",
         "Retail CSV",
         "2024-09-09T19:36:52.229Z"
        ],
        [
         "OFF-AP-10001005",
         "Honeywell Quietcare HEPA Air Cleaner",
         "Appliances",
         "Office Supplies",
         "Retail CSV",
         "2024-09-09T19:36:52.229Z"
        ],
        [
         "TEC-PH-10002807",
         "Motorla HX550 Universal Bluetooth Headset",
         "Phones",
         "Technology",
         "Retail CSV",
         "2024-09-09T19:36:52.229Z"
        ],
        [
         "FUR-BO-10001608",
         "Hon Metal Bookcases, Black",
         "Bookcases",
         "Furniture",
         "Retail CSV",
         "2024-09-09T19:36:52.229Z"
        ],
        [
         "OFF-PA-10000232",
         "Xerox 1975",
         "Paper",
         "Office Supplies",
         "Retail CSV",
         "2024-09-09T19:36:52.229Z"
        ],
        [
         "OFF-PA-10002709",
         "Xerox 1956",
         "Paper",
         "Office Supplies",
         "Retail CSV",
         "2024-09-09T19:36:52.229Z"
        ],
        [
         "OFF-ST-10000777",
         "Companion Letter/Legal File, Black",
         "Storage",
         "Office Supplies",
         "Retail CSV",
         "2024-09-09T19:36:52.229Z"
        ],
        [
         "OFF-SU-10001218",
         "Fiskars Softgrip Scissors",
         "Supplies",
         "Office Supplies",
         "Retail CSV",
         "2024-09-09T19:36:52.229Z"
        ],
        [
         "OFF-BI-10001679",
         "GBC Instant Index System for Binding Systems",
         "Binders",
         "Office Supplies",
         "Retail CSV",
         "2024-09-09T19:36:52.229Z"
        ],
        [
         "OFF-AR-10004648",
         "Boston 19500 Mighty Mite Electric Pencil Sharpener",
         "Art",
         "Office Supplies",
         "Retail CSV",
         "2024-09-09T19:36:52.229Z"
        ],
        [
         "FUR-FU-10003878",
         "\"Linden 10\"\" Round Wall Clock",
         "Furnishings",
         "Furniture",
         "Retail CSV",
         "2024-09-09T19:36:52.229Z"
        ],
        [
         "TEC-MA-10004458",
         "Lexmark X 9575 Professional All-in-One Color Printer",
         "Machines",
         "Technology",
         "Retail CSV",
         "2024-09-09T19:36:52.229Z"
        ],
        [
         "OFF-AR-10001419",
         "Newell 325",
         "Art",
         "Office Supplies",
         "Retail CSV",
         "2024-09-09T19:36:52.229Z"
        ],
        [
         "OFF-BI-10001116",
         "\"Wilson Jones 1\"\" Hanging DublLock Ring Binders\"",
         "Binders",
         "Office Supplies",
         "Retail CSV",
         "2024-09-09T19:36:52.229Z"
        ],
        [
         "OFF-AR-10000817",
         "Manco Dry-Lighter Erasable Highlighter",
         "Art",
         "Office Supplies",
         "Retail CSV",
         "2024-09-09T19:36:52.229Z"
        ],
        [
         "OFF-ST-10002301",
         "Tennsco Commercial Shelving",
         "Storage",
         "Office Supplies",
         "Retail CSV",
         "2024-09-09T19:36:52.229Z"
        ],
        [
         "OFF-FA-10000585",
         "OIC Bulk Pack Metal Binder Clips",
         "Fasteners",
         "Office Supplies",
         "Retail CSV",
         "2024-09-09T19:36:52.229Z"
        ],
        [
         "FUR-BO-10004690",
         "O'Sullivan Cherrywood Estates Traditional Barrister Bookcase",
         "Bookcases",
         "Furniture",
         "Retail CSV",
         "2024-09-09T19:36:52.229Z"
        ],
        [
         "FUR-CH-10003379",
         "Global Commerce Series High-Back Swivel/Tilt Chairs",
         "Chairs",
         "Furniture",
         "Retail CSV",
         "2024-09-09T19:36:52.229Z"
        ],
        [
         "OFF-BI-10000546",
         "Avery Durable Binders",
         "Binders",
         "Office Supplies",
         "Retail CSV",
         "2024-09-09T19:36:52.229Z"
        ],
        [
         "OFF-ST-10004340",
         "Fellowes Mobile File Cart, Black",
         "Storage",
         "Office Supplies",
         "Retail CSV",
         "2024-09-09T19:36:52.229Z"
        ],
        [
         "OFF-PA-10002259",
         "\"Geographics Note Cards, Blank, White, 8 1/2\"\" x 11\"\"\"",
         "Paper",
         "Office Supplies",
         "Retail CSV",
         "2024-09-09T19:36:52.229Z"
        ],
        [
         "TEC-AC-10003280",
         "Belkin F8E887 USB Wired Ergonomic Keyboard",
         "Accessories",
         "Technology",
         "Retail CSV",
         "2024-09-09T19:36:52.229Z"
        ],
        [
         "FUR-TA-10003238",
         "\"Chromcraft Bull-Nose Wood 48\"\" x 96\"\" Rectangular Conference Tables\"",
         "Tables",
         "Furniture",
         "Retail CSV",
         "2024-09-09T19:36:52.229Z"
        ],
        [
         "OFF-AP-10002765",
         "Fellowes Advanced Computer Series Surge Protectors",
         "Appliances",
         "Office Supplies",
         "Retail CSV",
         "2024-09-09T19:36:52.229Z"
        ],
        [
         "TEC-PH-10003095",
         "Samsung HM1900 Bluetooth Headset",
         "Phones",
         "Technology",
         "Retail CSV",
         "2024-09-09T19:36:52.229Z"
        ],
        [
         "FUR-CH-10003606",
         "SAFCO Folding Chair Trolley",
         "Chairs",
         "Furniture",
         "Retail CSV",
         "2024-09-09T19:36:52.229Z"
        ],
        [
         "OFF-AR-10002445",
         "SANFORD Major Accent Highlighters",
         "Art",
         "Office Supplies",
         "Retail CSV",
         "2024-09-09T19:36:52.229Z"
        ],
        [
         "OFF-AR-10001683",
         "Lumber Crayons",
         "Art",
         "Office Supplies",
         "Retail CSV",
         "2024-09-09T19:36:52.229Z"
        ],
        [
         "TEC-MA-10001148",
         "Swingline SM12-08 MicroCut Jam Free Shredder",
         "Machines",
         "Technology",
         "Retail CSV",
         "2024-09-09T19:36:52.229Z"
        ],
        [
         "OFF-EN-10003845",
         "Colored Envelopes",
         "Envelopes",
         "Office Supplies",
         "Retail CSV",
         "2024-09-09T19:36:52.229Z"
        ],
        [
         "FUR-FU-10000723",
         "Deflect-o EconoMat Studded, No Bevel Mat for Low Pile Carpeting",
         "Furnishings",
         "Furniture",
         "Retail CSV",
         "2024-09-09T19:36:52.229Z"
        ],
        [
         "FUR-TA-10001932",
         "\"Chromcraft 48\"\" x 96\"\" Racetrack Double Pedestal Table\"",
         "Tables",
         "Furniture",
         "Retail CSV",
         "2024-09-09T19:36:52.229Z"
        ],
        [
         "OFF-BI-10004352",
         "Wilson Jones DublLock D-Ring Binders",
         "Binders",
         "Office Supplies",
         "Retail CSV",
         "2024-09-09T19:36:52.229Z"
        ],
        [
         "OFF-PA-10000595",
         "Xerox 1929",
         "Paper",
         "Office Supplies",
         "Retail CSV",
         "2024-09-09T19:36:52.229Z"
        ],
        [
         "FUR-TA-10000849",
         "Bevis Rectangular Conference Tables",
         "Tables",
         "Furniture",
         "Retail CSV",
         "2024-09-09T19:36:52.229Z"
        ],
        [
         "OFF-LA-10003663",
         "Avery 498",
         "Labels",
         "Office Supplies",
         "Retail CSV",
         "2024-09-09T19:36:52.229Z"
        ],
        [
         "FUR-CH-10004983",
         "Office Star - Mid Back Dual function Ergonomic High Back Chair with 2-Way Adjustable Arms",
         "Chairs",
         "Furniture",
         "Retail CSV",
         "2024-09-09T19:36:52.229Z"
        ],
        [
         "OFF-PA-10003063",
         "EcoTones Memo Sheets",
         "Paper",
         "Office Supplies",
         "Retail CSV",
         "2024-09-09T19:36:52.229Z"
        ],
        [
         "OFF-AR-10000122",
         "Newell 314",
         "Art",
         "Office Supplies",
         "Retail CSV",
         "2024-09-09T19:36:52.229Z"
        ],
        [
         "OFF-AR-10003732",
         "Newell 333",
         "Art",
         "Office Supplies",
         "Retail CSV",
         "2024-09-09T19:36:52.229Z"
        ],
        [
         "FUR-FU-10004071",
         "Luxo Professional Magnifying Clamp-On Fluorescent Lamps",
         "Furnishings",
         "Furniture",
         "Retail CSV",
         "2024-09-09T19:36:52.229Z"
        ],
        [
         "FUR-TA-10001520",
         "Lesro Sheffield Collection Coffee Table, End Table, Center Table, Corner Table",
         "Tables",
         "Furniture",
         "Retail CSV",
         "2024-09-09T19:36:52.229Z"
        ],
        [
         "OFF-PA-10002195",
         "\"RSVP Cards & Envelopes, Blank White, 8-1/2\"\" X 11\"\"",
         "Paper",
         "Office Supplies",
         "Retail CSV",
         "2024-09-09T19:36:52.229Z"
        ],
        [
         "OFF-BI-10000145",
         "Zipper Ring Binder Pockets",
         "Binders",
         "Office Supplies",
         "Retail CSV",
         "2024-09-09T19:36:52.229Z"
        ],
        [
         "OFF-FA-10001561",
         "Stockwell Push Pins",
         "Fasteners",
         "Office Supplies",
         "Retail CSV",
         "2024-09-09T19:36:52.229Z"
        ],
        [
         "FUR-FU-10000076",
         "24-Hour Round Wall Clock",
         "Furnishings",
         "Furniture",
         "Retail CSV",
         "2024-09-09T19:36:52.229Z"
        ],
        [
         "OFF-AR-10004956",
         "Newell 33",
         "Art",
         "Office Supplies",
         "Retail CSV",
         "2024-09-09T19:36:52.229Z"
        ],
        [
         "FUR-CH-10001797",
         "Safco Chair Connectors, 6/Carton",
         "Chairs",
         "Furniture",
         "Retail CSV",
         "2024-09-09T19:36:52.229Z"
        ],
        [
         "TEC-MA-10001127",
         "\"HP Designjet T520 Inkjet Large Format Printer - 24\"\" Color\"",
         "Machines",
         "Technology",
         "Retail CSV",
         "2024-09-09T19:36:52.229Z"
        ],
        [
         "OFF-PA-10001934",
         "Xerox 1993",
         "Paper",
         "Office Supplies",
         "Retail CSV",
         "2024-09-09T19:36:52.229Z"
        ],
        [
         "TEC-AC-10002473",
         "Maxell 4.7GB DVD-R",
         "Accessories",
         "Technology",
         "Retail CSV",
         "2024-09-09T19:36:52.229Z"
        ],
        [
         "OFF-LA-10000121",
         "Avery 48",
         "Labels",
         "Office Supplies",
         "Retail CSV",
         "2024-09-09T19:36:52.229Z"
        ],
        [
         "FUR-FU-10004960",
         "\"Seth Thomas 12\"\" Clock w/ Goldtone Case\"",
         "Furnishings",
         "Furniture",
         "Retail CSV",
         "2024-09-09T19:36:52.229Z"
        ],
        [
         "TEC-AC-10002049",
         "Plantronics Savi W720 Multi-Device Wireless Headset System",
         "Accessories",
         "Technology",
         "Retail CSV",
         "2024-09-09T19:36:52.229Z"
        ],
        [
         "TEC-AC-10002842",
         "WD My Passport Ultra 2TB Portable External Hard Drive",
         "Accessories",
         "Technology",
         "Retail CSV",
         "2024-09-09T19:36:52.229Z"
        ],
        [
         "OFF-AP-10002403",
         "Acco Smartsocket Color-Coded Six-Outlet AC Adapter Model Surge Protectors",
         "Appliances",
         "Office Supplies",
         "Retail CSV",
         "2024-09-09T19:36:52.229Z"
        ],
        [
         "TEC-CO-10000971",
         "Hewlett Packard 310 Color Digital Copier",
         "Copiers",
         "Technology",
         "Retail CSV",
         "2024-09-09T19:36:52.229Z"
        ],
        [
         "OFF-LA-10000414",
         "Avery 503",
         "Labels",
         "Office Supplies",
         "Retail CSV",
         "2024-09-09T19:36:52.229Z"
        ],
        [
         "OFF-FA-10002988",
         "Ideal Clamps",
         "Fasteners",
         "Office Supplies",
         "Retail CSV",
         "2024-09-09T19:36:52.229Z"
        ],
        [
         "TEC-MA-10000864",
         "Cisco 9971 IP Video Phone Charcoal",
         "Machines",
         "Technology",
         "Retail CSV",
         "2024-09-09T19:36:52.229Z"
        ],
        [
         "TEC-PH-10001760",
         "Bose SoundLink Bluetooth Speaker",
         "Phones",
         "Technology",
         "Retail CSV",
         "2024-09-09T19:36:52.229Z"
        ],
        [
         "FUR-BO-10004709",
         "Bush Westfield Collection Bookcases, Medium Cherry Finish",
         "Bookcases",
         "Furniture",
         "Retail CSV",
         "2024-09-09T19:36:52.229Z"
        ],
        [
         "OFF-ST-10000736",
         "Carina Double Wide Media Storage Towers in Natural & Black",
         "Storage",
         "Office Supplies",
         "Retail CSV",
         "2024-09-09T19:36:52.229Z"
        ],
        [
         "TEC-PH-10002538",
         "Grandstream GXP1160 VoIP phone",
         "Phones",
         "Technology",
         "Retail CSV",
         "2024-09-09T19:36:52.229Z"
        ],
        [
         "TEC-MA-10004125",
         "Cubify CubeX 3D Printer Triple Head Print",
         "Machines",
         "Technology",
         "Retail CSV",
         "2024-09-09T19:36:52.229Z"
        ],
        [
         "TEC-PH-10001819",
         "Innergie mMini Combo Duo USB Travel Charging Kit",
         "Phones",
         "Technology",
         "Retail CSV",
         "2024-09-09T19:36:52.229Z"
        ],
        [
         "TEC-PH-10004447",
         "Toshiba IPT2010-SD IP Telephone",
         "Phones",
         "Technology",
         "Retail CSV",
         "2024-09-09T19:36:52.229Z"
        ],
        [
         "OFF-ST-10002011",
         "Smead Adjustable Mobile File Trolley with Lockable Top",
         "Storage",
         "Office Supplies",
         "Retail CSV",
         "2024-09-09T19:36:52.229Z"
        ],
        [
         "OFF-ST-10001932",
         "Fellowes Staxonsteel Drawer Files",
         "Storage",
         "Office Supplies",
         "Retail CSV",
         "2024-09-09T19:36:52.229Z"
        ],
        [
         "OFF-AR-10000937",
         "Dixon Ticonderoga Core-Lock Colored Pencils, 48-Color Set",
         "Art",
         "Office Supplies",
         "Retail CSV",
         "2024-09-09T19:36:52.229Z"
        ],
        [
         "OFF-AR-10001573",
         "American Pencil",
         "Art",
         "Office Supplies",
         "Retail CSV",
         "2024-09-09T19:36:52.229Z"
        ],
        [
         "TEC-PH-10002170",
         "ClearSounds CSC500 Amplified Spirit Phone Corded phone",
         "Phones",
         "Technology",
         "Retail CSV",
         "2024-09-09T19:36:52.229Z"
        ],
        [
         "TEC-PH-10002660",
         "Nortel Networks T7316 E Nt8 B27",
         "Phones",
         "Technology",
         "Retail CSV",
         "2024-09-09T19:36:52.229Z"
        ],
        [
         "OFF-ST-10003324",
         "Belkin OmniView SE Rackmount Kit",
         "Storage",
         "Office Supplies",
         "Retail CSV",
         "2024-09-09T19:36:52.229Z"
        ],
        [
         "OFF-FA-10000992",
         "Acco Clips to Go Binder Clips, 24 Clips in Two Sizes",
         "Fasteners",
         "Office Supplies",
         "Retail CSV",
         "2024-09-09T19:36:52.229Z"
        ],
        [
         "TEC-AC-10002942",
         "WD My Passport Ultra 1TB Portable External Hard Drive",
         "Accessories",
         "Technology",
         "Retail CSV",
         "2024-09-09T19:36:52.229Z"
        ],
        [
         "OFF-SU-10004737",
         "Acme Design Stainless Steel Bent Scissors",
         "Supplies",
         "Office Supplies",
         "Retail CSV",
         "2024-09-09T19:36:52.229Z"
        ],
        [
         "TEC-PH-10001254",
         "Jabra BIZ 2300 Duo QD Duo Corded Headset",
         "Phones",
         "Technology",
         "Retail CSV",
         "2024-09-09T19:36:52.229Z"
        ],
        [
         "OFF-SU-10001574",
         "Acme Value Line Scissors",
         "Supplies",
         "Office Supplies",
         "Retail CSV",
         "2024-09-09T19:36:52.229Z"
        ],
        [
         "OFF-AP-10000240",
         "Belkin F9G930V10-GRY 9 Outlet Surge",
         "Appliances",
         "Office Supplies",
         "Retail CSV",
         "2024-09-09T19:36:52.229Z"
        ],
        [
         "FUR-CH-10000309",
         "Global Comet Stacking Arm Chair",
         "Chairs",
         "Furniture",
         "Retail CSV",
         "2024-09-09T19:36:52.229Z"
        ],
        [
         "OFF-AP-10000055",
         "Belkin F9S820V06 8 Outlet Surge",
         "Appliances",
         "Office Supplies",
         "Retail CSV",
         "2024-09-09T19:36:52.229Z"
        ],
        [
         "FUR-BO-10003450",
         "Bush Westfield Collection Bookcases, Dark Cherry Finish",
         "Bookcases",
         "Furniture",
         "Retail CSV",
         "2024-09-09T19:36:52.229Z"
        ],
        [
         "TEC-PH-10002890",
         "AT&T 17929 Lendline Telephone",
         "Phones",
         "Technology",
         "Retail CSV",
         "2024-09-09T19:36:52.229Z"
        ],
        [
         "TEC-MA-10001016",
         "Canon PC170 Desktop Personal Copier",
         "Machines",
         "Technology",
         "Retail CSV",
         "2024-09-09T19:36:52.229Z"
        ],
        [
         "FUR-CH-10000229",
         "Global Enterprise Series Seating High-Back Swivel/Tilt Chairs",
         "Chairs",
         "Furniture",
         "Retail CSV",
         "2024-09-09T19:36:52.229Z"
        ],
        [
         "FUR-FU-10000820",
         "Tensor Brushed Steel Torchiere Floor Lamp",
         "Furnishings",
         "Furniture",
         "Retail CSV",
         "2024-09-09T19:36:52.229Z"
        ],
        [
         "OFF-PA-10000587",
         "Array Parchment Paper, Assorted Colors",
         "Paper",
         "Office Supplies",
         "Retail CSV",
         "2024-09-09T19:36:52.229Z"
        ],
        [
         "FUR-CH-10004997",
         "Hon Every-Day Series Multi-Task Chairs",
         "Chairs",
         "Furniture",
         "Retail CSV",
         "2024-09-09T19:36:52.229Z"
        ],
        [
         "TEC-PH-10000347",
         "Cush Cases Heavy Duty Rugged Cover Case for Samsung Galaxy S5 - Purple",
         "Phones",
         "Technology",
         "Retail CSV",
         "2024-09-09T19:36:52.229Z"
        ],
        [
         "OFF-BI-10002854",
         "Performers Binder/Pad Holder, Black",
         "Binders",
         "Office Supplies",
         "Retail CSV",
         "2024-09-09T19:36:52.229Z"
        ],
        [
         "OFF-AP-10004336",
         "Conquest 14 Commercial Heavy-Duty Upright Vacuum, Collection System, Accessory Kit",
         "Appliances",
         "Office Supplies",
         "Retail CSV",
         "2024-09-09T19:36:52.229Z"
        ],
        [
         "OFF-BI-10003007",
         "\"Premium Transparent Presentation Covers, No Pattern/Clear, 8 1/2\"\" x 11\"\"\"",
         "Binders",
         "Office Supplies",
         "Retail CSV",
         "2024-09-09T19:36:52.229Z"
        ],
        [
         "OFF-SU-10000646",
         "Premier Automatic Letter Opener",
         "Supplies",
         "Office Supplies",
         "Retail CSV",
         "2024-09-09T19:36:52.229Z"
        ],
        [
         "OFF-AP-10001124",
         "Belkin 8 Outlet SurgeMaster II Gold Surge Protector with Phone Protection",
         "Appliances",
         "Office Supplies",
         "Retail CSV",
         "2024-09-09T19:36:52.229Z"
        ],
        [
         "OFF-AP-10002457",
         "Eureka The Boss Plus 12-Amp Hard Box Upright Vacuum, Red",
         "Appliances",
         "Office Supplies",
         "Retail CSV",
         "2024-09-09T19:36:52.229Z"
        ],
        [
         "OFF-EN-10001141",
         "\"Manila Recycled Extra-Heavyweight Clasp Envelopes, 6\"\" x 9\"\"\"",
         "Envelopes",
         "Office Supplies",
         "Retail CSV",
         "2024-09-09T19:36:52.229Z"
        ],
        [
         "FUR-TA-10004147",
         "Hon 4060 Series Tables",
         "Tables",
         "Furniture",
         "Retail CSV",
         "2024-09-09T19:36:52.229Z"
        ],
        [
         "OFF-AR-10002375",
         "Newell 351",
         "Art",
         "Office Supplies",
         "Retail CSV",
         "2024-09-09T19:36:52.229Z"
        ],
        [
         "OFF-ST-10002289",
         "\"Safco Wire Cube Shelving System, For Use as 4 or 5 14\"\" Cubes",
         "Storage",
         "Office Supplies",
         "Retail CSV",
         "2024-09-09T19:36:52.229Z"
        ],
        [
         "OFF-ST-10001291",
         "Tenex Personal Self-Stacking Standard File Box, Black/Gray",
         "Storage",
         "Office Supplies",
         "Retail CSV",
         "2024-09-09T19:36:52.229Z"
        ],
        [
         "OFF-PA-10004255",
         "Xerox 219",
         "Paper",
         "Office Supplies",
         "Retail CSV",
         "2024-09-09T19:36:52.229Z"
        ],
        [
         "OFF-AP-10002670",
         "Belkin 8-Outlet Premiere SurgeMaster II Surge Protectors",
         "Appliances",
         "Office Supplies",
         "Retail CSV",
         "2024-09-09T19:36:52.229Z"
        ],
        [
         "OFF-PA-10003205",
         "Wirebound Message Forms, Four 2 3/4 x 5 Forms per Page, Pink Paper",
         "Paper",
         "Office Supplies",
         "Retail CSV",
         "2024-09-09T19:36:52.229Z"
        ],
        [
         "TEC-MA-10002694",
         "Hewlett-Packard Deskjet F4180 All-in-One Color Ink-jet - Printer / copier / scanner",
         "Machines",
         "Technology",
         "Retail CSV",
         "2024-09-09T19:36:52.229Z"
        ],
        [
         "OFF-BI-10000474",
         "Avery Recycled Flexi-View Covers for Binding Systems",
         "Binders",
         "Office Supplies",
         "Retail CSV",
         "2024-09-09T19:36:52.229Z"
        ],
        [
         "OFF-AR-10002053",
         "Premium Writing Pencils, Soft, #2 by Central Association for the Blind",
         "Art",
         "Office Supplies",
         "Retail CSV",
         "2024-09-09T19:36:52.229Z"
        ],
        [
         "TEC-MA-10001681",
         "Lexmark MarkNet N8150 Wireless Print Server",
         "Machines",
         "Technology",
         "Retail CSV",
         "2024-09-09T19:36:52.229Z"
        ],
        [
         "TEC-AC-10001772",
         "Memorex Mini Travel Drive 16 GB USB 2.0 Flash Drive",
         "Accessories",
         "Technology",
         "Retail CSV",
         "2024-09-09T19:36:52.229Z"
        ],
        [
         "FUR-FU-10001290",
         "Executive Impressions Supervisor Wall Clock",
         "Furnishings",
         "Furniture",
         "Retail CSV",
         "2024-09-09T19:36:52.229Z"
        ],
        [
         "OFF-AR-10002578",
         "Newell 335",
         "Art",
         "Office Supplies",
         "Retail CSV",
         "2024-09-09T19:36:52.229Z"
        ],
        [
         "OFF-LA-10004093",
         "Avery 486",
         "Labels",
         "Office Supplies",
         "Retail CSV",
         "2024-09-09T19:36:52.229Z"
        ],
        [
         "OFF-AR-10001022",
         "SANFORD Liquid Accent Tank-Style Highlighters",
         "Art",
         "Office Supplies",
         "Retail CSV",
         "2024-09-09T19:36:52.229Z"
        ],
        [
         "OFF-AR-10001231",
         "Sanford EarthWrite Recycled Pencils, Medium Soft, #2",
         "Art",
         "Office Supplies",
         "Retail CSV",
         "2024-09-09T19:36:52.229Z"
        ],
        [
         "OFF-PA-10000249",
         "Easy-staple paper",
         "Paper",
         "Office Supplies",
         "Retail CSV",
         "2024-09-09T19:36:52.229Z"
        ],
        [
         "OFF-ST-10000604",
         "Home/Office Personal File Carts",
         "Storage",
         "Office Supplies",
         "Retail CSV",
         "2024-09-09T19:36:52.229Z"
        ],
        [
         "OFF-ST-10003208",
         "Adjustable Depth Letter/Legal Cart",
         "Storage",
         "Office Supplies",
         "Retail CSV",
         "2024-09-09T19:36:52.229Z"
        ],
        [
         "OFF-BI-10003355",
         "Cardinal Holdit Business Card Pockets",
         "Binders",
         "Office Supplies",
         "Retail CSV",
         "2024-09-09T19:36:52.229Z"
        ],
        [
         "OFF-LA-10001404",
         "Avery 517",
         "Labels",
         "Office Supplies",
         "Retail CSV",
         "2024-09-09T19:36:52.229Z"
        ],
        [
         "OFF-PA-10001712",
         "Xerox 1948",
         "Paper",
         "Office Supplies",
         "Retail CSV",
         "2024-09-09T19:36:52.229Z"
        ],
        [
         "OFF-BI-10004876",
         "Wilson Jones Suede Grain Vinyl Binders",
         "Binders",
         "Office Supplies",
         "Retail CSV",
         "2024-09-09T19:36:52.229Z"
        ],
        [
         "OFF-BI-10002437",
         "Recycled Premium Regency Composition Covers",
         "Binders",
         "Office Supplies",
         "Retail CSV",
         "2024-09-09T19:36:52.229Z"
        ],
        [
         "OFF-PA-10003016",
         "\"Adams \"\"While You Were Out\"\" Message Pads\"",
         "Paper",
         "Office Supplies",
         "Retail CSV",
         "2024-09-09T19:36:52.229Z"
        ],
        [
         "OFF-AP-10002892",
         "Belkin F5C206VTEL 6 Outlet Surge",
         "Appliances",
         "Office Supplies",
         "Retail CSV",
         "2024-09-09T19:36:52.229Z"
        ],
        [
         "FUR-FU-10000521",
         "\"Seth Thomas 14\"\" Putty-Colored Wall Clock\"",
         "Furnishings",
         "Furniture",
         "Retail CSV",
         "2024-09-09T19:36:52.229Z"
        ],
        [
         "OFF-EN-10001990",
         "Staple envelope",
         "Envelopes",
         "Office Supplies",
         "Retail CSV",
         "2024-09-09T19:36:52.229Z"
        ],
        [
         "TEC-PH-10002262",
         "LG Electronics Tone+ HBS-730 Bluetooth Headset",
         "Phones",
         "Technology",
         "Retail CSV",
         "2024-09-09T19:36:52.229Z"
        ],
        [
         "TEC-PH-10002185",
         "QVS USB Car Charger 2-Port 2.1Amp for iPod/iPhone/iPad/iPad 2/iPad 3",
         "Phones",
         "Technology",
         "Retail CSV",
         "2024-09-09T19:36:52.229Z"
        ],
        [
         "FUR-FU-10004597",
         "Eldon Cleatmat Chair Mats for Medium Pile Carpets",
         "Furnishings",
         "Furniture",
         "Retail CSV",
         "2024-09-09T19:36:52.229Z"
        ],
        [
         "TEC-AC-10003095",
         "Logitech G35 7.1-Channel Surround Sound Headset",
         "Accessories",
         "Technology",
         "Retail CSV",
         "2024-09-09T19:36:52.229Z"
        ],
        [
         "OFF-AP-10001293",
         "Belkin 8 Outlet Surge Protector",
         "Appliances",
         "Office Supplies",
         "Retail CSV",
         "2024-09-09T19:36:52.229Z"
        ],
        [
         "OFF-AR-10004269",
         "Newell 31",
         "Art",
         "Office Supplies",
         "Retail CSV",
         "2024-09-09T19:36:52.229Z"
        ],
        [
         "TEC-AC-10004518",
         "Memorex Mini Travel Drive 32 GB USB 2.0 Flash Drive",
         "Accessories",
         "Technology",
         "Retail CSV",
         "2024-09-09T19:36:52.229Z"
        ],
        [
         "FUR-FU-10001918",
         "C-Line Cubicle Keepers Polyproplyene Holder With Velcro Backings",
         "Furnishings",
         "Furniture",
         "Retail CSV",
         "2024-09-09T19:36:52.229Z"
        ],
        [
         "OFF-LA-10001158",
         "\"Avery Address/Shipping Labels for Typewriters, 4\"\" x 2\"\"\"",
         "Labels",
         "Office Supplies",
         "Retail CSV",
         "2024-09-09T19:36:52.229Z"
        ],
        [
         "FUR-BO-10002824",
         "Bush Mission Pointe Library",
         "Bookcases",
         "Furniture",
         "Retail CSV",
         "2024-09-09T19:36:52.229Z"
        ],
        [
         "OFF-AR-10001166",
         "Staples in misc. colors",
         "Art",
         "Office Supplies",
         "Retail CSV",
         "2024-09-09T19:36:52.229Z"
        ],
        [
         "FUR-FU-10003832",
         "Eldon Expressions Punched Metal & Wood Desk Accessories, Black & Cherry",
         "Furnishings",
         "Furniture",
         "Retail CSV",
         "2024-09-09T19:36:52.229Z"
        ],
        [
         "TEC-PH-10003174",
         "RCA ViSYS 25825 Wireless digital phone",
         "Phones",
         "Technology",
         "Retail CSV",
         "2024-09-09T19:36:52.229Z"
        ],
        [
         "OFF-BI-10003707",
         "Aluminum Screw Posts",
         "Binders",
         "Office Supplies",
         "Retail CSV",
         "2024-09-09T19:36:52.229Z"
        ],
        [
         "TEC-PH-10001750",
         "Samsung Rugby III",
         "Phones",
         "Technology",
         "Retail CSV",
         "2024-09-09T19:36:52.229Z"
        ],
        [
         "OFF-ST-10001370",
         "Sensible Storage WireTech Storage Systems",
         "Storage",
         "Office Supplies",
         "Retail CSV",
         "2024-09-09T19:36:52.229Z"
        ],
        [
         "OFF-LA-10000248",
         "Avery 52",
         "Labels",
         "Office Supplies",
         "Retail CSV",
         "2024-09-09T19:36:52.229Z"
        ],
        [
         "OFF-AR-10004511",
         "Sanford Colorific Scented Colored Pencils, 12/Pack",
         "Art",
         "Office Supplies",
         "Retail CSV",
         "2024-09-09T19:36:52.229Z"
        ],
        [
         "TEC-AC-10001090",
         "Micro Innovations Wireless Classic Keyboard with Mouse",
         "Accessories",
         "Technology",
         "Retail CSV",
         "2024-09-09T19:36:52.229Z"
        ],
        [
         "OFF-BI-10000285",
         "XtraLife ClearVue Slant-D Ring Binders by Cardinal",
         "Binders",
         "Office Supplies",
         "Retail CSV",
         "2024-09-09T19:36:52.229Z"
        ],
        [
         "OFF-ST-10001963",
         "Tennsco Regal Shelving Units",
         "Storage",
         "Office Supplies",
         "Retail CSV",
         "2024-09-09T19:36:52.229Z"
        ],
        [
         "OFF-AR-10002335",
         "DIXON Oriole Pencils",
         "Art",
         "Office Supplies",
         "Retail CSV",
         "2024-09-09T19:36:52.229Z"
        ],
        [
         "OFF-BI-10002071",
         "Fellowes Black Plastic Comb Bindings",
         "Binders",
         "Office Supplies",
         "Retail CSV",
         "2024-09-09T19:36:52.229Z"
        ],
        [
         "TEC-PH-10003655",
         "Sannysis Cute Owl Design Soft Skin Case Cover for Samsung Galaxy S4",
         "Phones",
         "Technology",
         "Retail CSV",
         "2024-09-09T19:36:52.229Z"
        ],
        [
         "OFF-AP-10002082",
         "Holmes HEPA Air Purifier",
         "Appliances",
         "Office Supplies",
         "Retail CSV",
         "2024-09-09T19:36:52.229Z"
        ],
        [
         "TEC-AC-10003590",
         "TRENDnet 56K USB 2.0 Phone, Internet and Fax Modem",
         "Accessories",
         "Technology",
         "Retail CSV",
         "2024-09-09T19:36:52.229Z"
        ],
        [
         "OFF-PA-10004355",
         "Xerox 231",
         "Paper",
         "Office Supplies",
         "Retail CSV",
         "2024-09-09T19:36:52.229Z"
        ],
        [
         "OFF-BI-10004209",
         "Fellowes Twister Kit, Gray/Clear, 3/pkg",
         "Binders",
         "Office Supplies",
         "Retail CSV",
         "2024-09-09T19:36:52.229Z"
        ],
        [
         "FUR-CH-10001190",
         "Global Deluxe High-Back Office Chair in Storm",
         "Chairs",
         "Furniture",
         "Retail CSV",
         "2024-09-09T19:36:52.229Z"
        ],
        [
         "OFF-ST-10001837",
         "SAFCO Mobile Desk Side File, Wire Frame",
         "Storage",
         "Office Supplies",
         "Retail CSV",
         "2024-09-09T19:36:52.229Z"
        ],
        [
         "TEC-PH-10004531",
         "AT&T CL2909",
         "Phones",
         "Technology",
         "Retail CSV",
         "2024-09-09T19:36:52.229Z"
        ],
        [
         "OFF-PA-10001243",
         "Xerox 1983",
         "Paper",
         "Office Supplies",
         "Retail CSV",
         "2024-09-09T19:36:52.229Z"
        ],
        [
         "OFF-AR-10001547",
         "Newell 311",
         "Art",
         "Office Supplies",
         "Retail CSV",
         "2024-09-09T19:36:52.229Z"
        ],
        [
         "OFF-BI-10003684",
         "Wilson Jones Legal Size Ring Binders",
         "Binders",
         "Office Supplies",
         "Retail CSV",
         "2024-09-09T19:36:52.229Z"
        ],
        [
         "OFF-AR-10002818",
         "Panasonic KP-310 Heavy-Duty Electric Pencil Sharpener",
         "Art",
         "Office Supplies",
         "Retail CSV",
         "2024-09-09T19:36:52.229Z"
        ],
        [
         "TEC-AC-10002006",
         "Memorex Micro Travel Drive 16 GB",
         "Accessories",
         "Technology",
         "Retail CSV",
         "2024-09-09T19:36:52.229Z"
        ],
        [
         "OFF-PA-10000357",
         "Xerox 1888",
         "Paper",
         "Office Supplies",
         "Retail CSV",
         "2024-09-09T19:36:52.229Z"
        ],
        [
         "FUR-FU-10004963",
         "Eldon 400 Class Desk Accessories, Black Carbon",
         "Furnishings",
         "Furniture",
         "Retail CSV",
         "2024-09-09T19:36:52.229Z"
        ],
        [
         "TEC-AC-10004814",
         "Logitech Illuminated Ultrathin Keyboard with Backlighting",
         "Accessories",
         "Technology",
         "Retail CSV",
         "2024-09-09T19:36:52.229Z"
        ],
        [
         "TEC-PH-10004241",
         "Nokia Lumia 1020",
         "Phones",
         "Technology",
         "Retail CSV",
         "2024-09-09T19:36:52.229Z"
        ],
        [
         "OFF-PA-10002254",
         "Xerox 1883",
         "Paper",
         "Office Supplies",
         "Retail CSV",
         "2024-09-09T19:36:52.229Z"
        ],
        [
         "TEC-PH-10000011",
         "PureGear Roll-On Screen Protector",
         "Phones",
         "Technology",
         "Retail CSV",
         "2024-09-09T19:36:52.229Z"
        ],
        [
         "OFF-LA-10001297",
         "Avery 473",
         "Labels",
         "Office Supplies",
         "Retail CSV",
         "2024-09-09T19:36:52.229Z"
        ],
        [
         "OFF-PA-10001450",
         "Rediform S.O.S. Phone Message Books",
         "Paper",
         "Office Supplies",
         "Retail CSV",
         "2024-09-09T19:36:52.229Z"
        ],
        [
         "OFF-SU-10004115",
         "Acme Stainless Steel Office Snips",
         "Supplies",
         "Office Supplies",
         "Retail CSV",
         "2024-09-09T19:36:52.229Z"
        ],
        [
         "TEC-AC-10001714",
         "Logitech MX Performance Wireless Mouse",
         "Accessories",
         "Technology",
         "Retail CSV",
         "2024-09-09T19:36:52.229Z"
        ],
        [
         "OFF-PA-10000349",
         "Easy-staple paper",
         "Paper",
         "Office Supplies",
         "Retail CSV",
         "2024-09-09T19:36:52.229Z"
        ],
        [
         "FUR-FU-10002554",
         "Westinghouse Floor Lamp with Metal Mesh Shade, Black",
         "Furnishings",
         "Furniture",
         "Retail CSV",
         "2024-09-09T19:36:52.229Z"
        ],
        [
         "FUR-BO-10000468",
         "O'Sullivan 2-Shelf Heavy-Duty Bookcases",
         "Bookcases",
         "Furniture",
         "Retail CSV",
         "2024-09-09T19:36:52.229Z"
        ],
        [
         "FUR-FU-10000672",
         "\"Executive Impressions 10\"\" Spectator Wall Clock\"",
         "Furnishings",
         "Furniture",
         "Retail CSV",
         "2024-09-09T19:36:52.229Z"
        ],
        [
         "FUR-TA-10001691",
         "Barricks Non-Folding Utility Table with Steel Legs, Laminate Tops",
         "Tables",
         "Furniture",
         "Retail CSV",
         "2024-09-09T19:36:52.229Z"
        ],
        [
         "FUR-CH-10001146",
         "Global Value Mid-Back Manager's Chair, Gray",
         "Chairs",
         "Furniture",
         "Retail CSV",
         "2024-09-09T19:36:52.229Z"
        ],
        [
         "OFF-BI-10000666",
         "Surelock Post Binders",
         "Binders",
         "Office Supplies",
         "Retail CSV",
         "2024-09-09T19:36:52.229Z"
        ],
        [
         "OFF-EN-10001028",
         "Staple envelope",
         "Envelopes",
         "Office Supplies",
         "Retail CSV",
         "2024-09-09T19:36:52.229Z"
        ],
        [
         "TEC-AC-10004396",
         "Logitech Keyboard K120",
         "Accessories",
         "Technology",
         "Retail CSV",
         "2024-09-09T19:36:52.229Z"
        ],
        [
         "FUR-FU-10003192",
         "Luxo Adjustable Task Clamp Lamp",
         "Furnishings",
         "Furniture",
         "Retail CSV",
         "2024-09-09T19:36:52.229Z"
        ],
        [
         "OFF-PA-10001801",
         "Xerox 193",
         "Paper",
         "Office Supplies",
         "Retail CSV",
         "2024-09-09T19:36:52.229Z"
        ],
        [
         "TEC-MA-10004086",
         "Plantronics Single Ear Headset",
         "Machines",
         "Technology",
         "Retail CSV",
         "2024-09-09T19:36:52.229Z"
        ],
        [
         "OFF-ST-10000991",
         "Space Solutions HD Industrial Steel Shelving.",
         "Storage",
         "Office Supplies",
         "Retail CSV",
         "2024-09-09T19:36:52.229Z"
        ],
        [
         "OFF-LA-10004689",
         "Avery 512",
         "Labels",
         "Office Supplies",
         "Retail CSV",
         "2024-09-09T19:36:52.229Z"
        ],
        [
         "OFF-PA-10001970",
         "Xerox 1908",
         "Paper",
         "Office Supplies",
         "Retail CSV",
         "2024-09-09T19:36:52.229Z"
        ],
        [
         "TEC-PH-10004586",
         "Wilson SignalBoost 841262 DB PRO Amplifier Kit",
         "Phones",
         "Technology",
         "Retail CSV",
         "2024-09-09T19:36:52.229Z"
        ],
        [
         "OFF-FA-10004968",
         "Rubber Band Ball",
         "Fasteners",
         "Office Supplies",
         "Retail CSV",
         "2024-09-09T19:36:52.229Z"
        ],
        [
         "OFF-FA-10002676",
         "Colored Push Pins",
         "Fasteners",
         "Office Supplies",
         "Retail CSV",
         "2024-09-09T19:36:52.229Z"
        ],
        [
         "OFF-LA-10004008",
         "Avery 507",
         "Labels",
         "Office Supplies",
         "Retail CSV",
         "2024-09-09T19:36:52.229Z"
        ],
        [
         "OFF-PA-10004285",
         "Xerox 1959",
         "Paper",
         "Office Supplies",
         "Retail CSV",
         "2024-09-09T19:36:52.229Z"
        ],
        [
         "OFF-AR-10003772",
         "Boston 16750 Black Compact Battery Pencil Sharpener",
         "Art",
         "Office Supplies",
         "Retail CSV",
         "2024-09-09T19:36:52.229Z"
        ],
        [
         "TEC-AC-10000397",
         "Perixx PERIBOARD-512B, Ergonomic Split Keyboard",
         "Accessories",
         "Technology",
         "Retail CSV",
         "2024-09-09T19:36:52.229Z"
        ],
        [
         "OFF-PA-10004610",
         "Xerox 1900",
         "Paper",
         "Office Supplies",
         "Retail CSV",
         "2024-09-09T19:36:52.229Z"
        ],
        [
         "OFF-FA-10000089",
         "Acco Glide Clips",
         "Fasteners",
         "Office Supplies",
         "Retail CSV",
         "2024-09-09T19:36:52.229Z"
        ],
        [
         "FUR-FU-10002506",
         "\"Tensor \"\"Hersey Kiss\"\" Styled Floor Lamp\"",
         "Furnishings",
         "Furniture",
         "Retail CSV",
         "2024-09-09T19:36:52.229Z"
        ],
        [
         "FUR-FU-10002157",
         "Artistic Insta-Plaque",
         "Furnishings",
         "Furniture",
         "Retail CSV",
         "2024-09-09T19:36:52.229Z"
        ],
        [
         "OFF-PA-10004327",
         "Xerox 1911",
         "Paper",
         "Office Supplies",
         "Retail CSV",
         "2024-09-09T19:36:52.229Z"
        ],
        [
         "OFF-AP-10000326",
         "Belkin 7 Outlet SurgeMaster Surge Protector with Phone Protection",
         "Appliances",
         "Office Supplies",
         "Retail CSV",
         "2024-09-09T19:36:52.229Z"
        ],
        [
         "FUR-FU-10003577",
         "Nu-Dell Leatherette Frames",
         "Furnishings",
         "Furniture",
         "Retail CSV",
         "2024-09-09T19:36:52.229Z"
        ],
        [
         "TEC-AC-10003033",
         "Plantronics CS510 - Over-the-Head monaural Wireless Headset System",
         "Accessories",
         "Technology",
         "Retail CSV",
         "2024-09-09T19:36:52.229Z"
        ],
        [
         "FUR-FU-10001591",
         "Advantus Panel Wall Certificate Holder - 8.5x11",
         "Furnishings",
         "Furniture",
         "Retail CSV",
         "2024-09-09T19:36:52.229Z"
        ],
        [
         "OFF-BI-10004492",
         "Tuf-Vin Binders",
         "Binders",
         "Office Supplies",
         "Retail CSV",
         "2024-09-09T19:36:52.229Z"
        ],
        [
         "FUR-TA-10001889",
         "Bush Advantage Collection Racetrack Conference Table",
         "Tables",
         "Furniture",
         "Retail CSV",
         "2024-09-09T19:36:52.229Z"
        ],
        [
         "OFF-AP-10002439",
         "Tripp Lite Isotel 8 Ultra 8 Outlet Metal Surge",
         "Appliances",
         "Office Supplies",
         "Retail CSV",
         "2024-09-09T19:36:52.229Z"
        ],
        [
         "TEC-PH-10004188",
         "OtterBox Commuter Series Case - Samsung Galaxy S4",
         "Phones",
         "Technology",
         "Retail CSV",
         "2024-09-09T19:36:52.229Z"
        ],
        [
         "OFF-EN-10003072",
         "Peel & Seel Envelopes",
         "Envelopes",
         "Office Supplies",
         "Retail CSV",
         "2024-09-09T19:36:52.229Z"
        ],
        [
         "OFF-PA-10004475",
         "Xerox 1940",
         "Paper",
         "Office Supplies",
         "Retail CSV",
         "2024-09-09T19:36:52.229Z"
        ],
        [
         "OFF-PA-10002581",
         "Xerox 1951",
         "Paper",
         "Office Supplies",
         "Retail CSV",
         "2024-09-09T19:36:52.229Z"
        ],
        [
         "OFF-SU-10002557",
         "Fiskars Spring-Action Scissors",
         "Supplies",
         "Office Supplies",
         "Retail CSV",
         "2024-09-09T19:36:52.229Z"
        ],
        [
         "OFF-ST-10003805",
         "24 Capacity Maxi Data Binder Racks, Pearl",
         "Storage",
         "Office Supplies",
         "Retail CSV",
         "2024-09-09T19:36:52.229Z"
        ],
        [
         "TEC-PH-10001433",
         "Cisco Small Business SPA 502G VoIP phone",
         "Phones",
         "Technology",
         "Retail CSV",
         "2024-09-09T19:36:52.229Z"
        ],
        [
         "TEC-PH-10000984",
         "Panasonic KX-TG9471B",
         "Phones",
         "Technology",
         "Retail CSV",
         "2024-09-09T19:36:52.229Z"
        ],
        [
         "OFF-AR-10001954",
         "Newell 331",
         "Art",
         "Office Supplies",
         "Retail CSV",
         "2024-09-09T19:36:52.229Z"
        ],
        [
         "TEC-MA-10003066",
         "Wasp CCD Handheld Bar Code Reader",
         "Machines",
         "Technology",
         "Retail CSV",
         "2024-09-09T19:36:52.229Z"
        ],
        [
         "OFF-PA-10003127",
         "Easy-staple paper",
         "Paper",
         "Office Supplies",
         "Retail CSV",
         "2024-09-09T19:36:52.229Z"
        ],
        [
         "OFF-AR-10003759",
         "Crayola Anti Dust Chalk, 12/Pack",
         "Art",
         "Office Supplies",
         "Retail CSV",
         "2024-09-09T19:36:52.229Z"
        ],
        [
         "FUR-FU-10004665",
         "3M Polarizing Task Lamp with Clamp Arm, Light Gray",
         "Furnishings",
         "Furniture",
         "Retail CSV",
         "2024-09-09T19:36:52.229Z"
        ],
        [
         "OFF-AP-10001947",
         "Acco 6 Outlet Guardian Premium Plus Surge Suppressor",
         "Appliances",
         "Office Supplies",
         "Retail CSV",
         "2024-09-09T19:36:52.229Z"
        ],
        [
         "OFF-LA-10003537",
         "Avery 515",
         "Labels",
         "Office Supplies",
         "Retail CSV",
         "2024-09-09T19:36:52.229Z"
        ],
        [
         "OFF-FA-10000254",
         "Sterling Rubber Bands by Alliance",
         "Fasteners",
         "Office Supplies",
         "Retail CSV",
         "2024-09-09T19:36:52.229Z"
        ],
        [
         "FUR-CH-10004860",
         "Global Low Back Tilter Chair",
         "Chairs",
         "Furniture",
         "Retail CSV",
         "2024-09-09T19:36:52.229Z"
        ],
        [
         "OFF-PA-10004092",
         "Tops Green Bar Computer Printout Paper",
         "Paper",
         "Office Supplies",
         "Retail CSV",
         "2024-09-09T19:36:52.229Z"
        ],
        [
         "OFF-BI-10001636",
         "Ibico Plastic and Wire Spiral Binding Combs",
         "Binders",
         "Office Supplies",
         "Retail CSV",
         "2024-09-09T19:36:52.229Z"
        ],
        [
         "OFF-BI-10004656",
         "Peel & Stick Add-On Corner Pockets",
         "Binders",
         "Office Supplies",
         "Retail CSV",
         "2024-09-09T19:36:52.229Z"
        ],
        [
         "FUR-CH-10000988",
         "Hon Olson Stacker Stools",
         "Chairs",
         "Furniture",
         "Retail CSV",
         "2024-09-09T19:36:52.229Z"
        ],
        [
         "TEC-MA-10000597",
         "Lexmark S315 Color Inkjet Printer",
         "Machines",
         "Technology",
         "Retail CSV",
         "2024-09-09T19:36:52.229Z"
        ],
        [
         "TEC-PH-10000526",
         "Vtech CS6719",
         "Phones",
         "Technology",
         "Retail CSV",
         "2024-09-09T19:36:52.229Z"
        ],
        [
         "FUR-CH-10003298",
         "Office Star - Contemporary Task Swivel chair with Loop Arms, Charcoal",
         "Chairs",
         "Furniture",
         "Retail CSV",
         "2024-09-09T19:36:52.229Z"
        ],
        [
         "OFF-PA-10002499",
         "Xerox 1890",
         "Paper",
         "Office Supplies",
         "Retail CSV",
         "2024-09-09T19:36:52.229Z"
        ],
        [
         "OFF-EN-10004007",
         "Park Ridge Embossed Executive Business Envelopes",
         "Envelopes",
         "Office Supplies",
         "Retail CSV",
         "2024-09-09T19:36:52.229Z"
        ],
        [
         "FUR-TA-10001771",
         "Bush Cubix Conference Tables, Fully Assembled",
         "Tables",
         "Furniture",
         "Retail CSV",
         "2024-09-09T19:36:52.229Z"
        ],
        [
         "OFF-EN-10002600",
         "Redi-Strip #10 Envelopes, 4 1/8 x 9 1/2",
         "Envelopes",
         "Office Supplies",
         "Retail CSV",
         "2024-09-09T19:36:52.229Z"
        ],
        [
         "TEC-PH-10004896",
         "Nokia Lumia 521 (T-Mobile)",
         "Phones",
         "Technology",
         "Retail CSV",
         "2024-09-09T19:36:52.229Z"
        ],
        [
         "OFF-BI-10002557",
         "Presstex Flexible Ring Binders",
         "Binders",
         "Office Supplies",
         "Retail CSV",
         "2024-09-09T19:36:52.229Z"
        ],
        [
         "FUR-FU-10001588",
         "Deflect-o SuperTray Unbreakable Stackable Tray, Letter, Black",
         "Furnishings",
         "Furniture",
         "Retail CSV",
         "2024-09-09T19:36:52.229Z"
        ],
        [
         "TEC-AC-10001908",
         "Logitech Wireless Headset h800",
         "Accessories",
         "Technology",
         "Retail CSV",
         "2024-09-09T19:36:52.229Z"
        ],
        [
         "TEC-AC-10000057",
         "Microsoft Natural Ergonomic Keyboard 4000",
         "Accessories",
         "Technology",
         "Retail CSV",
         "2024-09-09T19:36:52.229Z"
        ],
        [
         "OFF-PA-10001745",
         "\"Wirebound Message Books, 2 7/8\"\" x 5\"\"",
         "Paper",
         "Office Supplies",
         "Retail CSV",
         "2024-09-09T19:36:52.229Z"
        ],
        [
         "OFF-EN-10003862",
         "Laser & Ink Jet Business Envelopes",
         "Envelopes",
         "Office Supplies",
         "Retail CSV",
         "2024-09-09T19:36:52.229Z"
        ],
        [
         "OFF-BI-10001597",
         "Wilson Jones Ledger-Size, Piano-Hinge Binder, 2\"",
         "Binders",
         "Office Supplies",
         "Retail CSV",
         "2024-09-09T19:36:52.229Z"
        ],
        [
         "OFF-AP-10003971",
         "Belkin 6 Outlet Metallic Surge Strip",
         "Appliances",
         "Office Supplies",
         "Retail CSV",
         "2024-09-09T19:36:52.229Z"
        ],
        [
         "OFF-ST-10004950",
         "Acco Perma 3000 Stacking Storage Drawers",
         "Storage",
         "Office Supplies",
         "Retail CSV",
         "2024-09-09T19:36:52.229Z"
        ],
        [
         "OFF-BI-10002982",
         "Avery Self-Adhesive Photo Pockets for Polaroid Photos",
         "Binders",
         "Office Supplies",
         "Retail CSV",
         "2024-09-09T19:36:52.229Z"
        ],
        [
         "TEC-AC-10004127",
         "SanDisk Cruzer 8 GB USB Flash Drive",
         "Accessories",
         "Technology",
         "Retail CSV",
         "2024-09-09T19:36:52.229Z"
        ],
        [
         "OFF-PA-10003739",
         "Xerox 1969",
         "Paper",
         "Office Supplies",
         "Retail CSV",
         "2024-09-09T19:36:52.229Z"
        ],
        [
         "OFF-BI-10004600",
         "Ibico Ibimaster 300 Manual Binding System",
         "Binders",
         "Office Supplies",
         "Retail CSV",
         "2024-09-09T19:36:52.229Z"
        ],
        [
         "OFF-AP-10000027",
         "Hoover Commercial SteamVac",
         "Appliances",
         "Office Supplies",
         "Retail CSV",
         "2024-09-09T19:36:52.229Z"
        ],
        [
         "FUR-BO-10001567",
         "Bush Westfield Collection Bookcases, Dark Cherry Finish, Fully Assembled",
         "Bookcases",
         "Furniture",
         "Retail CSV",
         "2024-09-09T19:36:52.229Z"
        ],
        [
         "TEC-AC-10002335",
         "Logitech Media Keyboard K200",
         "Accessories",
         "Technology",
         "Retail CSV",
         "2024-09-09T19:36:52.229Z"
        ],
        [
         "FUR-BO-10001972",
         "O'Sullivan 4-Shelf Bookcase in Odessa Pine",
         "Bookcases",
         "Furniture",
         "Retail CSV",
         "2024-09-09T19:36:52.229Z"
        ],
        [
         "FUR-CH-10003956",
         "Novimex High-Tech Fabric Mesh Task Chair",
         "Chairs",
         "Furniture",
         "Retail CSV",
         "2024-09-09T19:36:52.229Z"
        ],
        [
         "OFF-ST-10000617",
         "Woodgrain Magazine Files by Perma",
         "Storage",
         "Office Supplies",
         "Retail CSV",
         "2024-09-09T19:36:52.229Z"
        ],
        [
         "TEC-PH-10001924",
         "iHome FM Clock Radio with Lightning Dock",
         "Phones",
         "Technology",
         "Retail CSV",
         "2024-09-09T19:36:52.229Z"
        ],
        [
         "OFF-ST-10004507",
         "Advantus Rolling Storage Box",
         "Storage",
         "Office Supplies",
         "Retail CSV",
         "2024-09-09T19:36:52.229Z"
        ],
        [
         "TEC-PH-10000586",
         "AT&T SB67148 SynJ",
         "Phones",
         "Technology",
         "Retail CSV",
         "2024-09-09T19:36:52.229Z"
        ],
        [
         "OFF-BI-10000088",
         "GBC Imprintable Covers",
         "Binders",
         "Office Supplies",
         "Retail CSV",
         "2024-09-09T19:36:52.229Z"
        ],
        [
         "OFF-AR-10004272",
         "Newell 308",
         "Art",
         "Office Supplies",
         "Retail CSV",
         "2024-09-09T19:36:52.229Z"
        ],
        [
         "OFF-PA-10003971",
         "Xerox 1965",
         "Paper",
         "Office Supplies",
         "Retail CSV",
         "2024-09-09T19:36:52.229Z"
        ],
        [
         "TEC-AC-10002637",
         "Logitech VX Revolution Cordless Laser Mouse for Notebooks (Black)",
         "Accessories",
         "Technology",
         "Retail CSV",
         "2024-09-09T19:36:52.229Z"
        ],
        [
         "OFF-ST-10003641",
         "Space Solutions Industrial Galvanized Steel Shelving.",
         "Storage",
         "Office Supplies",
         "Retail CSV",
         "2024-09-09T19:36:52.229Z"
        ],
        [
         "FUR-TA-10001857",
         "Balt Solid Wood Rectangular Table",
         "Tables",
         "Furniture",
         "Retail CSV",
         "2024-09-09T19:36:52.229Z"
        ],
        [
         "OFF-AR-10003856",
         "Newell 344",
         "Art",
         "Office Supplies",
         "Retail CSV",
         "2024-09-09T19:36:52.229Z"
        ],
        [
         "FUR-CH-10002647",
         "Situations Contoured Folding Chairs, 4/Set",
         "Chairs",
         "Furniture",
         "Retail CSV",
         "2024-09-09T19:36:52.229Z"
        ],
        [
         "FUR-FU-10000221",
         "Master Caster Door Stop, Brown",
         "Furnishings",
         "Furniture",
         "Retail CSV",
         "2024-09-09T19:36:52.229Z"
        ],
        [
         "OFF-AP-10003287",
         "Tripp Lite TLP810NET Broadband Surge for Modem/Fax",
         "Appliances",
         "Office Supplies",
         "Retail CSV",
         "2024-09-09T19:36:52.229Z"
        ],
        [
         "OFF-BI-10004187",
         "3-ring staple pack",
         "Binders",
         "Office Supplies",
         "Retail CSV",
         "2024-09-09T19:36:52.229Z"
        ],
        [
         "OFF-PA-10000418",
         "Xerox 189",
         "Paper",
         "Office Supplies",
         "Retail CSV",
         "2024-09-09T19:36:52.229Z"
        ],
        [
         "OFF-PA-10000130",
         "Xerox 199",
         "Paper",
         "Office Supplies",
         "Retail CSV",
         "2024-09-09T19:36:52.229Z"
        ],
        [
         "FUR-BO-10000362",
         "Sauder Inglewood Library Bookcases",
         "Bookcases",
         "Furniture",
         "Retail CSV",
         "2024-09-09T19:36:52.229Z"
        ],
        [
         "FUR-CH-10002044",
         "Office Star - Contemporary Task Swivel chair with 2-way adjustable arms, Plum",
         "Chairs",
         "Furniture",
         "Retail CSV",
         "2024-09-09T19:36:52.229Z"
        ],
        [
         "TEC-AC-10004659",
         "Imation Secure+ Hardware Encrypted USB 2.0 Flash Drive; 16GB",
         "Accessories",
         "Technology",
         "Retail CSV",
         "2024-09-09T19:36:52.229Z"
        ],
        [
         "OFF-ST-10000934",
         "\"Contico 72\"\"H Heavy-Duty Storage System\"",
         "Storage",
         "Office Supplies",
         "Retail CSV",
         "2024-09-09T19:36:52.229Z"
        ],
        [
         "OFF-BI-10002012",
         "Wilson Jones Easy Flow II Sheet Lifters",
         "Binders",
         "Office Supplies",
         "Retail CSV",
         "2024-09-09T19:36:52.229Z"
        ],
        [
         "OFF-ST-10002352",
         "Iris Project Case",
         "Storage",
         "Office Supplies",
         "Retail CSV",
         "2024-09-09T19:36:52.229Z"
        ],
        [
         "OFF-AR-10001860",
         "BIC Liqua Brite Liner",
         "Art",
         "Office Supplies",
         "Retail CSV",
         "2024-09-09T19:36:52.229Z"
        ],
        [
         "OFF-AR-10000127",
         "Newell 321",
         "Art",
         "Office Supplies",
         "Retail CSV",
         "2024-09-09T19:36:52.229Z"
        ],
        [
         "OFF-PA-10002960",
         "Xerox 1926",
         "Paper",
         "Office Supplies",
         "Retail CSV",
         "2024-09-09T19:36:52.229Z"
        ],
        [
         "TEC-MA-10003626",
         "Hewlett-Packard Deskjet 6540 Color Inkjet Printer",
         "Machines",
         "Technology",
         "Retail CSV",
         "2024-09-09T19:36:52.229Z"
        ],
        [
         "OFF-PA-10000069",
         "TOPS 4 x 6 Fluorescent Color Memo Sheets, 500 Sheets per Pack",
         "Paper",
         "Office Supplies",
         "Retail CSV",
         "2024-09-09T19:36:52.229Z"
        ],
        [
         "TEC-PH-10003535",
         "RCA ViSYS 25423RE1 Corded phone",
         "Phones",
         "Technology",
         "Retail CSV",
         "2024-09-09T19:36:52.229Z"
        ],
        [
         "TEC-PH-10003988",
         "LF Elite 3D Dazzle Designer Hard Case Cover, Lf Stylus Pen and Wiper For Apple Iphone 5c Mini Lite",
         "Phones",
         "Technology",
         "Retail CSV",
         "2024-09-09T19:36:52.229Z"
        ],
        [
         "TEC-AC-10001998",
         "Logitech LS21 Speaker System - PC Multimedia - 2.1-CH - Wired",
         "Accessories",
         "Technology",
         "Retail CSV",
         "2024-09-09T19:36:52.229Z"
        ],
        [
         "TEC-PH-10002844",
         "Speck Products Candyshell Flip Case",
         "Phones",
         "Technology",
         "Retail CSV",
         "2024-09-09T19:36:52.229Z"
        ],
        [
         "OFF-PA-10001019",
         "Xerox 1884",
         "Paper",
         "Office Supplies",
         "Retail CSV",
         "2024-09-09T19:36:52.229Z"
        ],
        [
         "OFF-LA-10001175",
         "Avery 514",
         "Labels",
         "Office Supplies",
         "Retail CSV",
         "2024-09-09T19:36:52.229Z"
        ],
        [
         "TEC-AC-10004975",
         "Plantronics Audio 995 Wireless Stereo Headset",
         "Accessories",
         "Technology",
         "Retail CSV",
         "2024-09-09T19:36:52.229Z"
        ],
        [
         "OFF-EN-10004147",
         "Wausau Papers Astrobrights Colored Envelopes",
         "Envelopes",
         "Office Supplies",
         "Retail CSV",
         "2024-09-09T19:36:52.229Z"
        ],
        [
         "FUR-FU-10004848",
         "DAX Solid Wood Frames",
         "Furnishings",
         "Furniture",
         "Retail CSV",
         "2024-09-09T19:36:52.229Z"
        ],
        [
         "TEC-PH-10002275",
         "Mitel 5320 IP Phone VoIP phone",
         "Phones",
         "Technology",
         "Retail CSV",
         "2024-09-09T19:36:52.229Z"
        ],
        [
         "TEC-PH-10001552",
         "I Need's 3d Hello Kitty Hybrid Silicone Case Cover for HTC One X 4g with 3d Hello Kitty Stylus Pen Green/pink",
         "Phones",
         "Technology",
         "Retail CSV",
         "2024-09-09T19:36:52.229Z"
        ],
        [
         "FUR-FU-10003347",
         "Coloredge Poster Frame",
         "Furnishings",
         "Furniture",
         "Retail CSV",
         "2024-09-09T19:36:52.229Z"
        ],
        [
         "OFF-SU-10002503",
         "Acme Preferred Stainless Steel Scissors",
         "Supplies",
         "Office Supplies",
         "Retail CSV",
         "2024-09-09T19:36:52.229Z"
        ],
        [
         "OFF-ST-10001496",
         "Standard Rollaway File with Lock",
         "Storage",
         "Office Supplies",
         "Retail CSV",
         "2024-09-09T19:36:52.229Z"
        ],
        [
         "TEC-PH-10002922",
         "ShoreTel ShorePhone IP 230 VoIP phone",
         "Phones",
         "Technology",
         "Retail CSV",
         "2024-09-09T19:36:52.229Z"
        ],
        [
         "OFF-BI-10004506",
         "Wilson Jones data.warehouse D-Ring Binders with DublLock",
         "Binders",
         "Office Supplies",
         "Retail CSV",
         "2024-09-09T19:36:52.229Z"
        ],
        [
         "FUR-TA-10001950",
         "Balt Solid Wood Round Tables",
         "Tables",
         "Furniture",
         "Retail CSV",
         "2024-09-09T19:36:52.229Z"
        ],
        [
         "TEC-AC-10003709",
         "Maxell 4.7GB DVD-R 5/Pack",
         "Accessories",
         "Technology",
         "Retail CSV",
         "2024-09-09T19:36:52.229Z"
        ],
        [
         "OFF-SU-10004782",
         "\"Elite 5\"\" Scissors\"",
         "Supplies",
         "Office Supplies",
         "Retail CSV",
         "2024-09-09T19:36:52.229Z"
        ],
        [
         "OFF-EN-10002592",
         "Peel & Seel Recycled Catalog Envelopes, Brown",
         "Envelopes",
         "Office Supplies",
         "Retail CSV",
         "2024-09-09T19:36:52.229Z"
        ],
        [
         "FUR-FU-10004006",
         "Deflect-o DuraMat Lighweight, Studded, Beveled Mat for Low Pile Carpeting",
         "Furnishings",
         "Furniture",
         "Retail CSV",
         "2024-09-09T19:36:52.229Z"
        ],
        [
         "OFF-EN-10003296",
         "Tyvek Side-Opening Peel & Seel Expanding Envelopes",
         "Envelopes",
         "Office Supplies",
         "Retail CSV",
         "2024-09-09T19:36:52.229Z"
        ],
        [
         "OFF-BI-10001524",
         "GBC Premium Transparent Covers with Diagonal Lined Pattern",
         "Binders",
         "Office Supplies",
         "Retail CSV",
         "2024-09-09T19:36:52.229Z"
        ],
        [
         "OFF-AP-10002191",
         "Belkin 8 Outlet SurgeMaster II Gold Surge Protector",
         "Appliances",
         "Office Supplies",
         "Retail CSV",
         "2024-09-09T19:36:52.229Z"
        ],
        [
         "OFF-AR-10001919",
         "OIC #2 Pencils, Medium Soft",
         "Art",
         "Office Supplies",
         "Retail CSV",
         "2024-09-09T19:36:52.229Z"
        ],
        [
         "OFF-AR-10003876",
         "Avery Hi-Liter GlideStik Fluorescent Highlighter, Yellow Ink",
         "Art",
         "Office Supplies",
         "Retail CSV",
         "2024-09-09T19:36:52.229Z"
        ],
        [
         "FUR-CH-10001891",
         "Global Deluxe Office Fabric Chairs",
         "Chairs",
         "Furniture",
         "Retail CSV",
         "2024-09-09T19:36:52.229Z"
        ],
        [
         "TEC-CO-10002313",
         "Canon PC1080F Personal Copier",
         "Copiers",
         "Technology",
         "Retail CSV",
         "2024-09-09T19:36:52.229Z"
        ],
        [
         "OFF-ST-10003058",
         "Eldon Mobile Mega Data Cart  Mega Stackable  Add-On Trays",
         "Storage",
         "Office Supplies",
         "Retail CSV",
         "2024-09-09T19:36:52.229Z"
        ],
        [
         "OFF-BI-10002194",
         "Cardinal Hold-It CD Pocket",
         "Binders",
         "Office Supplies",
         "Retail CSV",
         "2024-09-09T19:36:52.229Z"
        ],
        [
         "OFF-AP-10002350",
         "Belkin F9H710-06 7 Outlet SurgeMaster Surge Protector",
         "Appliances",
         "Office Supplies",
         "Retail CSV",
         "2024-09-09T19:36:52.229Z"
        ],
        [
         "OFF-FA-10003059",
         "Assorted Color Push Pins",
         "Fasteners",
         "Office Supplies",
         "Retail CSV",
         "2024-09-09T19:36:52.229Z"
        ],
        [
         "OFF-ST-10003638",
         "Mobile Personal File Cube",
         "Storage",
         "Office Supplies",
         "Retail CSV",
         "2024-09-09T19:36:52.229Z"
        ],
        [
         "OFF-BI-10001196",
         "Avery Flip-Chart Easel Binder, Black",
         "Binders",
         "Office Supplies",
         "Retail CSV",
         "2024-09-09T19:36:52.229Z"
        ],
        [
         "OFF-BI-10004099",
         "GBC VeloBinder Strips",
         "Binders",
         "Office Supplies",
         "Retail CSV",
         "2024-09-09T19:36:52.229Z"
        ],
        [
         "FUR-CH-10002780",
         "Office Star - Task Chair with Contemporary Loop Arms",
         "Chairs",
         "Furniture",
         "Retail CSV",
         "2024-09-09T19:36:52.229Z"
        ],
        [
         "OFF-PA-10004675",
         "\"Telephone Message Books with Fax/Mobile Section, 5 1/2\"\" x 3 3/16\"\"\"",
         "Paper",
         "Office Supplies",
         "Retail CSV",
         "2024-09-09T19:36:52.229Z"
        ],
        [
         "OFF-AR-10001940",
         "Sanford Colorific Eraseable Coloring Pencils, 12 Count",
         "Art",
         "Office Supplies",
         "Retail CSV",
         "2024-09-09T19:36:52.229Z"
        ],
        [
         "OFF-PA-10003724",
         "Wirebound Message Book, 4 per Page",
         "Paper",
         "Office Supplies",
         "Retail CSV",
         "2024-09-09T19:36:52.229Z"
        ],
        [
         "TEC-PH-10000376",
         "Square Credit Card Reader",
         "Phones",
         "Technology",
         "Retail CSV",
         "2024-09-09T19:36:52.229Z"
        ],
        [
         "FUR-TA-10004256",
         "Bretford “Just In Time” Height-Adjustable Multi-Task Work Tables",
         "Tables",
         "Furniture",
         "Retail CSV",
         "2024-09-09T19:36:52.229Z"
        ],
        [
         "OFF-AP-10000179",
         "Honeywell Enviracaire Portable HEPA Air Cleaner for up to 10 x 16 Room",
         "Appliances",
         "Office Supplies",
         "Retail CSV",
         "2024-09-09T19:36:52.229Z"
        ],
        [
         "TEC-AC-10003063",
         "Micro Innovations USB RF Wireless Keyboard with Mouse",
         "Accessories",
         "Technology",
         "Retail CSV",
         "2024-09-09T19:36:52.229Z"
        ],
        [
         "FUR-TA-10002855",
         "Bevis Round Conference Table Top & Single Column Base",
         "Tables",
         "Furniture",
         "Retail CSV",
         "2024-09-09T19:36:52.229Z"
        ],
        [
         "OFF-SU-10004768",
         "Acme Kleencut Forged Steel Scissors",
         "Supplies",
         "Office Supplies",
         "Retail CSV",
         "2024-09-09T19:36:52.229Z"
        ],
        [
         "TEC-AC-10003399",
         "Memorex Mini Travel Drive 64 GB USB 2.0 Flash Drive",
         "Accessories",
         "Technology",
         "Retail CSV",
         "2024-09-09T19:36:52.229Z"
        ],
        [
         "FUR-FU-10004164",
         "Eldon 300 Class Desk Accessories, Black",
         "Furnishings",
         "Furniture",
         "Retail CSV",
         "2024-09-09T19:36:52.229Z"
        ],
        [
         "OFF-PA-10004248",
         "Xerox 1990",
         "Paper",
         "Office Supplies",
         "Retail CSV",
         "2024-09-09T19:36:52.229Z"
        ],
        [
         "OFF-LA-10003498",
         "Avery 475",
         "Labels",
         "Office Supplies",
         "Retail CSV",
         "2024-09-09T19:36:52.229Z"
        ],
        [
         "OFF-BI-10004593",
         "Ibico Laser Imprintable Binding System Covers",
         "Binders",
         "Office Supplies",
         "Retail CSV",
         "2024-09-09T19:36:52.229Z"
        ],
        [
         "TEC-PH-10002597",
         "Xblue XB-1670-86 X16 Small Office Telephone - Titanium",
         "Phones",
         "Technology",
         "Retail CSV",
         "2024-09-09T19:36:52.229Z"
        ],
        [
         "OFF-PA-10000289",
         "Xerox 213",
         "Paper",
         "Office Supplies",
         "Retail CSV",
         "2024-09-09T19:36:52.229Z"
        ],
        [
         "OFF-BI-10004632",
         "GBC Binding covers",
         "Binders",
         "Office Supplies",
         "Retail CSV",
         "2024-09-09T19:36:52.229Z"
        ],
        [
         "FUR-BO-10002213",
         "DMI Eclipse Executive Suite Bookcases",
         "Bookcases",
         "Furniture",
         "Retail CSV",
         "2024-09-09T19:36:52.229Z"
        ],
        [
         "OFF-BI-10000632",
         "Satellite Sectional Post Binders",
         "Binders",
         "Office Supplies",
         "Retail CSV",
         "2024-09-09T19:36:52.229Z"
        ],
        [
         "OFF-LA-10004559",
         "Avery 49",
         "Labels",
         "Office Supplies",
         "Retail CSV",
         "2024-09-09T19:36:52.229Z"
        ],
        [
         "OFF-EN-10003068",
         "#6 3/4 Gummed Flap White Envelopes",
         "Envelopes",
         "Office Supplies",
         "Retail CSV",
         "2024-09-09T19:36:52.229Z"
        ],
        [
         "OFF-ST-10000885",
         "Fellowes Desktop Hanging File Manager",
         "Storage",
         "Office Supplies",
         "Retail CSV",
         "2024-09-09T19:36:52.229Z"
        ],
        [
         "TEC-PH-10003356",
         "SmartStand Mobile Device Holder, Assorted Colors",
         "Phones",
         "Technology",
         "Retail CSV",
         "2024-09-09T19:36:52.229Z"
        ],
        [
         "TEC-PH-10004093",
         "Panasonic Kx-TS550",
         "Phones",
         "Technology",
         "Retail CSV",
         "2024-09-09T19:36:52.229Z"
        ],
        [
         "TEC-PH-10002293",
         "Anker 36W 4-Port USB Wall Charger Travel Power Adapter for iPhone 5s 5c 5",
         "Phones",
         "Technology",
         "Retail CSV",
         "2024-09-09T19:36:52.229Z"
        ],
        [
         "FUR-FU-10001935",
         "3M Hangers With Command Adhesive",
         "Furnishings",
         "Furniture",
         "Retail CSV",
         "2024-09-09T19:36:52.229Z"
        ],
        [
         "TEC-PH-10003092",
         "Motorola L804",
         "Phones",
         "Technology",
         "Retail CSV",
         "2024-09-09T19:36:52.229Z"
        ],
        [
         "OFF-PA-10001204",
         "Xerox 1972",
         "Paper",
         "Office Supplies",
         "Retail CSV",
         "2024-09-09T19:36:52.229Z"
        ],
        [
         "OFF-PA-10001800",
         "Xerox 220",
         "Paper",
         "Office Supplies",
         "Retail CSV",
         "2024-09-09T19:36:52.229Z"
        ],
        [
         "OFF-PA-10001790",
         "Xerox 1910",
         "Paper",
         "Office Supplies",
         "Retail CSV",
         "2024-09-09T19:36:52.229Z"
        ],
        [
         "FUR-FU-10003976",
         "DAX Executive Solid Wood Document Frame, Desktop or Hang, Mahogany, 5 x 7",
         "Furnishings",
         "Furniture",
         "Retail CSV",
         "2024-09-09T19:36:52.229Z"
        ],
        [
         "FUR-CH-10000422",
         "Global Highback Leather Tilter in Burgundy",
         "Chairs",
         "Furniture",
         "Retail CSV",
         "2024-09-09T19:36:52.229Z"
        ],
        [
         "OFF-AR-10003582",
         "Boston Electric Pencil Sharpener, Model 1818, Charcoal Black",
         "Art",
         "Office Supplies",
         "Retail CSV",
         "2024-09-09T19:36:52.229Z"
        ],
        [
         "FUR-FU-10000320",
         "OIC Stacking Trays",
         "Furnishings",
         "Furniture",
         "Retail CSV",
         "2024-09-09T19:36:52.229Z"
        ],
        [
         "TEC-PH-10000730",
         "Samsung Galaxy S4 Active",
         "Phones",
         "Technology",
         "Retail CSV",
         "2024-09-09T19:36:52.229Z"
        ],
        [
         "TEC-MA-10000822",
         "Lexmark MX611dhe Monochrome Laser Printer",
         "Machines",
         "Technology",
         "Retail CSV",
         "2024-09-09T19:36:52.229Z"
        ],
        [
         "OFF-ST-10004804",
         "\"Belkin 19\"\" Vented Equipment Shelf",
         "Storage",
         "Office Supplies",
         "Retail CSV",
         "2024-09-09T19:36:52.229Z"
        ],
        [
         "FUR-FU-10000448",
         "Tenex Chairmats For Use With Carpeted Floors",
         "Furnishings",
         "Furniture",
         "Retail CSV",
         "2024-09-09T19:36:52.229Z"
        ],
        [
         "FUR-FU-10000010",
         "DAX Value U-Channel Document Frames, Easel Back",
         "Furnishings",
         "Furniture",
         "Retail CSV",
         "2024-09-09T19:36:52.229Z"
        ],
        [
         "OFF-BI-10004390",
         "GBC DocuBind 200 Manual Binding Machine",
         "Binders",
         "Office Supplies",
         "Retail CSV",
         "2024-09-09T19:36:52.229Z"
        ],
        [
         "OFF-PA-10000477",
         "Xerox 1952",
         "Paper",
         "Office Supplies",
         "Retail CSV",
         "2024-09-09T19:36:52.229Z"
        ],
        [
         "TEC-PH-10001944",
         "Wi-Ex zBoost YX540 Cellular Phone Signal Booster",
         "Phones",
         "Technology",
         "Retail CSV",
         "2024-09-09T19:36:52.229Z"
        ],
        [
         "OFF-BI-10003876",
         "\"Green Canvas Binder for 8-1/2\"\" x 14\"\" Sheets\"",
         "Binders",
         "Office Supplies",
         "Retail CSV",
         "2024-09-09T19:36:52.229Z"
        ],
        [
         "FUR-FU-10000397",
         "Luxo Economy Swing Arm Lamp",
         "Furnishings",
         "Furniture",
         "Retail CSV",
         "2024-09-09T19:36:52.229Z"
        ],
        [
         "FUR-CH-10001146",
         "Global Task Chair, Black",
         "Chairs",
         "Furniture",
         "Retail CSV",
         "2024-09-09T19:36:52.229Z"
        ],
        [
         "TEC-AC-10004761",
         "Maxell 4.7GB DVD+RW 3/Pack",
         "Accessories",
         "Technology",
         "Retail CSV",
         "2024-09-09T19:36:52.229Z"
        ],
        [
         "OFF-BI-10003669",
         "3M Organizer Strips",
         "Binders",
         "Office Supplies",
         "Retail CSV",
         "2024-09-09T19:36:52.229Z"
        ],
        [
         "FUR-FU-10000719",
         "DAX Cubicle Frames, 8-1/2 x 11",
         "Furnishings",
         "Furniture",
         "Retail CSV",
         "2024-09-09T19:36:52.229Z"
        ],
        [
         "FUR-BO-10003893",
         "Sauder Camden County Collection Library",
         "Bookcases",
         "Furniture",
         "Retail CSV",
         "2024-09-09T19:36:52.229Z"
        ],
        [
         "TEC-AC-10003870",
         "Logitech Z-906 Speaker sys - home theater - 5.1-CH",
         "Accessories",
         "Technology",
         "Retail CSV",
         "2024-09-09T19:36:52.229Z"
        ],
        [
         "FUR-CH-10002335",
         "Hon GuestStacker Chair",
         "Chairs",
         "Furniture",
         "Retail CSV",
         "2024-09-09T19:36:52.229Z"
        ],
        [
         "OFF-AR-10003829",
         "Newell 35",
         "Art",
         "Office Supplies",
         "Retail CSV",
         "2024-09-09T19:36:52.229Z"
        ],
        [
         "OFF-SU-10001165",
         "Acme Elite Stainless Steel Scissors",
         "Supplies",
         "Office Supplies",
         "Retail CSV",
         "2024-09-09T19:36:52.229Z"
        ],
        [
         "FUR-BO-10003159",
         "Sauder Camden County Collection Libraries, Planked Cherry Finish",
         "Bookcases",
         "Furniture",
         "Retail CSV",
         "2024-09-09T19:36:52.229Z"
        ],
        [
         "TEC-PH-10004897",
         "Mediabridge Sport Armband iPhone 5s",
         "Phones",
         "Technology",
         "Retail CSV",
         "2024-09-09T19:36:52.229Z"
        ],
        [
         "TEC-PH-10002789",
         "LG Exalt",
         "Phones",
         "Technology",
         "Retail CSV",
         "2024-09-09T19:36:52.229Z"
        ],
        [
         "TEC-PH-10004875",
         "PNY Rapid USB Car Charger - Black",
         "Phones",
         "Technology",
         "Retail CSV",
         "2024-09-09T19:36:52.229Z"
        ],
        [
         "FUR-FU-10001025",
         "Eldon Imàge Series Desk Accessories, Clear",
         "Furnishings",
         "Furniture",
         "Retail CSV",
         "2024-09-09T19:36:52.229Z"
        ],
        [
         "TEC-AC-10002370",
         "Maxell CD-R Discs",
         "Accessories",
         "Technology",
         "Retail CSV",
         "2024-09-09T19:36:52.229Z"
        ],
        [
         "OFF-AR-10003478",
         "Avery Hi-Liter EverBold Pen Style Fluorescent Highlighters, 4/Pack",
         "Art",
         "Office Supplies",
         "Retail CSV",
         "2024-09-09T19:36:52.229Z"
        ],
        [
         "OFF-BI-10002813",
         "Avery Reinforcements for Hole-Punch Pages",
         "Binders",
         "Office Supplies",
         "Retail CSV",
         "2024-09-09T19:36:52.229Z"
        ],
        [
         "OFF-BI-10002867",
         "GBC Recycled Regency Composition Covers",
         "Binders",
         "Office Supplies",
         "Retail CSV",
         "2024-09-09T19:36:52.229Z"
        ],
        [
         "OFF-FA-10002763",
         "Advantus Map Pennant Flags and Round Head Tacks",
         "Fasteners",
         "Office Supplies",
         "Retail CSV",
         "2024-09-09T19:36:52.229Z"
        ],
        [
         "OFF-PA-10000791",
         "Wirebound Message Books, Four 2 3/4 x 5 Forms per Page, 200 Sets per Book",
         "Paper",
         "Office Supplies",
         "Retail CSV",
         "2024-09-09T19:36:52.229Z"
        ],
        [
         "FUR-CH-10000749",
         "Office Star - Ergonomic Mid Back Chair with 2-Way Adjustable Arms",
         "Chairs",
         "Furniture",
         "Retail CSV",
         "2024-09-09T19:36:52.229Z"
        ],
        [
         "OFF-PA-10001260",
         "TOPS Money Receipt Book, Consecutively Numbered in Red,",
         "Paper",
         "Office Supplies",
         "Retail CSV",
         "2024-09-09T19:36:52.229Z"
        ],
        [
         "OFF-BI-10002931",
         "\"Avery Trapezoid Extra Heavy Duty 4\"\" Binders\"",
         "Binders",
         "Office Supplies",
         "Retail CSV",
         "2024-09-09T19:36:52.229Z"
        ],
        [
         "OFF-EN-10003001",
         "Ames Color-File Green Diamond Border X-ray Mailers",
         "Envelopes",
         "Office Supplies",
         "Retail CSV",
         "2024-09-09T19:36:52.229Z"
        ],
        [
         "OFF-BI-10002954",
         "Newell 3-Hole Punched Plastic Slotted Magazine Holders for Binders",
         "Binders",
         "Office Supplies",
         "Retail CSV",
         "2024-09-09T19:36:52.229Z"
        ],
        [
         "TEC-AC-10003433",
         "Maxell 4.7GB DVD+R 5/Pack",
         "Accessories",
         "Technology",
         "Retail CSV",
         "2024-09-09T19:36:52.229Z"
        ],
        [
         "TEC-PH-10002645",
         "LG G2",
         "Phones",
         "Technology",
         "Retail CSV",
         "2024-09-09T19:36:52.229Z"
        ],
        [
         "OFF-PA-10000157",
         "Xerox 191",
         "Paper",
         "Office Supplies",
         "Retail CSV",
         "2024-09-09T19:36:52.229Z"
        ],
        [
         "FUR-CH-10000847",
         "Global Executive Mid-Back Manager's Chair",
         "Chairs",
         "Furniture",
         "Retail CSV",
         "2024-09-09T19:36:52.229Z"
        ],
        [
         "OFF-BI-10004965",
         "Ibico Covers for Plastic or Wire Binding Elements",
         "Binders",
         "Office Supplies",
         "Retail CSV",
         "2024-09-09T19:36:52.229Z"
        ],
        [
         "FUR-FU-10004415",
         "Stacking Tray, Side-Loading, Legal, Smoke",
         "Furnishings",
         "Furniture",
         "Retail CSV",
         "2024-09-09T19:36:52.229Z"
        ],
        [
         "OFF-FA-10004076",
         "Translucent Push Pins by OIC",
         "Fasteners",
         "Office Supplies",
         "Retail CSV",
         "2024-09-09T19:36:52.229Z"
        ],
        [
         "OFF-AP-10003842",
         "Euro-Pro Shark Turbo Vacuum",
         "Appliances",
         "Office Supplies",
         "Retail CSV",
         "2024-09-09T19:36:52.229Z"
        ],
        [
         "TEC-PH-10003187",
         "Anker Astro Mini 3000mAh Ultra-Compact Portable Charger",
         "Phones",
         "Technology",
         "Retail CSV",
         "2024-09-09T19:36:52.229Z"
        ],
        [
         "TEC-PH-10002200",
         "Aastra 6757i CT Wireless VoIP phone",
         "Phones",
         "Technology",
         "Retail CSV",
         "2024-09-09T19:36:52.229Z"
        ],
        [
         "OFF-PA-10004996",
         "\"Speediset Carbonless Redi-Letter 7\"\" x 8 1/2\"\"\"",
         "Paper",
         "Office Supplies",
         "Retail CSV",
         "2024-09-09T19:36:52.229Z"
        ],
        [
         "OFF-AR-10000588",
         "Newell 345",
         "Art",
         "Office Supplies",
         "Retail CSV",
         "2024-09-09T19:36:52.229Z"
        ],
        [
         "OFF-LA-10003510",
         "Avery 4027 File Folder Labels for Dot Matrix Printers, 5000 Labels per Box, White",
         "Labels",
         "Office Supplies",
         "Retail CSV",
         "2024-09-09T19:36:52.229Z"
        ],
        [
         "TEC-AC-10002049",
         "Logitech G19 Programmable Gaming Keyboard",
         "Accessories",
         "Technology",
         "Retail CSV",
         "2024-09-09T19:36:52.229Z"
        ],
        [
         "TEC-MA-10000112",
         "Panasonic KX MB2061 Multifunction Printer",
         "Machines",
         "Technology",
         "Retail CSV",
         "2024-09-09T19:36:52.229Z"
        ],
        [
         "FUR-BO-10003660",
         "Bush Cubix Collection Bookcases, Fully Assembled",
         "Bookcases",
         "Furniture",
         "Retail CSV",
         "2024-09-09T19:36:52.229Z"
        ],
        [
         "FUR-FU-10003464",
         "\"Seth Thomas 8 1/2\"\" Cubicle Clock\"",
         "Furnishings",
         "Furniture",
         "Retail CSV",
         "2024-09-09T19:36:52.229Z"
        ],
        [
         "OFF-LA-10000407",
         "Avery White Multi-Purpose Labels",
         "Labels",
         "Office Supplies",
         "Retail CSV",
         "2024-09-09T19:36:52.229Z"
        ],
        [
         "OFF-SU-10002522",
         "Acme Kleen Earth Office Shears",
         "Supplies",
         "Office Supplies",
         "Retail CSV",
         "2024-09-09T19:36:52.229Z"
        ],
        [
         "OFF-BI-10004728",
         "Wilson Jones Turn Tabs Binder Tool for Ring Binders",
         "Binders",
         "Office Supplies",
         "Retail CSV",
         "2024-09-09T19:36:52.229Z"
        ],
        [
         "OFF-AR-10003190",
         "Newell 32",
         "Art",
         "Office Supplies",
         "Retail CSV",
         "2024-09-09T19:36:52.229Z"
        ],
        [
         "OFF-PA-10003395",
         "Xerox 1941",
         "Paper",
         "Office Supplies",
         "Retail CSV",
         "2024-09-09T19:36:52.229Z"
        ],
        [
         "OFF-BI-10003364",
         "Binding Machine Supplies",
         "Binders",
         "Office Supplies",
         "Retail CSV",
         "2024-09-09T19:36:52.229Z"
        ],
        [
         "OFF-ST-10004337",
         "SAFCO Commercial Wire Shelving, 72h",
         "Storage",
         "Office Supplies",
         "Retail CSV",
         "2024-09-09T19:36:52.229Z"
        ],
        [
         "OFF-BI-10000591",
         "Avery Binder Labels",
         "Binders",
         "Office Supplies",
         "Retail CSV",
         "2024-09-09T19:36:52.229Z"
        ],
        [
         "FUR-BO-10004357",
         "O'Sullivan Living Dimensions 3-Shelf Bookcases",
         "Bookcases",
         "Furniture",
         "Retail CSV",
         "2024-09-09T19:36:52.229Z"
        ],
        [
         "OFF-ST-10003327",
         "Akro-Mils 12-Gallon Tote",
         "Storage",
         "Office Supplies",
         "Retail CSV",
         "2024-09-09T19:36:52.229Z"
        ],
        [
         "OFF-ST-10001526",
         "Iceberg Mobile Mega Data/Printer Cart ",
         "Storage",
         "Office Supplies",
         "Retail CSV",
         "2024-09-09T19:36:52.229Z"
        ],
        [
         "OFF-LA-10003714",
         "Avery 510",
         "Labels",
         "Office Supplies",
         "Retail CSV",
         "2024-09-09T19:36:52.229Z"
        ],
        [
         "OFF-AP-10000692",
         "Fellowes Mighty 8 Compact Surge Protector",
         "Appliances",
         "Office Supplies",
         "Retail CSV",
         "2024-09-09T19:36:52.229Z"
        ],
        [
         "TEC-MA-10003356",
         "Panasonic KX MC6040 Color Laser Multifunction Printer",
         "Machines",
         "Technology",
         "Retail CSV",
         "2024-09-09T19:36:52.229Z"
        ],
        [
         "OFF-PA-10000697",
         "TOPS Voice Message Log Book, Flash Format",
         "Paper",
         "Office Supplies",
         "Retail CSV",
         "2024-09-09T19:36:52.229Z"
        ],
        [
         "OFF-AR-10004010",
         "Hunt Boston Vacuum Mount KS Pencil Sharpener",
         "Art",
         "Office Supplies",
         "Retail CSV",
         "2024-09-09T19:36:52.229Z"
        ],
        [
         "OFF-PA-10001736",
         "Xerox 1880",
         "Paper",
         "Office Supplies",
         "Retail CSV",
         "2024-09-09T19:36:52.229Z"
        ],
        [
         "OFF-ST-10001228",
         "Fellowes Personal Hanging Folder Files, Navy",
         "Storage",
         "Office Supplies",
         "Retail CSV",
         "2024-09-09T19:36:52.229Z"
        ],
        [
         "FUR-FU-10004712",
         "Westinghouse Mesh Shade Clip-On Gooseneck Lamp, Black",
         "Furnishings",
         "Furniture",
         "Retail CSV",
         "2024-09-09T19:36:52.229Z"
        ],
        [
         "OFF-SU-10001935",
         "Staple remover",
         "Supplies",
         "Office Supplies",
         "Retail CSV",
         "2024-09-09T19:36:52.229Z"
        ],
        [
         "OFF-PA-10002120",
         "Xerox 1889",
         "Paper",
         "Office Supplies",
         "Retail CSV",
         "2024-09-09T19:36:52.229Z"
        ],
        [
         "OFF-PA-10004156",
         "Xerox 188",
         "Paper",
         "Office Supplies",
         "Retail CSV",
         "2024-09-09T19:36:52.229Z"
        ],
        [
         "OFF-PA-10001685",
         "Easy-staple paper",
         "Paper",
         "Office Supplies",
         "Retail CSV",
         "2024-09-09T19:36:52.229Z"
        ],
        [
         "OFF-AR-10001315",
         "Newell 310",
         "Art",
         "Office Supplies",
         "Retail CSV",
         "2024-09-09T19:36:52.229Z"
        ],
        [
         "OFF-AR-10000823",
         "Newell 307",
         "Art",
         "Office Supplies",
         "Retail CSV",
         "2024-09-09T19:36:52.229Z"
        ],
        [
         "OFF-BI-10002082",
         "GBC Twin Loop Wire Binding Elements",
         "Binders",
         "Office Supplies",
         "Retail CSV",
         "2024-09-09T19:36:52.229Z"
        ],
        [
         "FUR-FU-10001085",
         "3M Polarizing Light Filter Sleeves",
         "Furnishings",
         "Furniture",
         "Retail CSV",
         "2024-09-09T19:36:52.229Z"
        ],
        [
         "TEC-MA-10003246",
         "Hewlett-Packard Deskjet D4360 Printer",
         "Machines",
         "Technology",
         "Retail CSV",
         "2024-09-09T19:36:52.229Z"
        ],
        [
         "TEC-AC-10002647",
         "Logitech Wireless Boombox Speaker - portable - wireless, wired",
         "Accessories",
         "Technology",
         "Retail CSV",
         "2024-09-09T19:36:52.229Z"
        ],
        [
         "OFF-ST-10004946",
         "Desktop 3-Pocket Hot File",
         "Storage",
         "Office Supplies",
         "Retail CSV",
         "2024-09-09T19:36:52.229Z"
        ],
        [
         "OFF-EN-10002986",
         "\"#10-4 1/8\"\" x 9 1/2\"\" Premium Diagonal Seam Envelopes\"",
         "Envelopes",
         "Office Supplies",
         "Retail CSV",
         "2024-09-09T19:36:52.229Z"
        ],
        [
         "FUR-CH-10003396",
         "Global Deluxe Steno Chair",
         "Chairs",
         "Furniture",
         "Retail CSV",
         "2024-09-09T19:36:52.229Z"
        ],
        [
         "OFF-ST-10000060",
         "Fellowes Bankers Box Staxonsteel Drawer File/Stacking System",
         "Storage",
         "Office Supplies",
         "Retail CSV",
         "2024-09-09T19:36:52.229Z"
        ],
        [
         "FUR-FU-10002885",
         "Magna Visual Magnetic Picture Hangers",
         "Furnishings",
         "Furniture",
         "Retail CSV",
         "2024-09-09T19:36:52.229Z"
        ],
        [
         "OFF-EN-10002621",
         "Staple envelope",
         "Envelopes",
         "Office Supplies",
         "Retail CSV",
         "2024-09-09T19:36:52.229Z"
        ],
        [
         "OFF-PA-10001776",
         "\"Wirebound Message Books, Four 2 3/4\"\" x 5\"\" Forms per Page",
         "Paper",
         "Office Supplies",
         "Retail CSV",
         "2024-09-09T19:36:52.229Z"
        ],
        [
         "OFF-BI-10000829",
         "Avery Non-Stick Binders",
         "Binders",
         "Office Supplies",
         "Retail CSV",
         "2024-09-09T19:36:52.229Z"
        ],
        [
         "FUR-TA-10003837",
         "Anderson Hickey Conga Table Tops & Accessories",
         "Tables",
         "Furniture",
         "Retail CSV",
         "2024-09-09T19:36:52.229Z"
        ],
        [
         "OFF-PA-10002195",
         "Xerox 1966",
         "Paper",
         "Office Supplies",
         "Retail CSV",
         "2024-09-09T19:36:52.229Z"
        ],
        [
         "OFF-PA-10003134",
         "Xerox 1937",
         "Paper",
         "Office Supplies",
         "Retail CSV",
         "2024-09-09T19:36:52.229Z"
        ],
        [
         "FUR-FU-10000260",
         "\"6\"\" Cubicle Wall Clock",
         "Furnishings",
         "Furniture",
         "Retail CSV",
         "2024-09-09T19:36:52.229Z"
        ],
        [
         "OFF-BI-10004002",
         "Wilson Jones International Size A4 Ring Binders",
         "Binders",
         "Office Supplies",
         "Retail CSV",
         "2024-09-09T19:36:52.229Z"
        ],
        [
         "OFF-AR-10003560",
         "Zebra Zazzle Fluorescent Highlighters",
         "Art",
         "Office Supplies",
         "Retail CSV",
         "2024-09-09T19:36:52.229Z"
        ],
        [
         "TEC-MA-10003979",
         "Ativa V4110MDD Micro-Cut Shredder",
         "Machines",
         "Technology",
         "Retail CSV",
         "2024-09-09T19:36:52.229Z"
        ],
        [
         "TEC-PH-10001061",
         "Apple iPhone 5C",
         "Phones",
         "Technology",
         "Retail CSV",
         "2024-09-09T19:36:52.229Z"
        ],
        [
         "OFF-LA-10003121",
         "Avery 506",
         "Labels",
         "Office Supplies",
         "Retail CSV",
         "2024-09-09T19:36:52.229Z"
        ],
        [
         "TEC-PH-10000038",
         "Jawbone MINI JAMBOX Wireless Bluetooth Speaker",
         "Phones",
         "Technology",
         "Retail CSV",
         "2024-09-09T19:36:52.229Z"
        ],
        [
         "OFF-AP-10000828",
         "Avanti 4.4 Cu. Ft. Refrigerator",
         "Appliances",
         "Office Supplies",
         "Retail CSV",
         "2024-09-09T19:36:52.229Z"
        ],
        [
         "OFF-ST-10003470",
         "Tennsco Snap-Together Open Shelving Units, Starter Sets and Add-On Units",
         "Storage",
         "Office Supplies",
         "Retail CSV",
         "2024-09-09T19:36:52.229Z"
        ],
        [
         "FUR-FU-10004053",
         "DAX Two-Tone Silver Metal Document Frame",
         "Furnishings",
         "Furniture",
         "Retail CSV",
         "2024-09-09T19:36:52.229Z"
        ],
        [
         "OFF-ST-10001713",
         "Gould Plastics 9-Pocket Panel Bin, 18-3/8w x 5-1/4d x 20-1/2h, Black",
         "Storage",
         "Office Supplies",
         "Retail CSV",
         "2024-09-09T19:36:52.229Z"
        ],
        [
         "FUR-CH-10002965",
         "Global Leather Highback Executive Chair with Pneumatic Height Adjustment, Black",
         "Chairs",
         "Furniture",
         "Retail CSV",
         "2024-09-09T19:36:52.229Z"
        ],
        [
         "TEC-PH-10003645",
         "Aastra 57i VoIP phone",
         "Phones",
         "Technology",
         "Retail CSV",
         "2024-09-09T19:36:52.229Z"
        ],
        [
         "TEC-CO-10003236",
         "Canon Image Class D660 Copier",
         "Copiers",
         "Technology",
         "Retail CSV",
         "2024-09-09T19:36:52.229Z"
        ],
        [
         "FUR-CH-10002304",
         "Global Stack Chair without Arms, Black",
         "Chairs",
         "Furniture",
         "Retail CSV",
         "2024-09-09T19:36:52.229Z"
        ],
        [
         "FUR-CH-10003846",
         "Hon Valutask Swivel Chairs",
         "Chairs",
         "Furniture",
         "Retail CSV",
         "2024-09-09T19:36:52.229Z"
        ],
        [
         "OFF-AR-10001725",
         "Boston Home & Office Model 2000 Electric Pencil Sharpeners",
         "Art",
         "Office Supplies",
         "Retail CSV",
         "2024-09-09T19:36:52.229Z"
        ],
        [
         "OFF-LA-10004178",
         "Avery 491",
         "Labels",
         "Office Supplies",
         "Retail CSV",
         "2024-09-09T19:36:52.229Z"
        ],
        [
         "OFF-EN-10004030",
         "Convenience Packs of Business Envelopes",
         "Envelopes",
         "Office Supplies",
         "Retail CSV",
         "2024-09-09T19:36:52.229Z"
        ],
        [
         "TEC-AC-10004901",
         "Kensington SlimBlade Notebook Wireless Mouse with Nano Receiver ",
         "Accessories",
         "Technology",
         "Retail CSV",
         "2024-09-09T19:36:52.229Z"
        ],
        [
         "OFF-AR-10001988",
         "Bulldog Table or Wall-Mount Pencil Sharpener",
         "Art",
         "Office Supplies",
         "Retail CSV",
         "2024-09-09T19:36:52.229Z"
        ],
        [
         "OFF-PA-10004735",
         "Xerox 1905",
         "Paper",
         "Office Supplies",
         "Retail CSV",
         "2024-09-09T19:36:52.229Z"
        ],
        [
         "OFF-AP-10003849",
         "Hoover Shoulder Vac Commercial Portable Vacuum",
         "Appliances",
         "Office Supplies",
         "Retail CSV",
         "2024-09-09T19:36:52.229Z"
        ],
        [
         "FUR-CH-10002017",
         "SAFCO Optional Arm Kit for Workspace Cribbage Stacking Chair",
         "Chairs",
         "Furniture",
         "Retail CSV",
         "2024-09-09T19:36:52.229Z"
        ],
        [
         "OFF-EN-10003286",
         "Staple envelope",
         "Envelopes",
         "Office Supplies",
         "Retail CSV",
         "2024-09-09T19:36:52.229Z"
        ],
        [
         "OFF-PA-10000565",
         "Easy-staple paper",
         "Paper",
         "Office Supplies",
         "Retail CSV",
         "2024-09-09T19:36:52.229Z"
        ],
        [
         "TEC-PH-10002584",
         "Samsung Galaxy S4",
         "Phones",
         "Technology",
         "Retail CSV",
         "2024-09-09T19:36:52.229Z"
        ],
        [
         "TEC-PH-10002817",
         "RCA ViSYS 25425RE1 Corded phone",
         "Phones",
         "Technology",
         "Retail CSV",
         "2024-09-09T19:36:52.229Z"
        ],
        [
         "TEC-AC-10001552",
         "Logitech K350 2.4Ghz Wireless Keyboard",
         "Accessories",
         "Technology",
         "Retail CSV",
         "2024-09-09T19:36:52.229Z"
        ],
        [
         "OFF-BI-10004995",
         "GBC DocuBind P400 Electric Binding System",
         "Binders",
         "Office Supplies",
         "Retail CSV",
         "2024-09-09T19:36:52.229Z"
        ],
        [
         "FUR-CH-10000225",
         "Global Geo Office Task Chair, Gray",
         "Chairs",
         "Furniture",
         "Retail CSV",
         "2024-09-09T19:36:52.229Z"
        ],
        [
         "OFF-BI-10001098",
         "Acco D-Ring Binder w/DublLock",
         "Binders",
         "Office Supplies",
         "Retail CSV",
         "2024-09-09T19:36:52.229Z"
        ],
        [
         "FUR-BO-10004218",
         "Bush Heritage Pine Collection 5-Shelf Bookcase, Albany Pine Finish, *Special Order",
         "Bookcases",
         "Furniture",
         "Retail CSV",
         "2024-09-09T19:36:52.229Z"
        ],
        [
         "OFF-PA-10000295",
         "Xerox 229",
         "Paper",
         "Office Supplies",
         "Retail CSV",
         "2024-09-09T19:36:52.229Z"
        ],
        [
         "OFF-PA-10001837",
         "Xerox 1976",
         "Paper",
         "Office Supplies",
         "Retail CSV",
         "2024-09-09T19:36:52.229Z"
        ],
        [
         "OFF-AP-10003099",
         "Eureka Hand Vacuum, Bagless",
         "Appliances",
         "Office Supplies",
         "Retail CSV",
         "2024-09-09T19:36:52.229Z"
        ],
        [
         "OFF-AR-10002833",
         "Newell 322",
         "Art",
         "Office Supplies",
         "Retail CSV",
         "2024-09-09T19:36:52.229Z"
        ],
        [
         "FUR-CH-10003061",
         "Global Leather Task Chair, Black",
         "Chairs",
         "Furniture",
         "Retail CSV",
         "2024-09-09T19:36:52.229Z"
        ],
        [
         "OFF-LA-10000134",
         "Avery 511",
         "Labels",
         "Office Supplies",
         "Retail CSV",
         "2024-09-09T19:36:52.229Z"
        ],
        [
         "OFF-PA-10002036",
         "Xerox 1930",
         "Paper",
         "Office Supplies",
         "Retail CSV",
         "2024-09-09T19:36:52.229Z"
        ],
        [
         "OFF-AR-10004022",
         "Panasonic KP-380BK Classic Electric Pencil Sharpener",
         "Art",
         "Office Supplies",
         "Retail CSV",
         "2024-09-09T19:36:52.229Z"
        ],
        [
         "OFF-PA-10000809",
         "Xerox 206",
         "Paper",
         "Office Supplies",
         "Retail CSV",
         "2024-09-09T19:36:52.229Z"
        ],
        [
         "FUR-TA-10004767",
         "Safco Drafting Table",
         "Tables",
         "Furniture",
         "Retail CSV",
         "2024-09-09T19:36:52.229Z"
        ],
        [
         "TEC-PH-10004345",
         "Cisco SPA 502G IP Phone",
         "Phones",
         "Technology",
         "Retail CSV",
         "2024-09-09T19:36:52.229Z"
        ],
        [
         "FUR-FU-10004671",
         "\"Executive Impressions 12\"\" Wall Clock\"",
         "Furnishings",
         "Furniture",
         "Retail CSV",
         "2024-09-09T19:36:52.229Z"
        ],
        [
         "OFF-ST-10000107",
         "Fellowes Super Stor/Drawer",
         "Storage",
         "Office Supplies",
         "Retail CSV",
         "2024-09-09T19:36:52.229Z"
        ],
        [
         "TEC-CO-10001449",
         "Hewlett Packard LaserJet 3310 Copier",
         "Copiers",
         "Technology",
         "Retail CSV",
         "2024-09-09T19:36:52.229Z"
        ],
        [
         "TEC-PH-10000702",
         "\"Square Credit Card Reader, 4 1/2\"\" x 4 1/2\"\" x 1\"\"",
         "Phones",
         "Technology",
         "Retail CSV",
         "2024-09-09T19:36:52.229Z"
        ],
        [
         "OFF-ST-10003306",
         "Letter Size Cart",
         "Storage",
         "Office Supplies",
         "Retail CSV",
         "2024-09-09T19:36:52.229Z"
        ],
        [
         "OFF-AP-10001271",
         "Eureka The Boss Cordless Rechargeable Stick Vac",
         "Appliances",
         "Office Supplies",
         "Retail CSV",
         "2024-09-09T19:36:52.229Z"
        ],
        [
         "FUR-BO-10004409",
         "Safco Value Mate Series Steel Bookcases, Baked Enamel Finish on Steel, Gray",
         "Bookcases",
         "Furniture",
         "Retail CSV",
         "2024-09-09T19:36:52.229Z"
        ],
        [
         "OFF-BI-10000014",
         "Heavy-Duty E-Z-D Binders",
         "Binders",
         "Office Supplies",
         "Retail CSV",
         "2024-09-09T19:36:52.229Z"
        ],
        [
         "OFF-FA-10002280",
         "Advantus Plastic Paper Clips",
         "Fasteners",
         "Office Supplies",
         "Retail CSV",
         "2024-09-09T19:36:52.229Z"
        ],
        [
         "TEC-PH-10003505",
         "Geemarc AmpliPOWER60",
         "Phones",
         "Technology",
         "Retail CSV",
         "2024-09-09T19:36:52.229Z"
        ],
        [
         "OFF-FA-10003021",
         "Staples",
         "Fasteners",
         "Office Supplies",
         "Retail CSV",
         "2024-09-09T19:36:52.229Z"
        ],
        [
         "OFF-FA-10000936",
         "Acco Hot Clips Clips to Go",
         "Fasteners",
         "Office Supplies",
         "Retail CSV",
         "2024-09-09T19:36:52.229Z"
        ],
        [
         "OFF-PA-10000726",
         "\"Black Print Carbonless Snap-Off Rapid Letter, 8 1/2\"\" x 7\"\"\"",
         "Paper",
         "Office Supplies",
         "Retail CSV",
         "2024-09-09T19:36:52.229Z"
        ],
        [
         "TEC-PH-10002350",
         "Apple EarPods with Remote and Mic",
         "Phones",
         "Technology",
         "Retail CSV",
         "2024-09-09T19:36:52.229Z"
        ],
        [
         "OFF-AP-10000595",
         "Disposable Triple-Filter Dust Bags",
         "Appliances",
         "Office Supplies",
         "Retail CSV",
         "2024-09-09T19:36:52.229Z"
        ],
        [
         "FUR-CH-10000454",
         "Hon Deluxe Fabric Upholstered Stacking Chairs, Rounded Back",
         "Chairs",
         "Furniture",
         "Retail CSV",
         "2024-09-09T19:36:52.229Z"
        ],
        [
         "TEC-AC-10003499",
         "Memorex Mini Travel Drive 8 GB USB 2.0 Flash Drive",
         "Accessories",
         "Technology",
         "Retail CSV",
         "2024-09-09T19:36:52.229Z"
        ],
        [
         "OFF-BI-10001543",
         "GBC VeloBinder Manual Binding System",
         "Binders",
         "Office Supplies",
         "Retail CSV",
         "2024-09-09T19:36:52.229Z"
        ],
        [
         "FUR-TA-10002530",
         "\"Iceberg OfficeWorks 42\"\" Round Tables\"",
         "Tables",
         "Furniture",
         "Retail CSV",
         "2024-09-09T19:36:52.229Z"
        ],
        [
         "TEC-PH-10003811",
         "Jabra Supreme Plus Driver Edition Headset",
         "Phones",
         "Technology",
         "Retail CSV",
         "2024-09-09T19:36:52.229Z"
        ],
        [
         "FUR-FU-10001546",
         "Dana Swing-Arm Lamps",
         "Furnishings",
         "Furniture",
         "Retail CSV",
         "2024-09-09T19:36:52.229Z"
        ],
        [
         "OFF-EN-10001453",
         "\"Tyvek Interoffice Envelopes, 9 1/2\"\" x 12 1/2\"\"",
         "Envelopes",
         "Office Supplies",
         "Retail CSV",
         "2024-09-09T19:36:52.229Z"
        ],
        [
         "FUR-TA-10003748",
         "Bevis 36 x 72 Conference Tables",
         "Tables",
         "Furniture",
         "Retail CSV",
         "2024-09-09T19:36:52.229Z"
        ],
        [
         "OFF-EN-10000483",
         "White Envelopes, White Envelopes with Clear Poly Window",
         "Envelopes",
         "Office Supplies",
         "Retail CSV",
         "2024-09-09T19:36:52.229Z"
        ],
        [
         "TEC-AC-10004571",
         "Logitech G700s Rechargeable Gaming Mouse",
         "Accessories",
         "Technology",
         "Retail CSV",
         "2024-09-09T19:36:52.229Z"
        ],
        [
         "OFF-ST-10002743",
         "SAFCO Boltless Steel Shelving",
         "Storage",
         "Office Supplies",
         "Retail CSV",
         "2024-09-09T19:36:52.229Z"
        ],
        [
         "OFF-BI-10002103",
         "Cardinal Slant-D Ring Binder, Heavy Gauge Vinyl",
         "Binders",
         "Office Supplies",
         "Retail CSV",
         "2024-09-09T19:36:52.229Z"
        ],
        [
         "OFF-ST-10000344",
         "Neat Ideas Personal Hanging Folder Files, Black",
         "Storage",
         "Office Supplies",
         "Retail CSV",
         "2024-09-09T19:36:52.229Z"
        ],
        [
         "OFF-BI-10002353",
         "GBC VeloBind Cover Sets",
         "Binders",
         "Office Supplies",
         "Retail CSV",
         "2024-09-09T19:36:52.229Z"
        ],
        [
         "OFF-PA-10000327",
         "Xerox 1971",
         "Paper",
         "Office Supplies",
         "Retail CSV",
         "2024-09-09T19:36:52.229Z"
        ],
        [
         "TEC-PH-10002415",
         "Polycom VoiceStation 500 Conference phone",
         "Phones",
         "Technology",
         "Retail CSV",
         "2024-09-09T19:36:52.229Z"
        ],
        [
         "OFF-LA-10004677",
         "Self-Adhesive Address Labels for Typewriters with Dispenser Box",
         "Labels",
         "Office Supplies",
         "Retail CSV",
         "2024-09-09T19:36:52.229Z"
        ],
        [
         "OFF-PA-10000482",
         "Snap-A-Way Black Print Carbonless Ruled Speed Letter, Triplicate",
         "Paper",
         "Office Supplies",
         "Retail CSV",
         "2024-09-09T19:36:52.229Z"
        ],
        [
         "OFF-ST-10000689",
         "Fellowes Strictly Business Drawer File, Letter/Legal Size",
         "Storage",
         "Office Supplies",
         "Retail CSV",
         "2024-09-09T19:36:52.229Z"
        ],
        [
         "TEC-AC-10001432",
         "Enermax Aurora Lite Keyboard",
         "Accessories",
         "Technology",
         "Retail CSV",
         "2024-09-09T19:36:52.229Z"
        ],
        [
         "OFF-BI-10001628",
         "\"Acco Data Flex Cable Posts For Top & Bottom Load Binders, 6\"\" Capacity\"",
         "Binders",
         "Office Supplies",
         "Retail CSV",
         "2024-09-09T19:36:52.229Z"
        ],
        [
         "TEC-PH-10001305",
         "Panasonic KX TS208W Corded phone",
         "Phones",
         "Technology",
         "Retail CSV",
         "2024-09-09T19:36:52.229Z"
        ],
        [
         "TEC-PH-10001468",
         "Panasonic Business Telephones KX-T7736",
         "Phones",
         "Technology",
         "Retail CSV",
         "2024-09-09T19:36:52.229Z"
        ],
        [
         "OFF-ST-10000760",
         "Eldon Fold 'N Roll Cart System",
         "Storage",
         "Office Supplies",
         "Retail CSV",
         "2024-09-09T19:36:52.229Z"
        ],
        [
         "OFF-AP-10002311",
         "Holmes Replacement Filter for HEPA Air Cleaner, Very Large Room, HEPA Filter",
         "Appliances",
         "Office Supplies",
         "Retail CSV",
         "2024-09-09T19:36:52.229Z"
        ],
        [
         "OFF-BI-10000831",
         "Storex Flexible Poly Binders with Double Pockets",
         "Binders",
         "Office Supplies",
         "Retail CSV",
         "2024-09-09T19:36:52.229Z"
        ],
        [
         "TEC-PH-10003555",
         "Motorola HK250 Universal Bluetooth Headset",
         "Phones",
         "Technology",
         "Retail CSV",
         "2024-09-09T19:36:52.229Z"
        ],
        [
         "OFF-EN-10002230",
         "Airmail Envelopes",
         "Envelopes",
         "Office Supplies",
         "Retail CSV",
         "2024-09-09T19:36:52.229Z"
        ],
        [
         "TEC-PH-10002923",
         "Logitech B530 USB Headset - headset - Full size, Binaural",
         "Phones",
         "Technology",
         "Retail CSV",
         "2024-09-09T19:36:52.229Z"
        ],
        [
         "FUR-BO-10003441",
         "Bush Westfield Collection Bookcases, Fully Assembled",
         "Bookcases",
         "Furniture",
         "Retail CSV",
         "2024-09-09T19:36:52.229Z"
        ],
        [
         "OFF-BI-10003727",
         "Avery Durable Slant Ring Binders With Label Holder",
         "Binders",
         "Office Supplies",
         "Retail CSV",
         "2024-09-09T19:36:52.229Z"
        ],
        [
         "FUR-FU-10003691",
         "Eldon Image Series Desk Accessories, Ebony",
         "Furnishings",
         "Furniture",
         "Retail CSV",
         "2024-09-09T19:36:52.229Z"
        ],
        [
         "TEC-PH-10003437",
         "Blue Parrot B250XT Professional Grade Wireless Bluetooth Headset with",
         "Phones",
         "Technology",
         "Retail CSV",
         "2024-09-09T19:36:52.229Z"
        ],
        [
         "OFF-EN-10000781",
         "\"#10- 4 1/8\"\" x 9 1/2\"\" Recycled Envelopes\"",
         "Envelopes",
         "Office Supplies",
         "Retail CSV",
         "2024-09-09T19:36:52.229Z"
        ],
        [
         "OFF-AP-10002534",
         "3.6 Cubic Foot Counter Height Office Refrigerator",
         "Appliances",
         "Office Supplies",
         "Retail CSV",
         "2024-09-09T19:36:52.229Z"
        ],
        [
         "OFF-BI-10002799",
         "SlimView Poly Binder, 3/8\"\"",
         "Binders",
         "Office Supplies",
         "Retail CSV",
         "2024-09-09T19:36:52.229Z"
        ],
        [
         "TEC-AC-10004859",
         "Maxell Pro 80 Minute CD-R, 10/Pack",
         "Accessories",
         "Technology",
         "Retail CSV",
         "2024-09-09T19:36:52.229Z"
        ],
        [
         "OFF-LA-10003720",
         "Avery 487",
         "Labels",
         "Office Supplies",
         "Retail CSV",
         "2024-09-09T19:36:52.229Z"
        ],
        [
         "OFF-AR-10001761",
         "Avery Hi-Liter Smear-Safe Highlighters",
         "Art",
         "Office Supplies",
         "Retail CSV",
         "2024-09-09T19:36:52.229Z"
        ],
        [
         "OFF-PA-10001826",
         "Xerox 207",
         "Paper",
         "Office Supplies",
         "Retail CSV",
         "2024-09-09T19:36:52.229Z"
        ],
        [
         "OFF-LA-10004544",
         "Avery 505",
         "Labels",
         "Office Supplies",
         "Retail CSV",
         "2024-09-09T19:36:52.229Z"
        ],
        [
         "FUR-TA-10001705",
         "Bush Advantage Collection Round Conference Table",
         "Tables",
         "Furniture",
         "Retail CSV",
         "2024-09-09T19:36:52.229Z"
        ],
        [
         "OFF-PA-10004530",
         "Personal Creations Ink Jet Cards and Labels",
         "Paper",
         "Office Supplies",
         "Retail CSV",
         "2024-09-09T19:36:52.229Z"
        ],
        [
         "FUR-FU-10001940",
         "Staple-based wall hangings",
         "Furnishings",
         "Furniture",
         "Retail CSV",
         "2024-09-09T19:36:52.229Z"
        ],
        [
         "TEC-AC-10003447",
         "Micropad Numeric Keypads",
         "Accessories",
         "Technology",
         "Retail CSV",
         "2024-09-09T19:36:52.229Z"
        ],
        [
         "OFF-AR-10002952",
         "Stanley Contemporary Battery Pencil Sharpeners",
         "Art",
         "Office Supplies",
         "Retail CSV",
         "2024-09-09T19:36:52.229Z"
        ],
        [
         "FUR-FU-10002501",
         "Nu-Dell Executive Frame",
         "Furnishings",
         "Furniture",
         "Retail CSV",
         "2024-09-09T19:36:52.229Z"
        ],
        [
         "TEC-PH-10004434",
         "Cisco IP Phone 7961G VoIP phone - Dark gray",
         "Phones",
         "Technology",
         "Retail CSV",
         "2024-09-09T19:36:52.229Z"
        ],
        [
         "OFF-AP-10003622",
         "Bravo II Megaboss 12-Amp Hard Body Upright, Replacement Belts, 2 Belts per Pack",
         "Appliances",
         "Office Supplies",
         "Retail CSV",
         "2024-09-09T19:36:52.229Z"
        ],
        [
         "FUR-FU-10001756",
         "Eldon Expressions Desk Accessory, Wood Photo Frame, Mahogany",
         "Furnishings",
         "Furniture",
         "Retail CSV",
         "2024-09-09T19:36:52.229Z"
        ],
        [
         "OFF-BI-10001670",
         "Vinyl Sectional Post Binders",
         "Binders",
         "Office Supplies",
         "Retail CSV",
         "2024-09-09T19:36:52.229Z"
        ],
        [
         "OFF-BI-10001765",
         "Wilson Jones Heavy-Duty Casebound Ring Binders with Metal Hinges",
         "Binders",
         "Office Supplies",
         "Retail CSV",
         "2024-09-09T19:36:52.229Z"
        ],
        [
         "OFF-LA-10000443",
         "Avery 501",
         "Labels",
         "Office Supplies",
         "Retail CSV",
         "2024-09-09T19:36:52.229Z"
        ],
        [
         "FUR-FU-10002107",
         "Eldon Pizzaz Desk Accessories",
         "Furnishings",
         "Furniture",
         "Retail CSV",
         "2024-09-09T19:36:52.229Z"
        ],
        [
         "FUR-FU-10004909",
         "Contemporary Wood/Metal Frame",
         "Furnishings",
         "Furniture",
         "Retail CSV",
         "2024-09-09T19:36:52.229Z"
        ],
        [
         "OFF-BI-10000174",
         "Wilson Jones Clip & Carry Folder Binder Tool for Ring Binders, Clear",
         "Binders",
         "Office Supplies",
         "Retail CSV",
         "2024-09-09T19:36:52.229Z"
        ],
        [
         "OFF-PA-10003363",
         "Xerox 204",
         "Paper",
         "Office Supplies",
         "Retail CSV",
         "2024-09-09T19:36:52.229Z"
        ],
        [
         "OFF-AR-10002467",
         "Dixon Ticonderoga Pencils",
         "Art",
         "Office Supplies",
         "Retail CSV",
         "2024-09-09T19:36:52.229Z"
        ],
        [
         "FUR-TA-10004289",
         "BoxOffice By Design Rectangular and Half-Moon Meeting Room Tables",
         "Tables",
         "Furniture",
         "Retail CSV",
         "2024-09-09T19:36:52.229Z"
        ],
        [
         "OFF-AR-10000034",
         "BIC Brite Liner Grip Highlighters, Assorted, 5/Pack",
         "Art",
         "Office Supplies",
         "Retail CSV",
         "2024-09-09T19:36:52.229Z"
        ],
        [
         "OFF-AR-10000716",
         "DIXON Ticonderoga Erasable Checking Pencils",
         "Art",
         "Office Supplies",
         "Retail CSV",
         "2024-09-09T19:36:52.229Z"
        ],
        [
         "OFF-ST-10000676",
         "Fellowes Econo/Stor Drawers",
         "Storage",
         "Office Supplies",
         "Retail CSV",
         "2024-09-09T19:36:52.229Z"
        ],
        [
         "OFF-AP-10000159",
         "Belkin F9M820V08 8 Outlet Surge",
         "Appliances",
         "Office Supplies",
         "Retail CSV",
         "2024-09-09T19:36:52.229Z"
        ],
        [
         "OFF-PA-10004948",
         "Xerox 190",
         "Paper",
         "Office Supplies",
         "Retail CSV",
         "2024-09-09T19:36:52.229Z"
        ],
        [
         "TEC-PH-10004094",
         "Motorola L703CM",
         "Phones",
         "Technology",
         "Retail CSV",
         "2024-09-09T19:36:52.229Z"
        ],
        [
         "OFF-AP-10004487",
         "Kensington 4 Outlet MasterPiece Compact Power Control Center",
         "Appliances",
         "Office Supplies",
         "Retail CSV",
         "2024-09-09T19:36:52.229Z"
        ],
        [
         "TEC-PH-10000148",
         "Cyber Acoustics AC-202b Speech Recognition Stereo Headset",
         "Phones",
         "Technology",
         "Retail CSV",
         "2024-09-09T19:36:52.229Z"
        ],
        [
         "OFF-AR-10000422",
         "Pencil and Crayon Sharpener",
         "Art",
         "Office Supplies",
         "Retail CSV",
         "2024-09-09T19:36:52.229Z"
        ],
        [
         "FUR-FU-10003981",
         "Eldon Wave Desk Accessories",
         "Furnishings",
         "Furniture",
         "Retail CSV",
         "2024-09-09T19:36:52.229Z"
        ],
        [
         "TEC-PH-10001079",
         "Polycom SoundPoint Pro SE-225 Corded phone",
         "Phones",
         "Technology",
         "Retail CSV",
         "2024-09-09T19:36:52.229Z"
        ],
        [
         "OFF-BI-10001553",
         "SpineVue Locking Slant-D Ring Binders by Cardinal",
         "Binders",
         "Office Supplies",
         "Retail CSV",
         "2024-09-09T19:36:52.229Z"
        ],
        [
         "FUR-FU-10001979",
         "Dana Halogen Swing-Arm Architect Lamp",
         "Furnishings",
         "Furniture",
         "Retail CSV",
         "2024-09-09T19:36:52.229Z"
        ],
        [
         "OFF-BI-10000848",
         "Angle-D Ring Binders",
         "Binders",
         "Office Supplies",
         "Retail CSV",
         "2024-09-09T19:36:52.229Z"
        ],
        [
         "OFF-BI-10002824",
         "Recycled Easel Ring Binders",
         "Binders",
         "Office Supplies",
         "Retail CSV",
         "2024-09-09T19:36:52.229Z"
        ],
        [
         "FUR-FU-10003975",
         "Eldon Advantage Chair Mats for Low to Medium Pile Carpets",
         "Furnishings",
         "Furniture",
         "Retail CSV",
         "2024-09-09T19:36:52.229Z"
        ],
        [
         "TEC-PH-10002468",
         "Plantronics CS 50-USB - headset - Convertible, Monaural",
         "Phones",
         "Technology",
         "Retail CSV",
         "2024-09-09T19:36:52.229Z"
        ],
        [
         "TEC-AC-10000199",
         "Kingston Digital DataTraveler 8GB USB 2.0",
         "Accessories",
         "Technology",
         "Retail CSV",
         "2024-09-09T19:36:52.229Z"
        ],
        [
         "TEC-PH-10004522",
         "Dexim XPower Skin Super-Thin Power Case for iPhone 5 - Black",
         "Phones",
         "Technology",
         "Retail CSV",
         "2024-09-09T19:36:52.229Z"
        ],
        [
         "OFF-AP-10001634",
         "Hoover Commercial Lightweight Upright Vacuum",
         "Appliances",
         "Office Supplies",
         "Retail CSV",
         "2024-09-09T19:36:52.229Z"
        ],
        [
         "OFF-SU-10002189",
         "Acme Rosewood Handle Letter Opener",
         "Supplies",
         "Office Supplies",
         "Retail CSV",
         "2024-09-09T19:36:52.229Z"
        ],
        [
         "TEC-PH-10001700",
         "Panasonic KX-TG6844B Expandable Digital Cordless Telephone",
         "Phones",
         "Technology",
         "Retail CSV",
         "2024-09-09T19:36:52.229Z"
        ],
        [
         "FUR-FU-10000087",
         "\"Executive Impressions 14\"\" Two-Color Numerals Wall Clock\"",
         "Furnishings",
         "Furniture",
         "Retail CSV",
         "2024-09-09T19:36:52.229Z"
        ],
        [
         "OFF-AR-10002399",
         "Dixon Prang Watercolor Pencils, 10-Color Set with Brush",
         "Art",
         "Office Supplies",
         "Retail CSV",
         "2024-09-09T19:36:52.229Z"
        ],
        [
         "FUR-TA-10000617",
         "Hon Practical Foundations 30 x 60 Training Table, Light Gray/Charcoal",
         "Tables",
         "Furniture",
         "Retail CSV",
         "2024-09-09T19:36:52.229Z"
        ],
        [
         "OFF-ST-10002444",
         "Recycled Eldon Regeneration Jumbo File",
         "Storage",
         "Office Supplies",
         "Retail CSV",
         "2024-09-09T19:36:52.229Z"
        ],
        [
         "OFF-ST-10003722",
         "Project Tote Personal File",
         "Storage",
         "Office Supplies",
         "Retail CSV",
         "2024-09-09T19:36:52.229Z"
        ],
        [
         "OFF-EN-10003134",
         "Staple envelope",
         "Envelopes",
         "Office Supplies",
         "Retail CSV",
         "2024-09-09T19:36:52.229Z"
        ],
        [
         "OFF-PA-10000533",
         "Southworth Parchment Paper & Envelopes",
         "Paper",
         "Office Supplies",
         "Retail CSV",
         "2024-09-09T19:36:52.229Z"
        ],
        [
         "FUR-FU-10004748",
         "\"Howard Miller 16\"\" Diameter Gallery Wall Clock\"",
         "Furnishings",
         "Furniture",
         "Retail CSV",
         "2024-09-09T19:36:52.229Z"
        ],
        [
         "FUR-BO-10003404",
         "Global Adaptabilites Bookcase, Cherry/Storm Gray Finish",
         "Bookcases",
         "Furniture",
         "Retail CSV",
         "2024-09-09T19:36:52.229Z"
        ],
        [
         "OFF-ST-10001034",
         "Eldon File Chest Portable File",
         "Storage",
         "Office Supplies",
         "Retail CSV",
         "2024-09-09T19:36:52.229Z"
        ],
        [
         "OFF-BI-10002225",
         "\"Square Ring Data Binders, Rigid 75 Pt. Covers, 11\"\" x 14-7/8\"\"\"",
         "Binders",
         "Office Supplies",
         "Retail CSV",
         "2024-09-09T19:36:52.229Z"
        ],
        [
         "OFF-ST-10000142",
         "Deluxe Rollaway Locking File with Drawer",
         "Storage",
         "Office Supplies",
         "Retail CSV",
         "2024-09-09T19:36:52.229Z"
        ],
        [
         "TEC-PH-10000149",
         "Cisco SPA525G2 IP Phone - Wireless",
         "Phones",
         "Technology",
         "Retail CSV",
         "2024-09-09T19:36:52.229Z"
        ],
        [
         "TEC-AC-10001267",
         "Imation 32GB Pocket Pro USB 3.0 Flash Drive - 32 GB - Black - 1 P ...",
         "Accessories",
         "Technology",
         "Retail CSV",
         "2024-09-09T19:36:52.229Z"
        ],
        [
         "OFF-BI-10003350",
         "Acco Expandable Hanging Binders",
         "Binders",
         "Office Supplies",
         "Retail CSV",
         "2024-09-09T19:36:52.229Z"
        ],
        [
         "FUR-FU-10001852",
         "Eldon Regeneration Recycled Desk Accessories, Smoke",
         "Furnishings",
         "Furniture",
         "Retail CSV",
         "2024-09-09T19:36:52.229Z"
        ],
        [
         "OFF-BI-10002976",
         "ACCOHIDE Binder by Acco",
         "Binders",
         "Office Supplies",
         "Retail CSV",
         "2024-09-09T19:36:52.229Z"
        ],
        [
         "OFF-PA-10003893",
         "Xerox 1962",
         "Paper",
         "Office Supplies",
         "Retail CSV",
         "2024-09-09T19:36:52.229Z"
        ],
        [
         "OFF-PA-10000659",
         "TOPS Carbonless Receipt Book, Four 2-3/4 x 7-1/4 Money Receipts per Page",
         "Paper",
         "Office Supplies",
         "Retail CSV",
         "2024-09-09T19:36:52.229Z"
        ],
        [
         "FUR-FU-10000409",
         "GE 4 Foot Flourescent Tube, 40 Watt",
         "Furnishings",
         "Furniture",
         "Retail CSV",
         "2024-09-09T19:36:52.229Z"
        ],
        [
         "OFF-PA-10004381",
         "14-7/8 x 11 Blue Bar Computer Printout Paper",
         "Paper",
         "Office Supplies",
         "Retail CSV",
         "2024-09-09T19:36:52.229Z"
        ],
        [
         "TEC-MA-10000752",
         "Texas Instrument TI-15 Fraction Calculator",
         "Machines",
         "Technology",
         "Retail CSV",
         "2024-09-09T19:36:52.229Z"
        ],
        [
         "TEC-AC-10002167",
         "Imation 8gb Micro Traveldrive Usb 2.0 Flash Drive",
         "Accessories",
         "Technology",
         "Retail CSV",
         "2024-09-09T19:36:52.229Z"
        ],
        [
         "OFF-FA-10000304",
         "Advantus Push Pins",
         "Fasteners",
         "Office Supplies",
         "Retail CSV",
         "2024-09-09T19:36:52.229Z"
        ],
        [
         "OFF-BI-10004182",
         "Economy Binders",
         "Binders",
         "Office Supplies",
         "Retail CSV",
         "2024-09-09T19:36:52.229Z"
        ],
        [
         "OFF-AP-10002118",
         "\"1.7 Cubic Foot Compact \"\"Cube\"\" Office Refrigerators\"",
         "Appliances",
         "Office Supplies",
         "Retail CSV",
         "2024-09-09T19:36:52.229Z"
        ],
        [
         "OFF-ST-10000642",
         "Tennsco Lockers, Gray",
         "Storage",
         "Office Supplies",
         "Retail CSV",
         "2024-09-09T19:36:52.229Z"
        ],
        [
         "OFF-AR-10001374",
         "BIC Brite Liner Highlighters, Chisel Tip",
         "Art",
         "Office Supplies",
         "Retail CSV",
         "2024-09-09T19:36:52.229Z"
        ],
        [
         "FUR-BO-10001601",
         "Sauder Mission Library with Doors, Fruitwood Finish",
         "Bookcases",
         "Furniture",
         "Retail CSV",
         "2024-09-09T19:36:52.229Z"
        ],
        [
         "TEC-AC-10001465",
         "SanDisk Cruzer 64 GB USB Flash Drive",
         "Accessories",
         "Technology",
         "Retail CSV",
         "2024-09-09T19:36:52.229Z"
        ],
        [
         "OFF-PA-10002377",
         "\"Adams Telephone Message Book W/Dividers/Space For Phone Numbers, 5 1/4\"\"X8 1/2\"\"",
         "Paper",
         "Office Supplies",
         "Retail CSV",
         "2024-09-09T19:36:52.229Z"
        ],
        [
         "OFF-EN-10001099",
         "Staple envelope",
         "Envelopes",
         "Office Supplies",
         "Retail CSV",
         "2024-09-09T19:36:52.229Z"
        ],
        [
         "FUR-FU-10003601",
         "Deflect-o RollaMat Studded, Beveled Mat for Medium Pile Carpeting",
         "Furnishings",
         "Furniture",
         "Retail CSV",
         "2024-09-09T19:36:52.229Z"
        ],
        [
         "FUR-TA-10003569",
         "Bretford CR8500 Series Meeting Room Furniture",
         "Tables",
         "Furniture",
         "Retail CSV",
         "2024-09-09T19:36:52.229Z"
        ],
        [
         "TEC-PH-10003601",
         "Ativa D5772 2-Line 5.8GHz Digital Expandable Corded/Cordless Phone System with Answering & Caller ID/Call Waiting, Black/Silver",
         "Phones",
         "Technology",
         "Retail CSV",
         "2024-09-09T19:36:52.229Z"
        ],
        [
         "TEC-PH-10003484",
         "Ooma Telo VoIP Home Phone System",
         "Phones",
         "Technology",
         "Retail CSV",
         "2024-09-09T19:36:52.229Z"
        ],
        [
         "OFF-BI-10004318",
         "Ibico EB-19 Dual Function Manual Binding System",
         "Binders",
         "Office Supplies",
         "Retail CSV",
         "2024-09-09T19:36:52.229Z"
        ],
        [
         "TEC-PH-10003215",
         "Jackery Bar Premium Fast-charging Portable Charger",
         "Phones",
         "Technology",
         "Retail CSV",
         "2024-09-09T19:36:52.229Z"
        ],
        [
         "OFF-ST-10002182",
         "Iris 3-Drawer Stacking Bin, Black",
         "Storage",
         "Office Supplies",
         "Retail CSV",
         "2024-09-09T19:36:52.229Z"
        ],
        [
         "TEC-MA-10002790",
         "NeatDesk Desktop Scanner & Digital Filing System",
         "Machines",
         "Technology",
         "Retail CSV",
         "2024-09-09T19:36:52.229Z"
        ],
        [
         "OFF-SU-10003936",
         "Acme Serrated Blade Letter Opener",
         "Supplies",
         "Office Supplies",
         "Retail CSV",
         "2024-09-09T19:36:52.229Z"
        ],
        [
         "OFF-BI-10003291",
         "Wilson Jones Leather-Like Binders with DublLock Round Rings",
         "Binders",
         "Office Supplies",
         "Retail CSV",
         "2024-09-09T19:36:52.229Z"
        ],
        [
         "OFF-BI-10001072",
         "GBC Clear Cover, 8-1/2 x 11, unpunched, 25 covers per pack",
         "Binders",
         "Office Supplies",
         "Retail CSV",
         "2024-09-09T19:36:52.229Z"
        ],
        [
         "FUR-CH-10002602",
         "DMI Arturo Collection Mission-style Design Wood Chair",
         "Chairs",
         "Furniture",
         "Retail CSV",
         "2024-09-09T19:36:52.229Z"
        ],
        [
         "OFF-LA-10001934",
         "Avery 516",
         "Labels",
         "Office Supplies",
         "Retail CSV",
         "2024-09-09T19:36:52.229Z"
        ],
        [
         "TEC-AC-10002402",
         "Razer Kraken PRO Over Ear PC and Music Headset",
         "Accessories",
         "Technology",
         "Retail CSV",
         "2024-09-09T19:36:52.229Z"
        ],
        [
         "OFF-BI-10000822",
         "\"Acco PRESSTEX Data Binder with Storage Hooks, Light Blue, 9 1/2\"\" X 11\"\"\"",
         "Binders",
         "Office Supplies",
         "Retail CSV",
         "2024-09-09T19:36:52.229Z"
        ],
        [
         "FUR-FU-10001473",
         "DAX Wood Document Frame",
         "Furnishings",
         "Furniture",
         "Retail CSV",
         "2024-09-09T19:36:52.229Z"
        ],
        [
         "FUR-FU-10004270",
         "Eldon Image Series Desk Accessories, Burgundy",
         "Furnishings",
         "Furniture",
         "Retail CSV",
         "2024-09-09T19:36:52.229Z"
        ],
        [
         "TEC-AC-10004855",
         "V7 USB Numeric Keypad",
         "Accessories",
         "Technology",
         "Retail CSV",
         "2024-09-09T19:36:52.229Z"
        ],
        [
         "OFF-SU-10000952",
         "Fiskars Home & Office Scissors",
         "Supplies",
         "Office Supplies",
         "Retail CSV",
         "2024-09-09T19:36:52.229Z"
        ],
        [
         "OFF-AP-10002287",
         "Eureka Sanitaire  Multi-Pro Heavy-Duty Upright, Disposable Bags",
         "Appliances",
         "Office Supplies",
         "Retail CSV",
         "2024-09-09T19:36:52.229Z"
        ],
        [
         "FUR-CH-10000595",
         "Safco Contoured Stacking Chairs",
         "Chairs",
         "Furniture",
         "Retail CSV",
         "2024-09-09T19:36:52.229Z"
        ],
        [
         "OFF-ST-10004634",
         "Personal Folder Holder, Ebony",
         "Storage",
         "Office Supplies",
         "Retail CSV",
         "2024-09-09T19:36:52.229Z"
        ],
        [
         "TEC-AC-10003441",
         "Kingston Digital DataTraveler 32GB USB 2.0",
         "Accessories",
         "Technology",
         "Retail CSV",
         "2024-09-09T19:36:52.229Z"
        ],
        [
         "TEC-MA-10002178",
         "Cisco CP-7937G Unified IP Conference Station Phone",
         "Machines",
         "Technology",
         "Retail CSV",
         "2024-09-09T19:36:52.229Z"
        ],
        [
         "OFF-PA-10004519",
         "Spiral Phone Message Books with Labels by Adams",
         "Paper",
         "Office Supplies",
         "Retail CSV",
         "2024-09-09T19:36:52.229Z"
        ],
        [
         "TEC-AC-10003133",
         "Memorex Mini Travel Drive 4 GB USB 2.0 Flash Drive",
         "Accessories",
         "Technology",
         "Retail CSV",
         "2024-09-09T19:36:52.229Z"
        ],
        [
         "FUR-FU-10001986",
         "Dana Fluorescent Magnifying Lamp, White, 36\"\"",
         "Furnishings",
         "Furniture",
         "Retail CSV",
         "2024-09-09T19:36:52.229Z"
        ],
        [
         "TEC-PH-10001809",
         "Panasonic KX T7736-B Digital phone",
         "Phones",
         "Technology",
         "Retail CSV",
         "2024-09-09T19:36:52.229Z"
        ],
        [
         "FUR-TA-10003469",
         "Balt Split Level Computer Training Table",
         "Tables",
         "Furniture",
         "Retail CSV",
         "2024-09-09T19:36:52.229Z"
        ],
        [
         "OFF-BI-10003656",
         "Fellowes PB200 Plastic Comb Binding Machine",
         "Binders",
         "Office Supplies",
         "Retail CSV",
         "2024-09-09T19:36:52.229Z"
        ],
        [
         "FUR-CH-10000863",
         "Novimex Swivel Fabric Task Chair",
         "Chairs",
         "Furniture",
         "Retail CSV",
         "2024-09-09T19:36:52.229Z"
        ],
        [
         "TEC-AC-10000290",
         "Sabrent 4-Port USB 2.0 Hub",
         "Accessories",
         "Technology",
         "Retail CSV",
         "2024-09-09T19:36:52.229Z"
        ],
        [
         "OFF-BI-10003982",
         "Wilson Jones Century Plastic Molded Ring Binders",
         "Binders",
         "Office Supplies",
         "Retail CSV",
         "2024-09-09T19:36:52.229Z"
        ],
        [
         "OFF-PA-10001667",
         "Great White Multi-Use Recycled Paper (20Lb. and 84 Bright)",
         "Paper",
         "Office Supplies",
         "Retail CSV",
         "2024-09-09T19:36:52.229Z"
        ],
        [
         "OFF-ST-10001325",
         "Sterilite Officeware Hinged File Box",
         "Storage",
         "Office Supplies",
         "Retail CSV",
         "2024-09-09T19:36:52.229Z"
        ],
        [
         "OFF-PA-10000141",
         "\"Ampad Evidence Wirebond Steno Books, 6\"\" x 9\"\"\"",
         "Paper",
         "Office Supplies",
         "Retail CSV",
         "2024-09-09T19:36:52.229Z"
        ],
        [
         "FUR-BO-10000330",
         "Sauder Camden County Barrister Bookcase, Planked Cherry Finish",
         "Bookcases",
         "Furniture",
         "Retail CSV",
         "2024-09-09T19:36:52.229Z"
        ],
        [
         "OFF-LA-10002034",
         "Avery 478",
         "Labels",
         "Office Supplies",
         "Retail CSV",
         "2024-09-09T19:36:52.229Z"
        ],
        [
         "OFF-PA-10001609",
         "Tops Wirebound Message Log Books",
         "Paper",
         "Office Supplies",
         "Retail CSV",
         "2024-09-09T19:36:52.229Z"
        ],
        [
         "OFF-BI-10001078",
         "\"Acco PRESSTEX Data Binder with Storage Hooks, Dark Blue, 14 7/8\"\" X 11\"\"\"",
         "Binders",
         "Office Supplies",
         "Retail CSV",
         "2024-09-09T19:36:52.229Z"
        ],
        [
         "OFF-ST-10002370",
         "Sortfiler Multipurpose Personal File Organizer, Black",
         "Storage",
         "Office Supplies",
         "Retail CSV",
         "2024-09-09T19:36:52.229Z"
        ],
        [
         "OFF-ST-10002974",
         "Trav-L-File Heavy-Duty Shuttle II, Black",
         "Storage",
         "Office Supplies",
         "Retail CSV",
         "2024-09-09T19:36:52.229Z"
        ],
        [
         "OFF-PA-10002377",
         "Xerox 1916",
         "Paper",
         "Office Supplies",
         "Retail CSV",
         "2024-09-09T19:36:52.229Z"
        ],
        [
         "FUR-CH-10004698",
         "Padded Folding Chairs, Black, 4/Carton",
         "Chairs",
         "Furniture",
         "Retail CSV",
         "2024-09-09T19:36:52.229Z"
        ],
        [
         "OFF-AR-10004685",
         "Binney & Smith Crayola Metallic Colored Pencils, 8-Color Set",
         "Art",
         "Office Supplies",
         "Retail CSV",
         "2024-09-09T19:36:52.229Z"
        ],
        [
         "OFF-BI-10004967",
         "Round Ring Binders",
         "Binders",
         "Office Supplies",
         "Retail CSV",
         "2024-09-09T19:36:52.229Z"
        ],
        [
         "FUR-BO-10001337",
         "O'Sullivan Living Dimensions 2-Shelf Bookcases",
         "Bookcases",
         "Furniture",
         "Retail CSV",
         "2024-09-09T19:36:52.229Z"
        ],
        [
         "OFF-AP-10004708",
         "Fellowes Superior 10 Outlet Split Surge Protector",
         "Appliances",
         "Office Supplies",
         "Retail CSV",
         "2024-09-09T19:36:52.229Z"
        ],
        [
         "OFF-FA-10001332",
         "\"Acco Banker's Clasps, 5 3/4\"\"-Long\"",
         "Fasteners",
         "Office Supplies",
         "Retail CSV",
         "2024-09-09T19:36:52.229Z"
        ],
        [
         "TEC-AC-10002345",
         "HP Standard 104 key PS/2 Keyboard",
         "Accessories",
         "Technology",
         "Retail CSV",
         "2024-09-09T19:36:52.229Z"
        ],
        [
         "OFF-AP-10000696",
         "Holmes Odor Grabber",
         "Appliances",
         "Office Supplies",
         "Retail CSV",
         "2024-09-09T19:36:52.229Z"
        ],
        [
         "OFF-LA-10001317",
         "Avery 520",
         "Labels",
         "Office Supplies",
         "Retail CSV",
         "2024-09-09T19:36:52.229Z"
        ],
        [
         "OFF-PA-10003441",
         "Xerox 226",
         "Paper",
         "Office Supplies",
         "Retail CSV",
         "2024-09-09T19:36:52.229Z"
        ],
        [
         "TEC-PH-10003589",
         "invisibleSHIELD by ZAGG Smudge-Free Screen Protector",
         "Phones",
         "Technology",
         "Retail CSV",
         "2024-09-09T19:36:52.229Z"
        ],
        [
         "OFF-EN-10004955",
         "Fashion Color Clasp Envelopes",
         "Envelopes",
         "Office Supplies",
         "Retail CSV",
         "2024-09-09T19:36:52.229Z"
        ],
        [
         "OFF-PA-10000241",
         "IBM Multi-Purpose Copy Paper, 8 1/2 x 11\"",
         "Paper",
         "Office Supplies",
         "Retail CSV",
         "2024-09-09T19:36:52.229Z"
        ],
        [
         "TEC-AC-10004227",
         "SanDisk Ultra 16 GB MicroSDHC Class 10 Memory Card",
         "Accessories",
         "Technology",
         "Retail CSV",
         "2024-09-09T19:36:52.229Z"
        ],
        [
         "OFF-SU-10003567",
         "Stiletto Hand Letter Openers",
         "Supplies",
         "Office Supplies",
         "Retail CSV",
         "2024-09-09T19:36:52.229Z"
        ],
        [
         "OFF-BI-10003984",
         "Lock-Up Easel 'Spel-Binder'",
         "Binders",
         "Office Supplies",
         "Retail CSV",
         "2024-09-09T19:36:52.229Z"
        ],
        [
         "OFF-ST-10004258",
         "Portable Personal File Box",
         "Storage",
         "Office Supplies",
         "Retail CSV",
         "2024-09-09T19:36:52.229Z"
        ],
        [
         "TEC-PH-10002549",
         "Polycom SoundPoint IP 450 VoIP phone",
         "Phones",
         "Technology",
         "Retail CSV",
         "2024-09-09T19:36:52.229Z"
        ],
        [
         "OFF-PA-10001293",
         "Xerox 1946",
         "Paper",
         "Office Supplies",
         "Retail CSV",
         "2024-09-09T19:36:52.229Z"
        ],
        [
         "OFF-ST-10001172",
         "Tennsco Lockers, Sand",
         "Storage",
         "Office Supplies",
         "Retail CSV",
         "2024-09-09T19:36:52.229Z"
        ],
        [
         "OFF-ST-10002957",
         "Sterilite Show Offs Storage Containers",
         "Storage",
         "Office Supplies",
         "Retail CSV",
         "2024-09-09T19:36:52.229Z"
        ],
        [
         "TEC-PH-10004006",
         "Panasonic KX - TS880B Telephone",
         "Phones",
         "Technology",
         "Retail CSV",
         "2024-09-09T19:36:52.229Z"
        ],
        [
         "OFF-AR-10004344",
         "Bulldog Vacuum Base Pencil Sharpener",
         "Art",
         "Office Supplies",
         "Retail CSV",
         "2024-09-09T19:36:52.229Z"
        ],
        [
         "OFF-FA-10004248",
         "Advantus T-Pin Paper Clips",
         "Fasteners",
         "Office Supplies",
         "Retail CSV",
         "2024-09-09T19:36:52.229Z"
        ],
        [
         "OFF-AP-10001469",
         "Fellowes 8 Outlet Superior Workstation Surge Protector",
         "Appliances",
         "Office Supplies",
         "Retail CSV",
         "2024-09-09T19:36:52.229Z"
        ],
        [
         "OFF-ST-10002486",
         "Eldon Shelf Savers Cubes and Bins",
         "Storage",
         "Office Supplies",
         "Retail CSV",
         "2024-09-09T19:36:52.229Z"
        ],
        [
         "OFF-BI-10004826",
         "JM Magazine Binder",
         "Binders",
         "Office Supplies",
         "Retail CSV",
         "2024-09-09T19:36:52.229Z"
        ],
        [
         "FUR-FU-10004622",
         "Eldon Advantage Foldable Chair Mats for Low Pile Carpets",
         "Furnishings",
         "Furniture",
         "Retail CSV",
         "2024-09-09T19:36:52.229Z"
        ],
        [
         "OFF-AR-10002240",
         "Panasonic KP-150 Electric Pencil Sharpener",
         "Art",
         "Office Supplies",
         "Retail CSV",
         "2024-09-09T19:36:52.229Z"
        ],
        [
         "OFF-LA-10003077",
         "Avery 500",
         "Labels",
         "Office Supplies",
         "Retail CSV",
         "2024-09-09T19:36:52.229Z"
        ],
        [
         "OFF-AP-10003281",
         "Acco 6 Outlet Guardian Standard Surge Suppressor",
         "Appliances",
         "Office Supplies",
         "Retail CSV",
         "2024-09-09T19:36:52.229Z"
        ],
        [
         "OFF-AR-10001972",
         "Newell 323",
         "Art",
         "Office Supplies",
         "Retail CSV",
         "2024-09-09T19:36:52.229Z"
        ],
        [
         "FUR-CH-10003968",
         "Novimex Turbo Task Chair",
         "Chairs",
         "Furniture",
         "Retail CSV",
         "2024-09-09T19:36:52.229Z"
        ],
        [
         "OFF-ST-10003442",
         "Eldon Portable Mobile Manager",
         "Storage",
         "Office Supplies",
         "Retail CSV",
         "2024-09-09T19:36:52.229Z"
        ],
        [
         "FUR-FU-10003799",
         "\"Seth Thomas 13 1/2\"\" Wall Clock\"",
         "Furnishings",
         "Furniture",
         "Retail CSV",
         "2024-09-09T19:36:52.229Z"
        ],
        [
         "FUR-FU-10003773",
         "Eldon Cleatmat Plus Chair Mats for High Pile Carpets",
         "Furnishings",
         "Furniture",
         "Retail CSV",
         "2024-09-09T19:36:52.229Z"
        ],
        [
         "OFF-ST-10001469",
         "Fellowes Bankers Box Recycled Super Stor/Drawer",
         "Storage",
         "Office Supplies",
         "Retail CSV",
         "2024-09-09T19:36:52.229Z"
        ],
        [
         "OFF-PA-10002262",
         "Xerox 192",
         "Paper",
         "Office Supplies",
         "Retail CSV",
         "2024-09-09T19:36:52.229Z"
        ],
        [
         "OFF-PA-10000919",
         "Xerox 1918",
         "Paper",
         "Office Supplies",
         "Retail CSV",
         "2024-09-09T19:36:52.229Z"
        ],
        [
         "FUR-FU-10000193",
         "Tenex Chairmats For Use with Hard Floors",
         "Furnishings",
         "Furniture",
         "Retail CSV",
         "2024-09-09T19:36:52.229Z"
        ],
        [
         "TEC-AC-10000521",
         "Verbatim Slim CD and DVD Storage Cases, 50/Pack",
         "Accessories",
         "Technology",
         "Retail CSV",
         "2024-09-09T19:36:52.229Z"
        ],
        [
         "TEC-MA-10000045",
         "Zebra ZM400 Thermal Label Printer",
         "Machines",
         "Technology",
         "Retail CSV",
         "2024-09-09T19:36:52.229Z"
        ],
        [
         "TEC-MA-10001031",
         "Socket Bluetooth Cordless Hand Scanner (CHS)",
         "Machines",
         "Technology",
         "Retail CSV",
         "2024-09-09T19:36:52.229Z"
        ],
        [
         "OFF-PA-10002109",
         "Wirebound Voice Message Log Book",
         "Paper",
         "Office Supplies",
         "Retail CSV",
         "2024-09-09T19:36:52.229Z"
        ],
        [
         "OFF-BI-10000756",
         "Storex DuraTech Recycled Plastic Frosted Binders",
         "Binders",
         "Office Supplies",
         "Retail CSV",
         "2024-09-09T19:36:52.229Z"
        ],
        [
         "OFF-LA-10003923",
         "Alphabetical Labels for Top Tab Filing",
         "Labels",
         "Office Supplies",
         "Retail CSV",
         "2024-09-09T19:36:52.229Z"
        ],
        [
         "OFF-AR-10003958",
         "Newell 337",
         "Art",
         "Office Supplies",
         "Retail CSV",
         "2024-09-09T19:36:52.229Z"
        ],
        [
         "TEC-PH-10001530",
         "Plantronics Voyager Pro Legend",
         "Phones",
         "Technology",
         "Retail CSV",
         "2024-09-09T19:36:52.229Z"
        ],
        [
         "FUR-CH-10001270",
         "Harbour Creations Steel Folding Chair",
         "Chairs",
         "Furniture",
         "Retail CSV",
         "2024-09-09T19:36:52.229Z"
        ],
        [
         "FUR-CH-10001973",
         "Office Star Flex Back Scooter Chair with White Frame",
         "Chairs",
         "Furniture",
         "Retail CSV",
         "2024-09-09T19:36:52.229Z"
        ],
        [
         "FUR-FU-10004091",
         "Eldon 200 Class Desk Accessories, Black",
         "Furnishings",
         "Furniture",
         "Retail CSV",
         "2024-09-09T19:36:52.229Z"
        ],
        [
         "OFF-PA-10004353",
         "Southworth 25% Cotton Premium Laser Paper and Envelopes",
         "Paper",
         "Office Supplies",
         "Retail CSV",
         "2024-09-09T19:36:52.229Z"
        ],
        [
         "FUR-FU-10000747",
         "Tenex B1-RE Series Chair Mats for Low Pile Carpets",
         "Furnishings",
         "Furniture",
         "Retail CSV",
         "2024-09-09T19:36:52.229Z"
        ],
        [
         "OFF-PA-10004040",
         "Universal Premium White Copier/Laser Paper (20Lb. and 87 Bright)",
         "Paper",
         "Office Supplies",
         "Retail CSV",
         "2024-09-09T19:36:52.229Z"
        ],
        [
         "OFF-AR-10003514",
         "4009 Highlighters by Sanford",
         "Art",
         "Office Supplies",
         "Retail CSV",
         "2024-09-09T19:36:52.229Z"
        ],
        [
         "OFF-ST-10002756",
         "\"Tennsco Stur-D-Stor Boltless Shelving, 5 Shelves, 24\"\" Deep",
         "Storage",
         "Office Supplies",
         "Retail CSV",
         "2024-09-09T19:36:52.229Z"
        ],
        [
         "OFF-AP-10000804",
         "Hoover Portapower Portable Vacuum",
         "Appliances",
         "Office Supplies",
         "Retail CSV",
         "2024-09-09T19:36:52.229Z"
        ],
        [
         "TEC-AC-10002253",
         "Imation Bio 8GB USB Flash Drive Imation Corp",
         "Accessories",
         "Technology",
         "Retail CSV",
         "2024-09-09T19:36:52.229Z"
        ],
        [
         "OFF-PA-10002250",
         "Things To Do Today Pad",
         "Paper",
         "Office Supplies",
         "Retail CSV",
         "2024-09-09T19:36:52.229Z"
        ],
        [
         "OFF-PA-10004621",
         "Xerox 212",
         "Paper",
         "Office Supplies",
         "Retail CSV",
         "2024-09-09T19:36:52.229Z"
        ],
        [
         "OFF-ST-10000046",
         "Fellowes Super Stor/Drawer Files",
         "Storage",
         "Office Supplies",
         "Retail CSV",
         "2024-09-09T19:36:52.229Z"
        ],
        [
         "FUR-FU-10003535",
         "Howard Miller Distant Time Traveler Alarm Clock",
         "Furnishings",
         "Furniture",
         "Retail CSV",
         "2024-09-09T19:36:52.229Z"
        ],
        [
         "OFF-PA-10003072",
         "\"Eureka Recycled Copy Paper 8 1/2\"\" x 11\"\"",
         "Paper",
         "Office Supplies",
         "Retail CSV",
         "2024-09-09T19:36:52.229Z"
        ],
        [
         "OFF-BI-10004364",
         "Storex Dura Pro Binders",
         "Binders",
         "Office Supplies",
         "Retail CSV",
         "2024-09-09T19:36:52.229Z"
        ],
        [
         "OFF-PA-10000575",
         "Wirebound Message Books, Four 2 3/4 x 5 White Forms per Page",
         "Paper",
         "Office Supplies",
         "Retail CSV",
         "2024-09-09T19:36:52.229Z"
        ],
        [
         "FUR-FU-10002937",
         "\"GE 48\"\" Fluorescent Tube",
         "Furnishings",
         "Furniture",
         "Retail CSV",
         "2024-09-09T19:36:52.229Z"
        ],
        [
         "TEC-MA-10004679",
         "StarTech.com 10/100 VDSL2 Ethernet Extender Kit",
         "Machines",
         "Technology",
         "Retail CSV",
         "2024-09-09T19:36:52.229Z"
        ],
        [
         "FUR-FU-10004973",
         "Flat Face Poster Frame",
         "Furnishings",
         "Furniture",
         "Retail CSV",
         "2024-09-09T19:36:52.229Z"
        ],
        [
         "OFF-AR-10001177",
         "Newell 349",
         "Art",
         "Office Supplies",
         "Retail CSV",
         "2024-09-09T19:36:52.229Z"
        ],
        [
         "OFF-EN-10003040",
         "Quality Park Security Envelopes",
         "Envelopes",
         "Office Supplies",
         "Retail CSV",
         "2024-09-09T19:36:52.229Z"
        ],
        [
         "FUR-FU-10001876",
         "Computer Room Manger, 14\"\"",
         "Furnishings",
         "Furniture",
         "Retail CSV",
         "2024-09-09T19:36:52.229Z"
        ],
        [
         "OFF-PA-10001593",
         "Xerox 1947",
         "Paper",
         "Office Supplies",
         "Retail CSV",
         "2024-09-09T19:36:52.229Z"
        ],
        [
         "TEC-PH-10002624",
         "Samsung Galaxy S4 Mini",
         "Phones",
         "Technology",
         "Retail CSV",
         "2024-09-09T19:36:52.229Z"
        ],
        [
         "OFF-BI-10000494",
         "Acco Economy Flexible Poly Round Ring Binder",
         "Binders",
         "Office Supplies",
         "Retail CSV",
         "2024-09-09T19:36:52.229Z"
        ]
       ],
       "datasetInfos": [],
       "dbfsResultPath": null,
       "isJsonSchema": true,
       "metadata": {},
       "overflow": false,
       "plotOptions": {
        "customPlotOptions": {},
        "displayType": "table",
        "pivotAggregation": null,
        "pivotColumns": null,
        "xColumns": null,
        "yColumns": null
       },
       "removedWidgets": [],
       "schema": [
        {
         "metadata": "{}",
         "name": "productID",
         "type": "\"string\""
        },
        {
         "metadata": "{}",
         "name": "productName",
         "type": "\"string\""
        },
        {
         "metadata": "{}",
         "name": "subCategory",
         "type": "\"string\""
        },
        {
         "metadata": "{}",
         "name": "category",
         "type": "\"string\""
        },
        {
         "metadata": "{}",
         "name": "source",
         "type": "\"string\""
        },
        {
         "metadata": "{}",
         "name": "ingestionTimestamp",
         "type": "\"timestamp\""
        }
       ],
       "type": "table"
      }
     },
     "output_type": "display_data"
    }
   ],
   "source": [
    "select * from psl_salesdev.silver.product_cleaned"
   ]
  },
  {
   "cell_type": "markdown",
   "metadata": {
    "application/vnd.databricks.v1+cell": {
     "cellMetadata": {},
     "inputWidgets": {},
     "nuid": "3ee0f437-39e8-497d-b631-7b8eeebe8221",
     "showTitle": false,
     "tableResultSettingsMap": {},
     "title": ""
    }
   },
   "source": [
    "####create external delta table"
   ]
  },
  {
   "cell_type": "code",
   "execution_count": 0,
   "metadata": {
    "application/vnd.databricks.v1+cell": {
     "cellMetadata": {
      "byteLimit": 2048000,
      "rowLimit": 10000
     },
     "inputWidgets": {},
     "nuid": "8cabe219-86c3-47da-86d5-1e240557fa10",
     "showTitle": false,
     "tableResultSettingsMap": {},
     "title": ""
    }
   },
   "outputs": [
    {
     "output_type": "display_data",
     "data": {
      "text/html": [
       "<style scoped>\n",
       "  .table-result-container {\n",
       "    max-height: 300px;\n",
       "    overflow: auto;\n",
       "  }\n",
       "  table, th, td {\n",
       "    border: 1px solid black;\n",
       "    border-collapse: collapse;\n",
       "  }\n",
       "  th, td {\n",
       "    padding: 5px;\n",
       "  }\n",
       "  th {\n",
       "    text-align: left;\n",
       "  }\n",
       "</style><div class='table-result-container'><table class='table-result'><thead style='background-color: white'><tr><th>num_affected_rows</th><th>num_inserted_rows</th></tr></thead><tbody></tbody></table></div>"
      ]
     },
     "metadata": {
      "application/vnd.databricks.v1+output": {
       "addedWidgets": {},
       "aggData": [],
       "aggError": "",
       "aggOverflow": false,
       "aggSchema": [],
       "aggSeriesLimitReached": false,
       "aggType": "",
       "arguments": {},
       "columnCustomDisplayInfos": {},
       "data": [],
       "datasetInfos": [],
       "dbfsResultPath": null,
       "isJsonSchema": true,
       "metadata": {},
       "overflow": false,
       "plotOptions": {
        "customPlotOptions": {},
        "displayType": "table",
        "pivotAggregation": null,
        "pivotColumns": null,
        "xColumns": null,
        "yColumns": null
       },
       "removedWidgets": [],
       "schema": [
        {
         "metadata": "{}",
         "name": "num_affected_rows",
         "type": "\"long\""
        },
        {
         "metadata": "{}",
         "name": "num_inserted_rows",
         "type": "\"long\""
        }
       ],
       "type": "table"
      }
     },
     "output_type": "display_data"
    }
   ],
   "source": [
    "create or replace table psl_salesdev.silver.product_cleaned_deltademo \n",
    "using delta \n",
    "options(path 'abfss://sales@storageaccountname.dfs.core.windows.net/silver/product_cleaneddeltademo')\n",
    "as select * from psl_salesdev.silver.product_cleaned"
   ]
  },
  {
   "cell_type": "markdown",
   "metadata": {
    "application/vnd.databricks.v1+cell": {
     "cellMetadata": {},
     "inputWidgets": {},
     "nuid": "331c634e-f6f5-41fd-a1f8-ef4d894a8a3a",
     "showTitle": false,
     "tableResultSettingsMap": {},
     "title": ""
    }
   },
   "source": [
    "####INSERT"
   ]
  },
  {
   "cell_type": "code",
   "execution_count": 0,
   "metadata": {
    "application/vnd.databricks.v1+cell": {
     "cellMetadata": {
      "byteLimit": 2048000,
      "rowLimit": 10000
     },
     "inputWidgets": {},
     "nuid": "e49002fb-5b8f-4dc0-b5ed-71572e764e46",
     "showTitle": false,
     "tableResultSettingsMap": {},
     "title": ""
    }
   },
   "outputs": [
    {
     "output_type": "display_data",
     "data": {
      "text/html": [
       "<style scoped>\n",
       "  .table-result-container {\n",
       "    max-height: 300px;\n",
       "    overflow: auto;\n",
       "  }\n",
       "  table, th, td {\n",
       "    border: 1px solid black;\n",
       "    border-collapse: collapse;\n",
       "  }\n",
       "  th, td {\n",
       "    padding: 5px;\n",
       "  }\n",
       "  th {\n",
       "    text-align: left;\n",
       "  }\n",
       "</style><div class='table-result-container'><table class='table-result'><thead style='background-color: white'><tr><th>num_affected_rows</th><th>num_inserted_rows</th></tr></thead><tbody><tr><td>1</td><td>1</td></tr></tbody></table></div>"
      ]
     },
     "metadata": {
      "application/vnd.databricks.v1+output": {
       "addedWidgets": {},
       "aggData": [],
       "aggError": "",
       "aggOverflow": false,
       "aggSchema": [],
       "aggSeriesLimitReached": false,
       "aggType": "",
       "arguments": {},
       "columnCustomDisplayInfos": {},
       "data": [
        [
         1,
         1
        ]
       ],
       "datasetInfos": [],
       "dbfsResultPath": null,
       "isJsonSchema": true,
       "metadata": {},
       "overflow": false,
       "plotOptions": {
        "customPlotOptions": {},
        "displayType": "table",
        "pivotAggregation": null,
        "pivotColumns": null,
        "xColumns": null,
        "yColumns": null
       },
       "removedWidgets": [],
       "schema": [
        {
         "metadata": "{}",
         "name": "num_affected_rows",
         "type": "\"long\""
        },
        {
         "metadata": "{}",
         "name": "num_inserted_rows",
         "type": "\"long\""
        }
       ],
       "type": "table"
      }
     },
     "output_type": "display_data"
    }
   ],
   "source": [
    "insert into psl_salesdev.silver.product_cleaned_deltademo\n",
    "values(1,'ProductDemo','subCategory1','category1','source1',current_timestamp())"
   ]
  },
  {
   "cell_type": "markdown",
   "metadata": {
    "application/vnd.databricks.v1+cell": {
     "cellMetadata": {},
     "inputWidgets": {},
     "nuid": "abe76d6d-979c-401d-a3dd-23d92cf4de8b",
     "showTitle": false,
     "tableResultSettingsMap": {},
     "title": ""
    }
   },
   "source": [
    "####Check if Insert was succesful"
   ]
  },
  {
   "cell_type": "code",
   "execution_count": 0,
   "metadata": {
    "application/vnd.databricks.v1+cell": {
     "cellMetadata": {
      "byteLimit": 2048000,
      "rowLimit": 10000
     },
     "inputWidgets": {},
     "nuid": "f976e907-0bce-4745-ae7e-a752bd97b93e",
     "showTitle": false,
     "tableResultSettingsMap": {},
     "title": ""
    }
   },
   "outputs": [
    {
     "output_type": "display_data",
     "data": {
      "text/html": [
       "<style scoped>\n",
       "  .table-result-container {\n",
       "    max-height: 300px;\n",
       "    overflow: auto;\n",
       "  }\n",
       "  table, th, td {\n",
       "    border: 1px solid black;\n",
       "    border-collapse: collapse;\n",
       "  }\n",
       "  th, td {\n",
       "    padding: 5px;\n",
       "  }\n",
       "  th {\n",
       "    text-align: left;\n",
       "  }\n",
       "</style><div class='table-result-container'><table class='table-result'><thead style='background-color: white'><tr><th>productID</th><th>productName</th><th>subCategory</th><th>category</th><th>source</th><th>ingestionTimestamp</th></tr></thead><tbody><tr><td>1</td><td>ProductDemo</td><td>subCategory1</td><td>category1</td><td>source1</td><td>2024-09-12T13:47:25.778Z</td></tr></tbody></table></div>"
      ]
     },
     "metadata": {
      "application/vnd.databricks.v1+output": {
       "addedWidgets": {},
       "aggData": [],
       "aggError": "",
       "aggOverflow": false,
       "aggSchema": [],
       "aggSeriesLimitReached": false,
       "aggType": "",
       "arguments": {},
       "columnCustomDisplayInfos": {},
       "data": [
        [
         "1",
         "ProductDemo",
         "subCategory1",
         "category1",
         "source1",
         "2024-09-12T13:47:25.778Z"
        ]
       ],
       "datasetInfos": [],
       "dbfsResultPath": null,
       "isJsonSchema": true,
       "metadata": {},
       "overflow": false,
       "plotOptions": {
        "customPlotOptions": {},
        "displayType": "table",
        "pivotAggregation": null,
        "pivotColumns": null,
        "xColumns": null,
        "yColumns": null
       },
       "removedWidgets": [],
       "schema": [
        {
         "metadata": "{}",
         "name": "productID",
         "type": "\"string\""
        },
        {
         "metadata": "{}",
         "name": "productName",
         "type": "\"string\""
        },
        {
         "metadata": "{}",
         "name": "subCategory",
         "type": "\"string\""
        },
        {
         "metadata": "{}",
         "name": "category",
         "type": "\"string\""
        },
        {
         "metadata": "{}",
         "name": "source",
         "type": "\"string\""
        },
        {
         "metadata": "{}",
         "name": "ingestionTimestamp",
         "type": "\"timestamp\""
        }
       ],
       "type": "table"
      }
     },
     "output_type": "display_data"
    }
   ],
   "source": [
    "select * from psl_salesdev.silver.product_cleaned_deltademo\n",
    "where productID = '1'"
   ]
  },
  {
   "cell_type": "code",
   "execution_count": 0,
   "metadata": {
    "application/vnd.databricks.v1+cell": {
     "cellMetadata": {
      "byteLimit": 2048000,
      "rowLimit": 10000
     },
     "inputWidgets": {},
     "nuid": "e21be6e7-c247-4825-a3c6-ef6275fd91cb",
     "showTitle": false,
     "tableResultSettingsMap": {},
     "title": ""
    }
   },
   "outputs": [
    {
     "output_type": "display_data",
     "data": {
      "text/html": [
       "<style scoped>\n",
       "  .table-result-container {\n",
       "    max-height: 300px;\n",
       "    overflow: auto;\n",
       "  }\n",
       "  table, th, td {\n",
       "    border: 1px solid black;\n",
       "    border-collapse: collapse;\n",
       "  }\n",
       "  th, td {\n",
       "    padding: 5px;\n",
       "  }\n",
       "  th {\n",
       "    text-align: left;\n",
       "  }\n",
       "</style><div class='table-result-container'><table class='table-result'><thead style='background-color: white'><tr><th>count(1)</th></tr></thead><tbody><tr><td>1894</td></tr></tbody></table></div>"
      ]
     },
     "metadata": {
      "application/vnd.databricks.v1+output": {
       "addedWidgets": {},
       "aggData": [],
       "aggError": "",
       "aggOverflow": false,
       "aggSchema": [],
       "aggSeriesLimitReached": false,
       "aggType": "",
       "arguments": {},
       "columnCustomDisplayInfos": {},
       "data": [
        [
         1894
        ]
       ],
       "datasetInfos": [],
       "dbfsResultPath": null,
       "isJsonSchema": true,
       "metadata": {},
       "overflow": false,
       "plotOptions": {
        "customPlotOptions": {},
        "displayType": "table",
        "pivotAggregation": null,
        "pivotColumns": null,
        "xColumns": null,
        "yColumns": null
       },
       "removedWidgets": [],
       "schema": [
        {
         "metadata": "{}",
         "name": "count(1)",
         "type": "\"long\""
        }
       ],
       "type": "table"
      }
     },
     "output_type": "display_data"
    }
   ],
   "source": [
    "select count(*) from psl_salesdev.silver.product_cleaned_deltademo"
   ]
  },
  {
   "cell_type": "code",
   "execution_count": 0,
   "metadata": {
    "application/vnd.databricks.v1+cell": {
     "cellMetadata": {
      "byteLimit": 2048000,
      "rowLimit": 10000
     },
     "inputWidgets": {},
     "nuid": "10a6ddcb-2ea7-417e-827b-bf8fd338a597",
     "showTitle": false,
     "tableResultSettingsMap": {},
     "title": ""
    }
   },
   "outputs": [
    {
     "output_type": "display_data",
     "data": {
      "text/html": [
       "<style scoped>\n",
       "  .table-result-container {\n",
       "    max-height: 300px;\n",
       "    overflow: auto;\n",
       "  }\n",
       "  table, th, td {\n",
       "    border: 1px solid black;\n",
       "    border-collapse: collapse;\n",
       "  }\n",
       "  th, td {\n",
       "    padding: 5px;\n",
       "  }\n",
       "  th {\n",
       "    text-align: left;\n",
       "  }\n",
       "</style><div class='table-result-container'><table class='table-result'><thead style='background-color: white'><tr><th>num_affected_rows</th></tr></thead><tbody><tr><td>1</td></tr></tbody></table></div>"
      ]
     },
     "metadata": {
      "application/vnd.databricks.v1+output": {
       "addedWidgets": {},
       "aggData": [],
       "aggError": "",
       "aggOverflow": false,
       "aggSchema": [],
       "aggSeriesLimitReached": false,
       "aggType": "",
       "arguments": {},
       "columnCustomDisplayInfos": {},
       "data": [
        [
         1
        ]
       ],
       "datasetInfos": [],
       "dbfsResultPath": null,
       "isJsonSchema": true,
       "metadata": {},
       "overflow": false,
       "plotOptions": {
        "customPlotOptions": {},
        "displayType": "table",
        "pivotAggregation": null,
        "pivotColumns": null,
        "xColumns": null,
        "yColumns": null
       },
       "removedWidgets": [],
       "schema": [
        {
         "metadata": "{}",
         "name": "num_affected_rows",
         "type": "\"long\""
        }
       ],
       "type": "table"
      }
     },
     "output_type": "display_data"
    }
   ],
   "source": [
    "update psl_salesdev.silver.product_cleaned_deltademo\n",
    "set productName='Product_updated1'\n",
    "where productID='1'"
   ]
  },
  {
   "cell_type": "code",
   "execution_count": 0,
   "metadata": {
    "application/vnd.databricks.v1+cell": {
     "cellMetadata": {
      "byteLimit": 2048000,
      "rowLimit": 10000
     },
     "inputWidgets": {},
     "nuid": "27a27a7f-b733-4628-8384-9b32f78e122d",
     "showTitle": false,
     "tableResultSettingsMap": {},
     "title": ""
    }
   },
   "outputs": [
    {
     "output_type": "display_data",
     "data": {
      "text/html": [
       "<style scoped>\n",
       "  .table-result-container {\n",
       "    max-height: 300px;\n",
       "    overflow: auto;\n",
       "  }\n",
       "  table, th, td {\n",
       "    border: 1px solid black;\n",
       "    border-collapse: collapse;\n",
       "  }\n",
       "  th, td {\n",
       "    padding: 5px;\n",
       "  }\n",
       "  th {\n",
       "    text-align: left;\n",
       "  }\n",
       "</style><div class='table-result-container'><table class='table-result'><thead style='background-color: white'><tr><th>productID</th><th>productName</th><th>subCategory</th><th>category</th><th>source</th><th>ingestionTimestamp</th></tr></thead><tbody><tr><td>1</td><td>Product_updated1</td><td>subCategory1</td><td>category1</td><td>source1</td><td>2024-09-12T13:47:25.778Z</td></tr></tbody></table></div>"
      ]
     },
     "metadata": {
      "application/vnd.databricks.v1+output": {
       "addedWidgets": {},
       "aggData": [],
       "aggError": "",
       "aggOverflow": false,
       "aggSchema": [],
       "aggSeriesLimitReached": false,
       "aggType": "",
       "arguments": {},
       "columnCustomDisplayInfos": {},
       "data": [
        [
         "1",
         "Product_updated1",
         "subCategory1",
         "category1",
         "source1",
         "2024-09-12T13:47:25.778Z"
        ]
       ],
       "datasetInfos": [],
       "dbfsResultPath": null,
       "isJsonSchema": true,
       "metadata": {},
       "overflow": false,
       "plotOptions": {
        "customPlotOptions": {},
        "displayType": "table",
        "pivotAggregation": null,
        "pivotColumns": null,
        "xColumns": null,
        "yColumns": null
       },
       "removedWidgets": [],
       "schema": [
        {
         "metadata": "{}",
         "name": "productID",
         "type": "\"string\""
        },
        {
         "metadata": "{}",
         "name": "productName",
         "type": "\"string\""
        },
        {
         "metadata": "{}",
         "name": "subCategory",
         "type": "\"string\""
        },
        {
         "metadata": "{}",
         "name": "category",
         "type": "\"string\""
        },
        {
         "metadata": "{}",
         "name": "source",
         "type": "\"string\""
        },
        {
         "metadata": "{}",
         "name": "ingestionTimestamp",
         "type": "\"timestamp\""
        }
       ],
       "type": "table"
      }
     },
     "output_type": "display_data"
    }
   ],
   "source": [
    "select * from psl_salesdev.silver.product_cleaned_deltademo\n",
    "where productID = '1'"
   ]
  },
  {
   "cell_type": "markdown",
   "metadata": {
    "application/vnd.databricks.v1+cell": {
     "cellMetadata": {},
     "inputWidgets": {},
     "nuid": "b0614ddc-d3d4-4c25-9619-d4f4c921064e",
     "showTitle": false,
     "tableResultSettingsMap": {},
     "title": ""
    }
   },
   "source": [
    "####Describe Transaction history"
   ]
  },
  {
   "cell_type": "code",
   "execution_count": 0,
   "metadata": {
    "application/vnd.databricks.v1+cell": {
     "cellMetadata": {
      "byteLimit": 2048000,
      "rowLimit": 10000
     },
     "inputWidgets": {},
     "nuid": "7c92210d-16e2-47ca-aecf-3738507a5464",
     "showTitle": false,
     "tableResultSettingsMap": {},
     "title": ""
    }
   },
   "outputs": [
    {
     "output_type": "display_data",
     "data": {
      "text/html": [
       "<style scoped>\n",
       "  .table-result-container {\n",
       "    max-height: 300px;\n",
       "    overflow: auto;\n",
       "  }\n",
       "  table, th, td {\n",
       "    border: 1px solid black;\n",
       "    border-collapse: collapse;\n",
       "  }\n",
       "  th, td {\n",
       "    padding: 5px;\n",
       "  }\n",
       "  th {\n",
       "    text-align: left;\n",
       "  }\n",
       "</style><div class='table-result-container'><table class='table-result'><thead style='background-color: white'><tr><th>add</th><th>commitInfo</th></tr></thead><tbody><tr><td>null</td><td>Map(txnId -> 0bcf955b-de30-4446-91be-1cd428b833eb, timestamp -> 1726148851349, tags -> Map(noRowsCopied -> true, restoresDeletedRows -> false), job -> Map(jobId -> , runId -> ), operationMetrics -> Map(numFiles -> 1, numOutputBytes -> 1816, numOutputRows -> 1), isolationLevel -> WriteSerializable, operationParameters -> Map(mode -> Append, partitionBy -> [], statsOnLoad -> false), engineInfo -> Databricks-Runtime/15.3.x-photon-scala2.12, operation -> WRITE, isBlindAppend -> true, userId -> 6408908189935837, readVersion -> 0, userName -> vikas.rajpoot96@outlook.com)</td></tr><tr><td>Map(stats -> {\"numRecords\":1,\"minValues\":{\"productID\":\"1\",\"productName\":\"ProductDemo\",\"subCategory\":\"subCategory1\",\"category\":\"category1\",\"source\":\"source1\",\"ingestionTimestamp\":\"2024-09-12T13:47:25.778Z\"},\"maxValues\":{\"productID\":\"1\",\"productName\":\"ProductDemo\",\"subCategory\":\"subCategory1\",\"category\":\"category1\",\"source\":\"source1\",\"ingestionTimestamp\":\"2024-09-12T13:47:25.778Z\"},\"nullCount\":{\"productID\":0,\"productName\":0,\"subCategory\":0,\"category\":0,\"source\":0,\"ingestionTimestamp\":0},\"tightBounds\":true}, path -> part-00000-dd71a7f7-86a0-4137-b9b4-24347d50f2db.c000.snappy.parquet, size -> 1816, tags -> Map(INSERTION_TIME -> 1726148850000000, MAX_INSERTION_TIME -> 1726148850000000, MIN_INSERTION_TIME -> 1726148850000000, OPTIMIZE_TARGET_SIZE -> 268435456), modificationTime -> 1726148850000, dataChange -> true)</td><td>null</td></tr></tbody></table></div>"
      ]
     },
     "metadata": {
      "application/vnd.databricks.v1+output": {
       "addedWidgets": {},
       "aggData": [],
       "aggError": "",
       "aggOverflow": false,
       "aggSchema": [],
       "aggSeriesLimitReached": false,
       "aggType": "",
       "arguments": {},
       "columnCustomDisplayInfos": {},
       "data": [
        [
         null,
         {
          "engineInfo": "Databricks-Runtime/15.3.x-photon-scala2.12",
          "isBlindAppend": "true",
          "isolationLevel": "WriteSerializable",
          "job": "Map(jobId -> , runId -> )",
          "operation": "WRITE",
          "operationMetrics": "Map(numFiles -> 1, numOutputBytes -> 1816, numOutputRows -> 1)",
          "operationParameters": "Map(mode -> Append, partitionBy -> [], statsOnLoad -> false)",
          "readVersion": "0",
          "tags": "Map(noRowsCopied -> true, restoresDeletedRows -> false)",
          "timestamp": "1726148851349",
          "txnId": "0bcf955b-de30-4446-91be-1cd428b833eb",
          "userId": "6408908189935837",
          "userName": "vikas.rajpoot96@outlook.com"
         }
        ],
        [
         {
          "dataChange": "true",
          "modificationTime": "1726148850000",
          "path": "part-00000-dd71a7f7-86a0-4137-b9b4-24347d50f2db.c000.snappy.parquet",
          "size": "1816",
          "stats": "{\"numRecords\":1,\"minValues\":{\"productID\":\"1\",\"productName\":\"ProductDemo\",\"subCategory\":\"subCategory1\",\"category\":\"category1\",\"source\":\"source1\",\"ingestionTimestamp\":\"2024-09-12T13:47:25.778Z\"},\"maxValues\":{\"productID\":\"1\",\"productName\":\"ProductDemo\",\"subCategory\":\"subCategory1\",\"category\":\"category1\",\"source\":\"source1\",\"ingestionTimestamp\":\"2024-09-12T13:47:25.778Z\"},\"nullCount\":{\"productID\":0,\"productName\":0,\"subCategory\":0,\"category\":0,\"source\":0,\"ingestionTimestamp\":0},\"tightBounds\":true}",
          "tags": "Map(INSERTION_TIME -> 1726148850000000, MAX_INSERTION_TIME -> 1726148850000000, MIN_INSERTION_TIME -> 1726148850000000, OPTIMIZE_TARGET_SIZE -> 268435456)"
         },
         null
        ]
       ],
       "datasetInfos": [],
       "dbfsResultPath": null,
       "isJsonSchema": true,
       "metadata": {},
       "overflow": false,
       "plotOptions": {
        "customPlotOptions": {},
        "displayType": "table",
        "pivotAggregation": null,
        "pivotColumns": null,
        "xColumns": null,
        "yColumns": null
       },
       "removedWidgets": [],
       "schema": [
        {
         "metadata": "{}",
         "name": "add",
         "type": "{\"type\":\"map\",\"keyType\":\"\",\"valueType\":\"\"}"
        },
        {
         "metadata": "{}",
         "name": "commitInfo",
         "type": "{\"type\":\"map\",\"keyType\":\"\",\"valueType\":\"\"}"
        }
       ],
       "type": "table"
      }
     },
     "output_type": "display_data"
    }
   ],
   "source": [
    "select * from json.`abfss://sales@storageaccountname.dfs.core.windows.net/silver/product_cleaneddeltademo/_delta_log/00000000000000000001.json`"
   ]
  },
  {
   "cell_type": "code",
   "execution_count": 0,
   "metadata": {
    "application/vnd.databricks.v1+cell": {
     "cellMetadata": {
      "byteLimit": 2048000,
      "rowLimit": 10000
     },
     "inputWidgets": {},
     "nuid": "8624c15f-01dd-4e15-9a74-b62a7f6e4454",
     "showTitle": false,
     "tableResultSettingsMap": {},
     "title": ""
    }
   },
   "outputs": [
    {
     "output_type": "display_data",
     "data": {
      "text/html": [
       "<style scoped>\n",
       "  .table-result-container {\n",
       "    max-height: 300px;\n",
       "    overflow: auto;\n",
       "  }\n",
       "  table, th, td {\n",
       "    border: 1px solid black;\n",
       "    border-collapse: collapse;\n",
       "  }\n",
       "  th, td {\n",
       "    padding: 5px;\n",
       "  }\n",
       "  th {\n",
       "    text-align: left;\n",
       "  }\n",
       "</style><div class='table-result-container'><table class='table-result'><thead style='background-color: white'><tr><th>version</th><th>timestamp</th><th>userId</th><th>userName</th><th>operation</th><th>operationParameters</th><th>job</th><th>notebook</th><th>clusterId</th><th>readVersion</th><th>isolationLevel</th><th>isBlindAppend</th><th>operationMetrics</th><th>userMetadata</th><th>engineInfo</th></tr></thead><tbody><tr><td>2</td><td>2024-09-12T13:50:25.000Z</td><td>6408908189935837</td><td>vikas.rajpoot96@outlook.com</td><td>UPDATE</td><td>Map(predicate -> [\"(productID#2320 = 1)\"])</td><td>Map(jobName -> null, jobOwnerId -> null, jobId -> , jobRunId -> null, runId -> , triggerType -> null)</td><td>null</td><td>null</td><td>1</td><td>WriteSerializable</td><td>false</td><td>Map(numRemovedFiles -> 1, numRemovedBytes -> 1816, numCopiedRows -> 0, numDeletionVectorsAdded -> 0, numDeletionVectorsRemoved -> 0, numAddedChangeFiles -> 0, executionTimeMs -> 6472, numDeletionVectorsUpdated -> 0, scanTimeMs -> 2859, numAddedFiles -> 1, numUpdatedRows -> 1, numAddedBytes -> 1879, rewriteTimeMs -> 3592)</td><td>null</td><td>Databricks-Runtime/15.3.x-photon-scala2.12</td></tr><tr><td>1</td><td>2024-09-12T13:47:31.000Z</td><td>6408908189935837</td><td>vikas.rajpoot96@outlook.com</td><td>WRITE</td><td>Map(mode -> Append, statsOnLoad -> false, partitionBy -> [])</td><td>Map(jobName -> null, jobOwnerId -> null, jobId -> , jobRunId -> null, runId -> , triggerType -> null)</td><td>null</td><td>null</td><td>0</td><td>WriteSerializable</td><td>true</td><td>Map(numFiles -> 1, numOutputRows -> 1, numOutputBytes -> 1816)</td><td>null</td><td>Databricks-Runtime/15.3.x-photon-scala2.12</td></tr><tr><td>0</td><td>2024-09-12T13:46:19.000Z</td><td>6408908189935837</td><td>vikas.rajpoot96@outlook.com</td><td>CREATE OR REPLACE TABLE AS SELECT</td><td>Map(partitionBy -> [], clusterBy -> [], description -> null, isManaged -> false, properties -> {\"delta.checkpoint.writeStatsAsStruct\":\"true\",\"delta.checkpoint.writeStatsAsJson\":\"false\",\"delta.enableDeletionVectors\":\"true\"}, statsOnLoad -> false)</td><td>Map(jobName -> null, jobOwnerId -> null, jobId -> , jobRunId -> null, runId -> , triggerType -> null)</td><td>null</td><td>null</td><td>null</td><td>WriteSerializable</td><td>false</td><td>Map(numFiles -> 1, numOutputRows -> 1893, numOutputBytes -> 63454)</td><td>null</td><td>Databricks-Runtime/15.3.x-photon-scala2.12</td></tr></tbody></table></div>"
      ]
     },
     "metadata": {
      "application/vnd.databricks.v1+output": {
       "addedWidgets": {},
       "aggData": [],
       "aggError": "",
       "aggOverflow": false,
       "aggSchema": [],
       "aggSeriesLimitReached": false,
       "aggType": "",
       "arguments": {},
       "columnCustomDisplayInfos": {},
       "data": [
        [
         2,
         "2024-09-12T13:50:25.000Z",
         "6408908189935837",
         "vikas.rajpoot96@outlook.com",
         "UPDATE",
         {
          "predicate": "[\"(productID#2320 = 1)\"]"
         },
         {
          "jobId": "",
          "jobName": null,
          "jobOwnerId": null,
          "jobRunId": null,
          "runId": "",
          "triggerType": null
         },
         null,
         null,
         1,
         "WriteSerializable",
         false,
         {
          "executionTimeMs": "6472",
          "numAddedBytes": "1879",
          "numAddedChangeFiles": "0",
          "numAddedFiles": "1",
          "numCopiedRows": "0",
          "numDeletionVectorsAdded": "0",
          "numDeletionVectorsRemoved": "0",
          "numDeletionVectorsUpdated": "0",
          "numRemovedBytes": "1816",
          "numRemovedFiles": "1",
          "numUpdatedRows": "1",
          "rewriteTimeMs": "3592",
          "scanTimeMs": "2859"
         },
         null,
         "Databricks-Runtime/15.3.x-photon-scala2.12"
        ],
        [
         1,
         "2024-09-12T13:47:31.000Z",
         "6408908189935837",
         "vikas.rajpoot96@outlook.com",
         "WRITE",
         {
          "mode": "Append",
          "partitionBy": "[]",
          "statsOnLoad": "false"
         },
         {
          "jobId": "",
          "jobName": null,
          "jobOwnerId": null,
          "jobRunId": null,
          "runId": "",
          "triggerType": null
         },
         null,
         null,
         0,
         "WriteSerializable",
         true,
         {
          "numFiles": "1",
          "numOutputBytes": "1816",
          "numOutputRows": "1"
         },
         null,
         "Databricks-Runtime/15.3.x-photon-scala2.12"
        ],
        [
         0,
         "2024-09-12T13:46:19.000Z",
         "6408908189935837",
         "vikas.rajpoot96@outlook.com",
         "CREATE OR REPLACE TABLE AS SELECT",
         {
          "clusterBy": "[]",
          "description": null,
          "isManaged": "false",
          "partitionBy": "[]",
          "properties": "{\"delta.checkpoint.writeStatsAsStruct\":\"true\",\"delta.checkpoint.writeStatsAsJson\":\"false\",\"delta.enableDeletionVectors\":\"true\"}",
          "statsOnLoad": "false"
         },
         {
          "jobId": "",
          "jobName": null,
          "jobOwnerId": null,
          "jobRunId": null,
          "runId": "",
          "triggerType": null
         },
         null,
         null,
         null,
         "WriteSerializable",
         false,
         {
          "numFiles": "1",
          "numOutputBytes": "63454",
          "numOutputRows": "1893"
         },
         null,
         "Databricks-Runtime/15.3.x-photon-scala2.12"
        ]
       ],
       "datasetInfos": [],
       "dbfsResultPath": null,
       "isJsonSchema": true,
       "metadata": {},
       "overflow": false,
       "plotOptions": {
        "customPlotOptions": {},
        "displayType": "table",
        "pivotAggregation": null,
        "pivotColumns": null,
        "xColumns": null,
        "yColumns": null
       },
       "removedWidgets": [],
       "schema": [
        {
         "metadata": "{}",
         "name": "version",
         "type": "\"long\""
        },
        {
         "metadata": "{}",
         "name": "timestamp",
         "type": "\"timestamp\""
        },
        {
         "metadata": "{}",
         "name": "userId",
         "type": "\"string\""
        },
        {
         "metadata": "{}",
         "name": "userName",
         "type": "\"string\""
        },
        {
         "metadata": "{}",
         "name": "operation",
         "type": "\"string\""
        },
        {
         "metadata": "{}",
         "name": "operationParameters",
         "type": "{\"type\":\"map\",\"keyType\":\"\",\"valueType\":\"\"}"
        },
        {
         "metadata": "{}",
         "name": "job",
         "type": "{\"type\":\"map\",\"keyType\":\"\",\"valueType\":\"\"}"
        },
        {
         "metadata": "{}",
         "name": "notebook",
         "type": "{\"type\":\"map\",\"keyType\":\"\",\"valueType\":\"\"}"
        },
        {
         "metadata": "{}",
         "name": "clusterId",
         "type": "\"string\""
        },
        {
         "metadata": "{}",
         "name": "readVersion",
         "type": "\"long\""
        },
        {
         "metadata": "{}",
         "name": "isolationLevel",
         "type": "\"string\""
        },
        {
         "metadata": "{}",
         "name": "isBlindAppend",
         "type": "\"boolean\""
        },
        {
         "metadata": "{}",
         "name": "operationMetrics",
         "type": "{\"type\":\"map\",\"keyType\":\"\",\"valueType\":\"\"}"
        },
        {
         "metadata": "{}",
         "name": "userMetadata",
         "type": "\"string\""
        },
        {
         "metadata": "{}",
         "name": "engineInfo",
         "type": "\"string\""
        }
       ],
       "type": "table"
      }
     },
     "output_type": "display_data"
    }
   ],
   "source": [
    "describe history psl_salesdev.silver.product_cleaned_deltademo"
   ]
  },
  {
   "cell_type": "markdown",
   "metadata": {
    "application/vnd.databricks.v1+cell": {
     "cellMetadata": {},
     "inputWidgets": {},
     "nuid": "c7a94d8b-40fd-459f-88db-adde660a0dde",
     "showTitle": false,
     "tableResultSettingsMap": {},
     "title": ""
    }
   },
   "source": [
    "####Let us delete records"
   ]
  },
  {
   "cell_type": "code",
   "execution_count": 0,
   "metadata": {
    "application/vnd.databricks.v1+cell": {
     "cellMetadata": {
      "byteLimit": 2048000,
      "rowLimit": 10000
     },
     "inputWidgets": {},
     "nuid": "7a4d6e29-9e2f-4759-b87c-479bde092359",
     "showTitle": false,
     "tableResultSettingsMap": {},
     "title": ""
    }
   },
   "outputs": [
    {
     "output_type": "display_data",
     "data": {
      "text/html": [
       "<style scoped>\n",
       "  .table-result-container {\n",
       "    max-height: 300px;\n",
       "    overflow: auto;\n",
       "  }\n",
       "  table, th, td {\n",
       "    border: 1px solid black;\n",
       "    border-collapse: collapse;\n",
       "  }\n",
       "  th, td {\n",
       "    padding: 5px;\n",
       "  }\n",
       "  th {\n",
       "    text-align: left;\n",
       "  }\n",
       "</style><div class='table-result-container'><table class='table-result'><thead style='background-color: white'><tr><th>num_affected_rows</th></tr></thead><tbody><tr><td>1</td></tr></tbody></table></div>"
      ]
     },
     "metadata": {
      "application/vnd.databricks.v1+output": {
       "addedWidgets": {},
       "aggData": [],
       "aggError": "",
       "aggOverflow": false,
       "aggSchema": [],
       "aggSeriesLimitReached": false,
       "aggType": "",
       "arguments": {},
       "columnCustomDisplayInfos": {},
       "data": [
        [
         1
        ]
       ],
       "datasetInfos": [],
       "dbfsResultPath": null,
       "isJsonSchema": true,
       "metadata": {},
       "overflow": false,
       "plotOptions": {
        "customPlotOptions": {},
        "displayType": "table",
        "pivotAggregation": null,
        "pivotColumns": null,
        "xColumns": null,
        "yColumns": null
       },
       "removedWidgets": [],
       "schema": [
        {
         "metadata": "{}",
         "name": "num_affected_rows",
         "type": "\"long\""
        }
       ],
       "type": "table"
      }
     },
     "output_type": "display_data"
    }
   ],
   "source": [
    "delete from psl_salesdev.silver.product_cleaned_deltademo\n",
    "where productID = '1'"
   ]
  },
  {
   "cell_type": "code",
   "execution_count": 0,
   "metadata": {
    "application/vnd.databricks.v1+cell": {
     "cellMetadata": {
      "byteLimit": 2048000,
      "rowLimit": 10000
     },
     "inputWidgets": {},
     "nuid": "3094ea51-53b5-4752-8ad8-31fb5e4c811f",
     "showTitle": false,
     "tableResultSettingsMap": {},
     "title": ""
    }
   },
   "outputs": [
    {
     "output_type": "display_data",
     "data": {
      "text/html": [
       "<style scoped>\n",
       "  .table-result-container {\n",
       "    max-height: 300px;\n",
       "    overflow: auto;\n",
       "  }\n",
       "  table, th, td {\n",
       "    border: 1px solid black;\n",
       "    border-collapse: collapse;\n",
       "  }\n",
       "  th, td {\n",
       "    padding: 5px;\n",
       "  }\n",
       "  th {\n",
       "    text-align: left;\n",
       "  }\n",
       "</style><div class='table-result-container'><table class='table-result'><thead style='background-color: white'><tr><th>productID</th><th>productName</th><th>subCategory</th><th>category</th><th>source</th><th>ingestionTimestamp</th></tr></thead><tbody></tbody></table></div>"
      ]
     },
     "metadata": {
      "application/vnd.databricks.v1+output": {
       "addedWidgets": {},
       "aggData": [],
       "aggError": "",
       "aggOverflow": false,
       "aggSchema": [],
       "aggSeriesLimitReached": false,
       "aggType": "",
       "arguments": {},
       "columnCustomDisplayInfos": {},
       "data": [],
       "datasetInfos": [],
       "dbfsResultPath": null,
       "isJsonSchema": true,
       "metadata": {},
       "overflow": false,
       "plotOptions": {
        "customPlotOptions": {},
        "displayType": "table",
        "pivotAggregation": null,
        "pivotColumns": null,
        "xColumns": null,
        "yColumns": null
       },
       "removedWidgets": [],
       "schema": [
        {
         "metadata": "{}",
         "name": "productID",
         "type": "\"string\""
        },
        {
         "metadata": "{}",
         "name": "productName",
         "type": "\"string\""
        },
        {
         "metadata": "{}",
         "name": "subCategory",
         "type": "\"string\""
        },
        {
         "metadata": "{}",
         "name": "category",
         "type": "\"string\""
        },
        {
         "metadata": "{}",
         "name": "source",
         "type": "\"string\""
        },
        {
         "metadata": "{}",
         "name": "ingestionTimestamp",
         "type": "\"timestamp\""
        }
       ],
       "type": "table"
      }
     },
     "output_type": "display_data"
    }
   ],
   "source": [
    "select * from psl_salesdev.silver.product_cleaned_deltademo\n",
    "where productID = '1'"
   ]
  },
  {
   "cell_type": "markdown",
   "metadata": {
    "application/vnd.databricks.v1+cell": {
     "cellMetadata": {},
     "inputWidgets": {},
     "nuid": "e269bd55-819a-4651-b65c-7d0c60b6a4fc",
     "showTitle": false,
     "tableResultSettingsMap": {},
     "title": ""
    }
   },
   "source": [
    "###Lets just check the history log again"
   ]
  },
  {
   "cell_type": "code",
   "execution_count": 0,
   "metadata": {
    "application/vnd.databricks.v1+cell": {
     "cellMetadata": {
      "byteLimit": 2048000,
      "rowLimit": 10000
     },
     "inputWidgets": {},
     "nuid": "cd262a48-ded8-450f-8917-b478a5c71c43",
     "showTitle": false,
     "tableResultSettingsMap": {},
     "title": ""
    }
   },
   "outputs": [
    {
     "output_type": "display_data",
     "data": {
      "text/html": [
       "<style scoped>\n",
       "  .table-result-container {\n",
       "    max-height: 300px;\n",
       "    overflow: auto;\n",
       "  }\n",
       "  table, th, td {\n",
       "    border: 1px solid black;\n",
       "    border-collapse: collapse;\n",
       "  }\n",
       "  th, td {\n",
       "    padding: 5px;\n",
       "  }\n",
       "  th {\n",
       "    text-align: left;\n",
       "  }\n",
       "</style><div class='table-result-container'><table class='table-result'><thead style='background-color: white'><tr><th>version</th><th>timestamp</th><th>userId</th><th>userName</th><th>operation</th><th>operationParameters</th><th>job</th><th>notebook</th><th>clusterId</th><th>readVersion</th><th>isolationLevel</th><th>isBlindAppend</th><th>operationMetrics</th><th>userMetadata</th><th>engineInfo</th></tr></thead><tbody><tr><td>3</td><td>2024-09-12T14:07:54.000Z</td><td>6408908189935837</td><td>vikas.rajpoot96@outlook.com</td><td>DELETE</td><td>Map(predicate -> [\"(productID#1079 = 1)\"])</td><td>Map(jobName -> null, jobOwnerId -> null, jobId -> , jobRunId -> null, runId -> , triggerType -> null)</td><td>null</td><td>null</td><td>2</td><td>WriteSerializable</td><td>false</td><td>Map(numRemovedFiles -> 1, numRemovedBytes -> 1879, numCopiedRows -> 0, numDeletionVectorsAdded -> 0, numDeletionVectorsRemoved -> 0, numAddedChangeFiles -> 0, executionTimeMs -> 7073, numDeletionVectorsUpdated -> 0, numDeletedRows -> 1, scanTimeMs -> 6844, numAddedFiles -> 0, numAddedBytes -> 0, rewriteTimeMs -> 215)</td><td>null</td><td>Databricks-Runtime/15.3.x-photon-scala2.12</td></tr><tr><td>2</td><td>2024-09-12T13:50:25.000Z</td><td>6408908189935837</td><td>vikas.rajpoot96@outlook.com</td><td>UPDATE</td><td>Map(predicate -> [\"(productID#2320 = 1)\"])</td><td>Map(jobName -> null, jobOwnerId -> null, jobId -> , jobRunId -> null, runId -> , triggerType -> null)</td><td>null</td><td>null</td><td>1</td><td>WriteSerializable</td><td>false</td><td>Map(numRemovedFiles -> 1, numRemovedBytes -> 1816, numCopiedRows -> 0, numDeletionVectorsAdded -> 0, numDeletionVectorsRemoved -> 0, numAddedChangeFiles -> 0, executionTimeMs -> 6472, numDeletionVectorsUpdated -> 0, scanTimeMs -> 2859, numAddedFiles -> 1, numUpdatedRows -> 1, numAddedBytes -> 1879, rewriteTimeMs -> 3592)</td><td>null</td><td>Databricks-Runtime/15.3.x-photon-scala2.12</td></tr><tr><td>1</td><td>2024-09-12T13:47:31.000Z</td><td>6408908189935837</td><td>vikas.rajpoot96@outlook.com</td><td>WRITE</td><td>Map(mode -> Append, statsOnLoad -> false, partitionBy -> [])</td><td>Map(jobName -> null, jobOwnerId -> null, jobId -> , jobRunId -> null, runId -> , triggerType -> null)</td><td>null</td><td>null</td><td>0</td><td>WriteSerializable</td><td>true</td><td>Map(numFiles -> 1, numOutputRows -> 1, numOutputBytes -> 1816)</td><td>null</td><td>Databricks-Runtime/15.3.x-photon-scala2.12</td></tr><tr><td>0</td><td>2024-09-12T13:46:19.000Z</td><td>6408908189935837</td><td>vikas.rajpoot96@outlook.com</td><td>CREATE OR REPLACE TABLE AS SELECT</td><td>Map(partitionBy -> [], clusterBy -> [], description -> null, isManaged -> false, properties -> {\"delta.checkpoint.writeStatsAsStruct\":\"true\",\"delta.checkpoint.writeStatsAsJson\":\"false\",\"delta.enableDeletionVectors\":\"true\"}, statsOnLoad -> false)</td><td>Map(jobName -> null, jobOwnerId -> null, jobId -> , jobRunId -> null, runId -> , triggerType -> null)</td><td>null</td><td>null</td><td>null</td><td>WriteSerializable</td><td>false</td><td>Map(numFiles -> 1, numOutputRows -> 1893, numOutputBytes -> 63454)</td><td>null</td><td>Databricks-Runtime/15.3.x-photon-scala2.12</td></tr></tbody></table></div>"
      ]
     },
     "metadata": {
      "application/vnd.databricks.v1+output": {
       "addedWidgets": {},
       "aggData": [],
       "aggError": "",
       "aggOverflow": false,
       "aggSchema": [],
       "aggSeriesLimitReached": false,
       "aggType": "",
       "arguments": {},
       "columnCustomDisplayInfos": {},
       "data": [
        [
         3,
         "2024-09-12T14:07:54.000Z",
         "6408908189935837",
         "vikas.rajpoot96@outlook.com",
         "DELETE",
         {
          "predicate": "[\"(productID#1079 = 1)\"]"
         },
         {
          "jobId": "",
          "jobName": null,
          "jobOwnerId": null,
          "jobRunId": null,
          "runId": "",
          "triggerType": null
         },
         null,
         null,
         2,
         "WriteSerializable",
         false,
         {
          "executionTimeMs": "7073",
          "numAddedBytes": "0",
          "numAddedChangeFiles": "0",
          "numAddedFiles": "0",
          "numCopiedRows": "0",
          "numDeletedRows": "1",
          "numDeletionVectorsAdded": "0",
          "numDeletionVectorsRemoved": "0",
          "numDeletionVectorsUpdated": "0",
          "numRemovedBytes": "1879",
          "numRemovedFiles": "1",
          "rewriteTimeMs": "215",
          "scanTimeMs": "6844"
         },
         null,
         "Databricks-Runtime/15.3.x-photon-scala2.12"
        ],
        [
         2,
         "2024-09-12T13:50:25.000Z",
         "6408908189935837",
         "vikas.rajpoot96@outlook.com",
         "UPDATE",
         {
          "predicate": "[\"(productID#2320 = 1)\"]"
         },
         {
          "jobId": "",
          "jobName": null,
          "jobOwnerId": null,
          "jobRunId": null,
          "runId": "",
          "triggerType": null
         },
         null,
         null,
         1,
         "WriteSerializable",
         false,
         {
          "executionTimeMs": "6472",
          "numAddedBytes": "1879",
          "numAddedChangeFiles": "0",
          "numAddedFiles": "1",
          "numCopiedRows": "0",
          "numDeletionVectorsAdded": "0",
          "numDeletionVectorsRemoved": "0",
          "numDeletionVectorsUpdated": "0",
          "numRemovedBytes": "1816",
          "numRemovedFiles": "1",
          "numUpdatedRows": "1",
          "rewriteTimeMs": "3592",
          "scanTimeMs": "2859"
         },
         null,
         "Databricks-Runtime/15.3.x-photon-scala2.12"
        ],
        [
         1,
         "2024-09-12T13:47:31.000Z",
         "6408908189935837",
         "vikas.rajpoot96@outlook.com",
         "WRITE",
         {
          "mode": "Append",
          "partitionBy": "[]",
          "statsOnLoad": "false"
         },
         {
          "jobId": "",
          "jobName": null,
          "jobOwnerId": null,
          "jobRunId": null,
          "runId": "",
          "triggerType": null
         },
         null,
         null,
         0,
         "WriteSerializable",
         true,
         {
          "numFiles": "1",
          "numOutputBytes": "1816",
          "numOutputRows": "1"
         },
         null,
         "Databricks-Runtime/15.3.x-photon-scala2.12"
        ],
        [
         0,
         "2024-09-12T13:46:19.000Z",
         "6408908189935837",
         "vikas.rajpoot96@outlook.com",
         "CREATE OR REPLACE TABLE AS SELECT",
         {
          "clusterBy": "[]",
          "description": null,
          "isManaged": "false",
          "partitionBy": "[]",
          "properties": "{\"delta.checkpoint.writeStatsAsStruct\":\"true\",\"delta.checkpoint.writeStatsAsJson\":\"false\",\"delta.enableDeletionVectors\":\"true\"}",
          "statsOnLoad": "false"
         },
         {
          "jobId": "",
          "jobName": null,
          "jobOwnerId": null,
          "jobRunId": null,
          "runId": "",
          "triggerType": null
         },
         null,
         null,
         null,
         "WriteSerializable",
         false,
         {
          "numFiles": "1",
          "numOutputBytes": "63454",
          "numOutputRows": "1893"
         },
         null,
         "Databricks-Runtime/15.3.x-photon-scala2.12"
        ]
       ],
       "datasetInfos": [],
       "dbfsResultPath": null,
       "isJsonSchema": true,
       "metadata": {},
       "overflow": false,
       "plotOptions": {
        "customPlotOptions": {},
        "displayType": "table",
        "pivotAggregation": null,
        "pivotColumns": null,
        "xColumns": null,
        "yColumns": null
       },
       "removedWidgets": [],
       "schema": [
        {
         "metadata": "{}",
         "name": "version",
         "type": "\"long\""
        },
        {
         "metadata": "{}",
         "name": "timestamp",
         "type": "\"timestamp\""
        },
        {
         "metadata": "{}",
         "name": "userId",
         "type": "\"string\""
        },
        {
         "metadata": "{}",
         "name": "userName",
         "type": "\"string\""
        },
        {
         "metadata": "{}",
         "name": "operation",
         "type": "\"string\""
        },
        {
         "metadata": "{}",
         "name": "operationParameters",
         "type": "{\"type\":\"map\",\"keyType\":\"\",\"valueType\":\"\"}"
        },
        {
         "metadata": "{}",
         "name": "job",
         "type": "{\"type\":\"map\",\"keyType\":\"\",\"valueType\":\"\"}"
        },
        {
         "metadata": "{}",
         "name": "notebook",
         "type": "{\"type\":\"map\",\"keyType\":\"\",\"valueType\":\"\"}"
        },
        {
         "metadata": "{}",
         "name": "clusterId",
         "type": "\"string\""
        },
        {
         "metadata": "{}",
         "name": "readVersion",
         "type": "\"long\""
        },
        {
         "metadata": "{}",
         "name": "isolationLevel",
         "type": "\"string\""
        },
        {
         "metadata": "{}",
         "name": "isBlindAppend",
         "type": "\"boolean\""
        },
        {
         "metadata": "{}",
         "name": "operationMetrics",
         "type": "{\"type\":\"map\",\"keyType\":\"\",\"valueType\":\"\"}"
        },
        {
         "metadata": "{}",
         "name": "userMetadata",
         "type": "\"string\""
        },
        {
         "metadata": "{}",
         "name": "engineInfo",
         "type": "\"string\""
        }
       ],
       "type": "table"
      }
     },
     "output_type": "display_data"
    }
   ],
   "source": [
    "describe history psl_salesdev.silver.product_cleaned_deltademo"
   ]
  },
  {
   "cell_type": "markdown",
   "metadata": {
    "application/vnd.databricks.v1+cell": {
     "cellMetadata": {},
     "inputWidgets": {},
     "nuid": "1f777721-3510-4cbd-a005-0a6406bca51a",
     "showTitle": false,
     "tableResultSettingsMap": {},
     "title": ""
    }
   },
   "source": [
    "####Let us do the time travel"
   ]
  },
  {
   "cell_type": "code",
   "execution_count": 0,
   "metadata": {
    "application/vnd.databricks.v1+cell": {
     "cellMetadata": {
      "byteLimit": 2048000,
      "rowLimit": 10000
     },
     "inputWidgets": {},
     "nuid": "b1be720b-3335-4ba2-a404-5aa11cbba50a",
     "showTitle": false,
     "tableResultSettingsMap": {},
     "title": ""
    }
   },
   "outputs": [
    {
     "output_type": "display_data",
     "data": {
      "text/html": [
       "<style scoped>\n",
       "  .table-result-container {\n",
       "    max-height: 300px;\n",
       "    overflow: auto;\n",
       "  }\n",
       "  table, th, td {\n",
       "    border: 1px solid black;\n",
       "    border-collapse: collapse;\n",
       "  }\n",
       "  th, td {\n",
       "    padding: 5px;\n",
       "  }\n",
       "  th {\n",
       "    text-align: left;\n",
       "  }\n",
       "</style><div class='table-result-container'><table class='table-result'><thead style='background-color: white'><tr><th>productID</th><th>productName</th><th>subCategory</th><th>category</th><th>source</th><th>ingestionTimestamp</th></tr></thead><tbody></tbody></table></div>"
      ]
     },
     "metadata": {
      "application/vnd.databricks.v1+output": {
       "addedWidgets": {},
       "aggData": [],
       "aggError": "",
       "aggOverflow": false,
       "aggSchema": [],
       "aggSeriesLimitReached": false,
       "aggType": "",
       "arguments": {},
       "columnCustomDisplayInfos": {},
       "data": [],
       "datasetInfos": [],
       "dbfsResultPath": null,
       "isJsonSchema": true,
       "metadata": {},
       "overflow": false,
       "plotOptions": {
        "customPlotOptions": {},
        "displayType": "table",
        "pivotAggregation": null,
        "pivotColumns": null,
        "xColumns": null,
        "yColumns": null
       },
       "removedWidgets": [],
       "schema": [
        {
         "metadata": "{}",
         "name": "productID",
         "type": "\"string\""
        },
        {
         "metadata": "{}",
         "name": "productName",
         "type": "\"string\""
        },
        {
         "metadata": "{}",
         "name": "subCategory",
         "type": "\"string\""
        },
        {
         "metadata": "{}",
         "name": "category",
         "type": "\"string\""
        },
        {
         "metadata": "{}",
         "name": "source",
         "type": "\"string\""
        },
        {
         "metadata": "{}",
         "name": "ingestionTimestamp",
         "type": "\"timestamp\""
        }
       ],
       "type": "table"
      }
     },
     "output_type": "display_data"
    }
   ],
   "source": [
    "select * from psl_salesdev.silver.product_cleaned_deltademo\n",
    "where productID = '1'"
   ]
  },
  {
   "cell_type": "code",
   "execution_count": 0,
   "metadata": {
    "application/vnd.databricks.v1+cell": {
     "cellMetadata": {
      "byteLimit": 2048000,
      "rowLimit": 10000
     },
     "inputWidgets": {},
     "nuid": "471ffaa7-616f-4379-b9b1-aaa03158fedc",
     "showTitle": false,
     "tableResultSettingsMap": {},
     "title": ""
    }
   },
   "outputs": [
    {
     "output_type": "display_data",
     "data": {
      "text/html": [
       "<style scoped>\n",
       "  .table-result-container {\n",
       "    max-height: 300px;\n",
       "    overflow: auto;\n",
       "  }\n",
       "  table, th, td {\n",
       "    border: 1px solid black;\n",
       "    border-collapse: collapse;\n",
       "  }\n",
       "  th, td {\n",
       "    padding: 5px;\n",
       "  }\n",
       "  th {\n",
       "    text-align: left;\n",
       "  }\n",
       "</style><div class='table-result-container'><table class='table-result'><thead style='background-color: white'><tr><th>productID</th><th>productName</th><th>subCategory</th><th>category</th><th>source</th><th>ingestionTimestamp</th></tr></thead><tbody></tbody></table></div>"
      ]
     },
     "metadata": {
      "application/vnd.databricks.v1+output": {
       "addedWidgets": {},
       "aggData": [],
       "aggError": "",
       "aggOverflow": false,
       "aggSchema": [],
       "aggSeriesLimitReached": false,
       "aggType": "",
       "arguments": {},
       "columnCustomDisplayInfos": {},
       "data": [],
       "datasetInfos": [],
       "dbfsResultPath": null,
       "isJsonSchema": true,
       "metadata": {},
       "overflow": false,
       "plotOptions": {
        "customPlotOptions": {},
        "displayType": "table",
        "pivotAggregation": null,
        "pivotColumns": null,
        "xColumns": null,
        "yColumns": null
       },
       "removedWidgets": [],
       "schema": [
        {
         "metadata": "{}",
         "name": "productID",
         "type": "\"string\""
        },
        {
         "metadata": "{}",
         "name": "productName",
         "type": "\"string\""
        },
        {
         "metadata": "{}",
         "name": "subCategory",
         "type": "\"string\""
        },
        {
         "metadata": "{}",
         "name": "category",
         "type": "\"string\""
        },
        {
         "metadata": "{}",
         "name": "source",
         "type": "\"string\""
        },
        {
         "metadata": "{}",
         "name": "ingestionTimestamp",
         "type": "\"timestamp\""
        }
       ],
       "type": "table"
      }
     },
     "output_type": "display_data"
    }
   ],
   "source": [
    "select * from psl_salesdev.silver.product_cleaned_deltademo version as of 3\n",
    "where productID='1'"
   ]
  },
  {
   "cell_type": "markdown",
   "metadata": {
    "application/vnd.databricks.v1+cell": {
     "cellMetadata": {},
     "inputWidgets": {},
     "nuid": "1ebdff45-7080-4cd9-8d36-d74b6ee374a7",
     "showTitle": false,
     "tableResultSettingsMap": {},
     "title": ""
    }
   },
   "source": [
    "###time travel with specific timestamp"
   ]
  },
  {
   "cell_type": "code",
   "execution_count": 0,
   "metadata": {
    "application/vnd.databricks.v1+cell": {
     "cellMetadata": {
      "byteLimit": 2048000,
      "rowLimit": 10000
     },
     "inputWidgets": {},
     "nuid": "71631ddf-3c82-43f6-8ae0-300e7eb0caa0",
     "showTitle": false,
     "tableResultSettingsMap": {},
     "title": ""
    }
   },
   "outputs": [
    {
     "output_type": "display_data",
     "data": {
      "text/html": [
       "<style scoped>\n",
       "  .ansiout {\n",
       "    display: block;\n",
       "    unicode-bidi: embed;\n",
       "    white-space: pre-wrap;\n",
       "    word-wrap: break-word;\n",
       "    word-break: break-all;\n",
       "    font-family: \"Menlo\", \"Monaco\", \"Consolas\", \"Ubuntu Mono\", \"Source Code Pro\", monospace;\n",
       "    font-size: 13px;\n",
       "    color: #555;\n",
       "    margin-left: 4px;\n",
       "    line-height: 19px;\n",
       "  }\n",
       "</style>"
      ]
     },
     "metadata": {
      "application/vnd.databricks.v1+output": {
       "arguments": {},
       "data": "",
       "errorSummary": "The provided timestamp (2024-09-12 00:00:00.0) is before the earliest version available to this\ntable (2024-09-12 13:46:19.0). Please use a timestamp after 2024-09-12 13:46:19.",
       "errorTraceType": "raw",
       "metadata": {},
       "type": "ipynbError"
      }
     },
     "output_type": "display_data"
    }
   ],
   "source": [
    "select * from psl_salesdev.silver.product_cleaned_deltademo timestamp as of '2024-09-12'\n",
    "where productID='1'"
   ]
  },
  {
   "cell_type": "markdown",
   "metadata": {
    "application/vnd.databricks.v1+cell": {
     "cellMetadata": {},
     "inputWidgets": {},
     "nuid": "df43102f-5d05-498e-8af6-fb744d2a68d8",
     "showTitle": false,
     "tableResultSettingsMap": {},
     "title": ""
    }
   },
   "source": [
    "<b>Do you want to remove time travel feature?<br>\n",
    "\n",
    "\n",
    "####Vacuum command"
   ]
  },
  {
   "cell_type": "code",
   "execution_count": 0,
   "metadata": {
    "application/vnd.databricks.v1+cell": {
     "cellMetadata": {},
     "inputWidgets": {},
     "nuid": "a3ca42ef-3199-4693-832d-40c19f1ec5ca",
     "showTitle": false,
     "tableResultSettingsMap": {},
     "title": ""
    }
   },
   "outputs": [],
   "source": [
    "vacuum psl_salesdev.silver.product_cleaned_deltademo"
   ]
  }
 ],
 "metadata": {
  "application/vnd.databricks.v1+notebook": {
   "dashboards": [],
   "environmentMetadata": {
    "base_environment": "",
    "client": "1"
   },
   "language": "sql",
   "notebookMetadata": {
    "pythonIndentUnit": 4
   },
   "notebookName": "Delta-Demo",
   "widgets": {}
  },
  "language_info": {
   "name": "sql"
  }
 },
 "nbformat": 4,
 "nbformat_minor": 0
}
